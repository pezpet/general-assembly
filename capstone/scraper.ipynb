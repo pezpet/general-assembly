{
 "cells": [
  {
   "cell_type": "markdown",
   "metadata": {},
   "source": [
    "# Web Scraper"
   ]
  },
  {
   "cell_type": "markdown",
   "metadata": {},
   "source": [
    "## Imports"
   ]
  },
  {
   "cell_type": "code",
   "execution_count": 11,
   "metadata": {},
   "outputs": [],
   "source": [
    "import pandas as pd\n",
    "import numpy as np\n",
    "from requests import get\n",
    "import json\n",
    "from bs4 import BeautifulSoup\n",
    "import time\n",
    "\n"
   ]
  },
  {
   "cell_type": "markdown",
   "metadata": {},
   "source": [
    "## World Surf League Scores\n",
    "\n",
    "I'm going to focus on the Pipeline Masters first. It is the marquee event of the Championship Tour and is run every year (**verify**)."
   ]
  },
  {
   "cell_type": "markdown",
   "metadata": {},
   "source": [
    "### Get HTML soup and review"
   ]
  },
  {
   "cell_type": "code",
   "execution_count": null,
   "metadata": {},
   "outputs": [],
   "source": [
    "# Starting URLs\n",
    "pipe_2008_url = \"https://www.worldsurfleague.com/events/2008/mct/75/billabong-pipeline-masters?roundId=3\"\n",
    "res = get(pipe_2008_url)\n",
    "soup = BeautifulSoup(res.content)\n"
   ]
  },
  {
   "cell_type": "code",
   "execution_count": null,
   "metadata": {},
   "outputs": [
    {
     "data": {
      "text/plain": [
       "'1.73'"
      ]
     },
     "metadata": {},
     "output_type": "display_data"
    }
   ],
   "source": [
    "soup.find_all(\"div\", class_=\"all-waves all-waves-grid\")[0].find_all(\n",
    "    \"span\", class_=\"score\"\n",
    ")[3].text\n"
   ]
  },
  {
   "cell_type": "code",
   "execution_count": null,
   "metadata": {},
   "outputs": [
    {
     "data": {
      "text/plain": [
       "32"
      ]
     },
     "metadata": {},
     "output_type": "display_data"
    }
   ],
   "source": [
    "len(soup.find_all(\"div\", class_=\"all-waves all-waves-grid\"))\n"
   ]
  },
  {
   "cell_type": "code",
   "execution_count": null,
   "metadata": {},
   "outputs": [
    {
     "data": {
      "text/plain": [
       "'Kamalei Alexander'"
      ]
     },
     "metadata": {},
     "output_type": "display_data"
    }
   ],
   "source": [
    "soup.find_all(\"span\", class_=\"athlete-name\")[0].text\n"
   ]
  },
  {
   "cell_type": "code",
   "execution_count": null,
   "metadata": {},
   "outputs": [
    {
     "data": {
      "text/plain": [
       "32"
      ]
     },
     "metadata": {},
     "output_type": "display_data"
    }
   ],
   "source": [
    "len(soup.find_all(\"span\", class_=\"athlete-name\"))\n"
   ]
  },
  {
   "cell_type": "markdown",
   "metadata": {},
   "source": [
    "### Round 1"
   ]
  },
  {
   "cell_type": "code",
   "execution_count": 3,
   "metadata": {},
   "outputs": [],
   "source": [
    "# Starting URLs\n",
    "pipe_2008_url = \"https://www.worldsurfleague.com/events/2008/mct/75/billabong-pipeline-masters?roundId=3\"\n",
    "res = get(pipe_2008_url)\n",
    "soup = BeautifulSoup(res.content)\n"
   ]
  },
  {
   "cell_type": "code",
   "execution_count": null,
   "metadata": {},
   "outputs": [],
   "source": [
    "athletes = soup.find_all(\"span\", class_=\"athlete-name\")\n",
    "scores = soup.find_all(\"div\", class_=\"all-waves all-waves-grid\")\n"
   ]
  },
  {
   "cell_type": "code",
   "execution_count": null,
   "metadata": {},
   "outputs": [
    {
     "data": {
      "text/plain": [
       "[{'name': 'Kamalei Alexander', 'scores': [8.83, 6.83, 1.5]},\n",
       " {'name': 'Daniel Ross', 'scores': [9.93, 1.23]},\n",
       " {'name': 'Jesse Merle-Jones', 'scores': [2.83, 0.2, 1.57, 7.17]},\n",
       " {'name': 'Tj Barron', 'scores': [3.5, 1.83, 2.77, 0.27, 2.9, 1.8, 4.83, 0.5]},\n",
       " {'name': 'Ezra Sitt', 'scores': [1.33, 7.5, 3.83]},\n",
       " {'name': 'Daniel Jones', 'scores': [1.17, 5.67, 1.67, 1.63, 2.83, 1.4, 1.97]},\n",
       " {'name': 'Tory Barron',\n",
       "  'scores': [4.33, 6.17, 0.9, 7.67, 5.67, 1.5, 3.43, 1.33]},\n",
       " {'name': 'Royden Bryson',\n",
       "  'scores': [0.6, 3.33, 2.5, 1.6, 4.67, 6.17, 2.1, 4.43, 0.73]},\n",
       " {'name': 'Aritz Aranburu', 'scores': [1.33, 9.33, 3.27, 5.67, 4.33]},\n",
       " {'name': 'Kalani Chapman', 'scores': [4.17, 0.77, 4.27, 1.0, 7.33]},\n",
       " {'name': 'Dave Wassel', 'scores': [9.67, 3.67, 1.93]},\n",
       " {'name': 'Ricky Basnett', 'scores': [3.17, 0.83, 6.0]},\n",
       " {'name': 'Evan Valiere', 'scores': [1.83, 3.67, 2.57, 6.0, 1.97, 1.77, 6.57]},\n",
       " {'name': 'Olamana Eleogram', 'scores': [0.27, 7.67, 0.33, 4.67, 0.83]},\n",
       " {'name': 'John John Florence',\n",
       "  'scores': [0.93, 7.33, 8.17, 1.73, 0.93, 9.73, 5.83, 0.87, 2.0, 3.83, 0.57]},\n",
       " {'name': 'Jay Thompson',\n",
       "  'scores': [1.33, 6.67, 1.0, 1.23, 7.73, 2.6, 1.13, 0.23, 0.67]},\n",
       " {'name': 'Torrey Meister',\n",
       "  'scores': [6.67, 6.17, 0.37, 1.17, 1.17, 6.67, 1.9, 0.27, 9.67]},\n",
       " {'name': 'Rodrigo Dornelles', 'scores': [5.33, 3.17, 1.33, 1.2]},\n",
       " {'name': \"Jamie O'Brien\", 'scores': [2.17, 5.0, 6.67, 4.57, 7.83, 1.3, 1.6]},\n",
       " {'name': 'Dustin Barca', 'scores': [5.17, 1.07, 6.33, 1.27]},\n",
       " {'name': 'Mark Healey', 'scores': [2.0, 2.5, 4.17, 4.67, 1.47, 6.5]},\n",
       " {'name': 'Jihad Khodr', 'scores': [1.0, 0.93, 4.5, 3.23]},\n",
       " {'name': 'Dusty Payne', 'scores': [8.83, 8.77, 3.83, 5.17, 4.83]},\n",
       " {'name': 'Manoa Drollet', 'scores': [0.5, 4.17, 1.17, 2.83, 4.67, 6.33]},\n",
       " {'name': 'Daniel Wills', 'scores': [7.17, 3.0, 2.07, 8.33, 3.1, 7.27, 2.57]},\n",
       " {'name': 'Laurie Towner', 'scores': [3.17, 1.5, 4.67, 8.0, 2.5, 0.23]},\n",
       " {'name': 'Makuakai Rothman', 'scores': [5.67, 2.23, 1.77, 8.33, 8.23]},\n",
       " {'name': 'Teale Vanner', 'scores': [8.33, 8.23]},\n",
       " {'name': 'Shane Dorian', 'scores': [2.43, 8.93, 7.5, 0.97]},\n",
       " {'name': 'Gregoire Sylvain', 'scores': [8.93, 7.5]},\n",
       " {'name': 'Marcus Hickman',\n",
       "  'scores': [1.5, 6.33, 1.9, 1.47, 2.07, 1.27, 6.03, 1.57]},\n",
       " {'name': 'Mark Occhilupo',\n",
       "  'scores': [3.17, 3.17, 4.17, 3.3, 4.67, 4.0, 3.23, 4.37, 6.77]}]"
      ]
     },
     "execution_count": 8,
     "metadata": {},
     "output_type": "execute_result"
    }
   ],
   "source": [
    "round_1 = []\n",
    "for i in range(len(athletes)):\n",
    "    athlete_scores = {}\n",
    "    athlete_scores[\"name\"] = soup.find_all(\"span\", class_=\"athlete-name\")[i].text\n",
    "    athlete_scores[\"scores\"] = []\n",
    "    for b in range(len(scores[i].find_all(\"span\", class_=\"score\"))):\n",
    "        try:\n",
    "            athlete_scores[\"scores\"].append(\n",
    "                float(scores[i].find_all(\"span\", class_=\"score\")[b].text)\n",
    "            )\n",
    "        except:\n",
    "            continue\n",
    "    round_1.append(athlete_scores)\n",
    "\n",
    "round_1\n"
   ]
  },
  {
   "cell_type": "markdown",
   "metadata": {},
   "source": [
    "### Generalize for all rounds"
   ]
  },
  {
   "cell_type": "code",
   "execution_count": 16,
   "metadata": {},
   "outputs": [],
   "source": [
    "roundids = {\n",
    "    3: \"round_1\",\n",
    "    4: \"round_2\",\n",
    "    5: \"round_3\",\n",
    "    6: \"round_4\",\n",
    "    7: \"quarter\",\n",
    "    52: \"semi\",\n",
    "    77: \"final\",\n",
    "}  # roundIds do not follow a strict logical order\n",
    "\n",
    "event_name = \"2008 Pipeline\"\n",
    "data = []\n",
    "\n",
    "for roundid, round_name in roundids.items():\n",
    "    url = f\"https://www.worldsurfleague.com/events/2008/mct/75/billabong-pipeline-masters?roundId={roundid}\"\n",
    "    res = get(url)\n",
    "    soup = BeautifulSoup(res.content)\n",
    "    athletes = soup.find_all(\"span\", class_=\"athlete-name\")\n",
    "    scores = soup.find_all(\"div\", class_=\"all-waves all-waves-grid\")\n",
    "\n",
    "    for i in range(len(athletes)):\n",
    "        athlete_scores = {}\n",
    "        athlete_scores[\"event\"] = event_name\n",
    "        athlete_scores[\"round\"] = round_name\n",
    "        athlete_scores[\"name\"] = soup.find_all(\"span\", class_=\"athlete-name\")[i].text\n",
    "        athlete_scores[\"scores\"] = []\n",
    "        for b in range(len(scores[i].find_all(\"span\", class_=\"score\"))):\n",
    "            try:\n",
    "                athlete_scores[\"scores\"].append(\n",
    "                    float(scores[i].find_all(\"span\", class_=\"score\")[b].text)\n",
    "                )\n",
    "            except:\n",
    "                continue\n",
    "\n",
    "        data.append(athlete_scores)\n",
    "\n",
    "    time.sleep(3)\n"
   ]
  },
  {
   "cell_type": "code",
   "execution_count": 17,
   "metadata": {},
   "outputs": [
    {
     "data": {
      "text/html": [
       "<div>\n",
       "<style scoped>\n",
       "    .dataframe tbody tr th:only-of-type {\n",
       "        vertical-align: middle;\n",
       "    }\n",
       "\n",
       "    .dataframe tbody tr th {\n",
       "        vertical-align: top;\n",
       "    }\n",
       "\n",
       "    .dataframe thead th {\n",
       "        text-align: right;\n",
       "    }\n",
       "</style>\n",
       "<table border=\"1\" class=\"dataframe\">\n",
       "  <thead>\n",
       "    <tr style=\"text-align: right;\">\n",
       "      <th></th>\n",
       "      <th>event</th>\n",
       "      <th>round</th>\n",
       "      <th>name</th>\n",
       "      <th>scores</th>\n",
       "    </tr>\n",
       "  </thead>\n",
       "  <tbody>\n",
       "    <tr>\n",
       "      <th>0</th>\n",
       "      <td>2008 Pipeline</td>\n",
       "      <td>round_1</td>\n",
       "      <td>Kamalei Alexander</td>\n",
       "      <td>[8.83, 6.83, 1.5]</td>\n",
       "    </tr>\n",
       "    <tr>\n",
       "      <th>1</th>\n",
       "      <td>2008 Pipeline</td>\n",
       "      <td>round_1</td>\n",
       "      <td>Daniel Ross</td>\n",
       "      <td>[9.93, 1.23]</td>\n",
       "    </tr>\n",
       "    <tr>\n",
       "      <th>2</th>\n",
       "      <td>2008 Pipeline</td>\n",
       "      <td>round_1</td>\n",
       "      <td>Jesse Merle-Jones</td>\n",
       "      <td>[2.83, 0.2, 1.57, 7.17]</td>\n",
       "    </tr>\n",
       "    <tr>\n",
       "      <th>3</th>\n",
       "      <td>2008 Pipeline</td>\n",
       "      <td>round_1</td>\n",
       "      <td>Tj Barron</td>\n",
       "      <td>[3.5, 1.83, 2.77, 0.27, 2.9, 1.8, 4.83, 0.5]</td>\n",
       "    </tr>\n",
       "    <tr>\n",
       "      <th>4</th>\n",
       "      <td>2008 Pipeline</td>\n",
       "      <td>round_1</td>\n",
       "      <td>Ezra Sitt</td>\n",
       "      <td>[1.33, 7.5, 3.83]</td>\n",
       "    </tr>\n",
       "    <tr>\n",
       "      <th>...</th>\n",
       "      <td>...</td>\n",
       "      <td>...</td>\n",
       "      <td>...</td>\n",
       "      <td>...</td>\n",
       "    </tr>\n",
       "    <tr>\n",
       "      <th>122</th>\n",
       "      <td>2008 Pipeline</td>\n",
       "      <td>semi</td>\n",
       "      <td>Tim Reyes</td>\n",
       "      <td>[2.07, 2.57, 6.5, 9.1, 5.67]</td>\n",
       "    </tr>\n",
       "    <tr>\n",
       "      <th>123</th>\n",
       "      <td>2008 Pipeline</td>\n",
       "      <td>semi</td>\n",
       "      <td>Chris Ward</td>\n",
       "      <td>[6.83, 1.13, 1.23, 9.63, 4.5, 1.5]</td>\n",
       "    </tr>\n",
       "    <tr>\n",
       "      <th>124</th>\n",
       "      <td>2008 Pipeline</td>\n",
       "      <td>semi</td>\n",
       "      <td>Adrian Buchan</td>\n",
       "      <td>[4.33, 1.0, 1.43, 1.4, 3.5, 5.83, 2.67, 0.2]</td>\n",
       "    </tr>\n",
       "    <tr>\n",
       "      <th>125</th>\n",
       "      <td>2008 Pipeline</td>\n",
       "      <td>final</td>\n",
       "      <td>Kelly Slater</td>\n",
       "      <td>[1.4, 2.0, 7.17, 0.73, 1.1, 1.0, 6.83]</td>\n",
       "    </tr>\n",
       "    <tr>\n",
       "      <th>126</th>\n",
       "      <td>2008 Pipeline</td>\n",
       "      <td>final</td>\n",
       "      <td>Chris Ward</td>\n",
       "      <td>[0.87, 2.33, 3.5, 3.73, 0.67]</td>\n",
       "    </tr>\n",
       "  </tbody>\n",
       "</table>\n",
       "<p>127 rows × 4 columns</p>\n",
       "</div>"
      ],
      "text/plain": [
       "             event    round               name  \\\n",
       "0    2008 Pipeline  round_1  Kamalei Alexander   \n",
       "1    2008 Pipeline  round_1        Daniel Ross   \n",
       "2    2008 Pipeline  round_1  Jesse Merle-Jones   \n",
       "3    2008 Pipeline  round_1          Tj Barron   \n",
       "4    2008 Pipeline  round_1          Ezra Sitt   \n",
       "..             ...      ...                ...   \n",
       "122  2008 Pipeline     semi          Tim Reyes   \n",
       "123  2008 Pipeline     semi         Chris Ward   \n",
       "124  2008 Pipeline     semi      Adrian Buchan   \n",
       "125  2008 Pipeline    final       Kelly Slater   \n",
       "126  2008 Pipeline    final         Chris Ward   \n",
       "\n",
       "                                           scores  \n",
       "0                               [8.83, 6.83, 1.5]  \n",
       "1                                    [9.93, 1.23]  \n",
       "2                         [2.83, 0.2, 1.57, 7.17]  \n",
       "3    [3.5, 1.83, 2.77, 0.27, 2.9, 1.8, 4.83, 0.5]  \n",
       "4                               [1.33, 7.5, 3.83]  \n",
       "..                                            ...  \n",
       "122                  [2.07, 2.57, 6.5, 9.1, 5.67]  \n",
       "123            [6.83, 1.13, 1.23, 9.63, 4.5, 1.5]  \n",
       "124  [4.33, 1.0, 1.43, 1.4, 3.5, 5.83, 2.67, 0.2]  \n",
       "125        [1.4, 2.0, 7.17, 0.73, 1.1, 1.0, 6.83]  \n",
       "126                 [0.87, 2.33, 3.5, 3.73, 0.67]  \n",
       "\n",
       "[127 rows x 4 columns]"
      ]
     },
     "execution_count": 17,
     "metadata": {},
     "output_type": "execute_result"
    }
   ],
   "source": [
    "pd.DataFrame(data)"
   ]
  },
  {
   "cell_type": "markdown",
   "metadata": {},
   "source": [
    "### Generalize to a function for all events"
   ]
  },
  {
   "cell_type": "code",
   "execution_count": 30,
   "metadata": {},
   "outputs": [],
   "source": [
    "events = [\n",
    "    {\n",
    "        \"name\": \"2008 Pipeline\",\n",
    "        'url': 'https://www.worldsurfleague.com/events/2008/mct/75/billabong-pipeline-masters?roundId=',\n",
    "        \"rounds\": {\n",
    "            3: \"round_1\",\n",
    "            4: \"round_2\",\n",
    "            5: \"round_3\",\n",
    "            6: \"round_4\",\n",
    "            7: \"quarter\",\n",
    "            52: \"semi\",\n",
    "            77: \"final\",\n",
    "        },\n",
    "    },\n",
    "    {\n",
    "        \"name\": \"2008 Gold Coast\",\n",
    "        'url': 'https://www.worldsurfleague.com/events/2008/mct/4/quiksilver-pro-gold-coast?roundId=',\n",
    "        \"rounds\": {\n",
    "            16: \"round_1\",\n",
    "            36: \"round_2\",\n",
    "            20: \"round_3\",\n",
    "            42: \"round_4\",\n",
    "            48: \"quarter\",\n",
    "            69: \"semi\",\n",
    "            71: \"final\",\n",
    "        },\n",
    "    },\n",
    "    {\n",
    "        \"name\": \"2008 Bells Beach\",\n",
    "        'url': 'https://www.worldsurfleague.com/events/2008/mct/8/rip-curl-pro-bells-beach?roundId=',\n",
    "        \"rounds\": {\n",
    "            31: \"round_1\",\n",
    "            10: \"round_2\",\n",
    "            50: \"round_3\",\n",
    "            56: \"round_4\",\n",
    "            60: \"quarter\",\n",
    "            64: \"semi\",\n",
    "            68: \"final\",\n",
    "        },\n",
    "    },\n",
    "    {\n",
    "        \"name\": \"2008 Teahupoo\",\n",
    "        'url': 'https://www.worldsurfleague.com/events/2008/mct/20/billabong-pro-teahupoo?roundId=',\n",
    "        \"rounds\": {\n",
    "            8: \"round_1\",\n",
    "            35: \"round_2\",\n",
    "            30: \"round_3\",\n",
    "            43: \"round_4\",\n",
    "            51: \"quarter\",\n",
    "            65: \"semi\",\n",
    "            66: \"final\",\n",
    "        },\n",
    "    },\n",
    "]\n",
    "\n",
    "\n",
    "def get_scores(event_dict=events):\n",
    "    \"\"\"Takes a dict of World Surf League Events, URLs and roundIds and scrapes the scores\"\"\"\n",
    "    data = []\n",
    "\n",
    "    for event in events:\n",
    "        event_name = event[\"name\"]\n",
    "        url = event['url']\n",
    "        for roundid, round_name in event[\"rounds\"].items():\n",
    "            url += str(roundid)\n",
    "            res = get(url)\n",
    "            soup = BeautifulSoup(res.content)\n",
    "            athletes = soup.find_all(\"span\", class_=\"athlete-name\")\n",
    "            scores = soup.find_all(\"div\", class_=\"all-waves all-waves-grid\")\n",
    "\n",
    "            for i in range(len(athletes)):\n",
    "                athlete_scores = {}\n",
    "                athlete_scores[\"event\"] = event_name\n",
    "                athlete_scores[\"round\"] = round_name\n",
    "                athlete_scores[\"name\"] = soup.find_all(\"span\", class_=\"athlete-name\")[\n",
    "                    i\n",
    "                ].text\n",
    "                athlete_scores[\"scores\"] = []\n",
    "                for b in range(len(scores[i].find_all(\"span\", class_=\"score\"))):\n",
    "                    try:\n",
    "                        athlete_scores[\"scores\"].append(\n",
    "                            float(scores[i].find_all(\"span\", class_=\"score\")[b].text)\n",
    "                        )\n",
    "                    except:\n",
    "                        continue\n",
    "\n",
    "                data.append(athlete_scores)\n",
    "                \n",
    "            time.sleep(5)\n",
    "\n",
    "    return pd.DataFrame(data)\n"
   ]
  },
  {
   "cell_type": "code",
   "execution_count": 31,
   "metadata": {},
   "outputs": [],
   "source": [
    "data = get_scores(event_dict=events)\n",
    "data.to_csv('./data/scores_2008.csv', index=False)\n",
    "data"
   ]
  },
  {
   "cell_type": "markdown",
   "metadata": {},
   "source": [
    "### Round 2"
   ]
  },
  {
   "cell_type": "markdown",
   "metadata": {},
   "source": []
  },
  {
   "cell_type": "code",
   "execution_count": null,
   "metadata": {},
   "outputs": [],
   "source": [
    "# Round 2\n",
    "pipe_2008_url_2 = \"https://www.worldsurfleague.com/events/2008/mct/75/billabong-pipeline-masters?roundId=4\"\n",
    "res = get(pipe_2008_url_2)\n",
    "soup = BeautifulSoup(res.content)\n"
   ]
  },
  {
   "cell_type": "code",
   "execution_count": null,
   "metadata": {},
   "outputs": [],
   "source": [
    "athletes = soup.find_all(\"span\", class_=\"athlete-name\")\n",
    "scores = soup.find_all(\"div\", class_=\"all-waves all-waves-grid\")\n"
   ]
  },
  {
   "cell_type": "code",
   "execution_count": null,
   "metadata": {},
   "outputs": [
    {
     "data": {
      "text/plain": [
       "[{'name': 'Kamalei Alexander', 'scores': [6.33, 3.0, 5.57, 5.07, 0.67]},\n",
       " {'name': 'Mikael Picon', 'scores': [2.67, 1.0, 5.17, 5.77, 5.9, 4.43]},\n",
       " {'name': 'Evan Valiere', 'scores': [2.67, 0.57, 1.57, 5.5, 1.67, 1.37, 9.07]},\n",
       " {'name': 'Mick Campbell', 'scores': [1.5, 3.17, 5.67, 1.0, 8.67]},\n",
       " {'name': \"Jamie O'Brien\",\n",
       "  'scores': [5.0, 6.0, 1.33, 3.83, 1.73, 2.23, 5.73, 9.0]},\n",
       " {'name': 'Roy Powers', 'scores': [4.17, 6.67, 2.2]},\n",
       " {'name': 'Chris Ward',\n",
       "  'scores': [4.5, 2.83, 9.93, 5.17, 1.07, 0.93, 2.33, 9.97, 1.83, 1.77]},\n",
       " {'name': 'Tory Barron', 'scores': [1.17, 8.33, 0.93, 1.9, 3.4]},\n",
       " {'name': 'Damien Hobgood', 'scores': [4.83, 2.5, 5.5, 5.57, 4.5, 8.83, 6.4]},\n",
       " {'name': 'Dave Wassel', 'scores': [1.5, 0.2, 2.2, 0.53, 3.83, 6.07]},\n",
       " {'name': 'Dusty Payne',\n",
       "  'scores': [1.17, 1.6, 0.73, 2.17, 1.73, 8.83, 2.93, 6.33, 8.33, 6.83]},\n",
       " {'name': 'Heitor Alves', 'scores': [1.07, 0.43, 2.0, 3.5, 0.83, 8.37]},\n",
       " {'name': 'Daniel Wills', 'scores': [7.83, 0.43, 1.8, 8.43, 5.17, 6.67, 0.97]},\n",
       " {'name': 'Leonardo Neves',\n",
       "  'scores': [1.5, 1.7, 1.4, 0.83, 5.33, 0.23, 6.77, 3.1]},\n",
       " {'name': 'Ezra Sitt', 'scores': [6.33, 1.1, 5.33, 1.17, 6.67]},\n",
       " {'name': 'Dayyan Neve', 'scores': [0.67, 3.67, 7.17, 2.93, 2.07]},\n",
       " {'name': 'Kieren Perrow', 'scores': [8.33, 2.33, 9.17, 4.0]},\n",
       " {'name': 'John John Florence', 'scores': [6.17, 1.67, 0.83, 6.5, 8.33]},\n",
       " {'name': 'Aritz Aranburu', 'scores': [1.9, 4.83, 0.9, 9.67, 6.57]},\n",
       " {'name': 'Pancho Sullivan',\n",
       "  'scores': [4.0, 2.5, 5.33, 0.83, 1.83, 8.67, 7.17, 2.17]},\n",
       " {'name': 'Tim Reyes', 'scores': [0.6, 8.0]},\n",
       " {'name': 'Mark Healey', 'scores': [1.67, 1.17, 2.27]},\n",
       " {'name': 'Marcus Hickman', 'scores': [0.2, 2.0, 1.93, 2.9, 6.5, 5.33, 1.2]},\n",
       " {'name': 'Ben Dunn', 'scores': [4.67, 0.43, 0.73, 5.13]},\n",
       " {'name': 'Bruce Irons', 'scores': [1.33, 7.67, 2.67, 9.87, 2.1, 7.33]},\n",
       " {'name': 'Torrey Meister', 'scores': [3.67, 0.33, 9.7, 2.67, 2.87]},\n",
       " {'name': 'Kekoa Bacalso', 'scores': [7.17, 7.67, 0.77, 7.43, 1.93]},\n",
       " {'name': 'Makuakai Rothman', 'scores': [2.5, 0.63, 5.5, 7.0, 5.67, 1.93]},\n",
       " {'name': 'Shane Dorian', 'scores': [5.17, 1.17, 7.83]},\n",
       " {'name': 'Gregoire Sylvain', 'scores': [5.17, 7.83]},\n",
       " {'name': 'Dean Morrison',\n",
       "  'scores': [1.33, 0.67, 0.73, 0.33, 1.6, 1.67, 9.73, 4.5]},\n",
       " {'name': 'Jesse Merle-Jones', 'scores': [1.33, 1.77, 2.57, 1.23, 4.67]}]"
      ]
     },
     "execution_count": 11,
     "metadata": {},
     "output_type": "execute_result"
    }
   ],
   "source": [
    "round_2 = []\n",
    "for i in range(len(athletes)):\n",
    "    athlete_scores = {}\n",
    "    athlete_scores[\"name\"] = soup.find_all(\"span\", class_=\"athlete-name\")[i].text\n",
    "    athlete_scores[\"scores\"] = []\n",
    "    for b in range(len(scores[i].find_all(\"span\", class_=\"score\"))):\n",
    "        try:\n",
    "            athlete_scores[\"scores\"].append(\n",
    "                float(scores[i].find_all(\"span\", class_=\"score\")[b].text)\n",
    "            )\n",
    "        except:\n",
    "            continue\n",
    "    round_2.append(athlete_scores)\n",
    "\n",
    "round_2\n"
   ]
  },
  {
   "cell_type": "markdown",
   "metadata": {},
   "source": [
    "### Round 3"
   ]
  },
  {
   "cell_type": "code",
   "execution_count": null,
   "metadata": {},
   "outputs": [],
   "source": [
    "# Round 3\n",
    "pipe_2008_url_3 = \"https://www.worldsurfleague.com/events/2008/mct/75/billabong-pipeline-masters?roundId=5\"\n",
    "res = get(pipe_2008_url_3)\n",
    "soup = BeautifulSoup(res.content)\n"
   ]
  },
  {
   "cell_type": "code",
   "execution_count": null,
   "metadata": {},
   "outputs": [],
   "source": [
    "athletes = soup.find_all(\"span\", class_=\"athlete-name\")\n",
    "scores = soup.find_all(\"div\", class_=\"all-waves all-waves-grid\")\n"
   ]
  },
  {
   "cell_type": "code",
   "execution_count": null,
   "metadata": {},
   "outputs": [
    {
     "data": {
      "text/plain": [
       "[{'name': 'Marcus Hickman', 'scores': [7.33, 3.17, 7.23, 1.1]},\n",
       " {'name': 'Mick Fanning', 'scores': [2.17, 0.4, 5.5, 8.33, 0.23]},\n",
       " {'name': 'Luke Stedman', 'scores': [0.33, 4.67, 2.67]},\n",
       " {'name': 'Damien Hobgood', 'scores': [1.83, 0.83, 3.67, 0.87]},\n",
       " {'name': 'Joel Parkinson',\n",
       "  'scores': [2.83, 8.67, 10.0, 0.23, 1.67, 10.0, 2.07]},\n",
       " {'name': 'Dusty Payne', 'scores': [1.17, 5.83, 9.33, 1.23, 0.57]},\n",
       " {'name': 'Tim Reyes', 'scores': [2.5, 7.0, 3.17, 7.83]},\n",
       " {'name': 'Freddy Patacchia Jr.', 'scores': [3.83, 6.73, 1.27, 0.97]},\n",
       " {'name': 'Kelly Slater',\n",
       "  'scores': [1.33, 1.1, 5.0, 8.17, 1.9, 0.23, 8.67, 9.1]},\n",
       " {'name': 'Ezra Sitt', 'scores': [1.23, 0.73, 1.2, 0.27, 6.67]},\n",
       " {'name': 'Kieren Perrow',\n",
       "  'scores': [0.5, 0.83, 2.0, 0.8, 1.7, 0.57, 8.0, 6.83, 1.53]},\n",
       " {'name': 'Taylor Knox', 'scores': [1.43, 0.7, 5.0, 5.5]},\n",
       " {'name': 'Aritz Aranburu', 'scores': [3.67, 6.17, 5.33, 1.83]},\n",
       " {'name': 'Bobby Martinez', 'scores': [1.0, 1.27, 2.5, 1.13, 4.1, 1.07]},\n",
       " {'name': \"Jamie O'Brien\",\n",
       "  'scores': [0.33, 5.67, 2.67, 3.87, 7.83, 7.77, 7.53, 8.67, 1.53, 7.0, 0.93]},\n",
       " {'name': 'Jeremy Flores',\n",
       "  'scores': [5.83, 0.3, 3.83, 2.83, 0.5, 0.6, 1.33, 0.9, 4.03, 1.4]},\n",
       " {'name': 'Adrian Buchan',\n",
       "  'scores': [0.33, 2.67, 1.43, 5.43, 1.93, 8.43, 9.83, 6.83, 1.87]},\n",
       " {'name': 'Daniel Wills', 'scores': [5.0, 0.77, 0.9, 0.67, 8.67, 9.27, 1.43]},\n",
       " {'name': 'Adriano de Souza', 'scores': [5.5, 0.9, 8.33]},\n",
       " {'name': 'Kekoa Bacalso', 'scores': [0.23, 7.33, 1.0, 4.83, 2.0]},\n",
       " {'name': 'Tom Whitaker', 'scores': [1.5, 7.0, 8.67, 1.1, 1.0, 7.57, 1.73]},\n",
       " {'name': 'Bruce Irons', 'scores': [5.67, 1.67, 1.1, 9.6, 6.5]},\n",
       " {'name': 'Kamalei Alexander', 'scores': [1.0, 6.17, 6.33, 1.0, 6.23, 1.1]},\n",
       " {'name': 'Taj Burrow',\n",
       "  'scores': [0.4, 1.83, 7.17, 1.57, 0.7, 1.07, 0.67, 0.27, 0.53]},\n",
       " {'name': 'Chris Ward',\n",
       "  'scores': [5.33, 1.17, 3.83, 1.0, 9.77, 4.43, 1.43, 7.5]},\n",
       " {'name': 'Kai Otton', 'scores': [1.17, 1.07, 0.2, 6.5, 7.33]},\n",
       " {'name': 'Bede Durbidge', 'scores': [5.0, 1.17, 8.93, 1.3]},\n",
       " {'name': 'Shane Dorian', 'scores': [3.0, 9.63, 2.57]},\n",
       " {'name': 'Gregoire Sylvain', 'scores': [3.0, 9.63]},\n",
       " {'name': 'Evan Valiere', 'scores': [2.33, 0.67, 9.0, 1.83, 9.13, 1.8]},\n",
       " {'name': 'C.J. Hobgood',\n",
       "  'scores': [8.33, 1.0, 0.83, 6.0, 8.27, 1.87, 1.7, 1.37]},\n",
       " {'name': 'Andy Irons', 'scores': [1.67, 1.43, 0.2, 4.5, 9.87]},\n",
       " {'name': 'Dean Morrison', 'scores': [1.17, 0.5, 0.53, 6.0, 7.17, 1.67]}]"
      ]
     },
     "execution_count": 14,
     "metadata": {},
     "output_type": "execute_result"
    }
   ],
   "source": [
    "round_3 = []\n",
    "for i in range(len(athletes)):\n",
    "    athlete_scores = {}\n",
    "    athlete_scores[\"name\"] = soup.find_all(\"span\", class_=\"athlete-name\")[i].text\n",
    "    athlete_scores[\"scores\"] = []\n",
    "    for b in range(len(scores[i].find_all(\"span\", class_=\"score\"))):\n",
    "        try:\n",
    "            athlete_scores[\"scores\"].append(\n",
    "                float(scores[i].find_all(\"span\", class_=\"score\")[b].text)\n",
    "            )\n",
    "        except:\n",
    "            continue\n",
    "    round_3.append(athlete_scores)\n",
    "\n",
    "round_3\n"
   ]
  },
  {
   "cell_type": "markdown",
   "metadata": {},
   "source": [
    "### Round 4"
   ]
  },
  {
   "cell_type": "code",
   "execution_count": 5,
   "metadata": {},
   "outputs": [],
   "source": [
    "# Round 4\n",
    "pipe_2008_url_4 = \"https://www.worldsurfleague.com/events/2008/mct/75/billabong-pipeline-masters?roundId=6\"\n",
    "res = get(pipe_2008_url_4)\n",
    "soup = BeautifulSoup(res.content)\n"
   ]
  },
  {
   "cell_type": "code",
   "execution_count": 6,
   "metadata": {},
   "outputs": [],
   "source": [
    "athletes = soup.find_all(\"span\", class_=\"athlete-name\")\n",
    "scores = soup.find_all(\"div\", class_=\"all-waves all-waves-grid\")\n"
   ]
  },
  {
   "cell_type": "code",
   "execution_count": 7,
   "metadata": {},
   "outputs": [
    {
     "data": {
      "text/plain": [
       "[{'name': 'Luke Stedman', 'scores': [4.67, 1.23, 8.0, 1.73, 0.77]},\n",
       " {'name': 'Marcus Hickman', 'scores': [1.67, 1.6, 1.63, 2.6, 9.6, 2.3, 0.73]},\n",
       " {'name': 'Tim Reyes', 'scores': [4.33, 8.33]},\n",
       " {'name': 'Joel Parkinson', 'scores': [5.33, 1.17, 0.67, 6.5]},\n",
       " {'name': 'Kelly Slater', 'scores': [1.7, 3.5, 8.17, 1.8, 9.63, 9.77, 0.93]},\n",
       " {'name': 'Kieren Perrow', 'scores': [1.5, 1.1, 1.63, 0.2, 1.07, 6.33, 0.3]},\n",
       " {'name': \"Jamie O'Brien\", 'scores': [4.5, 5.83, 1.67, 1.0]},\n",
       " {'name': 'Aritz Aranburu', 'scores': [0.93, 2.17, 4.5, 1.33, 1.27]},\n",
       " {'name': 'Adrian Buchan', 'scores': [2.0, 3.67, 6.67, 0.23, 9.1, 1.4]},\n",
       " {'name': 'Adriano de Souza', 'scores': [4.33, 4.83, 6.73]},\n",
       " {'name': 'Kamalei Alexander', 'scores': [6.0, 1.83, 4.17]},\n",
       " {'name': 'Tom Whitaker', 'scores': [7.0, 0.9, 1.67, 2.4, 0.93, 1.3]},\n",
       " {'name': 'Chris Ward', 'scores': [6.0, 0.5, 2.17, 1.5, 1.83, 3.23, 7.43]},\n",
       " {'name': 'Bede Durbidge', 'scores': [2.73, 6.83, 1.27, 1.87]},\n",
       " {'name': 'Andy Irons', 'scores': [8.83, 0.9, 0.87, 2.0, 9.0]},\n",
       " {'name': 'Evan Valiere', 'scores': [4.83, 1.67, 2.23, 2.17, 3.6, 2.63]}]"
      ]
     },
     "execution_count": 7,
     "metadata": {},
     "output_type": "execute_result"
    }
   ],
   "source": [
    "round_4 = []\n",
    "for i in range(len(athletes)):\n",
    "    athlete_scores = {}\n",
    "    athlete_scores[\"name\"] = soup.find_all(\"span\", class_=\"athlete-name\")[i].text\n",
    "    athlete_scores[\"scores\"] = []\n",
    "    for b in range(len(scores[i].find_all(\"span\", class_=\"score\"))):\n",
    "        try:\n",
    "            athlete_scores[\"scores\"].append(\n",
    "                float(scores[i].find_all(\"span\", class_=\"score\")[b].text)\n",
    "            )\n",
    "        except:\n",
    "            continue\n",
    "    round_4.append(athlete_scores)\n",
    "\n",
    "round_4\n"
   ]
  },
  {
   "cell_type": "code",
   "execution_count": null,
   "metadata": {},
   "outputs": [],
   "source": []
  }
 ],
 "metadata": {
  "interpreter": {
   "hash": "f7a0f9bb49171c226bccce8a0987518af550515ba22b4949d7abe766c3680a51"
  },
  "kernelspec": {
   "display_name": "Python 3.9.7 ('base')",
   "language": "python",
   "name": "python3"
  },
  "language_info": {
   "codemirror_mode": {
    "name": "ipython",
    "version": 3
   },
   "file_extension": ".py",
   "mimetype": "text/x-python",
   "name": "python",
   "nbconvert_exporter": "python",
   "pygments_lexer": "ipython3",
   "version": "3.9.7"
  },
  "orig_nbformat": 4
 },
 "nbformat": 4,
 "nbformat_minor": 2
}
