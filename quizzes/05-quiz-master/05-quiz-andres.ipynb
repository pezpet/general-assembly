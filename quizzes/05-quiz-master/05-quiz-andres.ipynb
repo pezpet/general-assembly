{
 "cells": [
  {
   "cell_type": "markdown",
   "metadata": {},
   "source": [
    "<img src=\"http://imgur.com/1ZcRyrc.png\" style=\"float: left; margin: 20px; height: 55px\" />\n",
    "\n",
    "# Quiz 5  \n",
    "\n",
    "This notebook contains 5 coding challenges. You are to clone this repository and fill in the quiz with your answers, taking special care to follow the directions _exactly_. In many questions, we ask that you name variables in a specific way. Make sure to do this, as we use it for grading.\n",
    "\n",
    "To **submit** your quiz, upload/submit your completed notebook in the Google Classroom assignment.\n",
    "\n",
    "### Quiz Information:\n",
    "- This is a \"closed book\" quiz - you may **NOT** use any resources! This includes other code files, Google, StackOverflow, your notes, your classmates, your instructor, or anyone else. Use of any outside resources on this quiz will be considered plagiarism.\n",
    "- You will have **1 hour** to take this quiz."
   ]
  },
  {
   "cell_type": "markdown",
   "metadata": {},
   "source": [
    "# Your Info:\n",
    "**Please fill out the following questions:**\n",
    "\n",
    "### 1. What is your name?"
   ]
  },
  {
   "cell_type": "markdown",
   "metadata": {},
   "source": [
    "Andres Perez"
   ]
  },
  {
   "cell_type": "markdown",
   "metadata": {},
   "source": [
    "## Problem 1: The Classic FizzBuzz\n",
    "\n",
    "Write a function called `fizzbuzz` that takes in a number $n$ and returns a **list** of each number from 1 to $n$, but: \n",
    "- For each multiple of 3, the item in the list should be \"Fizz\" instead of the number. \n",
    "- For each multiple of 5, the item in the list should be \"Buzz\" instead of the number. \n",
    "- For numbers which are multiples of both 3 and 5, the item in the list should be \"FizzBuzz\" instead of the number.\n",
    "\n",
    "Try to make your function as efficient & concise as possible.\n",
    "\n",
    "> For example:\n",
    "```python\n",
    "fizzbuzz(5)\n",
    "```\n",
    "> should return:\n",
    "```python\n",
    "[1, 2, 'Fizz', 4, 'Buzz']\n",
    "```"
   ]
  },
  {
   "cell_type": "markdown",
   "metadata": {},
   "source": [
    "**4pts total**  \n",
    "*Partial credit will be given if substantial progress to the right answer is made.*"
   ]
  },
  {
   "cell_type": "code",
   "execution_count": 3,
   "metadata": {},
   "outputs": [],
   "source": [
    "# your answer here:\n",
    "def fizzbuzz(n):\n",
    "    result_list = []\n",
    "    for i in range(1, n+1):\n",
    "        if i % 3 == 0 and i % 5 == 0:\n",
    "            result_list.append('FizzBuzz')\n",
    "        elif i % 3 == 0:\n",
    "            result_list.append('Fizz')\n",
    "        elif i % 5 == 0:\n",
    "            result_list.append('Buzz')\n",
    "        else:\n",
    "            result_list.append(i)\n",
    "\n",
    "    return result_list\n"
   ]
  },
  {
   "cell_type": "code",
   "execution_count": 4,
   "metadata": {},
   "outputs": [
    {
     "data": {
      "text/plain": [
       "[1,\n",
       " 2,\n",
       " 'Fizz',\n",
       " 4,\n",
       " 'Buzz',\n",
       " 'Fizz',\n",
       " 7,\n",
       " 8,\n",
       " 'Fizz',\n",
       " 'Buzz',\n",
       " 11,\n",
       " 'Fizz',\n",
       " 13,\n",
       " 14,\n",
       " 'FizzBuzz']"
      ]
     },
     "execution_count": 4,
     "metadata": {},
     "output_type": "execute_result"
    }
   ],
   "source": [
    "fizzbuzz(15)"
   ]
  },
  {
   "cell_type": "markdown",
   "metadata": {},
   "source": [
    "## Problem 2: Factorials!\n",
    "\n",
    "Write a function called `smallest_int` that takes in a digit $m$ and returns the smallest non-negative integer $n$ for which $n!$ starts with the given digit $m$.\n",
    "\n",
    "- remember $n! = n * (n-1) * (n-2) * ... * 1$\n",
    "\n",
    "> For example:\n",
    "```python\n",
    "smallest_int(5)\n",
    "```\n",
    "> should return:\n",
    "```python\n",
    "7\n",
    "```\n",
    "> because: $7! = 5040$, and $7$ is the smallest non-negative integer $n$ where $n!$ starts with $5$.\n",
    "\n",
    "Use this function to find the smallest non-negative integer $n$ for which $n!$ starts with $9$."
   ]
  },
  {
   "cell_type": "markdown",
   "metadata": {},
   "source": [
    "**4pts total**  \n",
    "*Partial credit will be given if substantial progress to the right answer is made.*"
   ]
  },
  {
   "cell_type": "code",
   "execution_count": 90,
   "metadata": {},
   "outputs": [],
   "source": [
    "# your answer here:\n",
    "def smallest_int(m):\n",
    "    factors = [v for v in range(1, 100)]\n",
    "    result = 1\n",
    "    for i in factors:\n",
    "        result *= i\n",
    "        if int(str(result)[0]) == m:\n",
    "            return i"
   ]
  },
  {
   "cell_type": "code",
   "execution_count": 91,
   "metadata": {},
   "outputs": [
    {
     "data": {
      "text/plain": [
       "7"
      ]
     },
     "execution_count": 91,
     "metadata": {},
     "output_type": "execute_result"
    }
   ],
   "source": [
    "smallest_int(5)"
   ]
  },
  {
   "cell_type": "code",
   "execution_count": 92,
   "metadata": {},
   "outputs": [
    {
     "data": {
      "text/plain": [
       "96"
      ]
     },
     "execution_count": 92,
     "metadata": {},
     "output_type": "execute_result"
    }
   ],
   "source": [
    "smallest_int(9)"
   ]
  },
  {
   "cell_type": "markdown",
   "metadata": {},
   "source": [
    "## Problem 3: Quiz Scores\n",
    "\n",
    "You are given a dictionary containing your scores on various past quizzes (the keys are the quiz names and the values are your scores on the quizzes). Write a function called `quiz_scores` that takes in that dictionary and returns a **list** of just quiz names (i.e. 'Quiz 1', 'Quiz 2', etc.) where your score was **at least 15 points**, in descending order of the scores (highest scoring quiz to lowest scoring quiz).\n",
    "\n",
    "Note: you can assume the scores will always be unique (so no duplicate values).\n",
    "\n",
    "> For example:\n",
    "```python\n",
    "quiz_scores({'Quiz 1': 10, 'Quiz 2': 17, 'Quiz 3': 20, 'Quiz 4': 15})\n",
    "```\n",
    "> should return:\n",
    "```python\n",
    "['Quiz 3', 'Quiz 2', 'Quiz 4']\n",
    "```"
   ]
  },
  {
   "cell_type": "markdown",
   "metadata": {},
   "source": [
    "### 4pts total\n",
    "**Partial credit will be given if substantial progress to the right answer is made**"
   ]
  },
  {
   "cell_type": "code",
   "execution_count": 74,
   "metadata": {},
   "outputs": [],
   "source": [
    "# your answer here:\n",
    "def quiz_scores(scores):\n",
    "    result_list = []\n",
    "    values = [v for k, v in scores.items()]\n",
    "    # quizzes = [k for k, v in scores.items()]\n",
    "    values.sort(reverse=True)\n",
    "    for val in values:\n",
    "        if val >= 15:\n",
    "            for k, v in scores.items():\n",
    "                if v == val:\n",
    "                    result_list.append(k)\n",
    "    return result_list\n"
   ]
  },
  {
   "cell_type": "code",
   "execution_count": 75,
   "metadata": {},
   "outputs": [
    {
     "data": {
      "text/plain": [
       "['Quiz 3', 'Quiz 2', 'Quiz 4']"
      ]
     },
     "execution_count": 75,
     "metadata": {},
     "output_type": "execute_result"
    }
   ],
   "source": [
    "quiz_scores({'Quiz 1': 10, 'Quiz 2': 17, 'Quiz 3': 20, 'Quiz 4': 15})"
   ]
  },
  {
   "cell_type": "markdown",
   "metadata": {},
   "source": [
    "## Problem 4: Camels and Snakes\n",
    "\n",
    "Your coworker gives you some Python code but used camelCase instead of snake_case for all of their variable names! Write a function called `camel_to_snake` that takes in a variable name in camelCase and returns that variable name in snake_case. \n",
    "\n",
    "You can assume that there will only be one or two words in each variable (i.e. `variable` or `myVariable`), but you can get 1 bonus point if you extend this to work with any number of words in the variable name (i.e. `myFirstVariable` would become `my_first_variable`).\n",
    "\n",
    "> For example:\n",
    "```python\n",
    "camel_to_snake('myVariable')\n",
    "```\n",
    "> should return:\n",
    "```python\n",
    "'my_variable'\n",
    "```"
   ]
  },
  {
   "cell_type": "markdown",
   "metadata": {},
   "source": [
    "**4pts total, with an opportunity for 1 bonus point**  \n",
    "*Partial credit will be given if substantial progress to the right answer is made.*"
   ]
  },
  {
   "cell_type": "code",
   "execution_count": 26,
   "metadata": {},
   "outputs": [],
   "source": [
    "# your answer here:\n",
    "def camel_to_snake(variable_name):\n",
    "    result = ''\n",
    "    for a in variable_name:\n",
    "        if a.lower() == a:\n",
    "            result += a\n",
    "        else:\n",
    "            result += '_'\n",
    "            result += a.lower()\n",
    "    return result\n"
   ]
  },
  {
   "cell_type": "code",
   "execution_count": 27,
   "metadata": {},
   "outputs": [
    {
     "data": {
      "text/plain": [
       "'my_variable'"
      ]
     },
     "execution_count": 27,
     "metadata": {},
     "output_type": "execute_result"
    }
   ],
   "source": [
    "camel_to_snake('myVariable')"
   ]
  },
  {
   "cell_type": "code",
   "execution_count": 28,
   "metadata": {},
   "outputs": [
    {
     "data": {
      "text/plain": [
       "'my_first_variable'"
      ]
     },
     "execution_count": 28,
     "metadata": {},
     "output_type": "execute_result"
    }
   ],
   "source": [
    "# for bonus:\n",
    "camel_to_snake('myFirstVariable')"
   ]
  },
  {
   "cell_type": "markdown",
   "metadata": {},
   "source": [
    "## Problem 5: Pythagorean Theorem\n",
    "\n",
    "The [Pythagorean theorem](https://en.wikipedia.org/wiki/Pythagorean_theorem) describes the relationship between side lengths of right triangles, where the square of the hypotenuse is equal to the sum of the squared lengths of the other two sides. More commonly, this formula is written as $a^2 + b^2 = c^2$, for triangle side lengths $a$, $b$, and hypotenuse $c$. Any three positive integers that satisfy this property is known as a [Pythagorean triple](https://en.wikipedia.org/wiki/Pythagorean_triple).\n",
    "\n",
    "Write a function called `right_triangle` that takes in a list of positive integers and returns a list of Pythagorean triples that exist within the given list of integers.\n",
    "\n",
    "Some examples of Pythagorean triples:\n",
    "- [3, 4, 5], since $3^2 + 4^2 = 5^2$\n",
    "- [5, 12, 13], since $5^2 + 12^2 = 13^2$\n",
    "- [6, 8, 10], since $6^2 + 8^2 = 10^2$\n",
    "\n",
    "> For example:\n",
    "```python\n",
    "right_triangle([1, 2, 3, 4, 5, 6, 7, 8, 9, 10, 11, 12, 13, 14])\n",
    "```\n",
    "> should return:\n",
    "```python\n",
    "[[3, 4, 5], [5, 12, 13], [6, 8, 10]]\n",
    "```"
   ]
  },
  {
   "cell_type": "markdown",
   "metadata": {},
   "source": [
    "**4pts total**  \n",
    "*Partial credit will be given if substantial progress to the right answer is made.*"
   ]
  },
  {
   "cell_type": "code",
   "execution_count": 51,
   "metadata": {},
   "outputs": [],
   "source": [
    "# your answer here:\n",
    "def right_triangle(numbers):\n",
    "    result = []\n",
    "    for number1 in numbers:\n",
    "        pytha = []\n",
    "        for number2 in numbers:\n",
    "            for number3 in numbers:\n",
    "                if (number1**2 + number2**2) == number3**2:\n",
    "                    pytha.append(number1)\n",
    "                    pytha.append(number2)\n",
    "                    pytha.append(number3)\n",
    "                    result.append(pytha)\n",
    "                    numbers.remove(number1)\n",
    "\n",
    "    return result\n"
   ]
  },
  {
   "cell_type": "code",
   "execution_count": 52,
   "metadata": {},
   "outputs": [
    {
     "data": {
      "text/plain": [
       "[[3, 4, 5], [5, 12, 13], [8, 6, 10]]"
      ]
     },
     "execution_count": 52,
     "metadata": {},
     "output_type": "execute_result"
    }
   ],
   "source": [
    "right_triangle([1, 2, 3, 4, 5, 6, 7, 8, 9, 10, 11, 12, 13, 14])"
   ]
  },
  {
   "cell_type": "markdown",
   "metadata": {},
   "source": [
    "## Bonus: Quotes\n",
    "\n",
    "Get up to 2 bonus points for writing a famous/movie quote in code (Python, SQL, Unix commands, etc.). Your code does not have to actually run but it should make sense.\n",
    "\n",
    "> Example 1 (credit: Riley Dallas):\n",
    "```python\n",
    "if not success:\n",
    "    for i in range(2):\n",
    "        tries += 1\n",
    "```\n",
    "> \"If at first you don't succeed, try try again.\"\n",
    "\n",
    "> Example 2 (credit: Noah Christiansen):\n",
    "```shell\n",
    "C:\\Users\\nobody> mv baby.txt corner\n",
    "```\n",
    "> \"Nobody puts Baby in a corner.\" (from the movie [*Dirty Dancing*](https://writingexplained.org/idiom-dictionary/nobody-puts-baby-in-the-corner))"
   ]
  },
  {
   "cell_type": "code",
   "execution_count": null,
   "metadata": {},
   "outputs": [],
   "source": [
    "# Schindler's list. Please excuse if Schindler is misspelled\n",
    "['Schindler', 'Schindler', 'Schindler']"
   ]
  }
 ],
 "metadata": {
  "kernelspec": {
   "display_name": "Python 3",
   "language": "python",
   "name": "python3"
  },
  "language_info": {
   "codemirror_mode": {
    "name": "ipython",
    "version": 3
   },
   "file_extension": ".py",
   "mimetype": "text/x-python",
   "name": "python",
   "nbconvert_exporter": "python",
   "pygments_lexer": "ipython3",
   "version": "3.9.7"
  }
 },
 "nbformat": 4,
 "nbformat_minor": 4
}
