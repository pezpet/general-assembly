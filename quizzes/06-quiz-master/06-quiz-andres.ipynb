{
 "cells": [
  {
   "cell_type": "markdown",
   "metadata": {},
   "source": [
    "![](./assets/erd.png)"
   ]
  },
  {
   "cell_type": "markdown",
   "metadata": {},
   "source": [
    "1. Get the first 10 rows and all columns of the animals table (get all columns but limit the result of the query to 10 items).\n",
    "\n",
    "```MySQL\n",
    "SELECT *\n",
    "FROM animals AS a\n",
    "LIMIT 10\n",
    "```"
   ]
  },
  {
   "cell_type": "markdown",
   "metadata": {},
   "source": [
    "2. Get a list of the unique breeds of animals.\n",
    "\n",
    "```MySQL\n",
    "SELECT DISTINCT a.breed\n",
    "FROM animals AS a\n",
    "```"
   ]
  },
  {
   "cell_type": "markdown",
   "metadata": {},
   "source": [
    "3. Get all of the ages and weights of black dogs (`type` is `dog` and `color` is `black`).\n",
    "\n",
    "```MySQL\n",
    "SELECT a.age, a.weight\n",
    "FROM animals AS a\n",
    "WHERE a.type = 'dog' AND a.color = 'black'\n",
    "```"
   ]
  },
  {
   "cell_type": "markdown",
   "metadata": {},
   "source": [
    "4. Get all of the types and breeds of animals that weigh more than 55 pounds.\n",
    "\n",
    "```MySQL\n",
    "SELECT a.type, a.breed\n",
    "FROM animals AS a\n",
    "WHERE a.weight > 55\n",
    "```"
   ]
  },
  {
   "cell_type": "markdown",
   "metadata": {},
   "source": [
    "5. Get a list of all customers using gmail (customers whose emails end in `@gmail.com`).\n",
    "\n",
    "```MySQL\n",
    "SELECT c.first_name, c.last_name, c.email\n",
    "FROM customers AS c\n",
    "WHERE c.email LIKE '%gmail.com%'\n",
    "```"
   ]
  },
  {
   "cell_type": "markdown",
   "metadata": {},
   "source": [
    "6. Get the average weight by breed of breeds that average at least 40 pounds.\n",
    "\n",
    "```MySQL\n",
    "SELECT a.breed, AVG(a.weight)\n",
    "FROM animals AS a\n",
    "GROUP BY a.breed\n",
    "HAVING AVG(a.weight) > 40\n",
    "```"
   ]
  },
  {
   "cell_type": "markdown",
   "metadata": {},
   "source": [
    "7. Get the last name of all people who have adopted a cat (`type` is `cat`).\n",
    "\n",
    "```MySQL\n",
    "SELECT a.type, c.last_name\n",
    "FROM animals AS a\n",
    "INNER JOIN customers as c ON a.id = c.pet_id\n",
    "WHERE a.type = 'cat'\n",
    "```"
   ]
  },
  {
   "cell_type": "markdown",
   "metadata": {},
   "source": [
    "8. Grouping by type, get the average age of each type of animal. Name the average age column `avg_age`.\n",
    "\n",
    "```MySQL\n",
    "SELECT a.type, AVG(a.age) AS avg_age\n",
    "FROM animals AS a\n",
    "GROUP BY a.type\n",
    "```"
   ]
  },
  {
   "cell_type": "markdown",
   "metadata": {},
   "source": [
    "9. How many rabbits (`type` is `rabbit`) are located in New York (`state` is `New York`)?\n",
    "\n",
    "```MySQL\n",
    "SELECT COUNT(a.type)\n",
    "FROM animals AS a\n",
    "INNER JOIN locations as l ON a.id = l.id\n",
    "GROUP BY a.type\n",
    "HAVING a.type = 'rabbit' AND l.state = 'New York'\n",
    "```"
   ]
  },
  {
   "cell_type": "markdown",
   "metadata": {},
   "source": [
    "10. Get the pet ID, breed, customer ID, and city of dogs (`type` is `dog`) who have been adopted (`adopted` is `Yes` or `yes`). Order the results alphabetically by breed.\n",
    "\n",
    "```MySQL\n",
    "SELECT c.pet_id, a.breed, c.customer_id, l.city\n",
    "FROM animals AS a\n",
    "INNER JOIN customers AS c ON a.id = c.pet_id\n",
    "INNER JOIN locations AS l ON l.id = a.location_id\n",
    "WHERE a.type LIKE '%dog%' AND a.adopted LIKE '%yes%'\n",
    "ORDER BY a.breed\n",
    "```"
   ]
  }
 ],
 "metadata": {
  "language_info": {
   "name": "python"
  },
  "orig_nbformat": 4
 },
 "nbformat": 4,
 "nbformat_minor": 2
}
