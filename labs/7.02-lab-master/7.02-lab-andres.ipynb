{
  "cells": [
    {
      "cell_type": "markdown",
      "metadata": {
        "id": "4Om2yZCm8cMY"
      },
      "source": [
        "# 7.02 Lab"
      ]
    },
    {
      "cell_type": "markdown",
      "metadata": {
        "id": "zykyA0aJ8giH"
      },
      "source": [
        "Data from: [fashion-mnist_train.csv](https://www.kaggle.com/zalando-research/fashionmnist?select=fashion-mnist_train.csv).\n",
        "\n",
        "Goal is to train neural networks to classify clothing images"
      ]
    },
    {
      "cell_type": "markdown",
      "metadata": {
        "id": "bg46J8Mj8tVr"
      },
      "source": [
        "## Imports"
      ]
    },
    {
      "cell_type": "code",
      "execution_count": 2,
      "metadata": {
        "id": "IMZDgfLR8vGL"
      },
      "outputs": [],
      "source": [
        "import numpy as np\n",
        "import matplotlib.pyplot as plt\n",
        "import pandas as pd\n",
        "\n",
        "from sklearn.model_selection import train_test_split\n",
        "\n",
        "from tensorflow.keras.models import Sequential\n",
        "from tensorflow.keras.layers import Dense, Dropout, Flatten, Conv2D, MaxPool2D\n",
        "from tensorflow.keras import utils\n",
        "from tensorflow.keras.regularizers import l2\n",
        "from tensorflow.keras.callbacks import EarlyStopping"
      ]
    },
    {
      "cell_type": "markdown",
      "metadata": {
        "id": "wynquAQwV9S5"
      },
      "source": [
        "## Data\n"
      ]
    },
    {
      "cell_type": "code",
      "execution_count": 3,
      "metadata": {
        "id": "RNXS0k3gEUma"
      },
      "outputs": [],
      "source": [
        "training_data = pd.read_csv('fashion-mnist_train.csv')"
      ]
    },
    {
      "cell_type": "code",
      "execution_count": 3,
      "metadata": {
        "id": "oXNJfPajGaIH"
      },
      "outputs": [],
      "source": [
        "X = training_data.drop(columns='label')\n",
        "y = training_data['label']\n",
        "\n",
        "X_train, X_test, y_train, y_test = train_test_split(X, y, random_state=13)"
      ]
    },
    {
      "cell_type": "code",
      "execution_count": 4,
      "metadata": {
        "colab": {
          "base_uri": "https://localhost:8080/"
        },
        "id": "odQXCU3jHeP5",
        "outputId": "1d5f5e33-9319-427f-ed29-a67e52d10c58"
      },
      "outputs": [
        {
          "data": {
            "text/plain": [
              "(45000, 784)"
            ]
          },
          "execution_count": 4,
          "metadata": {},
          "output_type": "execute_result"
        }
      ],
      "source": [
        "X_train.shape"
      ]
    },
    {
      "cell_type": "code",
      "execution_count": 5,
      "metadata": {
        "colab": {
          "base_uri": "https://localhost:8080/"
        },
        "id": "_VJwt3NLHfXA",
        "outputId": "3a439839-2ec2-453d-bc31-6ecd81c88f40"
      },
      "outputs": [
        {
          "data": {
            "text/plain": [
              "pandas.core.frame.DataFrame"
            ]
          },
          "execution_count": 5,
          "metadata": {},
          "output_type": "execute_result"
        }
      ],
      "source": [
        "type(X_train)"
      ]
    },
    {
      "cell_type": "code",
      "execution_count": 6,
      "metadata": {
        "colab": {
          "base_uri": "https://localhost:8080/",
          "height": 300
        },
        "id": "l6BrwuFdHkHm",
        "outputId": "264b6c6c-c342-47cb-ed7e-66006d2b56c0"
      },
      "outputs": [
        {
          "data": {
            "text/html": [
              "\n",
              "  <div id=\"df-e05d0762-598b-4445-8334-3048aa5c5f2a\">\n",
              "    <div class=\"colab-df-container\">\n",
              "      <div>\n",
              "<style scoped>\n",
              "    .dataframe tbody tr th:only-of-type {\n",
              "        vertical-align: middle;\n",
              "    }\n",
              "\n",
              "    .dataframe tbody tr th {\n",
              "        vertical-align: top;\n",
              "    }\n",
              "\n",
              "    .dataframe thead th {\n",
              "        text-align: right;\n",
              "    }\n",
              "</style>\n",
              "<table border=\"1\" class=\"dataframe\">\n",
              "  <thead>\n",
              "    <tr style=\"text-align: right;\">\n",
              "      <th></th>\n",
              "      <th>pixel1</th>\n",
              "      <th>pixel2</th>\n",
              "      <th>pixel3</th>\n",
              "      <th>pixel4</th>\n",
              "      <th>pixel5</th>\n",
              "      <th>pixel6</th>\n",
              "      <th>pixel7</th>\n",
              "      <th>pixel8</th>\n",
              "      <th>pixel9</th>\n",
              "      <th>pixel10</th>\n",
              "      <th>pixel11</th>\n",
              "      <th>pixel12</th>\n",
              "      <th>pixel13</th>\n",
              "      <th>pixel14</th>\n",
              "      <th>pixel15</th>\n",
              "      <th>pixel16</th>\n",
              "      <th>pixel17</th>\n",
              "      <th>pixel18</th>\n",
              "      <th>pixel19</th>\n",
              "      <th>pixel20</th>\n",
              "      <th>pixel21</th>\n",
              "      <th>pixel22</th>\n",
              "      <th>pixel23</th>\n",
              "      <th>pixel24</th>\n",
              "      <th>pixel25</th>\n",
              "      <th>pixel26</th>\n",
              "      <th>pixel27</th>\n",
              "      <th>pixel28</th>\n",
              "      <th>pixel29</th>\n",
              "      <th>pixel30</th>\n",
              "      <th>pixel31</th>\n",
              "      <th>pixel32</th>\n",
              "      <th>pixel33</th>\n",
              "      <th>pixel34</th>\n",
              "      <th>pixel35</th>\n",
              "      <th>pixel36</th>\n",
              "      <th>pixel37</th>\n",
              "      <th>pixel38</th>\n",
              "      <th>pixel39</th>\n",
              "      <th>pixel40</th>\n",
              "      <th>...</th>\n",
              "      <th>pixel745</th>\n",
              "      <th>pixel746</th>\n",
              "      <th>pixel747</th>\n",
              "      <th>pixel748</th>\n",
              "      <th>pixel749</th>\n",
              "      <th>pixel750</th>\n",
              "      <th>pixel751</th>\n",
              "      <th>pixel752</th>\n",
              "      <th>pixel753</th>\n",
              "      <th>pixel754</th>\n",
              "      <th>pixel755</th>\n",
              "      <th>pixel756</th>\n",
              "      <th>pixel757</th>\n",
              "      <th>pixel758</th>\n",
              "      <th>pixel759</th>\n",
              "      <th>pixel760</th>\n",
              "      <th>pixel761</th>\n",
              "      <th>pixel762</th>\n",
              "      <th>pixel763</th>\n",
              "      <th>pixel764</th>\n",
              "      <th>pixel765</th>\n",
              "      <th>pixel766</th>\n",
              "      <th>pixel767</th>\n",
              "      <th>pixel768</th>\n",
              "      <th>pixel769</th>\n",
              "      <th>pixel770</th>\n",
              "      <th>pixel771</th>\n",
              "      <th>pixel772</th>\n",
              "      <th>pixel773</th>\n",
              "      <th>pixel774</th>\n",
              "      <th>pixel775</th>\n",
              "      <th>pixel776</th>\n",
              "      <th>pixel777</th>\n",
              "      <th>pixel778</th>\n",
              "      <th>pixel779</th>\n",
              "      <th>pixel780</th>\n",
              "      <th>pixel781</th>\n",
              "      <th>pixel782</th>\n",
              "      <th>pixel783</th>\n",
              "      <th>pixel784</th>\n",
              "    </tr>\n",
              "  </thead>\n",
              "  <tbody>\n",
              "    <tr>\n",
              "      <th>47457</th>\n",
              "      <td>0</td>\n",
              "      <td>0</td>\n",
              "      <td>0</td>\n",
              "      <td>0</td>\n",
              "      <td>0</td>\n",
              "      <td>0</td>\n",
              "      <td>0</td>\n",
              "      <td>0</td>\n",
              "      <td>3</td>\n",
              "      <td>0</td>\n",
              "      <td>0</td>\n",
              "      <td>0</td>\n",
              "      <td>76</td>\n",
              "      <td>194</td>\n",
              "      <td>204</td>\n",
              "      <td>143</td>\n",
              "      <td>0</td>\n",
              "      <td>0</td>\n",
              "      <td>0</td>\n",
              "      <td>3</td>\n",
              "      <td>0</td>\n",
              "      <td>0</td>\n",
              "      <td>0</td>\n",
              "      <td>0</td>\n",
              "      <td>0</td>\n",
              "      <td>0</td>\n",
              "      <td>0</td>\n",
              "      <td>0</td>\n",
              "      <td>0</td>\n",
              "      <td>0</td>\n",
              "      <td>0</td>\n",
              "      <td>0</td>\n",
              "      <td>0</td>\n",
              "      <td>0</td>\n",
              "      <td>0</td>\n",
              "      <td>3</td>\n",
              "      <td>0</td>\n",
              "      <td>0</td>\n",
              "      <td>104</td>\n",
              "      <td>177</td>\n",
              "      <td>...</td>\n",
              "      <td>0</td>\n",
              "      <td>0</td>\n",
              "      <td>0</td>\n",
              "      <td>0</td>\n",
              "      <td>0</td>\n",
              "      <td>0</td>\n",
              "      <td>0</td>\n",
              "      <td>0</td>\n",
              "      <td>0</td>\n",
              "      <td>0</td>\n",
              "      <td>0</td>\n",
              "      <td>0</td>\n",
              "      <td>0</td>\n",
              "      <td>0</td>\n",
              "      <td>0</td>\n",
              "      <td>0</td>\n",
              "      <td>0</td>\n",
              "      <td>0</td>\n",
              "      <td>0</td>\n",
              "      <td>0</td>\n",
              "      <td>1</td>\n",
              "      <td>0</td>\n",
              "      <td>0</td>\n",
              "      <td>0</td>\n",
              "      <td>35</td>\n",
              "      <td>98</td>\n",
              "      <td>194</td>\n",
              "      <td>150</td>\n",
              "      <td>0</td>\n",
              "      <td>0</td>\n",
              "      <td>0</td>\n",
              "      <td>1</td>\n",
              "      <td>0</td>\n",
              "      <td>0</td>\n",
              "      <td>0</td>\n",
              "      <td>0</td>\n",
              "      <td>0</td>\n",
              "      <td>0</td>\n",
              "      <td>0</td>\n",
              "      <td>0</td>\n",
              "    </tr>\n",
              "    <tr>\n",
              "      <th>51279</th>\n",
              "      <td>0</td>\n",
              "      <td>0</td>\n",
              "      <td>0</td>\n",
              "      <td>0</td>\n",
              "      <td>0</td>\n",
              "      <td>0</td>\n",
              "      <td>0</td>\n",
              "      <td>0</td>\n",
              "      <td>35</td>\n",
              "      <td>102</td>\n",
              "      <td>128</td>\n",
              "      <td>119</td>\n",
              "      <td>73</td>\n",
              "      <td>116</td>\n",
              "      <td>112</td>\n",
              "      <td>63</td>\n",
              "      <td>104</td>\n",
              "      <td>126</td>\n",
              "      <td>94</td>\n",
              "      <td>12</td>\n",
              "      <td>0</td>\n",
              "      <td>1</td>\n",
              "      <td>0</td>\n",
              "      <td>0</td>\n",
              "      <td>0</td>\n",
              "      <td>0</td>\n",
              "      <td>0</td>\n",
              "      <td>0</td>\n",
              "      <td>0</td>\n",
              "      <td>0</td>\n",
              "      <td>0</td>\n",
              "      <td>0</td>\n",
              "      <td>0</td>\n",
              "      <td>0</td>\n",
              "      <td>0</td>\n",
              "      <td>34</td>\n",
              "      <td>126</td>\n",
              "      <td>108</td>\n",
              "      <td>105</td>\n",
              "      <td>121</td>\n",
              "      <td>...</td>\n",
              "      <td>255</td>\n",
              "      <td>152</td>\n",
              "      <td>111</td>\n",
              "      <td>136</td>\n",
              "      <td>27</td>\n",
              "      <td>0</td>\n",
              "      <td>0</td>\n",
              "      <td>0</td>\n",
              "      <td>0</td>\n",
              "      <td>0</td>\n",
              "      <td>0</td>\n",
              "      <td>0</td>\n",
              "      <td>0</td>\n",
              "      <td>0</td>\n",
              "      <td>0</td>\n",
              "      <td>0</td>\n",
              "      <td>0</td>\n",
              "      <td>0</td>\n",
              "      <td>0</td>\n",
              "      <td>0</td>\n",
              "      <td>39</td>\n",
              "      <td>70</td>\n",
              "      <td>90</td>\n",
              "      <td>58</td>\n",
              "      <td>124</td>\n",
              "      <td>159</td>\n",
              "      <td>164</td>\n",
              "      <td>76</td>\n",
              "      <td>121</td>\n",
              "      <td>58</td>\n",
              "      <td>31</td>\n",
              "      <td>48</td>\n",
              "      <td>0</td>\n",
              "      <td>0</td>\n",
              "      <td>0</td>\n",
              "      <td>0</td>\n",
              "      <td>0</td>\n",
              "      <td>0</td>\n",
              "      <td>0</td>\n",
              "      <td>0</td>\n",
              "    </tr>\n",
              "    <tr>\n",
              "      <th>760</th>\n",
              "      <td>0</td>\n",
              "      <td>0</td>\n",
              "      <td>0</td>\n",
              "      <td>0</td>\n",
              "      <td>0</td>\n",
              "      <td>0</td>\n",
              "      <td>0</td>\n",
              "      <td>0</td>\n",
              "      <td>0</td>\n",
              "      <td>0</td>\n",
              "      <td>0</td>\n",
              "      <td>0</td>\n",
              "      <td>0</td>\n",
              "      <td>0</td>\n",
              "      <td>0</td>\n",
              "      <td>0</td>\n",
              "      <td>0</td>\n",
              "      <td>0</td>\n",
              "      <td>0</td>\n",
              "      <td>0</td>\n",
              "      <td>0</td>\n",
              "      <td>0</td>\n",
              "      <td>0</td>\n",
              "      <td>0</td>\n",
              "      <td>0</td>\n",
              "      <td>0</td>\n",
              "      <td>0</td>\n",
              "      <td>0</td>\n",
              "      <td>0</td>\n",
              "      <td>0</td>\n",
              "      <td>0</td>\n",
              "      <td>0</td>\n",
              "      <td>0</td>\n",
              "      <td>0</td>\n",
              "      <td>0</td>\n",
              "      <td>0</td>\n",
              "      <td>0</td>\n",
              "      <td>0</td>\n",
              "      <td>0</td>\n",
              "      <td>0</td>\n",
              "      <td>...</td>\n",
              "      <td>3</td>\n",
              "      <td>0</td>\n",
              "      <td>0</td>\n",
              "      <td>5</td>\n",
              "      <td>0</td>\n",
              "      <td>172</td>\n",
              "      <td>217</td>\n",
              "      <td>201</td>\n",
              "      <td>240</td>\n",
              "      <td>228</td>\n",
              "      <td>214</td>\n",
              "      <td>10</td>\n",
              "      <td>0</td>\n",
              "      <td>0</td>\n",
              "      <td>0</td>\n",
              "      <td>0</td>\n",
              "      <td>0</td>\n",
              "      <td>0</td>\n",
              "      <td>0</td>\n",
              "      <td>12</td>\n",
              "      <td>21</td>\n",
              "      <td>19</td>\n",
              "      <td>4</td>\n",
              "      <td>0</td>\n",
              "      <td>0</td>\n",
              "      <td>0</td>\n",
              "      <td>0</td>\n",
              "      <td>5</td>\n",
              "      <td>0</td>\n",
              "      <td>1</td>\n",
              "      <td>0</td>\n",
              "      <td>1</td>\n",
              "      <td>0</td>\n",
              "      <td>0</td>\n",
              "      <td>14</td>\n",
              "      <td>4</td>\n",
              "      <td>10</td>\n",
              "      <td>17</td>\n",
              "      <td>13</td>\n",
              "      <td>0</td>\n",
              "    </tr>\n",
              "    <tr>\n",
              "      <th>44505</th>\n",
              "      <td>0</td>\n",
              "      <td>0</td>\n",
              "      <td>0</td>\n",
              "      <td>0</td>\n",
              "      <td>0</td>\n",
              "      <td>0</td>\n",
              "      <td>0</td>\n",
              "      <td>0</td>\n",
              "      <td>0</td>\n",
              "      <td>0</td>\n",
              "      <td>0</td>\n",
              "      <td>80</td>\n",
              "      <td>87</td>\n",
              "      <td>83</td>\n",
              "      <td>87</td>\n",
              "      <td>77</td>\n",
              "      <td>74</td>\n",
              "      <td>71</td>\n",
              "      <td>34</td>\n",
              "      <td>0</td>\n",
              "      <td>0</td>\n",
              "      <td>0</td>\n",
              "      <td>0</td>\n",
              "      <td>0</td>\n",
              "      <td>0</td>\n",
              "      <td>0</td>\n",
              "      <td>0</td>\n",
              "      <td>0</td>\n",
              "      <td>0</td>\n",
              "      <td>0</td>\n",
              "      <td>0</td>\n",
              "      <td>0</td>\n",
              "      <td>0</td>\n",
              "      <td>0</td>\n",
              "      <td>0</td>\n",
              "      <td>0</td>\n",
              "      <td>1</td>\n",
              "      <td>0</td>\n",
              "      <td>30</td>\n",
              "      <td>156</td>\n",
              "      <td>...</td>\n",
              "      <td>159</td>\n",
              "      <td>30</td>\n",
              "      <td>0</td>\n",
              "      <td>0</td>\n",
              "      <td>0</td>\n",
              "      <td>0</td>\n",
              "      <td>0</td>\n",
              "      <td>0</td>\n",
              "      <td>0</td>\n",
              "      <td>0</td>\n",
              "      <td>0</td>\n",
              "      <td>0</td>\n",
              "      <td>0</td>\n",
              "      <td>0</td>\n",
              "      <td>0</td>\n",
              "      <td>0</td>\n",
              "      <td>0</td>\n",
              "      <td>0</td>\n",
              "      <td>0</td>\n",
              "      <td>0</td>\n",
              "      <td>0</td>\n",
              "      <td>0</td>\n",
              "      <td>0</td>\n",
              "      <td>0</td>\n",
              "      <td>98</td>\n",
              "      <td>39</td>\n",
              "      <td>0</td>\n",
              "      <td>96</td>\n",
              "      <td>66</td>\n",
              "      <td>0</td>\n",
              "      <td>0</td>\n",
              "      <td>1</td>\n",
              "      <td>0</td>\n",
              "      <td>0</td>\n",
              "      <td>0</td>\n",
              "      <td>0</td>\n",
              "      <td>0</td>\n",
              "      <td>0</td>\n",
              "      <td>0</td>\n",
              "      <td>0</td>\n",
              "    </tr>\n",
              "    <tr>\n",
              "      <th>19402</th>\n",
              "      <td>0</td>\n",
              "      <td>0</td>\n",
              "      <td>0</td>\n",
              "      <td>0</td>\n",
              "      <td>0</td>\n",
              "      <td>0</td>\n",
              "      <td>0</td>\n",
              "      <td>0</td>\n",
              "      <td>0</td>\n",
              "      <td>0</td>\n",
              "      <td>1</td>\n",
              "      <td>0</td>\n",
              "      <td>0</td>\n",
              "      <td>71</td>\n",
              "      <td>54</td>\n",
              "      <td>85</td>\n",
              "      <td>31</td>\n",
              "      <td>0</td>\n",
              "      <td>6</td>\n",
              "      <td>0</td>\n",
              "      <td>0</td>\n",
              "      <td>0</td>\n",
              "      <td>0</td>\n",
              "      <td>0</td>\n",
              "      <td>0</td>\n",
              "      <td>0</td>\n",
              "      <td>0</td>\n",
              "      <td>0</td>\n",
              "      <td>0</td>\n",
              "      <td>0</td>\n",
              "      <td>0</td>\n",
              "      <td>0</td>\n",
              "      <td>0</td>\n",
              "      <td>0</td>\n",
              "      <td>0</td>\n",
              "      <td>0</td>\n",
              "      <td>0</td>\n",
              "      <td>1</td>\n",
              "      <td>0</td>\n",
              "      <td>0</td>\n",
              "      <td>...</td>\n",
              "      <td>207</td>\n",
              "      <td>209</td>\n",
              "      <td>214</td>\n",
              "      <td>209</td>\n",
              "      <td>195</td>\n",
              "      <td>202</td>\n",
              "      <td>0</td>\n",
              "      <td>0</td>\n",
              "      <td>0</td>\n",
              "      <td>0</td>\n",
              "      <td>0</td>\n",
              "      <td>0</td>\n",
              "      <td>0</td>\n",
              "      <td>0</td>\n",
              "      <td>0</td>\n",
              "      <td>0</td>\n",
              "      <td>0</td>\n",
              "      <td>0</td>\n",
              "      <td>0</td>\n",
              "      <td>68</td>\n",
              "      <td>178</td>\n",
              "      <td>158</td>\n",
              "      <td>172</td>\n",
              "      <td>180</td>\n",
              "      <td>188</td>\n",
              "      <td>194</td>\n",
              "      <td>197</td>\n",
              "      <td>195</td>\n",
              "      <td>195</td>\n",
              "      <td>190</td>\n",
              "      <td>189</td>\n",
              "      <td>186</td>\n",
              "      <td>212</td>\n",
              "      <td>73</td>\n",
              "      <td>0</td>\n",
              "      <td>0</td>\n",
              "      <td>0</td>\n",
              "      <td>0</td>\n",
              "      <td>0</td>\n",
              "      <td>0</td>\n",
              "    </tr>\n",
              "  </tbody>\n",
              "</table>\n",
              "<p>5 rows × 784 columns</p>\n",
              "</div>\n",
              "      <button class=\"colab-df-convert\" onclick=\"convertToInteractive('df-e05d0762-598b-4445-8334-3048aa5c5f2a')\"\n",
              "              title=\"Convert this dataframe to an interactive table.\"\n",
              "              style=\"display:none;\">\n",
              "        \n",
              "  <svg xmlns=\"http://www.w3.org/2000/svg\" height=\"24px\"viewBox=\"0 0 24 24\"\n",
              "       width=\"24px\">\n",
              "    <path d=\"M0 0h24v24H0V0z\" fill=\"none\"/>\n",
              "    <path d=\"M18.56 5.44l.94 2.06.94-2.06 2.06-.94-2.06-.94-.94-2.06-.94 2.06-2.06.94zm-11 1L8.5 8.5l.94-2.06 2.06-.94-2.06-.94L8.5 2.5l-.94 2.06-2.06.94zm10 10l.94 2.06.94-2.06 2.06-.94-2.06-.94-.94-2.06-.94 2.06-2.06.94z\"/><path d=\"M17.41 7.96l-1.37-1.37c-.4-.4-.92-.59-1.43-.59-.52 0-1.04.2-1.43.59L10.3 9.45l-7.72 7.72c-.78.78-.78 2.05 0 2.83L4 21.41c.39.39.9.59 1.41.59.51 0 1.02-.2 1.41-.59l7.78-7.78 2.81-2.81c.8-.78.8-2.07 0-2.86zM5.41 20L4 18.59l7.72-7.72 1.47 1.35L5.41 20z\"/>\n",
              "  </svg>\n",
              "      </button>\n",
              "      \n",
              "  <style>\n",
              "    .colab-df-container {\n",
              "      display:flex;\n",
              "      flex-wrap:wrap;\n",
              "      gap: 12px;\n",
              "    }\n",
              "\n",
              "    .colab-df-convert {\n",
              "      background-color: #E8F0FE;\n",
              "      border: none;\n",
              "      border-radius: 50%;\n",
              "      cursor: pointer;\n",
              "      display: none;\n",
              "      fill: #1967D2;\n",
              "      height: 32px;\n",
              "      padding: 0 0 0 0;\n",
              "      width: 32px;\n",
              "    }\n",
              "\n",
              "    .colab-df-convert:hover {\n",
              "      background-color: #E2EBFA;\n",
              "      box-shadow: 0px 1px 2px rgba(60, 64, 67, 0.3), 0px 1px 3px 1px rgba(60, 64, 67, 0.15);\n",
              "      fill: #174EA6;\n",
              "    }\n",
              "\n",
              "    [theme=dark] .colab-df-convert {\n",
              "      background-color: #3B4455;\n",
              "      fill: #D2E3FC;\n",
              "    }\n",
              "\n",
              "    [theme=dark] .colab-df-convert:hover {\n",
              "      background-color: #434B5C;\n",
              "      box-shadow: 0px 1px 3px 1px rgba(0, 0, 0, 0.15);\n",
              "      filter: drop-shadow(0px 1px 2px rgba(0, 0, 0, 0.3));\n",
              "      fill: #FFFFFF;\n",
              "    }\n",
              "  </style>\n",
              "\n",
              "      <script>\n",
              "        const buttonEl =\n",
              "          document.querySelector('#df-e05d0762-598b-4445-8334-3048aa5c5f2a button.colab-df-convert');\n",
              "        buttonEl.style.display =\n",
              "          google.colab.kernel.accessAllowed ? 'block' : 'none';\n",
              "\n",
              "        async function convertToInteractive(key) {\n",
              "          const element = document.querySelector('#df-e05d0762-598b-4445-8334-3048aa5c5f2a');\n",
              "          const dataTable =\n",
              "            await google.colab.kernel.invokeFunction('convertToInteractive',\n",
              "                                                     [key], {});\n",
              "          if (!dataTable) return;\n",
              "\n",
              "          const docLinkHtml = 'Like what you see? Visit the ' +\n",
              "            '<a target=\"_blank\" href=https://colab.research.google.com/notebooks/data_table.ipynb>data table notebook</a>'\n",
              "            + ' to learn more about interactive tables.';\n",
              "          element.innerHTML = '';\n",
              "          dataTable['output_type'] = 'display_data';\n",
              "          await google.colab.output.renderOutput(dataTable, element);\n",
              "          const docLink = document.createElement('div');\n",
              "          docLink.innerHTML = docLinkHtml;\n",
              "          element.appendChild(docLink);\n",
              "        }\n",
              "      </script>\n",
              "    </div>\n",
              "  </div>\n",
              "  "
            ],
            "text/plain": [
              "       pixel1  pixel2  pixel3  pixel4  ...  pixel781  pixel782  pixel783  pixel784\n",
              "47457       0       0       0       0  ...         0         0         0         0\n",
              "51279       0       0       0       0  ...         0         0         0         0\n",
              "760         0       0       0       0  ...        10        17        13         0\n",
              "44505       0       0       0       0  ...         0         0         0         0\n",
              "19402       0       0       0       0  ...         0         0         0         0\n",
              "\n",
              "[5 rows x 784 columns]"
            ]
          },
          "execution_count": 6,
          "metadata": {},
          "output_type": "execute_result"
        }
      ],
      "source": [
        "X_train.head()"
      ]
    },
    {
      "cell_type": "code",
      "execution_count": 7,
      "metadata": {
        "colab": {
          "base_uri": "https://localhost:8080/"
        },
        "id": "oFtLpPMmHxBr",
        "outputId": "7726d706-0089-46b7-9d93-48e7b3c0f86c"
      },
      "outputs": [
        {
          "data": {
            "text/plain": [
              "0      15589\n",
              "255      460\n",
              "1        357\n",
              "225      336\n",
              "217      302\n",
              "       ...  \n",
              "53        30\n",
              "14        28\n",
              "28        26\n",
              "18        25\n",
              "16        19\n",
              "Name: pixel99, Length: 256, dtype: int64"
            ]
          },
          "execution_count": 7,
          "metadata": {},
          "output_type": "execute_result"
        }
      ],
      "source": [
        "X_train['pixel99'].value_counts()"
      ]
    },
    {
      "cell_type": "markdown",
      "metadata": {
        "id": "ux-CQo3C7QHl"
      },
      "source": [
        "## Visualize Image Classes"
      ]
    },
    {
      "cell_type": "code",
      "execution_count": 25,
      "metadata": {
        "colab": {
          "base_uri": "https://localhost:8080/",
          "height": 282
        },
        "id": "jZITkvhz7Uw6",
        "outputId": "ee43ddd9-4113-495d-802b-c10f2ced3372"
      },
      "outputs": [
        {
          "data": {
            "text/plain": [
              "<matplotlib.image.AxesImage at 0x7f3985c1bd90>"
            ]
          },
          "execution_count": 25,
          "metadata": {},
          "output_type": "execute_result"
        },
        {
          "data": {
            "image/png": "[encoded data removed]",
            "text/plain": [
              "<Figure size 432x288 with 1 Axes>"
            ]
          },
          "metadata": {
            "needs_background": "light"
          },
          "output_type": "display_data"
        }
      ],
      "source": [
        "plt.imshow(np.reshape(np.array(training_data[training_data['label'] == 0].drop(columns='label').iloc[0]), (28, 28)))\n"
      ]
    },
    {
      "cell_type": "code",
      "execution_count": 26,
      "metadata": {
        "colab": {
          "base_uri": "https://localhost:8080/",
          "height": 282
        },
        "id": "4ebB3f7--Cqb",
        "outputId": "9522879c-4a8c-4e82-c990-1f045043601b"
      },
      "outputs": [
        {
          "data": {
            "text/plain": [
              "<matplotlib.image.AxesImage at 0x7f39850bcbd0>"
            ]
          },
          "execution_count": 26,
          "metadata": {},
          "output_type": "execute_result"
        },
        {
          "data": {
            "image/png": "[encoded data removed]",
            "text/plain": [
              "<Figure size 432x288 with 1 Axes>"
            ]
          },
          "metadata": {
            "needs_background": "light"
          },
          "output_type": "display_data"
        }
      ],
      "source": [
        "plt.imshow(np.reshape(np.array(training_data[training_data['label'] == 1].drop(columns='label').iloc[0]), (28, 28)))"
      ]
    },
    {
      "cell_type": "code",
      "execution_count": 27,
      "metadata": {
        "colab": {
          "base_uri": "https://localhost:8080/",
          "height": 282
        },
        "id": "QDH6mhon-Eb1",
        "outputId": "af58c7b9-17b2-464f-db5e-2a9c88f2d432"
      },
      "outputs": [
        {
          "data": {
            "text/plain": [
              "<matplotlib.image.AxesImage at 0x7f3984ff3a90>"
            ]
          },
          "execution_count": 27,
          "metadata": {},
          "output_type": "execute_result"
        },
        {
          "data": {
            "image/png": "[encoded data removed]",
            "text/plain": [
              "<Figure size 432x288 with 1 Axes>"
            ]
          },
          "metadata": {
            "needs_background": "light"
          },
          "output_type": "display_data"
        }
      ],
      "source": [
        "plt.imshow(np.reshape(np.array(training_data[training_data['label'] == 2].drop(columns='label').iloc[0]), (28, 28)))"
      ]
    },
    {
      "cell_type": "code",
      "execution_count": 28,
      "metadata": {
        "colab": {
          "base_uri": "https://localhost:8080/",
          "height": 282
        },
        "id": "fR6b8kfa-Gif",
        "outputId": "6b127d09-493c-4038-bdd6-af5dc76d201a"
      },
      "outputs": [
        {
          "data": {
            "text/plain": [
              "<matplotlib.image.AxesImage at 0x7f3984ee4a90>"
            ]
          },
          "execution_count": 28,
          "metadata": {},
          "output_type": "execute_result"
        },
        {
          "data": {
            "image/png": "[encoded data removed]",
            "text/plain": [
              "<Figure size 432x288 with 1 Axes>"
            ]
          },
          "metadata": {
            "needs_background": "light"
          },
          "output_type": "display_data"
        }
      ],
      "source": [
        "plt.imshow(np.reshape(np.array(training_data[training_data['label'] == 3].drop(columns='label').iloc[0]), (28, 28)))"
      ]
    },
    {
      "cell_type": "code",
      "execution_count": 29,
      "metadata": {
        "colab": {
          "base_uri": "https://localhost:8080/",
          "height": 282
        },
        "id": "C9F3-Lq5-JF8",
        "outputId": "f188f544-1dc2-4dea-a2bd-1075ebb04d97"
      },
      "outputs": [
        {
          "data": {
            "text/plain": [
              "<matplotlib.image.AxesImage at 0x7f3984f7cbd0>"
            ]
          },
          "execution_count": 29,
          "metadata": {},
          "output_type": "execute_result"
        },
        {
          "data": {
            "image/png": "[encoded data removed]",
            "text/plain": [
              "<Figure size 432x288 with 1 Axes>"
            ]
          },
          "metadata": {
            "needs_background": "light"
          },
          "output_type": "display_data"
        }
      ],
      "source": [
        "plt.imshow(np.reshape(np.array(training_data[training_data['label'] == 4].drop(columns='label').iloc[0]), (28, 28)))"
      ]
    },
    {
      "cell_type": "code",
      "execution_count": 30,
      "metadata": {
        "colab": {
          "base_uri": "https://localhost:8080/",
          "height": 282
        },
        "id": "HCwPmHzl-LKb",
        "outputId": "63e099e3-042a-4aaf-9b67-753f4ed6cce5"
      },
      "outputs": [
        {
          "data": {
            "text/plain": [
              "<matplotlib.image.AxesImage at 0x7f3984f7ce50>"
            ]
          },
          "execution_count": 30,
          "metadata": {},
          "output_type": "execute_result"
        },
        {
          "data": {
            "image/png": "[encoded data removed]",
            "text/plain": [
              "<Figure size 432x288 with 1 Axes>"
            ]
          },
          "metadata": {
            "needs_background": "light"
          },
          "output_type": "display_data"
        }
      ],
      "source": [
        "plt.imshow(np.reshape(np.array(training_data[training_data['label'] == 5].drop(columns='label').iloc[0]), (28, 28)))"
      ]
    },
    {
      "cell_type": "code",
      "execution_count": 32,
      "metadata": {
        "colab": {
          "base_uri": "https://localhost:8080/",
          "height": 283
        },
        "id": "KGx1-lt8-NW_",
        "outputId": "84e5b202-294d-43c2-a421-340fd3998c9f"
      },
      "outputs": [
        {
          "data": {
            "application/vnd.google.colaboratory.intrinsic+json": {
              "type": "string"
            },
            "text/plain": [
              "''"
            ]
          },
          "execution_count": 32,
          "metadata": {},
          "output_type": "execute_result"
        },
        {
          "data": {
            "image/png": "[encoded data removed]",
            "text/plain": [
              "<Figure size 432x288 with 1 Axes>"
            ]
          },
          "metadata": {
            "needs_background": "light"
          },
          "output_type": "display_data"
        }
      ],
      "source": [
        "plt.imshow(np.reshape(np.array(training_data[training_data['label'] == 6].drop(columns='label').iloc[0]), (28, 28)))\n",
        ";"
      ]
    },
    {
      "cell_type": "code",
      "execution_count": 33,
      "metadata": {
        "colab": {
          "base_uri": "https://localhost:8080/",
          "height": 283
        },
        "id": "itnDIusH-P0n",
        "outputId": "0b90cf7b-7521-41fe-f0eb-3d97058d3bce"
      },
      "outputs": [
        {
          "data": {
            "application/vnd.google.colaboratory.intrinsic+json": {
              "type": "string"
            },
            "text/plain": [
              "''"
            ]
          },
          "execution_count": 33,
          "metadata": {},
          "output_type": "execute_result"
        },
        {
          "data": {
            "image/png": "[encoded data removed]",
            "text/plain": [
              "<Figure size 432x288 with 1 Axes>"
            ]
          },
          "metadata": {
            "needs_background": "light"
          },
          "output_type": "display_data"
        }
      ],
      "source": [
        "plt.imshow(np.reshape(np.array(training_data[training_data['label'] == 7].drop(columns='label').iloc[0]), (28, 28)))\n",
        ";"
      ]
    },
    {
      "cell_type": "code",
      "execution_count": 34,
      "metadata": {
        "colab": {
          "base_uri": "https://localhost:8080/",
          "height": 283
        },
        "id": "GenQha0H-ZiV",
        "outputId": "d321c90e-3792-4bb2-a0e4-0a3febd3f7cb"
      },
      "outputs": [
        {
          "data": {
            "application/vnd.google.colaboratory.intrinsic+json": {
              "type": "string"
            },
            "text/plain": [
              "''"
            ]
          },
          "execution_count": 34,
          "metadata": {},
          "output_type": "execute_result"
        },
        {
          "data": {
            "image/png": "[encoded data removed]",
            "text/plain": [
              "<Figure size 432x288 with 1 Axes>"
            ]
          },
          "metadata": {
            "needs_background": "light"
          },
          "output_type": "display_data"
        }
      ],
      "source": [
        "plt.imshow(np.reshape(np.array(training_data[training_data['label'] == 8].drop(columns='label').iloc[0]), (28, 28)))\n",
        ";"
      ]
    },
    {
      "cell_type": "code",
      "execution_count": 35,
      "metadata": {
        "colab": {
          "base_uri": "https://localhost:8080/",
          "height": 283
        },
        "id": "mIj0_c9a-bmN",
        "outputId": "08f0de7d-7a75-4fcd-9724-0fb06bbc7a56"
      },
      "outputs": [
        {
          "data": {
            "application/vnd.google.colaboratory.intrinsic+json": {
              "type": "string"
            },
            "text/plain": [
              "''"
            ]
          },
          "execution_count": 35,
          "metadata": {},
          "output_type": "execute_result"
        },
        {
          "data": {
            "image/png": "[encoded data removed]",
            "text/plain": [
              "<Figure size 432x288 with 1 Axes>"
            ]
          },
          "metadata": {
            "needs_background": "light"
          },
          "output_type": "display_data"
        }
      ],
      "source": [
        "plt.imshow(np.reshape(np.array(training_data[training_data['label'] == 9].drop(columns='label').iloc[0]), (28, 28)))\n",
        ";"
      ]
    },
    {
      "cell_type": "markdown",
      "metadata": {
        "id": "kg6drcWPWE34"
      },
      "source": [
        "It appears images are encoded to 255, must standarize\n",
        "\n",
        "## Standarization"
      ]
    },
    {
      "cell_type": "code",
      "execution_count": 31,
      "metadata": {
        "id": "9lhEFrfUHl3F"
      },
      "outputs": [],
      "source": [
        "X_train /= 255.\n",
        "X_test /= 255."
      ]
    },
    {
      "cell_type": "code",
      "execution_count": 9,
      "metadata": {
        "colab": {
          "base_uri": "https://localhost:8080/",
          "height": 300
        },
        "id": "T3PrGRyZHpvo",
        "outputId": "6ed7cd15-6864-49b1-d4f5-4d7bdcd1aa5d"
      },
      "outputs": [
        {
          "data": {
            "text/html": [
              "\n",
              "  <div id=\"df-43058df7-023c-41d1-92b9-40a04a984cf1\">\n",
              "    <div class=\"colab-df-container\">\n",
              "      <div>\n",
              "<style scoped>\n",
              "    .dataframe tbody tr th:only-of-type {\n",
              "        vertical-align: middle;\n",
              "    }\n",
              "\n",
              "    .dataframe tbody tr th {\n",
              "        vertical-align: top;\n",
              "    }\n",
              "\n",
              "    .dataframe thead th {\n",
              "        text-align: right;\n",
              "    }\n",
              "</style>\n",
              "<table border=\"1\" class=\"dataframe\">\n",
              "  <thead>\n",
              "    <tr style=\"text-align: right;\">\n",
              "      <th></th>\n",
              "      <th>pixel1</th>\n",
              "      <th>pixel2</th>\n",
              "      <th>pixel3</th>\n",
              "      <th>pixel4</th>\n",
              "      <th>pixel5</th>\n",
              "      <th>pixel6</th>\n",
              "      <th>pixel7</th>\n",
              "      <th>pixel8</th>\n",
              "      <th>pixel9</th>\n",
              "      <th>pixel10</th>\n",
              "      <th>pixel11</th>\n",
              "      <th>pixel12</th>\n",
              "      <th>pixel13</th>\n",
              "      <th>pixel14</th>\n",
              "      <th>pixel15</th>\n",
              "      <th>pixel16</th>\n",
              "      <th>pixel17</th>\n",
              "      <th>pixel18</th>\n",
              "      <th>pixel19</th>\n",
              "      <th>pixel20</th>\n",
              "      <th>pixel21</th>\n",
              "      <th>pixel22</th>\n",
              "      <th>pixel23</th>\n",
              "      <th>pixel24</th>\n",
              "      <th>pixel25</th>\n",
              "      <th>pixel26</th>\n",
              "      <th>pixel27</th>\n",
              "      <th>pixel28</th>\n",
              "      <th>pixel29</th>\n",
              "      <th>pixel30</th>\n",
              "      <th>pixel31</th>\n",
              "      <th>pixel32</th>\n",
              "      <th>pixel33</th>\n",
              "      <th>pixel34</th>\n",
              "      <th>pixel35</th>\n",
              "      <th>pixel36</th>\n",
              "      <th>pixel37</th>\n",
              "      <th>pixel38</th>\n",
              "      <th>pixel39</th>\n",
              "      <th>pixel40</th>\n",
              "      <th>...</th>\n",
              "      <th>pixel745</th>\n",
              "      <th>pixel746</th>\n",
              "      <th>pixel747</th>\n",
              "      <th>pixel748</th>\n",
              "      <th>pixel749</th>\n",
              "      <th>pixel750</th>\n",
              "      <th>pixel751</th>\n",
              "      <th>pixel752</th>\n",
              "      <th>pixel753</th>\n",
              "      <th>pixel754</th>\n",
              "      <th>pixel755</th>\n",
              "      <th>pixel756</th>\n",
              "      <th>pixel757</th>\n",
              "      <th>pixel758</th>\n",
              "      <th>pixel759</th>\n",
              "      <th>pixel760</th>\n",
              "      <th>pixel761</th>\n",
              "      <th>pixel762</th>\n",
              "      <th>pixel763</th>\n",
              "      <th>pixel764</th>\n",
              "      <th>pixel765</th>\n",
              "      <th>pixel766</th>\n",
              "      <th>pixel767</th>\n",
              "      <th>pixel768</th>\n",
              "      <th>pixel769</th>\n",
              "      <th>pixel770</th>\n",
              "      <th>pixel771</th>\n",
              "      <th>pixel772</th>\n",
              "      <th>pixel773</th>\n",
              "      <th>pixel774</th>\n",
              "      <th>pixel775</th>\n",
              "      <th>pixel776</th>\n",
              "      <th>pixel777</th>\n",
              "      <th>pixel778</th>\n",
              "      <th>pixel779</th>\n",
              "      <th>pixel780</th>\n",
              "      <th>pixel781</th>\n",
              "      <th>pixel782</th>\n",
              "      <th>pixel783</th>\n",
              "      <th>pixel784</th>\n",
              "    </tr>\n",
              "  </thead>\n",
              "  <tbody>\n",
              "    <tr>\n",
              "      <th>47457</th>\n",
              "      <td>0.0</td>\n",
              "      <td>0.0</td>\n",
              "      <td>0.0</td>\n",
              "      <td>0.0</td>\n",
              "      <td>0.0</td>\n",
              "      <td>0.0</td>\n",
              "      <td>0.0</td>\n",
              "      <td>0.0</td>\n",
              "      <td>0.011765</td>\n",
              "      <td>0.0</td>\n",
              "      <td>0.000000</td>\n",
              "      <td>0.000000</td>\n",
              "      <td>0.298039</td>\n",
              "      <td>0.760784</td>\n",
              "      <td>0.800000</td>\n",
              "      <td>0.560784</td>\n",
              "      <td>0.000000</td>\n",
              "      <td>0.000000</td>\n",
              "      <td>0.000000</td>\n",
              "      <td>0.011765</td>\n",
              "      <td>0.0</td>\n",
              "      <td>0.000000</td>\n",
              "      <td>0.0</td>\n",
              "      <td>0.0</td>\n",
              "      <td>0.0</td>\n",
              "      <td>0.0</td>\n",
              "      <td>0.0</td>\n",
              "      <td>0.0</td>\n",
              "      <td>0.0</td>\n",
              "      <td>0.0</td>\n",
              "      <td>0.0</td>\n",
              "      <td>0.0</td>\n",
              "      <td>0.0</td>\n",
              "      <td>0.0</td>\n",
              "      <td>0.0</td>\n",
              "      <td>0.011765</td>\n",
              "      <td>0.000000</td>\n",
              "      <td>0.000000</td>\n",
              "      <td>0.407843</td>\n",
              "      <td>0.694118</td>\n",
              "      <td>...</td>\n",
              "      <td>0.000000</td>\n",
              "      <td>0.000000</td>\n",
              "      <td>0.000000</td>\n",
              "      <td>0.000000</td>\n",
              "      <td>0.000000</td>\n",
              "      <td>0.000000</td>\n",
              "      <td>0.00000</td>\n",
              "      <td>0.000000</td>\n",
              "      <td>0.000000</td>\n",
              "      <td>0.000000</td>\n",
              "      <td>0.000000</td>\n",
              "      <td>0.000000</td>\n",
              "      <td>0.0</td>\n",
              "      <td>0.0</td>\n",
              "      <td>0.0</td>\n",
              "      <td>0.0</td>\n",
              "      <td>0.0</td>\n",
              "      <td>0.0</td>\n",
              "      <td>0.0</td>\n",
              "      <td>0.000000</td>\n",
              "      <td>0.003922</td>\n",
              "      <td>0.000000</td>\n",
              "      <td>0.000000</td>\n",
              "      <td>0.000000</td>\n",
              "      <td>0.137255</td>\n",
              "      <td>0.384314</td>\n",
              "      <td>0.760784</td>\n",
              "      <td>0.588235</td>\n",
              "      <td>0.000000</td>\n",
              "      <td>0.000000</td>\n",
              "      <td>0.000000</td>\n",
              "      <td>0.003922</td>\n",
              "      <td>0.000000</td>\n",
              "      <td>0.000000</td>\n",
              "      <td>0.000000</td>\n",
              "      <td>0.000000</td>\n",
              "      <td>0.000000</td>\n",
              "      <td>0.000000</td>\n",
              "      <td>0.00000</td>\n",
              "      <td>0.0</td>\n",
              "    </tr>\n",
              "    <tr>\n",
              "      <th>51279</th>\n",
              "      <td>0.0</td>\n",
              "      <td>0.0</td>\n",
              "      <td>0.0</td>\n",
              "      <td>0.0</td>\n",
              "      <td>0.0</td>\n",
              "      <td>0.0</td>\n",
              "      <td>0.0</td>\n",
              "      <td>0.0</td>\n",
              "      <td>0.137255</td>\n",
              "      <td>0.4</td>\n",
              "      <td>0.501961</td>\n",
              "      <td>0.466667</td>\n",
              "      <td>0.286275</td>\n",
              "      <td>0.454902</td>\n",
              "      <td>0.439216</td>\n",
              "      <td>0.247059</td>\n",
              "      <td>0.407843</td>\n",
              "      <td>0.494118</td>\n",
              "      <td>0.368627</td>\n",
              "      <td>0.047059</td>\n",
              "      <td>0.0</td>\n",
              "      <td>0.003922</td>\n",
              "      <td>0.0</td>\n",
              "      <td>0.0</td>\n",
              "      <td>0.0</td>\n",
              "      <td>0.0</td>\n",
              "      <td>0.0</td>\n",
              "      <td>0.0</td>\n",
              "      <td>0.0</td>\n",
              "      <td>0.0</td>\n",
              "      <td>0.0</td>\n",
              "      <td>0.0</td>\n",
              "      <td>0.0</td>\n",
              "      <td>0.0</td>\n",
              "      <td>0.0</td>\n",
              "      <td>0.133333</td>\n",
              "      <td>0.494118</td>\n",
              "      <td>0.423529</td>\n",
              "      <td>0.411765</td>\n",
              "      <td>0.474510</td>\n",
              "      <td>...</td>\n",
              "      <td>1.000000</td>\n",
              "      <td>0.596078</td>\n",
              "      <td>0.435294</td>\n",
              "      <td>0.533333</td>\n",
              "      <td>0.105882</td>\n",
              "      <td>0.000000</td>\n",
              "      <td>0.00000</td>\n",
              "      <td>0.000000</td>\n",
              "      <td>0.000000</td>\n",
              "      <td>0.000000</td>\n",
              "      <td>0.000000</td>\n",
              "      <td>0.000000</td>\n",
              "      <td>0.0</td>\n",
              "      <td>0.0</td>\n",
              "      <td>0.0</td>\n",
              "      <td>0.0</td>\n",
              "      <td>0.0</td>\n",
              "      <td>0.0</td>\n",
              "      <td>0.0</td>\n",
              "      <td>0.000000</td>\n",
              "      <td>0.152941</td>\n",
              "      <td>0.274510</td>\n",
              "      <td>0.352941</td>\n",
              "      <td>0.227451</td>\n",
              "      <td>0.486275</td>\n",
              "      <td>0.623529</td>\n",
              "      <td>0.643137</td>\n",
              "      <td>0.298039</td>\n",
              "      <td>0.474510</td>\n",
              "      <td>0.227451</td>\n",
              "      <td>0.121569</td>\n",
              "      <td>0.188235</td>\n",
              "      <td>0.000000</td>\n",
              "      <td>0.000000</td>\n",
              "      <td>0.000000</td>\n",
              "      <td>0.000000</td>\n",
              "      <td>0.000000</td>\n",
              "      <td>0.000000</td>\n",
              "      <td>0.00000</td>\n",
              "      <td>0.0</td>\n",
              "    </tr>\n",
              "    <tr>\n",
              "      <th>760</th>\n",
              "      <td>0.0</td>\n",
              "      <td>0.0</td>\n",
              "      <td>0.0</td>\n",
              "      <td>0.0</td>\n",
              "      <td>0.0</td>\n",
              "      <td>0.0</td>\n",
              "      <td>0.0</td>\n",
              "      <td>0.0</td>\n",
              "      <td>0.000000</td>\n",
              "      <td>0.0</td>\n",
              "      <td>0.000000</td>\n",
              "      <td>0.000000</td>\n",
              "      <td>0.000000</td>\n",
              "      <td>0.000000</td>\n",
              "      <td>0.000000</td>\n",
              "      <td>0.000000</td>\n",
              "      <td>0.000000</td>\n",
              "      <td>0.000000</td>\n",
              "      <td>0.000000</td>\n",
              "      <td>0.000000</td>\n",
              "      <td>0.0</td>\n",
              "      <td>0.000000</td>\n",
              "      <td>0.0</td>\n",
              "      <td>0.0</td>\n",
              "      <td>0.0</td>\n",
              "      <td>0.0</td>\n",
              "      <td>0.0</td>\n",
              "      <td>0.0</td>\n",
              "      <td>0.0</td>\n",
              "      <td>0.0</td>\n",
              "      <td>0.0</td>\n",
              "      <td>0.0</td>\n",
              "      <td>0.0</td>\n",
              "      <td>0.0</td>\n",
              "      <td>0.0</td>\n",
              "      <td>0.000000</td>\n",
              "      <td>0.000000</td>\n",
              "      <td>0.000000</td>\n",
              "      <td>0.000000</td>\n",
              "      <td>0.000000</td>\n",
              "      <td>...</td>\n",
              "      <td>0.011765</td>\n",
              "      <td>0.000000</td>\n",
              "      <td>0.000000</td>\n",
              "      <td>0.019608</td>\n",
              "      <td>0.000000</td>\n",
              "      <td>0.674510</td>\n",
              "      <td>0.85098</td>\n",
              "      <td>0.788235</td>\n",
              "      <td>0.941176</td>\n",
              "      <td>0.894118</td>\n",
              "      <td>0.839216</td>\n",
              "      <td>0.039216</td>\n",
              "      <td>0.0</td>\n",
              "      <td>0.0</td>\n",
              "      <td>0.0</td>\n",
              "      <td>0.0</td>\n",
              "      <td>0.0</td>\n",
              "      <td>0.0</td>\n",
              "      <td>0.0</td>\n",
              "      <td>0.047059</td>\n",
              "      <td>0.082353</td>\n",
              "      <td>0.074510</td>\n",
              "      <td>0.015686</td>\n",
              "      <td>0.000000</td>\n",
              "      <td>0.000000</td>\n",
              "      <td>0.000000</td>\n",
              "      <td>0.000000</td>\n",
              "      <td>0.019608</td>\n",
              "      <td>0.000000</td>\n",
              "      <td>0.003922</td>\n",
              "      <td>0.000000</td>\n",
              "      <td>0.003922</td>\n",
              "      <td>0.000000</td>\n",
              "      <td>0.000000</td>\n",
              "      <td>0.054902</td>\n",
              "      <td>0.015686</td>\n",
              "      <td>0.039216</td>\n",
              "      <td>0.066667</td>\n",
              "      <td>0.05098</td>\n",
              "      <td>0.0</td>\n",
              "    </tr>\n",
              "    <tr>\n",
              "      <th>44505</th>\n",
              "      <td>0.0</td>\n",
              "      <td>0.0</td>\n",
              "      <td>0.0</td>\n",
              "      <td>0.0</td>\n",
              "      <td>0.0</td>\n",
              "      <td>0.0</td>\n",
              "      <td>0.0</td>\n",
              "      <td>0.0</td>\n",
              "      <td>0.000000</td>\n",
              "      <td>0.0</td>\n",
              "      <td>0.000000</td>\n",
              "      <td>0.313725</td>\n",
              "      <td>0.341176</td>\n",
              "      <td>0.325490</td>\n",
              "      <td>0.341176</td>\n",
              "      <td>0.301961</td>\n",
              "      <td>0.290196</td>\n",
              "      <td>0.278431</td>\n",
              "      <td>0.133333</td>\n",
              "      <td>0.000000</td>\n",
              "      <td>0.0</td>\n",
              "      <td>0.000000</td>\n",
              "      <td>0.0</td>\n",
              "      <td>0.0</td>\n",
              "      <td>0.0</td>\n",
              "      <td>0.0</td>\n",
              "      <td>0.0</td>\n",
              "      <td>0.0</td>\n",
              "      <td>0.0</td>\n",
              "      <td>0.0</td>\n",
              "      <td>0.0</td>\n",
              "      <td>0.0</td>\n",
              "      <td>0.0</td>\n",
              "      <td>0.0</td>\n",
              "      <td>0.0</td>\n",
              "      <td>0.000000</td>\n",
              "      <td>0.003922</td>\n",
              "      <td>0.000000</td>\n",
              "      <td>0.117647</td>\n",
              "      <td>0.611765</td>\n",
              "      <td>...</td>\n",
              "      <td>0.623529</td>\n",
              "      <td>0.117647</td>\n",
              "      <td>0.000000</td>\n",
              "      <td>0.000000</td>\n",
              "      <td>0.000000</td>\n",
              "      <td>0.000000</td>\n",
              "      <td>0.00000</td>\n",
              "      <td>0.000000</td>\n",
              "      <td>0.000000</td>\n",
              "      <td>0.000000</td>\n",
              "      <td>0.000000</td>\n",
              "      <td>0.000000</td>\n",
              "      <td>0.0</td>\n",
              "      <td>0.0</td>\n",
              "      <td>0.0</td>\n",
              "      <td>0.0</td>\n",
              "      <td>0.0</td>\n",
              "      <td>0.0</td>\n",
              "      <td>0.0</td>\n",
              "      <td>0.000000</td>\n",
              "      <td>0.000000</td>\n",
              "      <td>0.000000</td>\n",
              "      <td>0.000000</td>\n",
              "      <td>0.000000</td>\n",
              "      <td>0.384314</td>\n",
              "      <td>0.152941</td>\n",
              "      <td>0.000000</td>\n",
              "      <td>0.376471</td>\n",
              "      <td>0.258824</td>\n",
              "      <td>0.000000</td>\n",
              "      <td>0.000000</td>\n",
              "      <td>0.003922</td>\n",
              "      <td>0.000000</td>\n",
              "      <td>0.000000</td>\n",
              "      <td>0.000000</td>\n",
              "      <td>0.000000</td>\n",
              "      <td>0.000000</td>\n",
              "      <td>0.000000</td>\n",
              "      <td>0.00000</td>\n",
              "      <td>0.0</td>\n",
              "    </tr>\n",
              "    <tr>\n",
              "      <th>19402</th>\n",
              "      <td>0.0</td>\n",
              "      <td>0.0</td>\n",
              "      <td>0.0</td>\n",
              "      <td>0.0</td>\n",
              "      <td>0.0</td>\n",
              "      <td>0.0</td>\n",
              "      <td>0.0</td>\n",
              "      <td>0.0</td>\n",
              "      <td>0.000000</td>\n",
              "      <td>0.0</td>\n",
              "      <td>0.003922</td>\n",
              "      <td>0.000000</td>\n",
              "      <td>0.000000</td>\n",
              "      <td>0.278431</td>\n",
              "      <td>0.211765</td>\n",
              "      <td>0.333333</td>\n",
              "      <td>0.121569</td>\n",
              "      <td>0.000000</td>\n",
              "      <td>0.023529</td>\n",
              "      <td>0.000000</td>\n",
              "      <td>0.0</td>\n",
              "      <td>0.000000</td>\n",
              "      <td>0.0</td>\n",
              "      <td>0.0</td>\n",
              "      <td>0.0</td>\n",
              "      <td>0.0</td>\n",
              "      <td>0.0</td>\n",
              "      <td>0.0</td>\n",
              "      <td>0.0</td>\n",
              "      <td>0.0</td>\n",
              "      <td>0.0</td>\n",
              "      <td>0.0</td>\n",
              "      <td>0.0</td>\n",
              "      <td>0.0</td>\n",
              "      <td>0.0</td>\n",
              "      <td>0.000000</td>\n",
              "      <td>0.000000</td>\n",
              "      <td>0.003922</td>\n",
              "      <td>0.000000</td>\n",
              "      <td>0.000000</td>\n",
              "      <td>...</td>\n",
              "      <td>0.811765</td>\n",
              "      <td>0.819608</td>\n",
              "      <td>0.839216</td>\n",
              "      <td>0.819608</td>\n",
              "      <td>0.764706</td>\n",
              "      <td>0.792157</td>\n",
              "      <td>0.00000</td>\n",
              "      <td>0.000000</td>\n",
              "      <td>0.000000</td>\n",
              "      <td>0.000000</td>\n",
              "      <td>0.000000</td>\n",
              "      <td>0.000000</td>\n",
              "      <td>0.0</td>\n",
              "      <td>0.0</td>\n",
              "      <td>0.0</td>\n",
              "      <td>0.0</td>\n",
              "      <td>0.0</td>\n",
              "      <td>0.0</td>\n",
              "      <td>0.0</td>\n",
              "      <td>0.266667</td>\n",
              "      <td>0.698039</td>\n",
              "      <td>0.619608</td>\n",
              "      <td>0.674510</td>\n",
              "      <td>0.705882</td>\n",
              "      <td>0.737255</td>\n",
              "      <td>0.760784</td>\n",
              "      <td>0.772549</td>\n",
              "      <td>0.764706</td>\n",
              "      <td>0.764706</td>\n",
              "      <td>0.745098</td>\n",
              "      <td>0.741176</td>\n",
              "      <td>0.729412</td>\n",
              "      <td>0.831373</td>\n",
              "      <td>0.286275</td>\n",
              "      <td>0.000000</td>\n",
              "      <td>0.000000</td>\n",
              "      <td>0.000000</td>\n",
              "      <td>0.000000</td>\n",
              "      <td>0.00000</td>\n",
              "      <td>0.0</td>\n",
              "    </tr>\n",
              "  </tbody>\n",
              "</table>\n",
              "<p>5 rows × 784 columns</p>\n",
              "</div>\n",
              "      <button class=\"colab-df-convert\" onclick=\"convertToInteractive('df-43058df7-023c-41d1-92b9-40a04a984cf1')\"\n",
              "              title=\"Convert this dataframe to an interactive table.\"\n",
              "              style=\"display:none;\">\n",
              "        \n",
              "  <svg xmlns=\"http://www.w3.org/2000/svg\" height=\"24px\"viewBox=\"0 0 24 24\"\n",
              "       width=\"24px\">\n",
              "    <path d=\"M0 0h24v24H0V0z\" fill=\"none\"/>\n",
              "    <path d=\"M18.56 5.44l.94 2.06.94-2.06 2.06-.94-2.06-.94-.94-2.06-.94 2.06-2.06.94zm-11 1L8.5 8.5l.94-2.06 2.06-.94-2.06-.94L8.5 2.5l-.94 2.06-2.06.94zm10 10l.94 2.06.94-2.06 2.06-.94-2.06-.94-.94-2.06-.94 2.06-2.06.94z\"/><path d=\"M17.41 7.96l-1.37-1.37c-.4-.4-.92-.59-1.43-.59-.52 0-1.04.2-1.43.59L10.3 9.45l-7.72 7.72c-.78.78-.78 2.05 0 2.83L4 21.41c.39.39.9.59 1.41.59.51 0 1.02-.2 1.41-.59l7.78-7.78 2.81-2.81c.8-.78.8-2.07 0-2.86zM5.41 20L4 18.59l7.72-7.72 1.47 1.35L5.41 20z\"/>\n",
              "  </svg>\n",
              "      </button>\n",
              "      \n",
              "  <style>\n",
              "    .colab-df-container {\n",
              "      display:flex;\n",
              "      flex-wrap:wrap;\n",
              "      gap: 12px;\n",
              "    }\n",
              "\n",
              "    .colab-df-convert {\n",
              "      background-color: #E8F0FE;\n",
              "      border: none;\n",
              "      border-radius: 50%;\n",
              "      cursor: pointer;\n",
              "      display: none;\n",
              "      fill: #1967D2;\n",
              "      height: 32px;\n",
              "      padding: 0 0 0 0;\n",
              "      width: 32px;\n",
              "    }\n",
              "\n",
              "    .colab-df-convert:hover {\n",
              "      background-color: #E2EBFA;\n",
              "      box-shadow: 0px 1px 2px rgba(60, 64, 67, 0.3), 0px 1px 3px 1px rgba(60, 64, 67, 0.15);\n",
              "      fill: #174EA6;\n",
              "    }\n",
              "\n",
              "    [theme=dark] .colab-df-convert {\n",
              "      background-color: #3B4455;\n",
              "      fill: #D2E3FC;\n",
              "    }\n",
              "\n",
              "    [theme=dark] .colab-df-convert:hover {\n",
              "      background-color: #434B5C;\n",
              "      box-shadow: 0px 1px 3px 1px rgba(0, 0, 0, 0.15);\n",
              "      filter: drop-shadow(0px 1px 2px rgba(0, 0, 0, 0.3));\n",
              "      fill: #FFFFFF;\n",
              "    }\n",
              "  </style>\n",
              "\n",
              "      <script>\n",
              "        const buttonEl =\n",
              "          document.querySelector('#df-43058df7-023c-41d1-92b9-40a04a984cf1 button.colab-df-convert');\n",
              "        buttonEl.style.display =\n",
              "          google.colab.kernel.accessAllowed ? 'block' : 'none';\n",
              "\n",
              "        async function convertToInteractive(key) {\n",
              "          const element = document.querySelector('#df-43058df7-023c-41d1-92b9-40a04a984cf1');\n",
              "          const dataTable =\n",
              "            await google.colab.kernel.invokeFunction('convertToInteractive',\n",
              "                                                     [key], {});\n",
              "          if (!dataTable) return;\n",
              "\n",
              "          const docLinkHtml = 'Like what you see? Visit the ' +\n",
              "            '<a target=\"_blank\" href=https://colab.research.google.com/notebooks/data_table.ipynb>data table notebook</a>'\n",
              "            + ' to learn more about interactive tables.';\n",
              "          element.innerHTML = '';\n",
              "          dataTable['output_type'] = 'display_data';\n",
              "          await google.colab.output.renderOutput(dataTable, element);\n",
              "          const docLink = document.createElement('div');\n",
              "          docLink.innerHTML = docLinkHtml;\n",
              "          element.appendChild(docLink);\n",
              "        }\n",
              "      </script>\n",
              "    </div>\n",
              "  </div>\n",
              "  "
            ],
            "text/plain": [
              "       pixel1  pixel2  pixel3  pixel4  ...  pixel781  pixel782  pixel783  pixel784\n",
              "47457     0.0     0.0     0.0     0.0  ...  0.000000  0.000000   0.00000       0.0\n",
              "51279     0.0     0.0     0.0     0.0  ...  0.000000  0.000000   0.00000       0.0\n",
              "760       0.0     0.0     0.0     0.0  ...  0.039216  0.066667   0.05098       0.0\n",
              "44505     0.0     0.0     0.0     0.0  ...  0.000000  0.000000   0.00000       0.0\n",
              "19402     0.0     0.0     0.0     0.0  ...  0.000000  0.000000   0.00000       0.0\n",
              "\n",
              "[5 rows x 784 columns]"
            ]
          },
          "execution_count": 9,
          "metadata": {},
          "output_type": "execute_result"
        }
      ],
      "source": [
        "X_train.head()"
      ]
    },
    {
      "cell_type": "code",
      "execution_count": 10,
      "metadata": {
        "colab": {
          "base_uri": "https://localhost:8080/"
        },
        "id": "fwdP0q2VHq9T",
        "outputId": "74d1a940-9344-45b1-fc8d-eec9f0964d23"
      },
      "outputs": [
        {
          "data": {
            "text/plain": [
              "pixel1      float64\n",
              "pixel2      float64\n",
              "pixel3      float64\n",
              "pixel4      float64\n",
              "pixel5      float64\n",
              "             ...   \n",
              "pixel780    float64\n",
              "pixel781    float64\n",
              "pixel782    float64\n",
              "pixel783    float64\n",
              "pixel784    float64\n",
              "Length: 784, dtype: object"
            ]
          },
          "execution_count": 10,
          "metadata": {},
          "output_type": "execute_result"
        }
      ],
      "source": [
        "X_train.dtypes"
      ]
    },
    {
      "cell_type": "markdown",
      "metadata": {
        "id": "tJqL6oyKWO4k"
      },
      "source": [
        "## Encode Target"
      ]
    },
    {
      "cell_type": "code",
      "execution_count": 11,
      "metadata": {
        "id": "CkxeV-YdH-c0"
      },
      "outputs": [],
      "source": [
        "y_train_encoded = utils.to_categorical(y_train, 10)\n",
        "y_test_encoded = utils.to_categorical(y_test, 10)"
      ]
    },
    {
      "cell_type": "code",
      "execution_count": 12,
      "metadata": {
        "colab": {
          "base_uri": "https://localhost:8080/"
        },
        "id": "3mHr4VXyIoSC",
        "outputId": "89deeee7-1cb5-4133-b159-6cbd5d362ff9"
      },
      "outputs": [
        {
          "data": {
            "text/plain": [
              "(45000, 10)"
            ]
          },
          "execution_count": 12,
          "metadata": {},
          "output_type": "execute_result"
        }
      ],
      "source": [
        "y_train_encoded.shape"
      ]
    },
    {
      "cell_type": "markdown",
      "metadata": {
        "id": "OLDQ1K2MYo_3"
      },
      "source": [
        "## Baseline"
      ]
    },
    {
      "cell_type": "code",
      "execution_count": 13,
      "metadata": {
        "colab": {
          "base_uri": "https://localhost:8080/"
        },
        "id": "cozE97WLYq5o",
        "outputId": "9ff0d8b0-1583-4619-e93f-62cd0b823d3b"
      },
      "outputs": [
        {
          "data": {
            "text/plain": [
              "0.10117777777777778"
            ]
          },
          "execution_count": 13,
          "metadata": {},
          "output_type": "execute_result"
        }
      ],
      "source": [
        "pd.DataFrame(y_train_encoded).value_counts(normalize=True).max()"
      ]
    },
    {
      "cell_type": "markdown",
      "metadata": {
        "id": "GyyNa2zhWTVr"
      },
      "source": [
        "## Neural Network Model"
      ]
    },
    {
      "cell_type": "code",
      "execution_count": 32,
      "metadata": {
        "id": "-QcXgipqIp4x"
      },
      "outputs": [],
      "source": [
        "model1 = Sequential()\n",
        "# model1.add(Flatten()) # Keeping this out because the DF is already flat?\n",
        "model1.add(Dense(128, activation=\"relu\"))\n",
        "model1.add(Dense(32, activation=\"relu\"))\n",
        "model1.add(Dense(10, activation=\"softmax\"))"
      ]
    },
    {
      "cell_type": "code",
      "execution_count": 33,
      "metadata": {
        "id": "ifUkFWVlJKHQ"
      },
      "outputs": [],
      "source": [
        "model1.compile(\n",
        "    loss='categorical_crossentropy',\n",
        "    optimizer='adam',\n",
        "    metrics=['accuracy']\n",
        "    )"
      ]
    },
    {
      "cell_type": "code",
      "execution_count": 38,
      "metadata": {
        "colab": {
          "base_uri": "https://localhost:8080/"
        },
        "id": "7B33sxazJLf0",
        "outputId": "226524b3-75d3-4aa2-b7f2-a0377a79b6c9"
      },
      "outputs": [
        {
          "name": "stdout",
          "output_type": "stream",
          "text": [
            "Epoch 1/100\n",
            "352/352 [==============================] - 14s 39ms/step - loss: 0.5477 - accuracy: 0.8022 - val_loss: 124.6145 - val_accuracy: 0.6565\n",
            "Epoch 2/100\n",
            "352/352 [==============================] - 15s 44ms/step - loss: 0.5283 - accuracy: 0.8097 - val_loss: 117.8556 - val_accuracy: 0.6605\n",
            "Epoch 3/100\n",
            "352/352 [==============================] - 11s 31ms/step - loss: 0.5119 - accuracy: 0.8175 - val_loss: 120.0563 - val_accuracy: 0.6617\n",
            "Epoch 4/100\n",
            "352/352 [==============================] - 15s 43ms/step - loss: 0.4992 - accuracy: 0.8218 - val_loss: 118.1628 - val_accuracy: 0.6589\n",
            "Epoch 5/100\n",
            "352/352 [==============================] - 11s 32ms/step - loss: 0.4867 - accuracy: 0.8269 - val_loss: 110.1082 - val_accuracy: 0.6681\n",
            "Epoch 6/100\n",
            "352/352 [==============================] - 10s 30ms/step - loss: 0.4745 - accuracy: 0.8308 - val_loss: 113.7478 - val_accuracy: 0.6585\n",
            "Epoch 7/100\n",
            "352/352 [==============================] - 6s 17ms/step - loss: 0.4652 - accuracy: 0.8341 - val_loss: 115.7002 - val_accuracy: 0.6563\n",
            "Epoch 8/100\n",
            "352/352 [==============================] - 3s 8ms/step - loss: 0.4573 - accuracy: 0.8368 - val_loss: 111.6417 - val_accuracy: 0.6582\n",
            "Epoch 9/100\n",
            "352/352 [==============================] - 3s 7ms/step - loss: 0.4508 - accuracy: 0.8396 - val_loss: 103.6290 - val_accuracy: 0.6729\n",
            "Epoch 10/100\n",
            "352/352 [==============================] - 3s 8ms/step - loss: 0.4432 - accuracy: 0.8418 - val_loss: 100.8301 - val_accuracy: 0.6715\n",
            "Epoch 11/100\n",
            "352/352 [==============================] - 2s 7ms/step - loss: 0.4370 - accuracy: 0.8443 - val_loss: 94.0298 - val_accuracy: 0.6817\n",
            "Epoch 12/100\n",
            "352/352 [==============================] - 2s 6ms/step - loss: 0.4316 - accuracy: 0.8450 - val_loss: 99.3711 - val_accuracy: 0.6757\n",
            "Epoch 13/100\n",
            "352/352 [==============================] - 2s 6ms/step - loss: 0.4274 - accuracy: 0.8474 - val_loss: 96.2649 - val_accuracy: 0.6794\n",
            "Epoch 14/100\n",
            "352/352 [==============================] - 2s 6ms/step - loss: 0.4226 - accuracy: 0.8488 - val_loss: 95.2639 - val_accuracy: 0.6802\n",
            "Epoch 15/100\n",
            "352/352 [==============================] - 2s 6ms/step - loss: 0.4173 - accuracy: 0.8518 - val_loss: 92.4053 - val_accuracy: 0.6851\n",
            "Epoch 16/100\n",
            "352/352 [==============================] - 2s 6ms/step - loss: 0.4134 - accuracy: 0.8517 - val_loss: 88.7077 - val_accuracy: 0.6939\n",
            "Epoch 17/100\n",
            "352/352 [==============================] - 2s 6ms/step - loss: 0.4095 - accuracy: 0.8544 - val_loss: 92.7247 - val_accuracy: 0.6875\n",
            "Epoch 18/100\n",
            "352/352 [==============================] - 2s 6ms/step - loss: 0.4054 - accuracy: 0.8546 - val_loss: 95.4234 - val_accuracy: 0.6809\n",
            "Epoch 19/100\n",
            "352/352 [==============================] - 2s 6ms/step - loss: 0.4018 - accuracy: 0.8565 - val_loss: 82.4436 - val_accuracy: 0.7034\n",
            "Epoch 20/100\n",
            "352/352 [==============================] - 2s 7ms/step - loss: 0.3978 - accuracy: 0.8579 - val_loss: 89.1367 - val_accuracy: 0.6909\n",
            "Epoch 21/100\n",
            "352/352 [==============================] - 2s 6ms/step - loss: 0.3946 - accuracy: 0.8584 - val_loss: 88.9842 - val_accuracy: 0.6909\n",
            "Epoch 22/100\n",
            "352/352 [==============================] - 2s 6ms/step - loss: 0.3915 - accuracy: 0.8595 - val_loss: 83.2832 - val_accuracy: 0.7035\n",
            "Epoch 23/100\n",
            "352/352 [==============================] - 2s 6ms/step - loss: 0.3875 - accuracy: 0.8609 - val_loss: 79.4107 - val_accuracy: 0.7101\n",
            "Epoch 24/100\n",
            "352/352 [==============================] - 2s 6ms/step - loss: 0.3840 - accuracy: 0.8626 - val_loss: 85.1985 - val_accuracy: 0.7020\n",
            "Epoch 25/100\n",
            "352/352 [==============================] - 2s 6ms/step - loss: 0.3823 - accuracy: 0.8634 - val_loss: 86.6363 - val_accuracy: 0.6997\n",
            "Epoch 26/100\n",
            "352/352 [==============================] - 2s 6ms/step - loss: 0.3781 - accuracy: 0.8646 - val_loss: 82.6736 - val_accuracy: 0.7108\n",
            "Epoch 27/100\n",
            "352/352 [==============================] - 2s 6ms/step - loss: 0.3753 - accuracy: 0.8653 - val_loss: 79.9272 - val_accuracy: 0.7157\n",
            "Epoch 28/100\n",
            "352/352 [==============================] - 2s 6ms/step - loss: 0.3720 - accuracy: 0.8666 - val_loss: 83.7044 - val_accuracy: 0.7083\n",
            "Epoch 29/100\n",
            "352/352 [==============================] - 2s 6ms/step - loss: 0.3696 - accuracy: 0.8682 - val_loss: 78.7077 - val_accuracy: 0.7196\n",
            "Epoch 30/100\n",
            "352/352 [==============================] - 2s 7ms/step - loss: 0.3668 - accuracy: 0.8691 - val_loss: 76.0471 - val_accuracy: 0.7233\n",
            "Epoch 31/100\n",
            "352/352 [==============================] - 2s 7ms/step - loss: 0.3644 - accuracy: 0.8697 - val_loss: 77.0377 - val_accuracy: 0.7233\n",
            "Epoch 32/100\n",
            "352/352 [==============================] - 2s 6ms/step - loss: 0.3609 - accuracy: 0.8714 - val_loss: 83.0013 - val_accuracy: 0.7107\n",
            "Epoch 33/100\n",
            "352/352 [==============================] - 2s 6ms/step - loss: 0.3585 - accuracy: 0.8717 - val_loss: 70.7096 - val_accuracy: 0.7350\n",
            "Epoch 34/100\n",
            "352/352 [==============================] - 2s 6ms/step - loss: 0.3556 - accuracy: 0.8727 - val_loss: 78.0700 - val_accuracy: 0.7228\n",
            "Epoch 35/100\n",
            "352/352 [==============================] - 2s 6ms/step - loss: 0.3530 - accuracy: 0.8745 - val_loss: 71.8128 - val_accuracy: 0.7353\n",
            "Epoch 36/100\n",
            "352/352 [==============================] - 2s 6ms/step - loss: 0.3511 - accuracy: 0.8742 - val_loss: 75.2918 - val_accuracy: 0.7287\n",
            "Epoch 37/100\n",
            "352/352 [==============================] - 2s 6ms/step - loss: 0.3484 - accuracy: 0.8750 - val_loss: 71.9323 - val_accuracy: 0.7361\n",
            "Epoch 38/100\n",
            "352/352 [==============================] - 2s 6ms/step - loss: 0.3465 - accuracy: 0.8755 - val_loss: 74.1626 - val_accuracy: 0.7318\n",
            "Epoch 39/100\n",
            "352/352 [==============================] - 2s 7ms/step - loss: 0.3443 - accuracy: 0.8776 - val_loss: 72.3344 - val_accuracy: 0.7372\n",
            "Epoch 40/100\n",
            "352/352 [==============================] - 2s 6ms/step - loss: 0.3414 - accuracy: 0.8776 - val_loss: 69.0350 - val_accuracy: 0.7437\n",
            "Epoch 41/100\n",
            "352/352 [==============================] - 2s 6ms/step - loss: 0.3389 - accuracy: 0.8786 - val_loss: 68.2221 - val_accuracy: 0.7453\n",
            "Epoch 42/100\n",
            "352/352 [==============================] - 2s 6ms/step - loss: 0.3372 - accuracy: 0.8788 - val_loss: 64.6546 - val_accuracy: 0.7541\n",
            "Epoch 43/100\n",
            "352/352 [==============================] - 2s 7ms/step - loss: 0.3350 - accuracy: 0.8805 - val_loss: 69.1885 - val_accuracy: 0.7449\n",
            "Epoch 44/100\n",
            "352/352 [==============================] - 2s 7ms/step - loss: 0.3332 - accuracy: 0.8813 - val_loss: 69.4326 - val_accuracy: 0.7449\n",
            "Epoch 45/100\n",
            "352/352 [==============================] - 2s 6ms/step - loss: 0.3312 - accuracy: 0.8816 - val_loss: 68.4443 - val_accuracy: 0.7455\n",
            "Epoch 46/100\n",
            "352/352 [==============================] - 2s 6ms/step - loss: 0.3294 - accuracy: 0.8827 - val_loss: 70.5495 - val_accuracy: 0.7419\n",
            "Epoch 47/100\n",
            "352/352 [==============================] - 2s 6ms/step - loss: 0.3283 - accuracy: 0.8829 - val_loss: 70.9422 - val_accuracy: 0.7413\n",
            "Epoch 48/100\n",
            "352/352 [==============================] - 3s 7ms/step - loss: 0.3256 - accuracy: 0.8836 - val_loss: 72.8045 - val_accuracy: 0.7400\n",
            "Epoch 49/100\n",
            "352/352 [==============================] - 2s 6ms/step - loss: 0.3234 - accuracy: 0.8837 - val_loss: 66.2865 - val_accuracy: 0.7505\n",
            "Epoch 50/100\n",
            "352/352 [==============================] - 2s 7ms/step - loss: 0.3219 - accuracy: 0.8843 - val_loss: 65.8629 - val_accuracy: 0.7503\n",
            "Epoch 51/100\n",
            "352/352 [==============================] - 2s 6ms/step - loss: 0.3215 - accuracy: 0.8852 - val_loss: 68.9834 - val_accuracy: 0.7469\n",
            "Epoch 52/100\n",
            "352/352 [==============================] - 2s 6ms/step - loss: 0.3186 - accuracy: 0.8854 - val_loss: 67.8058 - val_accuracy: 0.7509\n",
            "Epoch 53/100\n",
            "352/352 [==============================] - 3s 8ms/step - loss: 0.3164 - accuracy: 0.8860 - val_loss: 69.5407 - val_accuracy: 0.7461\n",
            "Epoch 54/100\n",
            "352/352 [==============================] - 2s 7ms/step - loss: 0.3151 - accuracy: 0.8866 - val_loss: 69.9986 - val_accuracy: 0.7456\n",
            "Epoch 55/100\n",
            "352/352 [==============================] - 2s 6ms/step - loss: 0.3134 - accuracy: 0.8886 - val_loss: 72.9912 - val_accuracy: 0.7390\n",
            "Epoch 56/100\n",
            "352/352 [==============================] - 2s 6ms/step - loss: 0.3110 - accuracy: 0.8878 - val_loss: 70.3059 - val_accuracy: 0.7465\n",
            "Epoch 57/100\n",
            "352/352 [==============================] - 2s 6ms/step - loss: 0.3103 - accuracy: 0.8890 - val_loss: 66.2345 - val_accuracy: 0.7566\n",
            "Epoch 58/100\n",
            "352/352 [==============================] - 2s 6ms/step - loss: 0.3080 - accuracy: 0.8895 - val_loss: 60.7354 - val_accuracy: 0.7629\n",
            "Epoch 59/100\n",
            "352/352 [==============================] - 2s 7ms/step - loss: 0.3076 - accuracy: 0.8896 - val_loss: 70.3679 - val_accuracy: 0.7455\n",
            "Epoch 60/100\n",
            "352/352 [==============================] - 2s 7ms/step - loss: 0.3048 - accuracy: 0.8911 - val_loss: 69.4017 - val_accuracy: 0.7481\n",
            "Epoch 61/100\n",
            "352/352 [==============================] - 2s 7ms/step - loss: 0.3029 - accuracy: 0.8921 - val_loss: 68.3502 - val_accuracy: 0.7515\n",
            "Epoch 62/100\n",
            "352/352 [==============================] - 2s 7ms/step - loss: 0.3016 - accuracy: 0.8925 - val_loss: 68.9942 - val_accuracy: 0.7550\n",
            "Epoch 63/100\n",
            "352/352 [==============================] - 2s 7ms/step - loss: 0.3011 - accuracy: 0.8924 - val_loss: 68.5496 - val_accuracy: 0.7531\n",
            "Epoch 64/100\n",
            "352/352 [==============================] - 2s 6ms/step - loss: 0.2989 - accuracy: 0.8934 - val_loss: 68.4680 - val_accuracy: 0.7509\n",
            "Epoch 65/100\n",
            "352/352 [==============================] - 2s 6ms/step - loss: 0.2975 - accuracy: 0.8927 - val_loss: 66.9047 - val_accuracy: 0.7563\n",
            "Epoch 66/100\n",
            "352/352 [==============================] - 2s 7ms/step - loss: 0.2957 - accuracy: 0.8946 - val_loss: 64.4493 - val_accuracy: 0.7605\n",
            "Epoch 67/100\n",
            "352/352 [==============================] - 2s 7ms/step - loss: 0.2946 - accuracy: 0.8943 - val_loss: 68.2328 - val_accuracy: 0.7551\n",
            "Epoch 68/100\n",
            "352/352 [==============================] - 2s 6ms/step - loss: 0.2936 - accuracy: 0.8935 - val_loss: 61.2396 - val_accuracy: 0.7651\n",
            "Epoch 69/100\n",
            "352/352 [==============================] - 2s 6ms/step - loss: 0.2917 - accuracy: 0.8957 - val_loss: 60.7407 - val_accuracy: 0.7716\n",
            "Epoch 70/100\n",
            "352/352 [==============================] - 2s 6ms/step - loss: 0.2906 - accuracy: 0.8954 - val_loss: 65.9715 - val_accuracy: 0.7589\n",
            "Epoch 71/100\n",
            "352/352 [==============================] - 2s 6ms/step - loss: 0.2888 - accuracy: 0.8961 - val_loss: 66.5064 - val_accuracy: 0.7604\n",
            "Epoch 72/100\n",
            "352/352 [==============================] - 2s 6ms/step - loss: 0.2867 - accuracy: 0.8958 - val_loss: 63.1995 - val_accuracy: 0.7658\n",
            "Epoch 73/100\n",
            "352/352 [==============================] - 2s 6ms/step - loss: 0.2877 - accuracy: 0.8968 - val_loss: 63.1951 - val_accuracy: 0.7681\n",
            "Epoch 74/100\n",
            "352/352 [==============================] - 2s 6ms/step - loss: 0.2853 - accuracy: 0.8974 - val_loss: 62.5468 - val_accuracy: 0.7645\n",
            "Epoch 75/100\n",
            "352/352 [==============================] - 2s 6ms/step - loss: 0.2831 - accuracy: 0.8985 - val_loss: 62.6152 - val_accuracy: 0.7689\n",
            "Epoch 76/100\n",
            "352/352 [==============================] - 2s 6ms/step - loss: 0.2821 - accuracy: 0.8993 - val_loss: 65.7718 - val_accuracy: 0.7615\n",
            "Epoch 77/100\n",
            "352/352 [==============================] - 2s 6ms/step - loss: 0.2806 - accuracy: 0.9002 - val_loss: 63.0375 - val_accuracy: 0.7681\n",
            "Epoch 78/100\n",
            "352/352 [==============================] - 2s 6ms/step - loss: 0.2809 - accuracy: 0.8980 - val_loss: 68.1860 - val_accuracy: 0.7590\n",
            "Epoch 79/100\n",
            "352/352 [==============================] - 2s 6ms/step - loss: 0.2780 - accuracy: 0.8998 - val_loss: 62.2667 - val_accuracy: 0.7680\n",
            "Epoch 80/100\n",
            "352/352 [==============================] - 2s 6ms/step - loss: 0.2784 - accuracy: 0.8997 - val_loss: 64.8617 - val_accuracy: 0.7655\n",
            "Epoch 81/100\n",
            "352/352 [==============================] - 2s 6ms/step - loss: 0.2761 - accuracy: 0.9024 - val_loss: 61.6763 - val_accuracy: 0.7707\n",
            "Epoch 82/100\n",
            "352/352 [==============================] - 2s 6ms/step - loss: 0.2749 - accuracy: 0.9008 - val_loss: 68.7215 - val_accuracy: 0.7595\n",
            "Epoch 83/100\n",
            "352/352 [==============================] - 2s 7ms/step - loss: 0.2742 - accuracy: 0.9006 - val_loss: 65.0138 - val_accuracy: 0.7636\n",
            "Epoch 84/100\n",
            "352/352 [==============================] - 2s 6ms/step - loss: 0.2722 - accuracy: 0.9023 - val_loss: 67.0563 - val_accuracy: 0.7618\n",
            "Epoch 85/100\n",
            "352/352 [==============================] - 2s 6ms/step - loss: 0.2711 - accuracy: 0.9020 - val_loss: 62.1425 - val_accuracy: 0.7701\n",
            "Epoch 86/100\n",
            "352/352 [==============================] - 2s 7ms/step - loss: 0.2703 - accuracy: 0.9030 - val_loss: 62.0262 - val_accuracy: 0.7725\n",
            "Epoch 87/100\n",
            "352/352 [==============================] - 2s 6ms/step - loss: 0.2686 - accuracy: 0.9030 - val_loss: 63.4469 - val_accuracy: 0.7678\n",
            "Epoch 88/100\n",
            "352/352 [==============================] - 2s 6ms/step - loss: 0.2681 - accuracy: 0.9035 - val_loss: 64.0764 - val_accuracy: 0.7686\n",
            "Epoch 89/100\n",
            "352/352 [==============================] - 2s 6ms/step - loss: 0.2667 - accuracy: 0.9042 - val_loss: 66.7560 - val_accuracy: 0.7651\n",
            "Epoch 90/100\n",
            "352/352 [==============================] - 2s 6ms/step - loss: 0.2655 - accuracy: 0.9038 - val_loss: 66.1169 - val_accuracy: 0.7651\n",
            "Epoch 91/100\n",
            "352/352 [==============================] - 2s 6ms/step - loss: 0.2645 - accuracy: 0.9046 - val_loss: 69.6599 - val_accuracy: 0.7575\n",
            "Epoch 92/100\n",
            "352/352 [==============================] - 3s 7ms/step - loss: 0.2635 - accuracy: 0.9055 - val_loss: 64.5576 - val_accuracy: 0.7697\n",
            "Epoch 93/100\n",
            "352/352 [==============================] - 2s 6ms/step - loss: 0.2628 - accuracy: 0.9049 - val_loss: 70.1664 - val_accuracy: 0.7578\n",
            "Epoch 94/100\n",
            "352/352 [==============================] - 2s 6ms/step - loss: 0.2608 - accuracy: 0.9062 - val_loss: 65.8539 - val_accuracy: 0.7673\n",
            "Epoch 95/100\n",
            "352/352 [==============================] - 2s 5ms/step - loss: 0.2600 - accuracy: 0.9062 - val_loss: 65.3772 - val_accuracy: 0.7679\n",
            "Epoch 96/100\n",
            "352/352 [==============================] - 1s 4ms/step - loss: 0.2600 - accuracy: 0.9062 - val_loss: 61.2596 - val_accuracy: 0.7794\n",
            "Epoch 97/100\n",
            "352/352 [==============================] - 1s 4ms/step - loss: 0.2581 - accuracy: 0.9070 - val_loss: 65.8396 - val_accuracy: 0.7707\n",
            "Epoch 98/100\n",
            "352/352 [==============================] - 1s 4ms/step - loss: 0.2565 - accuracy: 0.9069 - val_loss: 64.2565 - val_accuracy: 0.7739\n",
            "Epoch 99/100\n",
            "352/352 [==============================] - 1s 4ms/step - loss: 0.2560 - accuracy: 0.9076 - val_loss: 64.1766 - val_accuracy: 0.7741\n",
            "Epoch 100/100\n",
            "352/352 [==============================] - 1s 4ms/step - loss: 0.2559 - accuracy: 0.9076 - val_loss: 63.3042 - val_accuracy: 0.7777\n"
          ]
        }
      ],
      "source": [
        "hist1 = model1.fit(\n",
        "    X_train,\n",
        "    y_train_encoded, \n",
        "    batch_size=128,\n",
        "    validation_data=(X_test, y_test_encoded),\n",
        "    epochs=100,\n",
        "    callbacks=EarlyStopping(monitor='loss', patience=5)\n",
        "    )"
      ]
    },
    {
      "cell_type": "markdown",
      "metadata": {
        "id": "Yf_eArOXXFJT"
      },
      "source": [
        "### Plot training results"
      ]
    },
    {
      "cell_type": "code",
      "execution_count": 39,
      "metadata": {
        "colab": {
          "base_uri": "https://localhost:8080/",
          "height": 501
        },
        "id": "xmWPtqAGXHrd",
        "outputId": "33d722b2-bb3e-444b-a33f-ed54689b9d35"
      },
      "outputs": [
        {
          "data": {
            "application/vnd.google.colaboratory.intrinsic+json": {
              "type": "string"
            },
            "text/plain": [
              "''"
            ]
          },
          "execution_count": 39,
          "metadata": {},
          "output_type": "execute_result"
        },
        {
          "data": {
            "image/png": "[encoded data removed]",
            "text/plain": [
              "<Figure size 864x576 with 1 Axes>"
            ]
          },
          "metadata": {
            "needs_background": "light"
          },
          "output_type": "display_data"
        }
      ],
      "source": [
        "# From lessons/breakfast hour/ lab 7.01\n",
        "# With help from regularization lesson\n",
        "train_accuracy = hist1.history['accuracy']\n",
        "test_accuracy = hist1.history['val_accuracy']\n",
        "\n",
        "plt.figure(figsize=(12, 8))\n",
        "plt.plot(train_accuracy, label='Training Accuracy', color='navy')\n",
        "plt.plot(test_accuracy, label='Testing Accuracy', color='skyblue')\n",
        "plt.legend()\n",
        ";"
      ]
    },
    {
      "cell_type": "markdown",
      "metadata": {
        "id": "cvvEeAg1Xe0T"
      },
      "source": [
        "## Evaluate First Model using the holdout data set"
      ]
    },
    {
      "cell_type": "markdown",
      "metadata": {
        "id": "75Nh1bqlXlRc"
      },
      "source": [
        "### Read in Data"
      ]
    },
    {
      "cell_type": "code",
      "execution_count": 40,
      "metadata": {
        "id": "7zkoE25MJPVt"
      },
      "outputs": [],
      "source": [
        "holdout = pd.read_csv('fashion-mnist_test.csv')"
      ]
    },
    {
      "cell_type": "markdown",
      "metadata": {
        "id": "5I8blAcPXnoL"
      },
      "source": [
        "### Transformations"
      ]
    },
    {
      "cell_type": "code",
      "execution_count": 41,
      "metadata": {
        "id": "9EO6p7EYKBM5"
      },
      "outputs": [],
      "source": [
        "X_test_holdout = holdout.drop(columns='label')\n",
        "X_test_holdout /= 255.\n",
        "y_test_holdout = holdout['label']\n",
        "y_test_holdout_encoded = utils.to_categorical(y_test_holdout, 10)"
      ]
    },
    {
      "cell_type": "markdown",
      "metadata": {
        "id": "2L5gU8qcXt2k"
      },
      "source": [
        "### Make predictions, Evaluate Model and plot Confusion Matrix"
      ]
    },
    {
      "cell_type": "code",
      "execution_count": 42,
      "metadata": {
        "id": "sMQ1W2czKHap"
      },
      "outputs": [],
      "source": [
        "y_preds = model1.predict(X_test_holdout)"
      ]
    },
    {
      "cell_type": "code",
      "execution_count": 43,
      "metadata": {
        "colab": {
          "base_uri": "https://localhost:8080/"
        },
        "id": "cgWsn3p3Y5dd",
        "outputId": "542c3573-81e1-48d0-bd8d-cdb91fcbe647"
      },
      "outputs": [
        {
          "name": "stdout",
          "output_type": "stream",
          "text": [
            "313/313 [==============================] - 1s 3ms/step - loss: 61.7557 - accuracy: 0.7817\n"
          ]
        },
        {
          "data": {
            "text/plain": [
              "[61.75569534301758, 0.7817000150680542]"
            ]
          },
          "execution_count": 43,
          "metadata": {},
          "output_type": "execute_result"
        }
      ],
      "source": [
        "model1.evaluate(X_test_holdout, y_test_holdout_encoded)"
      ]
    },
    {
      "cell_type": "markdown",
      "metadata": {
        "id": "QKWUv6zzc8Zs"
      },
      "source": [
        "#### Baseline Improvement"
      ]
    },
    {
      "cell_type": "code",
      "execution_count": 44,
      "metadata": {
        "colab": {
          "base_uri": "https://localhost:8080/"
        },
        "id": "sBuJxR0fc-rW",
        "outputId": "cfd68564-e9be-495c-a5f6-f5a7ce22725d"
      },
      "outputs": [
        {
          "data": {
            "text/plain": [
              "0.6805"
            ]
          },
          "execution_count": 44,
          "metadata": {},
          "output_type": "execute_result"
        }
      ],
      "source": [
        ".7817 - .1012"
      ]
    },
    {
      "cell_type": "markdown",
      "metadata": {
        "id": "zycJwETZdIo_"
      },
      "source": [
        "#### Confusion Matrix"
      ]
    },
    {
      "cell_type": "code",
      "execution_count": 45,
      "metadata": {
        "colab": {
          "base_uri": "https://localhost:8080/",
          "height": 297
        },
        "id": "Dz2XfWl6MW_n",
        "outputId": "c711c001-ca03-4c1d-8586-da2ac0fef602"
      },
      "outputs": [
        {
          "data": {
            "application/vnd.google.colaboratory.intrinsic+json": {
              "type": "string"
            },
            "text/plain": [
              "''"
            ]
          },
          "execution_count": 45,
          "metadata": {},
          "output_type": "execute_result"
        },
        {
          "data": {
            "image/png": "[encoded data removed]",
            "text/plain": [
              "<Figure size 432x288 with 2 Axes>"
            ]
          },
          "metadata": {
            "needs_background": "light"
          },
          "output_type": "display_data"
        }
      ],
      "source": [
        "# With help from https://stackoverflow.com/questions/56458526/get-confusion-matrix-from-a-keras-model/56458627\n",
        "# np.rint\n",
        "# argmax help from https://stackoverflow.com/questions/46953967/multilabel-indicator-is-not-supported-for-confusion-matrix\n",
        "\n",
        "from sklearn.metrics import ConfusionMatrixDisplay\n",
        "\n",
        "ConfusionMatrixDisplay.from_predictions(y_true=y_test_holdout_encoded.argmax(axis=1), y_pred=np.rint(y_preds).argmax(axis=1), cmap='Greens')\n",
        ";"
      ]
    },
    {
      "cell_type": "markdown",
      "metadata": {
        "id": "3dNZHpccKXAK"
      },
      "source": [
        "## Convolutional Neural Network Model\n",
        "Add convoluton layers to my previous model and regularization"
      ]
    },
    {
      "cell_type": "markdown",
      "metadata": {
        "id": "oWir7um5-l4s"
      },
      "source": [
        "### Reshape training data for convolution\n",
        "\n",
        "Initially forgot to reshape test set as well :)."
      ]
    },
    {
      "cell_type": "code",
      "execution_count": 46,
      "metadata": {
        "id": "g0Fv62D3-qbN"
      },
      "outputs": [],
      "source": [
        "reshaped = []\n",
        "for i in range(X_train.shape[0]):\n",
        "  reshaped.append(np.reshape(np.array(X_train.iloc[i]), (28, 28, 1)))\n"
      ]
    },
    {
      "cell_type": "code",
      "execution_count": 47,
      "metadata": {
        "colab": {
          "base_uri": "https://localhost:8080/"
        },
        "id": "L72mVHY-_2rQ",
        "outputId": "86468f8e-e649-47b1-9929-4a4cf04c026b"
      },
      "outputs": [
        {
          "data": {
            "text/plain": [
              "(45000, 28, 28, 1)"
            ]
          },
          "execution_count": 47,
          "metadata": {},
          "output_type": "execute_result"
        }
      ],
      "source": [
        "X_train_reshaped = np.array(reshaped)\n",
        "X_train_reshaped.shape"
      ]
    },
    {
      "cell_type": "code",
      "execution_count": 48,
      "metadata": {
        "id": "EtOz4ZIUC6rH"
      },
      "outputs": [],
      "source": [
        "reshaped = []\n",
        "for i in range(X_test.shape[0]):\n",
        "  reshaped.append(np.reshape(np.array(X_test.iloc[i]), (28, 28, 1)))\n"
      ]
    },
    {
      "cell_type": "code",
      "execution_count": 49,
      "metadata": {
        "colab": {
          "base_uri": "https://localhost:8080/"
        },
        "id": "R206y7bAC6rT",
        "outputId": "4de62368-7603-4d77-d1e2-c42c78fdd6e2"
      },
      "outputs": [
        {
          "data": {
            "text/plain": [
              "(15000, 28, 28, 1)"
            ]
          },
          "execution_count": 49,
          "metadata": {},
          "output_type": "execute_result"
        }
      ],
      "source": [
        "X_test_reshaped = np.array(reshaped)\n",
        "X_test_reshaped.shape"
      ]
    },
    {
      "cell_type": "markdown",
      "metadata": {
        "id": "GFdY58m_-rFY"
      },
      "source": [
        "### Model"
      ]
    },
    {
      "cell_type": "code",
      "execution_count": 83,
      "metadata": {
        "id": "iJvwCJShZQxN"
      },
      "outputs": [],
      "source": [
        "model2 = Sequential()\n",
        "\n",
        "model2.add(Conv2D(\n",
        "    filters=32,\n",
        "    kernel_size=(3, 3),\n",
        "    activation='relu',\n",
        "    input_shape=X_train_reshaped[0].shape, \n",
        "))\n",
        "model2.add(MaxPool2D())\n",
        "\n",
        "model2.add(Conv2D(\n",
        "    filters=16,\n",
        "    kernel_size=(3, 3),\n",
        "    activation='relu',\n",
        "    input_shape=X_train_reshaped[0].shape, \n",
        "))\n",
        "model2.add(MaxPool2D())\n",
        "\n",
        "model2.add(Flatten())\n",
        "\n",
        "model2.add(Dense(128, activation=\"relu\")) #, kernel_regularizer=l2()))\n",
        "# model2.add(Dropout(.1))\n",
        "model2.add(Dense(32, activation=\"relu\")) # , kernel_regularizer=l2()))\n",
        "model2.add(Dropout(.1))\n",
        "model2.add(Dense(10, activation=\"softmax\"))"
      ]
    },
    {
      "cell_type": "code",
      "execution_count": 84,
      "metadata": {
        "id": "mo-FVWDCZQxO"
      },
      "outputs": [],
      "source": [
        "model2.compile(\n",
        "    loss='categorical_crossentropy',\n",
        "    optimizer='adam',\n",
        "    metrics=['accuracy']\n",
        "    )"
      ]
    },
    {
      "cell_type": "code",
      "execution_count": 85,
      "metadata": {
        "colab": {
          "base_uri": "https://localhost:8080/"
        },
        "id": "3j8QCaEWZQxP",
        "outputId": "fb1e0e50-7e1d-4c46-c918-991b729f62dd"
      },
      "outputs": [
        {
          "name": "stdout",
          "output_type": "stream",
          "text": [
            "Epoch 1/100\n",
            "352/352 [==============================] - 5s 10ms/step - loss: 1.4464 - accuracy: 0.4570 - val_loss: 89.0180 - val_accuracy: 0.5361\n",
            "Epoch 2/100\n",
            "352/352 [==============================] - 2s 7ms/step - loss: 0.8626 - accuracy: 0.6729 - val_loss: 76.0839 - val_accuracy: 0.6131\n",
            "Epoch 3/100\n",
            "352/352 [==============================] - 2s 6ms/step - loss: 0.7731 - accuracy: 0.7059 - val_loss: 78.7218 - val_accuracy: 0.5914\n",
            "Epoch 4/100\n",
            "352/352 [==============================] - 2s 6ms/step - loss: 0.7257 - accuracy: 0.7252 - val_loss: 85.3867 - val_accuracy: 0.5557\n",
            "Epoch 5/100\n",
            "352/352 [==============================] - 2s 6ms/step - loss: 0.6909 - accuracy: 0.7380 - val_loss: 79.3583 - val_accuracy: 0.5400\n",
            "Epoch 6/100\n",
            "352/352 [==============================] - 2s 6ms/step - loss: 0.6574 - accuracy: 0.7486 - val_loss: 62.9739 - val_accuracy: 0.5906\n",
            "Epoch 7/100\n",
            "352/352 [==============================] - 2s 6ms/step - loss: 0.6314 - accuracy: 0.7587 - val_loss: 63.4675 - val_accuracy: 0.6135\n",
            "Epoch 8/100\n",
            "352/352 [==============================] - 2s 7ms/step - loss: 0.6037 - accuracy: 0.7706 - val_loss: 73.7438 - val_accuracy: 0.5922\n",
            "Epoch 9/100\n",
            "352/352 [==============================] - 2s 6ms/step - loss: 0.5812 - accuracy: 0.7780 - val_loss: 65.3622 - val_accuracy: 0.6442\n",
            "Epoch 10/100\n",
            "352/352 [==============================] - 2s 6ms/step - loss: 0.5544 - accuracy: 0.7883 - val_loss: 80.8948 - val_accuracy: 0.6058\n",
            "Epoch 11/100\n",
            "352/352 [==============================] - 2s 7ms/step - loss: 0.5496 - accuracy: 0.7906 - val_loss: 70.4956 - val_accuracy: 0.6048\n",
            "Epoch 12/100\n",
            "352/352 [==============================] - 2s 6ms/step - loss: 0.5339 - accuracy: 0.7973 - val_loss: 127.5270 - val_accuracy: 0.4815\n",
            "Epoch 13/100\n",
            "352/352 [==============================] - 2s 6ms/step - loss: 0.5229 - accuracy: 0.8020 - val_loss: 110.0426 - val_accuracy: 0.5291\n",
            "Epoch 14/100\n",
            "352/352 [==============================] - 2s 6ms/step - loss: 0.5166 - accuracy: 0.8041 - val_loss: 117.6173 - val_accuracy: 0.4983\n"
          ]
        }
      ],
      "source": [
        "hist2 = model2.fit(\n",
        "    X_train_reshaped,\n",
        "    y_train_encoded, \n",
        "    batch_size=128,\n",
        "    validation_data=(X_test_reshaped, y_test_encoded),\n",
        "    epochs=100,\n",
        "    callbacks=EarlyStopping(monitor='val_accuracy', patience=5)\n",
        "    )"
      ]
    },
    {
      "cell_type": "markdown",
      "metadata": {
        "id": "lzh4dV18ZQxP"
      },
      "source": [
        "### Plot training results"
      ]
    },
    {
      "cell_type": "code",
      "execution_count": 86,
      "metadata": {
        "colab": {
          "base_uri": "https://localhost:8080/",
          "height": 501
        },
        "id": "yVh6uahsZQxQ",
        "outputId": "bc97a01f-f919-4932-dfba-7b289c1ad00f"
      },
      "outputs": [
        {
          "data": {
            "application/vnd.google.colaboratory.intrinsic+json": {
              "type": "string"
            },
            "text/plain": [
              "''"
            ]
          },
          "execution_count": 86,
          "metadata": {},
          "output_type": "execute_result"
        },
        {
          "data": {
            "image/png": "[encoded data removed]",
            "text/plain": [
              "<Figure size 864x576 with 1 Axes>"
            ]
          },
          "metadata": {
            "needs_background": "light"
          },
          "output_type": "display_data"
        }
      ],
      "source": [
        "# From lessons/breakfast hour/ lab 7.01\n",
        "# With help from regularization lesson\n",
        "train_accuracy = hist2.history['accuracy']\n",
        "test_accuracy = hist2.history['val_accuracy']\n",
        "\n",
        "plt.figure(figsize=(12, 8))\n",
        "plt.plot(train_accuracy, label='Training Accuracy', color='navy')\n",
        "plt.plot(test_accuracy, label='Testing Accuracy', color='skyblue')\n",
        "plt.legend()\n",
        ";"
      ]
    },
    {
      "cell_type": "markdown",
      "metadata": {
        "id": "xhtvRMxNJF5g"
      },
      "source": [
        "### Make predictions, Evaluate Model and plot Confusion Matrix"
      ]
    },
    {
      "cell_type": "code",
      "execution_count": 87,
      "metadata": {
        "colab": {
          "base_uri": "https://localhost:8080/"
        },
        "id": "FAHYQlOCJQKR",
        "outputId": "054923b4-f88d-4bb7-e6a0-ae793b223ef7"
      },
      "outputs": [
        {
          "data": {
            "text/plain": [
              "(10000, 28, 28, 1)"
            ]
          },
          "execution_count": 87,
          "metadata": {},
          "output_type": "execute_result"
        }
      ],
      "source": [
        "reshaped = []\n",
        "for i in range(X_test_holdout.shape[0]):\n",
        "  reshaped.append(np.reshape(np.array(X_test_holdout.iloc[i]), (28, 28, 1)))\n",
        "\n",
        "X_test_holdout_reshaped = np.array(reshaped)\n",
        "X_test_holdout_reshaped.shape\n"
      ]
    },
    {
      "cell_type": "code",
      "execution_count": 88,
      "metadata": {
        "id": "u_tsHkZJJF5g"
      },
      "outputs": [],
      "source": [
        "y_preds = model2.predict(X_test_holdout_reshaped)"
      ]
    },
    {
      "cell_type": "code",
      "execution_count": 89,
      "metadata": {
        "colab": {
          "base_uri": "https://localhost:8080/"
        },
        "id": "rvRx1iq3JF5h",
        "outputId": "9c3ae5d9-8f63-44a2-875c-07f5473e8ae2"
      },
      "outputs": [
        {
          "name": "stdout",
          "output_type": "stream",
          "text": [
            "313/313 [==============================] - 1s 3ms/step - loss: 121.2693 - accuracy: 0.4924\n"
          ]
        },
        {
          "data": {
            "text/plain": [
              "[121.26927185058594, 0.49239999055862427]"
            ]
          },
          "execution_count": 89,
          "metadata": {},
          "output_type": "execute_result"
        }
      ],
      "source": [
        "model2.evaluate(X_test_holdout_reshaped, y_test_holdout_encoded)"
      ]
    },
    {
      "cell_type": "markdown",
      "metadata": {
        "id": "rnQoJRh0I6oe"
      },
      "source": [
        "### Confusion Matrix"
      ]
    },
    {
      "cell_type": "code",
      "execution_count": 90,
      "metadata": {
        "colab": {
          "base_uri": "https://localhost:8080/",
          "height": 297
        },
        "id": "q8wlU2NVI6or",
        "outputId": "961be415-a19f-4217-9363-76e05328dfb8"
      },
      "outputs": [
        {
          "data": {
            "application/vnd.google.colaboratory.intrinsic+json": {
              "type": "string"
            },
            "text/plain": [
              "''"
            ]
          },
          "execution_count": 90,
          "metadata": {},
          "output_type": "execute_result"
        },
        {
          "data": {
            "image/png": "[encoded data removed]",
            "text/plain": [
              "<Figure size 432x288 with 2 Axes>"
            ]
          },
          "metadata": {
            "needs_background": "light"
          },
          "output_type": "display_data"
        }
      ],
      "source": [
        "# With help from https://stackoverflow.com/questions/56458526/get-confusion-matrix-from-a-keras-model/56458627\n",
        "# np.rint\n",
        "# argmax help from https://stackoverflow.com/questions/46953967/multilabel-indicator-is-not-supported-for-confusion-matrix\n",
        "\n",
        "from sklearn.metrics import ConfusionMatrixDisplay\n",
        "\n",
        "ConfusionMatrixDisplay.from_predictions(y_true=y_test_holdout_encoded.argmax(axis=1), y_pred=np.rint(y_preds).argmax(axis=1), cmap='Greens')\n",
        ";"
      ]
    },
    {
      "cell_type": "code",
      "execution_count": null,
      "metadata": {
        "id": "k6uxCwRKKJ3v"
      },
      "outputs": [],
      "source": []
    }
  ],
  "metadata": {
    "accelerator": "GPU",
    "colab": {
      "name": "7.02-lab-andres.ipynb",
      "provenance": []
    },
    "kernelspec": {
      "display_name": "Python 3",
      "name": "python3"
    },
    "language_info": {
      "codemirror_mode": {
        "name": "ipython",
        "version": 3
      },
      "file_extension": ".py",
      "mimetype": "text/x-python",
      "name": "python",
      "nbconvert_exporter": "python",
      "pygments_lexer": "ipython3",
      "version": "3.9.7"
    }
  },
  "nbformat": 4,
  "nbformat_minor": 0
}
