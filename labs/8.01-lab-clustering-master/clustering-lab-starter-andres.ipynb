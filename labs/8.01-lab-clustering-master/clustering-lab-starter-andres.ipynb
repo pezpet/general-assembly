{
 "cells": [
  {
   "cell_type": "markdown",
   "metadata": {},
   "source": [
    "<img src=\"http://imgur.com/1ZcRyrc.png\" style=\"float: left; margin: 20px; height: 55px\">\n",
    "\n",
    "\n",
    "# Clustering Lab\n",
    "_Author: Jeff Hale_\n",
    "\n",
    "In this lab you will practice clustering countries with K-means and DBSCAN. Remember, clustering is an unsupervised learning method so known classes aren't something you'll generally have. "
   ]
  },
  {
   "cell_type": "markdown",
   "metadata": {},
   "source": [
    "#### Imports"
   ]
  },
  {
   "cell_type": "code",
   "execution_count": 1,
   "metadata": {},
   "outputs": [],
   "source": [
    "import plotly.express as px\n",
    "import pandas as pd\n",
    "import seaborn as sns\n",
    "import numpy as np\n",
    "import matplotlib.pyplot as plt\n",
    "\n",
    "from sklearn.preprocessing import StandardScaler\n",
    "from sklearn.cluster import KMeans, DBSCAN\n",
    "from sklearn.metrics import silhouette_score\n"
   ]
  },
  {
   "cell_type": "markdown",
   "metadata": {},
   "source": [
    "#### Read in the gapminder data"
   ]
  },
  {
   "cell_type": "code",
   "execution_count": 2,
   "metadata": {},
   "outputs": [],
   "source": [
    "gapminder = px.data.gapminder() "
   ]
  },
  {
   "cell_type": "markdown",
   "metadata": {},
   "source": [
    "#### Inspect"
   ]
  },
  {
   "cell_type": "code",
   "execution_count": 3,
   "metadata": {},
   "outputs": [
    {
     "name": "stdout",
     "output_type": "stream",
     "text": [
      "<class 'pandas.core.frame.DataFrame'>\n",
      "RangeIndex: 1704 entries, 0 to 1703\n",
      "Data columns (total 8 columns):\n",
      " #   Column     Non-Null Count  Dtype  \n",
      "---  ------     --------------  -----  \n",
      " 0   country    1704 non-null   object \n",
      " 1   continent  1704 non-null   object \n",
      " 2   year       1704 non-null   int64  \n",
      " 3   lifeExp    1704 non-null   float64\n",
      " 4   pop        1704 non-null   int64  \n",
      " 5   gdpPercap  1704 non-null   float64\n",
      " 6   iso_alpha  1704 non-null   object \n",
      " 7   iso_num    1704 non-null   int64  \n",
      "dtypes: float64(2), int64(3), object(3)\n",
      "memory usage: 106.6+ KB\n"
     ]
    }
   ],
   "source": [
    "gapminder.info()"
   ]
  },
  {
   "cell_type": "code",
   "execution_count": 4,
   "metadata": {},
   "outputs": [
    {
     "data": {
      "text/plain": [
       "country      0\n",
       "continent    0\n",
       "year         0\n",
       "lifeExp      0\n",
       "pop          0\n",
       "gdpPercap    0\n",
       "iso_alpha    0\n",
       "iso_num      0\n",
       "dtype: int64"
      ]
     },
     "execution_count": 4,
     "metadata": {},
     "output_type": "execute_result"
    }
   ],
   "source": [
    "gapminder.isna().sum()"
   ]
  },
  {
   "cell_type": "code",
   "execution_count": 5,
   "metadata": {},
   "outputs": [
    {
     "data": {
      "text/html": [
       "<div>\n",
       "<style scoped>\n",
       "    .dataframe tbody tr th:only-of-type {\n",
       "        vertical-align: middle;\n",
       "    }\n",
       "\n",
       "    .dataframe tbody tr th {\n",
       "        vertical-align: top;\n",
       "    }\n",
       "\n",
       "    .dataframe thead th {\n",
       "        text-align: right;\n",
       "    }\n",
       "</style>\n",
       "<table border=\"1\" class=\"dataframe\">\n",
       "  <thead>\n",
       "    <tr style=\"text-align: right;\">\n",
       "      <th></th>\n",
       "      <th>country</th>\n",
       "      <th>continent</th>\n",
       "      <th>year</th>\n",
       "      <th>lifeExp</th>\n",
       "      <th>pop</th>\n",
       "      <th>gdpPercap</th>\n",
       "      <th>iso_alpha</th>\n",
       "      <th>iso_num</th>\n",
       "    </tr>\n",
       "  </thead>\n",
       "  <tbody>\n",
       "    <tr>\n",
       "      <th>0</th>\n",
       "      <td>Afghanistan</td>\n",
       "      <td>Asia</td>\n",
       "      <td>1952</td>\n",
       "      <td>28.801</td>\n",
       "      <td>8425333</td>\n",
       "      <td>779.445314</td>\n",
       "      <td>AFG</td>\n",
       "      <td>4</td>\n",
       "    </tr>\n",
       "    <tr>\n",
       "      <th>1</th>\n",
       "      <td>Afghanistan</td>\n",
       "      <td>Asia</td>\n",
       "      <td>1957</td>\n",
       "      <td>30.332</td>\n",
       "      <td>9240934</td>\n",
       "      <td>820.853030</td>\n",
       "      <td>AFG</td>\n",
       "      <td>4</td>\n",
       "    </tr>\n",
       "  </tbody>\n",
       "</table>\n",
       "</div>"
      ],
      "text/plain": [
       "       country continent  year  lifeExp      pop   gdpPercap iso_alpha  \\\n",
       "0  Afghanistan      Asia  1952   28.801  8425333  779.445314       AFG   \n",
       "1  Afghanistan      Asia  1957   30.332  9240934  820.853030       AFG   \n",
       "\n",
       "   iso_num  \n",
       "0        4  \n",
       "1        4  "
      ]
     },
     "execution_count": 5,
     "metadata": {},
     "output_type": "execute_result"
    }
   ],
   "source": [
    "gapminder.head(2)"
   ]
  },
  {
   "cell_type": "markdown",
   "metadata": {},
   "source": [
    "#### Filter the data so that you only have the rows from the most recent year"
   ]
  },
  {
   "cell_type": "code",
   "execution_count": 6,
   "metadata": {},
   "outputs": [
    {
     "data": {
      "text/plain": [
       "1952    142\n",
       "1957    142\n",
       "1962    142\n",
       "1967    142\n",
       "1972    142\n",
       "1977    142\n",
       "1982    142\n",
       "1987    142\n",
       "1992    142\n",
       "1997    142\n",
       "2002    142\n",
       "2007    142\n",
       "Name: year, dtype: int64"
      ]
     },
     "execution_count": 6,
     "metadata": {},
     "output_type": "execute_result"
    }
   ],
   "source": [
    "gapminder['year'].value_counts()"
   ]
  },
  {
   "cell_type": "code",
   "execution_count": 7,
   "metadata": {},
   "outputs": [],
   "source": [
    "data = gapminder[gapminder['year'] == 2007]"
   ]
  },
  {
   "cell_type": "markdown",
   "metadata": {},
   "source": [
    "#### Set the country column as the index"
   ]
  },
  {
   "cell_type": "code",
   "execution_count": 8,
   "metadata": {},
   "outputs": [],
   "source": [
    "data.set_index('country', inplace=True)"
   ]
  },
  {
   "cell_type": "markdown",
   "metadata": {},
   "source": [
    "#### Drop the columns that make sense to drop for clustering"
   ]
  },
  {
   "cell_type": "code",
   "execution_count": 9,
   "metadata": {},
   "outputs": [],
   "source": [
    "# ... .drop(columns=['year', 'iso_alpha', 'iso_num'])\n",
    "data = data.drop(columns=['year', 'iso_alpha', 'iso_num'])"
   ]
  },
  {
   "cell_type": "markdown",
   "metadata": {},
   "source": [
    "#### One-Hot Encode the columns that it makes sense to encode"
   ]
  },
  {
   "cell_type": "code",
   "execution_count": 10,
   "metadata": {},
   "outputs": [
    {
     "data": {
      "text/html": [
       "<div>\n",
       "<style scoped>\n",
       "    .dataframe tbody tr th:only-of-type {\n",
       "        vertical-align: middle;\n",
       "    }\n",
       "\n",
       "    .dataframe tbody tr th {\n",
       "        vertical-align: top;\n",
       "    }\n",
       "\n",
       "    .dataframe thead th {\n",
       "        text-align: right;\n",
       "    }\n",
       "</style>\n",
       "<table border=\"1\" class=\"dataframe\">\n",
       "  <thead>\n",
       "    <tr style=\"text-align: right;\">\n",
       "      <th></th>\n",
       "      <th>continent</th>\n",
       "      <th>lifeExp</th>\n",
       "      <th>pop</th>\n",
       "      <th>gdpPercap</th>\n",
       "    </tr>\n",
       "    <tr>\n",
       "      <th>country</th>\n",
       "      <th></th>\n",
       "      <th></th>\n",
       "      <th></th>\n",
       "      <th></th>\n",
       "    </tr>\n",
       "  </thead>\n",
       "  <tbody>\n",
       "    <tr>\n",
       "      <th>Afghanistan</th>\n",
       "      <td>Asia</td>\n",
       "      <td>43.828</td>\n",
       "      <td>31889923</td>\n",
       "      <td>974.580338</td>\n",
       "    </tr>\n",
       "    <tr>\n",
       "      <th>Albania</th>\n",
       "      <td>Europe</td>\n",
       "      <td>76.423</td>\n",
       "      <td>3600523</td>\n",
       "      <td>5937.029526</td>\n",
       "    </tr>\n",
       "    <tr>\n",
       "      <th>Algeria</th>\n",
       "      <td>Africa</td>\n",
       "      <td>72.301</td>\n",
       "      <td>33333216</td>\n",
       "      <td>6223.367465</td>\n",
       "    </tr>\n",
       "    <tr>\n",
       "      <th>Angola</th>\n",
       "      <td>Africa</td>\n",
       "      <td>42.731</td>\n",
       "      <td>12420476</td>\n",
       "      <td>4797.231267</td>\n",
       "    </tr>\n",
       "    <tr>\n",
       "      <th>Argentina</th>\n",
       "      <td>Americas</td>\n",
       "      <td>75.320</td>\n",
       "      <td>40301927</td>\n",
       "      <td>12779.379640</td>\n",
       "    </tr>\n",
       "  </tbody>\n",
       "</table>\n",
       "</div>"
      ],
      "text/plain": [
       "            continent  lifeExp       pop     gdpPercap\n",
       "country                                               \n",
       "Afghanistan      Asia   43.828  31889923    974.580338\n",
       "Albania        Europe   76.423   3600523   5937.029526\n",
       "Algeria        Africa   72.301  33333216   6223.367465\n",
       "Angola         Africa   42.731  12420476   4797.231267\n",
       "Argentina    Americas   75.320  40301927  12779.379640"
      ]
     },
     "execution_count": 10,
     "metadata": {},
     "output_type": "execute_result"
    }
   ],
   "source": [
    "data.head()"
   ]
  },
  {
   "cell_type": "code",
   "execution_count": 11,
   "metadata": {},
   "outputs": [
    {
     "data": {
      "text/plain": [
       "Africa      52\n",
       "Asia        33\n",
       "Europe      30\n",
       "Americas    25\n",
       "Oceania      2\n",
       "Name: continent, dtype: int64"
      ]
     },
     "execution_count": 11,
     "metadata": {},
     "output_type": "execute_result"
    }
   ],
   "source": [
    "data['continent'].value_counts()"
   ]
  },
  {
   "cell_type": "code",
   "execution_count": 12,
   "metadata": {},
   "outputs": [],
   "source": [
    "# data = pd.get_dummies(data)\n",
    "data['continent'] = data['continent'].map(\n",
    "    {\n",
    "        'Africa': 0,\n",
    "        'Asia': 1,\n",
    "        'Europe': 2,\n",
    "        'Americas': 3,\n",
    "        'Oceania': 4\n",
    "    }\n",
    ")"
   ]
  },
  {
   "cell_type": "code",
   "execution_count": 13,
   "metadata": {},
   "outputs": [
    {
     "data": {
      "text/html": [
       "<div>\n",
       "<style scoped>\n",
       "    .dataframe tbody tr th:only-of-type {\n",
       "        vertical-align: middle;\n",
       "    }\n",
       "\n",
       "    .dataframe tbody tr th {\n",
       "        vertical-align: top;\n",
       "    }\n",
       "\n",
       "    .dataframe thead th {\n",
       "        text-align: right;\n",
       "    }\n",
       "</style>\n",
       "<table border=\"1\" class=\"dataframe\">\n",
       "  <thead>\n",
       "    <tr style=\"text-align: right;\">\n",
       "      <th></th>\n",
       "      <th>continent</th>\n",
       "      <th>lifeExp</th>\n",
       "      <th>pop</th>\n",
       "      <th>gdpPercap</th>\n",
       "    </tr>\n",
       "    <tr>\n",
       "      <th>country</th>\n",
       "      <th></th>\n",
       "      <th></th>\n",
       "      <th></th>\n",
       "      <th></th>\n",
       "    </tr>\n",
       "  </thead>\n",
       "  <tbody>\n",
       "    <tr>\n",
       "      <th>Afghanistan</th>\n",
       "      <td>1</td>\n",
       "      <td>43.828</td>\n",
       "      <td>31889923</td>\n",
       "      <td>974.580338</td>\n",
       "    </tr>\n",
       "    <tr>\n",
       "      <th>Albania</th>\n",
       "      <td>2</td>\n",
       "      <td>76.423</td>\n",
       "      <td>3600523</td>\n",
       "      <td>5937.029526</td>\n",
       "    </tr>\n",
       "  </tbody>\n",
       "</table>\n",
       "</div>"
      ],
      "text/plain": [
       "             continent  lifeExp       pop    gdpPercap\n",
       "country                                               \n",
       "Afghanistan          1   43.828  31889923   974.580338\n",
       "Albania              2   76.423   3600523  5937.029526"
      ]
     },
     "execution_count": 13,
     "metadata": {},
     "output_type": "execute_result"
    }
   ],
   "source": [
    "data.head(2)"
   ]
  },
  {
   "cell_type": "markdown",
   "metadata": {},
   "source": [
    "#### Scale your features"
   ]
  },
  {
   "cell_type": "code",
   "execution_count": 14,
   "metadata": {},
   "outputs": [],
   "source": [
    "data_scaled = StandardScaler().fit_transform(data)"
   ]
  },
  {
   "cell_type": "code",
   "execution_count": 15,
   "metadata": {},
   "outputs": [
    {
     "data": {
      "text/plain": [
       "array([-0.20598874, -1.92673191, -0.08246934, -0.8354152 ])"
      ]
     },
     "execution_count": 15,
     "metadata": {},
     "output_type": "execute_result"
    }
   ],
   "source": [
    "data_scaled[0]"
   ]
  },
  {
   "cell_type": "markdown",
   "metadata": {},
   "source": [
    "#### Cluster with KMeans"
   ]
  },
  {
   "cell_type": "code",
   "execution_count": 16,
   "metadata": {},
   "outputs": [
    {
     "data": {
      "text/plain": [
       "KMeans()"
      ]
     },
     "execution_count": 16,
     "metadata": {},
     "output_type": "execute_result"
    }
   ],
   "source": [
    "kmeans = KMeans()\n",
    "kmeans.fit(data_scaled)"
   ]
  },
  {
   "cell_type": "markdown",
   "metadata": {},
   "source": [
    "#### How many clusters do you have?"
   ]
  },
  {
   "cell_type": "code",
   "execution_count": 17,
   "metadata": {},
   "outputs": [
    {
     "data": {
      "text/plain": [
       "8"
      ]
     },
     "execution_count": 17,
     "metadata": {},
     "output_type": "execute_result"
    }
   ],
   "source": [
    "kmeans.n_clusters"
   ]
  },
  {
   "cell_type": "markdown",
   "metadata": {},
   "source": [
    "#### Check out the labels"
   ]
  },
  {
   "cell_type": "code",
   "execution_count": 18,
   "metadata": {},
   "outputs": [
    {
     "data": {
      "text/plain": [
       "array([5, 0, 6, 5, 4, 3, 3, 7, 6, 3, 1, 4, 0, 5, 4, 0, 1, 5, 1, 5, 3, 5,\n",
       "       5, 4, 2, 4, 1, 5, 1, 4, 5, 0, 4, 0, 3, 1, 4, 4, 6, 4, 5, 1, 1, 3,\n",
       "       3, 1, 1, 3, 1, 3, 4, 1, 5, 4, 4, 7, 0, 3, 2, 6, 6, 1, 3, 7, 3, 4,\n",
       "       7, 6, 1, 6, 7, 7, 6, 5, 5, 6, 1, 5, 6, 1, 1, 6, 4, 6, 0, 6, 5, 6,\n",
       "       1, 6, 3, 3, 4, 1, 5, 3, 7, 6, 4, 4, 4, 6, 0, 0, 0, 6, 0, 5, 1, 7,\n",
       "       1, 0, 5, 7, 0, 3, 5, 5, 3, 6, 1, 5, 3, 3, 6, 7, 1, 6, 1, 4, 6, 0,\n",
       "       5, 3, 3, 4, 4, 6, 6, 6, 5, 5], dtype=int32)"
      ]
     },
     "execution_count": 18,
     "metadata": {},
     "output_type": "execute_result"
    }
   ],
   "source": [
    "kmeans.labels_"
   ]
  },
  {
   "cell_type": "markdown",
   "metadata": {},
   "source": [
    "#### Make a copy of the X DataFrame and add your labels to it"
   ]
  },
  {
   "cell_type": "code",
   "execution_count": 19,
   "metadata": {},
   "outputs": [],
   "source": [
    "data_copy = data\n",
    "data_copy['cluster'] = kmeans.labels_"
   ]
  },
  {
   "cell_type": "code",
   "execution_count": 20,
   "metadata": {},
   "outputs": [
    {
     "data": {
      "text/html": [
       "<div>\n",
       "<style scoped>\n",
       "    .dataframe tbody tr th:only-of-type {\n",
       "        vertical-align: middle;\n",
       "    }\n",
       "\n",
       "    .dataframe tbody tr th {\n",
       "        vertical-align: top;\n",
       "    }\n",
       "\n",
       "    .dataframe thead th {\n",
       "        text-align: right;\n",
       "    }\n",
       "</style>\n",
       "<table border=\"1\" class=\"dataframe\">\n",
       "  <thead>\n",
       "    <tr style=\"text-align: right;\">\n",
       "      <th></th>\n",
       "      <th>continent</th>\n",
       "      <th>lifeExp</th>\n",
       "      <th>pop</th>\n",
       "      <th>gdpPercap</th>\n",
       "      <th>cluster</th>\n",
       "    </tr>\n",
       "    <tr>\n",
       "      <th>country</th>\n",
       "      <th></th>\n",
       "      <th></th>\n",
       "      <th></th>\n",
       "      <th></th>\n",
       "      <th></th>\n",
       "    </tr>\n",
       "  </thead>\n",
       "  <tbody>\n",
       "    <tr>\n",
       "      <th>Afghanistan</th>\n",
       "      <td>1</td>\n",
       "      <td>43.828</td>\n",
       "      <td>31889923</td>\n",
       "      <td>974.580338</td>\n",
       "      <td>5</td>\n",
       "    </tr>\n",
       "    <tr>\n",
       "      <th>Albania</th>\n",
       "      <td>2</td>\n",
       "      <td>76.423</td>\n",
       "      <td>3600523</td>\n",
       "      <td>5937.029526</td>\n",
       "      <td>0</td>\n",
       "    </tr>\n",
       "  </tbody>\n",
       "</table>\n",
       "</div>"
      ],
      "text/plain": [
       "             continent  lifeExp       pop    gdpPercap  cluster\n",
       "country                                                        \n",
       "Afghanistan          1   43.828  31889923   974.580338        5\n",
       "Albania              2   76.423   3600523  5937.029526        0"
      ]
     },
     "execution_count": 20,
     "metadata": {},
     "output_type": "execute_result"
    }
   ],
   "source": [
    "data_copy.head(2)"
   ]
  },
  {
   "cell_type": "markdown",
   "metadata": {},
   "source": [
    "#### Explore your clusters with groupbys, pairplots/scatterplots"
   ]
  },
  {
   "cell_type": "code",
   "execution_count": 21,
   "metadata": {},
   "outputs": [
    {
     "data": {
      "text/plain": [
       "''"
      ]
     },
     "execution_count": 21,
     "metadata": {},
     "output_type": "execute_result"
    },
    {
     "data": {
      "image/png": "[encoded data removed]",
      "text/plain": [
       "<Figure size 762.375x720 with 14 Axes>"
      ]
     },
     "metadata": {
      "needs_background": "light"
     },
     "output_type": "display_data"
    }
   ],
   "source": [
    "sns.pairplot(data_copy, corner=True, palette='colorblind', hue='cluster')\n",
    ";"
   ]
  },
  {
   "cell_type": "code",
   "execution_count": 22,
   "metadata": {},
   "outputs": [
    {
     "data": {
      "text/html": [
       "<div>\n",
       "<style scoped>\n",
       "    .dataframe tbody tr th:only-of-type {\n",
       "        vertical-align: middle;\n",
       "    }\n",
       "\n",
       "    .dataframe tbody tr th {\n",
       "        vertical-align: top;\n",
       "    }\n",
       "\n",
       "    .dataframe thead th {\n",
       "        text-align: right;\n",
       "    }\n",
       "</style>\n",
       "<table border=\"1\" class=\"dataframe\">\n",
       "  <thead>\n",
       "    <tr style=\"text-align: right;\">\n",
       "      <th></th>\n",
       "      <th>lifeExp</th>\n",
       "      <th>pop</th>\n",
       "      <th>gdpPercap</th>\n",
       "      <th>cluster</th>\n",
       "    </tr>\n",
       "    <tr>\n",
       "      <th>continent</th>\n",
       "      <th></th>\n",
       "      <th></th>\n",
       "      <th></th>\n",
       "      <th></th>\n",
       "    </tr>\n",
       "  </thead>\n",
       "  <tbody>\n",
       "    <tr>\n",
       "      <th>0</th>\n",
       "      <td>54.806038</td>\n",
       "      <td>1.787576e+07</td>\n",
       "      <td>3089.032605</td>\n",
       "      <td>3.442308</td>\n",
       "    </tr>\n",
       "    <tr>\n",
       "      <th>1</th>\n",
       "      <td>70.728485</td>\n",
       "      <td>1.155138e+08</td>\n",
       "      <td>12473.026870</td>\n",
       "      <td>5.727273</td>\n",
       "    </tr>\n",
       "    <tr>\n",
       "      <th>2</th>\n",
       "      <td>77.648600</td>\n",
       "      <td>1.953662e+07</td>\n",
       "      <td>25054.481636</td>\n",
       "      <td>1.700000</td>\n",
       "    </tr>\n",
       "    <tr>\n",
       "      <th>3</th>\n",
       "      <td>73.608120</td>\n",
       "      <td>3.595485e+07</td>\n",
       "      <td>11003.031625</td>\n",
       "      <td>3.760000</td>\n",
       "    </tr>\n",
       "    <tr>\n",
       "      <th>4</th>\n",
       "      <td>80.719500</td>\n",
       "      <td>1.227497e+07</td>\n",
       "      <td>29810.188275</td>\n",
       "      <td>3.000000</td>\n",
       "    </tr>\n",
       "  </tbody>\n",
       "</table>\n",
       "</div>"
      ],
      "text/plain": [
       "             lifeExp           pop     gdpPercap   cluster\n",
       "continent                                                 \n",
       "0          54.806038  1.787576e+07   3089.032605  3.442308\n",
       "1          70.728485  1.155138e+08  12473.026870  5.727273\n",
       "2          77.648600  1.953662e+07  25054.481636  1.700000\n",
       "3          73.608120  3.595485e+07  11003.031625  3.760000\n",
       "4          80.719500  1.227497e+07  29810.188275  3.000000"
      ]
     },
     "execution_count": 22,
     "metadata": {},
     "output_type": "execute_result"
    }
   ],
   "source": [
    "data_copy.groupby(by='continent').mean()"
   ]
  },
  {
   "cell_type": "code",
   "execution_count": 23,
   "metadata": {},
   "outputs": [
    {
     "data": {
      "text/html": [
       "<div>\n",
       "<style scoped>\n",
       "    .dataframe tbody tr th:only-of-type {\n",
       "        vertical-align: middle;\n",
       "    }\n",
       "\n",
       "    .dataframe tbody tr th {\n",
       "        vertical-align: top;\n",
       "    }\n",
       "\n",
       "    .dataframe thead th {\n",
       "        text-align: right;\n",
       "    }\n",
       "</style>\n",
       "<table border=\"1\" class=\"dataframe\">\n",
       "  <thead>\n",
       "    <tr style=\"text-align: right;\">\n",
       "      <th></th>\n",
       "      <th>continent</th>\n",
       "      <th>lifeExp</th>\n",
       "      <th>pop</th>\n",
       "      <th>gdpPercap</th>\n",
       "    </tr>\n",
       "    <tr>\n",
       "      <th>cluster</th>\n",
       "      <th></th>\n",
       "      <th></th>\n",
       "      <th></th>\n",
       "      <th></th>\n",
       "    </tr>\n",
       "  </thead>\n",
       "  <tbody>\n",
       "    <tr>\n",
       "      <th>0</th>\n",
       "      <td>2.071429</td>\n",
       "      <td>74.980000</td>\n",
       "      <td>1.449818e+07</td>\n",
       "      <td>13695.669675</td>\n",
       "    </tr>\n",
       "    <tr>\n",
       "      <th>1</th>\n",
       "      <td>0.083333</td>\n",
       "      <td>57.783125</td>\n",
       "      <td>1.541907e+07</td>\n",
       "      <td>2158.094262</td>\n",
       "    </tr>\n",
       "    <tr>\n",
       "      <th>2</th>\n",
       "      <td>1.000000</td>\n",
       "      <td>68.829500</td>\n",
       "      <td>1.214540e+09</td>\n",
       "      <td>3705.662630</td>\n",
       "    </tr>\n",
       "    <tr>\n",
       "      <th>3</th>\n",
       "      <td>2.285714</td>\n",
       "      <td>79.943714</td>\n",
       "      <td>3.553079e+07</td>\n",
       "      <td>34195.954633</td>\n",
       "    </tr>\n",
       "    <tr>\n",
       "      <th>4</th>\n",
       "      <td>3.000000</td>\n",
       "      <td>72.843727</td>\n",
       "      <td>2.547266e+07</td>\n",
       "      <td>8021.645160</td>\n",
       "    </tr>\n",
       "    <tr>\n",
       "      <th>5</th>\n",
       "      <td>0.041667</td>\n",
       "      <td>46.428917</td>\n",
       "      <td>1.947027e+07</td>\n",
       "      <td>2608.024767</td>\n",
       "    </tr>\n",
       "    <tr>\n",
       "      <th>6</th>\n",
       "      <td>0.720000</td>\n",
       "      <td>70.440600</td>\n",
       "      <td>4.893611e+07</td>\n",
       "      <td>5330.136689</td>\n",
       "    </tr>\n",
       "    <tr>\n",
       "      <th>7</th>\n",
       "      <td>1.000000</td>\n",
       "      <td>78.419100</td>\n",
       "      <td>2.516672e+07</td>\n",
       "      <td>31718.798297</td>\n",
       "    </tr>\n",
       "  </tbody>\n",
       "</table>\n",
       "</div>"
      ],
      "text/plain": [
       "         continent    lifeExp           pop     gdpPercap\n",
       "cluster                                                  \n",
       "0         2.071429  74.980000  1.449818e+07  13695.669675\n",
       "1         0.083333  57.783125  1.541907e+07   2158.094262\n",
       "2         1.000000  68.829500  1.214540e+09   3705.662630\n",
       "3         2.285714  79.943714  3.553079e+07  34195.954633\n",
       "4         3.000000  72.843727  2.547266e+07   8021.645160\n",
       "5         0.041667  46.428917  1.947027e+07   2608.024767\n",
       "6         0.720000  70.440600  4.893611e+07   5330.136689\n",
       "7         1.000000  78.419100  2.516672e+07  31718.798297"
      ]
     },
     "execution_count": 23,
     "metadata": {},
     "output_type": "execute_result"
    }
   ],
   "source": [
    "data_copy.groupby(by='cluster').mean()"
   ]
  },
  {
   "cell_type": "markdown",
   "metadata": {},
   "source": [
    "#### Evaluate on silhouette score"
   ]
  },
  {
   "cell_type": "code",
   "execution_count": 24,
   "metadata": {},
   "outputs": [
    {
     "data": {
      "text/plain": [
       "0.366074452936446"
      ]
     },
     "execution_count": 24,
     "metadata": {},
     "output_type": "execute_result"
    }
   ],
   "source": [
    "silhouette_score(data_scaled, kmeans.labels_)"
   ]
  },
  {
   "cell_type": "markdown",
   "metadata": {},
   "source": [
    "#### What's the best number of clusters according to the silhouette score?\n",
    "\n",
    "Try several numbers of clusters."
   ]
  },
  {
   "cell_type": "code",
   "execution_count": 25,
   "metadata": {},
   "outputs": [],
   "source": [
    "# With help from lesson 8.02 function\n",
    "def find_best_silhouette(df): \n",
    "    \"\"\"select best eps and min_samples for a DBSCAN\n",
    "    Args:\n",
    "        df (pandas DataFrame): data to cluster\n",
    "    Returns:\n",
    "        None\n",
    "    \"\"\"\n",
    "    X_scaled = StandardScaler().fit_transform(df)\n",
    "    best_score = -1\n",
    "    best_clusters = 0\n",
    "    for cluster in range(2, int(df.shape[0]/2)):\n",
    "        kmeans = KMeans(n_clusters=cluster, random_state=1331)\n",
    "        kmeans.fit(X_scaled)\n",
    "        if len(np.unique(kmeans.labels_)) > 1:\n",
    "            sil_score = silhouette_score(X_scaled, kmeans.labels_)\n",
    "            if sil_score >= best_score:\n",
    "                best_score = sil_score\n",
    "                best_clusters = cluster\n",
    "            print(f\"Current Silhoutte Score: {sil_score}, [{cluster}]\")\n",
    "    print(f\"Best Silhouette Score: {best_score}\")\n",
    "    print(f'Clusters: {best_clusters}')"
   ]
  },
  {
   "cell_type": "code",
   "execution_count": 26,
   "metadata": {},
   "outputs": [
    {
     "name": "stdout",
     "output_type": "stream",
     "text": [
      "Current Silhoutte Score: 0.37872585897197125, [2]\n",
      "Current Silhoutte Score: 0.4042294272220068, [3]\n",
      "Current Silhoutte Score: 0.43458053138738356, [4]\n",
      "Current Silhoutte Score: 0.46191087128495184, [5]\n",
      "Current Silhoutte Score: 0.5330576498734758, [6]\n",
      "Current Silhoutte Score: 0.5990127406140192, [7]\n",
      "Current Silhoutte Score: 0.6396164321270017, [8]\n",
      "Current Silhoutte Score: 0.6367555234521578, [9]\n",
      "Current Silhoutte Score: 0.5893099144345677, [10]\n",
      "Current Silhoutte Score: 0.6148942359542761, [11]\n",
      "Current Silhoutte Score: 0.5891042867968375, [12]\n",
      "Current Silhoutte Score: 0.5782647882494584, [13]\n",
      "Current Silhoutte Score: 0.5297276109251585, [14]\n",
      "Current Silhoutte Score: 0.5343418084920055, [15]\n",
      "Current Silhoutte Score: 0.4747032270820333, [16]\n",
      "Current Silhoutte Score: 0.4808344938555878, [17]\n",
      "Current Silhoutte Score: 0.46467860188390303, [18]\n",
      "Current Silhoutte Score: 0.49943308806104736, [19]\n",
      "Current Silhoutte Score: 0.42666495092885925, [20]\n",
      "Current Silhoutte Score: 0.48446491498304783, [21]\n",
      "Current Silhoutte Score: 0.4064172902245665, [22]\n",
      "Current Silhoutte Score: 0.41020545699536193, [23]\n",
      "Current Silhoutte Score: 0.43224586327654746, [24]\n",
      "Current Silhoutte Score: 0.44826356718175286, [25]\n",
      "Current Silhoutte Score: 0.42302628714723794, [26]\n",
      "Current Silhoutte Score: 0.42967654524876236, [27]\n",
      "Current Silhoutte Score: 0.45073165685862854, [28]\n",
      "Current Silhoutte Score: 0.4433720775433858, [29]\n",
      "Current Silhoutte Score: 0.42595163624175003, [30]\n",
      "Current Silhoutte Score: 0.43172337834005814, [31]\n",
      "Current Silhoutte Score: 0.43472845019406064, [32]\n",
      "Current Silhoutte Score: 0.4428661879661224, [33]\n",
      "Current Silhoutte Score: 0.44652102344320616, [34]\n",
      "Current Silhoutte Score: 0.43797399368520984, [35]\n",
      "Current Silhoutte Score: 0.4386612046437629, [36]\n",
      "Current Silhoutte Score: 0.4356639563846899, [37]\n",
      "Current Silhoutte Score: 0.43118512652015384, [38]\n",
      "Current Silhoutte Score: 0.4264983058646138, [39]\n",
      "Current Silhoutte Score: 0.41864815899690205, [40]\n",
      "Current Silhoutte Score: 0.41463638214365794, [41]\n",
      "Current Silhoutte Score: 0.4200779185098594, [42]\n",
      "Current Silhoutte Score: 0.41417348670865634, [43]\n",
      "Current Silhoutte Score: 0.4095632853319261, [44]\n",
      "Current Silhoutte Score: 0.4368482564272255, [45]\n",
      "Current Silhoutte Score: 0.4190544717979292, [46]\n",
      "Current Silhoutte Score: 0.4156472536718883, [47]\n",
      "Current Silhoutte Score: 0.396545292950485, [48]\n",
      "Current Silhoutte Score: 0.40834469407939555, [49]\n",
      "Current Silhoutte Score: 0.38857853035548356, [50]\n",
      "Current Silhoutte Score: 0.3798070582988984, [51]\n",
      "Current Silhoutte Score: 0.37181150885828607, [52]\n",
      "Current Silhoutte Score: 0.3704557246634428, [53]\n",
      "Current Silhoutte Score: 0.3810571077352024, [54]\n",
      "Current Silhoutte Score: 0.3748214365246224, [55]\n",
      "Current Silhoutte Score: 0.3597648276990453, [56]\n",
      "Current Silhoutte Score: 0.3680152066101393, [57]\n",
      "Current Silhoutte Score: 0.37887208087340635, [58]\n",
      "Current Silhoutte Score: 0.35232956639255725, [59]\n",
      "Current Silhoutte Score: 0.3640430468685834, [60]\n",
      "Current Silhoutte Score: 0.36500881989335726, [61]\n",
      "Current Silhoutte Score: 0.36749603857893437, [62]\n",
      "Current Silhoutte Score: 0.3671777666907, [63]\n",
      "Current Silhoutte Score: 0.3633588903918832, [64]\n",
      "Current Silhoutte Score: 0.360342064897787, [65]\n",
      "Current Silhoutte Score: 0.37347698078502434, [66]\n",
      "Current Silhoutte Score: 0.35193472876290116, [67]\n",
      "Current Silhoutte Score: 0.36451982794455934, [68]\n",
      "Current Silhoutte Score: 0.3501798113682764, [69]\n",
      "Current Silhoutte Score: 0.35155037354584884, [70]\n",
      "Best Silhouette Score: 0.6396164321270017\n",
      "Clusters: 8\n"
     ]
    }
   ],
   "source": [
    "find_best_silhouette(data)"
   ]
  },
  {
   "cell_type": "markdown",
   "metadata": {},
   "source": [
    "#### Make an elbow plot of the silhouette score"
   ]
  },
  {
   "cell_type": "code",
   "execution_count": 27,
   "metadata": {},
   "outputs": [],
   "source": [
    "# With help from lesson 8.01\n",
    "sil_list = []\n",
    "\n",
    "for k in range(2, 51):\n",
    "    kmeans = KMeans(n_clusters=k, random_state=1331)\n",
    "    kmeans.fit(data_scaled)\n",
    "    sil_list.append(silhouette_score(data_scaled, kmeans.labels_))"
   ]
  },
  {
   "cell_type": "code",
   "execution_count": 28,
   "metadata": {},
   "outputs": [
    {
     "data": {
      "text/plain": [
       "''"
      ]
     },
     "execution_count": 28,
     "metadata": {},
     "output_type": "execute_result"
    },
    {
     "data": {
      "image/png": "[encoded data removed]",
      "text/plain": [
       "<Figure size 432x288 with 1 Axes>"
      ]
     },
     "metadata": {
      "needs_background": "light"
     },
     "output_type": "display_data"
    }
   ],
   "source": [
    "plt.plot(range(1, 11), sil_list[:10], marker='o')\n",
    "plt.xlabel('# of Clusters')\n",
    "plt.ylabel('Score')\n",
    "plt.title('Silhouette Scores for Country Data')\n",
    ";"
   ]
  },
  {
   "cell_type": "markdown",
   "metadata": {},
   "source": [
    "## Part 2: DBSCAN"
   ]
  },
  {
   "cell_type": "markdown",
   "metadata": {},
   "source": [
    "Use DBSCAN to cluster"
   ]
  },
  {
   "cell_type": "code",
   "execution_count": 29,
   "metadata": {},
   "outputs": [
    {
     "data": {
      "text/plain": [
       "DBSCAN()"
      ]
     },
     "execution_count": 29,
     "metadata": {},
     "output_type": "execute_result"
    }
   ],
   "source": [
    "dbscan = DBSCAN()\n",
    "dbscan.fit(data_scaled)"
   ]
  },
  {
   "cell_type": "code",
   "execution_count": 30,
   "metadata": {},
   "outputs": [
    {
     "data": {
      "text/plain": [
       "array([-1,  0,  1,  2,  3, -1,  0, -1, -1,  0,  2,  3,  0, -1, -1,  0,  2,\n",
       "        2,  4,  2, -1,  2,  2,  3, -1,  3,  2,  2,  2,  3,  2,  0,  3,  0,\n",
       "        0,  2,  3,  3,  1,  3, -1,  2,  2,  0,  0, -1,  2,  0,  2,  0,  3,\n",
       "        2,  2, -1,  3, -1,  0,  0, -1, -1,  4,  4,  0, -1,  0,  3, -1,  4,\n",
       "        2,  4, -1, -1,  4,  2,  2,  1,  2,  2,  4,  2,  2,  1,  3,  4,  0,\n",
       "        1,  2,  4,  2,  4,  0, -1,  3,  2,  2, -1, -1, -1,  3,  3,  3,  4,\n",
       "        0,  0,  3,  1,  0,  2,  2, -1,  2,  0,  2, -1,  0,  0,  2, -1,  0,\n",
       "        4,  2,  2,  0,  0,  4, -1,  2,  4,  2, -1,  1,  0,  2,  0, -1,  3,\n",
       "        3,  4,  4,  4,  2,  2])"
      ]
     },
     "execution_count": 30,
     "metadata": {},
     "output_type": "execute_result"
    }
   ],
   "source": [
    "dbscan.labels_"
   ]
  },
  {
   "cell_type": "code",
   "execution_count": 31,
   "metadata": {},
   "outputs": [],
   "source": [
    "data_copy['cluster'] = dbscan.labels_"
   ]
  },
  {
   "cell_type": "markdown",
   "metadata": {},
   "source": [
    "#### Explore and visualize your results"
   ]
  },
  {
   "cell_type": "code",
   "execution_count": 32,
   "metadata": {},
   "outputs": [
    {
     "data": {
      "text/plain": [
       "''"
      ]
     },
     "execution_count": 32,
     "metadata": {},
     "output_type": "execute_result"
    },
    {
     "data": {
      "image/png": "[encoded data removed]",
      "text/plain": [
       "<Figure size 766x720 with 14 Axes>"
      ]
     },
     "metadata": {
      "needs_background": "light"
     },
     "output_type": "display_data"
    }
   ],
   "source": [
    "sns.pairplot(data_copy, corner=True, palette='colorblind', hue='cluster')\n",
    ";"
   ]
  },
  {
   "cell_type": "code",
   "execution_count": 33,
   "metadata": {},
   "outputs": [
    {
     "data": {
      "text/html": [
       "<div>\n",
       "<style scoped>\n",
       "    .dataframe tbody tr th:only-of-type {\n",
       "        vertical-align: middle;\n",
       "    }\n",
       "\n",
       "    .dataframe tbody tr th {\n",
       "        vertical-align: top;\n",
       "    }\n",
       "\n",
       "    .dataframe thead th {\n",
       "        text-align: right;\n",
       "    }\n",
       "</style>\n",
       "<table border=\"1\" class=\"dataframe\">\n",
       "  <thead>\n",
       "    <tr style=\"text-align: right;\">\n",
       "      <th></th>\n",
       "      <th>lifeExp</th>\n",
       "      <th>pop</th>\n",
       "      <th>gdpPercap</th>\n",
       "      <th>cluster</th>\n",
       "    </tr>\n",
       "    <tr>\n",
       "      <th>continent</th>\n",
       "      <th></th>\n",
       "      <th></th>\n",
       "      <th></th>\n",
       "      <th></th>\n",
       "    </tr>\n",
       "  </thead>\n",
       "  <tbody>\n",
       "    <tr>\n",
       "      <th>0</th>\n",
       "      <td>54.806038</td>\n",
       "      <td>1.787576e+07</td>\n",
       "      <td>3089.032605</td>\n",
       "      <td>1.634615</td>\n",
       "    </tr>\n",
       "    <tr>\n",
       "      <th>1</th>\n",
       "      <td>70.728485</td>\n",
       "      <td>1.155138e+08</td>\n",
       "      <td>12473.026870</td>\n",
       "      <td>1.575758</td>\n",
       "    </tr>\n",
       "    <tr>\n",
       "      <th>2</th>\n",
       "      <td>77.648600</td>\n",
       "      <td>1.953662e+07</td>\n",
       "      <td>25054.481636</td>\n",
       "      <td>-0.033333</td>\n",
       "    </tr>\n",
       "    <tr>\n",
       "      <th>3</th>\n",
       "      <td>73.608120</td>\n",
       "      <td>3.595485e+07</td>\n",
       "      <td>11003.031625</td>\n",
       "      <td>2.200000</td>\n",
       "    </tr>\n",
       "    <tr>\n",
       "      <th>4</th>\n",
       "      <td>80.719500</td>\n",
       "      <td>1.227497e+07</td>\n",
       "      <td>29810.188275</td>\n",
       "      <td>-1.000000</td>\n",
       "    </tr>\n",
       "  </tbody>\n",
       "</table>\n",
       "</div>"
      ],
      "text/plain": [
       "             lifeExp           pop     gdpPercap   cluster\n",
       "continent                                                 \n",
       "0          54.806038  1.787576e+07   3089.032605  1.634615\n",
       "1          70.728485  1.155138e+08  12473.026870  1.575758\n",
       "2          77.648600  1.953662e+07  25054.481636 -0.033333\n",
       "3          73.608120  3.595485e+07  11003.031625  2.200000\n",
       "4          80.719500  1.227497e+07  29810.188275 -1.000000"
      ]
     },
     "execution_count": 33,
     "metadata": {},
     "output_type": "execute_result"
    }
   ],
   "source": [
    "data_copy.groupby(by='continent').mean()"
   ]
  },
  {
   "cell_type": "code",
   "execution_count": 34,
   "metadata": {},
   "outputs": [
    {
     "data": {
      "text/html": [
       "<div>\n",
       "<style scoped>\n",
       "    .dataframe tbody tr th:only-of-type {\n",
       "        vertical-align: middle;\n",
       "    }\n",
       "\n",
       "    .dataframe tbody tr th {\n",
       "        vertical-align: top;\n",
       "    }\n",
       "\n",
       "    .dataframe thead th {\n",
       "        text-align: right;\n",
       "    }\n",
       "</style>\n",
       "<table border=\"1\" class=\"dataframe\">\n",
       "  <thead>\n",
       "    <tr style=\"text-align: right;\">\n",
       "      <th></th>\n",
       "      <th>continent</th>\n",
       "      <th>lifeExp</th>\n",
       "      <th>pop</th>\n",
       "      <th>gdpPercap</th>\n",
       "    </tr>\n",
       "    <tr>\n",
       "      <th>cluster</th>\n",
       "      <th></th>\n",
       "      <th></th>\n",
       "      <th></th>\n",
       "      <th></th>\n",
       "    </tr>\n",
       "  </thead>\n",
       "  <tbody>\n",
       "    <tr>\n",
       "      <th>-1</th>\n",
       "      <td>1.464286</td>\n",
       "      <td>70.639607</td>\n",
       "      <td>1.381008e+08</td>\n",
       "      <td>21315.579550</td>\n",
       "    </tr>\n",
       "    <tr>\n",
       "      <th>0</th>\n",
       "      <td>2.000000</td>\n",
       "      <td>77.560759</td>\n",
       "      <td>2.005071e+07</td>\n",
       "      <td>24216.457204</td>\n",
       "    </tr>\n",
       "    <tr>\n",
       "      <th>1</th>\n",
       "      <td>0.000000</td>\n",
       "      <td>73.131571</td>\n",
       "      <td>2.367385e+07</td>\n",
       "      <td>7628.894239</td>\n",
       "    </tr>\n",
       "    <tr>\n",
       "      <th>2</th>\n",
       "      <td>0.000000</td>\n",
       "      <td>51.941756</td>\n",
       "      <td>1.746780e+07</td>\n",
       "      <td>1464.081754</td>\n",
       "    </tr>\n",
       "    <tr>\n",
       "      <th>3</th>\n",
       "      <td>3.000000</td>\n",
       "      <td>73.909150</td>\n",
       "      <td>1.823855e+07</td>\n",
       "      <td>8376.447766</td>\n",
       "    </tr>\n",
       "    <tr>\n",
       "      <th>4</th>\n",
       "      <td>1.000000</td>\n",
       "      <td>68.715706</td>\n",
       "      <td>3.270890e+07</td>\n",
       "      <td>4617.537953</td>\n",
       "    </tr>\n",
       "  </tbody>\n",
       "</table>\n",
       "</div>"
      ],
      "text/plain": [
       "         continent    lifeExp           pop     gdpPercap\n",
       "cluster                                                  \n",
       "-1        1.464286  70.639607  1.381008e+08  21315.579550\n",
       " 0        2.000000  77.560759  2.005071e+07  24216.457204\n",
       " 1        0.000000  73.131571  2.367385e+07   7628.894239\n",
       " 2        0.000000  51.941756  1.746780e+07   1464.081754\n",
       " 3        3.000000  73.909150  1.823855e+07   8376.447766\n",
       " 4        1.000000  68.715706  3.270890e+07   4617.537953"
      ]
     },
     "execution_count": 34,
     "metadata": {},
     "output_type": "execute_result"
    }
   ],
   "source": [
    "data_copy.groupby(by='cluster').mean()"
   ]
  },
  {
   "cell_type": "markdown",
   "metadata": {},
   "source": [
    "#### Hyperparameter tune "
   ]
  },
  {
   "cell_type": "code",
   "execution_count": 42,
   "metadata": {},
   "outputs": [],
   "source": [
    "# Using lesson 8.02 function\n",
    "def find_best_silhouette_dbscan(df): \n",
    "    \"\"\"select best eps and min_samples for a DBSCAN\n",
    "    Args:\n",
    "        df (pandas DataFrame): data to cluster\n",
    "    Returns:\n",
    "        None\n",
    "    \"\"\"\n",
    "    X_scaled = StandardScaler().fit_transform(df)\n",
    "    best_score = -1\n",
    "    best_e = .2\n",
    "    best_ms = .2\n",
    "    best_clusters = 0\n",
    "    for e in np.linspace(.2, 10, 50):\n",
    "        for ms in range(2, int(df.shape[0])):\n",
    "            dbscan = DBSCAN(eps=e, min_samples=ms, n_jobs=-1)\n",
    "            dbscan.fit(X_scaled)\n",
    "            if len(np.unique(dbscan.labels_)) > 2:  # Force at least two clusters\n",
    "                sil_score = silhouette_score(X_scaled, dbscan.labels_)\n",
    "                if sil_score >= best_score:\n",
    "                    best_score = sil_score\n",
    "                    best_e = e\n",
    "                    best_ms = ms\n",
    "                    best_clusters = np.unique(dbscan.labels_)\n",
    "                print(f\"Current Silhoutte Score: {sil_score}, [epsilon: {e}, samples: {ms}, clusters: {len(best_clusters) - 1}]\")\n",
    "    print(f\"Best Silhouette Score: {best_score}\")\n",
    "    print(f\"Best eps: {best_e}\")\n",
    "    print(f\"Best min_samples: {best_ms}\")\n",
    "    print(f'Clusters: {best_clusters}')"
   ]
  },
  {
   "cell_type": "code",
   "execution_count": 43,
   "metadata": {},
   "outputs": [
    {
     "name": "stdout",
     "output_type": "stream",
     "text": [
      "Current Silhoutte Score: 0.0761611713380564, [epsilon: 0.2, samples: 2, clusters: 19]\n",
      "Current Silhoutte Score: -0.051210118450088805, [epsilon: 0.2, samples: 3, clusters: 19]\n",
      "Current Silhoutte Score: -0.09454867728129669, [epsilon: 0.2, samples: 4, clusters: 19]\n",
      "Current Silhoutte Score: -0.036155247369907, [epsilon: 0.2, samples: 5, clusters: 19]\n",
      "Current Silhoutte Score: -0.04513116699138576, [epsilon: 0.2, samples: 6, clusters: 19]\n",
      "Current Silhoutte Score: -0.1269953094502527, [epsilon: 0.2, samples: 7, clusters: 19]\n",
      "Current Silhoutte Score: 0.34531095581791144, [epsilon: 0.4, samples: 2, clusters: 13]\n",
      "Current Silhoutte Score: 0.305927757735435, [epsilon: 0.4, samples: 3, clusters: 13]\n",
      "Current Silhoutte Score: 0.3284333053622282, [epsilon: 0.4, samples: 4, clusters: 13]\n",
      "Current Silhoutte Score: 0.2962720019635725, [epsilon: 0.4, samples: 5, clusters: 13]\n",
      "Current Silhoutte Score: 0.2702954004863961, [epsilon: 0.4, samples: 6, clusters: 13]\n",
      "Current Silhoutte Score: 0.22121741819405277, [epsilon: 0.4, samples: 7, clusters: 13]\n",
      "Current Silhoutte Score: 0.2394509220577165, [epsilon: 0.4, samples: 8, clusters: 13]\n",
      "Current Silhoutte Score: 0.19177276450490485, [epsilon: 0.4, samples: 9, clusters: 13]\n",
      "Current Silhoutte Score: 0.24255705109565726, [epsilon: 0.4, samples: 10, clusters: 13]\n",
      "Current Silhoutte Score: 0.24255705109565726, [epsilon: 0.4, samples: 11, clusters: 13]\n",
      "Current Silhoutte Score: 0.2221694435303106, [epsilon: 0.4, samples: 12, clusters: 13]\n",
      "Current Silhoutte Score: 0.19536912978469695, [epsilon: 0.4, samples: 13, clusters: 13]\n",
      "Current Silhoutte Score: 0.14738423413299437, [epsilon: 0.4, samples: 16, clusters: 13]\n",
      "Current Silhoutte Score: 0.4484814794163526, [epsilon: 0.6000000000000001, samples: 2, clusters: 9]\n",
      "Current Silhoutte Score: 0.4377474358326579, [epsilon: 0.6000000000000001, samples: 3, clusters: 9]\n",
      "Current Silhoutte Score: 0.41898933699952096, [epsilon: 0.6000000000000001, samples: 4, clusters: 9]\n",
      "Current Silhoutte Score: 0.394649128022777, [epsilon: 0.6000000000000001, samples: 5, clusters: 9]\n",
      "Current Silhoutte Score: 0.394649128022777, [epsilon: 0.6000000000000001, samples: 6, clusters: 9]\n",
      "Current Silhoutte Score: 0.42008027074550053, [epsilon: 0.6000000000000001, samples: 7, clusters: 9]\n",
      "Current Silhoutte Score: 0.3834303922702121, [epsilon: 0.6000000000000001, samples: 8, clusters: 9]\n",
      "Current Silhoutte Score: 0.3589863117107774, [epsilon: 0.6000000000000001, samples: 9, clusters: 9]\n",
      "Current Silhoutte Score: 0.3516714285925096, [epsilon: 0.6000000000000001, samples: 10, clusters: 9]\n",
      "Current Silhoutte Score: 0.2836589516163437, [epsilon: 0.6000000000000001, samples: 11, clusters: 9]\n",
      "Current Silhoutte Score: 0.2743098281711716, [epsilon: 0.6000000000000001, samples: 12, clusters: 9]\n",
      "Current Silhoutte Score: 0.2743098281711716, [epsilon: 0.6000000000000001, samples: 13, clusters: 9]\n",
      "Current Silhoutte Score: 0.2743098281711716, [epsilon: 0.6000000000000001, samples: 14, clusters: 9]\n",
      "Current Silhoutte Score: 0.2743098281711716, [epsilon: 0.6000000000000001, samples: 15, clusters: 9]\n",
      "Current Silhoutte Score: 0.26502692922037735, [epsilon: 0.6000000000000001, samples: 16, clusters: 9]\n",
      "Current Silhoutte Score: 0.2889113375074494, [epsilon: 0.6000000000000001, samples: 17, clusters: 9]\n",
      "Current Silhoutte Score: 0.46469785067742003, [epsilon: 0.8, samples: 2, clusters: 10]\n",
      "Current Silhoutte Score: 0.4528341835401291, [epsilon: 0.8, samples: 3, clusters: 10]\n",
      "Current Silhoutte Score: 0.41898933699952096, [epsilon: 0.8, samples: 4, clusters: 10]\n",
      "Current Silhoutte Score: 0.394649128022777, [epsilon: 0.8, samples: 5, clusters: 10]\n",
      "Current Silhoutte Score: 0.394649128022777, [epsilon: 0.8, samples: 6, clusters: 10]\n",
      "Current Silhoutte Score: 0.42008027074550053, [epsilon: 0.8, samples: 7, clusters: 10]\n",
      "Current Silhoutte Score: 0.3982603650174631, [epsilon: 0.8, samples: 8, clusters: 10]\n",
      "Current Silhoutte Score: 0.3982603650174631, [epsilon: 0.8, samples: 9, clusters: 10]\n",
      "Current Silhoutte Score: 0.3982603650174631, [epsilon: 0.8, samples: 10, clusters: 10]\n",
      "Current Silhoutte Score: 0.3982603650174631, [epsilon: 0.8, samples: 11, clusters: 10]\n",
      "Current Silhoutte Score: 0.3982603650174631, [epsilon: 0.8, samples: 12, clusters: 10]\n",
      "Current Silhoutte Score: 0.3856188597273397, [epsilon: 0.8, samples: 13, clusters: 10]\n",
      "Current Silhoutte Score: 0.3574292214710559, [epsilon: 0.8, samples: 14, clusters: 10]\n",
      "Current Silhoutte Score: 0.2969601619657438, [epsilon: 0.8, samples: 15, clusters: 10]\n",
      "Current Silhoutte Score: 0.2940762210639751, [epsilon: 0.8, samples: 16, clusters: 10]\n",
      "Current Silhoutte Score: 0.2822477635147254, [epsilon: 0.8, samples: 17, clusters: 10]\n",
      "Current Silhoutte Score: 0.2822477635147254, [epsilon: 0.8, samples: 18, clusters: 10]\n",
      "Current Silhoutte Score: 0.3174850675004868, [epsilon: 0.8, samples: 19, clusters: 10]\n",
      "Current Silhoutte Score: 0.44403910852058304, [epsilon: 1.0, samples: 2, clusters: 10]\n",
      "Current Silhoutte Score: 0.44403910852058304, [epsilon: 1.0, samples: 3, clusters: 10]\n",
      "Current Silhoutte Score: 0.4650792863829191, [epsilon: 1.0, samples: 4, clusters: 5]\n",
      "Current Silhoutte Score: 0.3932793267358368, [epsilon: 1.0, samples: 5, clusters: 5]\n",
      "Current Silhoutte Score: 0.3761231461587092, [epsilon: 1.0, samples: 6, clusters: 5]\n",
      "Current Silhoutte Score: 0.3761231461587092, [epsilon: 1.0, samples: 7, clusters: 5]\n",
      "Current Silhoutte Score: 0.3761231461587092, [epsilon: 1.0, samples: 8, clusters: 5]\n",
      "Current Silhoutte Score: 0.3972697091805935, [epsilon: 1.0, samples: 9, clusters: 5]\n",
      "Current Silhoutte Score: 0.3972697091805935, [epsilon: 1.0, samples: 10, clusters: 5]\n",
      "Current Silhoutte Score: 0.3972697091805935, [epsilon: 1.0, samples: 11, clusters: 5]\n",
      "Current Silhoutte Score: 0.3992054958974666, [epsilon: 1.0, samples: 12, clusters: 5]\n",
      "Current Silhoutte Score: 0.3992054958974666, [epsilon: 1.0, samples: 13, clusters: 5]\n",
      "Current Silhoutte Score: 0.3992054958974666, [epsilon: 1.0, samples: 14, clusters: 5]\n",
      "Current Silhoutte Score: 0.39563328117432917, [epsilon: 1.0, samples: 15, clusters: 5]\n",
      "Current Silhoutte Score: 0.3917091949396157, [epsilon: 1.0, samples: 16, clusters: 5]\n",
      "Current Silhoutte Score: 0.38042358503843476, [epsilon: 1.0, samples: 17, clusters: 5]\n",
      "Current Silhoutte Score: 0.307368650963919, [epsilon: 1.0, samples: 18, clusters: 5]\n",
      "Current Silhoutte Score: 0.307368650963919, [epsilon: 1.0, samples: 19, clusters: 5]\n",
      "Current Silhoutte Score: 0.29425669620297723, [epsilon: 1.0, samples: 20, clusters: 5]\n",
      "Current Silhoutte Score: 0.21197628548956104, [epsilon: 1.0, samples: 21, clusters: 5]\n",
      "Current Silhoutte Score: 0.4876849200320676, [epsilon: 1.2, samples: 2, clusters: 6]\n",
      "Current Silhoutte Score: 0.4876849200320676, [epsilon: 1.2, samples: 3, clusters: 6]\n",
      "Current Silhoutte Score: 0.48243138555087994, [epsilon: 1.2, samples: 4, clusters: 6]\n",
      "Current Silhoutte Score: 0.48243138555087994, [epsilon: 1.2, samples: 5, clusters: 6]\n",
      "Current Silhoutte Score: 0.4707389914481511, [epsilon: 1.2, samples: 6, clusters: 6]\n",
      "Current Silhoutte Score: 0.4707389914481511, [epsilon: 1.2, samples: 7, clusters: 6]\n",
      "Current Silhoutte Score: 0.4707389914481511, [epsilon: 1.2, samples: 8, clusters: 6]\n",
      "Current Silhoutte Score: 0.4707389914481511, [epsilon: 1.2, samples: 9, clusters: 6]\n",
      "Current Silhoutte Score: 0.4707389914481511, [epsilon: 1.2, samples: 10, clusters: 6]\n",
      "Current Silhoutte Score: 0.4707389914481511, [epsilon: 1.2, samples: 11, clusters: 6]\n",
      "Current Silhoutte Score: 0.4707389914481511, [epsilon: 1.2, samples: 12, clusters: 6]\n",
      "Current Silhoutte Score: 0.4707389914481511, [epsilon: 1.2, samples: 13, clusters: 6]\n",
      "Current Silhoutte Score: 0.4707389914481511, [epsilon: 1.2, samples: 14, clusters: 6]\n",
      "Current Silhoutte Score: 0.46582994603781097, [epsilon: 1.2, samples: 15, clusters: 6]\n",
      "Current Silhoutte Score: 0.46582994603781097, [epsilon: 1.2, samples: 16, clusters: 6]\n",
      "Current Silhoutte Score: 0.46582994603781097, [epsilon: 1.2, samples: 17, clusters: 6]\n",
      "Current Silhoutte Score: 0.4114123792935291, [epsilon: 1.2, samples: 18, clusters: 6]\n",
      "Current Silhoutte Score: 0.4114123792935291, [epsilon: 1.2, samples: 19, clusters: 6]\n",
      "Current Silhoutte Score: 0.4114123792935291, [epsilon: 1.2, samples: 20, clusters: 6]\n",
      "Current Silhoutte Score: 0.3774335006430766, [epsilon: 1.2, samples: 21, clusters: 6]\n",
      "Current Silhoutte Score: 0.3440786471164961, [epsilon: 1.2, samples: 22, clusters: 6]\n",
      "Current Silhoutte Score: 0.3440786471164961, [epsilon: 1.2, samples: 23, clusters: 6]\n",
      "Current Silhoutte Score: 0.32597999265691424, [epsilon: 1.2, samples: 24, clusters: 6]\n",
      "Current Silhoutte Score: 0.32597999265691424, [epsilon: 1.2, samples: 25, clusters: 6]\n",
      "Current Silhoutte Score: 0.31653903835676744, [epsilon: 1.2, samples: 26, clusters: 6]\n",
      "Current Silhoutte Score: 0.30635336669801194, [epsilon: 1.2, samples: 27, clusters: 6]\n",
      "Current Silhoutte Score: 0.30635336669801194, [epsilon: 1.2, samples: 28, clusters: 6]\n",
      "Current Silhoutte Score: 0.2716481072838537, [epsilon: 1.2, samples: 29, clusters: 6]\n",
      "Current Silhoutte Score: 0.2647443411447633, [epsilon: 1.2, samples: 30, clusters: 6]\n",
      "Current Silhoutte Score: 0.48807871285451365, [epsilon: 1.4000000000000001, samples: 2, clusters: 6]\n",
      "Current Silhoutte Score: 0.48807871285451365, [epsilon: 1.4000000000000001, samples: 3, clusters: 6]\n",
      "Current Silhoutte Score: 0.48566515561840795, [epsilon: 1.4000000000000001, samples: 4, clusters: 6]\n",
      "Current Silhoutte Score: 0.48566515561840795, [epsilon: 1.4000000000000001, samples: 5, clusters: 6]\n",
      "Current Silhoutte Score: 0.475602566388774, [epsilon: 1.4000000000000001, samples: 6, clusters: 6]\n",
      "Current Silhoutte Score: 0.475602566388774, [epsilon: 1.4000000000000001, samples: 7, clusters: 6]\n",
      "Current Silhoutte Score: 0.475602566388774, [epsilon: 1.4000000000000001, samples: 8, clusters: 6]\n",
      "Current Silhoutte Score: 0.475602566388774, [epsilon: 1.4000000000000001, samples: 9, clusters: 6]\n",
      "Current Silhoutte Score: 0.475602566388774, [epsilon: 1.4000000000000001, samples: 10, clusters: 6]\n",
      "Current Silhoutte Score: 0.475602566388774, [epsilon: 1.4000000000000001, samples: 11, clusters: 6]\n",
      "Current Silhoutte Score: 0.475602566388774, [epsilon: 1.4000000000000001, samples: 12, clusters: 6]\n",
      "Current Silhoutte Score: 0.475602566388774, [epsilon: 1.4000000000000001, samples: 13, clusters: 6]\n",
      "Current Silhoutte Score: 0.475602566388774, [epsilon: 1.4000000000000001, samples: 14, clusters: 6]\n",
      "Current Silhoutte Score: 0.475602566388774, [epsilon: 1.4000000000000001, samples: 15, clusters: 6]\n",
      "Current Silhoutte Score: 0.47529220886110757, [epsilon: 1.4000000000000001, samples: 16, clusters: 6]\n",
      "Current Silhoutte Score: 0.47529220886110757, [epsilon: 1.4000000000000001, samples: 17, clusters: 6]\n",
      "Current Silhoutte Score: 0.4221415731486494, [epsilon: 1.4000000000000001, samples: 18, clusters: 6]\n",
      "Current Silhoutte Score: 0.4221415731486494, [epsilon: 1.4000000000000001, samples: 19, clusters: 6]\n",
      "Current Silhoutte Score: 0.4221415731486494, [epsilon: 1.4000000000000001, samples: 20, clusters: 6]\n",
      "Current Silhoutte Score: 0.3804438584589162, [epsilon: 1.4000000000000001, samples: 21, clusters: 6]\n",
      "Current Silhoutte Score: 0.3804438584589162, [epsilon: 1.4000000000000001, samples: 22, clusters: 6]\n",
      "Current Silhoutte Score: 0.3804438584589162, [epsilon: 1.4000000000000001, samples: 23, clusters: 6]\n",
      "Current Silhoutte Score: 0.3804438584589162, [epsilon: 1.4000000000000001, samples: 24, clusters: 6]\n",
      "Current Silhoutte Score: 0.3804438584589162, [epsilon: 1.4000000000000001, samples: 25, clusters: 6]\n",
      "Current Silhoutte Score: 0.3804438584589162, [epsilon: 1.4000000000000001, samples: 26, clusters: 6]\n",
      "Current Silhoutte Score: 0.3804438584589162, [epsilon: 1.4000000000000001, samples: 27, clusters: 6]\n",
      "Current Silhoutte Score: 0.36860643356496875, [epsilon: 1.4000000000000001, samples: 28, clusters: 6]\n",
      "Current Silhoutte Score: 0.3574341602503446, [epsilon: 1.4000000000000001, samples: 29, clusters: 6]\n",
      "Current Silhoutte Score: 0.3467677531608921, [epsilon: 1.4000000000000001, samples: 30, clusters: 6]\n",
      "Current Silhoutte Score: 0.3467677531608921, [epsilon: 1.4000000000000001, samples: 31, clusters: 6]\n",
      "Current Silhoutte Score: 0.3251546875483421, [epsilon: 1.4000000000000001, samples: 32, clusters: 6]\n",
      "Current Silhoutte Score: 0.3251546875483421, [epsilon: 1.4000000000000001, samples: 33, clusters: 6]\n",
      "Current Silhoutte Score: 0.3251546875483421, [epsilon: 1.4000000000000001, samples: 34, clusters: 6]\n",
      "Current Silhoutte Score: 0.30519302762770273, [epsilon: 1.4000000000000001, samples: 35, clusters: 6]\n",
      "Current Silhoutte Score: 0.38048335738469513, [epsilon: 1.6, samples: 2, clusters: 6]\n",
      "Current Silhoutte Score: 0.40075144569295107, [epsilon: 1.6, samples: 3, clusters: 6]\n",
      "Current Silhoutte Score: 0.40075144569295107, [epsilon: 1.6, samples: 4, clusters: 6]\n",
      "Current Silhoutte Score: 0.40075144569295107, [epsilon: 1.6, samples: 5, clusters: 6]\n",
      "Current Silhoutte Score: 0.44207542639584957, [epsilon: 1.6, samples: 6, clusters: 6]\n",
      "Current Silhoutte Score: 0.44207542639584957, [epsilon: 1.6, samples: 7, clusters: 6]\n",
      "Current Silhoutte Score: 0.44207542639584957, [epsilon: 1.6, samples: 8, clusters: 6]\n",
      "Current Silhoutte Score: 0.44207542639584957, [epsilon: 1.6, samples: 9, clusters: 6]\n",
      "Current Silhoutte Score: 0.44207542639584957, [epsilon: 1.6, samples: 10, clusters: 6]\n",
      "Current Silhoutte Score: 0.44207542639584957, [epsilon: 1.6, samples: 11, clusters: 6]\n",
      "Current Silhoutte Score: 0.44207542639584957, [epsilon: 1.6, samples: 12, clusters: 6]\n",
      "Current Silhoutte Score: 0.44207542639584957, [epsilon: 1.6, samples: 13, clusters: 6]\n",
      "Current Silhoutte Score: 0.44207542639584957, [epsilon: 1.6, samples: 14, clusters: 6]\n",
      "Current Silhoutte Score: 0.44207542639584957, [epsilon: 1.6, samples: 15, clusters: 6]\n",
      "Current Silhoutte Score: 0.44207542639584957, [epsilon: 1.6, samples: 16, clusters: 6]\n",
      "Current Silhoutte Score: 0.44207542639584957, [epsilon: 1.6, samples: 17, clusters: 6]\n",
      "Current Silhoutte Score: 0.44207542639584957, [epsilon: 1.6, samples: 18, clusters: 6]\n",
      "Current Silhoutte Score: 0.44207542639584957, [epsilon: 1.6, samples: 19, clusters: 6]\n",
      "Current Silhoutte Score: 0.44207542639584957, [epsilon: 1.6, samples: 20, clusters: 6]\n",
      "Current Silhoutte Score: 0.43772857623970574, [epsilon: 1.6, samples: 21, clusters: 6]\n",
      "Current Silhoutte Score: 0.420055671455749, [epsilon: 1.6, samples: 22, clusters: 6]\n",
      "Current Silhoutte Score: 0.420055671455749, [epsilon: 1.6, samples: 23, clusters: 6]\n",
      "Current Silhoutte Score: 0.420055671455749, [epsilon: 1.6, samples: 24, clusters: 6]\n",
      "Current Silhoutte Score: 0.420055671455749, [epsilon: 1.6, samples: 25, clusters: 6]\n",
      "Current Silhoutte Score: 0.420055671455749, [epsilon: 1.6, samples: 26, clusters: 6]\n",
      "Current Silhoutte Score: 0.420055671455749, [epsilon: 1.6, samples: 27, clusters: 6]\n",
      "Current Silhoutte Score: 0.420055671455749, [epsilon: 1.6, samples: 28, clusters: 6]\n",
      "Current Silhoutte Score: 0.420055671455749, [epsilon: 1.6, samples: 29, clusters: 6]\n",
      "Current Silhoutte Score: 0.420055671455749, [epsilon: 1.6, samples: 30, clusters: 6]\n",
      "Current Silhoutte Score: 0.420055671455749, [epsilon: 1.6, samples: 31, clusters: 6]\n",
      "Current Silhoutte Score: 0.420055671455749, [epsilon: 1.6, samples: 32, clusters: 6]\n",
      "Current Silhoutte Score: 0.41850397884067375, [epsilon: 1.6, samples: 33, clusters: 6]\n",
      "Current Silhoutte Score: 0.41850397884067375, [epsilon: 1.6, samples: 34, clusters: 6]\n",
      "Current Silhoutte Score: 0.38986921078973896, [epsilon: 1.6, samples: 35, clusters: 6]\n",
      "Current Silhoutte Score: 0.38986921078973896, [epsilon: 1.6, samples: 36, clusters: 6]\n",
      "Current Silhoutte Score: 0.38986921078973896, [epsilon: 1.6, samples: 37, clusters: 6]\n",
      "Current Silhoutte Score: 0.3614719944980158, [epsilon: 1.6, samples: 38, clusters: 6]\n",
      "Current Silhoutte Score: 0.3614719944980158, [epsilon: 1.6, samples: 39, clusters: 6]\n",
      "Current Silhoutte Score: 0.17477065528350433, [epsilon: 1.8, samples: 2, clusters: 6]\n",
      "Current Silhoutte Score: 0.21312987587016222, [epsilon: 1.8, samples: 3, clusters: 6]\n",
      "Current Silhoutte Score: 0.21312987587016222, [epsilon: 1.8, samples: 4, clusters: 6]\n",
      "Current Silhoutte Score: 0.21312987587016222, [epsilon: 1.8, samples: 5, clusters: 6]\n",
      "Current Silhoutte Score: 0.21312987587016222, [epsilon: 1.8, samples: 6, clusters: 6]\n",
      "Current Silhoutte Score: 0.21312987587016222, [epsilon: 1.8, samples: 7, clusters: 6]\n",
      "Current Silhoutte Score: 0.21312987587016222, [epsilon: 1.8, samples: 8, clusters: 6]\n",
      "Current Silhoutte Score: 0.1967726169846751, [epsilon: 1.8, samples: 9, clusters: 6]\n",
      "Current Silhoutte Score: 0.1967726169846751, [epsilon: 1.8, samples: 10, clusters: 6]\n",
      "Current Silhoutte Score: 0.1967726169846751, [epsilon: 1.8, samples: 11, clusters: 6]\n",
      "Current Silhoutte Score: 0.1967726169846751, [epsilon: 1.8, samples: 12, clusters: 6]\n",
      "Current Silhoutte Score: 0.19498231588598988, [epsilon: 1.8, samples: 13, clusters: 6]\n",
      "Current Silhoutte Score: 0.19498231588598988, [epsilon: 1.8, samples: 14, clusters: 6]\n",
      "Current Silhoutte Score: 0.19498231588598988, [epsilon: 1.8, samples: 15, clusters: 6]\n",
      "Current Silhoutte Score: 0.19498231588598988, [epsilon: 1.8, samples: 16, clusters: 6]\n",
      "Current Silhoutte Score: 0.19498231588598988, [epsilon: 1.8, samples: 17, clusters: 6]\n",
      "Current Silhoutte Score: 0.19498231588598988, [epsilon: 1.8, samples: 18, clusters: 6]\n",
      "Current Silhoutte Score: 0.19498231588598988, [epsilon: 1.8, samples: 19, clusters: 6]\n",
      "Current Silhoutte Score: 0.19498231588598988, [epsilon: 1.8, samples: 20, clusters: 6]\n",
      "Current Silhoutte Score: 0.43252827955479267, [epsilon: 1.8, samples: 26, clusters: 6]\n",
      "Current Silhoutte Score: 0.4270195351829582, [epsilon: 1.8, samples: 27, clusters: 6]\n",
      "Current Silhoutte Score: 0.4261145391536233, [epsilon: 1.8, samples: 28, clusters: 6]\n",
      "Current Silhoutte Score: 0.4261145391536233, [epsilon: 1.8, samples: 29, clusters: 6]\n",
      "Current Silhoutte Score: 0.4261145391536233, [epsilon: 1.8, samples: 30, clusters: 6]\n",
      "Current Silhoutte Score: 0.4261145391536233, [epsilon: 1.8, samples: 31, clusters: 6]\n",
      "Current Silhoutte Score: 0.4220543009161087, [epsilon: 1.8, samples: 32, clusters: 6]\n",
      "Current Silhoutte Score: 0.4220543009161087, [epsilon: 1.8, samples: 33, clusters: 6]\n",
      "Current Silhoutte Score: 0.4220543009161087, [epsilon: 1.8, samples: 34, clusters: 6]\n",
      "Current Silhoutte Score: 0.4220543009161087, [epsilon: 1.8, samples: 35, clusters: 6]\n",
      "Current Silhoutte Score: 0.4220543009161087, [epsilon: 1.8, samples: 36, clusters: 6]\n",
      "Current Silhoutte Score: 0.42034592651808905, [epsilon: 1.8, samples: 37, clusters: 6]\n",
      "Current Silhoutte Score: 0.42034592651808905, [epsilon: 1.8, samples: 38, clusters: 6]\n",
      "Current Silhoutte Score: 0.42034592651808905, [epsilon: 1.8, samples: 39, clusters: 6]\n",
      "Current Silhoutte Score: 0.4101289448346783, [epsilon: 1.8, samples: 40, clusters: 6]\n",
      "Best Silhouette Score: 0.48807871285451365\n",
      "Best eps: 1.4000000000000001\n",
      "Best min_samples: 3\n",
      "Clusters: [-1  0  1  2  3  4  5]\n"
     ]
    }
   ],
   "source": [
    "find_best_silhouette_dbscan(data)"
   ]
  },
  {
   "cell_type": "markdown",
   "metadata": {},
   "source": [
    "#### Which algorithm with which hyperparameters would you use to cluster a new country? Why?"
   ]
  },
  {
   "cell_type": "markdown",
   "metadata": {},
   "source": [
    "- Best Silhouette Score for KMeans was about 0.58 with 8 clusters after 18 seconds of tuning.\n",
    "- Best Silhouette Score for DBSCAN was about 0.49 with 6 clusters, epsilon of 1.4 and 3 min samples, after 64 seconds of tuning.\n",
    "\n",
    "**I would choose KMeans because of the higher score with valid hyperparameters**"
   ]
  },
  {
   "cell_type": "markdown",
   "metadata": {},
   "source": [
    "## Bonus ⭐️\n",
    "\n",
    "Use Agglomerative Clustering or another a clustering algorithm. Scikit-learn has a guide to its clustering algorithms [here](https://scikit-learn.org/stable/modules/clustering.html)."
   ]
  },
  {
   "cell_type": "code",
   "execution_count": null,
   "metadata": {},
   "outputs": [],
   "source": []
  }
 ],
 "metadata": {
  "kernelspec": {
   "display_name": "Python 3",
   "language": "python",
   "name": "python3"
  },
  "language_info": {
   "codemirror_mode": {
    "name": "ipython",
    "version": 3
   },
   "file_extension": ".py",
   "mimetype": "text/x-python",
   "name": "python",
   "nbconvert_exporter": "python",
   "pygments_lexer": "ipython3",
   "version": "3.9.7"
  }
 },
 "nbformat": 4,
 "nbformat_minor": 4
}
