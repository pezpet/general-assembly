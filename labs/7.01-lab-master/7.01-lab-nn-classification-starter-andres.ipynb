{
 "cells": [
  {
   "cell_type": "markdown",
   "metadata": {
    "id": "zwBCE43Cv3PH"
   },
   "source": [
    "## Lab 7.01 Neural Network Binary Classification\n",
    "_By Jeff Hale_"
   ]
  },
  {
   "cell_type": "markdown",
   "metadata": {
    "id": "UmyEaf4Awl2v"
   },
   "source": [
    "This lab uses a small [dataset](https://archive.ics.uci.edu/ml/datasets/heart+Disease) provided by the Cleveland Clinic Foundation for Heart Disease. The goal is to predict whether a patient has heart disease (the *target* column)."
   ]
  },
  {
   "cell_type": "markdown",
   "metadata": {
    "id": "uyVxPib57SeE"
   },
   "source": [
    "We suggest running this lab in [Google Colab](https://colab.research.google.com/). \n",
    "\n",
    "Go *File*->*Upload notebook* to upload this notebook to colab.\n",
    "\n",
    "If you are working in Colab and want to see if you can get a speed boost, set your runtime to *GPU* or *TPU* by going to *Runtime*->*Change runtime type* in the menu above. \n",
    "\n",
    "The processor type won't make a big difference with this small dataset and small networks, but it's good to know how to change the processor."
   ]
  },
  {
   "cell_type": "markdown",
   "metadata": {
    "id": "iiyC7HkqxlUD"
   },
   "source": [
    "### Get data and then use pandas to load it into a DataFrame\n",
    "\n",
    "#### Imports"
   ]
  },
  {
   "cell_type": "code",
   "execution_count": 1,
   "metadata": {
    "id": "5IoRbCA2n0_V"
   },
   "outputs": [],
   "source": [
    "import pandas as pd\n",
    "import numpy as np\n",
    "import matplotlib.pyplot as plt\n",
    "import tensorflow as tf\n",
    "from sklearn.model_selection import train_test_split\n"
   ]
  },
  {
   "cell_type": "markdown",
   "metadata": {
    "id": "-2kBGy_pxn47"
   },
   "source": [
    "Retrieve the csv file containing the heart dataset that ships with TensorFlow."
   ]
  },
  {
   "cell_type": "code",
   "execution_count": 2,
   "metadata": {
    "colab": {
     "base_uri": "https://localhost:8080/",
     "height": 52
    },
    "id": "VS4w2LePn9g3",
    "outputId": "72198c8f-7e31-47a3-c44f-36bc16fab4be"
   },
   "outputs": [],
   "source": [
    "csv_file = tf.keras.utils.get_file('heart.csv', 'https://storage.googleapis.com/download.tensorflow.org/data/heart.csv')"
   ]
  },
  {
   "cell_type": "markdown",
   "metadata": {
    "id": "6BXRPD2-xtQ1"
   },
   "source": [
    "#### Load the csv file using pandas."
   ]
  },
  {
   "cell_type": "code",
   "execution_count": 3,
   "metadata": {
    "id": "UEfJ8TcMpe-2"
   },
   "outputs": [
    {
     "data": {
      "text/html": [
       "<div>\n",
       "<style scoped>\n",
       "    .dataframe tbody tr th:only-of-type {\n",
       "        vertical-align: middle;\n",
       "    }\n",
       "\n",
       "    .dataframe tbody tr th {\n",
       "        vertical-align: top;\n",
       "    }\n",
       "\n",
       "    .dataframe thead th {\n",
       "        text-align: right;\n",
       "    }\n",
       "</style>\n",
       "<table border=\"1\" class=\"dataframe\">\n",
       "  <thead>\n",
       "    <tr style=\"text-align: right;\">\n",
       "      <th></th>\n",
       "      <th>age</th>\n",
       "      <th>sex</th>\n",
       "      <th>cp</th>\n",
       "      <th>trestbps</th>\n",
       "      <th>chol</th>\n",
       "      <th>fbs</th>\n",
       "      <th>restecg</th>\n",
       "      <th>thalach</th>\n",
       "      <th>exang</th>\n",
       "      <th>oldpeak</th>\n",
       "      <th>slope</th>\n",
       "      <th>ca</th>\n",
       "      <th>thal</th>\n",
       "      <th>target</th>\n",
       "    </tr>\n",
       "  </thead>\n",
       "  <tbody>\n",
       "    <tr>\n",
       "      <th>0</th>\n",
       "      <td>63</td>\n",
       "      <td>1</td>\n",
       "      <td>1</td>\n",
       "      <td>145</td>\n",
       "      <td>233</td>\n",
       "      <td>1</td>\n",
       "      <td>2</td>\n",
       "      <td>150</td>\n",
       "      <td>0</td>\n",
       "      <td>2.3</td>\n",
       "      <td>3</td>\n",
       "      <td>0</td>\n",
       "      <td>fixed</td>\n",
       "      <td>0</td>\n",
       "    </tr>\n",
       "    <tr>\n",
       "      <th>1</th>\n",
       "      <td>67</td>\n",
       "      <td>1</td>\n",
       "      <td>4</td>\n",
       "      <td>160</td>\n",
       "      <td>286</td>\n",
       "      <td>0</td>\n",
       "      <td>2</td>\n",
       "      <td>108</td>\n",
       "      <td>1</td>\n",
       "      <td>1.5</td>\n",
       "      <td>2</td>\n",
       "      <td>3</td>\n",
       "      <td>normal</td>\n",
       "      <td>1</td>\n",
       "    </tr>\n",
       "    <tr>\n",
       "      <th>2</th>\n",
       "      <td>67</td>\n",
       "      <td>1</td>\n",
       "      <td>4</td>\n",
       "      <td>120</td>\n",
       "      <td>229</td>\n",
       "      <td>0</td>\n",
       "      <td>2</td>\n",
       "      <td>129</td>\n",
       "      <td>1</td>\n",
       "      <td>2.6</td>\n",
       "      <td>2</td>\n",
       "      <td>2</td>\n",
       "      <td>reversible</td>\n",
       "      <td>0</td>\n",
       "    </tr>\n",
       "    <tr>\n",
       "      <th>3</th>\n",
       "      <td>37</td>\n",
       "      <td>1</td>\n",
       "      <td>3</td>\n",
       "      <td>130</td>\n",
       "      <td>250</td>\n",
       "      <td>0</td>\n",
       "      <td>0</td>\n",
       "      <td>187</td>\n",
       "      <td>0</td>\n",
       "      <td>3.5</td>\n",
       "      <td>3</td>\n",
       "      <td>0</td>\n",
       "      <td>normal</td>\n",
       "      <td>0</td>\n",
       "    </tr>\n",
       "    <tr>\n",
       "      <th>4</th>\n",
       "      <td>41</td>\n",
       "      <td>0</td>\n",
       "      <td>2</td>\n",
       "      <td>130</td>\n",
       "      <td>204</td>\n",
       "      <td>0</td>\n",
       "      <td>2</td>\n",
       "      <td>172</td>\n",
       "      <td>0</td>\n",
       "      <td>1.4</td>\n",
       "      <td>1</td>\n",
       "      <td>0</td>\n",
       "      <td>normal</td>\n",
       "      <td>0</td>\n",
       "    </tr>\n",
       "  </tbody>\n",
       "</table>\n",
       "</div>"
      ],
      "text/plain": [
       "   age  sex  cp  trestbps  chol  fbs  restecg  thalach  exang  oldpeak  slope  \\\n",
       "0   63    1   1       145   233    1        2      150      0      2.3      3   \n",
       "1   67    1   4       160   286    0        2      108      1      1.5      2   \n",
       "2   67    1   4       120   229    0        2      129      1      2.6      2   \n",
       "3   37    1   3       130   250    0        0      187      0      3.5      3   \n",
       "4   41    0   2       130   204    0        2      172      0      1.4      1   \n",
       "\n",
       "   ca        thal  target  \n",
       "0   0       fixed       0  \n",
       "1   3      normal       1  \n",
       "2   2  reversible       0  \n",
       "3   0      normal       0  \n",
       "4   0      normal       0  "
      ]
     },
     "execution_count": 3,
     "metadata": {},
     "output_type": "execute_result"
    }
   ],
   "source": [
    "heart = pd.read_csv(csv_file)\n",
    "heart.head()"
   ]
  },
  {
   "cell_type": "markdown",
   "metadata": {},
   "source": [
    "#### Inspect"
   ]
  },
  {
   "cell_type": "code",
   "execution_count": 4,
   "metadata": {
    "colab": {
     "base_uri": "https://localhost:8080/",
     "height": 137
    },
    "id": "8FkK6QIRpjd4",
    "outputId": "8cdcb9ba-6ff0-4ef1-c328-0d5f34351af3"
   },
   "outputs": [
    {
     "name": "stdout",
     "output_type": "stream",
     "text": [
      "<class 'pandas.core.frame.DataFrame'>\n",
      "RangeIndex: 303 entries, 0 to 302\n",
      "Data columns (total 14 columns):\n",
      " #   Column    Non-Null Count  Dtype  \n",
      "---  ------    --------------  -----  \n",
      " 0   age       303 non-null    int64  \n",
      " 1   sex       303 non-null    int64  \n",
      " 2   cp        303 non-null    int64  \n",
      " 3   trestbps  303 non-null    int64  \n",
      " 4   chol      303 non-null    int64  \n",
      " 5   fbs       303 non-null    int64  \n",
      " 6   restecg   303 non-null    int64  \n",
      " 7   thalach   303 non-null    int64  \n",
      " 8   exang     303 non-null    int64  \n",
      " 9   oldpeak   303 non-null    float64\n",
      " 10  slope     303 non-null    int64  \n",
      " 11  ca        303 non-null    int64  \n",
      " 12  thal      303 non-null    object \n",
      " 13  target    303 non-null    int64  \n",
      "dtypes: float64(1), int64(12), object(1)\n",
      "memory usage: 33.3+ KB\n"
     ]
    }
   ],
   "source": [
    "heart.info()"
   ]
  },
  {
   "cell_type": "code",
   "execution_count": 5,
   "metadata": {
    "colab": {
     "base_uri": "https://localhost:8080/",
     "height": 390
    },
    "id": "_MOAKz654CT5",
    "outputId": "f2efc25e-bee3-4be3-f42a-db8886d74832"
   },
   "outputs": [
    {
     "data": {
      "text/plain": [
       "age         0\n",
       "sex         0\n",
       "cp          0\n",
       "trestbps    0\n",
       "chol        0\n",
       "fbs         0\n",
       "restecg     0\n",
       "thalach     0\n",
       "exang       0\n",
       "oldpeak     0\n",
       "slope       0\n",
       "ca          0\n",
       "thal        0\n",
       "target      0\n",
       "dtype: int64"
      ]
     },
     "execution_count": 5,
     "metadata": {},
     "output_type": "execute_result"
    }
   ],
   "source": [
    "heart.isna().sum()"
   ]
  },
  {
   "cell_type": "code",
   "execution_count": 6,
   "metadata": {},
   "outputs": [
    {
     "data": {
      "text/plain": [
       "0    220\n",
       "1     83\n",
       "Name: target, dtype: int64"
      ]
     },
     "execution_count": 6,
     "metadata": {},
     "output_type": "execute_result"
    }
   ],
   "source": [
    "heart['target'].value_counts()"
   ]
  },
  {
   "cell_type": "markdown",
   "metadata": {
    "id": "4iIvlwqwWoWc"
   },
   "source": [
    "#### Check the value counts of the column that's an object"
   ]
  },
  {
   "cell_type": "code",
   "execution_count": 7,
   "metadata": {
    "colab": {
     "base_uri": "https://localhost:8080/",
     "height": 123
    },
    "id": "dP3Z4KoDstlZ",
    "outputId": "64183a3b-cbdb-4065-a166-a1fab53dce37"
   },
   "outputs": [
    {
     "data": {
      "text/plain": [
       "normal        168\n",
       "reversible    115\n",
       "fixed          18\n",
       "1               1\n",
       "2               1\n",
       "Name: thal, dtype: int64"
      ]
     },
     "execution_count": 7,
     "metadata": {},
     "output_type": "execute_result"
    }
   ],
   "source": [
    "heart['thal'].value_counts()"
   ]
  },
  {
   "cell_type": "code",
   "execution_count": 8,
   "metadata": {},
   "outputs": [
    {
     "data": {
      "text/html": [
       "<div>\n",
       "<style scoped>\n",
       "    .dataframe tbody tr th:only-of-type {\n",
       "        vertical-align: middle;\n",
       "    }\n",
       "\n",
       "    .dataframe tbody tr th {\n",
       "        vertical-align: top;\n",
       "    }\n",
       "\n",
       "    .dataframe thead th {\n",
       "        text-align: right;\n",
       "    }\n",
       "</style>\n",
       "<table border=\"1\" class=\"dataframe\">\n",
       "  <thead>\n",
       "    <tr style=\"text-align: right;\">\n",
       "      <th></th>\n",
       "      <th>age</th>\n",
       "      <th>sex</th>\n",
       "      <th>cp</th>\n",
       "      <th>trestbps</th>\n",
       "      <th>chol</th>\n",
       "      <th>fbs</th>\n",
       "      <th>restecg</th>\n",
       "      <th>thalach</th>\n",
       "      <th>exang</th>\n",
       "      <th>oldpeak</th>\n",
       "      <th>slope</th>\n",
       "      <th>ca</th>\n",
       "      <th>thal</th>\n",
       "      <th>target</th>\n",
       "    </tr>\n",
       "  </thead>\n",
       "  <tbody>\n",
       "    <tr>\n",
       "      <th>247</th>\n",
       "      <td>59</td>\n",
       "      <td>1</td>\n",
       "      <td>0</td>\n",
       "      <td>164</td>\n",
       "      <td>176</td>\n",
       "      <td>1</td>\n",
       "      <td>0</td>\n",
       "      <td>90</td>\n",
       "      <td>0</td>\n",
       "      <td>1.0</td>\n",
       "      <td>1</td>\n",
       "      <td>2</td>\n",
       "      <td>1</td>\n",
       "      <td>0</td>\n",
       "    </tr>\n",
       "    <tr>\n",
       "      <th>252</th>\n",
       "      <td>57</td>\n",
       "      <td>0</td>\n",
       "      <td>1</td>\n",
       "      <td>130</td>\n",
       "      <td>236</td>\n",
       "      <td>0</td>\n",
       "      <td>0</td>\n",
       "      <td>174</td>\n",
       "      <td>0</td>\n",
       "      <td>0.0</td>\n",
       "      <td>1</td>\n",
       "      <td>1</td>\n",
       "      <td>2</td>\n",
       "      <td>0</td>\n",
       "    </tr>\n",
       "  </tbody>\n",
       "</table>\n",
       "</div>"
      ],
      "text/plain": [
       "     age  sex  cp  trestbps  chol  fbs  restecg  thalach  exang  oldpeak  \\\n",
       "247   59    1   0       164   176    1        0       90      0      1.0   \n",
       "252   57    0   1       130   236    0        0      174      0      0.0   \n",
       "\n",
       "     slope  ca thal  target  \n",
       "247      1   2    1       0  \n",
       "252      1   1    2       0  "
      ]
     },
     "execution_count": 8,
     "metadata": {},
     "output_type": "execute_result"
    }
   ],
   "source": [
    "heart[(heart['thal'] == '1') | (heart['thal'] == '2')]"
   ]
  },
  {
   "cell_type": "code",
   "execution_count": 9,
   "metadata": {},
   "outputs": [],
   "source": [
    "heart = heart[(heart['thal'] != '1') & (heart['thal'] != '2')]"
   ]
  },
  {
   "cell_type": "code",
   "execution_count": 10,
   "metadata": {},
   "outputs": [
    {
     "data": {
      "text/plain": [
       "normal        168\n",
       "reversible    115\n",
       "fixed          18\n",
       "Name: thal, dtype: int64"
      ]
     },
     "execution_count": 10,
     "metadata": {},
     "output_type": "execute_result"
    }
   ],
   "source": [
    "heart['thal'].value_counts()"
   ]
  },
  {
   "cell_type": "markdown",
   "metadata": {
    "id": "WWRhH6r4xxQu"
   },
   "source": [
    "You could load data into a format for TensorFlow using `tf.data.Dataset`, but these are unwieldly - it's a serious pain to create a validation dataset from a TF dataset. You used to have to make your data into NumPy arrays for TensorFlow. Now you can just keep them as pandas DataFrames!"
   ]
  },
  {
   "cell_type": "markdown",
   "metadata": {},
   "source": [
    "#### Set up X and y"
   ]
  },
  {
   "cell_type": "code",
   "execution_count": 11,
   "metadata": {
    "colab": {
     "base_uri": "https://localhost:8080/",
     "height": 107
    },
    "id": "2wwhILm1ycSp",
    "outputId": "4742d2bb-4cc7-4f18-b583-23f757c97d50"
   },
   "outputs": [],
   "source": [
    "X = heart.drop(columns='target')\n",
    "y = heart['target']"
   ]
  },
  {
   "cell_type": "code",
   "execution_count": 12,
   "metadata": {
    "colab": {
     "base_uri": "https://localhost:8080/",
     "height": 70
    },
    "id": "p68OVEx7fLOt",
    "outputId": "74004248-6c80-42c4-c8f3-c36c226df7f7"
   },
   "outputs": [
    {
     "data": {
      "text/html": [
       "<div>\n",
       "<style scoped>\n",
       "    .dataframe tbody tr th:only-of-type {\n",
       "        vertical-align: middle;\n",
       "    }\n",
       "\n",
       "    .dataframe tbody tr th {\n",
       "        vertical-align: top;\n",
       "    }\n",
       "\n",
       "    .dataframe thead th {\n",
       "        text-align: right;\n",
       "    }\n",
       "</style>\n",
       "<table border=\"1\" class=\"dataframe\">\n",
       "  <thead>\n",
       "    <tr style=\"text-align: right;\">\n",
       "      <th></th>\n",
       "      <th>age</th>\n",
       "      <th>sex</th>\n",
       "      <th>cp</th>\n",
       "      <th>trestbps</th>\n",
       "      <th>chol</th>\n",
       "      <th>fbs</th>\n",
       "      <th>restecg</th>\n",
       "      <th>thalach</th>\n",
       "      <th>exang</th>\n",
       "      <th>oldpeak</th>\n",
       "      <th>slope</th>\n",
       "      <th>ca</th>\n",
       "      <th>thal</th>\n",
       "    </tr>\n",
       "  </thead>\n",
       "  <tbody>\n",
       "    <tr>\n",
       "      <th>0</th>\n",
       "      <td>63</td>\n",
       "      <td>1</td>\n",
       "      <td>1</td>\n",
       "      <td>145</td>\n",
       "      <td>233</td>\n",
       "      <td>1</td>\n",
       "      <td>2</td>\n",
       "      <td>150</td>\n",
       "      <td>0</td>\n",
       "      <td>2.3</td>\n",
       "      <td>3</td>\n",
       "      <td>0</td>\n",
       "      <td>fixed</td>\n",
       "    </tr>\n",
       "    <tr>\n",
       "      <th>1</th>\n",
       "      <td>67</td>\n",
       "      <td>1</td>\n",
       "      <td>4</td>\n",
       "      <td>160</td>\n",
       "      <td>286</td>\n",
       "      <td>0</td>\n",
       "      <td>2</td>\n",
       "      <td>108</td>\n",
       "      <td>1</td>\n",
       "      <td>1.5</td>\n",
       "      <td>2</td>\n",
       "      <td>3</td>\n",
       "      <td>normal</td>\n",
       "    </tr>\n",
       "    <tr>\n",
       "      <th>2</th>\n",
       "      <td>67</td>\n",
       "      <td>1</td>\n",
       "      <td>4</td>\n",
       "      <td>120</td>\n",
       "      <td>229</td>\n",
       "      <td>0</td>\n",
       "      <td>2</td>\n",
       "      <td>129</td>\n",
       "      <td>1</td>\n",
       "      <td>2.6</td>\n",
       "      <td>2</td>\n",
       "      <td>2</td>\n",
       "      <td>reversible</td>\n",
       "    </tr>\n",
       "    <tr>\n",
       "      <th>3</th>\n",
       "      <td>37</td>\n",
       "      <td>1</td>\n",
       "      <td>3</td>\n",
       "      <td>130</td>\n",
       "      <td>250</td>\n",
       "      <td>0</td>\n",
       "      <td>0</td>\n",
       "      <td>187</td>\n",
       "      <td>0</td>\n",
       "      <td>3.5</td>\n",
       "      <td>3</td>\n",
       "      <td>0</td>\n",
       "      <td>normal</td>\n",
       "    </tr>\n",
       "    <tr>\n",
       "      <th>4</th>\n",
       "      <td>41</td>\n",
       "      <td>0</td>\n",
       "      <td>2</td>\n",
       "      <td>130</td>\n",
       "      <td>204</td>\n",
       "      <td>0</td>\n",
       "      <td>2</td>\n",
       "      <td>172</td>\n",
       "      <td>0</td>\n",
       "      <td>1.4</td>\n",
       "      <td>1</td>\n",
       "      <td>0</td>\n",
       "      <td>normal</td>\n",
       "    </tr>\n",
       "  </tbody>\n",
       "</table>\n",
       "</div>"
      ],
      "text/plain": [
       "   age  sex  cp  trestbps  chol  fbs  restecg  thalach  exang  oldpeak  slope  \\\n",
       "0   63    1   1       145   233    1        2      150      0      2.3      3   \n",
       "1   67    1   4       160   286    0        2      108      1      1.5      2   \n",
       "2   67    1   4       120   229    0        2      129      1      2.6      2   \n",
       "3   37    1   3       130   250    0        0      187      0      3.5      3   \n",
       "4   41    0   2       130   204    0        2      172      0      1.4      1   \n",
       "\n",
       "   ca        thal  \n",
       "0   0       fixed  \n",
       "1   3      normal  \n",
       "2   2  reversible  \n",
       "3   0      normal  \n",
       "4   0      normal  "
      ]
     },
     "execution_count": 12,
     "metadata": {},
     "output_type": "execute_result"
    }
   ],
   "source": [
    "X.head()"
   ]
  },
  {
   "cell_type": "code",
   "execution_count": 13,
   "metadata": {},
   "outputs": [
    {
     "data": {
      "text/plain": [
       "0    0\n",
       "1    1\n",
       "2    0\n",
       "3    0\n",
       "4    0\n",
       "Name: target, dtype: int64"
      ]
     },
     "execution_count": 13,
     "metadata": {},
     "output_type": "execute_result"
    }
   ],
   "source": [
    "y.head()"
   ]
  },
  {
   "cell_type": "markdown",
   "metadata": {},
   "source": [
    "#### Train-test split"
   ]
  },
  {
   "cell_type": "code",
   "execution_count": 14,
   "metadata": {
    "id": "LcP1WjczZUdo"
   },
   "outputs": [],
   "source": [
    "X_train, X_test, y_train, y_test = train_test_split(X, y, stratify=y, random_state=13)"
   ]
  },
  {
   "cell_type": "markdown",
   "metadata": {
    "id": "ww4lRDCS3qPh"
   },
   "source": [
    "Convert `thal` column to numeric"
   ]
  },
  {
   "cell_type": "markdown",
   "metadata": {
    "id": "xa7KCi_GXHmW"
   },
   "source": [
    "#### Use scikit-learn to one-hot encode  "
   ]
  },
  {
   "cell_type": "code",
   "execution_count": 15,
   "metadata": {},
   "outputs": [
    {
     "data": {
      "text/plain": [
       "age           int64\n",
       "sex           int64\n",
       "cp            int64\n",
       "trestbps      int64\n",
       "chol          int64\n",
       "fbs           int64\n",
       "restecg       int64\n",
       "thalach       int64\n",
       "exang         int64\n",
       "oldpeak     float64\n",
       "slope         int64\n",
       "ca            int64\n",
       "thal         object\n",
       "dtype: object"
      ]
     },
     "execution_count": 15,
     "metadata": {},
     "output_type": "execute_result"
    }
   ],
   "source": [
    "X_train.dtypes"
   ]
  },
  {
   "cell_type": "code",
   "execution_count": 16,
   "metadata": {
    "colab": {
     "base_uri": "https://localhost:8080/",
     "height": 232
    },
    "id": "Hr6lqMnFXMxH",
    "outputId": "22002b56-7fac-4aa7-e648-3780f7d4c049"
   },
   "outputs": [],
   "source": [
    "from sklearn.preprocessing import OneHotEncoder, StandardScaler\n",
    "from sklearn.compose import make_column_selector, make_column_transformer\n",
    "\n",
    "ct = make_column_transformer(\n",
    "    (OneHotEncoder(handle_unknown='ignore'), make_column_selector(dtype_include=object)),\n",
    "    remainder='passthrough',\n",
    "    verbose_feature_names_out=False,\n",
    ")"
   ]
  },
  {
   "cell_type": "code",
   "execution_count": 17,
   "metadata": {
    "colab": {
     "base_uri": "https://localhost:8080/",
     "height": 462
    },
    "id": "8cnNgBOZXk-6",
    "outputId": "c8417e31-23a3-4179-98e0-bacdb0193c36"
   },
   "outputs": [],
   "source": [
    "X_train_t = ct.fit_transform(X_train)\n",
    "X_test_t = ct.transform(X_test)"
   ]
  },
  {
   "cell_type": "code",
   "execution_count": 18,
   "metadata": {},
   "outputs": [],
   "source": [
    "ss = StandardScaler()\n",
    "X_train_t_s = ss.fit_transform(X_train_t)\n",
    "X_test_t_s = ss.fit_transform(X_test_t)"
   ]
  },
  {
   "cell_type": "code",
   "execution_count": 19,
   "metadata": {},
   "outputs": [
    {
     "data": {
      "text/html": [
       "<div>\n",
       "<style scoped>\n",
       "    .dataframe tbody tr th:only-of-type {\n",
       "        vertical-align: middle;\n",
       "    }\n",
       "\n",
       "    .dataframe tbody tr th {\n",
       "        vertical-align: top;\n",
       "    }\n",
       "\n",
       "    .dataframe thead th {\n",
       "        text-align: right;\n",
       "    }\n",
       "</style>\n",
       "<table border=\"1\" class=\"dataframe\">\n",
       "  <thead>\n",
       "    <tr style=\"text-align: right;\">\n",
       "      <th></th>\n",
       "      <th>thal_fixed</th>\n",
       "      <th>thal_normal</th>\n",
       "      <th>thal_reversible</th>\n",
       "      <th>age</th>\n",
       "      <th>sex</th>\n",
       "      <th>cp</th>\n",
       "      <th>trestbps</th>\n",
       "      <th>chol</th>\n",
       "      <th>fbs</th>\n",
       "      <th>restecg</th>\n",
       "      <th>thalach</th>\n",
       "      <th>exang</th>\n",
       "      <th>oldpeak</th>\n",
       "      <th>slope</th>\n",
       "      <th>ca</th>\n",
       "    </tr>\n",
       "  </thead>\n",
       "  <tbody>\n",
       "    <tr>\n",
       "      <th>0</th>\n",
       "      <td>-0.276686</td>\n",
       "      <td>0.935414</td>\n",
       "      <td>-0.808957</td>\n",
       "      <td>0.432765</td>\n",
       "      <td>-1.519481</td>\n",
       "      <td>-2.028484</td>\n",
       "      <td>1.106670</td>\n",
       "      <td>0.692117</td>\n",
       "      <td>2.370158</td>\n",
       "      <td>1.057315</td>\n",
       "      <td>0.565762</td>\n",
       "      <td>-0.700047</td>\n",
       "      <td>-0.057886</td>\n",
       "      <td>-0.955320</td>\n",
       "      <td>-0.715102</td>\n",
       "    </tr>\n",
       "    <tr>\n",
       "      <th>1</th>\n",
       "      <td>3.614208</td>\n",
       "      <td>-1.069045</td>\n",
       "      <td>-0.808957</td>\n",
       "      <td>-1.465546</td>\n",
       "      <td>0.658119</td>\n",
       "      <td>-1.071652</td>\n",
       "      <td>0.238467</td>\n",
       "      <td>-0.803813</td>\n",
       "      <td>-0.421913</td>\n",
       "      <td>-0.967331</td>\n",
       "      <td>-0.730976</td>\n",
       "      <td>-0.700047</td>\n",
       "      <td>-0.962357</td>\n",
       "      <td>0.710936</td>\n",
       "      <td>-0.715102</td>\n",
       "    </tr>\n",
       "  </tbody>\n",
       "</table>\n",
       "</div>"
      ],
      "text/plain": [
       "   thal_fixed  thal_normal  thal_reversible       age       sex        cp  \\\n",
       "0   -0.276686     0.935414        -0.808957  0.432765 -1.519481 -2.028484   \n",
       "1    3.614208    -1.069045        -0.808957 -1.465546  0.658119 -1.071652   \n",
       "\n",
       "   trestbps      chol       fbs   restecg   thalach     exang   oldpeak  \\\n",
       "0  1.106670  0.692117  2.370158  1.057315  0.565762 -0.700047 -0.057886   \n",
       "1  0.238467 -0.803813 -0.421913 -0.967331 -0.730976 -0.700047 -0.962357   \n",
       "\n",
       "      slope        ca  \n",
       "0 -0.955320 -0.715102  \n",
       "1  0.710936 -0.715102  "
      ]
     },
     "execution_count": 19,
     "metadata": {},
     "output_type": "execute_result"
    }
   ],
   "source": [
    "X_train_df = pd.DataFrame(X_train_t_s, columns=ct.get_feature_names_out())\n",
    "X_train_df.head(2)"
   ]
  },
  {
   "cell_type": "code",
   "execution_count": 20,
   "metadata": {},
   "outputs": [
    {
     "data": {
      "text/html": [
       "<div>\n",
       "<style scoped>\n",
       "    .dataframe tbody tr th:only-of-type {\n",
       "        vertical-align: middle;\n",
       "    }\n",
       "\n",
       "    .dataframe tbody tr th {\n",
       "        vertical-align: top;\n",
       "    }\n",
       "\n",
       "    .dataframe thead th {\n",
       "        text-align: right;\n",
       "    }\n",
       "</style>\n",
       "<table border=\"1\" class=\"dataframe\">\n",
       "  <thead>\n",
       "    <tr style=\"text-align: right;\">\n",
       "      <th></th>\n",
       "      <th>thal_fixed</th>\n",
       "      <th>thal_normal</th>\n",
       "      <th>thal_reversible</th>\n",
       "      <th>age</th>\n",
       "      <th>sex</th>\n",
       "      <th>cp</th>\n",
       "      <th>trestbps</th>\n",
       "      <th>chol</th>\n",
       "      <th>fbs</th>\n",
       "      <th>restecg</th>\n",
       "      <th>thalach</th>\n",
       "      <th>exang</th>\n",
       "      <th>oldpeak</th>\n",
       "      <th>slope</th>\n",
       "      <th>ca</th>\n",
       "    </tr>\n",
       "  </thead>\n",
       "  <tbody>\n",
       "    <tr>\n",
       "      <th>0</th>\n",
       "      <td>-0.164399</td>\n",
       "      <td>-1.309307</td>\n",
       "      <td>1.38675</td>\n",
       "      <td>0.340978</td>\n",
       "      <td>0.785507</td>\n",
       "      <td>0.967352</td>\n",
       "      <td>0.318706</td>\n",
       "      <td>-1.515187</td>\n",
       "      <td>-0.389249</td>\n",
       "      <td>-1.149594</td>\n",
       "      <td>0.518409</td>\n",
       "      <td>1.428286</td>\n",
       "      <td>-0.794535</td>\n",
       "      <td>-0.996815</td>\n",
       "      <td>0.234181</td>\n",
       "    </tr>\n",
       "    <tr>\n",
       "      <th>1</th>\n",
       "      <td>-0.164399</td>\n",
       "      <td>0.763763</td>\n",
       "      <td>-0.72111</td>\n",
       "      <td>0.780203</td>\n",
       "      <td>-1.273063</td>\n",
       "      <td>-0.163706</td>\n",
       "      <td>0.050173</td>\n",
       "      <td>0.057099</td>\n",
       "      <td>-0.389249</td>\n",
       "      <td>0.906150</td>\n",
       "      <td>0.968684</td>\n",
       "      <td>-0.700140</td>\n",
       "      <td>-0.794535</td>\n",
       "      <td>-0.996815</td>\n",
       "      <td>-0.754584</td>\n",
       "    </tr>\n",
       "  </tbody>\n",
       "</table>\n",
       "</div>"
      ],
      "text/plain": [
       "   thal_fixed  thal_normal  thal_reversible       age       sex        cp  \\\n",
       "0   -0.164399    -1.309307          1.38675  0.340978  0.785507  0.967352   \n",
       "1   -0.164399     0.763763         -0.72111  0.780203 -1.273063 -0.163706   \n",
       "\n",
       "   trestbps      chol       fbs   restecg   thalach     exang   oldpeak  \\\n",
       "0  0.318706 -1.515187 -0.389249 -1.149594  0.518409  1.428286 -0.794535   \n",
       "1  0.050173  0.057099 -0.389249  0.906150  0.968684 -0.700140 -0.794535   \n",
       "\n",
       "      slope        ca  \n",
       "0 -0.996815  0.234181  \n",
       "1 -0.996815 -0.754584  "
      ]
     },
     "execution_count": 20,
     "metadata": {},
     "output_type": "execute_result"
    }
   ],
   "source": [
    "X_test_df = pd.DataFrame(X_test_t_s, columns=ct.get_feature_names_out())\n",
    "X_test_df.head(2)"
   ]
  },
  {
   "cell_type": "markdown",
   "metadata": {
    "id": "9CyGI5BA-faC"
   },
   "source": [
    "#### Set the TensorFlow random seed"
   ]
  },
  {
   "cell_type": "code",
   "execution_count": 21,
   "metadata": {
    "id": "HEfRLI8j-ZQs"
   },
   "outputs": [],
   "source": [
    "# With help from https://www.tensorflow.org/api_docs/python/tf/keras/utils/set_random_seed\n",
    "\n",
    "tf.keras.utils.set_random_seed(\n",
    "    1331\n",
    ")"
   ]
  },
  {
   "cell_type": "markdown",
   "metadata": {
    "id": "bB9C0XJkyQEk"
   },
   "source": [
    "## Create and train a model\n",
    "\n",
    "#### Create model structure"
   ]
  },
  {
   "cell_type": "code",
   "execution_count": 22,
   "metadata": {
    "colab": {
     "base_uri": "https://localhost:8080/",
     "height": 34
    },
    "id": "FQd9PcPRpkP4",
    "outputId": "71765ffd-02b8-4d64-d468-b2d2c47b453f"
   },
   "outputs": [],
   "source": [
    "from tensorflow.keras.models import Sequential\n",
    "from tensorflow.keras.layers import Dense"
   ]
  },
  {
   "cell_type": "code",
   "execution_count": 23,
   "metadata": {
    "colab": {
     "base_uri": "https://localhost:8080/",
     "height": 533
    },
    "id": "sjHkd6kGy_oR",
    "outputId": "57183cf4-7f14-430c-b4f3-0a0138b9aeab"
   },
   "outputs": [
    {
     "name": "stderr",
     "output_type": "stream",
     "text": [
      "2022-02-03 16:17:14.185138: I tensorflow/core/platform/cpu_feature_guard.cc:151] This TensorFlow binary is optimized with oneAPI Deep Neural Network Library (oneDNN) to use the following CPU instructions in performance-critical operations:  AVX2 AVX512F FMA\n",
      "To enable them in other operations, rebuild TensorFlow with the appropriate compiler flags.\n"
     ]
    }
   ],
   "source": [
    "model = Sequential()\n",
    "model.add(Dense(35, activation='relu'))\n",
    "model.add(Dense(1, activation='sigmoid'))"
   ]
  },
  {
   "cell_type": "markdown",
   "metadata": {
    "id": "T12mvCrqpXOX"
   },
   "source": [
    "#### Compile"
   ]
  },
  {
   "cell_type": "code",
   "execution_count": 24,
   "metadata": {
    "id": "fPzix0n5xPHc"
   },
   "outputs": [],
   "source": [
    "# Using help from the docs to get metrics right\n",
    "model.compile(\n",
    "    optimizer='adam',\n",
    "    loss='binary_crossentropy',\n",
    "    metrics=['accuracy', tf.keras.metrics.Recall(), tf.keras.metrics.Precision()]\n",
    ")"
   ]
  },
  {
   "cell_type": "markdown",
   "metadata": {
    "id": "nlV0i6J4o-Yg"
   },
   "source": [
    "#### Make an EarlyStopping callback"
   ]
  },
  {
   "cell_type": "code",
   "execution_count": 25,
   "metadata": {
    "id": "ybDzNUheqxJw"
   },
   "outputs": [],
   "source": [
    "# With help from tensorflow documentation\n",
    "callback = tf.keras.callbacks.EarlyStopping(monitor='loss', patience=5)"
   ]
  },
  {
   "cell_type": "markdown",
   "metadata": {
    "id": "gaEz3a5BpLxr"
   },
   "source": [
    "#### Fit the model"
   ]
  },
  {
   "cell_type": "code",
   "execution_count": 26,
   "metadata": {
    "id": "GTxY6vPrpJkl"
   },
   "outputs": [
    {
     "name": "stdout",
     "output_type": "stream",
     "text": [
      "Epoch 1/100\n",
      "8/8 [==============================] - 1s 41ms/step - loss: 0.7338 - accuracy: 0.5556 - recall: 0.2903 - precision: 0.2432 - val_loss: 0.6983 - val_accuracy: 0.6053 - val_recall: 0.3810 - val_precision: 0.3200\n",
      "Epoch 2/100\n",
      "8/8 [==============================] - 0s 4ms/step - loss: 0.6672 - accuracy: 0.6533 - recall: 0.3548 - precision: 0.3667 - val_loss: 0.6387 - val_accuracy: 0.6579 - val_recall: 0.3810 - val_precision: 0.3810\n",
      "Epoch 3/100\n",
      "8/8 [==============================] - 0s 4ms/step - loss: 0.6117 - accuracy: 0.7067 - recall: 0.4032 - precision: 0.4630 - val_loss: 0.5910 - val_accuracy: 0.7105 - val_recall: 0.3810 - val_precision: 0.4706\n",
      "Epoch 4/100\n",
      "8/8 [==============================] - 0s 4ms/step - loss: 0.5656 - accuracy: 0.7289 - recall: 0.4355 - precision: 0.5094 - val_loss: 0.5529 - val_accuracy: 0.7895 - val_recall: 0.4762 - val_precision: 0.6667\n",
      "Epoch 5/100\n",
      "8/8 [==============================] - 0s 4ms/step - loss: 0.5301 - accuracy: 0.7467 - recall: 0.4839 - precision: 0.5455 - val_loss: 0.5193 - val_accuracy: 0.7895 - val_recall: 0.4762 - val_precision: 0.6667\n",
      "Epoch 6/100\n",
      "8/8 [==============================] - 0s 4ms/step - loss: 0.4974 - accuracy: 0.7867 - recall: 0.5645 - precision: 0.6250 - val_loss: 0.4901 - val_accuracy: 0.8026 - val_recall: 0.5238 - val_precision: 0.6875\n",
      "Epoch 7/100\n",
      "8/8 [==============================] - 0s 4ms/step - loss: 0.4720 - accuracy: 0.8089 - recall: 0.6290 - precision: 0.6610 - val_loss: 0.4696 - val_accuracy: 0.8026 - val_recall: 0.5238 - val_precision: 0.6875\n",
      "Epoch 8/100\n",
      "8/8 [==============================] - 0s 4ms/step - loss: 0.4510 - accuracy: 0.8178 - recall: 0.6613 - precision: 0.6721 - val_loss: 0.4516 - val_accuracy: 0.8289 - val_recall: 0.5714 - val_precision: 0.7500\n",
      "Epoch 9/100\n",
      "8/8 [==============================] - 0s 4ms/step - loss: 0.4340 - accuracy: 0.8311 - recall: 0.6774 - precision: 0.7000 - val_loss: 0.4364 - val_accuracy: 0.8421 - val_recall: 0.6190 - val_precision: 0.7647\n",
      "Epoch 10/100\n",
      "8/8 [==============================] - 0s 4ms/step - loss: 0.4184 - accuracy: 0.8356 - recall: 0.6935 - precision: 0.7049 - val_loss: 0.4229 - val_accuracy: 0.8421 - val_recall: 0.6667 - val_precision: 0.7368\n",
      "Epoch 11/100\n",
      "8/8 [==============================] - 0s 4ms/step - loss: 0.4053 - accuracy: 0.8311 - recall: 0.6935 - precision: 0.6935 - val_loss: 0.4119 - val_accuracy: 0.8289 - val_recall: 0.6667 - val_precision: 0.7000\n",
      "Epoch 12/100\n",
      "8/8 [==============================] - 0s 4ms/step - loss: 0.3950 - accuracy: 0.8356 - recall: 0.7258 - precision: 0.6923 - val_loss: 0.4028 - val_accuracy: 0.8289 - val_recall: 0.6667 - val_precision: 0.7000\n",
      "Epoch 13/100\n",
      "8/8 [==============================] - 0s 4ms/step - loss: 0.3848 - accuracy: 0.8311 - recall: 0.7097 - precision: 0.6875 - val_loss: 0.3964 - val_accuracy: 0.8421 - val_recall: 0.6667 - val_precision: 0.7368\n",
      "Epoch 14/100\n",
      "8/8 [==============================] - 0s 4ms/step - loss: 0.3779 - accuracy: 0.8400 - recall: 0.6774 - precision: 0.7241 - val_loss: 0.3895 - val_accuracy: 0.8421 - val_recall: 0.6667 - val_precision: 0.7368\n",
      "Epoch 15/100\n",
      "8/8 [==============================] - 0s 4ms/step - loss: 0.3697 - accuracy: 0.8400 - recall: 0.6613 - precision: 0.7321 - val_loss: 0.3831 - val_accuracy: 0.8421 - val_recall: 0.6667 - val_precision: 0.7368\n",
      "Epoch 16/100\n",
      "8/8 [==============================] - 0s 4ms/step - loss: 0.3621 - accuracy: 0.8400 - recall: 0.6613 - precision: 0.7321 - val_loss: 0.3772 - val_accuracy: 0.8289 - val_recall: 0.6190 - val_precision: 0.7222\n",
      "Epoch 17/100\n",
      "8/8 [==============================] - 0s 4ms/step - loss: 0.3552 - accuracy: 0.8489 - recall: 0.6935 - precision: 0.7414 - val_loss: 0.3713 - val_accuracy: 0.8289 - val_recall: 0.6190 - val_precision: 0.7222\n",
      "Epoch 18/100\n",
      "8/8 [==============================] - 0s 4ms/step - loss: 0.3488 - accuracy: 0.8533 - recall: 0.7097 - precision: 0.7458 - val_loss: 0.3660 - val_accuracy: 0.8289 - val_recall: 0.6190 - val_precision: 0.7222\n",
      "Epoch 19/100\n",
      "8/8 [==============================] - 0s 4ms/step - loss: 0.3424 - accuracy: 0.8667 - recall: 0.7581 - precision: 0.7581 - val_loss: 0.3613 - val_accuracy: 0.8421 - val_recall: 0.6667 - val_precision: 0.7368\n",
      "Epoch 20/100\n",
      "8/8 [==============================] - 0s 4ms/step - loss: 0.3367 - accuracy: 0.8711 - recall: 0.7581 - precision: 0.7705 - val_loss: 0.3573 - val_accuracy: 0.8421 - val_recall: 0.6667 - val_precision: 0.7368\n",
      "Epoch 21/100\n",
      "8/8 [==============================] - 0s 4ms/step - loss: 0.3320 - accuracy: 0.8711 - recall: 0.7581 - precision: 0.7705 - val_loss: 0.3539 - val_accuracy: 0.8421 - val_recall: 0.6667 - val_precision: 0.7368\n",
      "Epoch 22/100\n",
      "8/8 [==============================] - 0s 4ms/step - loss: 0.3278 - accuracy: 0.8756 - recall: 0.7742 - precision: 0.7742 - val_loss: 0.3505 - val_accuracy: 0.8289 - val_recall: 0.6190 - val_precision: 0.7222\n",
      "Epoch 23/100\n",
      "8/8 [==============================] - 0s 4ms/step - loss: 0.3236 - accuracy: 0.8756 - recall: 0.7581 - precision: 0.7833 - val_loss: 0.3478 - val_accuracy: 0.8289 - val_recall: 0.6190 - val_precision: 0.7222\n",
      "Epoch 24/100\n",
      "8/8 [==============================] - 0s 4ms/step - loss: 0.3191 - accuracy: 0.8711 - recall: 0.7742 - precision: 0.7619 - val_loss: 0.3462 - val_accuracy: 0.8421 - val_recall: 0.6667 - val_precision: 0.7368\n",
      "Epoch 25/100\n",
      "8/8 [==============================] - 0s 4ms/step - loss: 0.3154 - accuracy: 0.8711 - recall: 0.7903 - precision: 0.7538 - val_loss: 0.3444 - val_accuracy: 0.8421 - val_recall: 0.6667 - val_precision: 0.7368\n",
      "Epoch 26/100\n",
      "8/8 [==============================] - 0s 4ms/step - loss: 0.3128 - accuracy: 0.8756 - recall: 0.7903 - precision: 0.7656 - val_loss: 0.3427 - val_accuracy: 0.8289 - val_recall: 0.6190 - val_precision: 0.7222\n",
      "Epoch 27/100\n",
      "8/8 [==============================] - 0s 4ms/step - loss: 0.3096 - accuracy: 0.8800 - recall: 0.7903 - precision: 0.7778 - val_loss: 0.3414 - val_accuracy: 0.8289 - val_recall: 0.6190 - val_precision: 0.7222\n",
      "Epoch 28/100\n",
      "8/8 [==============================] - 0s 4ms/step - loss: 0.3065 - accuracy: 0.8844 - recall: 0.8065 - precision: 0.7812 - val_loss: 0.3404 - val_accuracy: 0.8421 - val_recall: 0.6667 - val_precision: 0.7368\n",
      "Epoch 29/100\n",
      "8/8 [==============================] - 0s 4ms/step - loss: 0.3031 - accuracy: 0.8889 - recall: 0.8226 - precision: 0.7846 - val_loss: 0.3394 - val_accuracy: 0.8421 - val_recall: 0.6667 - val_precision: 0.7368\n",
      "Epoch 30/100\n",
      "8/8 [==============================] - 0s 4ms/step - loss: 0.3004 - accuracy: 0.8889 - recall: 0.8226 - precision: 0.7846 - val_loss: 0.3382 - val_accuracy: 0.8421 - val_recall: 0.6667 - val_precision: 0.7368\n",
      "Epoch 31/100\n",
      "8/8 [==============================] - 0s 4ms/step - loss: 0.2987 - accuracy: 0.8889 - recall: 0.8226 - precision: 0.7846 - val_loss: 0.3366 - val_accuracy: 0.8421 - val_recall: 0.6667 - val_precision: 0.7368\n",
      "Epoch 32/100\n",
      "8/8 [==============================] - 0s 5ms/step - loss: 0.2974 - accuracy: 0.8844 - recall: 0.8065 - precision: 0.7812 - val_loss: 0.3360 - val_accuracy: 0.8421 - val_recall: 0.6667 - val_precision: 0.7368\n",
      "Epoch 33/100\n",
      "8/8 [==============================] - 0s 4ms/step - loss: 0.2963 - accuracy: 0.8844 - recall: 0.8065 - precision: 0.7812 - val_loss: 0.3366 - val_accuracy: 0.8421 - val_recall: 0.6667 - val_precision: 0.7368\n",
      "Epoch 34/100\n",
      "8/8 [==============================] - 0s 4ms/step - loss: 0.2945 - accuracy: 0.8889 - recall: 0.8226 - precision: 0.7846 - val_loss: 0.3366 - val_accuracy: 0.8421 - val_recall: 0.6667 - val_precision: 0.7368\n",
      "Epoch 35/100\n",
      "8/8 [==============================] - 0s 4ms/step - loss: 0.2924 - accuracy: 0.8889 - recall: 0.8226 - precision: 0.7846 - val_loss: 0.3362 - val_accuracy: 0.8289 - val_recall: 0.6190 - val_precision: 0.7222\n",
      "Epoch 36/100\n",
      "8/8 [==============================] - 0s 4ms/step - loss: 0.2905 - accuracy: 0.8889 - recall: 0.8226 - precision: 0.7846 - val_loss: 0.3357 - val_accuracy: 0.8289 - val_recall: 0.6190 - val_precision: 0.7222\n",
      "Epoch 37/100\n",
      "8/8 [==============================] - 0s 4ms/step - loss: 0.2884 - accuracy: 0.8889 - recall: 0.8226 - precision: 0.7846 - val_loss: 0.3353 - val_accuracy: 0.8289 - val_recall: 0.6190 - val_precision: 0.7222\n",
      "Epoch 38/100\n",
      "8/8 [==============================] - 0s 4ms/step - loss: 0.2866 - accuracy: 0.8889 - recall: 0.8226 - precision: 0.7846 - val_loss: 0.3347 - val_accuracy: 0.8289 - val_recall: 0.6190 - val_precision: 0.7222\n",
      "Epoch 39/100\n",
      "8/8 [==============================] - 0s 4ms/step - loss: 0.2849 - accuracy: 0.8889 - recall: 0.8226 - precision: 0.7846 - val_loss: 0.3342 - val_accuracy: 0.8289 - val_recall: 0.6190 - val_precision: 0.7222\n",
      "Epoch 40/100\n",
      "8/8 [==============================] - 0s 4ms/step - loss: 0.2831 - accuracy: 0.8889 - recall: 0.8226 - precision: 0.7846 - val_loss: 0.3335 - val_accuracy: 0.8289 - val_recall: 0.6190 - val_precision: 0.7222\n",
      "Epoch 41/100\n",
      "8/8 [==============================] - 0s 4ms/step - loss: 0.2818 - accuracy: 0.8889 - recall: 0.8226 - precision: 0.7846 - val_loss: 0.3331 - val_accuracy: 0.8289 - val_recall: 0.6190 - val_precision: 0.7222\n",
      "Epoch 42/100\n",
      "8/8 [==============================] - 0s 4ms/step - loss: 0.2802 - accuracy: 0.8933 - recall: 0.8226 - precision: 0.7969 - val_loss: 0.3325 - val_accuracy: 0.8289 - val_recall: 0.6190 - val_precision: 0.7222\n",
      "Epoch 43/100\n",
      "8/8 [==============================] - 0s 4ms/step - loss: 0.2788 - accuracy: 0.8933 - recall: 0.8226 - precision: 0.7969 - val_loss: 0.3323 - val_accuracy: 0.8289 - val_recall: 0.6190 - val_precision: 0.7222\n",
      "Epoch 44/100\n",
      "8/8 [==============================] - 0s 4ms/step - loss: 0.2774 - accuracy: 0.8933 - recall: 0.8226 - precision: 0.7969 - val_loss: 0.3322 - val_accuracy: 0.8289 - val_recall: 0.6190 - val_precision: 0.7222\n",
      "Epoch 45/100\n",
      "8/8 [==============================] - 0s 4ms/step - loss: 0.2757 - accuracy: 0.8933 - recall: 0.8226 - precision: 0.7969 - val_loss: 0.3318 - val_accuracy: 0.8289 - val_recall: 0.6190 - val_precision: 0.7222\n",
      "Epoch 46/100\n",
      "8/8 [==============================] - 0s 4ms/step - loss: 0.2743 - accuracy: 0.8933 - recall: 0.8226 - precision: 0.7969 - val_loss: 0.3312 - val_accuracy: 0.8421 - val_recall: 0.6667 - val_precision: 0.7368\n",
      "Epoch 47/100\n",
      "8/8 [==============================] - 0s 4ms/step - loss: 0.2727 - accuracy: 0.8933 - recall: 0.8226 - precision: 0.7969 - val_loss: 0.3304 - val_accuracy: 0.8421 - val_recall: 0.6667 - val_precision: 0.7368\n",
      "Epoch 48/100\n",
      "8/8 [==============================] - 0s 4ms/step - loss: 0.2711 - accuracy: 0.8933 - recall: 0.8065 - precision: 0.8065 - val_loss: 0.3305 - val_accuracy: 0.8421 - val_recall: 0.6667 - val_precision: 0.7368\n",
      "Epoch 49/100\n",
      "8/8 [==============================] - 0s 4ms/step - loss: 0.2703 - accuracy: 0.8933 - recall: 0.8065 - precision: 0.8065 - val_loss: 0.3304 - val_accuracy: 0.8421 - val_recall: 0.6667 - val_precision: 0.7368\n",
      "Epoch 50/100\n",
      "8/8 [==============================] - 0s 5ms/step - loss: 0.2689 - accuracy: 0.8933 - recall: 0.8065 - precision: 0.8065 - val_loss: 0.3303 - val_accuracy: 0.8421 - val_recall: 0.6667 - val_precision: 0.7368\n",
      "Epoch 51/100\n",
      "8/8 [==============================] - 0s 4ms/step - loss: 0.2678 - accuracy: 0.8933 - recall: 0.8065 - precision: 0.8065 - val_loss: 0.3304 - val_accuracy: 0.8421 - val_recall: 0.6667 - val_precision: 0.7368\n",
      "Epoch 52/100\n",
      "8/8 [==============================] - 0s 4ms/step - loss: 0.2666 - accuracy: 0.8933 - recall: 0.8065 - precision: 0.8065 - val_loss: 0.3301 - val_accuracy: 0.8421 - val_recall: 0.6667 - val_precision: 0.7368\n",
      "Epoch 53/100\n",
      "8/8 [==============================] - 0s 4ms/step - loss: 0.2653 - accuracy: 0.8933 - recall: 0.8065 - precision: 0.8065 - val_loss: 0.3296 - val_accuracy: 0.8421 - val_recall: 0.6667 - val_precision: 0.7368\n",
      "Epoch 54/100\n",
      "8/8 [==============================] - 0s 4ms/step - loss: 0.2642 - accuracy: 0.8933 - recall: 0.8065 - precision: 0.8065 - val_loss: 0.3313 - val_accuracy: 0.8421 - val_recall: 0.6667 - val_precision: 0.7368\n",
      "Epoch 55/100\n",
      "8/8 [==============================] - 0s 4ms/step - loss: 0.2632 - accuracy: 0.8933 - recall: 0.8065 - precision: 0.8065 - val_loss: 0.3323 - val_accuracy: 0.8421 - val_recall: 0.6667 - val_precision: 0.7368\n",
      "Epoch 56/100\n",
      "8/8 [==============================] - 0s 4ms/step - loss: 0.2622 - accuracy: 0.8978 - recall: 0.8226 - precision: 0.8095 - val_loss: 0.3325 - val_accuracy: 0.8421 - val_recall: 0.6667 - val_precision: 0.7368\n",
      "Epoch 57/100\n",
      "8/8 [==============================] - 0s 4ms/step - loss: 0.2612 - accuracy: 0.8978 - recall: 0.8226 - precision: 0.8095 - val_loss: 0.3328 - val_accuracy: 0.8421 - val_recall: 0.6667 - val_precision: 0.7368\n",
      "Epoch 58/100\n",
      "8/8 [==============================] - 0s 4ms/step - loss: 0.2601 - accuracy: 0.8978 - recall: 0.8226 - precision: 0.8095 - val_loss: 0.3330 - val_accuracy: 0.8421 - val_recall: 0.6667 - val_precision: 0.7368\n",
      "Epoch 59/100\n",
      "8/8 [==============================] - 0s 4ms/step - loss: 0.2587 - accuracy: 0.8978 - recall: 0.8226 - precision: 0.8095 - val_loss: 0.3329 - val_accuracy: 0.8421 - val_recall: 0.6667 - val_precision: 0.7368\n",
      "Epoch 60/100\n",
      "8/8 [==============================] - 0s 4ms/step - loss: 0.2581 - accuracy: 0.8933 - recall: 0.8226 - precision: 0.7969 - val_loss: 0.3329 - val_accuracy: 0.8421 - val_recall: 0.6667 - val_precision: 0.7368\n",
      "Epoch 61/100\n",
      "8/8 [==============================] - 0s 4ms/step - loss: 0.2571 - accuracy: 0.8933 - recall: 0.8226 - precision: 0.7969 - val_loss: 0.3330 - val_accuracy: 0.8421 - val_recall: 0.6667 - val_precision: 0.7368\n",
      "Epoch 62/100\n",
      "8/8 [==============================] - 0s 4ms/step - loss: 0.2559 - accuracy: 0.8933 - recall: 0.8226 - precision: 0.7969 - val_loss: 0.3332 - val_accuracy: 0.8421 - val_recall: 0.6667 - val_precision: 0.7368\n",
      "Epoch 63/100\n",
      "8/8 [==============================] - 0s 4ms/step - loss: 0.2551 - accuracy: 0.8889 - recall: 0.8226 - precision: 0.7846 - val_loss: 0.3332 - val_accuracy: 0.8421 - val_recall: 0.6667 - val_precision: 0.7368\n",
      "Epoch 64/100\n",
      "8/8 [==============================] - 0s 4ms/step - loss: 0.2542 - accuracy: 0.8933 - recall: 0.8226 - precision: 0.7969 - val_loss: 0.3332 - val_accuracy: 0.8421 - val_recall: 0.6667 - val_precision: 0.7368\n",
      "Epoch 65/100\n",
      "8/8 [==============================] - 0s 4ms/step - loss: 0.2535 - accuracy: 0.8933 - recall: 0.8226 - precision: 0.7969 - val_loss: 0.3338 - val_accuracy: 0.8421 - val_recall: 0.6667 - val_precision: 0.7368\n",
      "Epoch 66/100\n",
      "8/8 [==============================] - 0s 4ms/step - loss: 0.2525 - accuracy: 0.8933 - recall: 0.8226 - precision: 0.7969 - val_loss: 0.3342 - val_accuracy: 0.8421 - val_recall: 0.6667 - val_precision: 0.7368\n",
      "Epoch 67/100\n",
      "8/8 [==============================] - 0s 4ms/step - loss: 0.2515 - accuracy: 0.8933 - recall: 0.8226 - precision: 0.7969 - val_loss: 0.3346 - val_accuracy: 0.8421 - val_recall: 0.6667 - val_precision: 0.7368\n",
      "Epoch 68/100\n",
      "8/8 [==============================] - 0s 4ms/step - loss: 0.2507 - accuracy: 0.8933 - recall: 0.8226 - precision: 0.7969 - val_loss: 0.3344 - val_accuracy: 0.8421 - val_recall: 0.6667 - val_precision: 0.7368\n",
      "Epoch 69/100\n",
      "8/8 [==============================] - 0s 4ms/step - loss: 0.2499 - accuracy: 0.9022 - recall: 0.8226 - precision: 0.8226 - val_loss: 0.3336 - val_accuracy: 0.8421 - val_recall: 0.6667 - val_precision: 0.7368\n",
      "Epoch 70/100\n",
      "8/8 [==============================] - 0s 4ms/step - loss: 0.2496 - accuracy: 0.9022 - recall: 0.8065 - precision: 0.8333 - val_loss: 0.3336 - val_accuracy: 0.8421 - val_recall: 0.6667 - val_precision: 0.7368\n",
      "Epoch 71/100\n",
      "8/8 [==============================] - 0s 4ms/step - loss: 0.2500 - accuracy: 0.9022 - recall: 0.7903 - precision: 0.8448 - val_loss: 0.3348 - val_accuracy: 0.8553 - val_recall: 0.6667 - val_precision: 0.7778\n",
      "Epoch 72/100\n",
      "8/8 [==============================] - 0s 4ms/step - loss: 0.2519 - accuracy: 0.8933 - recall: 0.7581 - precision: 0.8393 - val_loss: 0.3354 - val_accuracy: 0.8553 - val_recall: 0.6667 - val_precision: 0.7778\n",
      "Epoch 73/100\n",
      "8/8 [==============================] - 0s 4ms/step - loss: 0.2507 - accuracy: 0.8933 - recall: 0.7581 - precision: 0.8393 - val_loss: 0.3340 - val_accuracy: 0.8553 - val_recall: 0.6667 - val_precision: 0.7778\n",
      "Epoch 74/100\n",
      "8/8 [==============================] - 0s 4ms/step - loss: 0.2483 - accuracy: 0.8978 - recall: 0.7742 - precision: 0.8421 - val_loss: 0.3313 - val_accuracy: 0.8553 - val_recall: 0.6667 - val_precision: 0.7778\n",
      "Epoch 75/100\n",
      "8/8 [==============================] - 0s 4ms/step - loss: 0.2466 - accuracy: 0.9067 - recall: 0.8226 - precision: 0.8361 - val_loss: 0.3305 - val_accuracy: 0.8421 - val_recall: 0.6667 - val_precision: 0.7368\n",
      "Epoch 76/100\n",
      "8/8 [==============================] - 0s 4ms/step - loss: 0.2450 - accuracy: 0.9022 - recall: 0.8226 - precision: 0.8226 - val_loss: 0.3304 - val_accuracy: 0.8421 - val_recall: 0.6667 - val_precision: 0.7368\n",
      "Epoch 77/100\n",
      "8/8 [==============================] - 0s 4ms/step - loss: 0.2438 - accuracy: 0.8978 - recall: 0.8226 - precision: 0.8095 - val_loss: 0.3307 - val_accuracy: 0.8421 - val_recall: 0.6667 - val_precision: 0.7368\n",
      "Epoch 78/100\n",
      "8/8 [==============================] - 0s 4ms/step - loss: 0.2429 - accuracy: 0.8978 - recall: 0.8226 - precision: 0.8095 - val_loss: 0.3309 - val_accuracy: 0.8421 - val_recall: 0.6667 - val_precision: 0.7368\n",
      "Epoch 79/100\n",
      "8/8 [==============================] - 0s 4ms/step - loss: 0.2421 - accuracy: 0.8978 - recall: 0.8226 - precision: 0.8095 - val_loss: 0.3312 - val_accuracy: 0.8421 - val_recall: 0.6667 - val_precision: 0.7368\n",
      "Epoch 80/100\n",
      "8/8 [==============================] - 0s 4ms/step - loss: 0.2412 - accuracy: 0.8978 - recall: 0.8226 - precision: 0.8095 - val_loss: 0.3314 - val_accuracy: 0.8421 - val_recall: 0.6667 - val_precision: 0.7368\n",
      "Epoch 81/100\n",
      "8/8 [==============================] - 0s 4ms/step - loss: 0.2404 - accuracy: 0.8978 - recall: 0.8226 - precision: 0.8095 - val_loss: 0.3316 - val_accuracy: 0.8421 - val_recall: 0.6667 - val_precision: 0.7368\n",
      "Epoch 82/100\n",
      "8/8 [==============================] - 0s 4ms/step - loss: 0.2394 - accuracy: 0.8978 - recall: 0.8226 - precision: 0.8095 - val_loss: 0.3319 - val_accuracy: 0.8421 - val_recall: 0.6667 - val_precision: 0.7368\n",
      "Epoch 83/100\n",
      "8/8 [==============================] - 0s 4ms/step - loss: 0.2393 - accuracy: 0.8978 - recall: 0.8226 - precision: 0.8095 - val_loss: 0.3320 - val_accuracy: 0.8421 - val_recall: 0.6667 - val_precision: 0.7368\n",
      "Epoch 84/100\n",
      "8/8 [==============================] - 0s 4ms/step - loss: 0.2383 - accuracy: 0.8978 - recall: 0.8226 - precision: 0.8095 - val_loss: 0.3323 - val_accuracy: 0.8421 - val_recall: 0.6667 - val_precision: 0.7368\n",
      "Epoch 85/100\n",
      "8/8 [==============================] - 0s 4ms/step - loss: 0.2375 - accuracy: 0.8978 - recall: 0.8226 - precision: 0.8095 - val_loss: 0.3324 - val_accuracy: 0.8421 - val_recall: 0.6667 - val_precision: 0.7368\n",
      "Epoch 86/100\n",
      "8/8 [==============================] - 0s 4ms/step - loss: 0.2360 - accuracy: 0.8978 - recall: 0.8226 - precision: 0.8095 - val_loss: 0.3310 - val_accuracy: 0.8421 - val_recall: 0.6667 - val_precision: 0.7368\n",
      "Epoch 87/100\n",
      "8/8 [==============================] - 0s 4ms/step - loss: 0.2360 - accuracy: 0.9022 - recall: 0.8226 - precision: 0.8226 - val_loss: 0.3310 - val_accuracy: 0.8421 - val_recall: 0.6667 - val_precision: 0.7368\n",
      "Epoch 88/100\n",
      "8/8 [==============================] - 0s 4ms/step - loss: 0.2357 - accuracy: 0.9022 - recall: 0.8226 - precision: 0.8226 - val_loss: 0.3305 - val_accuracy: 0.8421 - val_recall: 0.6667 - val_precision: 0.7368\n",
      "Epoch 89/100\n",
      "8/8 [==============================] - 0s 4ms/step - loss: 0.2348 - accuracy: 0.8978 - recall: 0.8226 - precision: 0.8095 - val_loss: 0.3308 - val_accuracy: 0.8421 - val_recall: 0.6667 - val_precision: 0.7368\n",
      "Epoch 90/100\n",
      "8/8 [==============================] - 0s 4ms/step - loss: 0.2339 - accuracy: 0.8978 - recall: 0.8226 - precision: 0.8095 - val_loss: 0.3309 - val_accuracy: 0.8421 - val_recall: 0.6667 - val_precision: 0.7368\n",
      "Epoch 91/100\n",
      "8/8 [==============================] - 0s 4ms/step - loss: 0.2333 - accuracy: 0.8978 - recall: 0.8226 - precision: 0.8095 - val_loss: 0.3308 - val_accuracy: 0.8421 - val_recall: 0.6667 - val_precision: 0.7368\n",
      "Epoch 92/100\n",
      "8/8 [==============================] - 0s 5ms/step - loss: 0.2319 - accuracy: 0.8978 - recall: 0.8226 - precision: 0.8095 - val_loss: 0.3324 - val_accuracy: 0.8421 - val_recall: 0.6667 - val_precision: 0.7368\n",
      "Epoch 93/100\n",
      "8/8 [==============================] - 0s 5ms/step - loss: 0.2320 - accuracy: 0.8978 - recall: 0.8226 - precision: 0.8095 - val_loss: 0.3333 - val_accuracy: 0.8421 - val_recall: 0.6667 - val_precision: 0.7368\n",
      "Epoch 94/100\n",
      "8/8 [==============================] - 0s 5ms/step - loss: 0.2312 - accuracy: 0.8978 - recall: 0.8387 - precision: 0.8000 - val_loss: 0.3341 - val_accuracy: 0.8421 - val_recall: 0.6667 - val_precision: 0.7368\n",
      "Epoch 95/100\n",
      "8/8 [==============================] - 0s 4ms/step - loss: 0.2310 - accuracy: 0.8933 - recall: 0.8387 - precision: 0.7879 - val_loss: 0.3354 - val_accuracy: 0.8421 - val_recall: 0.6667 - val_precision: 0.7368\n",
      "Epoch 96/100\n",
      "8/8 [==============================] - 0s 4ms/step - loss: 0.2302 - accuracy: 0.8933 - recall: 0.8387 - precision: 0.7879 - val_loss: 0.3369 - val_accuracy: 0.8421 - val_recall: 0.6667 - val_precision: 0.7368\n",
      "Epoch 97/100\n",
      "8/8 [==============================] - 0s 4ms/step - loss: 0.2287 - accuracy: 0.8933 - recall: 0.8226 - precision: 0.7969 - val_loss: 0.3378 - val_accuracy: 0.8421 - val_recall: 0.6667 - val_precision: 0.7368\n",
      "Epoch 98/100\n",
      "8/8 [==============================] - 0s 4ms/step - loss: 0.2276 - accuracy: 0.8933 - recall: 0.8226 - precision: 0.7969 - val_loss: 0.3377 - val_accuracy: 0.8421 - val_recall: 0.6667 - val_precision: 0.7368\n",
      "Epoch 99/100\n",
      "8/8 [==============================] - 0s 4ms/step - loss: 0.2264 - accuracy: 0.9022 - recall: 0.8226 - precision: 0.8226 - val_loss: 0.3364 - val_accuracy: 0.8421 - val_recall: 0.6667 - val_precision: 0.7368\n",
      "Epoch 100/100\n",
      "8/8 [==============================] - 0s 5ms/step - loss: 0.2257 - accuracy: 0.8978 - recall: 0.8065 - precision: 0.8197 - val_loss: 0.3359 - val_accuracy: 0.8421 - val_recall: 0.6667 - val_precision: 0.7368\n"
     ]
    }
   ],
   "source": [
    "history = model.fit(\n",
    "    X_train_df,\n",
    "    y_train,\n",
    "    validation_data=(X_test_df, y_test),\n",
    "    epochs=100,\n",
    "    callbacks=callback\n",
    ")"
   ]
  },
  {
   "cell_type": "markdown",
   "metadata": {
    "id": "8rOk1tBrkwOo"
   },
   "source": [
    "#### Plot model performance on the validation data (accuracy, recall, and precision)"
   ]
  },
  {
   "cell_type": "code",
   "execution_count": 27,
   "metadata": {
    "colab": {
     "base_uri": "https://localhost:8080/",
     "height": 264
    },
    "id": "J0KM_xsoDW3P",
    "outputId": "5b83b18b-0e8b-427e-bda6-c3ebe14f7d89"
   },
   "outputs": [
    {
     "data": {
      "text/plain": [
       "dict_keys(['loss', 'accuracy', 'recall', 'precision', 'val_loss', 'val_accuracy', 'val_recall', 'val_precision'])"
      ]
     },
     "execution_count": 27,
     "metadata": {},
     "output_type": "execute_result"
    }
   ],
   "source": [
    "history.history.keys()"
   ]
  },
  {
   "cell_type": "code",
   "execution_count": 40,
   "metadata": {},
   "outputs": [
    {
     "data": {
      "text/plain": [
       "''"
      ]
     },
     "execution_count": 40,
     "metadata": {},
     "output_type": "execute_result"
    },
    {
     "data": {
      "image/png": "[encoded data removed]",
      "text/plain": [
       "<Figure size 864x576 with 1 Axes>"
      ]
     },
     "metadata": {
      "needs_background": "light"
     },
     "output_type": "display_data"
    }
   ],
   "source": [
    "# With help from regularization lesson\n",
    "train_accuracy = history.history['accuracy']\n",
    "test_accuracy = history.history['val_accuracy']\n",
    "train_recall = history.history['recall']\n",
    "test_recall = history.history['val_recall']\n",
    "train_precision = history.history['precision']\n",
    "test_precision = history.history['val_precision']\n",
    "\n",
    "plt.figure(figsize=(12, 8))\n",
    "# plt.plot(train_accuracy, label='Training Accuracy', color='navy')\n",
    "plt.plot(test_accuracy, label='Testing Accuracy', color='skyblue')\n",
    "# plt.plot(train_recall, label='Training Recall', color='darkred')\n",
    "plt.plot(test_recall, label='Testing Recall', color='pink')\n",
    "# plt.plot(train_precision, label='Training Precision', color='green')\n",
    "plt.plot(test_precision, label='Testing Precision', color='lightgreen')\n",
    "plt.legend()\n",
    ";"
   ]
  },
  {
   "cell_type": "markdown",
   "metadata": {
    "id": "ltQkFibkzAMb"
   },
   "source": [
    "#### Save model"
   ]
  },
  {
   "cell_type": "code",
   "execution_count": 29,
   "metadata": {
    "colab": {
     "base_uri": "https://localhost:8080/",
     "height": 34
    },
    "id": "b4477jxw71mZ",
    "outputId": "f69379ab-9849-42f4-9e03-79e18697c3b7"
   },
   "outputs": [
    {
     "name": "stderr",
     "output_type": "stream",
     "text": [
      "2022-02-03 16:17:19.277710: W tensorflow/python/util/util.cc:368] Sets are not currently considered sequences, but this may change in the future, so consider avoiding using them.\n"
     ]
    },
    {
     "name": "stdout",
     "output_type": "stream",
     "text": [
      "INFO:tensorflow:Assets written to: ./first_model/assets\n"
     ]
    }
   ],
   "source": [
    "model.save('./first_model')"
   ]
  },
  {
   "cell_type": "markdown",
   "metadata": {
    "id": "wgSH6wUwEDp2"
   },
   "source": [
    "#### Load model"
   ]
  },
  {
   "cell_type": "code",
   "execution_count": 30,
   "metadata": {
    "id": "9DbjapJzd-ks"
   },
   "outputs": [],
   "source": [
    "reloaded_model = tf.keras.models.load_model('./first_model')"
   ]
  },
  {
   "cell_type": "markdown",
   "metadata": {
    "id": "fs9fVkzQEGbN"
   },
   "source": [
    "#### Evaluate on test set "
   ]
  },
  {
   "cell_type": "code",
   "execution_count": 31,
   "metadata": {
    "colab": {
     "base_uri": "https://localhost:8080/",
     "height": 125
    },
    "id": "aSaWeerYEDFX",
    "outputId": "686e55e8-dcf5-442c-9167-f0dbc6b4893c"
   },
   "outputs": [
    {
     "name": "stdout",
     "output_type": "stream",
     "text": [
      "3/3 [==============================] - 0s 5ms/step - loss: 0.3359 - accuracy: 0.8421 - recall: 0.6667 - precision: 0.7368\n"
     ]
    },
    {
     "data": {
      "text/plain": [
       "[0.33588317036628723,\n",
       " 0.8421052694320679,\n",
       " 0.6666666865348816,\n",
       " 0.7368420958518982]"
      ]
     },
     "execution_count": 31,
     "metadata": {},
     "output_type": "execute_result"
    }
   ],
   "source": [
    "reloaded_model.evaluate(X_test_df, y_test)"
   ]
  },
  {
   "cell_type": "markdown",
   "metadata": {
    "id": "5olEwyc7D_ti"
   },
   "source": [
    "#### X_test predictions"
   ]
  },
  {
   "cell_type": "code",
   "execution_count": 32,
   "metadata": {
    "id": "w5hEzXcbefof"
   },
   "outputs": [
    {
     "data": {
      "text/plain": [
       "array([[0.25420275],\n",
       "       [0.00195158],\n",
       "       [0.5772864 ],\n",
       "       [0.07616532],\n",
       "       [0.7671441 ]], dtype=float32)"
      ]
     },
     "execution_count": 32,
     "metadata": {},
     "output_type": "execute_result"
    }
   ],
   "source": [
    "y_preds = reloaded_model.predict(X_test_df)\n",
    "y_preds[:5]"
   ]
  },
  {
   "cell_type": "markdown",
   "metadata": {
    "id": "S4B1DOQOlIpD"
   },
   "source": [
    "#### What do those look like?"
   ]
  },
  {
   "cell_type": "code",
   "execution_count": 33,
   "metadata": {
    "id": "WxVEisOYw4Jr"
   },
   "outputs": [
    {
     "data": {
      "text/plain": [
       "''"
      ]
     },
     "execution_count": 33,
     "metadata": {},
     "output_type": "execute_result"
    },
    {
     "data": {
      "image/png": "[encoded data removed]",
      "text/plain": [
       "<Figure size 432x288 with 1 Axes>"
      ]
     },
     "metadata": {
      "needs_background": "light"
     },
     "output_type": "display_data"
    }
   ],
   "source": [
    "plt.plot(y_preds)\n",
    ";"
   ]
  },
  {
   "cell_type": "markdown",
   "metadata": {
    "id": "vzrZM0MTxDl9"
   },
   "source": [
    "#### How is the model performing? \n",
    "Let's look at the confusion matrix using TF."
   ]
  },
  {
   "cell_type": "code",
   "execution_count": 34,
   "metadata": {
    "colab": {
     "base_uri": "https://localhost:8080/",
     "height": 70
    },
    "id": "i-KcKPNNDBdE",
    "outputId": "3b559b90-eb67-4bfc-c929-1baeafe48b76"
   },
   "outputs": [],
   "source": [
    "# Using the docs\n",
    "tf_confusion = tf.compat.v1.confusion_matrix(\n",
    "    labels=y_test,\n",
    "    predictions=reloaded_model.predict(X_test_df),\n",
    "    \n",
    ")"
   ]
  },
  {
   "cell_type": "code",
   "execution_count": 35,
   "metadata": {},
   "outputs": [
    {
     "data": {
      "text/plain": [
       "<tf.Tensor: shape=(2, 2), dtype=int32, numpy=\n",
       "array([[55,  0],\n",
       "       [21,  0]], dtype=int32)>"
      ]
     },
     "execution_count": 35,
     "metadata": {},
     "output_type": "execute_result"
    }
   ],
   "source": [
    "tf_confusion"
   ]
  },
  {
   "cell_type": "markdown",
   "metadata": {
    "id": "_Yk_wAPHwSme"
   },
   "source": [
    "Or just use sklearn's confusion matrix. "
   ]
  },
  {
   "cell_type": "code",
   "execution_count": 36,
   "metadata": {
    "id": "w6gZHqa3wQgS"
   },
   "outputs": [],
   "source": [
    "from sklearn.metrics import ConfusionMatrixDisplay"
   ]
  },
  {
   "cell_type": "code",
   "execution_count": 37,
   "metadata": {
    "colab": {
     "base_uri": "https://localhost:8080/",
     "height": 52
    },
    "id": "WIyMfhaGwc3K",
    "outputId": "22bf3e04-6641-4f29-b82e-6c0725d3f3d3"
   },
   "outputs": [
    {
     "data": {
      "text/plain": [
       "''"
      ]
     },
     "execution_count": 37,
     "metadata": {},
     "output_type": "execute_result"
    },
    {
     "data": {
      "image/png": "[encoded data removed]",
      "text/plain": [
       "<Figure size 432x288 with 2 Axes>"
      ]
     },
     "metadata": {
      "needs_background": "light"
     },
     "output_type": "display_data"
    }
   ],
   "source": [
    "# With help from https://stackoverflow.com/questions/56458526/get-confusion-matrix-from-a-keras-model/56458627\n",
    "# np.rint\n",
    "ConfusionMatrixDisplay.from_predictions(y_test, np.rint(y_preds), cmap='Greens')\n",
    ";"
   ]
  },
  {
   "cell_type": "markdown",
   "metadata": {
    "id": "i88nl2fLmmPo"
   },
   "source": [
    "#### Evaluate with other metrics"
   ]
  },
  {
   "cell_type": "code",
   "execution_count": null,
   "metadata": {
    "id": "3HS5qvVEp7Dt"
   },
   "outputs": [],
   "source": []
  },
  {
   "cell_type": "code",
   "execution_count": null,
   "metadata": {
    "colab": {
     "base_uri": "https://localhost:8080/",
     "height": 34
    },
    "id": "tFNRQNR8z0qp",
    "outputId": "325c0ac8-620b-45e2-a253-eac63ae59205"
   },
   "outputs": [],
   "source": []
  },
  {
   "cell_type": "code",
   "execution_count": null,
   "metadata": {
    "colab": {
     "base_uri": "https://localhost:8080/",
     "height": 34
    },
    "id": "F_BvhOiLqLd7",
    "outputId": "89c4a50f-e460-420f-b206-25d517fb0d42"
   },
   "outputs": [],
   "source": []
  },
  {
   "cell_type": "code",
   "execution_count": null,
   "metadata": {
    "colab": {
     "base_uri": "https://localhost:8080/",
     "height": 34
    },
    "id": "4tzu786xqRkm",
    "outputId": "69106fd2-c47a-4e1a-96e3-44cab0f01c06"
   },
   "outputs": [],
   "source": []
  },
  {
   "cell_type": "markdown",
   "metadata": {
    "id": "WygQswjBwBb4"
   },
   "source": [
    "### Make a null model"
   ]
  },
  {
   "cell_type": "code",
   "execution_count": 38,
   "metadata": {
    "colab": {
     "base_uri": "https://localhost:8080/",
     "height": 70
    },
    "id": "6-J5CSa-wAt-",
    "outputId": "34c32d3a-c98f-49f8-f6f7-9587a04cbd85"
   },
   "outputs": [
    {
     "data": {
      "text/plain": [
       "0.7236842105263158"
      ]
     },
     "execution_count": 38,
     "metadata": {},
     "output_type": "execute_result"
    }
   ],
   "source": [
    "from sklearn.dummy import DummyClassifier\n",
    "\n",
    "dc = DummyClassifier()\n",
    "dc.fit(X_train_df, y_train)\n",
    "dc.score(X_test_df, y_test)"
   ]
  },
  {
   "cell_type": "markdown",
   "metadata": {
    "id": "aWNUxsZshX71"
   },
   "source": [
    "## Can you make a better model?\n",
    "\n",
    "Change the model architecture and see if you can make a better model. Add nodes, dense layers, and dropout layers."
   ]
  },
  {
   "cell_type": "markdown",
   "metadata": {},
   "source": [
    "**Will attempt a Grid Search on keras nn** Also, model seems overfit so regularization could help.\n",
    "\n",
    "Following this tutorial: https://machinelearningmastery.com/grid-search-hyperparameters-deep-learning-models-python-keras/"
   ]
  },
  {
   "cell_type": "code",
   "execution_count": null,
   "metadata": {
    "id": "-vuo0gPswEjU"
   },
   "outputs": [],
   "source": []
  },
  {
   "cell_type": "markdown",
   "metadata": {
    "id": "P2g8fNYPhe5t"
   },
   "source": [
    "#### Save your best model. \n"
   ]
  },
  {
   "cell_type": "code",
   "execution_count": null,
   "metadata": {},
   "outputs": [],
   "source": []
  },
  {
   "cell_type": "markdown",
   "metadata": {
    "id": "8Y2AqHwEh4A_"
   },
   "source": [
    "### Compare with other algorithms\n",
    "Compare your best neural net model to scikit-learn's LogisticRegression, SVM, and GradientBoostingClassifier. Hyperparameter search for good options."
   ]
  },
  {
   "cell_type": "code",
   "execution_count": null,
   "metadata": {
    "id": "50mvw0us9FdB"
   },
   "outputs": [],
   "source": []
  },
  {
   "cell_type": "code",
   "execution_count": null,
   "metadata": {
    "colab": {
     "base_uri": "https://localhost:8080/",
     "height": 34
    },
    "id": "Gl-9aQxZxiKg",
    "outputId": "33cff554-2999-4d4d-92ac-c541fed07780"
   },
   "outputs": [],
   "source": []
  },
  {
   "cell_type": "code",
   "execution_count": null,
   "metadata": {
    "colab": {
     "base_uri": "https://localhost:8080/",
     "height": 34
    },
    "id": "eRNkAj6jy2cY",
    "outputId": "39c8de0e-ba3e-428d-f638-4a400cbe6ea7"
   },
   "outputs": [],
   "source": []
  },
  {
   "cell_type": "markdown",
   "metadata": {
    "colab": {
     "base_uri": "https://localhost:8080/",
     "height": 34
    },
    "id": "gikwEMzMy7eD",
    "outputId": "af8c0188-c23c-4e27-947e-f070ec9b807d"
   },
   "source": [
    "#### Which model performs best in terms of F1 Score?"
   ]
  },
  {
   "cell_type": "code",
   "execution_count": null,
   "metadata": {
    "colab": {
     "base_uri": "https://localhost:8080/",
     "height": 34
    },
    "id": "BtXTZ9Zo0-xn",
    "outputId": "b5673f9d-0d22-44c6-bcd0-8eeb3ee50bdc"
   },
   "outputs": [],
   "source": []
  },
  {
   "cell_type": "markdown",
   "metadata": {
    "id": "i1m6ZZ5UiKBX"
   },
   "source": [
    "#### What does the F1 Score mean in a few words?"
   ]
  },
  {
   "cell_type": "markdown",
   "metadata": {
    "id": "xEBF6anpz9ta"
   },
   "source": []
  },
  {
   "cell_type": "markdown",
   "metadata": {
    "id": "qx8eLEhC3fC9"
   },
   "source": [
    "#### Which model would you recommend for use? Why?"
   ]
  },
  {
   "cell_type": "markdown",
   "metadata": {
    "id": "DgDvq3lc3WCd"
   },
   "source": []
  },
  {
   "cell_type": "markdown",
   "metadata": {
    "id": "OB8r5k5j34l4"
   },
   "source": [
    "\n",
    "#### Download your notebook and put it in your submission folder. 🎉"
   ]
  }
 ],
 "metadata": {
  "accelerator": "TPU",
  "colab": {
   "collapsed_sections": [],
   "name": "7.01-lab-nn-classification-solution.ipynb",
   "provenance": []
  },
  "kernelspec": {
   "display_name": "Python 3",
   "language": "python",
   "name": "python3"
  },
  "language_info": {
   "codemirror_mode": {
    "name": "ipython",
    "version": 3
   },
   "file_extension": ".py",
   "mimetype": "text/x-python",
   "name": "python",
   "nbconvert_exporter": "python",
   "pygments_lexer": "ipython3",
   "version": "3.9.7"
  }
 },
 "nbformat": 4,
 "nbformat_minor": 4
}
