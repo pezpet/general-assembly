{
  "cells": [
    {
      "cell_type": "markdown",
      "metadata": {
        "id": "zwBCE43Cv3PH"
      },
      "source": [
        "## Lab 7.01 Neural Network Binary Classification\n",
        "_By Jeff Hale_"
      ]
    },
    {
      "cell_type": "markdown",
      "metadata": {
        "id": "UmyEaf4Awl2v"
      },
      "source": [
        "This lab uses a small [dataset](https://archive.ics.uci.edu/ml/datasets/heart+Disease) provided by the Cleveland Clinic Foundation for Heart Disease. The goal is to predict whether a patient has heart disease (the *target* column)."
      ]
    },
    {
      "cell_type": "markdown",
      "metadata": {
        "id": "uyVxPib57SeE"
      },
      "source": [
        "We suggest running this lab in [Google Colab](https://colab.research.google.com/). \n",
        "\n",
        "Go *File*->*Upload notebook* to upload this notebook to colab.\n",
        "\n",
        "If you are working in Colab and want to see if you can get a speed boost, set your runtime to *GPU* or *TPU* by going to *Runtime*->*Change runtime type* in the menu above. \n",
        "\n",
        "The processor type won't make a big difference with this small dataset and small networks, but it's good to know how to change the processor."
      ]
    },
    {
      "cell_type": "markdown",
      "metadata": {
        "id": "iiyC7HkqxlUD"
      },
      "source": [
        "### Get data and then use pandas to load it into a DataFrame\n",
        "\n",
        "#### Imports"
      ]
    },
    {
      "cell_type": "code",
      "execution_count": 2,
      "metadata": {
        "id": "5IoRbCA2n0_V"
      },
      "outputs": [],
      "source": [
        "import pandas as pd\n",
        "import numpy as np\n",
        "import matplotlib.pyplot as plt\n",
        "import tensorflow as tf\n",
        "from sklearn.model_selection import train_test_split\n"
      ]
    },
    {
      "cell_type": "markdown",
      "metadata": {
        "id": "-2kBGy_pxn47"
      },
      "source": [
        "Retrieve the csv file containing the heart dataset that ships with TensorFlow."
      ]
    },
    {
      "cell_type": "code",
      "execution_count": 3,
      "metadata": {
        "id": "VS4w2LePn9g3",
        "colab": {
          "base_uri": "https://localhost:8080/"
        },
        "outputId": "4343fe38-7370-4043-fdbf-7bc59c0dcffd"
      },
      "outputs": [
        {
          "output_type": "stream",
          "name": "stdout",
          "text": [
            "Downloading data from https://storage.googleapis.com/download.tensorflow.org/data/heart.csv\n",
            "16384/13273 [=====================================] - 0s 0us/step\n",
            "24576/13273 [=======================================================] - 0s 0us/step\n"
          ]
        }
      ],
      "source": [
        "csv_file = tf.keras.utils.get_file('heart.csv', 'https://storage.googleapis.com/download.tensorflow.org/data/heart.csv')"
      ]
    },
    {
      "cell_type": "markdown",
      "metadata": {
        "id": "6BXRPD2-xtQ1"
      },
      "source": [
        "#### Load the csv file using pandas."
      ]
    },
    {
      "cell_type": "code",
      "execution_count": 4,
      "metadata": {
        "colab": {
          "base_uri": "https://localhost:8080/",
          "height": 270
        },
        "id": "UEfJ8TcMpe-2",
        "outputId": "1e50fc6a-e28b-4d15-9c06-ef30f999375d"
      },
      "outputs": [
        {
          "output_type": "execute_result",
          "data": {
            "text/html": [
              "\n",
              "  <div id=\"df-6cb13196-3940-4cd8-8724-25971d73eba1\">\n",
              "    <div class=\"colab-df-container\">\n",
              "      <div>\n",
              "<style scoped>\n",
              "    .dataframe tbody tr th:only-of-type {\n",
              "        vertical-align: middle;\n",
              "    }\n",
              "\n",
              "    .dataframe tbody tr th {\n",
              "        vertical-align: top;\n",
              "    }\n",
              "\n",
              "    .dataframe thead th {\n",
              "        text-align: right;\n",
              "    }\n",
              "</style>\n",
              "<table border=\"1\" class=\"dataframe\">\n",
              "  <thead>\n",
              "    <tr style=\"text-align: right;\">\n",
              "      <th></th>\n",
              "      <th>age</th>\n",
              "      <th>sex</th>\n",
              "      <th>cp</th>\n",
              "      <th>trestbps</th>\n",
              "      <th>chol</th>\n",
              "      <th>fbs</th>\n",
              "      <th>restecg</th>\n",
              "      <th>thalach</th>\n",
              "      <th>exang</th>\n",
              "      <th>oldpeak</th>\n",
              "      <th>slope</th>\n",
              "      <th>ca</th>\n",
              "      <th>thal</th>\n",
              "      <th>target</th>\n",
              "    </tr>\n",
              "  </thead>\n",
              "  <tbody>\n",
              "    <tr>\n",
              "      <th>0</th>\n",
              "      <td>63</td>\n",
              "      <td>1</td>\n",
              "      <td>1</td>\n",
              "      <td>145</td>\n",
              "      <td>233</td>\n",
              "      <td>1</td>\n",
              "      <td>2</td>\n",
              "      <td>150</td>\n",
              "      <td>0</td>\n",
              "      <td>2.3</td>\n",
              "      <td>3</td>\n",
              "      <td>0</td>\n",
              "      <td>fixed</td>\n",
              "      <td>0</td>\n",
              "    </tr>\n",
              "    <tr>\n",
              "      <th>1</th>\n",
              "      <td>67</td>\n",
              "      <td>1</td>\n",
              "      <td>4</td>\n",
              "      <td>160</td>\n",
              "      <td>286</td>\n",
              "      <td>0</td>\n",
              "      <td>2</td>\n",
              "      <td>108</td>\n",
              "      <td>1</td>\n",
              "      <td>1.5</td>\n",
              "      <td>2</td>\n",
              "      <td>3</td>\n",
              "      <td>normal</td>\n",
              "      <td>1</td>\n",
              "    </tr>\n",
              "    <tr>\n",
              "      <th>2</th>\n",
              "      <td>67</td>\n",
              "      <td>1</td>\n",
              "      <td>4</td>\n",
              "      <td>120</td>\n",
              "      <td>229</td>\n",
              "      <td>0</td>\n",
              "      <td>2</td>\n",
              "      <td>129</td>\n",
              "      <td>1</td>\n",
              "      <td>2.6</td>\n",
              "      <td>2</td>\n",
              "      <td>2</td>\n",
              "      <td>reversible</td>\n",
              "      <td>0</td>\n",
              "    </tr>\n",
              "    <tr>\n",
              "      <th>3</th>\n",
              "      <td>37</td>\n",
              "      <td>1</td>\n",
              "      <td>3</td>\n",
              "      <td>130</td>\n",
              "      <td>250</td>\n",
              "      <td>0</td>\n",
              "      <td>0</td>\n",
              "      <td>187</td>\n",
              "      <td>0</td>\n",
              "      <td>3.5</td>\n",
              "      <td>3</td>\n",
              "      <td>0</td>\n",
              "      <td>normal</td>\n",
              "      <td>0</td>\n",
              "    </tr>\n",
              "    <tr>\n",
              "      <th>4</th>\n",
              "      <td>41</td>\n",
              "      <td>0</td>\n",
              "      <td>2</td>\n",
              "      <td>130</td>\n",
              "      <td>204</td>\n",
              "      <td>0</td>\n",
              "      <td>2</td>\n",
              "      <td>172</td>\n",
              "      <td>0</td>\n",
              "      <td>1.4</td>\n",
              "      <td>1</td>\n",
              "      <td>0</td>\n",
              "      <td>normal</td>\n",
              "      <td>0</td>\n",
              "    </tr>\n",
              "  </tbody>\n",
              "</table>\n",
              "</div>\n",
              "      <button class=\"colab-df-convert\" onclick=\"convertToInteractive('df-6cb13196-3940-4cd8-8724-25971d73eba1')\"\n",
              "              title=\"Convert this dataframe to an interactive table.\"\n",
              "              style=\"display:none;\">\n",
              "        \n",
              "  <svg xmlns=\"http://www.w3.org/2000/svg\" height=\"24px\"viewBox=\"0 0 24 24\"\n",
              "       width=\"24px\">\n",
              "    <path d=\"M0 0h24v24H0V0z\" fill=\"none\"/>\n",
              "    <path d=\"M18.56 5.44l.94 2.06.94-2.06 2.06-.94-2.06-.94-.94-2.06-.94 2.06-2.06.94zm-11 1L8.5 8.5l.94-2.06 2.06-.94-2.06-.94L8.5 2.5l-.94 2.06-2.06.94zm10 10l.94 2.06.94-2.06 2.06-.94-2.06-.94-.94-2.06-.94 2.06-2.06.94z\"/><path d=\"M17.41 7.96l-1.37-1.37c-.4-.4-.92-.59-1.43-.59-.52 0-1.04.2-1.43.59L10.3 9.45l-7.72 7.72c-.78.78-.78 2.05 0 2.83L4 21.41c.39.39.9.59 1.41.59.51 0 1.02-.2 1.41-.59l7.78-7.78 2.81-2.81c.8-.78.8-2.07 0-2.86zM5.41 20L4 18.59l7.72-7.72 1.47 1.35L5.41 20z\"/>\n",
              "  </svg>\n",
              "      </button>\n",
              "      \n",
              "  <style>\n",
              "    .colab-df-container {\n",
              "      display:flex;\n",
              "      flex-wrap:wrap;\n",
              "      gap: 12px;\n",
              "    }\n",
              "\n",
              "    .colab-df-convert {\n",
              "      background-color: #E8F0FE;\n",
              "      border: none;\n",
              "      border-radius: 50%;\n",
              "      cursor: pointer;\n",
              "      display: none;\n",
              "      fill: #1967D2;\n",
              "      height: 32px;\n",
              "      padding: 0 0 0 0;\n",
              "      width: 32px;\n",
              "    }\n",
              "\n",
              "    .colab-df-convert:hover {\n",
              "      background-color: #E2EBFA;\n",
              "      box-shadow: 0px 1px 2px rgba(60, 64, 67, 0.3), 0px 1px 3px 1px rgba(60, 64, 67, 0.15);\n",
              "      fill: #174EA6;\n",
              "    }\n",
              "\n",
              "    [theme=dark] .colab-df-convert {\n",
              "      background-color: #3B4455;\n",
              "      fill: #D2E3FC;\n",
              "    }\n",
              "\n",
              "    [theme=dark] .colab-df-convert:hover {\n",
              "      background-color: #434B5C;\n",
              "      box-shadow: 0px 1px 3px 1px rgba(0, 0, 0, 0.15);\n",
              "      filter: drop-shadow(0px 1px 2px rgba(0, 0, 0, 0.3));\n",
              "      fill: #FFFFFF;\n",
              "    }\n",
              "  </style>\n",
              "\n",
              "      <script>\n",
              "        const buttonEl =\n",
              "          document.querySelector('#df-6cb13196-3940-4cd8-8724-25971d73eba1 button.colab-df-convert');\n",
              "        buttonEl.style.display =\n",
              "          google.colab.kernel.accessAllowed ? 'block' : 'none';\n",
              "\n",
              "        async function convertToInteractive(key) {\n",
              "          const element = document.querySelector('#df-6cb13196-3940-4cd8-8724-25971d73eba1');\n",
              "          const dataTable =\n",
              "            await google.colab.kernel.invokeFunction('convertToInteractive',\n",
              "                                                     [key], {});\n",
              "          if (!dataTable) return;\n",
              "\n",
              "          const docLinkHtml = 'Like what you see? Visit the ' +\n",
              "            '<a target=\"_blank\" href=https://colab.research.google.com/notebooks/data_table.ipynb>data table notebook</a>'\n",
              "            + ' to learn more about interactive tables.';\n",
              "          element.innerHTML = '';\n",
              "          dataTable['output_type'] = 'display_data';\n",
              "          await google.colab.output.renderOutput(dataTable, element);\n",
              "          const docLink = document.createElement('div');\n",
              "          docLink.innerHTML = docLinkHtml;\n",
              "          element.appendChild(docLink);\n",
              "        }\n",
              "      </script>\n",
              "    </div>\n",
              "  </div>\n",
              "  "
            ],
            "text/plain": [
              "   age  sex  cp  trestbps  chol  ...  oldpeak  slope  ca        thal  target\n",
              "0   63    1   1       145   233  ...      2.3      3   0       fixed       0\n",
              "1   67    1   4       160   286  ...      1.5      2   3      normal       1\n",
              "2   67    1   4       120   229  ...      2.6      2   2  reversible       0\n",
              "3   37    1   3       130   250  ...      3.5      3   0      normal       0\n",
              "4   41    0   2       130   204  ...      1.4      1   0      normal       0\n",
              "\n",
              "[5 rows x 14 columns]"
            ]
          },
          "metadata": {},
          "execution_count": 4
        }
      ],
      "source": [
        "heart = pd.read_csv(csv_file)\n",
        "heart.head()"
      ]
    },
    {
      "cell_type": "markdown",
      "metadata": {
        "id": "aD4cbrdiH-lB"
      },
      "source": [
        "#### Inspect"
      ]
    },
    {
      "cell_type": "code",
      "execution_count": 5,
      "metadata": {
        "colab": {
          "base_uri": "https://localhost:8080/"
        },
        "id": "8FkK6QIRpjd4",
        "outputId": "d122db20-642d-499e-ede4-1fb0e78408d0"
      },
      "outputs": [
        {
          "output_type": "stream",
          "name": "stdout",
          "text": [
            "<class 'pandas.core.frame.DataFrame'>\n",
            "RangeIndex: 303 entries, 0 to 302\n",
            "Data columns (total 14 columns):\n",
            " #   Column    Non-Null Count  Dtype  \n",
            "---  ------    --------------  -----  \n",
            " 0   age       303 non-null    int64  \n",
            " 1   sex       303 non-null    int64  \n",
            " 2   cp        303 non-null    int64  \n",
            " 3   trestbps  303 non-null    int64  \n",
            " 4   chol      303 non-null    int64  \n",
            " 5   fbs       303 non-null    int64  \n",
            " 6   restecg   303 non-null    int64  \n",
            " 7   thalach   303 non-null    int64  \n",
            " 8   exang     303 non-null    int64  \n",
            " 9   oldpeak   303 non-null    float64\n",
            " 10  slope     303 non-null    int64  \n",
            " 11  ca        303 non-null    int64  \n",
            " 12  thal      303 non-null    object \n",
            " 13  target    303 non-null    int64  \n",
            "dtypes: float64(1), int64(12), object(1)\n",
            "memory usage: 33.3+ KB\n"
          ]
        }
      ],
      "source": [
        "heart.info()"
      ]
    },
    {
      "cell_type": "code",
      "execution_count": 6,
      "metadata": {
        "colab": {
          "base_uri": "https://localhost:8080/"
        },
        "id": "_MOAKz654CT5",
        "outputId": "13a06673-ad1c-4271-ca08-3c84b8ea6630"
      },
      "outputs": [
        {
          "output_type": "execute_result",
          "data": {
            "text/plain": [
              "age         0\n",
              "sex         0\n",
              "cp          0\n",
              "trestbps    0\n",
              "chol        0\n",
              "fbs         0\n",
              "restecg     0\n",
              "thalach     0\n",
              "exang       0\n",
              "oldpeak     0\n",
              "slope       0\n",
              "ca          0\n",
              "thal        0\n",
              "target      0\n",
              "dtype: int64"
            ]
          },
          "metadata": {},
          "execution_count": 6
        }
      ],
      "source": [
        "heart.isna().sum()"
      ]
    },
    {
      "cell_type": "code",
      "execution_count": 7,
      "metadata": {
        "colab": {
          "base_uri": "https://localhost:8080/"
        },
        "id": "eC6IafaWH-lD",
        "outputId": "1765fdd4-80a6-4a17-8c67-9bc442ac4d46"
      },
      "outputs": [
        {
          "output_type": "execute_result",
          "data": {
            "text/plain": [
              "0    220\n",
              "1     83\n",
              "Name: target, dtype: int64"
            ]
          },
          "metadata": {},
          "execution_count": 7
        }
      ],
      "source": [
        "heart['target'].value_counts()"
      ]
    },
    {
      "cell_type": "markdown",
      "metadata": {
        "id": "4iIvlwqwWoWc"
      },
      "source": [
        "#### Check the value counts of the column that's an object"
      ]
    },
    {
      "cell_type": "code",
      "execution_count": 8,
      "metadata": {
        "colab": {
          "base_uri": "https://localhost:8080/"
        },
        "id": "dP3Z4KoDstlZ",
        "outputId": "8ec731a5-370b-4697-cb1c-3f43aa392e26"
      },
      "outputs": [
        {
          "output_type": "execute_result",
          "data": {
            "text/plain": [
              "normal        168\n",
              "reversible    115\n",
              "fixed          18\n",
              "1               1\n",
              "2               1\n",
              "Name: thal, dtype: int64"
            ]
          },
          "metadata": {},
          "execution_count": 8
        }
      ],
      "source": [
        "heart['thal'].value_counts()"
      ]
    },
    {
      "cell_type": "code",
      "execution_count": 9,
      "metadata": {
        "colab": {
          "base_uri": "https://localhost:8080/",
          "height": 176
        },
        "id": "oyEsLngdH-lF",
        "outputId": "26a1b40e-af93-4563-ad3b-2d0bf6f0097f"
      },
      "outputs": [
        {
          "output_type": "execute_result",
          "data": {
            "text/html": [
              "\n",
              "  <div id=\"df-b233fbeb-e527-4928-9536-cf251c0ddb7c\">\n",
              "    <div class=\"colab-df-container\">\n",
              "      <div>\n",
              "<style scoped>\n",
              "    .dataframe tbody tr th:only-of-type {\n",
              "        vertical-align: middle;\n",
              "    }\n",
              "\n",
              "    .dataframe tbody tr th {\n",
              "        vertical-align: top;\n",
              "    }\n",
              "\n",
              "    .dataframe thead th {\n",
              "        text-align: right;\n",
              "    }\n",
              "</style>\n",
              "<table border=\"1\" class=\"dataframe\">\n",
              "  <thead>\n",
              "    <tr style=\"text-align: right;\">\n",
              "      <th></th>\n",
              "      <th>age</th>\n",
              "      <th>sex</th>\n",
              "      <th>cp</th>\n",
              "      <th>trestbps</th>\n",
              "      <th>chol</th>\n",
              "      <th>fbs</th>\n",
              "      <th>restecg</th>\n",
              "      <th>thalach</th>\n",
              "      <th>exang</th>\n",
              "      <th>oldpeak</th>\n",
              "      <th>slope</th>\n",
              "      <th>ca</th>\n",
              "      <th>thal</th>\n",
              "      <th>target</th>\n",
              "    </tr>\n",
              "  </thead>\n",
              "  <tbody>\n",
              "    <tr>\n",
              "      <th>247</th>\n",
              "      <td>59</td>\n",
              "      <td>1</td>\n",
              "      <td>0</td>\n",
              "      <td>164</td>\n",
              "      <td>176</td>\n",
              "      <td>1</td>\n",
              "      <td>0</td>\n",
              "      <td>90</td>\n",
              "      <td>0</td>\n",
              "      <td>1.0</td>\n",
              "      <td>1</td>\n",
              "      <td>2</td>\n",
              "      <td>1</td>\n",
              "      <td>0</td>\n",
              "    </tr>\n",
              "    <tr>\n",
              "      <th>252</th>\n",
              "      <td>57</td>\n",
              "      <td>0</td>\n",
              "      <td>1</td>\n",
              "      <td>130</td>\n",
              "      <td>236</td>\n",
              "      <td>0</td>\n",
              "      <td>0</td>\n",
              "      <td>174</td>\n",
              "      <td>0</td>\n",
              "      <td>0.0</td>\n",
              "      <td>1</td>\n",
              "      <td>1</td>\n",
              "      <td>2</td>\n",
              "      <td>0</td>\n",
              "    </tr>\n",
              "  </tbody>\n",
              "</table>\n",
              "</div>\n",
              "      <button class=\"colab-df-convert\" onclick=\"convertToInteractive('df-b233fbeb-e527-4928-9536-cf251c0ddb7c')\"\n",
              "              title=\"Convert this dataframe to an interactive table.\"\n",
              "              style=\"display:none;\">\n",
              "        \n",
              "  <svg xmlns=\"http://www.w3.org/2000/svg\" height=\"24px\"viewBox=\"0 0 24 24\"\n",
              "       width=\"24px\">\n",
              "    <path d=\"M0 0h24v24H0V0z\" fill=\"none\"/>\n",
              "    <path d=\"M18.56 5.44l.94 2.06.94-2.06 2.06-.94-2.06-.94-.94-2.06-.94 2.06-2.06.94zm-11 1L8.5 8.5l.94-2.06 2.06-.94-2.06-.94L8.5 2.5l-.94 2.06-2.06.94zm10 10l.94 2.06.94-2.06 2.06-.94-2.06-.94-.94-2.06-.94 2.06-2.06.94z\"/><path d=\"M17.41 7.96l-1.37-1.37c-.4-.4-.92-.59-1.43-.59-.52 0-1.04.2-1.43.59L10.3 9.45l-7.72 7.72c-.78.78-.78 2.05 0 2.83L4 21.41c.39.39.9.59 1.41.59.51 0 1.02-.2 1.41-.59l7.78-7.78 2.81-2.81c.8-.78.8-2.07 0-2.86zM5.41 20L4 18.59l7.72-7.72 1.47 1.35L5.41 20z\"/>\n",
              "  </svg>\n",
              "      </button>\n",
              "      \n",
              "  <style>\n",
              "    .colab-df-container {\n",
              "      display:flex;\n",
              "      flex-wrap:wrap;\n",
              "      gap: 12px;\n",
              "    }\n",
              "\n",
              "    .colab-df-convert {\n",
              "      background-color: #E8F0FE;\n",
              "      border: none;\n",
              "      border-radius: 50%;\n",
              "      cursor: pointer;\n",
              "      display: none;\n",
              "      fill: #1967D2;\n",
              "      height: 32px;\n",
              "      padding: 0 0 0 0;\n",
              "      width: 32px;\n",
              "    }\n",
              "\n",
              "    .colab-df-convert:hover {\n",
              "      background-color: #E2EBFA;\n",
              "      box-shadow: 0px 1px 2px rgba(60, 64, 67, 0.3), 0px 1px 3px 1px rgba(60, 64, 67, 0.15);\n",
              "      fill: #174EA6;\n",
              "    }\n",
              "\n",
              "    [theme=dark] .colab-df-convert {\n",
              "      background-color: #3B4455;\n",
              "      fill: #D2E3FC;\n",
              "    }\n",
              "\n",
              "    [theme=dark] .colab-df-convert:hover {\n",
              "      background-color: #434B5C;\n",
              "      box-shadow: 0px 1px 3px 1px rgba(0, 0, 0, 0.15);\n",
              "      filter: drop-shadow(0px 1px 2px rgba(0, 0, 0, 0.3));\n",
              "      fill: #FFFFFF;\n",
              "    }\n",
              "  </style>\n",
              "\n",
              "      <script>\n",
              "        const buttonEl =\n",
              "          document.querySelector('#df-b233fbeb-e527-4928-9536-cf251c0ddb7c button.colab-df-convert');\n",
              "        buttonEl.style.display =\n",
              "          google.colab.kernel.accessAllowed ? 'block' : 'none';\n",
              "\n",
              "        async function convertToInteractive(key) {\n",
              "          const element = document.querySelector('#df-b233fbeb-e527-4928-9536-cf251c0ddb7c');\n",
              "          const dataTable =\n",
              "            await google.colab.kernel.invokeFunction('convertToInteractive',\n",
              "                                                     [key], {});\n",
              "          if (!dataTable) return;\n",
              "\n",
              "          const docLinkHtml = 'Like what you see? Visit the ' +\n",
              "            '<a target=\"_blank\" href=https://colab.research.google.com/notebooks/data_table.ipynb>data table notebook</a>'\n",
              "            + ' to learn more about interactive tables.';\n",
              "          element.innerHTML = '';\n",
              "          dataTable['output_type'] = 'display_data';\n",
              "          await google.colab.output.renderOutput(dataTable, element);\n",
              "          const docLink = document.createElement('div');\n",
              "          docLink.innerHTML = docLinkHtml;\n",
              "          element.appendChild(docLink);\n",
              "        }\n",
              "      </script>\n",
              "    </div>\n",
              "  </div>\n",
              "  "
            ],
            "text/plain": [
              "     age  sex  cp  trestbps  chol  fbs  ...  exang  oldpeak  slope  ca  thal  target\n",
              "247   59    1   0       164   176    1  ...      0      1.0      1   2     1       0\n",
              "252   57    0   1       130   236    0  ...      0      0.0      1   1     2       0\n",
              "\n",
              "[2 rows x 14 columns]"
            ]
          },
          "metadata": {},
          "execution_count": 9
        }
      ],
      "source": [
        "heart[(heart['thal'] == '1') | (heart['thal'] == '2')]"
      ]
    },
    {
      "cell_type": "code",
      "execution_count": 10,
      "metadata": {
        "id": "7ixNf3XjH-lG"
      },
      "outputs": [],
      "source": [
        "heart = heart[(heart['thal'] != '1') & (heart['thal'] != '2')]"
      ]
    },
    {
      "cell_type": "code",
      "execution_count": 11,
      "metadata": {
        "colab": {
          "base_uri": "https://localhost:8080/"
        },
        "id": "gTZDOTxvH-lG",
        "outputId": "5ecccf45-2e7f-4718-ba63-8b60032f6390"
      },
      "outputs": [
        {
          "output_type": "execute_result",
          "data": {
            "text/plain": [
              "normal        168\n",
              "reversible    115\n",
              "fixed          18\n",
              "Name: thal, dtype: int64"
            ]
          },
          "metadata": {},
          "execution_count": 11
        }
      ],
      "source": [
        "heart['thal'].value_counts()"
      ]
    },
    {
      "cell_type": "markdown",
      "metadata": {
        "id": "WWRhH6r4xxQu"
      },
      "source": [
        "You could load data into a format for TensorFlow using `tf.data.Dataset`, but these are unwieldly - it's a serious pain to create a validation dataset from a TF dataset. You used to have to make your data into NumPy arrays for TensorFlow. Now you can just keep them as pandas DataFrames!"
      ]
    },
    {
      "cell_type": "markdown",
      "metadata": {
        "id": "OzPmWMZ3H-lH"
      },
      "source": [
        "#### Set up X and y"
      ]
    },
    {
      "cell_type": "code",
      "execution_count": 12,
      "metadata": {
        "id": "2wwhILm1ycSp"
      },
      "outputs": [],
      "source": [
        "X = heart.drop(columns='target')\n",
        "y = heart['target']"
      ]
    },
    {
      "cell_type": "code",
      "execution_count": 13,
      "metadata": {
        "colab": {
          "base_uri": "https://localhost:8080/",
          "height": 270
        },
        "id": "p68OVEx7fLOt",
        "outputId": "57781bb1-6003-4840-b1f4-6905f7d936e4"
      },
      "outputs": [
        {
          "output_type": "execute_result",
          "data": {
            "text/html": [
              "\n",
              "  <div id=\"df-e59ac995-191f-4287-bcd4-bb86aa3e5360\">\n",
              "    <div class=\"colab-df-container\">\n",
              "      <div>\n",
              "<style scoped>\n",
              "    .dataframe tbody tr th:only-of-type {\n",
              "        vertical-align: middle;\n",
              "    }\n",
              "\n",
              "    .dataframe tbody tr th {\n",
              "        vertical-align: top;\n",
              "    }\n",
              "\n",
              "    .dataframe thead th {\n",
              "        text-align: right;\n",
              "    }\n",
              "</style>\n",
              "<table border=\"1\" class=\"dataframe\">\n",
              "  <thead>\n",
              "    <tr style=\"text-align: right;\">\n",
              "      <th></th>\n",
              "      <th>age</th>\n",
              "      <th>sex</th>\n",
              "      <th>cp</th>\n",
              "      <th>trestbps</th>\n",
              "      <th>chol</th>\n",
              "      <th>fbs</th>\n",
              "      <th>restecg</th>\n",
              "      <th>thalach</th>\n",
              "      <th>exang</th>\n",
              "      <th>oldpeak</th>\n",
              "      <th>slope</th>\n",
              "      <th>ca</th>\n",
              "      <th>thal</th>\n",
              "    </tr>\n",
              "  </thead>\n",
              "  <tbody>\n",
              "    <tr>\n",
              "      <th>0</th>\n",
              "      <td>63</td>\n",
              "      <td>1</td>\n",
              "      <td>1</td>\n",
              "      <td>145</td>\n",
              "      <td>233</td>\n",
              "      <td>1</td>\n",
              "      <td>2</td>\n",
              "      <td>150</td>\n",
              "      <td>0</td>\n",
              "      <td>2.3</td>\n",
              "      <td>3</td>\n",
              "      <td>0</td>\n",
              "      <td>fixed</td>\n",
              "    </tr>\n",
              "    <tr>\n",
              "      <th>1</th>\n",
              "      <td>67</td>\n",
              "      <td>1</td>\n",
              "      <td>4</td>\n",
              "      <td>160</td>\n",
              "      <td>286</td>\n",
              "      <td>0</td>\n",
              "      <td>2</td>\n",
              "      <td>108</td>\n",
              "      <td>1</td>\n",
              "      <td>1.5</td>\n",
              "      <td>2</td>\n",
              "      <td>3</td>\n",
              "      <td>normal</td>\n",
              "    </tr>\n",
              "    <tr>\n",
              "      <th>2</th>\n",
              "      <td>67</td>\n",
              "      <td>1</td>\n",
              "      <td>4</td>\n",
              "      <td>120</td>\n",
              "      <td>229</td>\n",
              "      <td>0</td>\n",
              "      <td>2</td>\n",
              "      <td>129</td>\n",
              "      <td>1</td>\n",
              "      <td>2.6</td>\n",
              "      <td>2</td>\n",
              "      <td>2</td>\n",
              "      <td>reversible</td>\n",
              "    </tr>\n",
              "    <tr>\n",
              "      <th>3</th>\n",
              "      <td>37</td>\n",
              "      <td>1</td>\n",
              "      <td>3</td>\n",
              "      <td>130</td>\n",
              "      <td>250</td>\n",
              "      <td>0</td>\n",
              "      <td>0</td>\n",
              "      <td>187</td>\n",
              "      <td>0</td>\n",
              "      <td>3.5</td>\n",
              "      <td>3</td>\n",
              "      <td>0</td>\n",
              "      <td>normal</td>\n",
              "    </tr>\n",
              "    <tr>\n",
              "      <th>4</th>\n",
              "      <td>41</td>\n",
              "      <td>0</td>\n",
              "      <td>2</td>\n",
              "      <td>130</td>\n",
              "      <td>204</td>\n",
              "      <td>0</td>\n",
              "      <td>2</td>\n",
              "      <td>172</td>\n",
              "      <td>0</td>\n",
              "      <td>1.4</td>\n",
              "      <td>1</td>\n",
              "      <td>0</td>\n",
              "      <td>normal</td>\n",
              "    </tr>\n",
              "  </tbody>\n",
              "</table>\n",
              "</div>\n",
              "      <button class=\"colab-df-convert\" onclick=\"convertToInteractive('df-e59ac995-191f-4287-bcd4-bb86aa3e5360')\"\n",
              "              title=\"Convert this dataframe to an interactive table.\"\n",
              "              style=\"display:none;\">\n",
              "        \n",
              "  <svg xmlns=\"http://www.w3.org/2000/svg\" height=\"24px\"viewBox=\"0 0 24 24\"\n",
              "       width=\"24px\">\n",
              "    <path d=\"M0 0h24v24H0V0z\" fill=\"none\"/>\n",
              "    <path d=\"M18.56 5.44l.94 2.06.94-2.06 2.06-.94-2.06-.94-.94-2.06-.94 2.06-2.06.94zm-11 1L8.5 8.5l.94-2.06 2.06-.94-2.06-.94L8.5 2.5l-.94 2.06-2.06.94zm10 10l.94 2.06.94-2.06 2.06-.94-2.06-.94-.94-2.06-.94 2.06-2.06.94z\"/><path d=\"M17.41 7.96l-1.37-1.37c-.4-.4-.92-.59-1.43-.59-.52 0-1.04.2-1.43.59L10.3 9.45l-7.72 7.72c-.78.78-.78 2.05 0 2.83L4 21.41c.39.39.9.59 1.41.59.51 0 1.02-.2 1.41-.59l7.78-7.78 2.81-2.81c.8-.78.8-2.07 0-2.86zM5.41 20L4 18.59l7.72-7.72 1.47 1.35L5.41 20z\"/>\n",
              "  </svg>\n",
              "      </button>\n",
              "      \n",
              "  <style>\n",
              "    .colab-df-container {\n",
              "      display:flex;\n",
              "      flex-wrap:wrap;\n",
              "      gap: 12px;\n",
              "    }\n",
              "\n",
              "    .colab-df-convert {\n",
              "      background-color: #E8F0FE;\n",
              "      border: none;\n",
              "      border-radius: 50%;\n",
              "      cursor: pointer;\n",
              "      display: none;\n",
              "      fill: #1967D2;\n",
              "      height: 32px;\n",
              "      padding: 0 0 0 0;\n",
              "      width: 32px;\n",
              "    }\n",
              "\n",
              "    .colab-df-convert:hover {\n",
              "      background-color: #E2EBFA;\n",
              "      box-shadow: 0px 1px 2px rgba(60, 64, 67, 0.3), 0px 1px 3px 1px rgba(60, 64, 67, 0.15);\n",
              "      fill: #174EA6;\n",
              "    }\n",
              "\n",
              "    [theme=dark] .colab-df-convert {\n",
              "      background-color: #3B4455;\n",
              "      fill: #D2E3FC;\n",
              "    }\n",
              "\n",
              "    [theme=dark] .colab-df-convert:hover {\n",
              "      background-color: #434B5C;\n",
              "      box-shadow: 0px 1px 3px 1px rgba(0, 0, 0, 0.15);\n",
              "      filter: drop-shadow(0px 1px 2px rgba(0, 0, 0, 0.3));\n",
              "      fill: #FFFFFF;\n",
              "    }\n",
              "  </style>\n",
              "\n",
              "      <script>\n",
              "        const buttonEl =\n",
              "          document.querySelector('#df-e59ac995-191f-4287-bcd4-bb86aa3e5360 button.colab-df-convert');\n",
              "        buttonEl.style.display =\n",
              "          google.colab.kernel.accessAllowed ? 'block' : 'none';\n",
              "\n",
              "        async function convertToInteractive(key) {\n",
              "          const element = document.querySelector('#df-e59ac995-191f-4287-bcd4-bb86aa3e5360');\n",
              "          const dataTable =\n",
              "            await google.colab.kernel.invokeFunction('convertToInteractive',\n",
              "                                                     [key], {});\n",
              "          if (!dataTable) return;\n",
              "\n",
              "          const docLinkHtml = 'Like what you see? Visit the ' +\n",
              "            '<a target=\"_blank\" href=https://colab.research.google.com/notebooks/data_table.ipynb>data table notebook</a>'\n",
              "            + ' to learn more about interactive tables.';\n",
              "          element.innerHTML = '';\n",
              "          dataTable['output_type'] = 'display_data';\n",
              "          await google.colab.output.renderOutput(dataTable, element);\n",
              "          const docLink = document.createElement('div');\n",
              "          docLink.innerHTML = docLinkHtml;\n",
              "          element.appendChild(docLink);\n",
              "        }\n",
              "      </script>\n",
              "    </div>\n",
              "  </div>\n",
              "  "
            ],
            "text/plain": [
              "   age  sex  cp  trestbps  chol  ...  exang  oldpeak  slope  ca        thal\n",
              "0   63    1   1       145   233  ...      0      2.3      3   0       fixed\n",
              "1   67    1   4       160   286  ...      1      1.5      2   3      normal\n",
              "2   67    1   4       120   229  ...      1      2.6      2   2  reversible\n",
              "3   37    1   3       130   250  ...      0      3.5      3   0      normal\n",
              "4   41    0   2       130   204  ...      0      1.4      1   0      normal\n",
              "\n",
              "[5 rows x 13 columns]"
            ]
          },
          "metadata": {},
          "execution_count": 13
        }
      ],
      "source": [
        "X.head()"
      ]
    },
    {
      "cell_type": "code",
      "execution_count": 14,
      "metadata": {
        "colab": {
          "base_uri": "https://localhost:8080/"
        },
        "id": "5tJgmXGwH-lI",
        "outputId": "fad20639-b1d8-4f0c-ca67-2989cb601590"
      },
      "outputs": [
        {
          "output_type": "execute_result",
          "data": {
            "text/plain": [
              "0    0\n",
              "1    1\n",
              "2    0\n",
              "3    0\n",
              "4    0\n",
              "Name: target, dtype: int64"
            ]
          },
          "metadata": {},
          "execution_count": 14
        }
      ],
      "source": [
        "y.head()"
      ]
    },
    {
      "cell_type": "markdown",
      "metadata": {
        "id": "WqiU0StcH-lJ"
      },
      "source": [
        "#### Train-test split"
      ]
    },
    {
      "cell_type": "code",
      "execution_count": 15,
      "metadata": {
        "id": "LcP1WjczZUdo"
      },
      "outputs": [],
      "source": [
        "X_train, X_test, y_train, y_test = train_test_split(X, y, stratify=y, random_state=13)"
      ]
    },
    {
      "cell_type": "markdown",
      "metadata": {
        "id": "ww4lRDCS3qPh"
      },
      "source": [
        "Convert `thal` column to numeric"
      ]
    },
    {
      "cell_type": "markdown",
      "metadata": {
        "id": "xa7KCi_GXHmW"
      },
      "source": [
        "#### Use scikit-learn to one-hot encode  "
      ]
    },
    {
      "cell_type": "code",
      "execution_count": 16,
      "metadata": {
        "colab": {
          "base_uri": "https://localhost:8080/"
        },
        "id": "PEwgxjiyH-lK",
        "outputId": "207f4403-bc8c-416f-9450-bf4715dbb2e4"
      },
      "outputs": [
        {
          "output_type": "execute_result",
          "data": {
            "text/plain": [
              "age           int64\n",
              "sex           int64\n",
              "cp            int64\n",
              "trestbps      int64\n",
              "chol          int64\n",
              "fbs           int64\n",
              "restecg       int64\n",
              "thalach       int64\n",
              "exang         int64\n",
              "oldpeak     float64\n",
              "slope         int64\n",
              "ca            int64\n",
              "thal         object\n",
              "dtype: object"
            ]
          },
          "metadata": {},
          "execution_count": 16
        }
      ],
      "source": [
        "X_train.dtypes"
      ]
    },
    {
      "cell_type": "code",
      "execution_count": 17,
      "metadata": {
        "id": "Hr6lqMnFXMxH"
      },
      "outputs": [],
      "source": [
        "from sklearn.preprocessing import OneHotEncoder, StandardScaler\n",
        "from sklearn.compose import make_column_selector, make_column_transformer\n",
        "\n",
        "ct = make_column_transformer(\n",
        "    (OneHotEncoder(handle_unknown='ignore'), make_column_selector(dtype_include=object)),\n",
        "    remainder='passthrough',\n",
        "    verbose_feature_names_out=False,\n",
        ")"
      ]
    },
    {
      "cell_type": "code",
      "execution_count": 18,
      "metadata": {
        "id": "8cnNgBOZXk-6"
      },
      "outputs": [],
      "source": [
        "X_train_t = ct.fit_transform(X_train)\n",
        "X_test_t = ct.transform(X_test)"
      ]
    },
    {
      "cell_type": "code",
      "execution_count": 19,
      "metadata": {
        "id": "isp2sS5aH-lM"
      },
      "outputs": [],
      "source": [
        "ss = StandardScaler()\n",
        "X_train_t_s = ss.fit_transform(X_train_t)\n",
        "X_test_t_s = ss.fit_transform(X_test_t)"
      ]
    },
    {
      "cell_type": "code",
      "execution_count": 20,
      "metadata": {
        "colab": {
          "base_uri": "https://localhost:8080/",
          "height": 176
        },
        "id": "FENls4x9H-lM",
        "outputId": "eb3f843c-f05a-43cc-f2d3-d8bf6fd39bf7"
      },
      "outputs": [
        {
          "output_type": "execute_result",
          "data": {
            "text/html": [
              "\n",
              "  <div id=\"df-4cd7ea57-27ab-479d-b910-753503ae4332\">\n",
              "    <div class=\"colab-df-container\">\n",
              "      <div>\n",
              "<style scoped>\n",
              "    .dataframe tbody tr th:only-of-type {\n",
              "        vertical-align: middle;\n",
              "    }\n",
              "\n",
              "    .dataframe tbody tr th {\n",
              "        vertical-align: top;\n",
              "    }\n",
              "\n",
              "    .dataframe thead th {\n",
              "        text-align: right;\n",
              "    }\n",
              "</style>\n",
              "<table border=\"1\" class=\"dataframe\">\n",
              "  <thead>\n",
              "    <tr style=\"text-align: right;\">\n",
              "      <th></th>\n",
              "      <th>thal_fixed</th>\n",
              "      <th>thal_normal</th>\n",
              "      <th>thal_reversible</th>\n",
              "      <th>age</th>\n",
              "      <th>sex</th>\n",
              "      <th>cp</th>\n",
              "      <th>trestbps</th>\n",
              "      <th>chol</th>\n",
              "      <th>fbs</th>\n",
              "      <th>restecg</th>\n",
              "      <th>thalach</th>\n",
              "      <th>exang</th>\n",
              "      <th>oldpeak</th>\n",
              "      <th>slope</th>\n",
              "      <th>ca</th>\n",
              "    </tr>\n",
              "  </thead>\n",
              "  <tbody>\n",
              "    <tr>\n",
              "      <th>0</th>\n",
              "      <td>-0.276686</td>\n",
              "      <td>0.935414</td>\n",
              "      <td>-0.808957</td>\n",
              "      <td>0.432765</td>\n",
              "      <td>-1.519481</td>\n",
              "      <td>-2.028484</td>\n",
              "      <td>1.106670</td>\n",
              "      <td>0.692117</td>\n",
              "      <td>2.370158</td>\n",
              "      <td>1.057315</td>\n",
              "      <td>0.565762</td>\n",
              "      <td>-0.700047</td>\n",
              "      <td>-0.057886</td>\n",
              "      <td>-0.955320</td>\n",
              "      <td>-0.715102</td>\n",
              "    </tr>\n",
              "    <tr>\n",
              "      <th>1</th>\n",
              "      <td>3.614208</td>\n",
              "      <td>-1.069045</td>\n",
              "      <td>-0.808957</td>\n",
              "      <td>-1.465546</td>\n",
              "      <td>0.658119</td>\n",
              "      <td>-1.071652</td>\n",
              "      <td>0.238467</td>\n",
              "      <td>-0.803813</td>\n",
              "      <td>-0.421913</td>\n",
              "      <td>-0.967331</td>\n",
              "      <td>-0.730976</td>\n",
              "      <td>-0.700047</td>\n",
              "      <td>-0.962357</td>\n",
              "      <td>0.710936</td>\n",
              "      <td>-0.715102</td>\n",
              "    </tr>\n",
              "  </tbody>\n",
              "</table>\n",
              "</div>\n",
              "      <button class=\"colab-df-convert\" onclick=\"convertToInteractive('df-4cd7ea57-27ab-479d-b910-753503ae4332')\"\n",
              "              title=\"Convert this dataframe to an interactive table.\"\n",
              "              style=\"display:none;\">\n",
              "        \n",
              "  <svg xmlns=\"http://www.w3.org/2000/svg\" height=\"24px\"viewBox=\"0 0 24 24\"\n",
              "       width=\"24px\">\n",
              "    <path d=\"M0 0h24v24H0V0z\" fill=\"none\"/>\n",
              "    <path d=\"M18.56 5.44l.94 2.06.94-2.06 2.06-.94-2.06-.94-.94-2.06-.94 2.06-2.06.94zm-11 1L8.5 8.5l.94-2.06 2.06-.94-2.06-.94L8.5 2.5l-.94 2.06-2.06.94zm10 10l.94 2.06.94-2.06 2.06-.94-2.06-.94-.94-2.06-.94 2.06-2.06.94z\"/><path d=\"M17.41 7.96l-1.37-1.37c-.4-.4-.92-.59-1.43-.59-.52 0-1.04.2-1.43.59L10.3 9.45l-7.72 7.72c-.78.78-.78 2.05 0 2.83L4 21.41c.39.39.9.59 1.41.59.51 0 1.02-.2 1.41-.59l7.78-7.78 2.81-2.81c.8-.78.8-2.07 0-2.86zM5.41 20L4 18.59l7.72-7.72 1.47 1.35L5.41 20z\"/>\n",
              "  </svg>\n",
              "      </button>\n",
              "      \n",
              "  <style>\n",
              "    .colab-df-container {\n",
              "      display:flex;\n",
              "      flex-wrap:wrap;\n",
              "      gap: 12px;\n",
              "    }\n",
              "\n",
              "    .colab-df-convert {\n",
              "      background-color: #E8F0FE;\n",
              "      border: none;\n",
              "      border-radius: 50%;\n",
              "      cursor: pointer;\n",
              "      display: none;\n",
              "      fill: #1967D2;\n",
              "      height: 32px;\n",
              "      padding: 0 0 0 0;\n",
              "      width: 32px;\n",
              "    }\n",
              "\n",
              "    .colab-df-convert:hover {\n",
              "      background-color: #E2EBFA;\n",
              "      box-shadow: 0px 1px 2px rgba(60, 64, 67, 0.3), 0px 1px 3px 1px rgba(60, 64, 67, 0.15);\n",
              "      fill: #174EA6;\n",
              "    }\n",
              "\n",
              "    [theme=dark] .colab-df-convert {\n",
              "      background-color: #3B4455;\n",
              "      fill: #D2E3FC;\n",
              "    }\n",
              "\n",
              "    [theme=dark] .colab-df-convert:hover {\n",
              "      background-color: #434B5C;\n",
              "      box-shadow: 0px 1px 3px 1px rgba(0, 0, 0, 0.15);\n",
              "      filter: drop-shadow(0px 1px 2px rgba(0, 0, 0, 0.3));\n",
              "      fill: #FFFFFF;\n",
              "    }\n",
              "  </style>\n",
              "\n",
              "      <script>\n",
              "        const buttonEl =\n",
              "          document.querySelector('#df-4cd7ea57-27ab-479d-b910-753503ae4332 button.colab-df-convert');\n",
              "        buttonEl.style.display =\n",
              "          google.colab.kernel.accessAllowed ? 'block' : 'none';\n",
              "\n",
              "        async function convertToInteractive(key) {\n",
              "          const element = document.querySelector('#df-4cd7ea57-27ab-479d-b910-753503ae4332');\n",
              "          const dataTable =\n",
              "            await google.colab.kernel.invokeFunction('convertToInteractive',\n",
              "                                                     [key], {});\n",
              "          if (!dataTable) return;\n",
              "\n",
              "          const docLinkHtml = 'Like what you see? Visit the ' +\n",
              "            '<a target=\"_blank\" href=https://colab.research.google.com/notebooks/data_table.ipynb>data table notebook</a>'\n",
              "            + ' to learn more about interactive tables.';\n",
              "          element.innerHTML = '';\n",
              "          dataTable['output_type'] = 'display_data';\n",
              "          await google.colab.output.renderOutput(dataTable, element);\n",
              "          const docLink = document.createElement('div');\n",
              "          docLink.innerHTML = docLinkHtml;\n",
              "          element.appendChild(docLink);\n",
              "        }\n",
              "      </script>\n",
              "    </div>\n",
              "  </div>\n",
              "  "
            ],
            "text/plain": [
              "   thal_fixed  thal_normal  thal_reversible  ...   oldpeak     slope        ca\n",
              "0   -0.276686     0.935414        -0.808957  ... -0.057886 -0.955320 -0.715102\n",
              "1    3.614208    -1.069045        -0.808957  ... -0.962357  0.710936 -0.715102\n",
              "\n",
              "[2 rows x 15 columns]"
            ]
          },
          "metadata": {},
          "execution_count": 20
        }
      ],
      "source": [
        "X_train_df = pd.DataFrame(X_train_t_s, columns=ct.get_feature_names_out())\n",
        "X_train_df.head(2)"
      ]
    },
    {
      "cell_type": "code",
      "execution_count": 21,
      "metadata": {
        "colab": {
          "base_uri": "https://localhost:8080/",
          "height": 176
        },
        "id": "BqeSHYz9H-lM",
        "outputId": "33947338-655c-4310-f1be-5eccc46bd73b"
      },
      "outputs": [
        {
          "output_type": "execute_result",
          "data": {
            "text/html": [
              "\n",
              "  <div id=\"df-17e95a99-f80d-4000-b925-f4264def65d9\">\n",
              "    <div class=\"colab-df-container\">\n",
              "      <div>\n",
              "<style scoped>\n",
              "    .dataframe tbody tr th:only-of-type {\n",
              "        vertical-align: middle;\n",
              "    }\n",
              "\n",
              "    .dataframe tbody tr th {\n",
              "        vertical-align: top;\n",
              "    }\n",
              "\n",
              "    .dataframe thead th {\n",
              "        text-align: right;\n",
              "    }\n",
              "</style>\n",
              "<table border=\"1\" class=\"dataframe\">\n",
              "  <thead>\n",
              "    <tr style=\"text-align: right;\">\n",
              "      <th></th>\n",
              "      <th>thal_fixed</th>\n",
              "      <th>thal_normal</th>\n",
              "      <th>thal_reversible</th>\n",
              "      <th>age</th>\n",
              "      <th>sex</th>\n",
              "      <th>cp</th>\n",
              "      <th>trestbps</th>\n",
              "      <th>chol</th>\n",
              "      <th>fbs</th>\n",
              "      <th>restecg</th>\n",
              "      <th>thalach</th>\n",
              "      <th>exang</th>\n",
              "      <th>oldpeak</th>\n",
              "      <th>slope</th>\n",
              "      <th>ca</th>\n",
              "    </tr>\n",
              "  </thead>\n",
              "  <tbody>\n",
              "    <tr>\n",
              "      <th>0</th>\n",
              "      <td>-0.164399</td>\n",
              "      <td>-1.309307</td>\n",
              "      <td>1.38675</td>\n",
              "      <td>0.340978</td>\n",
              "      <td>0.785507</td>\n",
              "      <td>0.967352</td>\n",
              "      <td>0.318706</td>\n",
              "      <td>-1.515187</td>\n",
              "      <td>-0.389249</td>\n",
              "      <td>-1.149594</td>\n",
              "      <td>0.518409</td>\n",
              "      <td>1.428286</td>\n",
              "      <td>-0.794535</td>\n",
              "      <td>-0.996815</td>\n",
              "      <td>0.234181</td>\n",
              "    </tr>\n",
              "    <tr>\n",
              "      <th>1</th>\n",
              "      <td>-0.164399</td>\n",
              "      <td>0.763763</td>\n",
              "      <td>-0.72111</td>\n",
              "      <td>0.780203</td>\n",
              "      <td>-1.273063</td>\n",
              "      <td>-0.163706</td>\n",
              "      <td>0.050173</td>\n",
              "      <td>0.057099</td>\n",
              "      <td>-0.389249</td>\n",
              "      <td>0.906150</td>\n",
              "      <td>0.968684</td>\n",
              "      <td>-0.700140</td>\n",
              "      <td>-0.794535</td>\n",
              "      <td>-0.996815</td>\n",
              "      <td>-0.754584</td>\n",
              "    </tr>\n",
              "  </tbody>\n",
              "</table>\n",
              "</div>\n",
              "      <button class=\"colab-df-convert\" onclick=\"convertToInteractive('df-17e95a99-f80d-4000-b925-f4264def65d9')\"\n",
              "              title=\"Convert this dataframe to an interactive table.\"\n",
              "              style=\"display:none;\">\n",
              "        \n",
              "  <svg xmlns=\"http://www.w3.org/2000/svg\" height=\"24px\"viewBox=\"0 0 24 24\"\n",
              "       width=\"24px\">\n",
              "    <path d=\"M0 0h24v24H0V0z\" fill=\"none\"/>\n",
              "    <path d=\"M18.56 5.44l.94 2.06.94-2.06 2.06-.94-2.06-.94-.94-2.06-.94 2.06-2.06.94zm-11 1L8.5 8.5l.94-2.06 2.06-.94-2.06-.94L8.5 2.5l-.94 2.06-2.06.94zm10 10l.94 2.06.94-2.06 2.06-.94-2.06-.94-.94-2.06-.94 2.06-2.06.94z\"/><path d=\"M17.41 7.96l-1.37-1.37c-.4-.4-.92-.59-1.43-.59-.52 0-1.04.2-1.43.59L10.3 9.45l-7.72 7.72c-.78.78-.78 2.05 0 2.83L4 21.41c.39.39.9.59 1.41.59.51 0 1.02-.2 1.41-.59l7.78-7.78 2.81-2.81c.8-.78.8-2.07 0-2.86zM5.41 20L4 18.59l7.72-7.72 1.47 1.35L5.41 20z\"/>\n",
              "  </svg>\n",
              "      </button>\n",
              "      \n",
              "  <style>\n",
              "    .colab-df-container {\n",
              "      display:flex;\n",
              "      flex-wrap:wrap;\n",
              "      gap: 12px;\n",
              "    }\n",
              "\n",
              "    .colab-df-convert {\n",
              "      background-color: #E8F0FE;\n",
              "      border: none;\n",
              "      border-radius: 50%;\n",
              "      cursor: pointer;\n",
              "      display: none;\n",
              "      fill: #1967D2;\n",
              "      height: 32px;\n",
              "      padding: 0 0 0 0;\n",
              "      width: 32px;\n",
              "    }\n",
              "\n",
              "    .colab-df-convert:hover {\n",
              "      background-color: #E2EBFA;\n",
              "      box-shadow: 0px 1px 2px rgba(60, 64, 67, 0.3), 0px 1px 3px 1px rgba(60, 64, 67, 0.15);\n",
              "      fill: #174EA6;\n",
              "    }\n",
              "\n",
              "    [theme=dark] .colab-df-convert {\n",
              "      background-color: #3B4455;\n",
              "      fill: #D2E3FC;\n",
              "    }\n",
              "\n",
              "    [theme=dark] .colab-df-convert:hover {\n",
              "      background-color: #434B5C;\n",
              "      box-shadow: 0px 1px 3px 1px rgba(0, 0, 0, 0.15);\n",
              "      filter: drop-shadow(0px 1px 2px rgba(0, 0, 0, 0.3));\n",
              "      fill: #FFFFFF;\n",
              "    }\n",
              "  </style>\n",
              "\n",
              "      <script>\n",
              "        const buttonEl =\n",
              "          document.querySelector('#df-17e95a99-f80d-4000-b925-f4264def65d9 button.colab-df-convert');\n",
              "        buttonEl.style.display =\n",
              "          google.colab.kernel.accessAllowed ? 'block' : 'none';\n",
              "\n",
              "        async function convertToInteractive(key) {\n",
              "          const element = document.querySelector('#df-17e95a99-f80d-4000-b925-f4264def65d9');\n",
              "          const dataTable =\n",
              "            await google.colab.kernel.invokeFunction('convertToInteractive',\n",
              "                                                     [key], {});\n",
              "          if (!dataTable) return;\n",
              "\n",
              "          const docLinkHtml = 'Like what you see? Visit the ' +\n",
              "            '<a target=\"_blank\" href=https://colab.research.google.com/notebooks/data_table.ipynb>data table notebook</a>'\n",
              "            + ' to learn more about interactive tables.';\n",
              "          element.innerHTML = '';\n",
              "          dataTable['output_type'] = 'display_data';\n",
              "          await google.colab.output.renderOutput(dataTable, element);\n",
              "          const docLink = document.createElement('div');\n",
              "          docLink.innerHTML = docLinkHtml;\n",
              "          element.appendChild(docLink);\n",
              "        }\n",
              "      </script>\n",
              "    </div>\n",
              "  </div>\n",
              "  "
            ],
            "text/plain": [
              "   thal_fixed  thal_normal  thal_reversible  ...   oldpeak     slope        ca\n",
              "0   -0.164399    -1.309307          1.38675  ... -0.794535 -0.996815  0.234181\n",
              "1   -0.164399     0.763763         -0.72111  ... -0.794535 -0.996815 -0.754584\n",
              "\n",
              "[2 rows x 15 columns]"
            ]
          },
          "metadata": {},
          "execution_count": 21
        }
      ],
      "source": [
        "X_test_df = pd.DataFrame(X_test_t_s, columns=ct.get_feature_names_out())\n",
        "X_test_df.head(2)"
      ]
    },
    {
      "cell_type": "markdown",
      "metadata": {
        "id": "9CyGI5BA-faC"
      },
      "source": [
        "#### Set the TensorFlow random seed"
      ]
    },
    {
      "cell_type": "code",
      "execution_count": 22,
      "metadata": {
        "id": "HEfRLI8j-ZQs"
      },
      "outputs": [],
      "source": [
        "# With help from https://www.tensorflow.org/api_docs/python/tf/keras/utils/set_random_seed\n",
        "\n",
        "tf.keras.utils.set_random_seed(\n",
        "    1331\n",
        ")"
      ]
    },
    {
      "cell_type": "markdown",
      "metadata": {
        "id": "bB9C0XJkyQEk"
      },
      "source": [
        "## Create and train a model\n",
        "\n",
        "#### Create model structure"
      ]
    },
    {
      "cell_type": "code",
      "execution_count": 23,
      "metadata": {
        "id": "FQd9PcPRpkP4"
      },
      "outputs": [],
      "source": [
        "from tensorflow.keras.models import Sequential\n",
        "from tensorflow.keras.layers import Dense"
      ]
    },
    {
      "cell_type": "code",
      "execution_count": 24,
      "metadata": {
        "id": "sjHkd6kGy_oR"
      },
      "outputs": [],
      "source": [
        "model = Sequential()\n",
        "model.add(Dense(35, activation='relu'))\n",
        "model.add(Dense(1, activation='sigmoid'))"
      ]
    },
    {
      "cell_type": "markdown",
      "metadata": {
        "id": "T12mvCrqpXOX"
      },
      "source": [
        "#### Compile"
      ]
    },
    {
      "cell_type": "code",
      "execution_count": 25,
      "metadata": {
        "id": "fPzix0n5xPHc"
      },
      "outputs": [],
      "source": [
        "# Using help from the docs to get metrics right\n",
        "model.compile(\n",
        "    optimizer='adam',\n",
        "    loss='binary_crossentropy',\n",
        "    metrics=['accuracy', tf.keras.metrics.Recall(), tf.keras.metrics.Precision()]\n",
        ")"
      ]
    },
    {
      "cell_type": "markdown",
      "metadata": {
        "id": "nlV0i6J4o-Yg"
      },
      "source": [
        "#### Make an EarlyStopping callback"
      ]
    },
    {
      "cell_type": "code",
      "execution_count": 26,
      "metadata": {
        "id": "ybDzNUheqxJw"
      },
      "outputs": [],
      "source": [
        "# With help from tensorflow documentation\n",
        "callback = tf.keras.callbacks.EarlyStopping(monitor='loss', patience=5)"
      ]
    },
    {
      "cell_type": "markdown",
      "metadata": {
        "id": "gaEz3a5BpLxr"
      },
      "source": [
        "#### Fit the model"
      ]
    },
    {
      "cell_type": "code",
      "execution_count": 27,
      "metadata": {
        "id": "GTxY6vPrpJkl"
      },
      "outputs": [],
      "source": [
        "history = model.fit(\n",
        "    X_train_df,\n",
        "    y_train,\n",
        "    validation_data=(X_test_df, y_test),\n",
        "    epochs=100,\n",
        "    callbacks=callback,\n",
        "    verbose=0\n",
        ")"
      ]
    },
    {
      "cell_type": "markdown",
      "metadata": {
        "id": "8rOk1tBrkwOo"
      },
      "source": [
        "#### Plot model performance on the validation data (accuracy, recall, and precision)"
      ]
    },
    {
      "cell_type": "code",
      "execution_count": 28,
      "metadata": {
        "colab": {
          "base_uri": "https://localhost:8080/"
        },
        "id": "J0KM_xsoDW3P",
        "outputId": "4b7ab6b1-358b-460e-d424-1c88b507a86c"
      },
      "outputs": [
        {
          "output_type": "execute_result",
          "data": {
            "text/plain": [
              "dict_keys(['loss', 'accuracy', 'recall', 'precision', 'val_loss', 'val_accuracy', 'val_recall', 'val_precision'])"
            ]
          },
          "metadata": {},
          "execution_count": 28
        }
      ],
      "source": [
        "history.history.keys()"
      ]
    },
    {
      "cell_type": "code",
      "execution_count": 29,
      "metadata": {
        "colab": {
          "base_uri": "https://localhost:8080/",
          "height": 450
        },
        "id": "F_ljBTS3H-lR",
        "outputId": "414df816-7fc1-40de-bb62-8f2a014d2a89"
      },
      "outputs": [
        {
          "output_type": "execute_result",
          "data": {
            "application/vnd.google.colaboratory.intrinsic+json": {
              "type": "string"
            },
            "text/plain": [
              "''"
            ]
          },
          "metadata": {},
          "execution_count": 29
        },
        {
          "output_type": "display_data",
          "data": {
            "image/png": "[encoded data removed]",
            "text/plain": [
              "<Figure size 864x576 with 1 Axes>"
            ]
          },
          "metadata": {
            "needs_background": "light"
          }
        }
      ],
      "source": [
        "# With help from regularization lesson\n",
        "# Can substitute hard coded dict keys for reference to history.history.keys()\n",
        "train_accuracy = history.history['accuracy']\n",
        "test_accuracy = history.history['val_accuracy']\n",
        "train_recall = history.history['recall']\n",
        "test_recall = history.history['val_recall']\n",
        "train_precision = history.history['precision']\n",
        "test_precision = history.history['val_precision']\n",
        "\n",
        "plt.figure(figsize=(12, 8))\n",
        "# plt.plot(train_accuracy, label='Training Accuracy', color='navy')\n",
        "plt.plot(test_accuracy, label='Testing Accuracy', color='skyblue')\n",
        "# plt.plot(train_recall, label='Training Recall', color='darkred')\n",
        "plt.plot(test_recall, label='Testing Recall', color='pink')\n",
        "# plt.plot(train_precision, label='Training Precision', color='green')\n",
        "plt.plot(test_precision, label='Testing Precision', color='lightgreen')\n",
        "plt.legend()\n",
        ";"
      ]
    },
    {
      "cell_type": "markdown",
      "metadata": {
        "id": "ltQkFibkzAMb"
      },
      "source": [
        "#### Save model"
      ]
    },
    {
      "cell_type": "code",
      "execution_count": 30,
      "metadata": {
        "colab": {
          "base_uri": "https://localhost:8080/"
        },
        "id": "b4477jxw71mZ",
        "outputId": "99109e4e-24b0-44a5-f1c3-b70423d35fc8"
      },
      "outputs": [
        {
          "output_type": "stream",
          "name": "stdout",
          "text": [
            "INFO:tensorflow:Assets written to: ./first_model/assets\n"
          ]
        }
      ],
      "source": [
        "model.save('./first_model')"
      ]
    },
    {
      "cell_type": "markdown",
      "metadata": {
        "id": "wgSH6wUwEDp2"
      },
      "source": [
        "#### Load model"
      ]
    },
    {
      "cell_type": "code",
      "execution_count": 31,
      "metadata": {
        "id": "9DbjapJzd-ks"
      },
      "outputs": [],
      "source": [
        "reloaded_model = tf.keras.models.load_model('./first_model')"
      ]
    },
    {
      "cell_type": "markdown",
      "metadata": {
        "id": "fs9fVkzQEGbN"
      },
      "source": [
        "#### Evaluate on test set "
      ]
    },
    {
      "cell_type": "code",
      "execution_count": 32,
      "metadata": {
        "colab": {
          "base_uri": "https://localhost:8080/"
        },
        "id": "aSaWeerYEDFX",
        "outputId": "15d71616-0a0b-4512-c22f-b72cbccd028f"
      },
      "outputs": [
        {
          "output_type": "stream",
          "name": "stdout",
          "text": [
            "3/3 [==============================] - 0s 7ms/step - loss: 0.3359 - accuracy: 0.8421 - recall: 0.6667 - precision: 0.7368\n"
          ]
        },
        {
          "output_type": "execute_result",
          "data": {
            "text/plain": [
              "[0.3358832895755768,\n",
              " 0.8421052694320679,\n",
              " 0.6666666865348816,\n",
              " 0.7368420958518982]"
            ]
          },
          "metadata": {},
          "execution_count": 32
        }
      ],
      "source": [
        "reloaded_model.evaluate(X_test_df, y_test)"
      ]
    },
    {
      "cell_type": "markdown",
      "metadata": {
        "id": "5olEwyc7D_ti"
      },
      "source": [
        "#### X_test predictions"
      ]
    },
    {
      "cell_type": "code",
      "execution_count": 33,
      "metadata": {
        "colab": {
          "base_uri": "https://localhost:8080/"
        },
        "id": "w5hEzXcbefof",
        "outputId": "455be3e4-5dc5-4267-9b91-82bc11f5b520"
      },
      "outputs": [
        {
          "output_type": "execute_result",
          "data": {
            "text/plain": [
              "array([[0.25420138],\n",
              "       [0.0019516 ],\n",
              "       [0.5772854 ],\n",
              "       [0.07616525],\n",
              "       [0.7671432 ]], dtype=float32)"
            ]
          },
          "metadata": {},
          "execution_count": 33
        }
      ],
      "source": [
        "y_preds = reloaded_model.predict(X_test_df)\n",
        "y_preds[:5]"
      ]
    },
    {
      "cell_type": "markdown",
      "metadata": {
        "id": "S4B1DOQOlIpD"
      },
      "source": [
        "#### What do those look like?"
      ]
    },
    {
      "cell_type": "code",
      "execution_count": 34,
      "metadata": {
        "colab": {
          "base_uri": "https://localhost:8080/",
          "height": 283
        },
        "id": "WxVEisOYw4Jr",
        "outputId": "cffcf34d-5c71-46ad-ff1d-ee5479c218e7"
      },
      "outputs": [
        {
          "output_type": "execute_result",
          "data": {
            "application/vnd.google.colaboratory.intrinsic+json": {
              "type": "string"
            },
            "text/plain": [
              "''"
            ]
          },
          "metadata": {},
          "execution_count": 34
        },
        {
          "output_type": "display_data",
          "data": {
            "image/png": "[encoded data removed]",
            "text/plain": [
              "<Figure size 432x288 with 1 Axes>"
            ]
          },
          "metadata": {
            "needs_background": "light"
          }
        }
      ],
      "source": [
        "plt.plot(y_preds)\n",
        ";"
      ]
    },
    {
      "cell_type": "markdown",
      "metadata": {
        "id": "vzrZM0MTxDl9"
      },
      "source": [
        "#### How is the model performing? \n",
        "Let's look at the confusion matrix using TF."
      ]
    },
    {
      "cell_type": "code",
      "execution_count": 35,
      "metadata": {
        "id": "i-KcKPNNDBdE"
      },
      "outputs": [],
      "source": [
        "# Using the docs\n",
        "tf_confusion = tf.compat.v1.confusion_matrix(\n",
        "    labels=y_test,\n",
        "    predictions=reloaded_model.predict(X_test_df),\n",
        "    \n",
        ")"
      ]
    },
    {
      "cell_type": "code",
      "execution_count": 36,
      "metadata": {
        "colab": {
          "base_uri": "https://localhost:8080/"
        },
        "id": "OGgmje0VH-lU",
        "outputId": "b37d0261-6860-4c63-cf0a-3668b351651d"
      },
      "outputs": [
        {
          "output_type": "execute_result",
          "data": {
            "text/plain": [
              "<tf.Tensor: shape=(2, 2), dtype=int32, numpy=\n",
              "array([[55,  0],\n",
              "       [21,  0]], dtype=int32)>"
            ]
          },
          "metadata": {},
          "execution_count": 36
        }
      ],
      "source": [
        "tf_confusion"
      ]
    },
    {
      "cell_type": "markdown",
      "metadata": {
        "id": "_Yk_wAPHwSme"
      },
      "source": [
        "Or just use sklearn's confusion matrix. "
      ]
    },
    {
      "cell_type": "code",
      "execution_count": 37,
      "metadata": {
        "id": "w6gZHqa3wQgS"
      },
      "outputs": [],
      "source": [
        "from sklearn.metrics import ConfusionMatrixDisplay"
      ]
    },
    {
      "cell_type": "code",
      "execution_count": 38,
      "metadata": {
        "colab": {
          "base_uri": "https://localhost:8080/",
          "height": 301
        },
        "id": "WIyMfhaGwc3K",
        "outputId": "59263567-c7db-4a32-b01c-12ecd5416f60"
      },
      "outputs": [
        {
          "output_type": "execute_result",
          "data": {
            "application/vnd.google.colaboratory.intrinsic+json": {
              "type": "string"
            },
            "text/plain": [
              "''"
            ]
          },
          "metadata": {},
          "execution_count": 38
        },
        {
          "output_type": "display_data",
          "data": {
            "image/png": "[encoded data removed]",
            "text/plain": [
              "<Figure size 432x288 with 2 Axes>"
            ]
          },
          "metadata": {
            "needs_background": "light"
          }
        }
      ],
      "source": [
        "# With help from https://stackoverflow.com/questions/56458526/get-confusion-matrix-from-a-keras-model/56458627\n",
        "# np.rint\n",
        "ConfusionMatrixDisplay.from_predictions(y_test, np.rint(y_preds), cmap='Blues')\n",
        ";"
      ]
    },
    {
      "cell_type": "markdown",
      "metadata": {
        "id": "i88nl2fLmmPo"
      },
      "source": [
        "#### Evaluate with other metrics\n",
        "\n",
        "Recall and precision metrics included in the model, will rerun below."
      ]
    },
    {
      "cell_type": "code",
      "execution_count": 39,
      "metadata": {
        "colab": {
          "base_uri": "https://localhost:8080/"
        },
        "id": "3HS5qvVEp7Dt",
        "outputId": "ba800a91-7179-4336-e54b-53e5722adef1"
      },
      "outputs": [
        {
          "output_type": "stream",
          "name": "stdout",
          "text": [
            "3/3 [==============================] - 0s 7ms/step - loss: 0.3359 - accuracy: 0.8421 - recall: 0.6667 - precision: 0.7368\n"
          ]
        },
        {
          "output_type": "execute_result",
          "data": {
            "text/plain": [
              "[0.3358832895755768,\n",
              " 0.8421052694320679,\n",
              " 0.6666666865348816,\n",
              " 0.7368420958518982]"
            ]
          },
          "metadata": {},
          "execution_count": 39
        }
      ],
      "source": [
        "reloaded_model.evaluate(X_test_df, y_test)"
      ]
    },
    {
      "cell_type": "code",
      "execution_count": 39,
      "metadata": {
        "id": "tFNRQNR8z0qp"
      },
      "outputs": [],
      "source": [
        ""
      ]
    },
    {
      "cell_type": "code",
      "execution_count": 39,
      "metadata": {
        "id": "F_BvhOiLqLd7"
      },
      "outputs": [],
      "source": [
        ""
      ]
    },
    {
      "cell_type": "code",
      "execution_count": 39,
      "metadata": {
        "id": "4tzu786xqRkm"
      },
      "outputs": [],
      "source": [
        ""
      ]
    },
    {
      "cell_type": "markdown",
      "metadata": {
        "id": "WygQswjBwBb4"
      },
      "source": [
        "### Make a null model"
      ]
    },
    {
      "cell_type": "code",
      "execution_count": 40,
      "metadata": {
        "colab": {
          "base_uri": "https://localhost:8080/"
        },
        "id": "6-J5CSa-wAt-",
        "outputId": "aed6dbc7-37da-4d4e-c1b3-cf237b2aba79"
      },
      "outputs": [
        {
          "output_type": "execute_result",
          "data": {
            "text/plain": [
              "0.7236842105263158"
            ]
          },
          "metadata": {},
          "execution_count": 40
        }
      ],
      "source": [
        "from sklearn.dummy import DummyClassifier\n",
        "\n",
        "dc = DummyClassifier()\n",
        "dc.fit(X_train_df, y_train)\n",
        "dc.score(X_test_df, y_test)"
      ]
    },
    {
      "cell_type": "markdown",
      "metadata": {
        "id": "aWNUxsZshX71"
      },
      "source": [
        "## Can you make a better model?\n",
        "\n",
        "Change the model architecture and see if you can make a better model. Add nodes, dense layers, and dropout layers."
      ]
    },
    {
      "cell_type": "markdown",
      "metadata": {
        "id": "dEokzDihH-lW"
      },
      "source": [
        "## Grid Search over NN hyperparameters\n",
        "\n",
        "Following this tutorial: https://machinelearningmastery.com/grid-search-hyperparameters-deep-learning-models-python-keras/"
      ]
    },
    {
      "cell_type": "code",
      "execution_count": 41,
      "metadata": {
        "colab": {
          "base_uri": "https://localhost:8080/"
        },
        "id": "-vuo0gPswEjU",
        "outputId": "bc966cd4-4c2e-4a51-d960-d169efbbefc3"
      },
      "outputs": [
        {
          "output_type": "stream",
          "name": "stdout",
          "text": [
            "Collecting scikeras\n",
            "  Downloading scikeras-0.6.0-py3-none-any.whl (27 kB)\n",
            "Requirement already satisfied: scikit-learn>=1.0.0 in /usr/local/lib/python3.7/dist-packages (from scikeras) (1.0.2)\n",
            "Collecting importlib-metadata<4,>=3\n",
            "  Downloading importlib_metadata-3.10.1-py3-none-any.whl (14 kB)\n",
            "Requirement already satisfied: packaging<22.0,>=0.21 in /usr/local/lib/python3.7/dist-packages (from scikeras) (21.3)\n",
            "Requirement already satisfied: typing-extensions>=3.6.4 in /usr/local/lib/python3.7/dist-packages (from importlib-metadata<4,>=3->scikeras) (3.10.0.2)\n",
            "Requirement already satisfied: zipp>=0.5 in /usr/local/lib/python3.7/dist-packages (from importlib-metadata<4,>=3->scikeras) (3.7.0)\n",
            "Requirement already satisfied: pyparsing!=3.0.5,>=2.0.2 in /usr/local/lib/python3.7/dist-packages (from packaging<22.0,>=0.21->scikeras) (3.0.7)\n",
            "Requirement already satisfied: joblib>=0.11 in /usr/local/lib/python3.7/dist-packages (from scikit-learn>=1.0.0->scikeras) (1.1.0)\n",
            "Requirement already satisfied: scipy>=1.1.0 in /usr/local/lib/python3.7/dist-packages (from scikit-learn>=1.0.0->scikeras) (1.4.1)\n",
            "Requirement already satisfied: threadpoolctl>=2.0.0 in /usr/local/lib/python3.7/dist-packages (from scikit-learn>=1.0.0->scikeras) (3.1.0)\n",
            "Requirement already satisfied: numpy>=1.14.6 in /usr/local/lib/python3.7/dist-packages (from scikit-learn>=1.0.0->scikeras) (1.19.5)\n",
            "Installing collected packages: importlib-metadata, scikeras\n",
            "  Attempting uninstall: importlib-metadata\n",
            "    Found existing installation: importlib-metadata 4.10.1\n",
            "    Uninstalling importlib-metadata-4.10.1:\n",
            "      Successfully uninstalled importlib-metadata-4.10.1\n",
            "\u001b[31mERROR: pip's dependency resolver does not currently take into account all the packages that are installed. This behaviour is the source of the following dependency conflicts.\n",
            "markdown 3.3.6 requires importlib-metadata>=4.4; python_version < \"3.10\", but you have importlib-metadata 3.10.1 which is incompatible.\u001b[0m\n",
            "Successfully installed importlib-metadata-3.10.1 scikeras-0.6.0\n"
          ]
        }
      ],
      "source": [
        "# Got error KerasClassifier was deprecated, switched to scikeras\n",
        "!pip install scikeras\n",
        "from sklearn.model_selection import GridSearchCV\n",
        "from scikeras.wrappers import KerasClassifier"
      ]
    },
    {
      "cell_type": "markdown",
      "source": [
        "### Gird Search for batch and epochs"
      ],
      "metadata": {
        "id": "v_smC88k44XY"
      }
    },
    {
      "cell_type": "code",
      "execution_count": 42,
      "metadata": {
        "id": "jidqOlcbNlnb"
      },
      "outputs": [],
      "source": [
        "# Got input shape error in grid search. Using this from lesson with Chuck given: \"Model <keras.engine.sequential.Sequential object at 0x7fdf22f98410> cannot be saved because the input shapes have not been set. Usually, input shapes are automatically determined when calling `.fit()` or `.predict()`. To manually set the shapes, call `model.build(input_shape)\"\n",
        "n_input = X_train_df.shape[1]"
      ]
    },
    {
      "cell_type": "code",
      "execution_count": 43,
      "metadata": {
        "colab": {
          "base_uri": "https://localhost:8080/"
        },
        "id": "HGMzqDwKJlQn",
        "outputId": "891d66f9-7eda-4ff8-a779-cd89f6668f84"
      },
      "outputs": [
        {
          "output_type": "stream",
          "name": "stdout",
          "text": [
            "Best score: 0.7004830917874396. Used these parameters: {'batch_size': 100, 'epochs': 50}\n",
            "0.699291 (0.065602) with: {'batch_size': 10, 'epochs': 10}\n",
            "0.644986 (0.015330) with: {'batch_size': 10, 'epochs': 50}\n",
            "0.640693 (0.019680) with: {'batch_size': 10, 'epochs': 100}\n",
            "0.621328 (0.079274) with: {'batch_size': 20, 'epochs': 10}\n",
            "0.697909 (0.052157) with: {'batch_size': 20, 'epochs': 50}\n",
            "0.666919 (0.012969) with: {'batch_size': 20, 'epochs': 100}\n",
            "0.619048 (0.067344) with: {'batch_size': 30, 'epochs': 10}\n",
            "0.698413 (0.022448) with: {'batch_size': 30, 'epochs': 50}\n",
            "0.654623 (0.028427) with: {'batch_size': 30, 'epochs': 100}\n",
            "0.637037 (0.041903) with: {'batch_size': 40, 'epochs': 10}\n",
            "0.698450 (0.001096) with: {'batch_size': 40, 'epochs': 50}\n",
            "0.666507 (0.089090) with: {'batch_size': 40, 'epochs': 100}\n",
            "0.454640 (0.169272) with: {'batch_size': 60, 'epochs': 10}\n",
            "0.691879 (0.050289) with: {'batch_size': 60, 'epochs': 50}\n",
            "0.640458 (0.015139) with: {'batch_size': 60, 'epochs': 100}\n",
            "0.462091 (0.209944) with: {'batch_size': 80, 'epochs': 10}\n",
            "0.634011 (0.073553) with: {'batch_size': 80, 'epochs': 50}\n",
            "0.673552 (0.046359) with: {'batch_size': 80, 'epochs': 100}\n",
            "0.377306 (0.097920) with: {'batch_size': 100, 'epochs': 10}\n",
            "0.700483 (0.029780) with: {'batch_size': 100, 'epochs': 50}\n",
            "0.649844 (0.036284) with: {'batch_size': 100, 'epochs': 100}\n"
          ]
        }
      ],
      "source": [
        "# Create model function. Required by KerasClassifier\n",
        "def create_model():\n",
        "  # First try let's replicate my previous model\n",
        "  model = Sequential()\n",
        "  model.add(Dense(35, input_dim=n_input, activation='relu'))\n",
        "  model.add(Dense(1, activation='sigmoid'))\n",
        "  # Model compile\n",
        "  model.compile(\n",
        "    optimizer='adam',\n",
        "    loss='binary_crossentropy',\n",
        "    metrics=['accuracy', tf.keras.metrics.Recall(), tf.keras.metrics.Precision()]\n",
        "  )\n",
        "  return model\n",
        "\n",
        "# Create/Instantiate? model. Verbose=0 keeps output clean\n",
        "model = KerasClassifier(model=create_model, verbose=0)\n",
        "\n",
        "# Define grid search parameters. I'm using the same from my tutorial to start it off.\n",
        "params= {\n",
        "    'batch_size': [10, 20, 30, 40, 60, 80, 100],\n",
        "    'epochs': [10, 50, 100]\n",
        "}\n",
        "# Grid Search\n",
        "gs = GridSearchCV(\n",
        "    estimator=model,\n",
        "    param_grid=params,\n",
        "    n_jobs=-1,\n",
        "    cv=3,\n",
        "    scoring='f1'\n",
        ")\n",
        "gs_result = gs.fit(X_train_df, y_train)\n",
        "\n",
        "# Result summary\n",
        "print(f\"Best score: {gs_result.best_score_}. Used these parameters: {gs_result.best_params_}\")\n",
        "\n",
        "# This part copied from machine learning mastery prints out all results to check where improvements can be made\n",
        "means = gs_result.cv_results_['mean_test_score']\n",
        "stds = gs_result.cv_results_['std_test_score']\n",
        "params = gs_result.cv_results_['params']\n",
        "for mean, stdev, param in zip(means, stds, params):\n",
        "    print(\"%f (%f) with: %r\" % (mean, stdev, param))"
      ]
    },
    {
      "cell_type": "markdown",
      "metadata": {
        "id": "2h6gY8JDO9wh"
      },
      "source": [
        "Best accuracy score: 0.8266666666666667. Used these parameters: {'batch_size': 10, 'epochs': 10}\n",
        "\n",
        "Took a few minutes to run.\n",
        "\n",
        "Rerun with GridSearchCV scoring='f1'. Best F1: 0.7806637806637807. Used these parameters: {'batch_size': 10, 'epochs': 10}"
      ]
    },
    {
      "cell_type": "markdown",
      "metadata": {
        "id": "bmGMBWDGPXAN"
      },
      "source": [
        "### Grid Search for Dropout rate\n",
        "\n",
        "Let's try dropout regularization tuning from the tutorial. It's the same code as before but the model function is changed to incorporate dropout inputs into it and be able to grid search over them."
      ]
    },
    {
      "cell_type": "code",
      "execution_count": null,
      "metadata": {
        "colab": {
          "background_save": true
        },
        "id": "BJzj2H7SO44W",
        "outputId": "ab7a6972-29c3-4041-f1d4-4e6e7a812bcb"
      },
      "outputs": [
        {
          "name": "stdout",
          "output_type": "stream",
          "text": [
            "Best score: 0.6875901875901876. Used these parameters: {'dropout_rate': 0.9, 'weight_constraint': 2}\n",
            "0.634921 (0.022448) with: {'dropout_rate': 0.0, 'weight_constraint': 1}\n",
            "0.651398 (0.012372) with: {'dropout_rate': 0.0, 'weight_constraint': 2}\n",
            "0.619299 (0.046241) with: {'dropout_rate': 0.0, 'weight_constraint': 3}\n",
            "0.635608 (0.021908) with: {'dropout_rate': 0.0, 'weight_constraint': 4}\n",
            "0.626599 (0.031082) with: {'dropout_rate': 0.0, 'weight_constraint': 5}\n",
            "0.612698 (0.039904) with: {'dropout_rate': 0.1, 'weight_constraint': 1}\n",
            "0.617749 (0.046781) with: {'dropout_rate': 0.1, 'weight_constraint': 2}\n",
            "0.634343 (0.027254) with: {'dropout_rate': 0.1, 'weight_constraint': 3}\n",
            "0.644682 (0.026308) with: {'dropout_rate': 0.1, 'weight_constraint': 4}\n",
            "0.617827 (0.038919) with: {'dropout_rate': 0.1, 'weight_constraint': 5}\n",
            "0.620742 (0.032954) with: {'dropout_rate': 0.2, 'weight_constraint': 1}\n",
            "0.619364 (0.044219) with: {'dropout_rate': 0.2, 'weight_constraint': 2}\n",
            "0.641012 (0.018783) with: {'dropout_rate': 0.2, 'weight_constraint': 3}\n",
            "0.635525 (0.013124) with: {'dropout_rate': 0.2, 'weight_constraint': 4}\n",
            "0.640439 (0.026205) with: {'dropout_rate': 0.2, 'weight_constraint': 5}\n",
            "0.650776 (0.056899) with: {'dropout_rate': 0.3, 'weight_constraint': 1}\n",
            "0.607298 (0.031017) with: {'dropout_rate': 0.3, 'weight_constraint': 2}\n",
            "0.632948 (0.049060) with: {'dropout_rate': 0.3, 'weight_constraint': 3}\n",
            "0.624657 (0.008736) with: {'dropout_rate': 0.3, 'weight_constraint': 4}\n",
            "0.634343 (0.027254) with: {'dropout_rate': 0.3, 'weight_constraint': 5}\n",
            "0.633951 (0.034129) with: {'dropout_rate': 0.4, 'weight_constraint': 1}\n",
            "0.629175 (0.021497) with: {'dropout_rate': 0.4, 'weight_constraint': 2}\n",
            "0.651029 (0.033733) with: {'dropout_rate': 0.4, 'weight_constraint': 3}\n",
            "0.640693 (0.019680) with: {'dropout_rate': 0.4, 'weight_constraint': 4}\n",
            "0.624701 (0.050931) with: {'dropout_rate': 0.4, 'weight_constraint': 5}\n",
            "0.651010 (0.012392) with: {'dropout_rate': 0.5, 'weight_constraint': 1}\n",
            "0.634343 (0.027254) with: {'dropout_rate': 0.5, 'weight_constraint': 2}\n",
            "0.638895 (0.057124) with: {'dropout_rate': 0.5, 'weight_constraint': 3}\n",
            "0.640458 (0.040883) with: {'dropout_rate': 0.5, 'weight_constraint': 4}\n",
            "0.650216 (0.047674) with: {'dropout_rate': 0.5, 'weight_constraint': 5}\n",
            "0.635542 (0.034018) with: {'dropout_rate': 0.6, 'weight_constraint': 1}\n",
            "0.655844 (0.026744) with: {'dropout_rate': 0.6, 'weight_constraint': 2}\n",
            "0.670861 (0.040490) with: {'dropout_rate': 0.6, 'weight_constraint': 3}\n",
            "0.627680 (0.049853) with: {'dropout_rate': 0.6, 'weight_constraint': 4}\n",
            "0.633951 (0.034129) with: {'dropout_rate': 0.6, 'weight_constraint': 5}\n",
            "0.666180 (0.033951) with: {'dropout_rate': 0.7, 'weight_constraint': 1}\n",
            "0.634029 (0.047058) with: {'dropout_rate': 0.7, 'weight_constraint': 2}\n",
            "0.681079 (0.038022) with: {'dropout_rate': 0.7, 'weight_constraint': 3}\n",
            "0.654545 (0.038569) with: {'dropout_rate': 0.7, 'weight_constraint': 4}\n",
            "0.681079 (0.038022) with: {'dropout_rate': 0.7, 'weight_constraint': 5}\n",
            "0.661499 (0.039562) with: {'dropout_rate': 0.8, 'weight_constraint': 1}\n",
            "0.671213 (0.026998) with: {'dropout_rate': 0.8, 'weight_constraint': 2}\n",
            "0.682557 (0.039833) with: {'dropout_rate': 0.8, 'weight_constraint': 3}\n",
            "0.681079 (0.038022) with: {'dropout_rate': 0.8, 'weight_constraint': 4}\n",
            "0.653402 (0.064521) with: {'dropout_rate': 0.8, 'weight_constraint': 5}\n",
            "0.671717 (0.039531) with: {'dropout_rate': 0.9, 'weight_constraint': 1}\n",
            "0.687590 (0.058464) with: {'dropout_rate': 0.9, 'weight_constraint': 2}\n",
            "0.671465 (0.053066) with: {'dropout_rate': 0.9, 'weight_constraint': 3}\n",
            "0.675335 (0.059042) with: {'dropout_rate': 0.9, 'weight_constraint': 4}\n",
            "0.651046 (0.026079) with: {'dropout_rate': 0.9, 'weight_constraint': 5}\n"
          ]
        }
      ],
      "source": [
        "# Create model function. Required by KerasClassifier.\n",
        "# Dropout rate and weight constraint included as default variables for grid search\n",
        "# Import for weight_constraint\n",
        "from keras.constraints import maxnorm\n",
        "from tensorflow.keras.layers import Dropout\n",
        "\n",
        "def create_model(dropout_rate=0.0, weight_constraint=0):\n",
        "  # First try let's replicate my previous model\n",
        "  model = Sequential()\n",
        "  # Adding kernel initializer and kernel constraint here per tutorial\n",
        "  model.add(Dense(35, input_dim=n_input, kernel_initializer='uniform', activation='relu', kernel_constraint=maxnorm(weight_constraint)))\n",
        "  # Add the dropout layer\n",
        "  model.add(Dropout(dropout_rate))\n",
        "  model.add(Dense(1, kernel_initializer='uniform', activation='sigmoid'))\n",
        "  # Model compile\n",
        "  model.compile(\n",
        "    optimizer='adam',\n",
        "    loss='binary_crossentropy',\n",
        "    metrics=['accuracy', tf.keras.metrics.Recall(), tf.keras.metrics.Precision()]\n",
        "  )\n",
        "  return model\n",
        "\n",
        "# Create/Instantiate? model. Verbose=0 keeps output clean. Use epochs=100 from my first model.\n",
        "# Batch_size from previous grid search\n",
        "model = KerasClassifier(model=create_model, verbose=0, epochs=100, batch_size=10, dropout_rate=0.0, weight_constraint=0)\n",
        "\n",
        "# Define grid search parameters. I'm using the same from my tutorial to start it off.\n",
        "params= {\n",
        "    'weight_constraint': [1, 2, 3, 4, 5],\n",
        "    'dropout_rate': [0.0, 0.1, 0.2, 0.3, 0.4, 0.5, 0.6, 0.7, 0.8, 0.9]\n",
        "}\n",
        "# Grid Search\n",
        "gs2 = GridSearchCV(\n",
        "    estimator=model,\n",
        "    param_grid=params,\n",
        "    n_jobs=-1,\n",
        "    cv=3,\n",
        "    scoring='f1'\n",
        ")\n",
        "gs_result2 = gs2.fit(X_train_df, y_train)\n",
        "\n",
        "# Result summary\n",
        "print(f\"Best score: {gs_result2.best_score_}. Used these parameters: {gs_result2.best_params_}\")\n",
        "\n",
        "# This part copied from machine learning mastery prints out all results to check where improvements can be made\n",
        "means = gs_result2.cv_results_['mean_test_score']\n",
        "stds = gs_result2.cv_results_['std_test_score']\n",
        "params = gs_result2.cv_results_['params']\n",
        "for mean, stdev, param in zip(means, stds, params):\n",
        "    print(\"%f (%f) with: %r\" % (mean, stdev, param))"
      ]
    },
    {
      "cell_type": "markdown",
      "metadata": {
        "id": "FcbNEU6DSfUy"
      },
      "source": [
        "Best accuracy score: 0.831111111111111. Used these parameters: {'dropout_rate': 0.9, 'weight_constraint': 3}\n",
        "\n",
        "Around 15 minutes to run!\n",
        "\n",
        "Rerun with GridSearchCV scoring=F1. Best F1: 69.74%. Used these parameters: {'dropout_rate': 0.9, 'weight_constraint': 1}"
      ]
    },
    {
      "cell_type": "markdown",
      "metadata": {
        "id": "P2g8fNYPhe5t"
      },
      "source": [
        "### Save your best model. \n"
      ]
    },
    {
      "cell_type": "code",
      "execution_count": 44,
      "metadata": {
        "colab": {
          "base_uri": "https://localhost:8080/"
        },
        "id": "4a5amVqpH-lW",
        "outputId": "f45aab1c-8802-4857-b312-07c9601c1513"
      },
      "outputs": [
        {
          "output_type": "execute_result",
          "data": {
            "text/plain": [
              "KerasClassifier(\n",
              "\tmodel=<function create_model at 0x7fd0301ba440>\n",
              "\tbuild_fn=None\n",
              "\twarm_start=False\n",
              "\trandom_state=None\n",
              "\toptimizer=rmsprop\n",
              "\tloss=None\n",
              "\tmetrics=None\n",
              "\tbatch_size=100\n",
              "\tvalidation_batch_size=None\n",
              "\tverbose=0\n",
              "\tcallbacks=None\n",
              "\tvalidation_split=0.0\n",
              "\tshuffle=True\n",
              "\trun_eagerly=False\n",
              "\tepochs=50\n",
              "\tclass_weight=None\n",
              ")"
            ]
          },
          "metadata": {},
          "execution_count": 44
        }
      ],
      "source": [
        "gs_result.best_estimator_ #.build_fn"
      ]
    },
    {
      "cell_type": "code",
      "source": [
        "gs_result.best_estimator_.model_.save('./best_gs_model/')"
      ],
      "metadata": {
        "colab": {
          "base_uri": "https://localhost:8080/"
        },
        "id": "XCh57REm5zFr",
        "outputId": "76d10209-585b-4396-ee93-34fcfafb47c9"
      },
      "execution_count": 46,
      "outputs": [
        {
          "output_type": "stream",
          "name": "stdout",
          "text": [
            "INFO:tensorflow:Assets written to: ./best_gs_model/assets\n"
          ]
        }
      ]
    },
    {
      "cell_type": "markdown",
      "metadata": {
        "id": "8Y2AqHwEh4A_"
      },
      "source": [
        "### Compare with other algorithms\n",
        "Compare your best neural net model to scikit-learn's LogisticRegression, SVM, and GradientBoostingClassifier. Hyperparameter search for good options."
      ]
    },
    {
      "cell_type": "code",
      "execution_count": null,
      "metadata": {
        "id": "50mvw0us9FdB"
      },
      "outputs": [],
      "source": [
        "from sklearn.linear_model import LogisticRegression\n",
        "from sklearn.ensemble import GradientBoostingClassifier\n",
        "from sklearn.svm import SVC"
      ]
    },
    {
      "cell_type": "markdown",
      "metadata": {
        "id": "i42hd5tZuBp3"
      },
      "source": [
        "#### Logistic Regression"
      ]
    },
    {
      "cell_type": "code",
      "execution_count": null,
      "metadata": {
        "id": "Gl-9aQxZxiKg"
      },
      "outputs": [],
      "source": [
        "logreg = LogisticRegression(max_iter=10_000)"
      ]
    },
    {
      "cell_type": "code",
      "execution_count": null,
      "metadata": {
        "colab": {
          "base_uri": "https://localhost:8080/"
        },
        "id": "eRNkAj6jy2cY",
        "outputId": "47cd4aca-8233-4c8d-80a9-8577f2976e09"
      },
      "outputs": [
        {
          "data": {
            "text/plain": [
              "dict_keys(['C', 'class_weight', 'dual', 'fit_intercept', 'intercept_scaling', 'l1_ratio', 'max_iter', 'multi_class', 'n_jobs', 'penalty', 'random_state', 'solver', 'tol', 'verbose', 'warm_start'])"
            ]
          },
          "execution_count": 46,
          "metadata": {},
          "output_type": "execute_result"
        }
      ],
      "source": [
        "logreg.get_params().keys()"
      ]
    },
    {
      "cell_type": "code",
      "execution_count": null,
      "metadata": {
        "colab": {
          "base_uri": "https://localhost:8080/"
        },
        "id": "QK2B9mjqZmFo",
        "outputId": "49c27d2e-5b83-44d4-d4e0-6ddaaca81d9d"
      },
      "outputs": [
        {
          "name": "stdout",
          "output_type": "stream",
          "text": [
            "Best score: 0.7195844155844154. Used these parameters: {'C': 10, 'n_jobs': -1}\n",
            "0.47581699346405226 (0.07592959859585677) with: {'C': 0.01, 'n_jobs': -1}\n",
            "0.7185550745550745 (0.08413149906301527) with: {'C': 0.1, 'n_jobs': -1}\n",
            "0.7140459540459541 (0.05304752121397003) with: {'C': 1, 'n_jobs': -1}\n",
            "0.7195844155844154 (0.05192248721602161) with: {'C': 10, 'n_jobs': -1}\n",
            "0.7195844155844154 (0.05192248721602161) with: {'C': 100, 'n_jobs': -1}\n"
          ]
        }
      ],
      "source": [
        "params = {\n",
        "    'C': [.01, .1, 1, 10, 100],\n",
        "    'n_jobs': [-1]\n",
        "}\n",
        "\n",
        "gs_logreg = GridSearchCV(\n",
        "    logreg,\n",
        "    params,\n",
        "    n_jobs=-1,\n",
        "    scoring='f1'\n",
        ")\n",
        "\n",
        "logreg_results = gs_logreg.fit(X_train_df, y_train)\n",
        "\n",
        "print(f\"Best score: {logreg_results.best_score_}. Used these parameters: {logreg_results.best_params_}\")\n",
        "\n",
        "means = logreg_results.cv_results_['mean_test_score']\n",
        "stds = logreg_results.cv_results_['std_test_score']\n",
        "params = logreg_results.cv_results_['params']\n",
        "for mean, stdev, param in zip(means, stds, params):\n",
        "    print(f\"{mean} ({stdev}) with: {param}\")"
      ]
    },
    {
      "cell_type": "markdown",
      "metadata": {
        "id": "PwX4ufyAt38d"
      },
      "source": [
        "Best score: 0.7195844155844154. Used these parameters: {'C': 10, 'n_jobs': -1}"
      ]
    },
    {
      "cell_type": "markdown",
      "metadata": {
        "id": "rowfEk0OuFkl"
      },
      "source": [
        "#### Gradient Boosting Classifier"
      ]
    },
    {
      "cell_type": "code",
      "execution_count": null,
      "metadata": {
        "id": "b9QD8qt-uKOZ"
      },
      "outputs": [],
      "source": [
        "gb = GradientBoostingClassifier()"
      ]
    },
    {
      "cell_type": "code",
      "execution_count": null,
      "metadata": {
        "colab": {
          "base_uri": "https://localhost:8080/"
        },
        "id": "ggn-TH2pu3fd",
        "outputId": "96a331f4-4ed6-4d3e-dc07-3480615f890c"
      },
      "outputs": [
        {
          "data": {
            "text/plain": [
              "dict_keys(['ccp_alpha', 'criterion', 'init', 'learning_rate', 'loss', 'max_depth', 'max_features', 'max_leaf_nodes', 'min_impurity_decrease', 'min_samples_leaf', 'min_samples_split', 'min_weight_fraction_leaf', 'n_estimators', 'n_iter_no_change', 'random_state', 'subsample', 'tol', 'validation_fraction', 'verbose', 'warm_start'])"
            ]
          },
          "execution_count": 49,
          "metadata": {},
          "output_type": "execute_result"
        }
      ],
      "source": [
        "gb.get_params().keys()"
      ]
    },
    {
      "cell_type": "code",
      "execution_count": null,
      "metadata": {
        "id": "mNc7ScoSu3Y5"
      },
      "outputs": [],
      "source": [
        "gb_params = {\n",
        "    'learning_rate': [0.01, 0.05, 0.1, 0.15, 0.5],\n",
        "    'n_estimators': [50, 100, 150, 200]\n",
        "}"
      ]
    },
    {
      "cell_type": "code",
      "execution_count": null,
      "metadata": {
        "id": "trPH5wL6u3SI"
      },
      "outputs": [],
      "source": [
        "gs_boost = GridSearchCV(\n",
        "    gb,\n",
        "    gb_params,\n",
        "    scoring='f1',\n",
        "    n_jobs=-1\n",
        ")"
      ]
    },
    {
      "cell_type": "code",
      "execution_count": null,
      "metadata": {
        "colab": {
          "base_uri": "https://localhost:8080/"
        },
        "id": "neITBoWOu3Jn",
        "outputId": "2dd7b672-3bf5-417b-c6bd-c47a1bc2d738"
      },
      "outputs": [
        {
          "name": "stdout",
          "output_type": "stream",
          "text": [
            "Best score: 0.5894845017682546. Used these parameters: {'learning_rate': 0.01, 'n_estimators': 150}\n",
            "0.23630252100840332 (0.08520888696518437) with: {'learning_rate': 0.01, 'n_estimators': 50}\n",
            "0.5123742690058479 (0.06843000491241284) with: {'learning_rate': 0.01, 'n_estimators': 100}\n",
            "0.5894845017682546 (0.09099563654531857) with: {'learning_rate': 0.01, 'n_estimators': 150}\n",
            "0.576711462450593 (0.08013801153049693) with: {'learning_rate': 0.01, 'n_estimators': 200}\n",
            "0.5494387351778657 (0.07838081756986745) with: {'learning_rate': 0.05, 'n_estimators': 50}\n",
            "0.5674855579203406 (0.08131572738134041) with: {'learning_rate': 0.05, 'n_estimators': 100}\n",
            "0.5599562916954223 (0.07791415611983385) with: {'learning_rate': 0.05, 'n_estimators': 150}\n",
            "0.5532896250287556 (0.06619021119155444) with: {'learning_rate': 0.05, 'n_estimators': 200}\n",
            "0.567077125772778 (0.06066783695153997) with: {'learning_rate': 0.1, 'n_estimators': 50}\n",
            "0.5762145262145262 (0.0709701662195739) with: {'learning_rate': 0.1, 'n_estimators': 100}\n",
            "0.5495457875457876 (0.07495929598045237) with: {'learning_rate': 0.1, 'n_estimators': 150}\n",
            "0.5461269841269842 (0.07916696542888287) with: {'learning_rate': 0.1, 'n_estimators': 200}\n",
            "0.5652269469660774 (0.09901896574103933) with: {'learning_rate': 0.15, 'n_estimators': 50}\n",
            "0.5662525879917184 (0.08324423306590115) with: {'learning_rate': 0.15, 'n_estimators': 100}\n",
            "0.5342222222222223 (0.09859857510301898) with: {'learning_rate': 0.15, 'n_estimators': 150}\n",
            "0.5590793650793652 (0.09658979402295992) with: {'learning_rate': 0.15, 'n_estimators': 200}\n",
            "0.5512121212121213 (0.09057717184130623) with: {'learning_rate': 0.5, 'n_estimators': 50}\n",
            "0.5271139971139972 (0.08950095210519522) with: {'learning_rate': 0.5, 'n_estimators': 100}\n",
            "0.5312009729401035 (0.09410043444689478) with: {'learning_rate': 0.5, 'n_estimators': 150}\n",
            "0.5271139971139972 (0.08950095210519522) with: {'learning_rate': 0.5, 'n_estimators': 200}\n"
          ]
        }
      ],
      "source": [
        "boost_results = gs_boost.fit(X_train_df, y_train)\n",
        "\n",
        "print(f\"Best score: {boost_results.best_score_}. Used these parameters: {boost_results.best_params_}\")\n",
        "\n",
        "means = boost_results.cv_results_['mean_test_score']\n",
        "stds = boost_results.cv_results_['std_test_score']\n",
        "params = boost_results.cv_results_['params']\n",
        "for mean, stdev, param in zip(means, stds, params):\n",
        "    print(f\"{mean} ({stdev}) with: {param}\")"
      ]
    },
    {
      "cell_type": "markdown",
      "metadata": {
        "id": "US_u-bS8waWH"
      },
      "source": [
        "#### SVM"
      ]
    },
    {
      "cell_type": "code",
      "execution_count": null,
      "metadata": {
        "id": "idX2rZKZwcYh"
      },
      "outputs": [],
      "source": [
        "svc = SVC()"
      ]
    },
    {
      "cell_type": "code",
      "execution_count": null,
      "metadata": {
        "colab": {
          "base_uri": "https://localhost:8080/"
        },
        "id": "j0yk5EMqyK9_",
        "outputId": "eb5dbde0-6e86-4153-df2a-4d6c2621ec05"
      },
      "outputs": [
        {
          "data": {
            "text/plain": [
              "dict_keys(['C', 'break_ties', 'cache_size', 'class_weight', 'coef0', 'decision_function_shape', 'degree', 'gamma', 'kernel', 'max_iter', 'probability', 'random_state', 'shrinking', 'tol', 'verbose'])"
            ]
          },
          "execution_count": 54,
          "metadata": {},
          "output_type": "execute_result"
        }
      ],
      "source": [
        "svc.get_params().keys()"
      ]
    },
    {
      "cell_type": "code",
      "execution_count": null,
      "metadata": {
        "id": "oEgKnsdlyK-N"
      },
      "outputs": [],
      "source": [
        "# Using the np.linspace from optional lesson for C grid search\n",
        "svc_params = {\n",
        "    'C': np.linspace(0.0001, 2, 10),\n",
        "    'kernel': ['rbf', 'poly', 'sigmoid']\n",
        "}"
      ]
    },
    {
      "cell_type": "code",
      "execution_count": null,
      "metadata": {
        "id": "30SuqaFfyK-N"
      },
      "outputs": [],
      "source": [
        "gs_svc = GridSearchCV(\n",
        "    svc,\n",
        "    svc_params,\n",
        "    scoring='f1',\n",
        "    n_jobs=-1\n",
        ")"
      ]
    },
    {
      "cell_type": "code",
      "execution_count": null,
      "metadata": {
        "colab": {
          "base_uri": "https://localhost:8080/"
        },
        "id": "6Cx59B7byK-O",
        "outputId": "bc19f914-a002-48d3-9f35-58302d614f48"
      },
      "outputs": [
        {
          "name": "stdout",
          "output_type": "stream",
          "text": [
            "Best score: 0.755320910973085. Used these parameters: {'C': 1.3333666666666666, 'kernel': 'sigmoid'}\n",
            "0.0 (0.0) with: {'C': 0.0001, 'kernel': 'rbf'}\n",
            "0.0 (0.0) with: {'C': 0.0001, 'kernel': 'poly'}\n",
            "0.0 (0.0) with: {'C': 0.0001, 'kernel': 'sigmoid'}\n",
            "0.3538001867413632 (0.14618672121795792) with: {'C': 0.2223111111111111, 'kernel': 'rbf'}\n",
            "0.3647058823529412 (0.10580062205061735) with: {'C': 0.2223111111111111, 'kernel': 'poly'}\n",
            "0.7364098864098864 (0.05238479507424614) with: {'C': 0.2223111111111111, 'kernel': 'sigmoid'}\n",
            "0.5931419457735247 (0.06675817685592987) with: {'C': 0.4445222222222222, 'kernel': 'rbf'}\n",
            "0.408328173374613 (0.08669385203063541) with: {'C': 0.4445222222222222, 'kernel': 'poly'}\n",
            "0.7309911671980638 (0.04824192611288256) with: {'C': 0.4445222222222222, 'kernel': 'sigmoid'}\n",
            "0.6309253065774805 (0.0739359451733071) with: {'C': 0.6667333333333333, 'kernel': 'rbf'}\n",
            "0.46721706226350185 (0.031017909676941367) with: {'C': 0.6667333333333333, 'kernel': 'poly'}\n",
            "0.7418540080609046 (0.06153253401469705) with: {'C': 0.6667333333333333, 'kernel': 'sigmoid'}\n",
            "0.6268673355629877 (0.06910274193332595) with: {'C': 0.8889444444444444, 'kernel': 'rbf'}\n",
            "0.49428571428571433 (0.06497940445460687) with: {'C': 0.8889444444444444, 'kernel': 'poly'}\n",
            "0.7537117155707861 (0.04297587353899495) with: {'C': 0.8889444444444444, 'kernel': 'sigmoid'}\n",
            "0.6167720974677497 (0.07558181102480713) with: {'C': 1.1111555555555555, 'kernel': 'rbf'}\n",
            "0.5258646616541354 (0.07715267638924397) with: {'C': 1.1111555555555555, 'kernel': 'poly'}\n",
            "0.7425003981525722 (0.03767114685829159) with: {'C': 1.1111555555555555, 'kernel': 'sigmoid'}\n",
            "0.5949772256728779 (0.06572745767970482) with: {'C': 1.3333666666666666, 'kernel': 'rbf'}\n",
            "0.5411027568922305 (0.055185670759462103) with: {'C': 1.3333666666666666, 'kernel': 'poly'}\n",
            "0.755320910973085 (0.05255446348078241) with: {'C': 1.3333666666666666, 'kernel': 'sigmoid'}\n",
            "0.5965111989459816 (0.05506209306569399) with: {'C': 1.5555777777777777, 'kernel': 'rbf'}\n",
            "0.5411027568922305 (0.055185670759462103) with: {'C': 1.5555777777777777, 'kernel': 'poly'}\n",
            "0.755320910973085 (0.05255446348078241) with: {'C': 1.5555777777777777, 'kernel': 'sigmoid'}\n",
            "0.6242351046698873 (0.0745571658615137) with: {'C': 1.7777888888888889, 'kernel': 'rbf'}\n",
            "0.5411027568922305 (0.055185670759462103) with: {'C': 1.7777888888888889, 'kernel': 'poly'}\n",
            "0.7451282051282051 (0.06304981698175874) with: {'C': 1.7777888888888889, 'kernel': 'sigmoid'}\n",
            "0.5941297028253552 (0.09102071069304266) with: {'C': 2.0, 'kernel': 'rbf'}\n",
            "0.5620596946912736 (0.05603475316699388) with: {'C': 2.0, 'kernel': 'poly'}\n",
            "0.7446520146520147 (0.048338659594069064) with: {'C': 2.0, 'kernel': 'sigmoid'}\n"
          ]
        }
      ],
      "source": [
        "svc_results = gs_svc.fit(X_train_df, y_train)\n",
        "\n",
        "print(f\"Best score: {svc_results.best_score_}. Used these parameters: {svc_results.best_params_}\")\n",
        "\n",
        "means = svc_results.cv_results_['mean_test_score']\n",
        "stds = svc_results.cv_results_['std_test_score']\n",
        "params = svc_results.cv_results_['params']\n",
        "for mean, stdev, param in zip(means, stds, params):\n",
        "    print(f\"{mean} ({stdev}) with: {param}\")"
      ]
    },
    {
      "cell_type": "markdown",
      "metadata": {
        "id": "gikwEMzMy7eD",
        "outputId": "af8c0188-c23c-4e27-947e-f070ec9b807d"
      },
      "source": [
        "#### Which model performs best in terms of F1 Score?"
      ]
    },
    {
      "cell_type": "markdown",
      "metadata": {
        "id": "Yu0X6wBav6dp"
      },
      "source": [
        "- Logistic Regression Best F1: 71.96%\n",
        "- Gradient Boosting Best F1: 58.95%\n",
        "- SVC Best F1: 75.53%\n",
        "- NN Best F1: 78.07%"
      ]
    },
    {
      "cell_type": "markdown",
      "metadata": {
        "id": "i1m6ZZ5UiKBX"
      },
      "source": [
        "#### What does the F1 Score mean in a few words?"
      ]
    },
    {
      "cell_type": "markdown",
      "metadata": {
        "id": "xEBF6anpz9ta"
      },
      "source": [
        "With help from: https://towardsdatascience.com/the-f1-score-bec2bbc38aa6\n",
        "\n",
        "F1 score is the harmonic mean of precision and recall. This means that it takes an average of precision and recall and accounts for difference in scores from imbalanced datasets in a single metric, where accuracy by itself could be misleading."
      ]
    },
    {
      "cell_type": "markdown",
      "metadata": {
        "id": "qx8eLEhC3fC9"
      },
      "source": [
        "#### Which model would you recommend for use? Why?"
      ]
    },
    {
      "cell_type": "markdown",
      "metadata": {
        "id": "DgDvq3lc3WCd"
      },
      "source": [
        "Given the computational cost of NN models I would recommend using SVC given the F1 score is pretty close but the model is a lot less costly to run."
      ]
    },
    {
      "cell_type": "markdown",
      "metadata": {
        "id": "OB8r5k5j34l4"
      },
      "source": [
        "\n",
        "#### Download your notebook and put it in your submission folder. 🎉"
      ]
    }
  ],
  "metadata": {
    "accelerator": "GPU",
    "colab": {
      "collapsed_sections": [],
      "name": "7.01-lab-nn-classification-starter-andres.ipynb",
      "provenance": [],
      "toc_visible": true
    },
    "kernelspec": {
      "display_name": "Python 3",
      "language": "python",
      "name": "python3"
    },
    "language_info": {
      "codemirror_mode": {
        "name": "ipython",
        "version": 3
      },
      "file_extension": ".py",
      "mimetype": "text/x-python",
      "name": "python",
      "nbconvert_exporter": "python",
      "pygments_lexer": "ipython3",
      "version": "3.9.7"
    }
  },
  "nbformat": 4,
  "nbformat_minor": 0
}