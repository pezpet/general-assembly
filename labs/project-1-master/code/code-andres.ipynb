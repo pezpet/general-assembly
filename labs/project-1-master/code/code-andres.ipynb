{
 "cells": [
  {
   "cell_type": "markdown",
   "metadata": {},
   "source": [
    "<img src=\"http://imgur.com/1ZcRyrc.png\" style=\"float: left; margin: 20px; height: 55px\">\n",
    "\n",
    "# Project 1: Standardized Test Analysis"
   ]
  },
  {
   "cell_type": "markdown",
   "metadata": {},
   "source": [
    "--- \n",
    "# Part 1\n",
    "\n",
    "Part 1 requires knowledge of basic Python.\n",
    "\n",
    "---"
   ]
  },
  {
   "cell_type": "markdown",
   "metadata": {},
   "source": [
    "## Problem Statement"
   ]
  },
  {
   "cell_type": "markdown",
   "metadata": {},
   "source": [
    "SAT and ACT prep for high school students varies widely given different levels of access to materials, tutors and time available for extra studying, among others. We are going to look at county level data for California and seek to answer how much are SAT and ACT scores in California related to median household income levels?"
   ]
  },
  {
   "cell_type": "markdown",
   "metadata": {},
   "source": [
    "### Contents:\n",
    "- [Background](#Background)\n",
    "- [Data Import & Cleaning](#Data-Import-and-Cleaning)\n",
    "- [Exploratory Data Analysis](#Exploratory-Data-Analysis)\n",
    "- [Data Visualization](#Visualize-the-Data)\n",
    "- [Conclusions and Recommendations](#Conclusions-and-Recommendations)"
   ]
  },
  {
   "cell_type": "markdown",
   "metadata": {},
   "source": [
    "## Background"
   ]
  },
  {
   "cell_type": "markdown",
   "metadata": {},
   "source": [
    "The SAT and ACT are standardized tests that many colleges and universities in the United States require for their admissions process. This score is used along with other materials such as grade point average (GPA) and essay responses to determine whether or not a potential student will be accepted to the university.\n",
    "\n",
    "The SAT has two sections of the test: Evidence-Based Reading and Writing and Math ([*source*](https://www.princetonreview.com/college/sat-sections)). The ACT has 4 sections: English, Mathematics, Reading, and Science, with an additional optional writing section ([*source*](https://www.act.org/content/act/en/products-and-services/the-act/scores/understanding-your-scores.html)). They have different score ranges, which you can read more about on their websites or additional outside sources (a quick Google search will help you understand the scores for each test):\n",
    "* [SAT](https://collegereadiness.collegeboard.org/sat)\n",
    "* [ACT](https://www.act.org/content/act/en.html)\n",
    "\n",
    "Standardized tests have long been a controversial topic for students, administrators, and legislators. Since the 1940's, an increasing number of colleges have been using scores from sudents' performances on tests like the SAT and the ACT as a measure for college readiness and aptitude ([*source*](https://www.minotdailynews.com/news/local-news/2017/04/a-brief-history-of-the-sat-and-act/)). Supporters of these tests argue that these scores can be used as an objective measure to determine college admittance. Opponents of these tests claim that these tests are not accurate measures of students potential or ability and serve as an inequitable barrier to entry. Lately, more and more schools are opting to drop the SAT/ACT requirement for their Fall 2021 applications ([*read more about this here*](https://www.cnn.com/2020/04/14/us/coronavirus-colleges-sat-act-test-trnd/index.html))."
   ]
  },
  {
   "cell_type": "markdown",
   "metadata": {},
   "source": [
    "**To-Do:** *Fill out this cell (or edit the above cell) with any other background or information that is necessary for your problem statement.*"
   ]
  },
  {
   "cell_type": "markdown",
   "metadata": {},
   "source": [
    "### Choose your Data\n",
    "\n",
    "There are 10 datasets included in the [`data`](./data/) folder for this project. You are required to pick **at least two** of these to complete your analysis. Feel free to use more than two if you would like, or add other relevant datasets you find online.\n",
    "\n",
    "* [`act_2017.csv`](./data/act_2017.csv): 2017 ACT Scores by State\n",
    "* [`act_2018.csv`](./data/act_2018.csv): 2018 ACT Scores by State\n",
    "* [`act_2019.csv`](./data/act_2019.csv): 2019 ACT Scores by State\n",
    "* [`act_2019_ca.csv`](./data/act_2019_ca.csv): 2019 ACT Scores in California by School\n",
    "* [`sat_2017.csv`](./data/sat_2017.csv): 2017 SAT Scores by State\n",
    "* [`sat_2018.csv`](./data/sat_2018.csv): 2018 SAT Scores by State\n",
    "* [`sat_2019.csv`](./data/sat_2019.csv): 2019 SAT Scores by State\n",
    "* [`sat_2019_by_intended_college_major.csv`](./data/sat_2019_by_intended_college_major.csv): 2019 SAT Scores by Intended College Major\n",
    "* [`sat_2019_ca.csv`](./data/sat_2019_ca.csv): 2019 SAT Scores in California by School\n",
    "* [`sat_act_by_college.csv`](./data/sat_act_by_college.csv): Ranges of Accepted ACT & SAT Student Scores by Colleges"
   ]
  },
  {
   "cell_type": "markdown",
   "metadata": {},
   "source": [
    "For this Project we will be working with the following data:\n",
    "- act_2019_ca.csv: Average ACT scores for schools in California and average scores by county, for the 2019 school year.\n",
    "- sat_2019_ca.csv: Percentage of SAT takers that scored above the state's benchmark in California schools and on average for each county, for the 2019 school year."
   ]
  },
  {
   "cell_type": "markdown",
   "metadata": {},
   "source": [
    "### Outside Research"
   ]
  },
  {
   "cell_type": "markdown",
   "metadata": {},
   "source": [
    "Based on your problem statement and your chosen datasets, spend some time doing outside research on state policies or additional information that might be relevant. Summarize your findings below. If you bring in any outside tables or charts, make sure you are explicit about having borrowed them. If you quote any text, make sure that it renders as being quoted. **Make sure that you cite your sources.**"
   ]
  },
  {
   "cell_type": "markdown",
   "metadata": {},
   "source": [
    "2019 Household Income data for California, segmented by county, has been sourced for this project and appropiately cited bellow."
   ]
  },
  {
   "cell_type": "markdown",
   "metadata": {},
   "source": [
    "### Coding Challenges\n",
    "\n",
    "1. Manually calculate mean:\n",
    "\n",
    "    Write a function that takes in values and returns the mean of the values. Create a list of numbers that you test on your function to check to make sure your function works!\n",
    "    \n",
    "    *Note*: Do not use any mean methods built-in to any Python libraries to do this! This should be done without importing any additional libraries."
   ]
  },
  {
   "cell_type": "markdown",
   "metadata": {},
   "source": [
    "I have used the Python Docstring convention detailed here: https://www.python.org/dev/peps/pep-0257/"
   ]
  },
  {
   "cell_type": "code",
   "execution_count": 186,
   "metadata": {},
   "outputs": [
    {
     "data": {
      "text/plain": [
       "443.75"
      ]
     },
     "execution_count": 186,
     "metadata": {},
     "output_type": "execute_result"
    }
   ],
   "source": [
    "# Define a function that calculates the mean from a list of numbers\n",
    "def mean_function(numbers_list):\n",
    "    \"\"\"Calculate the mean from a list of numbers.\n",
    "\n",
    "    Keyword arguments:\n",
    "    numbers_list -- A list of integers and/or floats\n",
    "    \"\"\"\n",
    "    result = sum(numbers_list) / len(numbers_list)\n",
    "    return result\n",
    "\n",
    "numbers = [656, 343, 453, 323]\n",
    "\n",
    "mean_function(numbers)"
   ]
  },
  {
   "cell_type": "markdown",
   "metadata": {},
   "source": [
    "2. Manually calculate standard deviation:\n",
    "\n",
    "    The formula for standard deviation is below:\n",
    "\n",
    "    $$\\sigma = \\sqrt{\\frac{1}{n}\\sum_{i=1}^n(x_i - \\mu)^2}$$\n",
    "\n",
    "    Where $x_i$ represents each value in the dataset, $\\mu$ represents the mean of all values in the dataset and $n$ represents the number of values in the dataset.\n",
    "\n",
    "    Write a function that takes in values and returns the standard deviation of the values using the formula above. Hint: use the function you wrote above to calculate the mean! Use the list of numbers you created above to test on your function.\n",
    "    \n",
    "    *Note*: Do not use any standard deviation methods built-in to any Python libraries to do this! This should be done without importing any additional libraries."
   ]
  },
  {
   "cell_type": "code",
   "execution_count": 187,
   "metadata": {},
   "outputs": [],
   "source": [
    "# Define a function that calculates the standard deviation from a list of numbers\n",
    "def standard_deviation(numbers_list):\n",
    "    \"\"\"Calculate the standard deviation of a list of numbers.\n",
    "\n",
    "    Keyword arguments:\n",
    "    numbers_list -- A list of integers and/or floats\n",
    "    \"\"\"\n",
    "    numbers_mean = mean_function(numbers_list)\n",
    "    variances = 0.0\n",
    "    for number in numbers_list:\n",
    "        variances += ((number - numbers_mean)**2)\n",
    "    return ((variances/len(numbers_list))**.5)"
   ]
  },
  {
   "cell_type": "code",
   "execution_count": 188,
   "metadata": {},
   "outputs": [
    {
     "data": {
      "text/plain": [
       "132.16159616166868"
      ]
     },
     "execution_count": 188,
     "metadata": {},
     "output_type": "execute_result"
    }
   ],
   "source": [
    "standard_deviation(numbers)"
   ]
  },
  {
   "cell_type": "markdown",
   "metadata": {},
   "source": [
    "3. Data cleaning function:\n",
    "    \n",
    "    Write a function that takes in a string that is a number and a percent symbol (ex. '50%', '30.5%', etc.) and converts this to a float that is the decimal approximation of the percent. For example, inputting '50%' in your function should return 0.5, '30.5%' should return 0.305, etc. Make sure to test your function to make sure it works!\n",
    "\n",
    "You will use these functions later on in the project!"
   ]
  },
  {
   "cell_type": "code",
   "execution_count": 189,
   "metadata": {},
   "outputs": [
    {
     "data": {
      "text/plain": [
       "'50.5'"
      ]
     },
     "execution_count": 189,
     "metadata": {},
     "output_type": "execute_result"
    }
   ],
   "source": [
    "string = '50.5%'\n",
    "string[:-1]"
   ]
  },
  {
   "cell_type": "code",
   "execution_count": 190,
   "metadata": {},
   "outputs": [],
   "source": [
    "# Define a function that converts a percentage formatted as a string into a decimal float\n",
    "def string_to_decimal(string):\n",
    "    \"\"\"Convert a percentage formatted as a string into a decimal.\n",
    "\n",
    "    Keyword arguments:\n",
    "    string -- A string XX.X% where X are integers\n",
    "    \"\"\"\n",
    "    number = float(string[:-1])/100\n",
    "    return number"
   ]
  },
  {
   "cell_type": "code",
   "execution_count": 191,
   "metadata": {},
   "outputs": [
    {
     "data": {
      "text/plain": [
       "0.505"
      ]
     },
     "execution_count": 191,
     "metadata": {},
     "output_type": "execute_result"
    }
   ],
   "source": [
    "string_to_decimal('50.5%')"
   ]
  },
  {
   "cell_type": "markdown",
   "metadata": {},
   "source": [
    "--- \n",
    "# Part 2\n",
    "\n",
    "Part 2 requires knowledge of Pandas, EDA, data cleaning, and data visualization.\n",
    "\n",
    "---"
   ]
  },
  {
   "cell_type": "markdown",
   "metadata": {},
   "source": [
    "*All libraries used should be added here*"
   ]
  },
  {
   "cell_type": "code",
   "execution_count": 192,
   "metadata": {},
   "outputs": [],
   "source": [
    "# Imports:\n",
    "import pandas as pd\n",
    "import numpy as np\n",
    "import matplotlib.pyplot as plt\n",
    "import seaborn as sns"
   ]
  },
  {
   "cell_type": "markdown",
   "metadata": {},
   "source": [
    "## Data Import and Cleaning"
   ]
  },
  {
   "cell_type": "markdown",
   "metadata": {},
   "source": [
    "### Data Import & Cleaning\n",
    "\n",
    "Import the datasets that you selected for this project and go through the following steps at a minimum. You are welcome to do further cleaning as you feel necessary:\n",
    "1. Display the data: print the first 5 rows of each dataframe to your Jupyter notebook.\n",
    "2. Check for missing values.\n",
    "3. Check for any obvious issues with the observations (keep in mind the minimum & maximum possible values for each test/subtest).\n",
    "4. Fix any errors you identified in steps 2-3.\n",
    "5. Display the data types of each feature.\n",
    "6. Fix any incorrect data types found in step 5.\n",
    "    - Fix any individual values preventing other columns from being the appropriate type.\n",
    "    - If your dataset has a column of percents (ex. '50%', '30.5%', etc.), use the function you wrote in Part 1 (coding challenges, number 3) to convert this to floats! *Hint*: use `.map()` or `.apply()`.\n",
    "7. Rename Columns.\n",
    "    - Column names should be all lowercase.\n",
    "    - Column names should not contain spaces (underscores will suffice--this allows for using the `df.column_name` method to access columns in addition to `df['column_name']`).\n",
    "    - Column names should be unique and informative.\n",
    "8. Drop unnecessary rows (if needed).\n",
    "9. Merge dataframes that can be merged.\n",
    "10. Perform any additional cleaning that you feel is necessary.\n",
    "11. Save your cleaned and merged dataframes as csv files."
   ]
  },
  {
   "cell_type": "markdown",
   "metadata": {},
   "source": [
    "### 2019 ACT and SAT scores in California by school"
   ]
  },
  {
   "cell_type": "markdown",
   "metadata": {},
   "source": [
    "Import the data."
   ]
  },
  {
   "cell_type": "code",
   "execution_count": 193,
   "metadata": {},
   "outputs": [],
   "source": [
    "# Import SAT and ACT by school in CA data into individual data frames\n",
    "ca_sat = pd.read_csv('../data/sat_2019_ca.csv')\n",
    "ca_act = pd.read_csv('../data/act_2019_ca.csv')"
   ]
  },
  {
   "cell_type": "code",
   "execution_count": 194,
   "metadata": {},
   "outputs": [
    {
     "data": {
      "text/html": [
       "<div>\n",
       "<style scoped>\n",
       "    .dataframe tbody tr th:only-of-type {\n",
       "        vertical-align: middle;\n",
       "    }\n",
       "\n",
       "    .dataframe tbody tr th {\n",
       "        vertical-align: top;\n",
       "    }\n",
       "\n",
       "    .dataframe thead th {\n",
       "        text-align: right;\n",
       "    }\n",
       "</style>\n",
       "<table border=\"1\" class=\"dataframe\">\n",
       "  <thead>\n",
       "    <tr style=\"text-align: right;\">\n",
       "      <th></th>\n",
       "      <th>CDS</th>\n",
       "      <th>CCode</th>\n",
       "      <th>CDCode</th>\n",
       "      <th>SCode</th>\n",
       "      <th>RType</th>\n",
       "      <th>SName</th>\n",
       "      <th>DName</th>\n",
       "      <th>CName</th>\n",
       "      <th>Enroll12</th>\n",
       "      <th>NumTSTTakr12</th>\n",
       "      <th>...</th>\n",
       "      <th>NumERWBenchmark11</th>\n",
       "      <th>PctERWBenchmark11</th>\n",
       "      <th>NumMathBenchmark11</th>\n",
       "      <th>PctMathBenchmark11</th>\n",
       "      <th>TotNumBothBenchmark12</th>\n",
       "      <th>PctBothBenchmark12</th>\n",
       "      <th>TotNumBothBenchmark11</th>\n",
       "      <th>PctBothBenchmark11</th>\n",
       "      <th>Year</th>\n",
       "      <th>Unnamed: 25</th>\n",
       "    </tr>\n",
       "  </thead>\n",
       "  <tbody>\n",
       "    <tr>\n",
       "      <th>0</th>\n",
       "      <td>6.615981e+12</td>\n",
       "      <td>6.0</td>\n",
       "      <td>661598.0</td>\n",
       "      <td>630046.0</td>\n",
       "      <td>S</td>\n",
       "      <td>Colusa Alternative Home</td>\n",
       "      <td>Colusa Unified</td>\n",
       "      <td>Colusa</td>\n",
       "      <td>18.0</td>\n",
       "      <td>0.0</td>\n",
       "      <td>...</td>\n",
       "      <td>NaN</td>\n",
       "      <td>NaN</td>\n",
       "      <td>NaN</td>\n",
       "      <td>NaN</td>\n",
       "      <td>NaN</td>\n",
       "      <td>NaN</td>\n",
       "      <td>NaN</td>\n",
       "      <td>NaN</td>\n",
       "      <td>2018-19</td>\n",
       "      <td>NaN</td>\n",
       "    </tr>\n",
       "    <tr>\n",
       "      <th>1</th>\n",
       "      <td>6.616061e+12</td>\n",
       "      <td>6.0</td>\n",
       "      <td>661606.0</td>\n",
       "      <td>634758.0</td>\n",
       "      <td>S</td>\n",
       "      <td>Maxwell Sr High</td>\n",
       "      <td>Maxwell Unified</td>\n",
       "      <td>Colusa</td>\n",
       "      <td>29.0</td>\n",
       "      <td>10.0</td>\n",
       "      <td>...</td>\n",
       "      <td>*</td>\n",
       "      <td>*</td>\n",
       "      <td>*</td>\n",
       "      <td>*</td>\n",
       "      <td>*</td>\n",
       "      <td>*</td>\n",
       "      <td>*</td>\n",
       "      <td>*</td>\n",
       "      <td>2018-19</td>\n",
       "      <td>NaN</td>\n",
       "    </tr>\n",
       "    <tr>\n",
       "      <th>2</th>\n",
       "      <td>1.964733e+13</td>\n",
       "      <td>19.0</td>\n",
       "      <td>1964733.0</td>\n",
       "      <td>1930924.0</td>\n",
       "      <td>S</td>\n",
       "      <td>Belmont Senior High</td>\n",
       "      <td>Los Angeles Unified</td>\n",
       "      <td>Los Angeles</td>\n",
       "      <td>206.0</td>\n",
       "      <td>102.0</td>\n",
       "      <td>...</td>\n",
       "      <td>42</td>\n",
       "      <td>24.14</td>\n",
       "      <td>12</td>\n",
       "      <td>6.90</td>\n",
       "      <td>14</td>\n",
       "      <td>13.73</td>\n",
       "      <td>11</td>\n",
       "      <td>6.32</td>\n",
       "      <td>2018-19</td>\n",
       "      <td>NaN</td>\n",
       "    </tr>\n",
       "    <tr>\n",
       "      <th>3</th>\n",
       "      <td>1.964733e+13</td>\n",
       "      <td>19.0</td>\n",
       "      <td>1964733.0</td>\n",
       "      <td>1931476.0</td>\n",
       "      <td>S</td>\n",
       "      <td>Canoga Park Senior High</td>\n",
       "      <td>Los Angeles Unified</td>\n",
       "      <td>Los Angeles</td>\n",
       "      <td>227.0</td>\n",
       "      <td>113.0</td>\n",
       "      <td>...</td>\n",
       "      <td>97</td>\n",
       "      <td>35.27</td>\n",
       "      <td>37</td>\n",
       "      <td>13.45</td>\n",
       "      <td>18</td>\n",
       "      <td>15.93</td>\n",
       "      <td>35</td>\n",
       "      <td>12.73</td>\n",
       "      <td>2018-19</td>\n",
       "      <td>NaN</td>\n",
       "    </tr>\n",
       "    <tr>\n",
       "      <th>4</th>\n",
       "      <td>1.964733e+13</td>\n",
       "      <td>19.0</td>\n",
       "      <td>1964733.0</td>\n",
       "      <td>1931856.0</td>\n",
       "      <td>S</td>\n",
       "      <td>Whitman Continuation</td>\n",
       "      <td>Los Angeles Unified</td>\n",
       "      <td>Los Angeles</td>\n",
       "      <td>18.0</td>\n",
       "      <td>14.0</td>\n",
       "      <td>...</td>\n",
       "      <td>*</td>\n",
       "      <td>*</td>\n",
       "      <td>*</td>\n",
       "      <td>*</td>\n",
       "      <td>*</td>\n",
       "      <td>*</td>\n",
       "      <td>*</td>\n",
       "      <td>*</td>\n",
       "      <td>2018-19</td>\n",
       "      <td>NaN</td>\n",
       "    </tr>\n",
       "  </tbody>\n",
       "</table>\n",
       "<p>5 rows × 26 columns</p>\n",
       "</div>"
      ],
      "text/plain": [
       "            CDS  CCode     CDCode      SCode RType                    SName  \\\n",
       "0  6.615981e+12    6.0   661598.0   630046.0     S  Colusa Alternative Home   \n",
       "1  6.616061e+12    6.0   661606.0   634758.0     S          Maxwell Sr High   \n",
       "2  1.964733e+13   19.0  1964733.0  1930924.0     S      Belmont Senior High   \n",
       "3  1.964733e+13   19.0  1964733.0  1931476.0     S  Canoga Park Senior High   \n",
       "4  1.964733e+13   19.0  1964733.0  1931856.0     S     Whitman Continuation   \n",
       "\n",
       "                 DName        CName  Enroll12  NumTSTTakr12  ...  \\\n",
       "0       Colusa Unified       Colusa      18.0           0.0  ...   \n",
       "1      Maxwell Unified       Colusa      29.0          10.0  ...   \n",
       "2  Los Angeles Unified  Los Angeles     206.0         102.0  ...   \n",
       "3  Los Angeles Unified  Los Angeles     227.0         113.0  ...   \n",
       "4  Los Angeles Unified  Los Angeles      18.0          14.0  ...   \n",
       "\n",
       "  NumERWBenchmark11 PctERWBenchmark11 NumMathBenchmark11 PctMathBenchmark11  \\\n",
       "0               NaN               NaN                NaN                NaN   \n",
       "1                 *                 *                  *                  *   \n",
       "2                42             24.14                 12               6.90   \n",
       "3                97             35.27                 37              13.45   \n",
       "4                 *                 *                  *                  *   \n",
       "\n",
       "   TotNumBothBenchmark12  PctBothBenchmark12 TotNumBothBenchmark11  \\\n",
       "0                    NaN                 NaN                   NaN   \n",
       "1                      *                   *                     *   \n",
       "2                     14               13.73                    11   \n",
       "3                     18               15.93                    35   \n",
       "4                      *                   *                     *   \n",
       "\n",
       "  PctBothBenchmark11     Year Unnamed: 25  \n",
       "0                NaN  2018-19         NaN  \n",
       "1                  *  2018-19         NaN  \n",
       "2               6.32  2018-19         NaN  \n",
       "3              12.73  2018-19         NaN  \n",
       "4                  *  2018-19         NaN  \n",
       "\n",
       "[5 rows x 26 columns]"
      ]
     },
     "execution_count": 194,
     "metadata": {},
     "output_type": "execute_result"
    }
   ],
   "source": [
    "# Check first five rows using .head()\n",
    "ca_sat.head()"
   ]
  },
  {
   "cell_type": "markdown",
   "metadata": {},
   "source": [
    "First impression is that only PctBothBenchmark... columns should be kept, along with RType (to mask later for county records only) and CName to merge with other DataFrames on County."
   ]
  },
  {
   "cell_type": "code",
   "execution_count": 195,
   "metadata": {},
   "outputs": [
    {
     "data": {
      "text/html": [
       "<div>\n",
       "<style scoped>\n",
       "    .dataframe tbody tr th:only-of-type {\n",
       "        vertical-align: middle;\n",
       "    }\n",
       "\n",
       "    .dataframe tbody tr th {\n",
       "        vertical-align: top;\n",
       "    }\n",
       "\n",
       "    .dataframe thead th {\n",
       "        text-align: right;\n",
       "    }\n",
       "</style>\n",
       "<table border=\"1\" class=\"dataframe\">\n",
       "  <thead>\n",
       "    <tr style=\"text-align: right;\">\n",
       "      <th></th>\n",
       "      <th>CDS</th>\n",
       "      <th>CCode</th>\n",
       "      <th>CDCode</th>\n",
       "      <th>SCode</th>\n",
       "      <th>RType</th>\n",
       "      <th>SName</th>\n",
       "      <th>DName</th>\n",
       "      <th>CName</th>\n",
       "      <th>Enroll12</th>\n",
       "      <th>NumTstTakr</th>\n",
       "      <th>AvgScrRead</th>\n",
       "      <th>AvgScrEng</th>\n",
       "      <th>AvgScrMath</th>\n",
       "      <th>AvgScrSci</th>\n",
       "      <th>NumGE21</th>\n",
       "      <th>PctGE21</th>\n",
       "      <th>Year</th>\n",
       "      <th>Unnamed: 17</th>\n",
       "    </tr>\n",
       "  </thead>\n",
       "  <tbody>\n",
       "    <tr>\n",
       "      <th>0</th>\n",
       "      <td>3.366993e+13</td>\n",
       "      <td>33.0</td>\n",
       "      <td>3366993.0</td>\n",
       "      <td>129882.0</td>\n",
       "      <td>S</td>\n",
       "      <td>21st Century Learning Institute</td>\n",
       "      <td>Beaumont Unified</td>\n",
       "      <td>Riverside</td>\n",
       "      <td>18.0</td>\n",
       "      <td>0.0</td>\n",
       "      <td>NaN</td>\n",
       "      <td>NaN</td>\n",
       "      <td>NaN</td>\n",
       "      <td>NaN</td>\n",
       "      <td>NaN</td>\n",
       "      <td>NaN</td>\n",
       "      <td>2018-19</td>\n",
       "      <td>NaN</td>\n",
       "    </tr>\n",
       "    <tr>\n",
       "      <th>1</th>\n",
       "      <td>1.964212e+13</td>\n",
       "      <td>19.0</td>\n",
       "      <td>1964212.0</td>\n",
       "      <td>1995596.0</td>\n",
       "      <td>S</td>\n",
       "      <td>ABC Secondary (Alternative)</td>\n",
       "      <td>ABC Unified</td>\n",
       "      <td>Los Angeles</td>\n",
       "      <td>58.0</td>\n",
       "      <td>0.0</td>\n",
       "      <td>NaN</td>\n",
       "      <td>NaN</td>\n",
       "      <td>NaN</td>\n",
       "      <td>NaN</td>\n",
       "      <td>NaN</td>\n",
       "      <td>NaN</td>\n",
       "      <td>2018-19</td>\n",
       "      <td>NaN</td>\n",
       "    </tr>\n",
       "    <tr>\n",
       "      <th>2</th>\n",
       "      <td>1.563776e+13</td>\n",
       "      <td>15.0</td>\n",
       "      <td>1563776.0</td>\n",
       "      <td>1530377.0</td>\n",
       "      <td>S</td>\n",
       "      <td>Abraham Lincoln Alternative</td>\n",
       "      <td>Southern Kern Unified</td>\n",
       "      <td>Kern</td>\n",
       "      <td>18.0</td>\n",
       "      <td>0.0</td>\n",
       "      <td>NaN</td>\n",
       "      <td>NaN</td>\n",
       "      <td>NaN</td>\n",
       "      <td>NaN</td>\n",
       "      <td>NaN</td>\n",
       "      <td>NaN</td>\n",
       "      <td>2018-19</td>\n",
       "      <td>NaN</td>\n",
       "    </tr>\n",
       "    <tr>\n",
       "      <th>3</th>\n",
       "      <td>4.369666e+13</td>\n",
       "      <td>43.0</td>\n",
       "      <td>4369666.0</td>\n",
       "      <td>4333795.0</td>\n",
       "      <td>S</td>\n",
       "      <td>Abraham Lincoln High</td>\n",
       "      <td>San Jose Unified</td>\n",
       "      <td>Santa Clara</td>\n",
       "      <td>463.0</td>\n",
       "      <td>53.0</td>\n",
       "      <td>23</td>\n",
       "      <td>22</td>\n",
       "      <td>22</td>\n",
       "      <td>23</td>\n",
       "      <td>34</td>\n",
       "      <td>64.15</td>\n",
       "      <td>2018-19</td>\n",
       "      <td>NaN</td>\n",
       "    </tr>\n",
       "    <tr>\n",
       "      <th>4</th>\n",
       "      <td>1.964733e+13</td>\n",
       "      <td>19.0</td>\n",
       "      <td>1964733.0</td>\n",
       "      <td>1935121.0</td>\n",
       "      <td>S</td>\n",
       "      <td>Abraham Lincoln Senior High</td>\n",
       "      <td>Los Angeles Unified</td>\n",
       "      <td>Los Angeles</td>\n",
       "      <td>226.0</td>\n",
       "      <td>19.0</td>\n",
       "      <td>21</td>\n",
       "      <td>20</td>\n",
       "      <td>23</td>\n",
       "      <td>22</td>\n",
       "      <td>11</td>\n",
       "      <td>57.89</td>\n",
       "      <td>2018-19</td>\n",
       "      <td>NaN</td>\n",
       "    </tr>\n",
       "  </tbody>\n",
       "</table>\n",
       "</div>"
      ],
      "text/plain": [
       "            CDS  CCode     CDCode      SCode RType  \\\n",
       "0  3.366993e+13   33.0  3366993.0   129882.0     S   \n",
       "1  1.964212e+13   19.0  1964212.0  1995596.0     S   \n",
       "2  1.563776e+13   15.0  1563776.0  1530377.0     S   \n",
       "3  4.369666e+13   43.0  4369666.0  4333795.0     S   \n",
       "4  1.964733e+13   19.0  1964733.0  1935121.0     S   \n",
       "\n",
       "                             SName                  DName        CName  \\\n",
       "0  21st Century Learning Institute       Beaumont Unified    Riverside   \n",
       "1      ABC Secondary (Alternative)            ABC Unified  Los Angeles   \n",
       "2      Abraham Lincoln Alternative  Southern Kern Unified         Kern   \n",
       "3             Abraham Lincoln High       San Jose Unified  Santa Clara   \n",
       "4      Abraham Lincoln Senior High    Los Angeles Unified  Los Angeles   \n",
       "\n",
       "   Enroll12  NumTstTakr AvgScrRead AvgScrEng AvgScrMath AvgScrSci NumGE21  \\\n",
       "0      18.0         0.0        NaN       NaN        NaN       NaN     NaN   \n",
       "1      58.0         0.0        NaN       NaN        NaN       NaN     NaN   \n",
       "2      18.0         0.0        NaN       NaN        NaN       NaN     NaN   \n",
       "3     463.0        53.0         23        22         22        23      34   \n",
       "4     226.0        19.0         21        20         23        22      11   \n",
       "\n",
       "  PctGE21     Year  Unnamed: 17  \n",
       "0     NaN  2018-19          NaN  \n",
       "1     NaN  2018-19          NaN  \n",
       "2     NaN  2018-19          NaN  \n",
       "3   64.15  2018-19          NaN  \n",
       "4   57.89  2018-19          NaN  "
      ]
     },
     "execution_count": 195,
     "metadata": {},
     "output_type": "execute_result"
    }
   ],
   "source": [
    "# Check first five rows using .head()\n",
    "ca_act.head()"
   ]
  },
  {
   "cell_type": "markdown",
   "metadata": {},
   "source": [
    "For ACT similar cleaning will be applied. Keep RType, CName and avrscr... columns."
   ]
  },
  {
   "cell_type": "markdown",
   "metadata": {},
   "source": [
    "### SAT Cleanup"
   ]
  },
  {
   "cell_type": "code",
   "execution_count": 126,
   "metadata": {},
   "outputs": [
    {
     "data": {
      "text/plain": [
       "Index(['CDS', 'CCode', 'CDCode', 'SCode', 'RType', 'SName', 'DName', 'CName',\n",
       "       'Enroll12', 'NumTSTTakr12', 'NumERWBenchmark12', 'PctERWBenchmark12',\n",
       "       'NumMathBenchmark12', 'PctMathBenchmark12', 'Enroll11', 'NumTSTTakr11',\n",
       "       'NumERWBenchmark11', 'PctERWBenchmark11', 'NumMathBenchmark11',\n",
       "       'PctMathBenchmark11', 'TotNumBothBenchmark12', 'PctBothBenchmark12',\n",
       "       'TotNumBothBenchmark11', 'PctBothBenchmark11', 'Year', 'Unnamed: 25'],\n",
       "      dtype='object')"
      ]
     },
     "execution_count": 126,
     "metadata": {},
     "output_type": "execute_result"
    }
   ],
   "source": [
    "# List DF columns so I can copy+paste them into the .drop() method later\n",
    "ca_sat.columns"
   ]
  },
  {
   "cell_type": "code",
   "execution_count": 127,
   "metadata": {},
   "outputs": [],
   "source": [
    "# Drop all unnecessary columns, will keep only RType, CName and PctBoth...\n",
    "ca_sat.drop(columns=['CDS', 'CCode', 'CDCode', 'SCode', 'SName', 'DName',\n",
    "       'Enroll12', 'NumTSTTakr12', 'NumERWBenchmark12', 'PctERWBenchmark12',\n",
    "       'NumMathBenchmark12', 'PctMathBenchmark12', 'Enroll11', 'NumTSTTakr11',\n",
    "       'NumERWBenchmark11', 'PctERWBenchmark11', 'NumMathBenchmark11',\n",
    "       'PctMathBenchmark11', 'TotNumBothBenchmark12', 'TotNumBothBenchmark11', 'Year', 'Unnamed: 25'], inplace=True)"
   ]
  },
  {
   "cell_type": "code",
   "execution_count": 128,
   "metadata": {},
   "outputs": [
    {
     "data": {
      "text/html": [
       "<div>\n",
       "<style scoped>\n",
       "    .dataframe tbody tr th:only-of-type {\n",
       "        vertical-align: middle;\n",
       "    }\n",
       "\n",
       "    .dataframe tbody tr th {\n",
       "        vertical-align: top;\n",
       "    }\n",
       "\n",
       "    .dataframe thead th {\n",
       "        text-align: right;\n",
       "    }\n",
       "</style>\n",
       "<table border=\"1\" class=\"dataframe\">\n",
       "  <thead>\n",
       "    <tr style=\"text-align: right;\">\n",
       "      <th></th>\n",
       "      <th>RType</th>\n",
       "      <th>CName</th>\n",
       "      <th>PctBothBenchmark12</th>\n",
       "      <th>PctBothBenchmark11</th>\n",
       "    </tr>\n",
       "  </thead>\n",
       "  <tbody>\n",
       "    <tr>\n",
       "      <th>1981</th>\n",
       "      <td>C</td>\n",
       "      <td>El Dorado</td>\n",
       "      <td>73.18</td>\n",
       "      <td>86.82</td>\n",
       "    </tr>\n",
       "    <tr>\n",
       "      <th>1982</th>\n",
       "      <td>C</td>\n",
       "      <td>Los Angeles</td>\n",
       "      <td>38.12</td>\n",
       "      <td>36.03</td>\n",
       "    </tr>\n",
       "    <tr>\n",
       "      <th>1983</th>\n",
       "      <td>C</td>\n",
       "      <td>Madera</td>\n",
       "      <td>28.73</td>\n",
       "      <td>22.71</td>\n",
       "    </tr>\n",
       "    <tr>\n",
       "      <th>1984</th>\n",
       "      <td>C</td>\n",
       "      <td>Yolo</td>\n",
       "      <td>58.37</td>\n",
       "      <td>74.06</td>\n",
       "    </tr>\n",
       "    <tr>\n",
       "      <th>1985</th>\n",
       "      <td>C</td>\n",
       "      <td>Kern</td>\n",
       "      <td>35.96</td>\n",
       "      <td>52.13</td>\n",
       "    </tr>\n",
       "  </tbody>\n",
       "</table>\n",
       "</div>"
      ],
      "text/plain": [
       "     RType        CName PctBothBenchmark12 PctBothBenchmark11\n",
       "1981     C    El Dorado              73.18              86.82\n",
       "1982     C  Los Angeles              38.12              36.03\n",
       "1983     C       Madera              28.73              22.71\n",
       "1984     C         Yolo              58.37              74.06\n",
       "1985     C         Kern              35.96              52.13"
      ]
     },
     "execution_count": 128,
     "metadata": {},
     "output_type": "execute_result"
    }
   ],
   "source": [
    "# Keep only county level records by reassigning ca_sat to only rows where RType == 'C'\n",
    "ca_sat = ca_sat[ca_sat['RType'] == 'C']\n",
    "ca_sat.head()"
   ]
  },
  {
   "cell_type": "code",
   "execution_count": 129,
   "metadata": {},
   "outputs": [],
   "source": [
    "# Drop RType column as it is no longer necessary\n",
    "ca_sat.drop(columns=['RType'], inplace=True)"
   ]
  },
  {
   "cell_type": "code",
   "execution_count": 130,
   "metadata": {},
   "outputs": [
    {
     "data": {
      "text/plain": [
       "CName                 0\n",
       "PctBothBenchmark12    1\n",
       "PctBothBenchmark11    1\n",
       "dtype: int64"
      ]
     },
     "execution_count": 130,
     "metadata": {},
     "output_type": "execute_result"
    }
   ],
   "source": [
    "# Check for missing values in the data\n",
    "ca_sat.isna().sum()"
   ]
  },
  {
   "cell_type": "code",
   "execution_count": 131,
   "metadata": {},
   "outputs": [
    {
     "data": {
      "text/html": [
       "<div>\n",
       "<style scoped>\n",
       "    .dataframe tbody tr th:only-of-type {\n",
       "        vertical-align: middle;\n",
       "    }\n",
       "\n",
       "    .dataframe tbody tr th {\n",
       "        vertical-align: top;\n",
       "    }\n",
       "\n",
       "    .dataframe thead th {\n",
       "        text-align: right;\n",
       "    }\n",
       "</style>\n",
       "<table border=\"1\" class=\"dataframe\">\n",
       "  <thead>\n",
       "    <tr style=\"text-align: right;\">\n",
       "      <th></th>\n",
       "      <th>CName</th>\n",
       "      <th>PctBothBenchmark12</th>\n",
       "      <th>PctBothBenchmark11</th>\n",
       "    </tr>\n",
       "  </thead>\n",
       "  <tbody>\n",
       "    <tr>\n",
       "      <th>2012</th>\n",
       "      <td>Alpine</td>\n",
       "      <td>NaN</td>\n",
       "      <td>NaN</td>\n",
       "    </tr>\n",
       "  </tbody>\n",
       "</table>\n",
       "</div>"
      ],
      "text/plain": [
       "       CName PctBothBenchmark12 PctBothBenchmark11\n",
       "2012  Alpine                NaN                NaN"
      ]
     },
     "execution_count": 131,
     "metadata": {},
     "output_type": "execute_result"
    }
   ],
   "source": [
    "# Check which county has NaN\n",
    "ca_sat[ca_sat['PctBothBenchmark12'].isna()]"
   ]
  },
  {
   "cell_type": "code",
   "execution_count": 132,
   "metadata": {},
   "outputs": [
    {
     "data": {
      "text/html": [
       "<div>\n",
       "<style scoped>\n",
       "    .dataframe tbody tr th:only-of-type {\n",
       "        vertical-align: middle;\n",
       "    }\n",
       "\n",
       "    .dataframe tbody tr th {\n",
       "        vertical-align: top;\n",
       "    }\n",
       "\n",
       "    .dataframe thead th {\n",
       "        text-align: right;\n",
       "    }\n",
       "</style>\n",
       "<table border=\"1\" class=\"dataframe\">\n",
       "  <thead>\n",
       "    <tr style=\"text-align: right;\">\n",
       "      <th></th>\n",
       "      <th>CName</th>\n",
       "      <th>PctBothBenchmark12</th>\n",
       "      <th>PctBothBenchmark11</th>\n",
       "    </tr>\n",
       "  </thead>\n",
       "  <tbody>\n",
       "    <tr>\n",
       "      <th>2012</th>\n",
       "      <td>Alpine</td>\n",
       "      <td>NaN</td>\n",
       "      <td>NaN</td>\n",
       "    </tr>\n",
       "  </tbody>\n",
       "</table>\n",
       "</div>"
      ],
      "text/plain": [
       "       CName PctBothBenchmark12 PctBothBenchmark11\n",
       "2012  Alpine                NaN                NaN"
      ]
     },
     "execution_count": 132,
     "metadata": {},
     "output_type": "execute_result"
    }
   ],
   "source": [
    "# Check which county has NaN\n",
    "ca_sat[ca_sat['PctBothBenchmark11'].isna()]"
   ]
  },
  {
   "cell_type": "markdown",
   "metadata": {},
   "source": [
    "The data has at least one NaN and one *. The relevant data dictionary mentions * is used for locations with few test takers to preserve anonimity. These records will not be useful for us and must be removed."
   ]
  },
  {
   "cell_type": "code",
   "execution_count": 133,
   "metadata": {},
   "outputs": [],
   "source": [
    "# According to Data Dictionary, some scores are censored as '*'. This code replaces them with NaN and then drops all NaNs.\n",
    "ca_sat.replace('*', np.nan, inplace=True)\n",
    "ca_sat.dropna(inplace=True)"
   ]
  },
  {
   "cell_type": "code",
   "execution_count": 134,
   "metadata": {},
   "outputs": [],
   "source": [
    "# Rename columns to snake_case using inplace=True to keep changes in DF\n",
    "ca_sat.rename(columns={\n",
    "    'CName': 'county',\n",
    "    'PctBothBenchmark12': 'sat_pct_12',\n",
    "    'PctBothBenchmark11': 'sat_pct_11',\n",
    "}, inplace=True)"
   ]
  },
  {
   "cell_type": "code",
   "execution_count": 135,
   "metadata": {},
   "outputs": [
    {
     "data": {
      "text/html": [
       "<div>\n",
       "<style scoped>\n",
       "    .dataframe tbody tr th:only-of-type {\n",
       "        vertical-align: middle;\n",
       "    }\n",
       "\n",
       "    .dataframe tbody tr th {\n",
       "        vertical-align: top;\n",
       "    }\n",
       "\n",
       "    .dataframe thead th {\n",
       "        text-align: right;\n",
       "    }\n",
       "</style>\n",
       "<table border=\"1\" class=\"dataframe\">\n",
       "  <thead>\n",
       "    <tr style=\"text-align: right;\">\n",
       "      <th></th>\n",
       "      <th>county</th>\n",
       "      <th>sat_pct_12</th>\n",
       "      <th>sat_pct_11</th>\n",
       "    </tr>\n",
       "  </thead>\n",
       "  <tbody>\n",
       "    <tr>\n",
       "      <th>1981</th>\n",
       "      <td>El Dorado</td>\n",
       "      <td>73.18</td>\n",
       "      <td>86.82</td>\n",
       "    </tr>\n",
       "    <tr>\n",
       "      <th>1982</th>\n",
       "      <td>Los Angeles</td>\n",
       "      <td>38.12</td>\n",
       "      <td>36.03</td>\n",
       "    </tr>\n",
       "    <tr>\n",
       "      <th>1983</th>\n",
       "      <td>Madera</td>\n",
       "      <td>28.73</td>\n",
       "      <td>22.71</td>\n",
       "    </tr>\n",
       "    <tr>\n",
       "      <th>1984</th>\n",
       "      <td>Yolo</td>\n",
       "      <td>58.37</td>\n",
       "      <td>74.06</td>\n",
       "    </tr>\n",
       "    <tr>\n",
       "      <th>1985</th>\n",
       "      <td>Kern</td>\n",
       "      <td>35.96</td>\n",
       "      <td>52.13</td>\n",
       "    </tr>\n",
       "  </tbody>\n",
       "</table>\n",
       "</div>"
      ],
      "text/plain": [
       "           county sat_pct_12 sat_pct_11\n",
       "1981    El Dorado      73.18      86.82\n",
       "1982  Los Angeles      38.12      36.03\n",
       "1983       Madera      28.73      22.71\n",
       "1984         Yolo      58.37      74.06\n",
       "1985         Kern      35.96      52.13"
      ]
     },
     "execution_count": 135,
     "metadata": {},
     "output_type": "execute_result"
    }
   ],
   "source": [
    "# Check for consistency\n",
    "ca_sat.head()"
   ]
  },
  {
   "cell_type": "code",
   "execution_count": 136,
   "metadata": {},
   "outputs": [],
   "source": [
    "# Convert string percentages to decimal floats\n",
    "ca_sat['sat_pct_12'] = ca_sat['sat_pct_12'].apply(string_to_decimal)\n",
    "ca_sat['sat_pct_11'] = ca_sat['sat_pct_11'].apply(string_to_decimal)"
   ]
  },
  {
   "cell_type": "code",
   "execution_count": 137,
   "metadata": {},
   "outputs": [
    {
     "data": {
      "text/plain": [
       "county         object\n",
       "sat_pct_12    float64\n",
       "sat_pct_11    float64\n",
       "dtype: object"
      ]
     },
     "execution_count": 137,
     "metadata": {},
     "output_type": "execute_result"
    }
   ],
   "source": [
    "# Check dtypes\n",
    "ca_sat.dtypes"
   ]
  },
  {
   "cell_type": "code",
   "execution_count": 138,
   "metadata": {},
   "outputs": [
    {
     "data": {
      "text/html": [
       "<div>\n",
       "<style scoped>\n",
       "    .dataframe tbody tr th:only-of-type {\n",
       "        vertical-align: middle;\n",
       "    }\n",
       "\n",
       "    .dataframe tbody tr th {\n",
       "        vertical-align: top;\n",
       "    }\n",
       "\n",
       "    .dataframe thead th {\n",
       "        text-align: right;\n",
       "    }\n",
       "</style>\n",
       "<table border=\"1\" class=\"dataframe\">\n",
       "  <thead>\n",
       "    <tr style=\"text-align: right;\">\n",
       "      <th></th>\n",
       "      <th>sat_pct_12</th>\n",
       "      <th>sat_pct_11</th>\n",
       "    </tr>\n",
       "  </thead>\n",
       "  <tbody>\n",
       "    <tr>\n",
       "      <th>count</th>\n",
       "      <td>54.000000</td>\n",
       "      <td>54.000000</td>\n",
       "    </tr>\n",
       "    <tr>\n",
       "      <th>mean</th>\n",
       "      <td>0.495574</td>\n",
       "      <td>0.602167</td>\n",
       "    </tr>\n",
       "    <tr>\n",
       "      <th>std</th>\n",
       "      <td>0.133434</td>\n",
       "      <td>0.154972</td>\n",
       "    </tr>\n",
       "    <tr>\n",
       "      <th>min</th>\n",
       "      <td>0.189000</td>\n",
       "      <td>0.227000</td>\n",
       "    </tr>\n",
       "    <tr>\n",
       "      <th>25%</th>\n",
       "      <td>0.381500</td>\n",
       "      <td>0.475000</td>\n",
       "    </tr>\n",
       "    <tr>\n",
       "      <th>50%</th>\n",
       "      <td>0.505000</td>\n",
       "      <td>0.604000</td>\n",
       "    </tr>\n",
       "    <tr>\n",
       "      <th>75%</th>\n",
       "      <td>0.599000</td>\n",
       "      <td>0.722250</td>\n",
       "    </tr>\n",
       "    <tr>\n",
       "      <th>max</th>\n",
       "      <td>0.731000</td>\n",
       "      <td>0.876000</td>\n",
       "    </tr>\n",
       "  </tbody>\n",
       "</table>\n",
       "</div>"
      ],
      "text/plain": [
       "       sat_pct_12  sat_pct_11\n",
       "count   54.000000   54.000000\n",
       "mean     0.495574    0.602167\n",
       "std      0.133434    0.154972\n",
       "min      0.189000    0.227000\n",
       "25%      0.381500    0.475000\n",
       "50%      0.505000    0.604000\n",
       "75%      0.599000    0.722250\n",
       "max      0.731000    0.876000"
      ]
     },
     "execution_count": 138,
     "metadata": {},
     "output_type": "execute_result"
    }
   ],
   "source": [
    "# Check to verify results are logical, ie percentages < 100\n",
    "ca_sat.describe()"
   ]
  },
  {
   "cell_type": "code",
   "execution_count": 139,
   "metadata": {},
   "outputs": [],
   "source": [
    "# Using str we can modify the values in our county column to match the ones in Slug Geography. Eg. 'Los Angeles' becomes 'los-angeles'\n",
    "ca_sat['county'] = ca_sat['county'].str.lower()\n",
    "ca_sat['county'] = ca_sat['county'].str.replace(' ', '-')"
   ]
  },
  {
   "cell_type": "code",
   "execution_count": 140,
   "metadata": {},
   "outputs": [
    {
     "data": {
      "text/html": [
       "<div>\n",
       "<style scoped>\n",
       "    .dataframe tbody tr th:only-of-type {\n",
       "        vertical-align: middle;\n",
       "    }\n",
       "\n",
       "    .dataframe tbody tr th {\n",
       "        vertical-align: top;\n",
       "    }\n",
       "\n",
       "    .dataframe thead th {\n",
       "        text-align: right;\n",
       "    }\n",
       "</style>\n",
       "<table border=\"1\" class=\"dataframe\">\n",
       "  <thead>\n",
       "    <tr style=\"text-align: right;\">\n",
       "      <th></th>\n",
       "      <th>county</th>\n",
       "      <th>sat_pct_12</th>\n",
       "      <th>sat_pct_11</th>\n",
       "    </tr>\n",
       "  </thead>\n",
       "  <tbody>\n",
       "    <tr>\n",
       "      <th>1981</th>\n",
       "      <td>el-dorado</td>\n",
       "      <td>0.731</td>\n",
       "      <td>0.868</td>\n",
       "    </tr>\n",
       "    <tr>\n",
       "      <th>1982</th>\n",
       "      <td>los-angeles</td>\n",
       "      <td>0.381</td>\n",
       "      <td>0.360</td>\n",
       "    </tr>\n",
       "    <tr>\n",
       "      <th>1983</th>\n",
       "      <td>madera</td>\n",
       "      <td>0.287</td>\n",
       "      <td>0.227</td>\n",
       "    </tr>\n",
       "    <tr>\n",
       "      <th>1984</th>\n",
       "      <td>yolo</td>\n",
       "      <td>0.583</td>\n",
       "      <td>0.740</td>\n",
       "    </tr>\n",
       "    <tr>\n",
       "      <th>1985</th>\n",
       "      <td>kern</td>\n",
       "      <td>0.359</td>\n",
       "      <td>0.521</td>\n",
       "    </tr>\n",
       "  </tbody>\n",
       "</table>\n",
       "</div>"
      ],
      "text/plain": [
       "           county  sat_pct_12  sat_pct_11\n",
       "1981    el-dorado       0.731       0.868\n",
       "1982  los-angeles       0.381       0.360\n",
       "1983       madera       0.287       0.227\n",
       "1984         yolo       0.583       0.740\n",
       "1985         kern       0.359       0.521"
      ]
     },
     "execution_count": 140,
     "metadata": {},
     "output_type": "execute_result"
    }
   ],
   "source": [
    "ca_sat.head()"
   ]
  },
  {
   "cell_type": "markdown",
   "metadata": {},
   "source": [
    "### ACT Cleanup\n",
    "This data is quite similar to ca_sat and the cleanup process was mostly the same"
   ]
  },
  {
   "cell_type": "code",
   "execution_count": 141,
   "metadata": {},
   "outputs": [
    {
     "data": {
      "text/plain": [
       "Index(['CDS', 'CCode', 'CDCode', 'SCode', 'RType', 'SName', 'DName', 'CName',\n",
       "       'Enroll12', 'NumTstTakr', 'AvgScrRead', 'AvgScrEng', 'AvgScrMath',\n",
       "       'AvgScrSci', 'NumGE21', 'PctGE21', 'Year', 'Unnamed: 17'],\n",
       "      dtype='object')"
      ]
     },
     "execution_count": 141,
     "metadata": {},
     "output_type": "execute_result"
    }
   ],
   "source": [
    "ca_act.columns"
   ]
  },
  {
   "cell_type": "code",
   "execution_count": 142,
   "metadata": {},
   "outputs": [],
   "source": [
    "ca_act.drop(columns=['CDS', 'CCode', 'CDCode', 'SCode', 'SName', 'DName',\n",
    "       'Enroll12', 'NumTstTakr', 'NumGE21', 'PctGE21', 'Year', 'Unnamed: 17'], inplace=True)"
   ]
  },
  {
   "cell_type": "code",
   "execution_count": 143,
   "metadata": {},
   "outputs": [],
   "source": [
    "ca_act = ca_act[ca_act['RType'] == 'C']"
   ]
  },
  {
   "cell_type": "code",
   "execution_count": 144,
   "metadata": {},
   "outputs": [],
   "source": [
    "ca_act.drop(columns=['RType'], inplace=True)"
   ]
  },
  {
   "cell_type": "code",
   "execution_count": 145,
   "metadata": {},
   "outputs": [],
   "source": [
    "ca_act.replace('*', np.nan, inplace=True)\n",
    "ca_act.dropna(inplace=True)"
   ]
  },
  {
   "cell_type": "code",
   "execution_count": 146,
   "metadata": {},
   "outputs": [
    {
     "data": {
      "text/html": [
       "<div>\n",
       "<style scoped>\n",
       "    .dataframe tbody tr th:only-of-type {\n",
       "        vertical-align: middle;\n",
       "    }\n",
       "\n",
       "    .dataframe tbody tr th {\n",
       "        vertical-align: top;\n",
       "    }\n",
       "\n",
       "    .dataframe thead th {\n",
       "        text-align: right;\n",
       "    }\n",
       "</style>\n",
       "<table border=\"1\" class=\"dataframe\">\n",
       "  <thead>\n",
       "    <tr style=\"text-align: right;\">\n",
       "      <th></th>\n",
       "      <th>CName</th>\n",
       "      <th>AvgScrRead</th>\n",
       "      <th>AvgScrEng</th>\n",
       "      <th>AvgScrMath</th>\n",
       "      <th>AvgScrSci</th>\n",
       "    </tr>\n",
       "  </thead>\n",
       "  <tbody>\n",
       "    <tr>\n",
       "      <th>1064</th>\n",
       "      <td>Sacramento</td>\n",
       "      <td>21</td>\n",
       "      <td>20</td>\n",
       "      <td>21</td>\n",
       "      <td>21</td>\n",
       "    </tr>\n",
       "    <tr>\n",
       "      <th>1065</th>\n",
       "      <td>San Joaquin</td>\n",
       "      <td>22</td>\n",
       "      <td>21</td>\n",
       "      <td>21</td>\n",
       "      <td>21</td>\n",
       "    </tr>\n",
       "    <tr>\n",
       "      <th>1066</th>\n",
       "      <td>Kern</td>\n",
       "      <td>21</td>\n",
       "      <td>20</td>\n",
       "      <td>20</td>\n",
       "      <td>20</td>\n",
       "    </tr>\n",
       "    <tr>\n",
       "      <th>1067</th>\n",
       "      <td>Shasta</td>\n",
       "      <td>26</td>\n",
       "      <td>24</td>\n",
       "      <td>24</td>\n",
       "      <td>24</td>\n",
       "    </tr>\n",
       "    <tr>\n",
       "      <th>1068</th>\n",
       "      <td>Sutter</td>\n",
       "      <td>23</td>\n",
       "      <td>22</td>\n",
       "      <td>22</td>\n",
       "      <td>22</td>\n",
       "    </tr>\n",
       "  </tbody>\n",
       "</table>\n",
       "</div>"
      ],
      "text/plain": [
       "            CName AvgScrRead AvgScrEng AvgScrMath AvgScrSci\n",
       "1064   Sacramento         21        20         21        21\n",
       "1065  San Joaquin         22        21         21        21\n",
       "1066         Kern         21        20         20        20\n",
       "1067       Shasta         26        24         24        24\n",
       "1068       Sutter         23        22         22        22"
      ]
     },
     "execution_count": 146,
     "metadata": {},
     "output_type": "execute_result"
    }
   ],
   "source": [
    "ca_act.head()"
   ]
  },
  {
   "cell_type": "code",
   "execution_count": 147,
   "metadata": {},
   "outputs": [],
   "source": [
    "ca_act.rename(columns={\n",
    "    'CName': 'county',\n",
    "    'AvgScrRead': 'act_read',\n",
    "    'AvgScrEng': 'act_eng',\n",
    "    'AvgScrMath': 'act_math',\n",
    "    'AvgScrSci': 'act_science'\n",
    "}, inplace=True)"
   ]
  },
  {
   "cell_type": "code",
   "execution_count": 148,
   "metadata": {},
   "outputs": [
    {
     "data": {
      "text/plain": [
       "county         object\n",
       "act_read       object\n",
       "act_eng        object\n",
       "act_math       object\n",
       "act_science    object\n",
       "dtype: object"
      ]
     },
     "execution_count": 148,
     "metadata": {},
     "output_type": "execute_result"
    }
   ],
   "source": [
    "ca_act.dtypes"
   ]
  },
  {
   "cell_type": "code",
   "execution_count": 149,
   "metadata": {},
   "outputs": [],
   "source": [
    "ca_act = ca_act.astype({\n",
    "    'act_read': int,\n",
    "    'act_eng': int,\n",
    "    'act_math': int,\n",
    "    'act_science': int\n",
    "})"
   ]
  },
  {
   "cell_type": "code",
   "execution_count": 150,
   "metadata": {},
   "outputs": [
    {
     "name": "stderr",
     "output_type": "stream",
     "text": [
      "/var/folders/p1/89v2vyg94jd0blrmm4w41wr00000gn/T/ipykernel_54774/2121543818.py:3: FutureWarning: Dropping of nuisance columns in DataFrame reductions (with 'numeric_only=None') is deprecated; in a future version this will raise TypeError.  Select only valid columns before calling the reduction.\n",
      "  ca_act['act_composite'] = ca_act.mean(axis=1)\n"
     ]
    }
   ],
   "source": [
    "# https://stackoverflow.com/questions/33750326/compute-row-average-in-pandas\n",
    "# I could also use funtion from Part 1. Will come back later if I have time\n",
    "ca_act['act_composite'] = ca_act.mean(axis=1)"
   ]
  },
  {
   "cell_type": "code",
   "execution_count": 151,
   "metadata": {},
   "outputs": [],
   "source": [
    "ca_act['county'] = ca_act['county'].str.lower()\n",
    "ca_act['county'] = ca_act['county'].str.replace(' ', '-')"
   ]
  },
  {
   "cell_type": "code",
   "execution_count": 152,
   "metadata": {},
   "outputs": [
    {
     "data": {
      "text/html": [
       "<div>\n",
       "<style scoped>\n",
       "    .dataframe tbody tr th:only-of-type {\n",
       "        vertical-align: middle;\n",
       "    }\n",
       "\n",
       "    .dataframe tbody tr th {\n",
       "        vertical-align: top;\n",
       "    }\n",
       "\n",
       "    .dataframe thead th {\n",
       "        text-align: right;\n",
       "    }\n",
       "</style>\n",
       "<table border=\"1\" class=\"dataframe\">\n",
       "  <thead>\n",
       "    <tr style=\"text-align: right;\">\n",
       "      <th></th>\n",
       "      <th>county</th>\n",
       "      <th>act_read</th>\n",
       "      <th>act_eng</th>\n",
       "      <th>act_math</th>\n",
       "      <th>act_science</th>\n",
       "      <th>act_composite</th>\n",
       "    </tr>\n",
       "  </thead>\n",
       "  <tbody>\n",
       "    <tr>\n",
       "      <th>1064</th>\n",
       "      <td>sacramento</td>\n",
       "      <td>21</td>\n",
       "      <td>20</td>\n",
       "      <td>21</td>\n",
       "      <td>21</td>\n",
       "      <td>20.75</td>\n",
       "    </tr>\n",
       "    <tr>\n",
       "      <th>1065</th>\n",
       "      <td>san-joaquin</td>\n",
       "      <td>22</td>\n",
       "      <td>21</td>\n",
       "      <td>21</td>\n",
       "      <td>21</td>\n",
       "      <td>21.25</td>\n",
       "    </tr>\n",
       "    <tr>\n",
       "      <th>1066</th>\n",
       "      <td>kern</td>\n",
       "      <td>21</td>\n",
       "      <td>20</td>\n",
       "      <td>20</td>\n",
       "      <td>20</td>\n",
       "      <td>20.25</td>\n",
       "    </tr>\n",
       "    <tr>\n",
       "      <th>1067</th>\n",
       "      <td>shasta</td>\n",
       "      <td>26</td>\n",
       "      <td>24</td>\n",
       "      <td>24</td>\n",
       "      <td>24</td>\n",
       "      <td>24.50</td>\n",
       "    </tr>\n",
       "    <tr>\n",
       "      <th>1068</th>\n",
       "      <td>sutter</td>\n",
       "      <td>23</td>\n",
       "      <td>22</td>\n",
       "      <td>22</td>\n",
       "      <td>22</td>\n",
       "      <td>22.25</td>\n",
       "    </tr>\n",
       "  </tbody>\n",
       "</table>\n",
       "</div>"
      ],
      "text/plain": [
       "           county  act_read  act_eng  act_math  act_science  act_composite\n",
       "1064   sacramento        21       20        21           21          20.75\n",
       "1065  san-joaquin        22       21        21           21          21.25\n",
       "1066         kern        21       20        20           20          20.25\n",
       "1067       shasta        26       24        24           24          24.50\n",
       "1068       sutter        23       22        22           22          22.25"
      ]
     },
     "execution_count": 152,
     "metadata": {},
     "output_type": "execute_result"
    }
   ],
   "source": [
    "ca_act.head()"
   ]
  },
  {
   "cell_type": "markdown",
   "metadata": {},
   "source": [
    "### California Household Income by County\n",
    "\n",
    "County level income in this data is segmented by race, but there is a total that reflects total county data.\n",
    "\n",
    "https://datausa.io/api/data?Geography=04000US06:children&measure=Household%20Income%20by%20Race,Household%20Income%20by%20Race%20Moe&drilldowns=Race"
   ]
  },
  {
   "cell_type": "code",
   "execution_count": 153,
   "metadata": {},
   "outputs": [
    {
     "data": {
      "text/html": [
       "<div>\n",
       "<style scoped>\n",
       "    .dataframe tbody tr th:only-of-type {\n",
       "        vertical-align: middle;\n",
       "    }\n",
       "\n",
       "    .dataframe tbody tr th {\n",
       "        vertical-align: top;\n",
       "    }\n",
       "\n",
       "    .dataframe thead th {\n",
       "        text-align: right;\n",
       "    }\n",
       "</style>\n",
       "<table border=\"1\" class=\"dataframe\">\n",
       "  <thead>\n",
       "    <tr style=\"text-align: right;\">\n",
       "      <th></th>\n",
       "      <th>ID Race</th>\n",
       "      <th>Race</th>\n",
       "      <th>ID Year</th>\n",
       "      <th>Year</th>\n",
       "      <th>Household Income by Race</th>\n",
       "      <th>Household Income by Race Moe</th>\n",
       "      <th>Geography</th>\n",
       "      <th>ID Geography</th>\n",
       "      <th>Slug Geography</th>\n",
       "    </tr>\n",
       "  </thead>\n",
       "  <tbody>\n",
       "    <tr>\n",
       "      <th>0</th>\n",
       "      <td>0</td>\n",
       "      <td>Total</td>\n",
       "      <td>2019</td>\n",
       "      <td>2019</td>\n",
       "      <td>108322</td>\n",
       "      <td>2704.0</td>\n",
       "      <td>Alameda County, CA</td>\n",
       "      <td>05000US06001</td>\n",
       "      <td>alameda-county-ca</td>\n",
       "    </tr>\n",
       "    <tr>\n",
       "      <th>1</th>\n",
       "      <td>0</td>\n",
       "      <td>Total</td>\n",
       "      <td>2019</td>\n",
       "      <td>2019</td>\n",
       "      <td>62563</td>\n",
       "      <td>6056.0</td>\n",
       "      <td>Butte County, CA</td>\n",
       "      <td>05000US06007</td>\n",
       "      <td>butte-county-ca</td>\n",
       "    </tr>\n",
       "    <tr>\n",
       "      <th>2</th>\n",
       "      <td>0</td>\n",
       "      <td>Total</td>\n",
       "      <td>2019</td>\n",
       "      <td>2019</td>\n",
       "      <td>107135</td>\n",
       "      <td>3584.0</td>\n",
       "      <td>Contra Costa County, CA</td>\n",
       "      <td>05000US06013</td>\n",
       "      <td>contra-costa-county-ca</td>\n",
       "    </tr>\n",
       "    <tr>\n",
       "      <th>3</th>\n",
       "      <td>0</td>\n",
       "      <td>Total</td>\n",
       "      <td>2019</td>\n",
       "      <td>2019</td>\n",
       "      <td>87059</td>\n",
       "      <td>6290.0</td>\n",
       "      <td>El Dorado County, CA</td>\n",
       "      <td>05000US06017</td>\n",
       "      <td>el-dorado-county-ca</td>\n",
       "    </tr>\n",
       "    <tr>\n",
       "      <th>4</th>\n",
       "      <td>0</td>\n",
       "      <td>Total</td>\n",
       "      <td>2019</td>\n",
       "      <td>2019</td>\n",
       "      <td>57518</td>\n",
       "      <td>2684.0</td>\n",
       "      <td>Fresno County, CA</td>\n",
       "      <td>05000US06019</td>\n",
       "      <td>fresno-county-ca</td>\n",
       "    </tr>\n",
       "  </tbody>\n",
       "</table>\n",
       "</div>"
      ],
      "text/plain": [
       "   ID Race   Race  ID Year  Year  Household Income by Race  \\\n",
       "0        0  Total     2019  2019                    108322   \n",
       "1        0  Total     2019  2019                     62563   \n",
       "2        0  Total     2019  2019                    107135   \n",
       "3        0  Total     2019  2019                     87059   \n",
       "4        0  Total     2019  2019                     57518   \n",
       "\n",
       "   Household Income by Race Moe                Geography  ID Geography  \\\n",
       "0                        2704.0       Alameda County, CA  05000US06001   \n",
       "1                        6056.0         Butte County, CA  05000US06007   \n",
       "2                        3584.0  Contra Costa County, CA  05000US06013   \n",
       "3                        6290.0     El Dorado County, CA  05000US06017   \n",
       "4                        2684.0        Fresno County, CA  05000US06019   \n",
       "\n",
       "           Slug Geography  \n",
       "0       alameda-county-ca  \n",
       "1         butte-county-ca  \n",
       "2  contra-costa-county-ca  \n",
       "3     el-dorado-county-ca  \n",
       "4        fresno-county-ca  "
      ]
     },
     "execution_count": 153,
     "metadata": {},
     "output_type": "execute_result"
    }
   ],
   "source": [
    "income_by_county = pd.read_csv('../data/income_by_location.csv')\n",
    "income_by_county.head()"
   ]
  },
  {
   "cell_type": "markdown",
   "metadata": {},
   "source": [
    "When cleaning this income data I expect to keep only rows where Race == Total, Year == 2019, and the Household Income by Race and Slug Geography columns only."
   ]
  },
  {
   "cell_type": "code",
   "execution_count": 154,
   "metadata": {},
   "outputs": [
    {
     "data": {
      "text/plain": [
       "ID Race                         0\n",
       "Race                            0\n",
       "ID Year                         0\n",
       "Year                            0\n",
       "Household Income by Race        0\n",
       "Household Income by Race Moe    3\n",
       "Geography                       0\n",
       "ID Geography                    0\n",
       "Slug Geography                  0\n",
       "dtype: int64"
      ]
     },
     "execution_count": 154,
     "metadata": {},
     "output_type": "execute_result"
    }
   ],
   "source": [
    "# Check for missing values\n",
    "income_by_county.isna().sum()"
   ]
  },
  {
   "cell_type": "code",
   "execution_count": 155,
   "metadata": {},
   "outputs": [
    {
     "data": {
      "text/html": [
       "<div>\n",
       "<style scoped>\n",
       "    .dataframe tbody tr th:only-of-type {\n",
       "        vertical-align: middle;\n",
       "    }\n",
       "\n",
       "    .dataframe tbody tr th {\n",
       "        vertical-align: top;\n",
       "    }\n",
       "\n",
       "    .dataframe thead th {\n",
       "        text-align: right;\n",
       "    }\n",
       "</style>\n",
       "<table border=\"1\" class=\"dataframe\">\n",
       "  <thead>\n",
       "    <tr style=\"text-align: right;\">\n",
       "      <th></th>\n",
       "      <th>ID Race</th>\n",
       "      <th>Race</th>\n",
       "      <th>ID Year</th>\n",
       "      <th>Year</th>\n",
       "      <th>Household Income by Race</th>\n",
       "      <th>Household Income by Race Moe</th>\n",
       "      <th>Geography</th>\n",
       "      <th>ID Geography</th>\n",
       "      <th>Slug Geography</th>\n",
       "    </tr>\n",
       "  </thead>\n",
       "  <tbody>\n",
       "    <tr>\n",
       "      <th>867</th>\n",
       "      <td>4</td>\n",
       "      <td>Asian</td>\n",
       "      <td>2017</td>\n",
       "      <td>2017</td>\n",
       "      <td>2499</td>\n",
       "      <td>NaN</td>\n",
       "      <td>Lake County, CA</td>\n",
       "      <td>05000US06033</td>\n",
       "      <td>lake-county-ca</td>\n",
       "    </tr>\n",
       "    <tr>\n",
       "      <th>1158</th>\n",
       "      <td>2</td>\n",
       "      <td>Black</td>\n",
       "      <td>2016</td>\n",
       "      <td>2016</td>\n",
       "      <td>2499</td>\n",
       "      <td>NaN</td>\n",
       "      <td>Lake County, CA</td>\n",
       "      <td>05000US06033</td>\n",
       "      <td>lake-county-ca</td>\n",
       "    </tr>\n",
       "    <tr>\n",
       "      <th>1902</th>\n",
       "      <td>3</td>\n",
       "      <td>Native American</td>\n",
       "      <td>2014</td>\n",
       "      <td>2014</td>\n",
       "      <td>2499</td>\n",
       "      <td>NaN</td>\n",
       "      <td>Lake County, CA</td>\n",
       "      <td>05000US06033</td>\n",
       "      <td>lake-county-ca</td>\n",
       "    </tr>\n",
       "  </tbody>\n",
       "</table>\n",
       "</div>"
      ],
      "text/plain": [
       "      ID Race             Race  ID Year  Year  Household Income by Race  \\\n",
       "867         4            Asian     2017  2017                      2499   \n",
       "1158        2            Black     2016  2016                      2499   \n",
       "1902        3  Native American     2014  2014                      2499   \n",
       "\n",
       "      Household Income by Race Moe        Geography  ID Geography  \\\n",
       "867                            NaN  Lake County, CA  05000US06033   \n",
       "1158                           NaN  Lake County, CA  05000US06033   \n",
       "1902                           NaN  Lake County, CA  05000US06033   \n",
       "\n",
       "      Slug Geography  \n",
       "867   lake-county-ca  \n",
       "1158  lake-county-ca  \n",
       "1902  lake-county-ca  "
      ]
     },
     "execution_count": 155,
     "metadata": {},
     "output_type": "execute_result"
    }
   ],
   "source": [
    "income_by_county[income_by_county['Household Income by Race Moe'].isna()]"
   ]
  },
  {
   "cell_type": "markdown",
   "metadata": {},
   "source": [
    "The missing values are not in Race == Total rows so hey won't affect our analysis"
   ]
  },
  {
   "cell_type": "code",
   "execution_count": 156,
   "metadata": {},
   "outputs": [
    {
     "data": {
      "text/plain": [
       "Index(['ID Race', 'Race', 'ID Year', 'Year', 'Household Income by Race',\n",
       "       'Household Income by Race Moe', 'Geography', 'ID Geography',\n",
       "       'Slug Geography'],\n",
       "      dtype='object')"
      ]
     },
     "execution_count": 156,
     "metadata": {},
     "output_type": "execute_result"
    }
   ],
   "source": [
    "income_by_county.columns"
   ]
  },
  {
   "cell_type": "code",
   "execution_count": 157,
   "metadata": {},
   "outputs": [],
   "source": [
    "income_by_county.drop(columns=['ID Race', 'ID Year', 'Household Income by Race Moe', 'Geography', 'ID Geography'], inplace=True)"
   ]
  },
  {
   "cell_type": "code",
   "execution_count": 158,
   "metadata": {},
   "outputs": [],
   "source": [
    "# Only keep rows for all races and 2019 data\n",
    "income_by_county = income_by_county[(income_by_county['Race'] == 'Total') & (income_by_county['Year'] == 2019)]"
   ]
  },
  {
   "cell_type": "code",
   "execution_count": 159,
   "metadata": {},
   "outputs": [],
   "source": [
    "income_by_county.drop(columns=['Race', 'Year'], inplace=True)"
   ]
  },
  {
   "cell_type": "code",
   "execution_count": 160,
   "metadata": {},
   "outputs": [
    {
     "data": {
      "text/html": [
       "<div>\n",
       "<style scoped>\n",
       "    .dataframe tbody tr th:only-of-type {\n",
       "        vertical-align: middle;\n",
       "    }\n",
       "\n",
       "    .dataframe tbody tr th {\n",
       "        vertical-align: top;\n",
       "    }\n",
       "\n",
       "    .dataframe thead th {\n",
       "        text-align: right;\n",
       "    }\n",
       "</style>\n",
       "<table border=\"1\" class=\"dataframe\">\n",
       "  <thead>\n",
       "    <tr style=\"text-align: right;\">\n",
       "      <th></th>\n",
       "      <th>Household Income by Race</th>\n",
       "      <th>Slug Geography</th>\n",
       "    </tr>\n",
       "  </thead>\n",
       "  <tbody>\n",
       "    <tr>\n",
       "      <th>0</th>\n",
       "      <td>108322</td>\n",
       "      <td>alameda-county-ca</td>\n",
       "    </tr>\n",
       "    <tr>\n",
       "      <th>1</th>\n",
       "      <td>62563</td>\n",
       "      <td>butte-county-ca</td>\n",
       "    </tr>\n",
       "    <tr>\n",
       "      <th>2</th>\n",
       "      <td>107135</td>\n",
       "      <td>contra-costa-county-ca</td>\n",
       "    </tr>\n",
       "    <tr>\n",
       "      <th>3</th>\n",
       "      <td>87059</td>\n",
       "      <td>el-dorado-county-ca</td>\n",
       "    </tr>\n",
       "    <tr>\n",
       "      <th>4</th>\n",
       "      <td>57518</td>\n",
       "      <td>fresno-county-ca</td>\n",
       "    </tr>\n",
       "  </tbody>\n",
       "</table>\n",
       "</div>"
      ],
      "text/plain": [
       "   Household Income by Race          Slug Geography\n",
       "0                    108322       alameda-county-ca\n",
       "1                     62563         butte-county-ca\n",
       "2                    107135  contra-costa-county-ca\n",
       "3                     87059     el-dorado-county-ca\n",
       "4                     57518        fresno-county-ca"
      ]
     },
     "execution_count": 160,
     "metadata": {},
     "output_type": "execute_result"
    }
   ],
   "source": [
    "income_by_county.head()"
   ]
  },
  {
   "cell_type": "code",
   "execution_count": 161,
   "metadata": {},
   "outputs": [],
   "source": [
    "income_by_county.rename(columns={\n",
    "    'Household Income by Race': 'income',\n",
    "    'Slug Geography': 'county'\n",
    "}, inplace=True)"
   ]
  },
  {
   "cell_type": "code",
   "execution_count": 162,
   "metadata": {},
   "outputs": [],
   "source": [
    "income_by_county['county'] = income_by_county['county'].str.replace('-county-ca', '')"
   ]
  },
  {
   "cell_type": "code",
   "execution_count": 163,
   "metadata": {},
   "outputs": [
    {
     "data": {
      "text/plain": [
       "income     int64\n",
       "county    object\n",
       "dtype: object"
      ]
     },
     "execution_count": 163,
     "metadata": {},
     "output_type": "execute_result"
    }
   ],
   "source": [
    "income_by_county.dtypes"
   ]
  },
  {
   "cell_type": "code",
   "execution_count": 164,
   "metadata": {},
   "outputs": [
    {
     "data": {
      "text/html": [
       "<div>\n",
       "<style scoped>\n",
       "    .dataframe tbody tr th:only-of-type {\n",
       "        vertical-align: middle;\n",
       "    }\n",
       "\n",
       "    .dataframe tbody tr th {\n",
       "        vertical-align: top;\n",
       "    }\n",
       "\n",
       "    .dataframe thead th {\n",
       "        text-align: right;\n",
       "    }\n",
       "</style>\n",
       "<table border=\"1\" class=\"dataframe\">\n",
       "  <thead>\n",
       "    <tr style=\"text-align: right;\">\n",
       "      <th></th>\n",
       "      <th>income</th>\n",
       "      <th>county</th>\n",
       "    </tr>\n",
       "  </thead>\n",
       "  <tbody>\n",
       "    <tr>\n",
       "      <th>0</th>\n",
       "      <td>108322</td>\n",
       "      <td>alameda</td>\n",
       "    </tr>\n",
       "    <tr>\n",
       "      <th>1</th>\n",
       "      <td>62563</td>\n",
       "      <td>butte</td>\n",
       "    </tr>\n",
       "    <tr>\n",
       "      <th>2</th>\n",
       "      <td>107135</td>\n",
       "      <td>contra-costa</td>\n",
       "    </tr>\n",
       "    <tr>\n",
       "      <th>3</th>\n",
       "      <td>87059</td>\n",
       "      <td>el-dorado</td>\n",
       "    </tr>\n",
       "    <tr>\n",
       "      <th>4</th>\n",
       "      <td>57518</td>\n",
       "      <td>fresno</td>\n",
       "    </tr>\n",
       "  </tbody>\n",
       "</table>\n",
       "</div>"
      ],
      "text/plain": [
       "   income        county\n",
       "0  108322       alameda\n",
       "1   62563         butte\n",
       "2  107135  contra-costa\n",
       "3   87059     el-dorado\n",
       "4   57518        fresno"
      ]
     },
     "execution_count": 164,
     "metadata": {},
     "output_type": "execute_result"
    }
   ],
   "source": [
    "income_by_county.head()"
   ]
  },
  {
   "cell_type": "markdown",
   "metadata": {},
   "source": [
    "### Combine all DataFrames"
   ]
  },
  {
   "cell_type": "code",
   "execution_count": 165,
   "metadata": {},
   "outputs": [],
   "source": [
    "scores_and_incomes = pd.merge(pd.merge(ca_sat, ca_act), income_by_county)"
   ]
  },
  {
   "cell_type": "code",
   "execution_count": 166,
   "metadata": {},
   "outputs": [
    {
     "data": {
      "text/html": [
       "<div>\n",
       "<style scoped>\n",
       "    .dataframe tbody tr th:only-of-type {\n",
       "        vertical-align: middle;\n",
       "    }\n",
       "\n",
       "    .dataframe tbody tr th {\n",
       "        vertical-align: top;\n",
       "    }\n",
       "\n",
       "    .dataframe thead th {\n",
       "        text-align: right;\n",
       "    }\n",
       "</style>\n",
       "<table border=\"1\" class=\"dataframe\">\n",
       "  <thead>\n",
       "    <tr style=\"text-align: right;\">\n",
       "      <th></th>\n",
       "      <th>county</th>\n",
       "      <th>sat_pct_12</th>\n",
       "      <th>sat_pct_11</th>\n",
       "      <th>act_read</th>\n",
       "      <th>act_eng</th>\n",
       "      <th>act_math</th>\n",
       "      <th>act_science</th>\n",
       "      <th>act_composite</th>\n",
       "      <th>income</th>\n",
       "    </tr>\n",
       "  </thead>\n",
       "  <tbody>\n",
       "    <tr>\n",
       "      <th>0</th>\n",
       "      <td>el-dorado</td>\n",
       "      <td>0.731</td>\n",
       "      <td>0.868</td>\n",
       "      <td>25</td>\n",
       "      <td>24</td>\n",
       "      <td>25</td>\n",
       "      <td>24</td>\n",
       "      <td>24.50</td>\n",
       "      <td>87059</td>\n",
       "    </tr>\n",
       "    <tr>\n",
       "      <th>1</th>\n",
       "      <td>los-angeles</td>\n",
       "      <td>0.381</td>\n",
       "      <td>0.360</td>\n",
       "      <td>21</td>\n",
       "      <td>20</td>\n",
       "      <td>21</td>\n",
       "      <td>20</td>\n",
       "      <td>20.50</td>\n",
       "      <td>72797</td>\n",
       "    </tr>\n",
       "    <tr>\n",
       "      <th>2</th>\n",
       "      <td>madera</td>\n",
       "      <td>0.287</td>\n",
       "      <td>0.227</td>\n",
       "      <td>19</td>\n",
       "      <td>18</td>\n",
       "      <td>19</td>\n",
       "      <td>19</td>\n",
       "      <td>18.75</td>\n",
       "      <td>64827</td>\n",
       "    </tr>\n",
       "    <tr>\n",
       "      <th>3</th>\n",
       "      <td>yolo</td>\n",
       "      <td>0.583</td>\n",
       "      <td>0.740</td>\n",
       "      <td>23</td>\n",
       "      <td>23</td>\n",
       "      <td>23</td>\n",
       "      <td>23</td>\n",
       "      <td>23.00</td>\n",
       "      <td>71417</td>\n",
       "    </tr>\n",
       "    <tr>\n",
       "      <th>4</th>\n",
       "      <td>kern</td>\n",
       "      <td>0.359</td>\n",
       "      <td>0.521</td>\n",
       "      <td>21</td>\n",
       "      <td>20</td>\n",
       "      <td>20</td>\n",
       "      <td>20</td>\n",
       "      <td>20.25</td>\n",
       "      <td>53067</td>\n",
       "    </tr>\n",
       "  </tbody>\n",
       "</table>\n",
       "</div>"
      ],
      "text/plain": [
       "        county  sat_pct_12  sat_pct_11  act_read  act_eng  act_math  \\\n",
       "0    el-dorado       0.731       0.868        25       24        25   \n",
       "1  los-angeles       0.381       0.360        21       20        21   \n",
       "2       madera       0.287       0.227        19       18        19   \n",
       "3         yolo       0.583       0.740        23       23        23   \n",
       "4         kern       0.359       0.521        21       20        20   \n",
       "\n",
       "   act_science  act_composite  income  \n",
       "0           24          24.50   87059  \n",
       "1           20          20.50   72797  \n",
       "2           19          18.75   64827  \n",
       "3           23          23.00   71417  \n",
       "4           20          20.25   53067  "
      ]
     },
     "execution_count": 166,
     "metadata": {},
     "output_type": "execute_result"
    }
   ],
   "source": [
    "scores_and_incomes.head()"
   ]
  },
  {
   "cell_type": "code",
   "execution_count": 167,
   "metadata": {},
   "outputs": [],
   "source": [
    "scores_and_incomes.set_index('county', inplace=True)"
   ]
  },
  {
   "cell_type": "code",
   "execution_count": 168,
   "metadata": {},
   "outputs": [
    {
     "data": {
      "text/html": [
       "<div>\n",
       "<style scoped>\n",
       "    .dataframe tbody tr th:only-of-type {\n",
       "        vertical-align: middle;\n",
       "    }\n",
       "\n",
       "    .dataframe tbody tr th {\n",
       "        vertical-align: top;\n",
       "    }\n",
       "\n",
       "    .dataframe thead th {\n",
       "        text-align: right;\n",
       "    }\n",
       "</style>\n",
       "<table border=\"1\" class=\"dataframe\">\n",
       "  <thead>\n",
       "    <tr style=\"text-align: right;\">\n",
       "      <th></th>\n",
       "      <th>sat_pct_12</th>\n",
       "      <th>sat_pct_11</th>\n",
       "      <th>act_read</th>\n",
       "      <th>act_eng</th>\n",
       "      <th>act_math</th>\n",
       "      <th>act_science</th>\n",
       "      <th>act_composite</th>\n",
       "      <th>income</th>\n",
       "    </tr>\n",
       "  </thead>\n",
       "  <tbody>\n",
       "    <tr>\n",
       "      <th>sat_pct_12</th>\n",
       "      <td>1.000000</td>\n",
       "      <td>0.887750</td>\n",
       "      <td>0.784409</td>\n",
       "      <td>0.789861</td>\n",
       "      <td>0.838341</td>\n",
       "      <td>0.820461</td>\n",
       "      <td>0.815078</td>\n",
       "      <td>0.475862</td>\n",
       "    </tr>\n",
       "    <tr>\n",
       "      <th>sat_pct_11</th>\n",
       "      <td>0.887750</td>\n",
       "      <td>1.000000</td>\n",
       "      <td>0.733047</td>\n",
       "      <td>0.725365</td>\n",
       "      <td>0.762464</td>\n",
       "      <td>0.755233</td>\n",
       "      <td>0.750504</td>\n",
       "      <td>0.460796</td>\n",
       "    </tr>\n",
       "    <tr>\n",
       "      <th>act_read</th>\n",
       "      <td>0.784409</td>\n",
       "      <td>0.733047</td>\n",
       "      <td>1.000000</td>\n",
       "      <td>0.978327</td>\n",
       "      <td>0.948459</td>\n",
       "      <td>0.966328</td>\n",
       "      <td>0.984213</td>\n",
       "      <td>0.565389</td>\n",
       "    </tr>\n",
       "    <tr>\n",
       "      <th>act_eng</th>\n",
       "      <td>0.789861</td>\n",
       "      <td>0.725365</td>\n",
       "      <td>0.978327</td>\n",
       "      <td>1.000000</td>\n",
       "      <td>0.976391</td>\n",
       "      <td>0.984591</td>\n",
       "      <td>0.995466</td>\n",
       "      <td>0.643904</td>\n",
       "    </tr>\n",
       "    <tr>\n",
       "      <th>act_math</th>\n",
       "      <td>0.838341</td>\n",
       "      <td>0.762464</td>\n",
       "      <td>0.948459</td>\n",
       "      <td>0.976391</td>\n",
       "      <td>1.000000</td>\n",
       "      <td>0.982689</td>\n",
       "      <td>0.986139</td>\n",
       "      <td>0.666199</td>\n",
       "    </tr>\n",
       "    <tr>\n",
       "      <th>act_science</th>\n",
       "      <td>0.820461</td>\n",
       "      <td>0.755233</td>\n",
       "      <td>0.966328</td>\n",
       "      <td>0.984591</td>\n",
       "      <td>0.982689</td>\n",
       "      <td>1.000000</td>\n",
       "      <td>0.993080</td>\n",
       "      <td>0.624911</td>\n",
       "    </tr>\n",
       "    <tr>\n",
       "      <th>act_composite</th>\n",
       "      <td>0.815078</td>\n",
       "      <td>0.750504</td>\n",
       "      <td>0.984213</td>\n",
       "      <td>0.995466</td>\n",
       "      <td>0.986139</td>\n",
       "      <td>0.993080</td>\n",
       "      <td>1.000000</td>\n",
       "      <td>0.630821</td>\n",
       "    </tr>\n",
       "    <tr>\n",
       "      <th>income</th>\n",
       "      <td>0.475862</td>\n",
       "      <td>0.460796</td>\n",
       "      <td>0.565389</td>\n",
       "      <td>0.643904</td>\n",
       "      <td>0.666199</td>\n",
       "      <td>0.624911</td>\n",
       "      <td>0.630821</td>\n",
       "      <td>1.000000</td>\n",
       "    </tr>\n",
       "  </tbody>\n",
       "</table>\n",
       "</div>"
      ],
      "text/plain": [
       "               sat_pct_12  sat_pct_11  act_read   act_eng  act_math  \\\n",
       "sat_pct_12       1.000000    0.887750  0.784409  0.789861  0.838341   \n",
       "sat_pct_11       0.887750    1.000000  0.733047  0.725365  0.762464   \n",
       "act_read         0.784409    0.733047  1.000000  0.978327  0.948459   \n",
       "act_eng          0.789861    0.725365  0.978327  1.000000  0.976391   \n",
       "act_math         0.838341    0.762464  0.948459  0.976391  1.000000   \n",
       "act_science      0.820461    0.755233  0.966328  0.984591  0.982689   \n",
       "act_composite    0.815078    0.750504  0.984213  0.995466  0.986139   \n",
       "income           0.475862    0.460796  0.565389  0.643904  0.666199   \n",
       "\n",
       "               act_science  act_composite    income  \n",
       "sat_pct_12        0.820461       0.815078  0.475862  \n",
       "sat_pct_11        0.755233       0.750504  0.460796  \n",
       "act_read          0.966328       0.984213  0.565389  \n",
       "act_eng           0.984591       0.995466  0.643904  \n",
       "act_math          0.982689       0.986139  0.666199  \n",
       "act_science       1.000000       0.993080  0.624911  \n",
       "act_composite     0.993080       1.000000  0.630821  \n",
       "income            0.624911       0.630821  1.000000  "
      ]
     },
     "execution_count": 168,
     "metadata": {},
     "output_type": "execute_result"
    }
   ],
   "source": [
    "scores_and_incomes.corr()"
   ]
  },
  {
   "cell_type": "code",
   "execution_count": 169,
   "metadata": {},
   "outputs": [
    {
     "data": {
      "text/plain": [
       "sat_pct_12       float64\n",
       "sat_pct_11       float64\n",
       "act_read           int64\n",
       "act_eng            int64\n",
       "act_math           int64\n",
       "act_science        int64\n",
       "act_composite    float64\n",
       "income             int64\n",
       "dtype: object"
      ]
     },
     "execution_count": 169,
     "metadata": {},
     "output_type": "execute_result"
    }
   ],
   "source": [
    "scores_and_incomes.dtypes"
   ]
  },
  {
   "cell_type": "markdown",
   "metadata": {},
   "source": [
    "### Save merged data to csv file"
   ]
  },
  {
   "cell_type": "code",
   "execution_count": 170,
   "metadata": {},
   "outputs": [],
   "source": [
    "scores_and_incomes.to_csv('../data/scores_and_incomes.csv')"
   ]
  },
  {
   "cell_type": "markdown",
   "metadata": {},
   "source": [
    "### Data Dictionary\n",
    "\n",
    "Now that we've fixed our data, and given it appropriate names, let's create a [data dictionary](http://library.ucmerced.edu/node/10249). \n",
    "\n",
    "A data dictionary provides a quick overview of features/variables/columns, alongside data types and descriptions. The more descriptive you can be, the more useful this document is.\n",
    "\n",
    "Example of a Fictional Data Dictionary Entry: \n",
    "\n",
    "|Feature|Type|Dataset|Description|\n",
    "|---|---|---|---|\n",
    "|**county_pop**|*integer*|2010 census|The population of the county (units in thousands, where 2.5 represents 2500 people).| \n",
    "|**per_poverty**|*float*|2010 census|The percent of the county over the age of 18 living below the 200% of official US poverty rate (units percent to two decimal places 98.10 means 98.1%)|\n",
    "\n",
    "[Here's a quick link to a short guide for formatting markdown in Jupyter notebooks](https://jupyter-notebook.readthedocs.io/en/stable/examples/Notebook/Working%20With%20Markdown%20Cells.html).\n",
    "\n",
    "Provided is the skeleton for formatting a markdown table, with columns headers that will help you create a data dictionary to quickly summarize your data, as well as some examples. **This would be a great thing to copy and paste into your custom README for this project.**\n",
    "\n",
    "*Note*: if you are unsure of what a feature is, check the source of the data! This can be found in the README."
   ]
  },
  {
   "cell_type": "markdown",
   "metadata": {},
   "source": [
    "|Feature|Type|Dataset|Description|\n",
    "|---|---|---|---|\n",
    "|county|str|SAT+ACT|County Name| \n",
    "|sat_pct_12|float|SAT|The percent of students who met the benchmark of both Evidence-Based Reading & Writing (ERW) and Math Grade 12.|\n",
    "|sat_pct_11|float|SAT|The percent of students who met the benchmark of both Evidence-Based Reading & Writing (ERW) and Math Grade 11.|\n",
    "|act_read|int|ACT|Average ACT Reading Score|\n",
    "|act_eng|int|ACT|Average ACT English Score|\n",
    "|act_math|int|ACT|Average ACT Math Score|\n",
    "|act_science|int|ACT|Average ACT Science Score|\n",
    "|act_composite|float|ACT|Average ACT Score taken as an average of act_read, act_eng, act_math and act_science|\n",
    "|income|int|Household Income by Race|Median Household Income in 2019|"
   ]
  },
  {
   "cell_type": "markdown",
   "metadata": {},
   "source": [
    "## Exploratory Data Analysis\n",
    "\n",
    "Complete the following steps to explore your data. You are welcome to do more EDA than the steps outlined here as you feel necessary:\n",
    "1. Summary Statistics.\n",
    "2. Use a **dictionary comprehension** to apply the standard deviation function you create in part 1 to each numeric column in the dataframe.  **No loops**.\n",
    "    - Assign the output to variable `sd` as a dictionary where: \n",
    "        - Each column name is now a key \n",
    "        - That standard deviation of the column is the value \n",
    "        - *Example Output :* `{'ACT_Math': 120, 'ACT_Reading': 120, ...}`\n",
    "3. Investigate trends in the data.\n",
    "    - Using sorting and/or masking (along with the `.head()` method to avoid printing our entire dataframe), consider questions relevant to your problem statement. Some examples are provided below (but feel free to change these questions for your specific problem):\n",
    "        - Which states have the highest and lowest participation rates for the 2017, 2019, or 2019 SAT and ACT?\n",
    "        - Which states have the highest and lowest mean total/composite scores for the 2017, 2019, or 2019 SAT and ACT?\n",
    "        - Do any states with 100% participation on a given test have a rate change year-to-year?\n",
    "        - Do any states show have >50% participation on *both* tests each year?\n",
    "        - Which colleges have the highest median SAT and ACT scores for admittance?\n",
    "        - Which California school districts have the highest and lowest mean test scores?\n",
    "    - **You should comment on your findings at each step in a markdown cell below your code block**. Make sure you include at least one example of sorting your dataframe by a column, and one example of using boolean filtering (i.e., masking) to select a subset of the dataframe."
   ]
  },
  {
   "cell_type": "code",
   "execution_count": 171,
   "metadata": {},
   "outputs": [
    {
     "data": {
      "text/plain": [
       "{'sat_pct_12': 0.12147466888796042,\n",
       " 'sat_pct_11': 0.15996617355099574,\n",
       " 'act_read': 2.3644703021262754,\n",
       " 'act_eng': 2.543377398288529,\n",
       " 'act_math': 2.1276905841526235,\n",
       " 'act_science': 2.112820275873924,\n",
       " 'act_composite': 2.2638462845343543,\n",
       " 'income': 22615.418666025605}"
      ]
     },
     "execution_count": 171,
     "metadata": {},
     "output_type": "execute_result"
    }
   ],
   "source": [
    "#Dictionary comprehension for standard deviations\n",
    "sd = {\n",
    "    k: v for k in scores_and_incomes.columns for v in [standard_deviation(scores_and_incomes[k].to_list())]\n",
    "}\n",
    "\n",
    "sd"
   ]
  },
  {
   "cell_type": "markdown",
   "metadata": {},
   "source": [
    "SAT percentages seem to have rather high standarnd deviations. Using actual SAT scores could improve our analysis.\n",
    "\n",
    "Median incomes in our data also appear to have a very high standard deviation. Our analysis might also benefit from more granular income data."
   ]
  },
  {
   "cell_type": "code",
   "execution_count": 172,
   "metadata": {},
   "outputs": [
    {
     "data": {
      "text/html": [
       "<div>\n",
       "<style scoped>\n",
       "    .dataframe tbody tr th:only-of-type {\n",
       "        vertical-align: middle;\n",
       "    }\n",
       "\n",
       "    .dataframe tbody tr th {\n",
       "        vertical-align: top;\n",
       "    }\n",
       "\n",
       "    .dataframe thead th {\n",
       "        text-align: right;\n",
       "    }\n",
       "</style>\n",
       "<table border=\"1\" class=\"dataframe\">\n",
       "  <thead>\n",
       "    <tr style=\"text-align: right;\">\n",
       "      <th></th>\n",
       "      <th>sat_pct_12</th>\n",
       "      <th>sat_pct_11</th>\n",
       "      <th>act_read</th>\n",
       "      <th>act_eng</th>\n",
       "      <th>act_math</th>\n",
       "      <th>act_science</th>\n",
       "      <th>act_composite</th>\n",
       "      <th>income</th>\n",
       "    </tr>\n",
       "  </thead>\n",
       "  <tbody>\n",
       "    <tr>\n",
       "      <th>count</th>\n",
       "      <td>41.000000</td>\n",
       "      <td>41.000000</td>\n",
       "      <td>41.000000</td>\n",
       "      <td>41.000000</td>\n",
       "      <td>41.000000</td>\n",
       "      <td>41.000000</td>\n",
       "      <td>41.00000</td>\n",
       "      <td>41.000000</td>\n",
       "    </tr>\n",
       "    <tr>\n",
       "      <th>mean</th>\n",
       "      <td>0.497951</td>\n",
       "      <td>0.598488</td>\n",
       "      <td>22.658537</td>\n",
       "      <td>21.658537</td>\n",
       "      <td>21.902439</td>\n",
       "      <td>21.780488</td>\n",
       "      <td>22.00000</td>\n",
       "      <td>77470.219512</td>\n",
       "    </tr>\n",
       "    <tr>\n",
       "      <th>std</th>\n",
       "      <td>0.122984</td>\n",
       "      <td>0.161953</td>\n",
       "      <td>2.393844</td>\n",
       "      <td>2.574973</td>\n",
       "      <td>2.154123</td>\n",
       "      <td>2.139067</td>\n",
       "      <td>2.29197</td>\n",
       "      <td>22896.366316</td>\n",
       "    </tr>\n",
       "    <tr>\n",
       "      <th>min</th>\n",
       "      <td>0.287000</td>\n",
       "      <td>0.227000</td>\n",
       "      <td>18.000000</td>\n",
       "      <td>17.000000</td>\n",
       "      <td>18.000000</td>\n",
       "      <td>18.000000</td>\n",
       "      <td>17.75000</td>\n",
       "      <td>47138.000000</td>\n",
       "    </tr>\n",
       "    <tr>\n",
       "      <th>25%</th>\n",
       "      <td>0.383000</td>\n",
       "      <td>0.471000</td>\n",
       "      <td>21.000000</td>\n",
       "      <td>20.000000</td>\n",
       "      <td>20.000000</td>\n",
       "      <td>20.000000</td>\n",
       "      <td>20.25000</td>\n",
       "      <td>61167.000000</td>\n",
       "    </tr>\n",
       "    <tr>\n",
       "      <th>50%</th>\n",
       "      <td>0.506000</td>\n",
       "      <td>0.605000</td>\n",
       "      <td>23.000000</td>\n",
       "      <td>22.000000</td>\n",
       "      <td>22.000000</td>\n",
       "      <td>22.000000</td>\n",
       "      <td>22.25000</td>\n",
       "      <td>72017.000000</td>\n",
       "    </tr>\n",
       "    <tr>\n",
       "      <th>75%</th>\n",
       "      <td>0.583000</td>\n",
       "      <td>0.735000</td>\n",
       "      <td>25.000000</td>\n",
       "      <td>24.000000</td>\n",
       "      <td>24.000000</td>\n",
       "      <td>24.000000</td>\n",
       "      <td>24.25000</td>\n",
       "      <td>89269.000000</td>\n",
       "    </tr>\n",
       "    <tr>\n",
       "      <th>max</th>\n",
       "      <td>0.731000</td>\n",
       "      <td>0.876000</td>\n",
       "      <td>27.000000</td>\n",
       "      <td>27.000000</td>\n",
       "      <td>26.000000</td>\n",
       "      <td>26.000000</td>\n",
       "      <td>26.50000</td>\n",
       "      <td>138500.000000</td>\n",
       "    </tr>\n",
       "  </tbody>\n",
       "</table>\n",
       "</div>"
      ],
      "text/plain": [
       "       sat_pct_12  sat_pct_11   act_read    act_eng   act_math  act_science  \\\n",
       "count   41.000000   41.000000  41.000000  41.000000  41.000000    41.000000   \n",
       "mean     0.497951    0.598488  22.658537  21.658537  21.902439    21.780488   \n",
       "std      0.122984    0.161953   2.393844   2.574973   2.154123     2.139067   \n",
       "min      0.287000    0.227000  18.000000  17.000000  18.000000    18.000000   \n",
       "25%      0.383000    0.471000  21.000000  20.000000  20.000000    20.000000   \n",
       "50%      0.506000    0.605000  23.000000  22.000000  22.000000    22.000000   \n",
       "75%      0.583000    0.735000  25.000000  24.000000  24.000000    24.000000   \n",
       "max      0.731000    0.876000  27.000000  27.000000  26.000000    26.000000   \n",
       "\n",
       "       act_composite         income  \n",
       "count       41.00000      41.000000  \n",
       "mean        22.00000   77470.219512  \n",
       "std          2.29197   22896.366316  \n",
       "min         17.75000   47138.000000  \n",
       "25%         20.25000   61167.000000  \n",
       "50%         22.25000   72017.000000  \n",
       "75%         24.25000   89269.000000  \n",
       "max         26.50000  138500.000000  "
      ]
     },
     "execution_count": 172,
     "metadata": {},
     "output_type": "execute_result"
    }
   ],
   "source": [
    "# Get summary statistics to compare with sorted DFs\n",
    "scores_and_incomes.describe()"
   ]
  },
  {
   "cell_type": "code",
   "execution_count": 173,
   "metadata": {},
   "outputs": [
    {
     "data": {
      "text/html": [
       "<div>\n",
       "<style scoped>\n",
       "    .dataframe tbody tr th:only-of-type {\n",
       "        vertical-align: middle;\n",
       "    }\n",
       "\n",
       "    .dataframe tbody tr th {\n",
       "        vertical-align: top;\n",
       "    }\n",
       "\n",
       "    .dataframe thead th {\n",
       "        text-align: right;\n",
       "    }\n",
       "</style>\n",
       "<table border=\"1\" class=\"dataframe\">\n",
       "  <thead>\n",
       "    <tr style=\"text-align: right;\">\n",
       "      <th></th>\n",
       "      <th>sat_pct_12</th>\n",
       "      <th>sat_pct_11</th>\n",
       "      <th>act_read</th>\n",
       "      <th>act_eng</th>\n",
       "      <th>act_math</th>\n",
       "      <th>act_science</th>\n",
       "      <th>act_composite</th>\n",
       "      <th>income</th>\n",
       "    </tr>\n",
       "    <tr>\n",
       "      <th>county</th>\n",
       "      <th></th>\n",
       "      <th></th>\n",
       "      <th></th>\n",
       "      <th></th>\n",
       "      <th></th>\n",
       "      <th></th>\n",
       "      <th></th>\n",
       "      <th></th>\n",
       "    </tr>\n",
       "  </thead>\n",
       "  <tbody>\n",
       "    <tr>\n",
       "      <th>san-mateo</th>\n",
       "      <td>0.596</td>\n",
       "      <td>0.775</td>\n",
       "      <td>25</td>\n",
       "      <td>25</td>\n",
       "      <td>25</td>\n",
       "      <td>24</td>\n",
       "      <td>24.75</td>\n",
       "      <td>138500</td>\n",
       "    </tr>\n",
       "    <tr>\n",
       "      <th>santa-clara</th>\n",
       "      <td>0.667</td>\n",
       "      <td>0.629</td>\n",
       "      <td>27</td>\n",
       "      <td>27</td>\n",
       "      <td>26</td>\n",
       "      <td>26</td>\n",
       "      <td>26.50</td>\n",
       "      <td>133076</td>\n",
       "    </tr>\n",
       "    <tr>\n",
       "      <th>san-francisco</th>\n",
       "      <td>0.553</td>\n",
       "      <td>0.725</td>\n",
       "      <td>22</td>\n",
       "      <td>21</td>\n",
       "      <td>22</td>\n",
       "      <td>21</td>\n",
       "      <td>21.50</td>\n",
       "      <td>123859</td>\n",
       "    </tr>\n",
       "    <tr>\n",
       "      <th>marin</th>\n",
       "      <td>0.688</td>\n",
       "      <td>0.817</td>\n",
       "      <td>27</td>\n",
       "      <td>26</td>\n",
       "      <td>25</td>\n",
       "      <td>25</td>\n",
       "      <td>25.75</td>\n",
       "      <td>110843</td>\n",
       "    </tr>\n",
       "    <tr>\n",
       "      <th>alameda</th>\n",
       "      <td>0.581</td>\n",
       "      <td>0.714</td>\n",
       "      <td>25</td>\n",
       "      <td>24</td>\n",
       "      <td>24</td>\n",
       "      <td>24</td>\n",
       "      <td>24.25</td>\n",
       "      <td>108322</td>\n",
       "    </tr>\n",
       "  </tbody>\n",
       "</table>\n",
       "</div>"
      ],
      "text/plain": [
       "               sat_pct_12  sat_pct_11  act_read  act_eng  act_math  \\\n",
       "county                                                               \n",
       "san-mateo           0.596       0.775        25       25        25   \n",
       "santa-clara         0.667       0.629        27       27        26   \n",
       "san-francisco       0.553       0.725        22       21        22   \n",
       "marin               0.688       0.817        27       26        25   \n",
       "alameda             0.581       0.714        25       24        24   \n",
       "\n",
       "               act_science  act_composite  income  \n",
       "county                                             \n",
       "san-mateo               24          24.75  138500  \n",
       "santa-clara             26          26.50  133076  \n",
       "san-francisco           21          21.50  123859  \n",
       "marin                   25          25.75  110843  \n",
       "alameda                 24          24.25  108322  "
      ]
     },
     "execution_count": 173,
     "metadata": {},
     "output_type": "execute_result"
    }
   ],
   "source": [
    "# Show scores for counties with the highest incomes\n",
    "scores_and_incomes.sort_values(by='income', ascending=False).head()"
   ]
  },
  {
   "cell_type": "markdown",
   "metadata": {},
   "source": [
    "High income counties have scores generally above median from .describe()"
   ]
  },
  {
   "cell_type": "code",
   "execution_count": 174,
   "metadata": {},
   "outputs": [
    {
     "data": {
      "text/html": [
       "<div>\n",
       "<style scoped>\n",
       "    .dataframe tbody tr th:only-of-type {\n",
       "        vertical-align: middle;\n",
       "    }\n",
       "\n",
       "    .dataframe tbody tr th {\n",
       "        vertical-align: top;\n",
       "    }\n",
       "\n",
       "    .dataframe thead th {\n",
       "        text-align: right;\n",
       "    }\n",
       "</style>\n",
       "<table border=\"1\" class=\"dataframe\">\n",
       "  <thead>\n",
       "    <tr style=\"text-align: right;\">\n",
       "      <th></th>\n",
       "      <th>sat_pct_12</th>\n",
       "      <th>sat_pct_11</th>\n",
       "      <th>act_read</th>\n",
       "      <th>act_eng</th>\n",
       "      <th>act_math</th>\n",
       "      <th>act_science</th>\n",
       "      <th>act_composite</th>\n",
       "      <th>income</th>\n",
       "    </tr>\n",
       "    <tr>\n",
       "      <th>county</th>\n",
       "      <th></th>\n",
       "      <th></th>\n",
       "      <th></th>\n",
       "      <th></th>\n",
       "      <th></th>\n",
       "      <th></th>\n",
       "      <th></th>\n",
       "      <th></th>\n",
       "    </tr>\n",
       "  </thead>\n",
       "  <tbody>\n",
       "    <tr>\n",
       "      <th>lake</th>\n",
       "      <td>0.389</td>\n",
       "      <td>0.373</td>\n",
       "      <td>21</td>\n",
       "      <td>19</td>\n",
       "      <td>19</td>\n",
       "      <td>19</td>\n",
       "      <td>19.50</td>\n",
       "      <td>47138</td>\n",
       "    </tr>\n",
       "    <tr>\n",
       "      <th>imperial</th>\n",
       "      <td>0.383</td>\n",
       "      <td>0.500</td>\n",
       "      <td>20</td>\n",
       "      <td>19</td>\n",
       "      <td>20</td>\n",
       "      <td>19</td>\n",
       "      <td>19.50</td>\n",
       "      <td>48472</td>\n",
       "    </tr>\n",
       "    <tr>\n",
       "      <th>humboldt</th>\n",
       "      <td>0.563</td>\n",
       "      <td>0.633</td>\n",
       "      <td>25</td>\n",
       "      <td>24</td>\n",
       "      <td>24</td>\n",
       "      <td>24</td>\n",
       "      <td>24.25</td>\n",
       "      <td>51662</td>\n",
       "    </tr>\n",
       "    <tr>\n",
       "      <th>mendocino</th>\n",
       "      <td>0.506</td>\n",
       "      <td>0.565</td>\n",
       "      <td>25</td>\n",
       "      <td>23</td>\n",
       "      <td>22</td>\n",
       "      <td>22</td>\n",
       "      <td>23.00</td>\n",
       "      <td>51744</td>\n",
       "    </tr>\n",
       "    <tr>\n",
       "      <th>kern</th>\n",
       "      <td>0.359</td>\n",
       "      <td>0.521</td>\n",
       "      <td>21</td>\n",
       "      <td>20</td>\n",
       "      <td>20</td>\n",
       "      <td>20</td>\n",
       "      <td>20.25</td>\n",
       "      <td>53067</td>\n",
       "    </tr>\n",
       "  </tbody>\n",
       "</table>\n",
       "</div>"
      ],
      "text/plain": [
       "           sat_pct_12  sat_pct_11  act_read  act_eng  act_math  act_science  \\\n",
       "county                                                                        \n",
       "lake            0.389       0.373        21       19        19           19   \n",
       "imperial        0.383       0.500        20       19        20           19   \n",
       "humboldt        0.563       0.633        25       24        24           24   \n",
       "mendocino       0.506       0.565        25       23        22           22   \n",
       "kern            0.359       0.521        21       20        20           20   \n",
       "\n",
       "           act_composite  income  \n",
       "county                            \n",
       "lake               19.50   47138  \n",
       "imperial           19.50   48472  \n",
       "humboldt           24.25   51662  \n",
       "mendocino          23.00   51744  \n",
       "kern               20.25   53067  "
      ]
     },
     "execution_count": 174,
     "metadata": {},
     "output_type": "execute_result"
    }
   ],
   "source": [
    "# Show scores for counties with the lowest incomes\n",
    "scores_and_incomes.sort_values(by='income').head()"
   ]
  },
  {
   "cell_type": "markdown",
   "metadata": {},
   "source": [
    "Low income counties have scores generally below median from .describe()"
   ]
  },
  {
   "cell_type": "code",
   "execution_count": 175,
   "metadata": {},
   "outputs": [
    {
     "data": {
      "text/html": [
       "<div>\n",
       "<style scoped>\n",
       "    .dataframe tbody tr th:only-of-type {\n",
       "        vertical-align: middle;\n",
       "    }\n",
       "\n",
       "    .dataframe tbody tr th {\n",
       "        vertical-align: top;\n",
       "    }\n",
       "\n",
       "    .dataframe thead th {\n",
       "        text-align: right;\n",
       "    }\n",
       "</style>\n",
       "<table border=\"1\" class=\"dataframe\">\n",
       "  <thead>\n",
       "    <tr style=\"text-align: right;\">\n",
       "      <th></th>\n",
       "      <th>sat_pct_12</th>\n",
       "      <th>income</th>\n",
       "    </tr>\n",
       "    <tr>\n",
       "      <th>county</th>\n",
       "      <th></th>\n",
       "      <th></th>\n",
       "    </tr>\n",
       "  </thead>\n",
       "  <tbody>\n",
       "  </tbody>\n",
       "</table>\n",
       "</div>"
      ],
      "text/plain": [
       "Empty DataFrame\n",
       "Columns: [sat_pct_12, income]\n",
       "Index: []"
      ]
     },
     "execution_count": 175,
     "metadata": {},
     "output_type": "execute_result"
    }
   ],
   "source": [
    "# Show incomes for counties with grade 12 sat score pct above 60\n",
    "scores_and_incomes[scores_and_incomes['sat_pct_12'] >= 60].sort_values(by='sat_pct_12', ascending=False).drop(columns=['sat_pct_11', 'act_read', 'act_eng', 'act_math', 'act_science', 'act_composite']).head()"
   ]
  },
  {
   "cell_type": "markdown",
   "metadata": {},
   "source": [
    "A majority of counties with high SAT pct have incomes above 75% measure."
   ]
  },
  {
   "cell_type": "markdown",
   "metadata": {},
   "source": [
    "## Visualize the Data\n",
    "\n",
    "There's not a magic bullet recommendation for the right number of plots to understand a given dataset, but visualizing your data is *always* a good idea. Not only does it allow you to quickly convey your findings (even if you have a non-technical audience), it will often reveal trends in your data that escaped you when you were looking only at numbers. It is important to not only create visualizations, but to **interpret your visualizations** as well.\n",
    "\n",
    "**Every plot should**:\n",
    "- Have a title\n",
    "- Have axis labels\n",
    "- Have appropriate tick labels\n",
    "- Text is legible in a plot\n",
    "- Plots demonstrate meaningful and valid relationships\n",
    "- Have an interpretation to aid understanding\n",
    "\n",
    "Here is an example of what your plots should look like following the above guidelines. Note that while the content of this example is unrelated, the principles of visualization hold:\n",
    "\n",
    "![](https://snag.gy/hCBR1U.jpg)\n",
    "*Interpretation: The above image shows that as we increase our spending on advertising, our sales numbers also tend to increase. There is a positive correlation between advertising spending and sales.*\n",
    "\n",
    "---\n",
    "\n",
    "Here are some prompts to get you started with visualizations. Feel free to add additional visualizations as you see fit:\n",
    "1. Use Seaborn's heatmap with pandas `.corr()` to visualize correlations between all numeric features.\n",
    "    - Heatmaps are generally not appropriate for presentations, and should often be excluded from reports as they can be visually overwhelming. **However**, they can be extremely useful in identify relationships of potential interest (as well as identifying potential collinearity before modeling).\n",
    "    - Please take time to format your output, adding a title. Look through some of the additional arguments and options. (Axis labels aren't really necessary, as long as the title is informative).\n",
    "2. Visualize distributions using histograms. If you have a lot, consider writing a custom function and use subplots.\n",
    "    - *OPTIONAL*: Summarize the underlying distributions of your features (in words & statistics)\n",
    "         - Be thorough in your verbal description of these distributions.\n",
    "         - Be sure to back up these summaries with statistics.\n",
    "         - We generally assume that data we sample from a population will be normally distributed. Do we observe this trend? Explain your answers for each distribution and how you think this will affect estimates made from these data.\n",
    "3. Plot and interpret boxplots. \n",
    "    - Boxplots demonstrate central tendency and spread in variables. In a certain sense, these are somewhat redundant with histograms, but you may be better able to identify clear outliers or differences in IQR, etc.\n",
    "    - Multiple values can be plotted to a single boxplot as long as they are of the same relative scale (meaning they have similar min/max values).\n",
    "    - Each boxplot should:\n",
    "        - Only include variables of a similar scale\n",
    "        - Have clear labels for each variable\n",
    "        - Have appropriate titles and labels\n",
    "4. Plot and interpret scatter plots to view relationships between features. Feel free to write a custom function, and subplot if you'd like. Functions save both time and space.\n",
    "    - Your plots should have:\n",
    "        - Two clearly labeled axes\n",
    "        - A proper title\n",
    "        - Colors and symbols that are clear and unmistakable\n",
    "5. Additional plots of your choosing.\n",
    "    - Are there any additional trends or relationships you haven't explored? Was there something interesting you saw that you'd like to dive further into? It's likely that there are a few more plots you might want to generate to support your narrative and recommendations that you are building toward. **As always, make sure you're interpreting your plots as you go**."
   ]
  },
  {
   "cell_type": "markdown",
   "metadata": {},
   "source": [
    "### Correlations"
   ]
  },
  {
   "cell_type": "code",
   "execution_count": 176,
   "metadata": {},
   "outputs": [
    {
     "data": {
      "text/plain": [
       "''"
      ]
     },
     "execution_count": 176,
     "metadata": {},
     "output_type": "execute_result"
    },
    {
     "data": {
      "image/png": "[encoded data removed]",
      "text/plain": [
       "<Figure size 432x288 with 2 Axes>"
      ]
     },
     "metadata": {
      "needs_background": "light"
     },
     "output_type": "display_data"
    }
   ],
   "source": [
    "# Code\n",
    "sns.heatmap(scores_and_incomes.corr(),  cmap='coolwarm')\n",
    "plt.title('Income and SAT/ACT scores correlations')\n",
    ";"
   ]
  },
  {
   "cell_type": "markdown",
   "metadata": {},
   "source": [
    "Looking at the bottom row to find correlations with our income column, we can see that the highest correlation with income is act_math, followed closely by act_eng and act_science/act_composite"
   ]
  },
  {
   "cell_type": "markdown",
   "metadata": {},
   "source": [
    "### Distributions"
   ]
  },
  {
   "cell_type": "code",
   "execution_count": 177,
   "metadata": {},
   "outputs": [
    {
     "data": {
      "text/plain": [
       "''"
      ]
     },
     "execution_count": 177,
     "metadata": {},
     "output_type": "execute_result"
    },
    {
     "data": {
      "image/png": "[encoded data removed]",
      "text/plain": [
       "<Figure size 432x288 with 1 Axes>"
      ]
     },
     "metadata": {
      "needs_background": "light"
     },
     "output_type": "display_data"
    }
   ],
   "source": [
    "plt.hist(scores_and_incomes['income'])\n",
    "plt.title('Income Distribution')\n",
    "plt.ylabel('n')\n",
    "plt.xlabel('Median Household Income')\n",
    ";"
   ]
  },
  {
   "cell_type": "markdown",
   "metadata": {},
   "source": [
    "Incomes for California counties seem to cluster around $60k, with several outliers in the +$120k area."
   ]
  },
  {
   "cell_type": "code",
   "execution_count": 178,
   "metadata": {},
   "outputs": [
    {
     "data": {
      "text/plain": [
       "''"
      ]
     },
     "execution_count": 178,
     "metadata": {},
     "output_type": "execute_result"
    },
    {
     "data": {
      "image/png": "[encoded data removed]",
      "text/plain": [
       "<Figure size 432x288 with 1 Axes>"
      ]
     },
     "metadata": {
      "needs_background": "light"
     },
     "output_type": "display_data"
    }
   ],
   "source": [
    "plt.hist(scores_and_incomes['act_composite'])\n",
    "plt.title('ACT Composite Score Distribution')\n",
    "plt.ylabel('n')\n",
    "plt.xlabel('ACT Composite Score')\n",
    ";"
   ]
  },
  {
   "cell_type": "markdown",
   "metadata": {},
   "source": [
    "ACT scores tend to be in the higher range, with some counties with low scores around 20."
   ]
  },
  {
   "cell_type": "code",
   "execution_count": 179,
   "metadata": {},
   "outputs": [
    {
     "data": {
      "text/plain": [
       "''"
      ]
     },
     "execution_count": 179,
     "metadata": {},
     "output_type": "execute_result"
    },
    {
     "data": {
      "image/png": "[encoded data removed]",
      "text/plain": [
       "<Figure size 432x288 with 1 Axes>"
      ]
     },
     "metadata": {
      "needs_background": "light"
     },
     "output_type": "display_data"
    }
   ],
   "source": [
    "plt.hist(scores_and_incomes['sat_pct_12'])\n",
    "plt.title('SAT-pct-above-benchmark Grade 12 Distribution')\n",
    "plt.ylabel('n')\n",
    "plt.xlabel('Percentage of Test Takers above Benchmark')\n",
    ";"
   ]
  },
  {
   "cell_type": "markdown",
   "metadata": {},
   "source": [
    "Percentages above benchmark appear to be normally distributed."
   ]
  },
  {
   "cell_type": "markdown",
   "metadata": {},
   "source": [
    "### Boxplots"
   ]
  },
  {
   "cell_type": "code",
   "execution_count": 180,
   "metadata": {},
   "outputs": [
    {
     "name": "stderr",
     "output_type": "stream",
     "text": [
      "/Users/andresperez/opt/anaconda3/lib/python3.9/site-packages/seaborn/_decorators.py:36: FutureWarning: Pass the following variable as a keyword arg: x. From version 0.12, the only valid positional argument will be `data`, and passing other arguments without an explicit keyword will result in an error or misinterpretation.\n",
      "  warnings.warn(\n"
     ]
    },
    {
     "data": {
      "text/plain": [
       "''"
      ]
     },
     "execution_count": 180,
     "metadata": {},
     "output_type": "execute_result"
    },
    {
     "data": {
      "image/png": "[encoded data removed]",
      "text/plain": [
       "<Figure size 432x288 with 1 Axes>"
      ]
     },
     "metadata": {
      "needs_background": "light"
     },
     "output_type": "display_data"
    }
   ],
   "source": [
    "sns.boxplot(scores_and_incomes['income'])\n",
    "plt.title('Range of Income Levels by California Counties')\n",
    "plt.xlabel('Median Household Income ($)')\n",
    ";"
   ]
  },
  {
   "cell_type": "code",
   "execution_count": 181,
   "metadata": {},
   "outputs": [
    {
     "name": "stderr",
     "output_type": "stream",
     "text": [
      "/Users/andresperez/opt/anaconda3/lib/python3.9/site-packages/seaborn/_decorators.py:36: FutureWarning: Pass the following variable as a keyword arg: x. From version 0.12, the only valid positional argument will be `data`, and passing other arguments without an explicit keyword will result in an error or misinterpretation.\n",
      "  warnings.warn(\n"
     ]
    },
    {
     "data": {
      "text/plain": [
       "''"
      ]
     },
     "execution_count": 181,
     "metadata": {},
     "output_type": "execute_result"
    },
    {
     "data": {
      "image/png": "[encoded data removed]",
      "text/plain": [
       "<Figure size 432x288 with 1 Axes>"
      ]
     },
     "metadata": {
      "needs_background": "light"
     },
     "output_type": "display_data"
    }
   ],
   "source": [
    "sns.boxplot(scores_and_incomes['sat_pct_12'])\n",
    "plt.title('Range of Percentage of SAT takers above benchmark by California Counties')\n",
    "plt.xlabel('Percentage of Test-Takers above Benchmark')\n",
    ";"
   ]
  },
  {
   "cell_type": "code",
   "execution_count": 182,
   "metadata": {},
   "outputs": [
    {
     "name": "stderr",
     "output_type": "stream",
     "text": [
      "/Users/andresperez/opt/anaconda3/lib/python3.9/site-packages/seaborn/_decorators.py:36: FutureWarning: Pass the following variable as a keyword arg: x. From version 0.12, the only valid positional argument will be `data`, and passing other arguments without an explicit keyword will result in an error or misinterpretation.\n",
      "  warnings.warn(\n"
     ]
    },
    {
     "data": {
      "text/plain": [
       "''"
      ]
     },
     "execution_count": 182,
     "metadata": {},
     "output_type": "execute_result"
    },
    {
     "data": {
      "image/png": "[encoded data removed]",
      "text/plain": [
       "<Figure size 432x288 with 1 Axes>"
      ]
     },
     "metadata": {
      "needs_background": "light"
     },
     "output_type": "display_data"
    }
   ],
   "source": [
    "sns.boxplot(scores_and_incomes['act_composite'])\n",
    "plt.title('Range of ACT Composite Scores by California Counties')\n",
    "plt.xlabel('ACT Composite Scores')\n",
    ";"
   ]
  },
  {
   "cell_type": "markdown",
   "metadata": {},
   "source": [
    "### Scatter Plots"
   ]
  },
  {
   "cell_type": "code",
   "execution_count": 183,
   "metadata": {},
   "outputs": [
    {
     "data": {
      "text/plain": [
       "''"
      ]
     },
     "execution_count": 183,
     "metadata": {},
     "output_type": "execute_result"
    },
    {
     "data": {
      "image/png": "[encoded data removed]",
      "text/plain": [
       "<Figure size 432x288 with 1 Axes>"
      ]
     },
     "metadata": {
      "needs_background": "light"
     },
     "output_type": "display_data"
    }
   ],
   "source": [
    "sns.scatterplot(x=scores_and_incomes['income'], y=scores_and_incomes['sat_pct_12'])\n",
    "plt.title('SAT vs. Income')\n",
    "plt.ylabel('SAT Percentages above Benchmark')\n",
    "plt.xlabel('Median Household Income ($)')\n",
    "plt.axhline(scores_and_incomes['sat_pct_12'].mean(), c='red')\n",
    "plt.axvline(scores_and_incomes['income'].mean(), c='red')\n",
    ";"
   ]
  },
  {
   "cell_type": "code",
   "execution_count": 184,
   "metadata": {},
   "outputs": [
    {
     "data": {
      "text/plain": [
       "''"
      ]
     },
     "execution_count": 184,
     "metadata": {},
     "output_type": "execute_result"
    },
    {
     "data": {
      "image/png": "[encoded data removed]",
      "text/plain": [
       "<Figure size 432x288 with 1 Axes>"
      ]
     },
     "metadata": {
      "needs_background": "light"
     },
     "output_type": "display_data"
    }
   ],
   "source": [
    "sns.scatterplot(x=scores_and_incomes['income'], y=scores_and_incomes['act_composite'])\n",
    "plt.title('ACT vs. Income')\n",
    "plt.ylabel('ACT Composite Scores')\n",
    "plt.xlabel('Median Household Income ($)')\n",
    "plt.axhline(scores_and_incomes['act_composite'].mean(), c='red')\n",
    "plt.axvline(scores_and_incomes['income'].mean(), c='red')\n",
    ";"
   ]
  },
  {
   "cell_type": "markdown",
   "metadata": {},
   "source": [
    "## Conclusions and Recommendations"
   ]
  },
  {
   "cell_type": "markdown",
   "metadata": {},
   "source": [
    "Standarized test scores are positively correlated to median household incomes at the county level in California. This is true of SAT and ACT score data, although the relationship seems strongest for ACT scores.\n",
    "\n",
    "The State is widely expected to provide at least equal opportunity in this case to high school students and has chosen to reduce or eliminate SAT/ACT requirements for University of California schools. This might only exacerbate current inequalities as admissions will rely more heavily on qualitative factors in applications that benefit from more coaching and applications counseling that is evidently easier to obtain for higher income students\n",
    "\n",
    "We recommend a reconsideration of this policy in favor of budget reallocations that increase SAT/ACT prep opportunities for all."
   ]
  }
 ],
 "metadata": {
  "anaconda-cloud": {},
  "kernelspec": {
   "display_name": "Python 3",
   "language": "python",
   "name": "python3"
  },
  "language_info": {
   "codemirror_mode": {
    "name": "ipython",
    "version": 3
   },
   "file_extension": ".py",
   "mimetype": "text/x-python",
   "name": "python",
   "nbconvert_exporter": "python",
   "pygments_lexer": "ipython3",
   "version": "3.9.7"
  }
 },
 "nbformat": 4,
 "nbformat_minor": 4
}
