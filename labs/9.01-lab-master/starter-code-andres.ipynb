{
 "cells": [
  {
   "cell_type": "markdown",
   "metadata": {},
   "source": [
    "## Autocorrelation & Autoregression with Stock Prices\n",
    "\n",
    "*Adapted by Jeff Hale*\n",
    "\n",
    "You're interested in the performance of a particular stock. \n",
    "\n",
    "Autocorrelation is \"correlation between the elements of a series and others from the same series separated from them by a given interval.\" - OED via Google\n",
    "\n",
    "You use the [autocorrelation function](http://pandas.pydata.org/pandas-docs/stable/generated/pandas.Series.autocorr.html) in Pandas to assess how autocorrelated the stock's values are.\n",
    "\n",
    "Here are the stock's values shifted to show lags.\n",
    "\n",
    "| Day | Price | Price with Lag = 1 | Price with Lag = 2 |\n",
    "|-----|-------|--------------------|--------------------|\n",
    "| 1   | 25    | NA                 | NA                 |\n",
    "| 2   | 26    | 25                 | NA                 |\n",
    "| 3   | 28    | 26                 | 25                 |\n",
    "| 4   | 24    | 28                 | 26                 |\n",
    "| 5   | 23    | 24                 | 28                 |\n",
    "\n",
    "Autocorrelation with a lag of 1 will calculate the correlation between column \"Price\" and column \"Price with Lag = 1.\" Autocorrelation with a lag of $k$ will calculate the correlation between stock price and the stock price of $k$ days before in a similar manner.\n",
    "\n",
    "Suppose I build a loop that iterates through days (we'll assume our stock price is the closing price at every day) 1 to 365 to assess how correlated a stock price is with the stock price from $i$ days ago. (Sample code seen below.)\n",
    "\n",
    "```\n",
    "for i in range(1, 366):\n",
    "    print(df[stock_prices].autocorr(lag=i))\n",
    "```"
   ]
  },
  {
   "cell_type": "markdown",
   "metadata": {},
   "source": [
    "#### 1. Suppose my highest values of autocorrelation are found when $i = 1, 7, 30, 365$. What do each of these suggest about the performance of this particular stock?"
   ]
  },
  {
   "cell_type": "markdown",
   "metadata": {},
   "source": [
    "These each suggest, respectively, that the stock has daily, weekly, monthly and yearly seasonality."
   ]
  },
  {
   "cell_type": "markdown",
   "metadata": {},
   "source": [
    "Stock prices vary quite rapidly. Looking at almost any plot of stock price over time, we'll see a very \"wiggly\" function that moves around erratically. Building a model for this can be difficult.\n",
    "\n",
    "One way to \"de-noise\" or \"smooth\" this is to create a [moving average](http://www.investopedia.com/terms/m/movingaverage.asp) of stock prices. Suppose I wanted to create a moving average of stock prices across $k$ days. In this case, I create a new column that takes the current day and $k-1$ previous days (for $k$ total days) and average the stock prices of these days.\n",
    "\n",
    "For example, I have a column of stock prices and a column associated with a moving average for three days. Then, my row for Day 5 includes the Day 5 stock price and the average of Day 3, Day 4, and Day 5 stock prices. \n",
    "\n",
    "| Day | Price | Moving Average k = 3 |\n",
    "|-----|-------|----------------------|\n",
    "| 1   | 25    | NA                   |\n",
    "| 2   | 26    | NA                   |\n",
    "| 3   | 28    | 26.33                |\n",
    "| 4   | 24    | 26                   |\n",
    "| 5   | 23    | 25                   |\n",
    "\n",
    "#### 2.  As the number of periods $k$ increases, how do I expect my plotted curve's shape to change?"
   ]
  },
  {
   "cell_type": "markdown",
   "metadata": {},
   "source": [
    "The shape will become smoother as k increases"
   ]
  },
  {
   "cell_type": "markdown",
   "metadata": {},
   "source": [
    "#### 3. Suppose we use our moving average to predict values of the stock price. As $k$ increases, how is the bias of our predictions affected? "
   ]
  },
  {
   "cell_type": "markdown",
   "metadata": {},
   "source": [
    "The bias of our predictions will increase with k"
   ]
  },
  {
   "cell_type": "markdown",
   "metadata": {},
   "source": [
    "#### 4. As $k$ increases, how is the variance of our predictions affected?"
   ]
  },
  {
   "cell_type": "markdown",
   "metadata": {},
   "source": [
    "The variance of our predictions decreases as k increases."
   ]
  },
  {
   "cell_type": "markdown",
   "metadata": {},
   "source": [
    "## Stock price exploration "
   ]
  },
  {
   "cell_type": "markdown",
   "metadata": {},
   "source": [
    "#### Using the `yfinance` package, download stock data from the past five years for a company you are interested in. \n",
    "\n",
    "If needed, `pip install yfinance` "
   ]
  },
  {
   "cell_type": "code",
   "execution_count": 153,
   "metadata": {},
   "outputs": [],
   "source": [
    "import pandas as pd\n",
    "import numpy as np\n",
    "import matplotlib.pyplot as plt\n",
    "import yfinance as yf"
   ]
  },
  {
   "cell_type": "code",
   "execution_count": 154,
   "metadata": {},
   "outputs": [
    {
     "name": "stdout",
     "output_type": "stream",
     "text": [
      "[*********************100%***********************]  1 of 1 completed\n"
     ]
    },
    {
     "data": {
      "text/html": [
       "<div>\n",
       "<style scoped>\n",
       "    .dataframe tbody tr th:only-of-type {\n",
       "        vertical-align: middle;\n",
       "    }\n",
       "\n",
       "    .dataframe tbody tr th {\n",
       "        vertical-align: top;\n",
       "    }\n",
       "\n",
       "    .dataframe thead th {\n",
       "        text-align: right;\n",
       "    }\n",
       "</style>\n",
       "<table border=\"1\" class=\"dataframe\">\n",
       "  <thead>\n",
       "    <tr style=\"text-align: right;\">\n",
       "      <th></th>\n",
       "      <th>Open</th>\n",
       "      <th>High</th>\n",
       "      <th>Low</th>\n",
       "      <th>Close</th>\n",
       "      <th>Adj Close</th>\n",
       "      <th>Volume</th>\n",
       "    </tr>\n",
       "    <tr>\n",
       "      <th>Date</th>\n",
       "      <th></th>\n",
       "      <th></th>\n",
       "      <th></th>\n",
       "      <th></th>\n",
       "      <th></th>\n",
       "      <th></th>\n",
       "    </tr>\n",
       "  </thead>\n",
       "  <tbody>\n",
       "    <tr>\n",
       "      <th>2017-01-03</th>\n",
       "      <td>156.300003</td>\n",
       "      <td>157.139999</td>\n",
       "      <td>155.210007</td>\n",
       "      <td>156.970001</td>\n",
       "      <td>145.533661</td>\n",
       "      <td>3426100</td>\n",
       "    </tr>\n",
       "    <tr>\n",
       "      <th>2017-01-04</th>\n",
       "      <td>157.809998</td>\n",
       "      <td>159.229996</td>\n",
       "      <td>157.809998</td>\n",
       "      <td>158.619995</td>\n",
       "      <td>147.063431</td>\n",
       "      <td>3189800</td>\n",
       "    </tr>\n",
       "  </tbody>\n",
       "</table>\n",
       "</div>"
      ],
      "text/plain": [
       "                  Open        High         Low       Close   Adj Close  \\\n",
       "Date                                                                     \n",
       "2017-01-03  156.300003  157.139999  155.210007  156.970001  145.533661   \n",
       "2017-01-04  157.809998  159.229996  157.809998  158.619995  147.063431   \n",
       "\n",
       "             Volume  \n",
       "Date                 \n",
       "2017-01-03  3426100  \n",
       "2017-01-04  3189800  "
      ]
     },
     "execution_count": 154,
     "metadata": {},
     "output_type": "execute_result"
    }
   ],
   "source": [
    "boeing = yf.download('BA', start='2017-01-01')\n",
    "boeing.head(2)"
   ]
  },
  {
   "cell_type": "markdown",
   "metadata": {},
   "source": [
    "#### Examine the data."
   ]
  },
  {
   "cell_type": "code",
   "execution_count": 155,
   "metadata": {},
   "outputs": [
    {
     "name": "stdout",
     "output_type": "stream",
     "text": [
      "<class 'pandas.core.frame.DataFrame'>\n",
      "DatetimeIndex: 1294 entries, 2017-01-03 to 2022-02-22\n",
      "Data columns (total 6 columns):\n",
      " #   Column     Non-Null Count  Dtype  \n",
      "---  ------     --------------  -----  \n",
      " 0   Open       1294 non-null   float64\n",
      " 1   High       1294 non-null   float64\n",
      " 2   Low        1294 non-null   float64\n",
      " 3   Close      1294 non-null   float64\n",
      " 4   Adj Close  1294 non-null   float64\n",
      " 5   Volume     1294 non-null   int64  \n",
      "dtypes: float64(5), int64(1)\n",
      "memory usage: 70.8 KB\n"
     ]
    }
   ],
   "source": [
    "boeing.info()"
   ]
  },
  {
   "cell_type": "markdown",
   "metadata": {},
   "source": [
    "#### We'll be working with the 'Adj Close' column. Rename that column 'price' and make your DataFrame just that column and the datetime index. "
   ]
  },
  {
   "cell_type": "code",
   "execution_count": 156,
   "metadata": {},
   "outputs": [],
   "source": [
    "boeing['price'] = boeing['Adj Close']\n",
    "boeing = boeing[['price']]\n",
    "boeing.sort_index(inplace=True)"
   ]
  },
  {
   "cell_type": "markdown",
   "metadata": {},
   "source": [
    "#### Add columns that are lags of the most recent 10 observations."
   ]
  },
  {
   "cell_type": "code",
   "execution_count": 157,
   "metadata": {},
   "outputs": [
    {
     "data": {
      "text/html": [
       "<div>\n",
       "<style scoped>\n",
       "    .dataframe tbody tr th:only-of-type {\n",
       "        vertical-align: middle;\n",
       "    }\n",
       "\n",
       "    .dataframe tbody tr th {\n",
       "        vertical-align: top;\n",
       "    }\n",
       "\n",
       "    .dataframe thead th {\n",
       "        text-align: right;\n",
       "    }\n",
       "</style>\n",
       "<table border=\"1\" class=\"dataframe\">\n",
       "  <thead>\n",
       "    <tr style=\"text-align: right;\">\n",
       "      <th></th>\n",
       "      <th>price</th>\n",
       "      <th>lag_1</th>\n",
       "      <th>lag_2</th>\n",
       "      <th>lag_3</th>\n",
       "      <th>lag_4</th>\n",
       "      <th>lag_5</th>\n",
       "      <th>lag_6</th>\n",
       "      <th>lag_7</th>\n",
       "      <th>lag_8</th>\n",
       "      <th>lag_9</th>\n",
       "      <th>lag_10</th>\n",
       "    </tr>\n",
       "    <tr>\n",
       "      <th>Date</th>\n",
       "      <th></th>\n",
       "      <th></th>\n",
       "      <th></th>\n",
       "      <th></th>\n",
       "      <th></th>\n",
       "      <th></th>\n",
       "      <th></th>\n",
       "      <th></th>\n",
       "      <th></th>\n",
       "      <th></th>\n",
       "      <th></th>\n",
       "    </tr>\n",
       "  </thead>\n",
       "  <tbody>\n",
       "    <tr>\n",
       "      <th>2017-01-03</th>\n",
       "      <td>145.533661</td>\n",
       "      <td>NaN</td>\n",
       "      <td>NaN</td>\n",
       "      <td>NaN</td>\n",
       "      <td>NaN</td>\n",
       "      <td>NaN</td>\n",
       "      <td>NaN</td>\n",
       "      <td>NaN</td>\n",
       "      <td>NaN</td>\n",
       "      <td>NaN</td>\n",
       "      <td>NaN</td>\n",
       "    </tr>\n",
       "    <tr>\n",
       "      <th>2017-01-04</th>\n",
       "      <td>147.063431</td>\n",
       "      <td>145.533661</td>\n",
       "      <td>NaN</td>\n",
       "      <td>NaN</td>\n",
       "      <td>NaN</td>\n",
       "      <td>NaN</td>\n",
       "      <td>NaN</td>\n",
       "      <td>NaN</td>\n",
       "      <td>NaN</td>\n",
       "      <td>NaN</td>\n",
       "      <td>NaN</td>\n",
       "    </tr>\n",
       "    <tr>\n",
       "      <th>2017-01-05</th>\n",
       "      <td>147.146912</td>\n",
       "      <td>147.063431</td>\n",
       "      <td>145.533661</td>\n",
       "      <td>NaN</td>\n",
       "      <td>NaN</td>\n",
       "      <td>NaN</td>\n",
       "      <td>NaN</td>\n",
       "      <td>NaN</td>\n",
       "      <td>NaN</td>\n",
       "      <td>NaN</td>\n",
       "      <td>NaN</td>\n",
       "    </tr>\n",
       "    <tr>\n",
       "      <th>2017-01-06</th>\n",
       "      <td>147.508514</td>\n",
       "      <td>147.146912</td>\n",
       "      <td>147.063431</td>\n",
       "      <td>145.533661</td>\n",
       "      <td>NaN</td>\n",
       "      <td>NaN</td>\n",
       "      <td>NaN</td>\n",
       "      <td>NaN</td>\n",
       "      <td>NaN</td>\n",
       "      <td>NaN</td>\n",
       "      <td>NaN</td>\n",
       "    </tr>\n",
       "    <tr>\n",
       "      <th>2017-01-09</th>\n",
       "      <td>146.785324</td>\n",
       "      <td>147.508514</td>\n",
       "      <td>147.146912</td>\n",
       "      <td>147.063431</td>\n",
       "      <td>145.533661</td>\n",
       "      <td>NaN</td>\n",
       "      <td>NaN</td>\n",
       "      <td>NaN</td>\n",
       "      <td>NaN</td>\n",
       "      <td>NaN</td>\n",
       "      <td>NaN</td>\n",
       "    </tr>\n",
       "  </tbody>\n",
       "</table>\n",
       "</div>"
      ],
      "text/plain": [
       "                 price       lag_1       lag_2       lag_3       lag_4  lag_5  \\\n",
       "Date                                                                            \n",
       "2017-01-03  145.533661         NaN         NaN         NaN         NaN    NaN   \n",
       "2017-01-04  147.063431  145.533661         NaN         NaN         NaN    NaN   \n",
       "2017-01-05  147.146912  147.063431  145.533661         NaN         NaN    NaN   \n",
       "2017-01-06  147.508514  147.146912  147.063431  145.533661         NaN    NaN   \n",
       "2017-01-09  146.785324  147.508514  147.146912  147.063431  145.533661    NaN   \n",
       "\n",
       "            lag_6  lag_7  lag_8  lag_9  lag_10  \n",
       "Date                                            \n",
       "2017-01-03    NaN    NaN    NaN    NaN     NaN  \n",
       "2017-01-04    NaN    NaN    NaN    NaN     NaN  \n",
       "2017-01-05    NaN    NaN    NaN    NaN     NaN  \n",
       "2017-01-06    NaN    NaN    NaN    NaN     NaN  \n",
       "2017-01-09    NaN    NaN    NaN    NaN     NaN  "
      ]
     },
     "execution_count": 157,
     "metadata": {},
     "output_type": "execute_result"
    }
   ],
   "source": [
    "# With help from https://stackoverflow.com/questions/20410312/how-to-create-a-lagged-data-structure-using-pandas-dataframe\n",
    "number_lags = 10\n",
    "boeing_lags = boeing[['price']]\n",
    "for lag in range(1, number_lags + 1):\n",
    "    boeing_lags['lag_' + str(lag)] = boeing.shift(lag)\n",
    "\n",
    "boeing_lags.head()\n"
   ]
  },
  {
   "cell_type": "markdown",
   "metadata": {},
   "source": [
    "#### Split the DataFrame into training and test sets so that the test set is the most recent year of data (you can use pandas slicing, scikit-learn, or sktime packages to do this)."
   ]
  },
  {
   "cell_type": "code",
   "execution_count": 158,
   "metadata": {},
   "outputs": [
    {
     "data": {
      "text/html": [
       "<div>\n",
       "<style scoped>\n",
       "    .dataframe tbody tr th:only-of-type {\n",
       "        vertical-align: middle;\n",
       "    }\n",
       "\n",
       "    .dataframe tbody tr th {\n",
       "        vertical-align: top;\n",
       "    }\n",
       "\n",
       "    .dataframe thead th {\n",
       "        text-align: right;\n",
       "    }\n",
       "</style>\n",
       "<table border=\"1\" class=\"dataframe\">\n",
       "  <thead>\n",
       "    <tr style=\"text-align: right;\">\n",
       "      <th></th>\n",
       "      <th>price</th>\n",
       "      <th>lag_1</th>\n",
       "      <th>lag_2</th>\n",
       "      <th>lag_3</th>\n",
       "      <th>lag_4</th>\n",
       "      <th>lag_5</th>\n",
       "      <th>lag_6</th>\n",
       "      <th>lag_7</th>\n",
       "      <th>lag_8</th>\n",
       "      <th>lag_9</th>\n",
       "      <th>lag_10</th>\n",
       "    </tr>\n",
       "    <tr>\n",
       "      <th>Date</th>\n",
       "      <th></th>\n",
       "      <th></th>\n",
       "      <th></th>\n",
       "      <th></th>\n",
       "      <th></th>\n",
       "      <th></th>\n",
       "      <th></th>\n",
       "      <th></th>\n",
       "      <th></th>\n",
       "      <th></th>\n",
       "      <th></th>\n",
       "    </tr>\n",
       "  </thead>\n",
       "  <tbody>\n",
       "    <tr>\n",
       "      <th>2021-02-22</th>\n",
       "      <td>212.880005</td>\n",
       "      <td>217.470001</td>\n",
       "      <td>208.479996</td>\n",
       "      <td>215.520004</td>\n",
       "      <td>217.179993</td>\n",
       "      <td>210.979996</td>\n",
       "      <td>210.660004</td>\n",
       "      <td>211.919998</td>\n",
       "      <td>215.119995</td>\n",
       "      <td>211.949997</td>\n",
       "      <td>207.929993</td>\n",
       "    </tr>\n",
       "    <tr>\n",
       "      <th>2021-02-23</th>\n",
       "      <td>212.119995</td>\n",
       "      <td>212.880005</td>\n",
       "      <td>217.470001</td>\n",
       "      <td>208.479996</td>\n",
       "      <td>215.520004</td>\n",
       "      <td>217.179993</td>\n",
       "      <td>210.979996</td>\n",
       "      <td>210.660004</td>\n",
       "      <td>211.919998</td>\n",
       "      <td>215.119995</td>\n",
       "      <td>211.949997</td>\n",
       "    </tr>\n",
       "    <tr>\n",
       "      <th>2021-02-24</th>\n",
       "      <td>229.339996</td>\n",
       "      <td>212.119995</td>\n",
       "      <td>212.880005</td>\n",
       "      <td>217.470001</td>\n",
       "      <td>208.479996</td>\n",
       "      <td>215.520004</td>\n",
       "      <td>217.179993</td>\n",
       "      <td>210.979996</td>\n",
       "      <td>210.660004</td>\n",
       "      <td>211.919998</td>\n",
       "      <td>215.119995</td>\n",
       "    </tr>\n",
       "    <tr>\n",
       "      <th>2021-02-25</th>\n",
       "      <td>216.449997</td>\n",
       "      <td>229.339996</td>\n",
       "      <td>212.119995</td>\n",
       "      <td>212.880005</td>\n",
       "      <td>217.470001</td>\n",
       "      <td>208.479996</td>\n",
       "      <td>215.520004</td>\n",
       "      <td>217.179993</td>\n",
       "      <td>210.979996</td>\n",
       "      <td>210.660004</td>\n",
       "      <td>211.919998</td>\n",
       "    </tr>\n",
       "    <tr>\n",
       "      <th>2021-02-26</th>\n",
       "      <td>212.009995</td>\n",
       "      <td>216.449997</td>\n",
       "      <td>229.339996</td>\n",
       "      <td>212.119995</td>\n",
       "      <td>212.880005</td>\n",
       "      <td>217.470001</td>\n",
       "      <td>208.479996</td>\n",
       "      <td>215.520004</td>\n",
       "      <td>217.179993</td>\n",
       "      <td>210.979996</td>\n",
       "      <td>210.660004</td>\n",
       "    </tr>\n",
       "  </tbody>\n",
       "</table>\n",
       "</div>"
      ],
      "text/plain": [
       "                 price       lag_1       lag_2       lag_3       lag_4  \\\n",
       "Date                                                                     \n",
       "2021-02-22  212.880005  217.470001  208.479996  215.520004  217.179993   \n",
       "2021-02-23  212.119995  212.880005  217.470001  208.479996  215.520004   \n",
       "2021-02-24  229.339996  212.119995  212.880005  217.470001  208.479996   \n",
       "2021-02-25  216.449997  229.339996  212.119995  212.880005  217.470001   \n",
       "2021-02-26  212.009995  216.449997  229.339996  212.119995  212.880005   \n",
       "\n",
       "                 lag_5       lag_6       lag_7       lag_8       lag_9  \\\n",
       "Date                                                                     \n",
       "2021-02-22  210.979996  210.660004  211.919998  215.119995  211.949997   \n",
       "2021-02-23  217.179993  210.979996  210.660004  211.919998  215.119995   \n",
       "2021-02-24  215.520004  217.179993  210.979996  210.660004  211.919998   \n",
       "2021-02-25  208.479996  215.520004  217.179993  210.979996  210.660004   \n",
       "2021-02-26  217.470001  208.479996  215.520004  217.179993  210.979996   \n",
       "\n",
       "                lag_10  \n",
       "Date                    \n",
       "2021-02-22  207.929993  \n",
       "2021-02-23  211.949997  \n",
       "2021-02-24  215.119995  \n",
       "2021-02-25  211.919998  \n",
       "2021-02-26  210.660004  "
      ]
     },
     "execution_count": 158,
     "metadata": {},
     "output_type": "execute_result"
    }
   ],
   "source": [
    "test = boeing_lags.loc['2021-02-22':]\n",
    "test.head()"
   ]
  },
  {
   "cell_type": "code",
   "execution_count": 159,
   "metadata": {},
   "outputs": [
    {
     "data": {
      "text/html": [
       "<div>\n",
       "<style scoped>\n",
       "    .dataframe tbody tr th:only-of-type {\n",
       "        vertical-align: middle;\n",
       "    }\n",
       "\n",
       "    .dataframe tbody tr th {\n",
       "        vertical-align: top;\n",
       "    }\n",
       "\n",
       "    .dataframe thead th {\n",
       "        text-align: right;\n",
       "    }\n",
       "</style>\n",
       "<table border=\"1\" class=\"dataframe\">\n",
       "  <thead>\n",
       "    <tr style=\"text-align: right;\">\n",
       "      <th></th>\n",
       "      <th>price</th>\n",
       "      <th>lag_1</th>\n",
       "      <th>lag_2</th>\n",
       "      <th>lag_3</th>\n",
       "      <th>lag_4</th>\n",
       "      <th>lag_5</th>\n",
       "      <th>lag_6</th>\n",
       "      <th>lag_7</th>\n",
       "      <th>lag_8</th>\n",
       "      <th>lag_9</th>\n",
       "      <th>lag_10</th>\n",
       "    </tr>\n",
       "    <tr>\n",
       "      <th>Date</th>\n",
       "      <th></th>\n",
       "      <th></th>\n",
       "      <th></th>\n",
       "      <th></th>\n",
       "      <th></th>\n",
       "      <th></th>\n",
       "      <th></th>\n",
       "      <th></th>\n",
       "      <th></th>\n",
       "      <th></th>\n",
       "      <th></th>\n",
       "    </tr>\n",
       "  </thead>\n",
       "  <tbody>\n",
       "    <tr>\n",
       "      <th>2022-02-15</th>\n",
       "      <td>217.729996</td>\n",
       "      <td>210.039993</td>\n",
       "      <td>212.300003</td>\n",
       "      <td>218.750000</td>\n",
       "      <td>215.860001</td>\n",
       "      <td>213.270004</td>\n",
       "      <td>211.919998</td>\n",
       "      <td>206.449997</td>\n",
       "      <td>206.389999</td>\n",
       "      <td>207.520004</td>\n",
       "      <td>208.339996</td>\n",
       "    </tr>\n",
       "    <tr>\n",
       "      <th>2022-02-16</th>\n",
       "      <td>218.929993</td>\n",
       "      <td>217.729996</td>\n",
       "      <td>210.039993</td>\n",
       "      <td>212.300003</td>\n",
       "      <td>218.750000</td>\n",
       "      <td>215.860001</td>\n",
       "      <td>213.270004</td>\n",
       "      <td>211.919998</td>\n",
       "      <td>206.449997</td>\n",
       "      <td>206.389999</td>\n",
       "      <td>207.520004</td>\n",
       "    </tr>\n",
       "    <tr>\n",
       "      <th>2022-02-17</th>\n",
       "      <td>213.580002</td>\n",
       "      <td>218.929993</td>\n",
       "      <td>217.729996</td>\n",
       "      <td>210.039993</td>\n",
       "      <td>212.300003</td>\n",
       "      <td>218.750000</td>\n",
       "      <td>215.860001</td>\n",
       "      <td>213.270004</td>\n",
       "      <td>211.919998</td>\n",
       "      <td>206.449997</td>\n",
       "      <td>206.389999</td>\n",
       "    </tr>\n",
       "    <tr>\n",
       "      <th>2022-02-18</th>\n",
       "      <td>209.029999</td>\n",
       "      <td>213.580002</td>\n",
       "      <td>218.929993</td>\n",
       "      <td>217.729996</td>\n",
       "      <td>210.039993</td>\n",
       "      <td>212.300003</td>\n",
       "      <td>218.750000</td>\n",
       "      <td>215.860001</td>\n",
       "      <td>213.270004</td>\n",
       "      <td>211.919998</td>\n",
       "      <td>206.449997</td>\n",
       "    </tr>\n",
       "    <tr>\n",
       "      <th>2022-02-22</th>\n",
       "      <td>198.740005</td>\n",
       "      <td>209.029999</td>\n",
       "      <td>213.580002</td>\n",
       "      <td>218.929993</td>\n",
       "      <td>217.729996</td>\n",
       "      <td>210.039993</td>\n",
       "      <td>212.300003</td>\n",
       "      <td>218.750000</td>\n",
       "      <td>215.860001</td>\n",
       "      <td>213.270004</td>\n",
       "      <td>211.919998</td>\n",
       "    </tr>\n",
       "  </tbody>\n",
       "</table>\n",
       "</div>"
      ],
      "text/plain": [
       "                 price       lag_1       lag_2       lag_3       lag_4  \\\n",
       "Date                                                                     \n",
       "2022-02-15  217.729996  210.039993  212.300003  218.750000  215.860001   \n",
       "2022-02-16  218.929993  217.729996  210.039993  212.300003  218.750000   \n",
       "2022-02-17  213.580002  218.929993  217.729996  210.039993  212.300003   \n",
       "2022-02-18  209.029999  213.580002  218.929993  217.729996  210.039993   \n",
       "2022-02-22  198.740005  209.029999  213.580002  218.929993  217.729996   \n",
       "\n",
       "                 lag_5       lag_6       lag_7       lag_8       lag_9  \\\n",
       "Date                                                                     \n",
       "2022-02-15  213.270004  211.919998  206.449997  206.389999  207.520004   \n",
       "2022-02-16  215.860001  213.270004  211.919998  206.449997  206.389999   \n",
       "2022-02-17  218.750000  215.860001  213.270004  211.919998  206.449997   \n",
       "2022-02-18  212.300003  218.750000  215.860001  213.270004  211.919998   \n",
       "2022-02-22  210.039993  212.300003  218.750000  215.860001  213.270004   \n",
       "\n",
       "                lag_10  \n",
       "Date                    \n",
       "2022-02-15  208.339996  \n",
       "2022-02-16  207.520004  \n",
       "2022-02-17  206.389999  \n",
       "2022-02-18  206.449997  \n",
       "2022-02-22  211.919998  "
      ]
     },
     "execution_count": 159,
     "metadata": {},
     "output_type": "execute_result"
    }
   ],
   "source": [
    "test.tail()"
   ]
  },
  {
   "cell_type": "code",
   "execution_count": 160,
   "metadata": {},
   "outputs": [],
   "source": [
    "train = boeing_lags[:'2021-02-22']"
   ]
  },
  {
   "cell_type": "code",
   "execution_count": 161,
   "metadata": {},
   "outputs": [
    {
     "data": {
      "text/html": [
       "<div>\n",
       "<style scoped>\n",
       "    .dataframe tbody tr th:only-of-type {\n",
       "        vertical-align: middle;\n",
       "    }\n",
       "\n",
       "    .dataframe tbody tr th {\n",
       "        vertical-align: top;\n",
       "    }\n",
       "\n",
       "    .dataframe thead th {\n",
       "        text-align: right;\n",
       "    }\n",
       "</style>\n",
       "<table border=\"1\" class=\"dataframe\">\n",
       "  <thead>\n",
       "    <tr style=\"text-align: right;\">\n",
       "      <th></th>\n",
       "      <th>price</th>\n",
       "      <th>lag_1</th>\n",
       "      <th>lag_2</th>\n",
       "      <th>lag_3</th>\n",
       "      <th>lag_4</th>\n",
       "      <th>lag_5</th>\n",
       "      <th>lag_6</th>\n",
       "      <th>lag_7</th>\n",
       "      <th>lag_8</th>\n",
       "      <th>lag_9</th>\n",
       "      <th>lag_10</th>\n",
       "    </tr>\n",
       "    <tr>\n",
       "      <th>Date</th>\n",
       "      <th></th>\n",
       "      <th></th>\n",
       "      <th></th>\n",
       "      <th></th>\n",
       "      <th></th>\n",
       "      <th></th>\n",
       "      <th></th>\n",
       "      <th></th>\n",
       "      <th></th>\n",
       "      <th></th>\n",
       "      <th></th>\n",
       "    </tr>\n",
       "  </thead>\n",
       "  <tbody>\n",
       "    <tr>\n",
       "      <th>2017-01-03</th>\n",
       "      <td>145.533661</td>\n",
       "      <td>NaN</td>\n",
       "      <td>NaN</td>\n",
       "      <td>NaN</td>\n",
       "      <td>NaN</td>\n",
       "      <td>NaN</td>\n",
       "      <td>NaN</td>\n",
       "      <td>NaN</td>\n",
       "      <td>NaN</td>\n",
       "      <td>NaN</td>\n",
       "      <td>NaN</td>\n",
       "    </tr>\n",
       "    <tr>\n",
       "      <th>2017-01-04</th>\n",
       "      <td>147.063431</td>\n",
       "      <td>145.533661</td>\n",
       "      <td>NaN</td>\n",
       "      <td>NaN</td>\n",
       "      <td>NaN</td>\n",
       "      <td>NaN</td>\n",
       "      <td>NaN</td>\n",
       "      <td>NaN</td>\n",
       "      <td>NaN</td>\n",
       "      <td>NaN</td>\n",
       "      <td>NaN</td>\n",
       "    </tr>\n",
       "    <tr>\n",
       "      <th>2017-01-05</th>\n",
       "      <td>147.146912</td>\n",
       "      <td>147.063431</td>\n",
       "      <td>145.533661</td>\n",
       "      <td>NaN</td>\n",
       "      <td>NaN</td>\n",
       "      <td>NaN</td>\n",
       "      <td>NaN</td>\n",
       "      <td>NaN</td>\n",
       "      <td>NaN</td>\n",
       "      <td>NaN</td>\n",
       "      <td>NaN</td>\n",
       "    </tr>\n",
       "    <tr>\n",
       "      <th>2017-01-06</th>\n",
       "      <td>147.508514</td>\n",
       "      <td>147.146912</td>\n",
       "      <td>147.063431</td>\n",
       "      <td>145.533661</td>\n",
       "      <td>NaN</td>\n",
       "      <td>NaN</td>\n",
       "      <td>NaN</td>\n",
       "      <td>NaN</td>\n",
       "      <td>NaN</td>\n",
       "      <td>NaN</td>\n",
       "      <td>NaN</td>\n",
       "    </tr>\n",
       "    <tr>\n",
       "      <th>2017-01-09</th>\n",
       "      <td>146.785324</td>\n",
       "      <td>147.508514</td>\n",
       "      <td>147.146912</td>\n",
       "      <td>147.063431</td>\n",
       "      <td>145.533661</td>\n",
       "      <td>NaN</td>\n",
       "      <td>NaN</td>\n",
       "      <td>NaN</td>\n",
       "      <td>NaN</td>\n",
       "      <td>NaN</td>\n",
       "      <td>NaN</td>\n",
       "    </tr>\n",
       "  </tbody>\n",
       "</table>\n",
       "</div>"
      ],
      "text/plain": [
       "                 price       lag_1       lag_2       lag_3       lag_4  lag_5  \\\n",
       "Date                                                                            \n",
       "2017-01-03  145.533661         NaN         NaN         NaN         NaN    NaN   \n",
       "2017-01-04  147.063431  145.533661         NaN         NaN         NaN    NaN   \n",
       "2017-01-05  147.146912  147.063431  145.533661         NaN         NaN    NaN   \n",
       "2017-01-06  147.508514  147.146912  147.063431  145.533661         NaN    NaN   \n",
       "2017-01-09  146.785324  147.508514  147.146912  147.063431  145.533661    NaN   \n",
       "\n",
       "            lag_6  lag_7  lag_8  lag_9  lag_10  \n",
       "Date                                            \n",
       "2017-01-03    NaN    NaN    NaN    NaN     NaN  \n",
       "2017-01-04    NaN    NaN    NaN    NaN     NaN  \n",
       "2017-01-05    NaN    NaN    NaN    NaN     NaN  \n",
       "2017-01-06    NaN    NaN    NaN    NaN     NaN  \n",
       "2017-01-09    NaN    NaN    NaN    NaN     NaN  "
      ]
     },
     "execution_count": 161,
     "metadata": {},
     "output_type": "execute_result"
    }
   ],
   "source": [
    "train.head()"
   ]
  },
  {
   "cell_type": "code",
   "execution_count": 162,
   "metadata": {},
   "outputs": [
    {
     "data": {
      "text/html": [
       "<div>\n",
       "<style scoped>\n",
       "    .dataframe tbody tr th:only-of-type {\n",
       "        vertical-align: middle;\n",
       "    }\n",
       "\n",
       "    .dataframe tbody tr th {\n",
       "        vertical-align: top;\n",
       "    }\n",
       "\n",
       "    .dataframe thead th {\n",
       "        text-align: right;\n",
       "    }\n",
       "</style>\n",
       "<table border=\"1\" class=\"dataframe\">\n",
       "  <thead>\n",
       "    <tr style=\"text-align: right;\">\n",
       "      <th></th>\n",
       "      <th>price</th>\n",
       "      <th>lag_1</th>\n",
       "      <th>lag_2</th>\n",
       "      <th>lag_3</th>\n",
       "      <th>lag_4</th>\n",
       "      <th>lag_5</th>\n",
       "      <th>lag_6</th>\n",
       "      <th>lag_7</th>\n",
       "      <th>lag_8</th>\n",
       "      <th>lag_9</th>\n",
       "      <th>lag_10</th>\n",
       "    </tr>\n",
       "    <tr>\n",
       "      <th>Date</th>\n",
       "      <th></th>\n",
       "      <th></th>\n",
       "      <th></th>\n",
       "      <th></th>\n",
       "      <th></th>\n",
       "      <th></th>\n",
       "      <th></th>\n",
       "      <th></th>\n",
       "      <th></th>\n",
       "      <th></th>\n",
       "      <th></th>\n",
       "    </tr>\n",
       "  </thead>\n",
       "  <tbody>\n",
       "    <tr>\n",
       "      <th>2021-02-16</th>\n",
       "      <td>217.179993</td>\n",
       "      <td>210.979996</td>\n",
       "      <td>210.660004</td>\n",
       "      <td>211.919998</td>\n",
       "      <td>215.119995</td>\n",
       "      <td>211.949997</td>\n",
       "      <td>207.929993</td>\n",
       "      <td>210.639999</td>\n",
       "      <td>207.389999</td>\n",
       "      <td>200.940002</td>\n",
       "      <td>195.839996</td>\n",
       "    </tr>\n",
       "    <tr>\n",
       "      <th>2021-02-17</th>\n",
       "      <td>215.520004</td>\n",
       "      <td>217.179993</td>\n",
       "      <td>210.979996</td>\n",
       "      <td>210.660004</td>\n",
       "      <td>211.919998</td>\n",
       "      <td>215.119995</td>\n",
       "      <td>211.949997</td>\n",
       "      <td>207.929993</td>\n",
       "      <td>210.639999</td>\n",
       "      <td>207.389999</td>\n",
       "      <td>200.940002</td>\n",
       "    </tr>\n",
       "    <tr>\n",
       "      <th>2021-02-18</th>\n",
       "      <td>208.479996</td>\n",
       "      <td>215.520004</td>\n",
       "      <td>217.179993</td>\n",
       "      <td>210.979996</td>\n",
       "      <td>210.660004</td>\n",
       "      <td>211.919998</td>\n",
       "      <td>215.119995</td>\n",
       "      <td>211.949997</td>\n",
       "      <td>207.929993</td>\n",
       "      <td>210.639999</td>\n",
       "      <td>207.389999</td>\n",
       "    </tr>\n",
       "    <tr>\n",
       "      <th>2021-02-19</th>\n",
       "      <td>217.470001</td>\n",
       "      <td>208.479996</td>\n",
       "      <td>215.520004</td>\n",
       "      <td>217.179993</td>\n",
       "      <td>210.979996</td>\n",
       "      <td>210.660004</td>\n",
       "      <td>211.919998</td>\n",
       "      <td>215.119995</td>\n",
       "      <td>211.949997</td>\n",
       "      <td>207.929993</td>\n",
       "      <td>210.639999</td>\n",
       "    </tr>\n",
       "    <tr>\n",
       "      <th>2021-02-22</th>\n",
       "      <td>212.880005</td>\n",
       "      <td>217.470001</td>\n",
       "      <td>208.479996</td>\n",
       "      <td>215.520004</td>\n",
       "      <td>217.179993</td>\n",
       "      <td>210.979996</td>\n",
       "      <td>210.660004</td>\n",
       "      <td>211.919998</td>\n",
       "      <td>215.119995</td>\n",
       "      <td>211.949997</td>\n",
       "      <td>207.929993</td>\n",
       "    </tr>\n",
       "  </tbody>\n",
       "</table>\n",
       "</div>"
      ],
      "text/plain": [
       "                 price       lag_1       lag_2       lag_3       lag_4  \\\n",
       "Date                                                                     \n",
       "2021-02-16  217.179993  210.979996  210.660004  211.919998  215.119995   \n",
       "2021-02-17  215.520004  217.179993  210.979996  210.660004  211.919998   \n",
       "2021-02-18  208.479996  215.520004  217.179993  210.979996  210.660004   \n",
       "2021-02-19  217.470001  208.479996  215.520004  217.179993  210.979996   \n",
       "2021-02-22  212.880005  217.470001  208.479996  215.520004  217.179993   \n",
       "\n",
       "                 lag_5       lag_6       lag_7       lag_8       lag_9  \\\n",
       "Date                                                                     \n",
       "2021-02-16  211.949997  207.929993  210.639999  207.389999  200.940002   \n",
       "2021-02-17  215.119995  211.949997  207.929993  210.639999  207.389999   \n",
       "2021-02-18  211.919998  215.119995  211.949997  207.929993  210.639999   \n",
       "2021-02-19  210.660004  211.919998  215.119995  211.949997  207.929993   \n",
       "2021-02-22  210.979996  210.660004  211.919998  215.119995  211.949997   \n",
       "\n",
       "                lag_10  \n",
       "Date                    \n",
       "2021-02-16  195.839996  \n",
       "2021-02-17  200.940002  \n",
       "2021-02-18  207.389999  \n",
       "2021-02-19  210.639999  \n",
       "2021-02-22  207.929993  "
      ]
     },
     "execution_count": 162,
     "metadata": {},
     "output_type": "execute_result"
    }
   ],
   "source": [
    "train.tail()"
   ]
  },
  {
   "cell_type": "markdown",
   "metadata": {},
   "source": [
    "#### Plot the stock price with different colors for the training and test sets."
   ]
  },
  {
   "cell_type": "code",
   "execution_count": 163,
   "metadata": {},
   "outputs": [
    {
     "data": {
      "image/png": "[encoded data removed]",
      "text/plain": [
       "<Figure size 432x288 with 1 Axes>"
      ]
     },
     "metadata": {
      "needs_background": "light"
     },
     "output_type": "display_data"
    }
   ],
   "source": [
    "train['price'].plot()\n",
    "test['price'].plot();"
   ]
  },
  {
   "cell_type": "markdown",
   "metadata": {},
   "source": [
    "#### Find the autocorrelations of the training data for lags 1-10."
   ]
  },
  {
   "cell_type": "code",
   "execution_count": 164,
   "metadata": {},
   "outputs": [
    {
     "name": "stdout",
     "output_type": "stream",
     "text": [
      "0.9968121625557185\n",
      "0.9933965688909009\n",
      "0.989325718361936\n",
      "0.9852828172430419\n",
      "0.9809899445584499\n",
      "0.9765757327152306\n",
      "0.9723996869778411\n",
      "0.9679326320170949\n",
      "0.9635582284870582\n",
      "0.9587385189122684\n"
     ]
    }
   ],
   "source": [
    "for i in range (1, 11):\n",
    "    print(train['price'].autocorr(i))"
   ]
  },
  {
   "cell_type": "markdown",
   "metadata": {},
   "source": [
    "#### Plot the autocorrelation using statsmodels `plot_acf`."
   ]
  },
  {
   "cell_type": "code",
   "execution_count": 165,
   "metadata": {},
   "outputs": [],
   "source": [
    "# With help from https://machinelearningmastery.com/gentle-introduction-autocorrelation-partial-autocorrelation/\n",
    "from statsmodels.graphics.tsaplots import plot_acf, plot_pacf"
   ]
  },
  {
   "cell_type": "code",
   "execution_count": 166,
   "metadata": {},
   "outputs": [
    {
     "data": {
      "image/png": "[encoded data removed]",
      "text/plain": [
       "<Figure size 432x288 with 1 Axes>"
      ]
     },
     "metadata": {
      "needs_background": "light"
     },
     "output_type": "display_data"
    }
   ],
   "source": [
    "\n",
    "plot_acf(train['price']);"
   ]
  },
  {
   "cell_type": "markdown",
   "metadata": {},
   "source": [
    "#### Plot the partial autocorrelation values using statsmodels `plot_pacf`."
   ]
  },
  {
   "cell_type": "code",
   "execution_count": 167,
   "metadata": {},
   "outputs": [
    {
     "data": {
      "image/png": "[encoded data removed]",
      "text/plain": [
       "<Figure size 432x288 with 1 Axes>"
      ]
     },
     "metadata": {
      "needs_background": "light"
     },
     "output_type": "display_data"
    }
   ],
   "source": [
    "plot_pacf(train['price']);"
   ]
  },
  {
   "cell_type": "markdown",
   "metadata": {},
   "source": [
    "#### Do any lags have high autocorrelation?"
   ]
  },
  {
   "cell_type": "markdown",
   "metadata": {},
   "source": [
    "All lags have high autocorrelation"
   ]
  },
  {
   "cell_type": "markdown",
   "metadata": {},
   "source": [
    "### Baseline model"
   ]
  },
  {
   "cell_type": "markdown",
   "metadata": {},
   "source": [
    "#### Make a baseline model that is just the last value from the training set, continued into the future."
   ]
  },
  {
   "cell_type": "code",
   "execution_count": 168,
   "metadata": {},
   "outputs": [
    {
     "data": {
      "text/plain": [
       "212.8800048828125"
      ]
     },
     "execution_count": 168,
     "metadata": {},
     "output_type": "execute_result"
    }
   ],
   "source": [
    "train['price'].iloc[-1]"
   ]
  },
  {
   "cell_type": "code",
   "execution_count": 169,
   "metadata": {},
   "outputs": [],
   "source": [
    "df_preds = test[['price']]"
   ]
  },
  {
   "cell_type": "code",
   "execution_count": 175,
   "metadata": {},
   "outputs": [
    {
     "name": "stderr",
     "output_type": "stream",
     "text": [
      "/var/folders/p1/89v2vyg94jd0blrmm4w41wr00000gn/T/ipykernel_82078/2709553461.py:1: SettingWithCopyWarning: \n",
      "A value is trying to be set on a copy of a slice from a DataFrame.\n",
      "Try using .loc[row_indexer,col_indexer] = value instead\n",
      "\n",
      "See the caveats in the documentation: https://pandas.pydata.org/pandas-docs/stable/user_guide/indexing.html#returning-a-view-versus-a-copy\n",
      "  df_preds['last'] = train['price'].iloc[-1]\n"
     ]
    },
    {
     "data": {
      "text/html": [
       "<div>\n",
       "<style scoped>\n",
       "    .dataframe tbody tr th:only-of-type {\n",
       "        vertical-align: middle;\n",
       "    }\n",
       "\n",
       "    .dataframe tbody tr th {\n",
       "        vertical-align: top;\n",
       "    }\n",
       "\n",
       "    .dataframe thead th {\n",
       "        text-align: right;\n",
       "    }\n",
       "</style>\n",
       "<table border=\"1\" class=\"dataframe\">\n",
       "  <thead>\n",
       "    <tr style=\"text-align: right;\">\n",
       "      <th></th>\n",
       "      <th>price</th>\n",
       "      <th>last</th>\n",
       "    </tr>\n",
       "    <tr>\n",
       "      <th>Date</th>\n",
       "      <th></th>\n",
       "      <th></th>\n",
       "    </tr>\n",
       "  </thead>\n",
       "  <tbody>\n",
       "    <tr>\n",
       "      <th>2021-02-22</th>\n",
       "      <td>212.880005</td>\n",
       "      <td>212.880005</td>\n",
       "    </tr>\n",
       "    <tr>\n",
       "      <th>2021-02-23</th>\n",
       "      <td>212.119995</td>\n",
       "      <td>212.880005</td>\n",
       "    </tr>\n",
       "    <tr>\n",
       "      <th>2021-02-24</th>\n",
       "      <td>229.339996</td>\n",
       "      <td>212.880005</td>\n",
       "    </tr>\n",
       "    <tr>\n",
       "      <th>2021-02-25</th>\n",
       "      <td>216.449997</td>\n",
       "      <td>212.880005</td>\n",
       "    </tr>\n",
       "    <tr>\n",
       "      <th>2021-02-26</th>\n",
       "      <td>212.009995</td>\n",
       "      <td>212.880005</td>\n",
       "    </tr>\n",
       "    <tr>\n",
       "      <th>...</th>\n",
       "      <td>...</td>\n",
       "      <td>...</td>\n",
       "    </tr>\n",
       "    <tr>\n",
       "      <th>2022-02-15</th>\n",
       "      <td>217.729996</td>\n",
       "      <td>212.880005</td>\n",
       "    </tr>\n",
       "    <tr>\n",
       "      <th>2022-02-16</th>\n",
       "      <td>218.929993</td>\n",
       "      <td>212.880005</td>\n",
       "    </tr>\n",
       "    <tr>\n",
       "      <th>2022-02-17</th>\n",
       "      <td>213.580002</td>\n",
       "      <td>212.880005</td>\n",
       "    </tr>\n",
       "    <tr>\n",
       "      <th>2022-02-18</th>\n",
       "      <td>209.029999</td>\n",
       "      <td>212.880005</td>\n",
       "    </tr>\n",
       "    <tr>\n",
       "      <th>2022-02-22</th>\n",
       "      <td>198.740005</td>\n",
       "      <td>212.880005</td>\n",
       "    </tr>\n",
       "  </tbody>\n",
       "</table>\n",
       "<p>254 rows × 2 columns</p>\n",
       "</div>"
      ],
      "text/plain": [
       "                 price        last\n",
       "Date                              \n",
       "2021-02-22  212.880005  212.880005\n",
       "2021-02-23  212.119995  212.880005\n",
       "2021-02-24  229.339996  212.880005\n",
       "2021-02-25  216.449997  212.880005\n",
       "2021-02-26  212.009995  212.880005\n",
       "...                ...         ...\n",
       "2022-02-15  217.729996  212.880005\n",
       "2022-02-16  218.929993  212.880005\n",
       "2022-02-17  213.580002  212.880005\n",
       "2022-02-18  209.029999  212.880005\n",
       "2022-02-22  198.740005  212.880005\n",
       "\n",
       "[254 rows x 2 columns]"
      ]
     },
     "execution_count": 175,
     "metadata": {},
     "output_type": "execute_result"
    }
   ],
   "source": [
    "df_preds['last'] = train['price'].iloc[-1]\n",
    "df_preds"
   ]
  },
  {
   "cell_type": "markdown",
   "metadata": {},
   "source": [
    "#### Plot it"
   ]
  },
  {
   "cell_type": "code",
   "execution_count": 176,
   "metadata": {},
   "outputs": [
    {
     "data": {
      "image/png": "[encoded data removed]",
      "text/plain": [
       "<Figure size 864x576 with 1 Axes>"
      ]
     },
     "metadata": {
      "needs_background": "light"
     },
     "output_type": "display_data"
    }
   ],
   "source": [
    "# With help from lesson 9.02\n",
    "plt.figure(figsize=(12,8))\n",
    "\n",
    "plt.plot(train.index, train['price'], label='Train')\n",
    "plt.plot(test.index, test['price'], label='Test')\n",
    "plt.plot(df_preds.index, df_preds['last'], label=\"Baseline\")\n",
    "\n",
    "plt.legend(loc='best')\n",
    "plt.title(\"Baseline Forecast\");"
   ]
  },
  {
   "cell_type": "markdown",
   "metadata": {},
   "source": [
    "#### Score it on the test set using MAE"
   ]
  },
  {
   "cell_type": "code",
   "execution_count": 177,
   "metadata": {},
   "outputs": [
    {
     "data": {
      "text/plain": [
       "20.62750285500022"
      ]
     },
     "execution_count": 177,
     "metadata": {},
     "output_type": "execute_result"
    }
   ],
   "source": [
    "# Also with help from lesson 9.02\n",
    "from sklearn.metrics import mean_squared_error\n",
    "\n",
    "mean_squared_error(df_preds['price'], df_preds['last'], squared=False)"
   ]
  },
  {
   "cell_type": "markdown",
   "metadata": {},
   "source": [
    "## Autoregression model\n",
    "\"Autoregression is a time series model that uses observations from previous time steps as input to a regression equation to predict the value at the next time step.\" - [Machine Learning Mastery](https://machinelearningmastery.com/autoregression-models-time-series-forecasting-python/)"
   ]
  },
  {
   "cell_type": "markdown",
   "metadata": {},
   "source": [
    "#### Using scikit-learn's LinearRegression class, make a model to predict the stock price based on 10 lags. "
   ]
  },
  {
   "cell_type": "code",
   "execution_count": 178,
   "metadata": {},
   "outputs": [],
   "source": [
    "from sklearn.linear_model import LinearRegression\n",
    "lr = LinearRegression()"
   ]
  },
  {
   "cell_type": "code",
   "execution_count": 183,
   "metadata": {},
   "outputs": [
    {
     "name": "stderr",
     "output_type": "stream",
     "text": [
      "/Users/andresperez/opt/anaconda3/lib/python3.9/site-packages/pandas/util/_decorators.py:311: SettingWithCopyWarning: \n",
      "A value is trying to be set on a copy of a slice from a DataFrame\n",
      "\n",
      "See the caveats in the documentation: https://pandas.pydata.org/pandas-docs/stable/user_guide/indexing.html#returning-a-view-versus-a-copy\n",
      "  return func(*args, **kwargs)\n"
     ]
    }
   ],
   "source": [
    "train.dropna(inplace=True)"
   ]
  },
  {
   "cell_type": "code",
   "execution_count": 184,
   "metadata": {},
   "outputs": [],
   "source": [
    "X_train = train.drop(columns='price')\n",
    "y_train = train['price']\n",
    "X_test = test.drop(columns='price')\n",
    "y_test = test['price']\n"
   ]
  },
  {
   "cell_type": "markdown",
   "metadata": {},
   "source": [
    "#### Create and fit your model."
   ]
  },
  {
   "cell_type": "code",
   "execution_count": 185,
   "metadata": {},
   "outputs": [
    {
     "data": {
      "text/plain": [
       "LinearRegression()"
      ]
     },
     "execution_count": 185,
     "metadata": {},
     "output_type": "execute_result"
    }
   ],
   "source": [
    "lr.fit(X_train, y_train)"
   ]
  },
  {
   "cell_type": "code",
   "execution_count": 186,
   "metadata": {},
   "outputs": [
    {
     "data": {
      "text/plain": [
       "0.9936465976447875"
      ]
     },
     "execution_count": 186,
     "metadata": {},
     "output_type": "execute_result"
    }
   ],
   "source": [
    "lr.score(X_train, y_train)"
   ]
  },
  {
   "cell_type": "markdown",
   "metadata": {},
   "source": [
    "#### Predict on the test set, plot, and score on MAE."
   ]
  },
  {
   "cell_type": "code",
   "execution_count": 187,
   "metadata": {},
   "outputs": [
    {
     "name": "stderr",
     "output_type": "stream",
     "text": [
      "/var/folders/p1/89v2vyg94jd0blrmm4w41wr00000gn/T/ipykernel_82078/3376120385.py:1: SettingWithCopyWarning: \n",
      "A value is trying to be set on a copy of a slice from a DataFrame.\n",
      "Try using .loc[row_indexer,col_indexer] = value instead\n",
      "\n",
      "See the caveats in the documentation: https://pandas.pydata.org/pandas-docs/stable/user_guide/indexing.html#returning-a-view-versus-a-copy\n",
      "  df_preds['linreg'] = lr.predict(X_test)\n"
     ]
    }
   ],
   "source": [
    "df_preds['linreg'] = lr.predict(X_test)"
   ]
  },
  {
   "cell_type": "code",
   "execution_count": 188,
   "metadata": {},
   "outputs": [
    {
     "data": {
      "image/png": "[encoded data removed]",
      "text/plain": [
       "<Figure size 864x576 with 1 Axes>"
      ]
     },
     "metadata": {
      "needs_background": "light"
     },
     "output_type": "display_data"
    }
   ],
   "source": [
    "plt.figure(figsize=(12,8))\n",
    "\n",
    "plt.plot(train.index, train['price'], label='Train')\n",
    "plt.plot(test.index, test['price'], label='Test')\n",
    "plt.plot(df_preds.index, df_preds['linreg'], label=\"Linear Regression\")\n",
    "\n",
    "plt.legend(loc='best')\n",
    "plt.title(\"Linear Regression Forecast\");"
   ]
  },
  {
   "cell_type": "code",
   "execution_count": 189,
   "metadata": {},
   "outputs": [
    {
     "data": {
      "text/plain": [
       "5.190395326491589"
      ]
     },
     "execution_count": 189,
     "metadata": {},
     "output_type": "execute_result"
    }
   ],
   "source": [
    "mean_squared_error(df_preds['price'], df_preds['linreg'], squared=False)"
   ]
  },
  {
   "cell_type": "markdown",
   "metadata": {},
   "source": [
    "#### How does this very basic model perform?"
   ]
  },
  {
   "cell_type": "markdown",
   "metadata": {},
   "source": [
    "Performs better thanm the baseline"
   ]
  },
  {
   "cell_type": "code",
   "execution_count": 190,
   "metadata": {},
   "outputs": [
    {
     "data": {
      "text/plain": [
       "0.9049481352034923"
      ]
     },
     "execution_count": 190,
     "metadata": {},
     "output_type": "execute_result"
    }
   ],
   "source": [
    "lr.score(X_test, y_test)"
   ]
  },
  {
   "cell_type": "markdown",
   "metadata": {},
   "source": [
    "#### How does it compare to the baseline?"
   ]
  },
  {
   "cell_type": "markdown",
   "metadata": {},
   "source": [
    "Around 20 RMSE for the baseline vs. 5 for linreg"
   ]
  },
  {
   "cell_type": "markdown",
   "metadata": {},
   "source": [
    "#### Congratulations! You just made an autoregression model (AR)! 🎉"
   ]
  },
  {
   "cell_type": "markdown",
   "metadata": {},
   "source": [
    "#### Would your recommend anyone use your model to guide their investment decisions?"
   ]
  },
  {
   "cell_type": "markdown",
   "metadata": {},
   "source": [
    "Never"
   ]
  }
 ],
 "metadata": {
  "kernelspec": {
   "display_name": "Python 3",
   "language": "python",
   "name": "python3"
  },
  "language_info": {
   "codemirror_mode": {
    "name": "ipython",
    "version": 3
   },
   "file_extension": ".py",
   "mimetype": "text/x-python",
   "name": "python",
   "nbconvert_exporter": "python",
   "pygments_lexer": "ipython3",
   "version": "3.9.7"
  }
 },
 "nbformat": 4,
 "nbformat_minor": 4
}
