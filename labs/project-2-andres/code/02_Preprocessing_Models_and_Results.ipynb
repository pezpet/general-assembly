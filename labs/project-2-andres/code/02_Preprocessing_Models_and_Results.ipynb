{
 "cells": [
  {
   "cell_type": "markdown",
   "metadata": {},
   "source": [
    "# Preprocessing, Models and Results - Ames Housing Data\n",
    "\n",
    "Having cleaned and selected preliminary features, in this notebook we prepare the data for modeling, and model and score using Linear Regression, Lasso and Ridge."
   ]
  },
  {
   "cell_type": "markdown",
   "metadata": {},
   "source": [
    "## Import Data from EDA"
   ]
  },
  {
   "cell_type": "code",
   "execution_count": 406,
   "metadata": {},
   "outputs": [],
   "source": [
    "# Import the usual suspects\n",
    "import pandas as pd\n",
    "import numpy as np\n",
    "import matplotlib.pyplot as plt\n",
    "import seaborn as sns\n",
    "\n",
    "from sklearn.preprocessing import StandardScaler, OneHotEncoder\n",
    "from sklearn.linear_model import LinearRegression, Lasso, Ridge\n",
    "from sklearn.model_selection import train_test_split, GridSearchCV\n",
    "from sklearn.metrics import mean_squared_error\n",
    "from sklearn.compose import make_column_transformer, make_column_selector\n",
    "from sklearn.pipeline import make_pipeline\n",
    "from sklearn import set_config\n",
    "set_config(display='diagram')"
   ]
  },
  {
   "cell_type": "code",
   "execution_count": 360,
   "metadata": {},
   "outputs": [],
   "source": [
    "train = pd.read_csv('../data/train_cleaned.csv')\n",
    "train.drop(columns='Unnamed: 0', inplace=True)\n",
    "test = pd.read_csv('../data/test_cleaned.csv')\n",
    "test.drop(columns='Unnamed: 0', inplace=True)"
   ]
  },
  {
   "cell_type": "markdown",
   "metadata": {},
   "source": [
    "## Linear Regression Numericals\n",
    "\n",
    "Let's start with a simple Linear Regression on the numerical features selected in EDA. I will use this as my baseline model, using Root Mean Squared Error as score to align with Kaggle."
   ]
  },
  {
   "cell_type": "code",
   "execution_count": 361,
   "metadata": {},
   "outputs": [],
   "source": [
    "X = train[['Overall Qual', 'Gr Liv Area', 'Garage Area', 'Year Built', 'Year Remod/Add']]\n",
    "y = train['SalePrice']"
   ]
  },
  {
   "cell_type": "code",
   "execution_count": 362,
   "metadata": {},
   "outputs": [],
   "source": [
    "X_train, X_test, y_train, y_test = train_test_split(X, y)"
   ]
  },
  {
   "cell_type": "code",
   "execution_count": 363,
   "metadata": {},
   "outputs": [
    {
     "data": {
      "text/html": [
       "<style>#sk-c9bffe00-1369-455c-9b66-415000760f70 {color: black;background-color: white;}#sk-c9bffe00-1369-455c-9b66-415000760f70 pre{padding: 0;}#sk-c9bffe00-1369-455c-9b66-415000760f70 div.sk-toggleable {background-color: white;}#sk-c9bffe00-1369-455c-9b66-415000760f70 label.sk-toggleable__label {cursor: pointer;display: block;width: 100%;margin-bottom: 0;padding: 0.3em;box-sizing: border-box;text-align: center;}#sk-c9bffe00-1369-455c-9b66-415000760f70 label.sk-toggleable__label-arrow:before {content: \"▸\";float: left;margin-right: 0.25em;color: #696969;}#sk-c9bffe00-1369-455c-9b66-415000760f70 label.sk-toggleable__label-arrow:hover:before {color: black;}#sk-c9bffe00-1369-455c-9b66-415000760f70 div.sk-estimator:hover label.sk-toggleable__label-arrow:before {color: black;}#sk-c9bffe00-1369-455c-9b66-415000760f70 div.sk-toggleable__content {max-height: 0;max-width: 0;overflow: hidden;text-align: left;background-color: #f0f8ff;}#sk-c9bffe00-1369-455c-9b66-415000760f70 div.sk-toggleable__content pre {margin: 0.2em;color: black;border-radius: 0.25em;background-color: #f0f8ff;}#sk-c9bffe00-1369-455c-9b66-415000760f70 input.sk-toggleable__control:checked~div.sk-toggleable__content {max-height: 200px;max-width: 100%;overflow: auto;}#sk-c9bffe00-1369-455c-9b66-415000760f70 input.sk-toggleable__control:checked~label.sk-toggleable__label-arrow:before {content: \"▾\";}#sk-c9bffe00-1369-455c-9b66-415000760f70 div.sk-estimator input.sk-toggleable__control:checked~label.sk-toggleable__label {background-color: #d4ebff;}#sk-c9bffe00-1369-455c-9b66-415000760f70 div.sk-label input.sk-toggleable__control:checked~label.sk-toggleable__label {background-color: #d4ebff;}#sk-c9bffe00-1369-455c-9b66-415000760f70 input.sk-hidden--visually {border: 0;clip: rect(1px 1px 1px 1px);clip: rect(1px, 1px, 1px, 1px);height: 1px;margin: -1px;overflow: hidden;padding: 0;position: absolute;width: 1px;}#sk-c9bffe00-1369-455c-9b66-415000760f70 div.sk-estimator {font-family: monospace;background-color: #f0f8ff;border: 1px dotted black;border-radius: 0.25em;box-sizing: border-box;margin-bottom: 0.5em;}#sk-c9bffe00-1369-455c-9b66-415000760f70 div.sk-estimator:hover {background-color: #d4ebff;}#sk-c9bffe00-1369-455c-9b66-415000760f70 div.sk-parallel-item::after {content: \"\";width: 100%;border-bottom: 1px solid gray;flex-grow: 1;}#sk-c9bffe00-1369-455c-9b66-415000760f70 div.sk-label:hover label.sk-toggleable__label {background-color: #d4ebff;}#sk-c9bffe00-1369-455c-9b66-415000760f70 div.sk-serial::before {content: \"\";position: absolute;border-left: 1px solid gray;box-sizing: border-box;top: 2em;bottom: 0;left: 50%;}#sk-c9bffe00-1369-455c-9b66-415000760f70 div.sk-serial {display: flex;flex-direction: column;align-items: center;background-color: white;padding-right: 0.2em;padding-left: 0.2em;}#sk-c9bffe00-1369-455c-9b66-415000760f70 div.sk-item {z-index: 1;}#sk-c9bffe00-1369-455c-9b66-415000760f70 div.sk-parallel {display: flex;align-items: stretch;justify-content: center;background-color: white;}#sk-c9bffe00-1369-455c-9b66-415000760f70 div.sk-parallel::before {content: \"\";position: absolute;border-left: 1px solid gray;box-sizing: border-box;top: 2em;bottom: 0;left: 50%;}#sk-c9bffe00-1369-455c-9b66-415000760f70 div.sk-parallel-item {display: flex;flex-direction: column;position: relative;background-color: white;}#sk-c9bffe00-1369-455c-9b66-415000760f70 div.sk-parallel-item:first-child::after {align-self: flex-end;width: 50%;}#sk-c9bffe00-1369-455c-9b66-415000760f70 div.sk-parallel-item:last-child::after {align-self: flex-start;width: 50%;}#sk-c9bffe00-1369-455c-9b66-415000760f70 div.sk-parallel-item:only-child::after {width: 0;}#sk-c9bffe00-1369-455c-9b66-415000760f70 div.sk-dashed-wrapped {border: 1px dashed gray;margin: 0 0.4em 0.5em 0.4em;box-sizing: border-box;padding-bottom: 0.4em;background-color: white;position: relative;}#sk-c9bffe00-1369-455c-9b66-415000760f70 div.sk-label label {font-family: monospace;font-weight: bold;background-color: white;display: inline-block;line-height: 1.2em;}#sk-c9bffe00-1369-455c-9b66-415000760f70 div.sk-label-container {position: relative;z-index: 2;text-align: center;}#sk-c9bffe00-1369-455c-9b66-415000760f70 div.sk-container {/* jupyter's `normalize.less` sets `[hidden] { display: none; }` but bootstrap.min.css set `[hidden] { display: none !important; }` so we also need the `!important` here to be able to override the default hidden behavior on the sphinx rendered scikit-learn.org. See: https://github.com/scikit-learn/scikit-learn/issues/21755 */display: inline-block !important;position: relative;}#sk-c9bffe00-1369-455c-9b66-415000760f70 div.sk-text-repr-fallback {display: none;}</style><div id=\"sk-c9bffe00-1369-455c-9b66-415000760f70\" class=\"sk-top-container\"><div class=\"sk-text-repr-fallback\"><pre>LinearRegression()</pre><b>Please rerun this cell to show the HTML repr or trust the notebook.</b></div><div class=\"sk-container\" hidden><div class=\"sk-item\"><div class=\"sk-estimator sk-toggleable\"><input class=\"sk-toggleable__control sk-hidden--visually\" id=\"4fe4a4f0-e031-4102-8ee2-0868990187ad\" type=\"checkbox\" checked><label for=\"4fe4a4f0-e031-4102-8ee2-0868990187ad\" class=\"sk-toggleable__label sk-toggleable__label-arrow\">LinearRegression</label><div class=\"sk-toggleable__content\"><pre>LinearRegression()</pre></div></div></div></div></div>"
      ],
      "text/plain": [
       "LinearRegression()"
      ]
     },
     "execution_count": 363,
     "metadata": {},
     "output_type": "execute_result"
    }
   ],
   "source": [
    "linreg = LinearRegression()\n",
    "linreg.fit(X_train, y_train)"
   ]
  },
  {
   "cell_type": "code",
   "execution_count": 364,
   "metadata": {},
   "outputs": [],
   "source": [
    "preds = linreg.predict(X_test)"
   ]
  },
  {
   "cell_type": "markdown",
   "metadata": {},
   "source": [
    "### Baseline RMSE"
   ]
  },
  {
   "cell_type": "code",
   "execution_count": 365,
   "metadata": {},
   "outputs": [
    {
     "data": {
      "text/plain": [
       "35294.454074127374"
      ]
     },
     "execution_count": 365,
     "metadata": {},
     "output_type": "execute_result"
    }
   ],
   "source": [
    "mean_squared_error(y_test, preds, squared=False)"
   ]
  },
  {
   "cell_type": "markdown",
   "metadata": {},
   "source": [
    "### Save Baseline for Kaggle submission"
   ]
  },
  {
   "cell_type": "code",
   "execution_count": 366,
   "metadata": {},
   "outputs": [],
   "source": [
    "test['SalePrice'] = linreg.predict(test[['Overall Qual', 'Gr Liv Area', 'Garage Area', 'Year Built', 'Year Remod/Add']])"
   ]
  },
  {
   "cell_type": "code",
   "execution_count": 367,
   "metadata": {},
   "outputs": [],
   "source": [
    "test[['Id', 'SalePrice']].to_csv('../data/submission_baseline.csv', index=False)"
   ]
  },
  {
   "cell_type": "markdown",
   "metadata": {},
   "source": [
    "## Location, Location, Location model\n",
    "Fit a Linear Regression using only the Neighborhoods features."
   ]
  },
  {
   "cell_type": "code",
   "execution_count": 368,
   "metadata": {},
   "outputs": [],
   "source": [
    "X = train[['Neighborhood']]\n",
    "y = train['SalePrice']\n",
    "neigh_test = test[['Neighborhood']]"
   ]
  },
  {
   "cell_type": "code",
   "execution_count": 369,
   "metadata": {},
   "outputs": [],
   "source": [
    "X_train, X_test, y_train, y_test = train_test_split(X, y)"
   ]
  },
  {
   "cell_type": "code",
   "execution_count": 370,
   "metadata": {},
   "outputs": [
    {
     "data": {
      "text/html": [
       "<style>#sk-e4aa1bb8-44cf-4689-b32e-751aa38d48cc {color: black;background-color: white;}#sk-e4aa1bb8-44cf-4689-b32e-751aa38d48cc pre{padding: 0;}#sk-e4aa1bb8-44cf-4689-b32e-751aa38d48cc div.sk-toggleable {background-color: white;}#sk-e4aa1bb8-44cf-4689-b32e-751aa38d48cc label.sk-toggleable__label {cursor: pointer;display: block;width: 100%;margin-bottom: 0;padding: 0.3em;box-sizing: border-box;text-align: center;}#sk-e4aa1bb8-44cf-4689-b32e-751aa38d48cc label.sk-toggleable__label-arrow:before {content: \"▸\";float: left;margin-right: 0.25em;color: #696969;}#sk-e4aa1bb8-44cf-4689-b32e-751aa38d48cc label.sk-toggleable__label-arrow:hover:before {color: black;}#sk-e4aa1bb8-44cf-4689-b32e-751aa38d48cc div.sk-estimator:hover label.sk-toggleable__label-arrow:before {color: black;}#sk-e4aa1bb8-44cf-4689-b32e-751aa38d48cc div.sk-toggleable__content {max-height: 0;max-width: 0;overflow: hidden;text-align: left;background-color: #f0f8ff;}#sk-e4aa1bb8-44cf-4689-b32e-751aa38d48cc div.sk-toggleable__content pre {margin: 0.2em;color: black;border-radius: 0.25em;background-color: #f0f8ff;}#sk-e4aa1bb8-44cf-4689-b32e-751aa38d48cc input.sk-toggleable__control:checked~div.sk-toggleable__content {max-height: 200px;max-width: 100%;overflow: auto;}#sk-e4aa1bb8-44cf-4689-b32e-751aa38d48cc input.sk-toggleable__control:checked~label.sk-toggleable__label-arrow:before {content: \"▾\";}#sk-e4aa1bb8-44cf-4689-b32e-751aa38d48cc div.sk-estimator input.sk-toggleable__control:checked~label.sk-toggleable__label {background-color: #d4ebff;}#sk-e4aa1bb8-44cf-4689-b32e-751aa38d48cc div.sk-label input.sk-toggleable__control:checked~label.sk-toggleable__label {background-color: #d4ebff;}#sk-e4aa1bb8-44cf-4689-b32e-751aa38d48cc input.sk-hidden--visually {border: 0;clip: rect(1px 1px 1px 1px);clip: rect(1px, 1px, 1px, 1px);height: 1px;margin: -1px;overflow: hidden;padding: 0;position: absolute;width: 1px;}#sk-e4aa1bb8-44cf-4689-b32e-751aa38d48cc div.sk-estimator {font-family: monospace;background-color: #f0f8ff;border: 1px dotted black;border-radius: 0.25em;box-sizing: border-box;margin-bottom: 0.5em;}#sk-e4aa1bb8-44cf-4689-b32e-751aa38d48cc div.sk-estimator:hover {background-color: #d4ebff;}#sk-e4aa1bb8-44cf-4689-b32e-751aa38d48cc div.sk-parallel-item::after {content: \"\";width: 100%;border-bottom: 1px solid gray;flex-grow: 1;}#sk-e4aa1bb8-44cf-4689-b32e-751aa38d48cc div.sk-label:hover label.sk-toggleable__label {background-color: #d4ebff;}#sk-e4aa1bb8-44cf-4689-b32e-751aa38d48cc div.sk-serial::before {content: \"\";position: absolute;border-left: 1px solid gray;box-sizing: border-box;top: 2em;bottom: 0;left: 50%;}#sk-e4aa1bb8-44cf-4689-b32e-751aa38d48cc div.sk-serial {display: flex;flex-direction: column;align-items: center;background-color: white;padding-right: 0.2em;padding-left: 0.2em;}#sk-e4aa1bb8-44cf-4689-b32e-751aa38d48cc div.sk-item {z-index: 1;}#sk-e4aa1bb8-44cf-4689-b32e-751aa38d48cc div.sk-parallel {display: flex;align-items: stretch;justify-content: center;background-color: white;}#sk-e4aa1bb8-44cf-4689-b32e-751aa38d48cc div.sk-parallel::before {content: \"\";position: absolute;border-left: 1px solid gray;box-sizing: border-box;top: 2em;bottom: 0;left: 50%;}#sk-e4aa1bb8-44cf-4689-b32e-751aa38d48cc div.sk-parallel-item {display: flex;flex-direction: column;position: relative;background-color: white;}#sk-e4aa1bb8-44cf-4689-b32e-751aa38d48cc div.sk-parallel-item:first-child::after {align-self: flex-end;width: 50%;}#sk-e4aa1bb8-44cf-4689-b32e-751aa38d48cc div.sk-parallel-item:last-child::after {align-self: flex-start;width: 50%;}#sk-e4aa1bb8-44cf-4689-b32e-751aa38d48cc div.sk-parallel-item:only-child::after {width: 0;}#sk-e4aa1bb8-44cf-4689-b32e-751aa38d48cc div.sk-dashed-wrapped {border: 1px dashed gray;margin: 0 0.4em 0.5em 0.4em;box-sizing: border-box;padding-bottom: 0.4em;background-color: white;position: relative;}#sk-e4aa1bb8-44cf-4689-b32e-751aa38d48cc div.sk-label label {font-family: monospace;font-weight: bold;background-color: white;display: inline-block;line-height: 1.2em;}#sk-e4aa1bb8-44cf-4689-b32e-751aa38d48cc div.sk-label-container {position: relative;z-index: 2;text-align: center;}#sk-e4aa1bb8-44cf-4689-b32e-751aa38d48cc div.sk-container {/* jupyter's `normalize.less` sets `[hidden] { display: none; }` but bootstrap.min.css set `[hidden] { display: none !important; }` so we also need the `!important` here to be able to override the default hidden behavior on the sphinx rendered scikit-learn.org. See: https://github.com/scikit-learn/scikit-learn/issues/21755 */display: inline-block !important;position: relative;}#sk-e4aa1bb8-44cf-4689-b32e-751aa38d48cc div.sk-text-repr-fallback {display: none;}</style><div id=\"sk-e4aa1bb8-44cf-4689-b32e-751aa38d48cc\" class=\"sk-top-container\"><div class=\"sk-text-repr-fallback\"><pre>ColumnTransformer(remainder=&#x27;passthrough&#x27;,\n",
       "                  transformers=[(&#x27;onehotencoder&#x27;,\n",
       "                                 OneHotEncoder(handle_unknown=&#x27;ignore&#x27;),\n",
       "                                 &lt;sklearn.compose._column_transformer.make_column_selector object at 0x7f7e38babdc0&gt;)],\n",
       "                  verbose_feature_names_out=False)</pre><b>Please rerun this cell to show the HTML repr or trust the notebook.</b></div><div class=\"sk-container\" hidden><div class=\"sk-item sk-dashed-wrapped\"><div class=\"sk-label-container\"><div class=\"sk-label sk-toggleable\"><input class=\"sk-toggleable__control sk-hidden--visually\" id=\"6b3902f6-1c5d-4dc8-9651-0c11e7ceb12f\" type=\"checkbox\" ><label for=\"6b3902f6-1c5d-4dc8-9651-0c11e7ceb12f\" class=\"sk-toggleable__label sk-toggleable__label-arrow\">ColumnTransformer</label><div class=\"sk-toggleable__content\"><pre>ColumnTransformer(remainder=&#x27;passthrough&#x27;,\n",
       "                  transformers=[(&#x27;onehotencoder&#x27;,\n",
       "                                 OneHotEncoder(handle_unknown=&#x27;ignore&#x27;),\n",
       "                                 &lt;sklearn.compose._column_transformer.make_column_selector object at 0x7f7e38babdc0&gt;)],\n",
       "                  verbose_feature_names_out=False)</pre></div></div></div><div class=\"sk-parallel\"><div class=\"sk-parallel-item\"><div class=\"sk-item\"><div class=\"sk-label-container\"><div class=\"sk-label sk-toggleable\"><input class=\"sk-toggleable__control sk-hidden--visually\" id=\"4771c943-7d47-475c-a180-5e3a95c16fb4\" type=\"checkbox\" ><label for=\"4771c943-7d47-475c-a180-5e3a95c16fb4\" class=\"sk-toggleable__label sk-toggleable__label-arrow\">onehotencoder</label><div class=\"sk-toggleable__content\"><pre>&lt;sklearn.compose._column_transformer.make_column_selector object at 0x7f7e38babdc0&gt;</pre></div></div></div><div class=\"sk-serial\"><div class=\"sk-item\"><div class=\"sk-estimator sk-toggleable\"><input class=\"sk-toggleable__control sk-hidden--visually\" id=\"c48679a1-cf0f-49b7-b128-604ee12ca27d\" type=\"checkbox\" ><label for=\"c48679a1-cf0f-49b7-b128-604ee12ca27d\" class=\"sk-toggleable__label sk-toggleable__label-arrow\">OneHotEncoder</label><div class=\"sk-toggleable__content\"><pre>OneHotEncoder(handle_unknown=&#x27;ignore&#x27;)</pre></div></div></div></div></div></div><div class=\"sk-parallel-item\"><div class=\"sk-item\"><div class=\"sk-label-container\"><div class=\"sk-label sk-toggleable\"><input class=\"sk-toggleable__control sk-hidden--visually\" id=\"9bb47e5b-c2c2-4d80-9911-fbe015f1b156\" type=\"checkbox\" ><label for=\"9bb47e5b-c2c2-4d80-9911-fbe015f1b156\" class=\"sk-toggleable__label sk-toggleable__label-arrow\">remainder</label><div class=\"sk-toggleable__content\"><pre></pre></div></div></div><div class=\"sk-serial\"><div class=\"sk-item\"><div class=\"sk-estimator sk-toggleable\"><input class=\"sk-toggleable__control sk-hidden--visually\" id=\"e4cb9bff-39af-44cd-bd74-979b23a75311\" type=\"checkbox\" ><label for=\"e4cb9bff-39af-44cd-bd74-979b23a75311\" class=\"sk-toggleable__label sk-toggleable__label-arrow\">passthrough</label><div class=\"sk-toggleable__content\"><pre>passthrough</pre></div></div></div></div></div></div></div></div></div></div>"
      ],
      "text/plain": [
       "ColumnTransformer(remainder='passthrough',\n",
       "                  transformers=[('onehotencoder',\n",
       "                                 OneHotEncoder(handle_unknown='ignore'),\n",
       "                                 <sklearn.compose._column_transformer.make_column_selector object at 0x7f7e38babdc0>)],\n",
       "                  verbose_feature_names_out=False)"
      ]
     },
     "execution_count": 370,
     "metadata": {},
     "output_type": "execute_result"
    }
   ],
   "source": [
    "ct = make_column_transformer(\n",
    "    (OneHotEncoder(handle_unknown='ignore'), make_column_selector(dtype_include=object)),\n",
    "    remainder='passthrough',\n",
    "    verbose_feature_names_out=False\n",
    ")\n",
    "ct"
   ]
  },
  {
   "cell_type": "code",
   "execution_count": 371,
   "metadata": {},
   "outputs": [
    {
     "data": {
      "text/html": [
       "<style>#sk-bf7293ed-37c1-4da8-9ac4-bf55d201be16 {color: black;background-color: white;}#sk-bf7293ed-37c1-4da8-9ac4-bf55d201be16 pre{padding: 0;}#sk-bf7293ed-37c1-4da8-9ac4-bf55d201be16 div.sk-toggleable {background-color: white;}#sk-bf7293ed-37c1-4da8-9ac4-bf55d201be16 label.sk-toggleable__label {cursor: pointer;display: block;width: 100%;margin-bottom: 0;padding: 0.3em;box-sizing: border-box;text-align: center;}#sk-bf7293ed-37c1-4da8-9ac4-bf55d201be16 label.sk-toggleable__label-arrow:before {content: \"▸\";float: left;margin-right: 0.25em;color: #696969;}#sk-bf7293ed-37c1-4da8-9ac4-bf55d201be16 label.sk-toggleable__label-arrow:hover:before {color: black;}#sk-bf7293ed-37c1-4da8-9ac4-bf55d201be16 div.sk-estimator:hover label.sk-toggleable__label-arrow:before {color: black;}#sk-bf7293ed-37c1-4da8-9ac4-bf55d201be16 div.sk-toggleable__content {max-height: 0;max-width: 0;overflow: hidden;text-align: left;background-color: #f0f8ff;}#sk-bf7293ed-37c1-4da8-9ac4-bf55d201be16 div.sk-toggleable__content pre {margin: 0.2em;color: black;border-radius: 0.25em;background-color: #f0f8ff;}#sk-bf7293ed-37c1-4da8-9ac4-bf55d201be16 input.sk-toggleable__control:checked~div.sk-toggleable__content {max-height: 200px;max-width: 100%;overflow: auto;}#sk-bf7293ed-37c1-4da8-9ac4-bf55d201be16 input.sk-toggleable__control:checked~label.sk-toggleable__label-arrow:before {content: \"▾\";}#sk-bf7293ed-37c1-4da8-9ac4-bf55d201be16 div.sk-estimator input.sk-toggleable__control:checked~label.sk-toggleable__label {background-color: #d4ebff;}#sk-bf7293ed-37c1-4da8-9ac4-bf55d201be16 div.sk-label input.sk-toggleable__control:checked~label.sk-toggleable__label {background-color: #d4ebff;}#sk-bf7293ed-37c1-4da8-9ac4-bf55d201be16 input.sk-hidden--visually {border: 0;clip: rect(1px 1px 1px 1px);clip: rect(1px, 1px, 1px, 1px);height: 1px;margin: -1px;overflow: hidden;padding: 0;position: absolute;width: 1px;}#sk-bf7293ed-37c1-4da8-9ac4-bf55d201be16 div.sk-estimator {font-family: monospace;background-color: #f0f8ff;border: 1px dotted black;border-radius: 0.25em;box-sizing: border-box;margin-bottom: 0.5em;}#sk-bf7293ed-37c1-4da8-9ac4-bf55d201be16 div.sk-estimator:hover {background-color: #d4ebff;}#sk-bf7293ed-37c1-4da8-9ac4-bf55d201be16 div.sk-parallel-item::after {content: \"\";width: 100%;border-bottom: 1px solid gray;flex-grow: 1;}#sk-bf7293ed-37c1-4da8-9ac4-bf55d201be16 div.sk-label:hover label.sk-toggleable__label {background-color: #d4ebff;}#sk-bf7293ed-37c1-4da8-9ac4-bf55d201be16 div.sk-serial::before {content: \"\";position: absolute;border-left: 1px solid gray;box-sizing: border-box;top: 2em;bottom: 0;left: 50%;}#sk-bf7293ed-37c1-4da8-9ac4-bf55d201be16 div.sk-serial {display: flex;flex-direction: column;align-items: center;background-color: white;padding-right: 0.2em;padding-left: 0.2em;}#sk-bf7293ed-37c1-4da8-9ac4-bf55d201be16 div.sk-item {z-index: 1;}#sk-bf7293ed-37c1-4da8-9ac4-bf55d201be16 div.sk-parallel {display: flex;align-items: stretch;justify-content: center;background-color: white;}#sk-bf7293ed-37c1-4da8-9ac4-bf55d201be16 div.sk-parallel::before {content: \"\";position: absolute;border-left: 1px solid gray;box-sizing: border-box;top: 2em;bottom: 0;left: 50%;}#sk-bf7293ed-37c1-4da8-9ac4-bf55d201be16 div.sk-parallel-item {display: flex;flex-direction: column;position: relative;background-color: white;}#sk-bf7293ed-37c1-4da8-9ac4-bf55d201be16 div.sk-parallel-item:first-child::after {align-self: flex-end;width: 50%;}#sk-bf7293ed-37c1-4da8-9ac4-bf55d201be16 div.sk-parallel-item:last-child::after {align-self: flex-start;width: 50%;}#sk-bf7293ed-37c1-4da8-9ac4-bf55d201be16 div.sk-parallel-item:only-child::after {width: 0;}#sk-bf7293ed-37c1-4da8-9ac4-bf55d201be16 div.sk-dashed-wrapped {border: 1px dashed gray;margin: 0 0.4em 0.5em 0.4em;box-sizing: border-box;padding-bottom: 0.4em;background-color: white;position: relative;}#sk-bf7293ed-37c1-4da8-9ac4-bf55d201be16 div.sk-label label {font-family: monospace;font-weight: bold;background-color: white;display: inline-block;line-height: 1.2em;}#sk-bf7293ed-37c1-4da8-9ac4-bf55d201be16 div.sk-label-container {position: relative;z-index: 2;text-align: center;}#sk-bf7293ed-37c1-4da8-9ac4-bf55d201be16 div.sk-container {/* jupyter's `normalize.less` sets `[hidden] { display: none; }` but bootstrap.min.css set `[hidden] { display: none !important; }` so we also need the `!important` here to be able to override the default hidden behavior on the sphinx rendered scikit-learn.org. See: https://github.com/scikit-learn/scikit-learn/issues/21755 */display: inline-block !important;position: relative;}#sk-bf7293ed-37c1-4da8-9ac4-bf55d201be16 div.sk-text-repr-fallback {display: none;}</style><div id=\"sk-bf7293ed-37c1-4da8-9ac4-bf55d201be16\" class=\"sk-top-container\"><div class=\"sk-text-repr-fallback\"><pre>Pipeline(steps=[(&#x27;columntransformer&#x27;,\n",
       "                 ColumnTransformer(remainder=&#x27;passthrough&#x27;,\n",
       "                                   transformers=[(&#x27;onehotencoder&#x27;,\n",
       "                                                  OneHotEncoder(handle_unknown=&#x27;ignore&#x27;),\n",
       "                                                  &lt;sklearn.compose._column_transformer.make_column_selector object at 0x7f7e38babdc0&gt;)],\n",
       "                                   verbose_feature_names_out=False)),\n",
       "                (&#x27;standardscaler&#x27;, StandardScaler(with_mean=False)),\n",
       "                (&#x27;linearregression&#x27;, LinearRegression())])</pre><b>Please rerun this cell to show the HTML repr or trust the notebook.</b></div><div class=\"sk-container\" hidden><div class=\"sk-item sk-dashed-wrapped\"><div class=\"sk-label-container\"><div class=\"sk-label sk-toggleable\"><input class=\"sk-toggleable__control sk-hidden--visually\" id=\"001a5286-240b-4ffe-9fbf-464b9e025f3c\" type=\"checkbox\" ><label for=\"001a5286-240b-4ffe-9fbf-464b9e025f3c\" class=\"sk-toggleable__label sk-toggleable__label-arrow\">Pipeline</label><div class=\"sk-toggleable__content\"><pre>Pipeline(steps=[(&#x27;columntransformer&#x27;,\n",
       "                 ColumnTransformer(remainder=&#x27;passthrough&#x27;,\n",
       "                                   transformers=[(&#x27;onehotencoder&#x27;,\n",
       "                                                  OneHotEncoder(handle_unknown=&#x27;ignore&#x27;),\n",
       "                                                  &lt;sklearn.compose._column_transformer.make_column_selector object at 0x7f7e38babdc0&gt;)],\n",
       "                                   verbose_feature_names_out=False)),\n",
       "                (&#x27;standardscaler&#x27;, StandardScaler(with_mean=False)),\n",
       "                (&#x27;linearregression&#x27;, LinearRegression())])</pre></div></div></div><div class=\"sk-serial\"><div class=\"sk-item sk-dashed-wrapped\"><div class=\"sk-label-container\"><div class=\"sk-label sk-toggleable\"><input class=\"sk-toggleable__control sk-hidden--visually\" id=\"e1a607ff-2d1b-4fb0-95b8-47ac5d69df22\" type=\"checkbox\" ><label for=\"e1a607ff-2d1b-4fb0-95b8-47ac5d69df22\" class=\"sk-toggleable__label sk-toggleable__label-arrow\">columntransformer: ColumnTransformer</label><div class=\"sk-toggleable__content\"><pre>ColumnTransformer(remainder=&#x27;passthrough&#x27;,\n",
       "                  transformers=[(&#x27;onehotencoder&#x27;,\n",
       "                                 OneHotEncoder(handle_unknown=&#x27;ignore&#x27;),\n",
       "                                 &lt;sklearn.compose._column_transformer.make_column_selector object at 0x7f7e38babdc0&gt;)],\n",
       "                  verbose_feature_names_out=False)</pre></div></div></div><div class=\"sk-parallel\"><div class=\"sk-parallel-item\"><div class=\"sk-item\"><div class=\"sk-label-container\"><div class=\"sk-label sk-toggleable\"><input class=\"sk-toggleable__control sk-hidden--visually\" id=\"5bf626d9-712e-42bf-a7fb-136bf2e11142\" type=\"checkbox\" ><label for=\"5bf626d9-712e-42bf-a7fb-136bf2e11142\" class=\"sk-toggleable__label sk-toggleable__label-arrow\">onehotencoder</label><div class=\"sk-toggleable__content\"><pre>&lt;sklearn.compose._column_transformer.make_column_selector object at 0x7f7e38babdc0&gt;</pre></div></div></div><div class=\"sk-serial\"><div class=\"sk-item\"><div class=\"sk-estimator sk-toggleable\"><input class=\"sk-toggleable__control sk-hidden--visually\" id=\"c54f2b9a-3f77-4333-a940-89429a3d34b5\" type=\"checkbox\" ><label for=\"c54f2b9a-3f77-4333-a940-89429a3d34b5\" class=\"sk-toggleable__label sk-toggleable__label-arrow\">OneHotEncoder</label><div class=\"sk-toggleable__content\"><pre>OneHotEncoder(handle_unknown=&#x27;ignore&#x27;)</pre></div></div></div></div></div></div><div class=\"sk-parallel-item\"><div class=\"sk-item\"><div class=\"sk-label-container\"><div class=\"sk-label sk-toggleable\"><input class=\"sk-toggleable__control sk-hidden--visually\" id=\"75c42ef6-e669-4728-99c0-dd4d9cef942c\" type=\"checkbox\" ><label for=\"75c42ef6-e669-4728-99c0-dd4d9cef942c\" class=\"sk-toggleable__label sk-toggleable__label-arrow\">remainder</label><div class=\"sk-toggleable__content\"><pre></pre></div></div></div><div class=\"sk-serial\"><div class=\"sk-item\"><div class=\"sk-estimator sk-toggleable\"><input class=\"sk-toggleable__control sk-hidden--visually\" id=\"e7f67779-a5ee-436d-8ae8-7a1b337e406a\" type=\"checkbox\" ><label for=\"e7f67779-a5ee-436d-8ae8-7a1b337e406a\" class=\"sk-toggleable__label sk-toggleable__label-arrow\">passthrough</label><div class=\"sk-toggleable__content\"><pre>passthrough</pre></div></div></div></div></div></div></div></div><div class=\"sk-item\"><div class=\"sk-estimator sk-toggleable\"><input class=\"sk-toggleable__control sk-hidden--visually\" id=\"b797ff54-a547-4ab0-b9ca-5621d1144393\" type=\"checkbox\" ><label for=\"b797ff54-a547-4ab0-b9ca-5621d1144393\" class=\"sk-toggleable__label sk-toggleable__label-arrow\">StandardScaler</label><div class=\"sk-toggleable__content\"><pre>StandardScaler(with_mean=False)</pre></div></div></div><div class=\"sk-item\"><div class=\"sk-estimator sk-toggleable\"><input class=\"sk-toggleable__control sk-hidden--visually\" id=\"ea224206-a410-4207-8c21-b45ec2473812\" type=\"checkbox\" ><label for=\"ea224206-a410-4207-8c21-b45ec2473812\" class=\"sk-toggleable__label sk-toggleable__label-arrow\">LinearRegression</label><div class=\"sk-toggleable__content\"><pre>LinearRegression()</pre></div></div></div></div></div></div></div>"
      ],
      "text/plain": [
       "Pipeline(steps=[('columntransformer',\n",
       "                 ColumnTransformer(remainder='passthrough',\n",
       "                                   transformers=[('onehotencoder',\n",
       "                                                  OneHotEncoder(handle_unknown='ignore'),\n",
       "                                                  <sklearn.compose._column_transformer.make_column_selector object at 0x7f7e38babdc0>)],\n",
       "                                   verbose_feature_names_out=False)),\n",
       "                ('standardscaler', StandardScaler(with_mean=False)),\n",
       "                ('linearregression', LinearRegression())])"
      ]
     },
     "execution_count": 371,
     "metadata": {},
     "output_type": "execute_result"
    }
   ],
   "source": [
    "pipe = make_pipeline(ct, StandardScaler(with_mean=False), LinearRegression())\n",
    "pipe"
   ]
  },
  {
   "cell_type": "code",
   "execution_count": 372,
   "metadata": {},
   "outputs": [
    {
     "data": {
      "text/html": [
       "<style>#sk-3cc1c4c8-f001-4346-b58c-a8f00278ae97 {color: black;background-color: white;}#sk-3cc1c4c8-f001-4346-b58c-a8f00278ae97 pre{padding: 0;}#sk-3cc1c4c8-f001-4346-b58c-a8f00278ae97 div.sk-toggleable {background-color: white;}#sk-3cc1c4c8-f001-4346-b58c-a8f00278ae97 label.sk-toggleable__label {cursor: pointer;display: block;width: 100%;margin-bottom: 0;padding: 0.3em;box-sizing: border-box;text-align: center;}#sk-3cc1c4c8-f001-4346-b58c-a8f00278ae97 label.sk-toggleable__label-arrow:before {content: \"▸\";float: left;margin-right: 0.25em;color: #696969;}#sk-3cc1c4c8-f001-4346-b58c-a8f00278ae97 label.sk-toggleable__label-arrow:hover:before {color: black;}#sk-3cc1c4c8-f001-4346-b58c-a8f00278ae97 div.sk-estimator:hover label.sk-toggleable__label-arrow:before {color: black;}#sk-3cc1c4c8-f001-4346-b58c-a8f00278ae97 div.sk-toggleable__content {max-height: 0;max-width: 0;overflow: hidden;text-align: left;background-color: #f0f8ff;}#sk-3cc1c4c8-f001-4346-b58c-a8f00278ae97 div.sk-toggleable__content pre {margin: 0.2em;color: black;border-radius: 0.25em;background-color: #f0f8ff;}#sk-3cc1c4c8-f001-4346-b58c-a8f00278ae97 input.sk-toggleable__control:checked~div.sk-toggleable__content {max-height: 200px;max-width: 100%;overflow: auto;}#sk-3cc1c4c8-f001-4346-b58c-a8f00278ae97 input.sk-toggleable__control:checked~label.sk-toggleable__label-arrow:before {content: \"▾\";}#sk-3cc1c4c8-f001-4346-b58c-a8f00278ae97 div.sk-estimator input.sk-toggleable__control:checked~label.sk-toggleable__label {background-color: #d4ebff;}#sk-3cc1c4c8-f001-4346-b58c-a8f00278ae97 div.sk-label input.sk-toggleable__control:checked~label.sk-toggleable__label {background-color: #d4ebff;}#sk-3cc1c4c8-f001-4346-b58c-a8f00278ae97 input.sk-hidden--visually {border: 0;clip: rect(1px 1px 1px 1px);clip: rect(1px, 1px, 1px, 1px);height: 1px;margin: -1px;overflow: hidden;padding: 0;position: absolute;width: 1px;}#sk-3cc1c4c8-f001-4346-b58c-a8f00278ae97 div.sk-estimator {font-family: monospace;background-color: #f0f8ff;border: 1px dotted black;border-radius: 0.25em;box-sizing: border-box;margin-bottom: 0.5em;}#sk-3cc1c4c8-f001-4346-b58c-a8f00278ae97 div.sk-estimator:hover {background-color: #d4ebff;}#sk-3cc1c4c8-f001-4346-b58c-a8f00278ae97 div.sk-parallel-item::after {content: \"\";width: 100%;border-bottom: 1px solid gray;flex-grow: 1;}#sk-3cc1c4c8-f001-4346-b58c-a8f00278ae97 div.sk-label:hover label.sk-toggleable__label {background-color: #d4ebff;}#sk-3cc1c4c8-f001-4346-b58c-a8f00278ae97 div.sk-serial::before {content: \"\";position: absolute;border-left: 1px solid gray;box-sizing: border-box;top: 2em;bottom: 0;left: 50%;}#sk-3cc1c4c8-f001-4346-b58c-a8f00278ae97 div.sk-serial {display: flex;flex-direction: column;align-items: center;background-color: white;padding-right: 0.2em;padding-left: 0.2em;}#sk-3cc1c4c8-f001-4346-b58c-a8f00278ae97 div.sk-item {z-index: 1;}#sk-3cc1c4c8-f001-4346-b58c-a8f00278ae97 div.sk-parallel {display: flex;align-items: stretch;justify-content: center;background-color: white;}#sk-3cc1c4c8-f001-4346-b58c-a8f00278ae97 div.sk-parallel::before {content: \"\";position: absolute;border-left: 1px solid gray;box-sizing: border-box;top: 2em;bottom: 0;left: 50%;}#sk-3cc1c4c8-f001-4346-b58c-a8f00278ae97 div.sk-parallel-item {display: flex;flex-direction: column;position: relative;background-color: white;}#sk-3cc1c4c8-f001-4346-b58c-a8f00278ae97 div.sk-parallel-item:first-child::after {align-self: flex-end;width: 50%;}#sk-3cc1c4c8-f001-4346-b58c-a8f00278ae97 div.sk-parallel-item:last-child::after {align-self: flex-start;width: 50%;}#sk-3cc1c4c8-f001-4346-b58c-a8f00278ae97 div.sk-parallel-item:only-child::after {width: 0;}#sk-3cc1c4c8-f001-4346-b58c-a8f00278ae97 div.sk-dashed-wrapped {border: 1px dashed gray;margin: 0 0.4em 0.5em 0.4em;box-sizing: border-box;padding-bottom: 0.4em;background-color: white;position: relative;}#sk-3cc1c4c8-f001-4346-b58c-a8f00278ae97 div.sk-label label {font-family: monospace;font-weight: bold;background-color: white;display: inline-block;line-height: 1.2em;}#sk-3cc1c4c8-f001-4346-b58c-a8f00278ae97 div.sk-label-container {position: relative;z-index: 2;text-align: center;}#sk-3cc1c4c8-f001-4346-b58c-a8f00278ae97 div.sk-container {/* jupyter's `normalize.less` sets `[hidden] { display: none; }` but bootstrap.min.css set `[hidden] { display: none !important; }` so we also need the `!important` here to be able to override the default hidden behavior on the sphinx rendered scikit-learn.org. See: https://github.com/scikit-learn/scikit-learn/issues/21755 */display: inline-block !important;position: relative;}#sk-3cc1c4c8-f001-4346-b58c-a8f00278ae97 div.sk-text-repr-fallback {display: none;}</style><div id=\"sk-3cc1c4c8-f001-4346-b58c-a8f00278ae97\" class=\"sk-top-container\"><div class=\"sk-text-repr-fallback\"><pre>Pipeline(steps=[(&#x27;columntransformer&#x27;,\n",
       "                 ColumnTransformer(remainder=&#x27;passthrough&#x27;,\n",
       "                                   transformers=[(&#x27;onehotencoder&#x27;,\n",
       "                                                  OneHotEncoder(handle_unknown=&#x27;ignore&#x27;),\n",
       "                                                  &lt;sklearn.compose._column_transformer.make_column_selector object at 0x7f7e38babdc0&gt;)],\n",
       "                                   verbose_feature_names_out=False)),\n",
       "                (&#x27;standardscaler&#x27;, StandardScaler(with_mean=False)),\n",
       "                (&#x27;linearregression&#x27;, LinearRegression())])</pre><b>Please rerun this cell to show the HTML repr or trust the notebook.</b></div><div class=\"sk-container\" hidden><div class=\"sk-item sk-dashed-wrapped\"><div class=\"sk-label-container\"><div class=\"sk-label sk-toggleable\"><input class=\"sk-toggleable__control sk-hidden--visually\" id=\"e913f7df-e268-4594-a7f8-000e65404565\" type=\"checkbox\" ><label for=\"e913f7df-e268-4594-a7f8-000e65404565\" class=\"sk-toggleable__label sk-toggleable__label-arrow\">Pipeline</label><div class=\"sk-toggleable__content\"><pre>Pipeline(steps=[(&#x27;columntransformer&#x27;,\n",
       "                 ColumnTransformer(remainder=&#x27;passthrough&#x27;,\n",
       "                                   transformers=[(&#x27;onehotencoder&#x27;,\n",
       "                                                  OneHotEncoder(handle_unknown=&#x27;ignore&#x27;),\n",
       "                                                  &lt;sklearn.compose._column_transformer.make_column_selector object at 0x7f7e38babdc0&gt;)],\n",
       "                                   verbose_feature_names_out=False)),\n",
       "                (&#x27;standardscaler&#x27;, StandardScaler(with_mean=False)),\n",
       "                (&#x27;linearregression&#x27;, LinearRegression())])</pre></div></div></div><div class=\"sk-serial\"><div class=\"sk-item sk-dashed-wrapped\"><div class=\"sk-label-container\"><div class=\"sk-label sk-toggleable\"><input class=\"sk-toggleable__control sk-hidden--visually\" id=\"00dedc9f-579d-4b8d-b5f4-edbf86a0a13b\" type=\"checkbox\" ><label for=\"00dedc9f-579d-4b8d-b5f4-edbf86a0a13b\" class=\"sk-toggleable__label sk-toggleable__label-arrow\">columntransformer: ColumnTransformer</label><div class=\"sk-toggleable__content\"><pre>ColumnTransformer(remainder=&#x27;passthrough&#x27;,\n",
       "                  transformers=[(&#x27;onehotencoder&#x27;,\n",
       "                                 OneHotEncoder(handle_unknown=&#x27;ignore&#x27;),\n",
       "                                 &lt;sklearn.compose._column_transformer.make_column_selector object at 0x7f7e38babdc0&gt;)],\n",
       "                  verbose_feature_names_out=False)</pre></div></div></div><div class=\"sk-parallel\"><div class=\"sk-parallel-item\"><div class=\"sk-item\"><div class=\"sk-label-container\"><div class=\"sk-label sk-toggleable\"><input class=\"sk-toggleable__control sk-hidden--visually\" id=\"f3192ae3-63a6-467d-a315-d54283be37e2\" type=\"checkbox\" ><label for=\"f3192ae3-63a6-467d-a315-d54283be37e2\" class=\"sk-toggleable__label sk-toggleable__label-arrow\">onehotencoder</label><div class=\"sk-toggleable__content\"><pre>&lt;sklearn.compose._column_transformer.make_column_selector object at 0x7f7e38babdc0&gt;</pre></div></div></div><div class=\"sk-serial\"><div class=\"sk-item\"><div class=\"sk-estimator sk-toggleable\"><input class=\"sk-toggleable__control sk-hidden--visually\" id=\"b7042fce-d8f7-45c8-b453-b6b2e5f01f19\" type=\"checkbox\" ><label for=\"b7042fce-d8f7-45c8-b453-b6b2e5f01f19\" class=\"sk-toggleable__label sk-toggleable__label-arrow\">OneHotEncoder</label><div class=\"sk-toggleable__content\"><pre>OneHotEncoder(handle_unknown=&#x27;ignore&#x27;)</pre></div></div></div></div></div></div><div class=\"sk-parallel-item\"><div class=\"sk-item\"><div class=\"sk-label-container\"><div class=\"sk-label sk-toggleable\"><input class=\"sk-toggleable__control sk-hidden--visually\" id=\"e83ea1ac-7c6e-48e3-aa50-1c994d36b290\" type=\"checkbox\" ><label for=\"e83ea1ac-7c6e-48e3-aa50-1c994d36b290\" class=\"sk-toggleable__label sk-toggleable__label-arrow\">remainder</label><div class=\"sk-toggleable__content\"><pre>[]</pre></div></div></div><div class=\"sk-serial\"><div class=\"sk-item\"><div class=\"sk-estimator sk-toggleable\"><input class=\"sk-toggleable__control sk-hidden--visually\" id=\"e14feedb-1a63-45e7-9574-d454de3b889c\" type=\"checkbox\" ><label for=\"e14feedb-1a63-45e7-9574-d454de3b889c\" class=\"sk-toggleable__label sk-toggleable__label-arrow\">passthrough</label><div class=\"sk-toggleable__content\"><pre>passthrough</pre></div></div></div></div></div></div></div></div><div class=\"sk-item\"><div class=\"sk-estimator sk-toggleable\"><input class=\"sk-toggleable__control sk-hidden--visually\" id=\"80ca9501-66fd-4c6a-9d32-6365a4eb1793\" type=\"checkbox\" ><label for=\"80ca9501-66fd-4c6a-9d32-6365a4eb1793\" class=\"sk-toggleable__label sk-toggleable__label-arrow\">StandardScaler</label><div class=\"sk-toggleable__content\"><pre>StandardScaler(with_mean=False)</pre></div></div></div><div class=\"sk-item\"><div class=\"sk-estimator sk-toggleable\"><input class=\"sk-toggleable__control sk-hidden--visually\" id=\"b1eeb1a8-f51e-42ce-b241-1431715b5874\" type=\"checkbox\" ><label for=\"b1eeb1a8-f51e-42ce-b241-1431715b5874\" class=\"sk-toggleable__label sk-toggleable__label-arrow\">LinearRegression</label><div class=\"sk-toggleable__content\"><pre>LinearRegression()</pre></div></div></div></div></div></div></div>"
      ],
      "text/plain": [
       "Pipeline(steps=[('columntransformer',\n",
       "                 ColumnTransformer(remainder='passthrough',\n",
       "                                   transformers=[('onehotencoder',\n",
       "                                                  OneHotEncoder(handle_unknown='ignore'),\n",
       "                                                  <sklearn.compose._column_transformer.make_column_selector object at 0x7f7e38babdc0>)],\n",
       "                                   verbose_feature_names_out=False)),\n",
       "                ('standardscaler', StandardScaler(with_mean=False)),\n",
       "                ('linearregression', LinearRegression())])"
      ]
     },
     "execution_count": 372,
     "metadata": {},
     "output_type": "execute_result"
    }
   ],
   "source": [
    "pipe.fit(X_train, y_train)"
   ]
  },
  {
   "cell_type": "code",
   "execution_count": 373,
   "metadata": {},
   "outputs": [
    {
     "data": {
      "text/plain": [
       "0.5467053704757524"
      ]
     },
     "execution_count": 373,
     "metadata": {},
     "output_type": "execute_result"
    }
   ],
   "source": [
    "pipe.score(X_test, y_test)"
   ]
  },
  {
   "cell_type": "code",
   "execution_count": 374,
   "metadata": {},
   "outputs": [],
   "source": [
    "preds = pipe.predict(X_test)"
   ]
  },
  {
   "cell_type": "code",
   "execution_count": 375,
   "metadata": {},
   "outputs": [
    {
     "data": {
      "text/plain": [
       "51741.6741156098"
      ]
     },
     "execution_count": 375,
     "metadata": {},
     "output_type": "execute_result"
    }
   ],
   "source": [
    "mean_squared_error(y_test, preds, squared=False\n",
    ")"
   ]
  },
  {
   "cell_type": "markdown",
   "metadata": {},
   "source": [
    "Our RMSE using only neighborhood is considerably worse than our baseline Linear Regression."
   ]
  },
  {
   "cell_type": "markdown",
   "metadata": {},
   "source": [
    "### Kaggle submission"
   ]
  },
  {
   "cell_type": "code",
   "execution_count": 376,
   "metadata": {},
   "outputs": [],
   "source": [
    "test['SalePrice'] = pipe.predict(neigh_test)"
   ]
  },
  {
   "cell_type": "code",
   "execution_count": 377,
   "metadata": {},
   "outputs": [],
   "source": [
    "test[['Id', 'SalePrice']].to_csv('../data/submission_location_linreg.csv', index=False)"
   ]
  },
  {
   "cell_type": "markdown",
   "metadata": {},
   "source": [
    "## Incorporate all location proxies identified in EDA\n",
    "\n",
    "In addtion to the Neighborhoods feature, the following features were identified as location proxies in EDA:\n",
    "\n",
    "- Lot Shape\n",
    "- Lot Config\n",
    "- Condition 1\n",
    "- Condition 2"
   ]
  },
  {
   "cell_type": "code",
   "execution_count": 378,
   "metadata": {},
   "outputs": [],
   "source": [
    "X = train[['Lot Shape', 'Lot Config', 'Neighborhood', 'Condition 1', 'Condition 2']]\n",
    "y = train['SalePrice']\n",
    "neigh_test = test[['Lot Shape', 'Lot Config', 'Neighborhood', 'Condition 1', 'Condition 2']]"
   ]
  },
  {
   "cell_type": "code",
   "execution_count": 379,
   "metadata": {},
   "outputs": [],
   "source": [
    "X_train, X_test, y_train, y_test = train_test_split(X, y)"
   ]
  },
  {
   "cell_type": "code",
   "execution_count": 380,
   "metadata": {},
   "outputs": [
    {
     "data": {
      "text/html": [
       "<style>#sk-0b84f2e5-f0e0-4ded-8148-335753ca7f8a {color: black;background-color: white;}#sk-0b84f2e5-f0e0-4ded-8148-335753ca7f8a pre{padding: 0;}#sk-0b84f2e5-f0e0-4ded-8148-335753ca7f8a div.sk-toggleable {background-color: white;}#sk-0b84f2e5-f0e0-4ded-8148-335753ca7f8a label.sk-toggleable__label {cursor: pointer;display: block;width: 100%;margin-bottom: 0;padding: 0.3em;box-sizing: border-box;text-align: center;}#sk-0b84f2e5-f0e0-4ded-8148-335753ca7f8a label.sk-toggleable__label-arrow:before {content: \"▸\";float: left;margin-right: 0.25em;color: #696969;}#sk-0b84f2e5-f0e0-4ded-8148-335753ca7f8a label.sk-toggleable__label-arrow:hover:before {color: black;}#sk-0b84f2e5-f0e0-4ded-8148-335753ca7f8a div.sk-estimator:hover label.sk-toggleable__label-arrow:before {color: black;}#sk-0b84f2e5-f0e0-4ded-8148-335753ca7f8a div.sk-toggleable__content {max-height: 0;max-width: 0;overflow: hidden;text-align: left;background-color: #f0f8ff;}#sk-0b84f2e5-f0e0-4ded-8148-335753ca7f8a div.sk-toggleable__content pre {margin: 0.2em;color: black;border-radius: 0.25em;background-color: #f0f8ff;}#sk-0b84f2e5-f0e0-4ded-8148-335753ca7f8a input.sk-toggleable__control:checked~div.sk-toggleable__content {max-height: 200px;max-width: 100%;overflow: auto;}#sk-0b84f2e5-f0e0-4ded-8148-335753ca7f8a input.sk-toggleable__control:checked~label.sk-toggleable__label-arrow:before {content: \"▾\";}#sk-0b84f2e5-f0e0-4ded-8148-335753ca7f8a div.sk-estimator input.sk-toggleable__control:checked~label.sk-toggleable__label {background-color: #d4ebff;}#sk-0b84f2e5-f0e0-4ded-8148-335753ca7f8a div.sk-label input.sk-toggleable__control:checked~label.sk-toggleable__label {background-color: #d4ebff;}#sk-0b84f2e5-f0e0-4ded-8148-335753ca7f8a input.sk-hidden--visually {border: 0;clip: rect(1px 1px 1px 1px);clip: rect(1px, 1px, 1px, 1px);height: 1px;margin: -1px;overflow: hidden;padding: 0;position: absolute;width: 1px;}#sk-0b84f2e5-f0e0-4ded-8148-335753ca7f8a div.sk-estimator {font-family: monospace;background-color: #f0f8ff;border: 1px dotted black;border-radius: 0.25em;box-sizing: border-box;margin-bottom: 0.5em;}#sk-0b84f2e5-f0e0-4ded-8148-335753ca7f8a div.sk-estimator:hover {background-color: #d4ebff;}#sk-0b84f2e5-f0e0-4ded-8148-335753ca7f8a div.sk-parallel-item::after {content: \"\";width: 100%;border-bottom: 1px solid gray;flex-grow: 1;}#sk-0b84f2e5-f0e0-4ded-8148-335753ca7f8a div.sk-label:hover label.sk-toggleable__label {background-color: #d4ebff;}#sk-0b84f2e5-f0e0-4ded-8148-335753ca7f8a div.sk-serial::before {content: \"\";position: absolute;border-left: 1px solid gray;box-sizing: border-box;top: 2em;bottom: 0;left: 50%;}#sk-0b84f2e5-f0e0-4ded-8148-335753ca7f8a div.sk-serial {display: flex;flex-direction: column;align-items: center;background-color: white;padding-right: 0.2em;padding-left: 0.2em;}#sk-0b84f2e5-f0e0-4ded-8148-335753ca7f8a div.sk-item {z-index: 1;}#sk-0b84f2e5-f0e0-4ded-8148-335753ca7f8a div.sk-parallel {display: flex;align-items: stretch;justify-content: center;background-color: white;}#sk-0b84f2e5-f0e0-4ded-8148-335753ca7f8a div.sk-parallel::before {content: \"\";position: absolute;border-left: 1px solid gray;box-sizing: border-box;top: 2em;bottom: 0;left: 50%;}#sk-0b84f2e5-f0e0-4ded-8148-335753ca7f8a div.sk-parallel-item {display: flex;flex-direction: column;position: relative;background-color: white;}#sk-0b84f2e5-f0e0-4ded-8148-335753ca7f8a div.sk-parallel-item:first-child::after {align-self: flex-end;width: 50%;}#sk-0b84f2e5-f0e0-4ded-8148-335753ca7f8a div.sk-parallel-item:last-child::after {align-self: flex-start;width: 50%;}#sk-0b84f2e5-f0e0-4ded-8148-335753ca7f8a div.sk-parallel-item:only-child::after {width: 0;}#sk-0b84f2e5-f0e0-4ded-8148-335753ca7f8a div.sk-dashed-wrapped {border: 1px dashed gray;margin: 0 0.4em 0.5em 0.4em;box-sizing: border-box;padding-bottom: 0.4em;background-color: white;position: relative;}#sk-0b84f2e5-f0e0-4ded-8148-335753ca7f8a div.sk-label label {font-family: monospace;font-weight: bold;background-color: white;display: inline-block;line-height: 1.2em;}#sk-0b84f2e5-f0e0-4ded-8148-335753ca7f8a div.sk-label-container {position: relative;z-index: 2;text-align: center;}#sk-0b84f2e5-f0e0-4ded-8148-335753ca7f8a div.sk-container {/* jupyter's `normalize.less` sets `[hidden] { display: none; }` but bootstrap.min.css set `[hidden] { display: none !important; }` so we also need the `!important` here to be able to override the default hidden behavior on the sphinx rendered scikit-learn.org. See: https://github.com/scikit-learn/scikit-learn/issues/21755 */display: inline-block !important;position: relative;}#sk-0b84f2e5-f0e0-4ded-8148-335753ca7f8a div.sk-text-repr-fallback {display: none;}</style><div id=\"sk-0b84f2e5-f0e0-4ded-8148-335753ca7f8a\" class=\"sk-top-container\"><div class=\"sk-text-repr-fallback\"><pre>ColumnTransformer(remainder=&#x27;passthrough&#x27;,\n",
       "                  transformers=[(&#x27;onehotencoder&#x27;,\n",
       "                                 OneHotEncoder(handle_unknown=&#x27;ignore&#x27;),\n",
       "                                 &lt;sklearn.compose._column_transformer.make_column_selector object at 0x7f7e376ca640&gt;)],\n",
       "                  verbose_feature_names_out=False)</pre><b>Please rerun this cell to show the HTML repr or trust the notebook.</b></div><div class=\"sk-container\" hidden><div class=\"sk-item sk-dashed-wrapped\"><div class=\"sk-label-container\"><div class=\"sk-label sk-toggleable\"><input class=\"sk-toggleable__control sk-hidden--visually\" id=\"7a1c84ac-1ef1-42f8-9632-0e0ed7c1756c\" type=\"checkbox\" ><label for=\"7a1c84ac-1ef1-42f8-9632-0e0ed7c1756c\" class=\"sk-toggleable__label sk-toggleable__label-arrow\">ColumnTransformer</label><div class=\"sk-toggleable__content\"><pre>ColumnTransformer(remainder=&#x27;passthrough&#x27;,\n",
       "                  transformers=[(&#x27;onehotencoder&#x27;,\n",
       "                                 OneHotEncoder(handle_unknown=&#x27;ignore&#x27;),\n",
       "                                 &lt;sklearn.compose._column_transformer.make_column_selector object at 0x7f7e376ca640&gt;)],\n",
       "                  verbose_feature_names_out=False)</pre></div></div></div><div class=\"sk-parallel\"><div class=\"sk-parallel-item\"><div class=\"sk-item\"><div class=\"sk-label-container\"><div class=\"sk-label sk-toggleable\"><input class=\"sk-toggleable__control sk-hidden--visually\" id=\"062d481d-ba53-48da-9573-b8005c4f3088\" type=\"checkbox\" ><label for=\"062d481d-ba53-48da-9573-b8005c4f3088\" class=\"sk-toggleable__label sk-toggleable__label-arrow\">onehotencoder</label><div class=\"sk-toggleable__content\"><pre>&lt;sklearn.compose._column_transformer.make_column_selector object at 0x7f7e376ca640&gt;</pre></div></div></div><div class=\"sk-serial\"><div class=\"sk-item\"><div class=\"sk-estimator sk-toggleable\"><input class=\"sk-toggleable__control sk-hidden--visually\" id=\"d9d48b8f-98b7-4cc9-8127-7bb05b3c118a\" type=\"checkbox\" ><label for=\"d9d48b8f-98b7-4cc9-8127-7bb05b3c118a\" class=\"sk-toggleable__label sk-toggleable__label-arrow\">OneHotEncoder</label><div class=\"sk-toggleable__content\"><pre>OneHotEncoder(handle_unknown=&#x27;ignore&#x27;)</pre></div></div></div></div></div></div><div class=\"sk-parallel-item\"><div class=\"sk-item\"><div class=\"sk-label-container\"><div class=\"sk-label sk-toggleable\"><input class=\"sk-toggleable__control sk-hidden--visually\" id=\"95c3b699-d970-4bc5-b194-67e6155c1aa1\" type=\"checkbox\" ><label for=\"95c3b699-d970-4bc5-b194-67e6155c1aa1\" class=\"sk-toggleable__label sk-toggleable__label-arrow\">remainder</label><div class=\"sk-toggleable__content\"><pre></pre></div></div></div><div class=\"sk-serial\"><div class=\"sk-item\"><div class=\"sk-estimator sk-toggleable\"><input class=\"sk-toggleable__control sk-hidden--visually\" id=\"2c7399d9-1262-4cfd-9fd4-0d8a3eaee953\" type=\"checkbox\" ><label for=\"2c7399d9-1262-4cfd-9fd4-0d8a3eaee953\" class=\"sk-toggleable__label sk-toggleable__label-arrow\">passthrough</label><div class=\"sk-toggleable__content\"><pre>passthrough</pre></div></div></div></div></div></div></div></div></div></div>"
      ],
      "text/plain": [
       "ColumnTransformer(remainder='passthrough',\n",
       "                  transformers=[('onehotencoder',\n",
       "                                 OneHotEncoder(handle_unknown='ignore'),\n",
       "                                 <sklearn.compose._column_transformer.make_column_selector object at 0x7f7e376ca640>)],\n",
       "                  verbose_feature_names_out=False)"
      ]
     },
     "execution_count": 380,
     "metadata": {},
     "output_type": "execute_result"
    }
   ],
   "source": [
    "ct2 = make_column_transformer(\n",
    "    (OneHotEncoder(handle_unknown='ignore'), make_column_selector(dtype_include=object)),\n",
    "    remainder='passthrough',\n",
    "    verbose_feature_names_out=False\n",
    ")\n",
    "ct2"
   ]
  },
  {
   "cell_type": "code",
   "execution_count": 381,
   "metadata": {},
   "outputs": [
    {
     "data": {
      "text/html": [
       "<style>#sk-7ea4e74a-fe7d-4d69-8022-332ee146470e {color: black;background-color: white;}#sk-7ea4e74a-fe7d-4d69-8022-332ee146470e pre{padding: 0;}#sk-7ea4e74a-fe7d-4d69-8022-332ee146470e div.sk-toggleable {background-color: white;}#sk-7ea4e74a-fe7d-4d69-8022-332ee146470e label.sk-toggleable__label {cursor: pointer;display: block;width: 100%;margin-bottom: 0;padding: 0.3em;box-sizing: border-box;text-align: center;}#sk-7ea4e74a-fe7d-4d69-8022-332ee146470e label.sk-toggleable__label-arrow:before {content: \"▸\";float: left;margin-right: 0.25em;color: #696969;}#sk-7ea4e74a-fe7d-4d69-8022-332ee146470e label.sk-toggleable__label-arrow:hover:before {color: black;}#sk-7ea4e74a-fe7d-4d69-8022-332ee146470e div.sk-estimator:hover label.sk-toggleable__label-arrow:before {color: black;}#sk-7ea4e74a-fe7d-4d69-8022-332ee146470e div.sk-toggleable__content {max-height: 0;max-width: 0;overflow: hidden;text-align: left;background-color: #f0f8ff;}#sk-7ea4e74a-fe7d-4d69-8022-332ee146470e div.sk-toggleable__content pre {margin: 0.2em;color: black;border-radius: 0.25em;background-color: #f0f8ff;}#sk-7ea4e74a-fe7d-4d69-8022-332ee146470e input.sk-toggleable__control:checked~div.sk-toggleable__content {max-height: 200px;max-width: 100%;overflow: auto;}#sk-7ea4e74a-fe7d-4d69-8022-332ee146470e input.sk-toggleable__control:checked~label.sk-toggleable__label-arrow:before {content: \"▾\";}#sk-7ea4e74a-fe7d-4d69-8022-332ee146470e div.sk-estimator input.sk-toggleable__control:checked~label.sk-toggleable__label {background-color: #d4ebff;}#sk-7ea4e74a-fe7d-4d69-8022-332ee146470e div.sk-label input.sk-toggleable__control:checked~label.sk-toggleable__label {background-color: #d4ebff;}#sk-7ea4e74a-fe7d-4d69-8022-332ee146470e input.sk-hidden--visually {border: 0;clip: rect(1px 1px 1px 1px);clip: rect(1px, 1px, 1px, 1px);height: 1px;margin: -1px;overflow: hidden;padding: 0;position: absolute;width: 1px;}#sk-7ea4e74a-fe7d-4d69-8022-332ee146470e div.sk-estimator {font-family: monospace;background-color: #f0f8ff;border: 1px dotted black;border-radius: 0.25em;box-sizing: border-box;margin-bottom: 0.5em;}#sk-7ea4e74a-fe7d-4d69-8022-332ee146470e div.sk-estimator:hover {background-color: #d4ebff;}#sk-7ea4e74a-fe7d-4d69-8022-332ee146470e div.sk-parallel-item::after {content: \"\";width: 100%;border-bottom: 1px solid gray;flex-grow: 1;}#sk-7ea4e74a-fe7d-4d69-8022-332ee146470e div.sk-label:hover label.sk-toggleable__label {background-color: #d4ebff;}#sk-7ea4e74a-fe7d-4d69-8022-332ee146470e div.sk-serial::before {content: \"\";position: absolute;border-left: 1px solid gray;box-sizing: border-box;top: 2em;bottom: 0;left: 50%;}#sk-7ea4e74a-fe7d-4d69-8022-332ee146470e div.sk-serial {display: flex;flex-direction: column;align-items: center;background-color: white;padding-right: 0.2em;padding-left: 0.2em;}#sk-7ea4e74a-fe7d-4d69-8022-332ee146470e div.sk-item {z-index: 1;}#sk-7ea4e74a-fe7d-4d69-8022-332ee146470e div.sk-parallel {display: flex;align-items: stretch;justify-content: center;background-color: white;}#sk-7ea4e74a-fe7d-4d69-8022-332ee146470e div.sk-parallel::before {content: \"\";position: absolute;border-left: 1px solid gray;box-sizing: border-box;top: 2em;bottom: 0;left: 50%;}#sk-7ea4e74a-fe7d-4d69-8022-332ee146470e div.sk-parallel-item {display: flex;flex-direction: column;position: relative;background-color: white;}#sk-7ea4e74a-fe7d-4d69-8022-332ee146470e div.sk-parallel-item:first-child::after {align-self: flex-end;width: 50%;}#sk-7ea4e74a-fe7d-4d69-8022-332ee146470e div.sk-parallel-item:last-child::after {align-self: flex-start;width: 50%;}#sk-7ea4e74a-fe7d-4d69-8022-332ee146470e div.sk-parallel-item:only-child::after {width: 0;}#sk-7ea4e74a-fe7d-4d69-8022-332ee146470e div.sk-dashed-wrapped {border: 1px dashed gray;margin: 0 0.4em 0.5em 0.4em;box-sizing: border-box;padding-bottom: 0.4em;background-color: white;position: relative;}#sk-7ea4e74a-fe7d-4d69-8022-332ee146470e div.sk-label label {font-family: monospace;font-weight: bold;background-color: white;display: inline-block;line-height: 1.2em;}#sk-7ea4e74a-fe7d-4d69-8022-332ee146470e div.sk-label-container {position: relative;z-index: 2;text-align: center;}#sk-7ea4e74a-fe7d-4d69-8022-332ee146470e div.sk-container {/* jupyter's `normalize.less` sets `[hidden] { display: none; }` but bootstrap.min.css set `[hidden] { display: none !important; }` so we also need the `!important` here to be able to override the default hidden behavior on the sphinx rendered scikit-learn.org. See: https://github.com/scikit-learn/scikit-learn/issues/21755 */display: inline-block !important;position: relative;}#sk-7ea4e74a-fe7d-4d69-8022-332ee146470e div.sk-text-repr-fallback {display: none;}</style><div id=\"sk-7ea4e74a-fe7d-4d69-8022-332ee146470e\" class=\"sk-top-container\"><div class=\"sk-text-repr-fallback\"><pre>Pipeline(steps=[(&#x27;columntransformer&#x27;,\n",
       "                 ColumnTransformer(remainder=&#x27;passthrough&#x27;,\n",
       "                                   transformers=[(&#x27;onehotencoder&#x27;,\n",
       "                                                  OneHotEncoder(handle_unknown=&#x27;ignore&#x27;),\n",
       "                                                  &lt;sklearn.compose._column_transformer.make_column_selector object at 0x7f7e376ca640&gt;)],\n",
       "                                   verbose_feature_names_out=False)),\n",
       "                (&#x27;standardscaler&#x27;, StandardScaler(with_mean=False)),\n",
       "                (&#x27;linearregression&#x27;, LinearRegression())])</pre><b>Please rerun this cell to show the HTML repr or trust the notebook.</b></div><div class=\"sk-container\" hidden><div class=\"sk-item sk-dashed-wrapped\"><div class=\"sk-label-container\"><div class=\"sk-label sk-toggleable\"><input class=\"sk-toggleable__control sk-hidden--visually\" id=\"c76db917-498c-4b59-911a-3cc6c51c0ca9\" type=\"checkbox\" ><label for=\"c76db917-498c-4b59-911a-3cc6c51c0ca9\" class=\"sk-toggleable__label sk-toggleable__label-arrow\">Pipeline</label><div class=\"sk-toggleable__content\"><pre>Pipeline(steps=[(&#x27;columntransformer&#x27;,\n",
       "                 ColumnTransformer(remainder=&#x27;passthrough&#x27;,\n",
       "                                   transformers=[(&#x27;onehotencoder&#x27;,\n",
       "                                                  OneHotEncoder(handle_unknown=&#x27;ignore&#x27;),\n",
       "                                                  &lt;sklearn.compose._column_transformer.make_column_selector object at 0x7f7e376ca640&gt;)],\n",
       "                                   verbose_feature_names_out=False)),\n",
       "                (&#x27;standardscaler&#x27;, StandardScaler(with_mean=False)),\n",
       "                (&#x27;linearregression&#x27;, LinearRegression())])</pre></div></div></div><div class=\"sk-serial\"><div class=\"sk-item sk-dashed-wrapped\"><div class=\"sk-label-container\"><div class=\"sk-label sk-toggleable\"><input class=\"sk-toggleable__control sk-hidden--visually\" id=\"ad740564-55a8-4eb1-bfaf-7ad60baba230\" type=\"checkbox\" ><label for=\"ad740564-55a8-4eb1-bfaf-7ad60baba230\" class=\"sk-toggleable__label sk-toggleable__label-arrow\">columntransformer: ColumnTransformer</label><div class=\"sk-toggleable__content\"><pre>ColumnTransformer(remainder=&#x27;passthrough&#x27;,\n",
       "                  transformers=[(&#x27;onehotencoder&#x27;,\n",
       "                                 OneHotEncoder(handle_unknown=&#x27;ignore&#x27;),\n",
       "                                 &lt;sklearn.compose._column_transformer.make_column_selector object at 0x7f7e376ca640&gt;)],\n",
       "                  verbose_feature_names_out=False)</pre></div></div></div><div class=\"sk-parallel\"><div class=\"sk-parallel-item\"><div class=\"sk-item\"><div class=\"sk-label-container\"><div class=\"sk-label sk-toggleable\"><input class=\"sk-toggleable__control sk-hidden--visually\" id=\"6f5a9b1a-733a-42b7-8b7f-65b7e28144db\" type=\"checkbox\" ><label for=\"6f5a9b1a-733a-42b7-8b7f-65b7e28144db\" class=\"sk-toggleable__label sk-toggleable__label-arrow\">onehotencoder</label><div class=\"sk-toggleable__content\"><pre>&lt;sklearn.compose._column_transformer.make_column_selector object at 0x7f7e376ca640&gt;</pre></div></div></div><div class=\"sk-serial\"><div class=\"sk-item\"><div class=\"sk-estimator sk-toggleable\"><input class=\"sk-toggleable__control sk-hidden--visually\" id=\"60dde4bb-852f-4a4d-a238-56870113a4c1\" type=\"checkbox\" ><label for=\"60dde4bb-852f-4a4d-a238-56870113a4c1\" class=\"sk-toggleable__label sk-toggleable__label-arrow\">OneHotEncoder</label><div class=\"sk-toggleable__content\"><pre>OneHotEncoder(handle_unknown=&#x27;ignore&#x27;)</pre></div></div></div></div></div></div><div class=\"sk-parallel-item\"><div class=\"sk-item\"><div class=\"sk-label-container\"><div class=\"sk-label sk-toggleable\"><input class=\"sk-toggleable__control sk-hidden--visually\" id=\"664ebd6a-59f5-413b-9f47-cb10cbd102dd\" type=\"checkbox\" ><label for=\"664ebd6a-59f5-413b-9f47-cb10cbd102dd\" class=\"sk-toggleable__label sk-toggleable__label-arrow\">remainder</label><div class=\"sk-toggleable__content\"><pre></pre></div></div></div><div class=\"sk-serial\"><div class=\"sk-item\"><div class=\"sk-estimator sk-toggleable\"><input class=\"sk-toggleable__control sk-hidden--visually\" id=\"30ca52df-2f33-420a-bac7-30701d4dde35\" type=\"checkbox\" ><label for=\"30ca52df-2f33-420a-bac7-30701d4dde35\" class=\"sk-toggleable__label sk-toggleable__label-arrow\">passthrough</label><div class=\"sk-toggleable__content\"><pre>passthrough</pre></div></div></div></div></div></div></div></div><div class=\"sk-item\"><div class=\"sk-estimator sk-toggleable\"><input class=\"sk-toggleable__control sk-hidden--visually\" id=\"aad34400-4a94-4daa-a969-2cc3051f13e8\" type=\"checkbox\" ><label for=\"aad34400-4a94-4daa-a969-2cc3051f13e8\" class=\"sk-toggleable__label sk-toggleable__label-arrow\">StandardScaler</label><div class=\"sk-toggleable__content\"><pre>StandardScaler(with_mean=False)</pre></div></div></div><div class=\"sk-item\"><div class=\"sk-estimator sk-toggleable\"><input class=\"sk-toggleable__control sk-hidden--visually\" id=\"bde33384-a778-4310-b7da-5330fc2a5d1c\" type=\"checkbox\" ><label for=\"bde33384-a778-4310-b7da-5330fc2a5d1c\" class=\"sk-toggleable__label sk-toggleable__label-arrow\">LinearRegression</label><div class=\"sk-toggleable__content\"><pre>LinearRegression()</pre></div></div></div></div></div></div></div>"
      ],
      "text/plain": [
       "Pipeline(steps=[('columntransformer',\n",
       "                 ColumnTransformer(remainder='passthrough',\n",
       "                                   transformers=[('onehotencoder',\n",
       "                                                  OneHotEncoder(handle_unknown='ignore'),\n",
       "                                                  <sklearn.compose._column_transformer.make_column_selector object at 0x7f7e376ca640>)],\n",
       "                                   verbose_feature_names_out=False)),\n",
       "                ('standardscaler', StandardScaler(with_mean=False)),\n",
       "                ('linearregression', LinearRegression())])"
      ]
     },
     "execution_count": 381,
     "metadata": {},
     "output_type": "execute_result"
    }
   ],
   "source": [
    "pipe2 = make_pipeline(ct2, StandardScaler(with_mean=False), LinearRegression())\n",
    "pipe2"
   ]
  },
  {
   "cell_type": "code",
   "execution_count": 386,
   "metadata": {},
   "outputs": [
    {
     "data": {
      "text/html": [
       "<style>#sk-360fab1a-a199-4b61-91fb-18ace97cfba5 {color: black;background-color: white;}#sk-360fab1a-a199-4b61-91fb-18ace97cfba5 pre{padding: 0;}#sk-360fab1a-a199-4b61-91fb-18ace97cfba5 div.sk-toggleable {background-color: white;}#sk-360fab1a-a199-4b61-91fb-18ace97cfba5 label.sk-toggleable__label {cursor: pointer;display: block;width: 100%;margin-bottom: 0;padding: 0.3em;box-sizing: border-box;text-align: center;}#sk-360fab1a-a199-4b61-91fb-18ace97cfba5 label.sk-toggleable__label-arrow:before {content: \"▸\";float: left;margin-right: 0.25em;color: #696969;}#sk-360fab1a-a199-4b61-91fb-18ace97cfba5 label.sk-toggleable__label-arrow:hover:before {color: black;}#sk-360fab1a-a199-4b61-91fb-18ace97cfba5 div.sk-estimator:hover label.sk-toggleable__label-arrow:before {color: black;}#sk-360fab1a-a199-4b61-91fb-18ace97cfba5 div.sk-toggleable__content {max-height: 0;max-width: 0;overflow: hidden;text-align: left;background-color: #f0f8ff;}#sk-360fab1a-a199-4b61-91fb-18ace97cfba5 div.sk-toggleable__content pre {margin: 0.2em;color: black;border-radius: 0.25em;background-color: #f0f8ff;}#sk-360fab1a-a199-4b61-91fb-18ace97cfba5 input.sk-toggleable__control:checked~div.sk-toggleable__content {max-height: 200px;max-width: 100%;overflow: auto;}#sk-360fab1a-a199-4b61-91fb-18ace97cfba5 input.sk-toggleable__control:checked~label.sk-toggleable__label-arrow:before {content: \"▾\";}#sk-360fab1a-a199-4b61-91fb-18ace97cfba5 div.sk-estimator input.sk-toggleable__control:checked~label.sk-toggleable__label {background-color: #d4ebff;}#sk-360fab1a-a199-4b61-91fb-18ace97cfba5 div.sk-label input.sk-toggleable__control:checked~label.sk-toggleable__label {background-color: #d4ebff;}#sk-360fab1a-a199-4b61-91fb-18ace97cfba5 input.sk-hidden--visually {border: 0;clip: rect(1px 1px 1px 1px);clip: rect(1px, 1px, 1px, 1px);height: 1px;margin: -1px;overflow: hidden;padding: 0;position: absolute;width: 1px;}#sk-360fab1a-a199-4b61-91fb-18ace97cfba5 div.sk-estimator {font-family: monospace;background-color: #f0f8ff;border: 1px dotted black;border-radius: 0.25em;box-sizing: border-box;margin-bottom: 0.5em;}#sk-360fab1a-a199-4b61-91fb-18ace97cfba5 div.sk-estimator:hover {background-color: #d4ebff;}#sk-360fab1a-a199-4b61-91fb-18ace97cfba5 div.sk-parallel-item::after {content: \"\";width: 100%;border-bottom: 1px solid gray;flex-grow: 1;}#sk-360fab1a-a199-4b61-91fb-18ace97cfba5 div.sk-label:hover label.sk-toggleable__label {background-color: #d4ebff;}#sk-360fab1a-a199-4b61-91fb-18ace97cfba5 div.sk-serial::before {content: \"\";position: absolute;border-left: 1px solid gray;box-sizing: border-box;top: 2em;bottom: 0;left: 50%;}#sk-360fab1a-a199-4b61-91fb-18ace97cfba5 div.sk-serial {display: flex;flex-direction: column;align-items: center;background-color: white;padding-right: 0.2em;padding-left: 0.2em;}#sk-360fab1a-a199-4b61-91fb-18ace97cfba5 div.sk-item {z-index: 1;}#sk-360fab1a-a199-4b61-91fb-18ace97cfba5 div.sk-parallel {display: flex;align-items: stretch;justify-content: center;background-color: white;}#sk-360fab1a-a199-4b61-91fb-18ace97cfba5 div.sk-parallel::before {content: \"\";position: absolute;border-left: 1px solid gray;box-sizing: border-box;top: 2em;bottom: 0;left: 50%;}#sk-360fab1a-a199-4b61-91fb-18ace97cfba5 div.sk-parallel-item {display: flex;flex-direction: column;position: relative;background-color: white;}#sk-360fab1a-a199-4b61-91fb-18ace97cfba5 div.sk-parallel-item:first-child::after {align-self: flex-end;width: 50%;}#sk-360fab1a-a199-4b61-91fb-18ace97cfba5 div.sk-parallel-item:last-child::after {align-self: flex-start;width: 50%;}#sk-360fab1a-a199-4b61-91fb-18ace97cfba5 div.sk-parallel-item:only-child::after {width: 0;}#sk-360fab1a-a199-4b61-91fb-18ace97cfba5 div.sk-dashed-wrapped {border: 1px dashed gray;margin: 0 0.4em 0.5em 0.4em;box-sizing: border-box;padding-bottom: 0.4em;background-color: white;position: relative;}#sk-360fab1a-a199-4b61-91fb-18ace97cfba5 div.sk-label label {font-family: monospace;font-weight: bold;background-color: white;display: inline-block;line-height: 1.2em;}#sk-360fab1a-a199-4b61-91fb-18ace97cfba5 div.sk-label-container {position: relative;z-index: 2;text-align: center;}#sk-360fab1a-a199-4b61-91fb-18ace97cfba5 div.sk-container {/* jupyter's `normalize.less` sets `[hidden] { display: none; }` but bootstrap.min.css set `[hidden] { display: none !important; }` so we also need the `!important` here to be able to override the default hidden behavior on the sphinx rendered scikit-learn.org. See: https://github.com/scikit-learn/scikit-learn/issues/21755 */display: inline-block !important;position: relative;}#sk-360fab1a-a199-4b61-91fb-18ace97cfba5 div.sk-text-repr-fallback {display: none;}</style><div id=\"sk-360fab1a-a199-4b61-91fb-18ace97cfba5\" class=\"sk-top-container\"><div class=\"sk-text-repr-fallback\"><pre>Pipeline(steps=[(&#x27;columntransformer&#x27;,\n",
       "                 ColumnTransformer(remainder=&#x27;passthrough&#x27;,\n",
       "                                   transformers=[(&#x27;onehotencoder&#x27;,\n",
       "                                                  OneHotEncoder(handle_unknown=&#x27;ignore&#x27;),\n",
       "                                                  &lt;sklearn.compose._column_transformer.make_column_selector object at 0x7f7e376ca640&gt;)],\n",
       "                                   verbose_feature_names_out=False)),\n",
       "                (&#x27;standardscaler&#x27;, StandardScaler(with_mean=False)),\n",
       "                (&#x27;linearregression&#x27;, LinearRegression())])</pre><b>Please rerun this cell to show the HTML repr or trust the notebook.</b></div><div class=\"sk-container\" hidden><div class=\"sk-item sk-dashed-wrapped\"><div class=\"sk-label-container\"><div class=\"sk-label sk-toggleable\"><input class=\"sk-toggleable__control sk-hidden--visually\" id=\"d4d9db96-5abc-487b-b16d-cc30ed0c15bf\" type=\"checkbox\" ><label for=\"d4d9db96-5abc-487b-b16d-cc30ed0c15bf\" class=\"sk-toggleable__label sk-toggleable__label-arrow\">Pipeline</label><div class=\"sk-toggleable__content\"><pre>Pipeline(steps=[(&#x27;columntransformer&#x27;,\n",
       "                 ColumnTransformer(remainder=&#x27;passthrough&#x27;,\n",
       "                                   transformers=[(&#x27;onehotencoder&#x27;,\n",
       "                                                  OneHotEncoder(handle_unknown=&#x27;ignore&#x27;),\n",
       "                                                  &lt;sklearn.compose._column_transformer.make_column_selector object at 0x7f7e376ca640&gt;)],\n",
       "                                   verbose_feature_names_out=False)),\n",
       "                (&#x27;standardscaler&#x27;, StandardScaler(with_mean=False)),\n",
       "                (&#x27;linearregression&#x27;, LinearRegression())])</pre></div></div></div><div class=\"sk-serial\"><div class=\"sk-item sk-dashed-wrapped\"><div class=\"sk-label-container\"><div class=\"sk-label sk-toggleable\"><input class=\"sk-toggleable__control sk-hidden--visually\" id=\"6a2b8b82-d91a-4f46-a782-2028d62f295a\" type=\"checkbox\" ><label for=\"6a2b8b82-d91a-4f46-a782-2028d62f295a\" class=\"sk-toggleable__label sk-toggleable__label-arrow\">columntransformer: ColumnTransformer</label><div class=\"sk-toggleable__content\"><pre>ColumnTransformer(remainder=&#x27;passthrough&#x27;,\n",
       "                  transformers=[(&#x27;onehotencoder&#x27;,\n",
       "                                 OneHotEncoder(handle_unknown=&#x27;ignore&#x27;),\n",
       "                                 &lt;sklearn.compose._column_transformer.make_column_selector object at 0x7f7e376ca640&gt;)],\n",
       "                  verbose_feature_names_out=False)</pre></div></div></div><div class=\"sk-parallel\"><div class=\"sk-parallel-item\"><div class=\"sk-item\"><div class=\"sk-label-container\"><div class=\"sk-label sk-toggleable\"><input class=\"sk-toggleable__control sk-hidden--visually\" id=\"c4e9eec3-3ff0-414d-9197-7593f061a2ab\" type=\"checkbox\" ><label for=\"c4e9eec3-3ff0-414d-9197-7593f061a2ab\" class=\"sk-toggleable__label sk-toggleable__label-arrow\">onehotencoder</label><div class=\"sk-toggleable__content\"><pre>&lt;sklearn.compose._column_transformer.make_column_selector object at 0x7f7e376ca640&gt;</pre></div></div></div><div class=\"sk-serial\"><div class=\"sk-item\"><div class=\"sk-estimator sk-toggleable\"><input class=\"sk-toggleable__control sk-hidden--visually\" id=\"94b89f7c-1a62-405a-a159-73f21a73d7b1\" type=\"checkbox\" ><label for=\"94b89f7c-1a62-405a-a159-73f21a73d7b1\" class=\"sk-toggleable__label sk-toggleable__label-arrow\">OneHotEncoder</label><div class=\"sk-toggleable__content\"><pre>OneHotEncoder(handle_unknown=&#x27;ignore&#x27;)</pre></div></div></div></div></div></div><div class=\"sk-parallel-item\"><div class=\"sk-item\"><div class=\"sk-label-container\"><div class=\"sk-label sk-toggleable\"><input class=\"sk-toggleable__control sk-hidden--visually\" id=\"38fb91cb-9abe-4677-9a08-cdecb38bb46e\" type=\"checkbox\" ><label for=\"38fb91cb-9abe-4677-9a08-cdecb38bb46e\" class=\"sk-toggleable__label sk-toggleable__label-arrow\">remainder</label><div class=\"sk-toggleable__content\"><pre>[]</pre></div></div></div><div class=\"sk-serial\"><div class=\"sk-item\"><div class=\"sk-estimator sk-toggleable\"><input class=\"sk-toggleable__control sk-hidden--visually\" id=\"43fac485-416e-464c-8416-7e36c26f2675\" type=\"checkbox\" ><label for=\"43fac485-416e-464c-8416-7e36c26f2675\" class=\"sk-toggleable__label sk-toggleable__label-arrow\">passthrough</label><div class=\"sk-toggleable__content\"><pre>passthrough</pre></div></div></div></div></div></div></div></div><div class=\"sk-item\"><div class=\"sk-estimator sk-toggleable\"><input class=\"sk-toggleable__control sk-hidden--visually\" id=\"9ff6ab21-8ffc-4c97-a48d-62dc8ba43ba6\" type=\"checkbox\" ><label for=\"9ff6ab21-8ffc-4c97-a48d-62dc8ba43ba6\" class=\"sk-toggleable__label sk-toggleable__label-arrow\">StandardScaler</label><div class=\"sk-toggleable__content\"><pre>StandardScaler(with_mean=False)</pre></div></div></div><div class=\"sk-item\"><div class=\"sk-estimator sk-toggleable\"><input class=\"sk-toggleable__control sk-hidden--visually\" id=\"fab5b9f7-2141-4068-9855-e281c89c5fc7\" type=\"checkbox\" ><label for=\"fab5b9f7-2141-4068-9855-e281c89c5fc7\" class=\"sk-toggleable__label sk-toggleable__label-arrow\">LinearRegression</label><div class=\"sk-toggleable__content\"><pre>LinearRegression()</pre></div></div></div></div></div></div></div>"
      ],
      "text/plain": [
       "Pipeline(steps=[('columntransformer',\n",
       "                 ColumnTransformer(remainder='passthrough',\n",
       "                                   transformers=[('onehotencoder',\n",
       "                                                  OneHotEncoder(handle_unknown='ignore'),\n",
       "                                                  <sklearn.compose._column_transformer.make_column_selector object at 0x7f7e376ca640>)],\n",
       "                                   verbose_feature_names_out=False)),\n",
       "                ('standardscaler', StandardScaler(with_mean=False)),\n",
       "                ('linearregression', LinearRegression())])"
      ]
     },
     "execution_count": 386,
     "metadata": {},
     "output_type": "execute_result"
    }
   ],
   "source": [
    "pipe2.fit(X_train, y_train)"
   ]
  },
  {
   "cell_type": "code",
   "execution_count": 387,
   "metadata": {},
   "outputs": [
    {
     "data": {
      "text/plain": [
       "0.610617647492115"
      ]
     },
     "execution_count": 387,
     "metadata": {},
     "output_type": "execute_result"
    }
   ],
   "source": [
    "pipe2.score(X_test, y_test)"
   ]
  },
  {
   "cell_type": "code",
   "execution_count": 388,
   "metadata": {},
   "outputs": [],
   "source": [
    "preds = pipe2.predict(X_test)"
   ]
  },
  {
   "cell_type": "code",
   "execution_count": 389,
   "metadata": {},
   "outputs": [
    {
     "data": {
      "text/plain": [
       "52098.59375019075"
      ]
     },
     "execution_count": 389,
     "metadata": {},
     "output_type": "execute_result"
    }
   ],
   "source": [
    "mean_squared_error(y_test, preds, squared=False)"
   ]
  },
  {
   "cell_type": "markdown",
   "metadata": {},
   "source": [
    "Our RMSE using location proxies is considerably worse than our baseline Linear Regression."
   ]
  },
  {
   "cell_type": "markdown",
   "metadata": {},
   "source": [
    "### Kaggle submission"
   ]
  },
  {
   "cell_type": "code",
   "execution_count": 390,
   "metadata": {},
   "outputs": [],
   "source": [
    "test['SalePrice'] = pipe2.predict(neigh_test)"
   ]
  },
  {
   "cell_type": "code",
   "execution_count": 391,
   "metadata": {},
   "outputs": [],
   "source": [
    "test[['Id', 'SalePrice']].to_csv('../data/submission_all_location_linreg.csv', index=False)"
   ]
  },
  {
   "cell_type": "markdown",
   "metadata": {},
   "source": [
    "## Combine all selected features and fit on Linear Regression"
   ]
  },
  {
   "cell_type": "markdown",
   "metadata": {},
   "source": [
    "### Train-Test split"
   ]
  },
  {
   "cell_type": "code",
   "execution_count": 394,
   "metadata": {},
   "outputs": [],
   "source": [
    "X = train.drop(columns='SalePrice')\n",
    "y = train['SalePrice']\n",
    "kaggle = test[X.columns]"
   ]
  },
  {
   "cell_type": "code",
   "execution_count": 395,
   "metadata": {},
   "outputs": [],
   "source": [
    "X_train, X_test, y_train, y_test = train_test_split(X, y)"
   ]
  },
  {
   "cell_type": "markdown",
   "metadata": {},
   "source": [
    "### Column transformations"
   ]
  },
  {
   "cell_type": "code",
   "execution_count": 396,
   "metadata": {},
   "outputs": [
    {
     "data": {
      "text/html": [
       "<style>#sk-0c68be87-fc7d-4cc8-a730-e56e9928e665 {color: black;background-color: white;}#sk-0c68be87-fc7d-4cc8-a730-e56e9928e665 pre{padding: 0;}#sk-0c68be87-fc7d-4cc8-a730-e56e9928e665 div.sk-toggleable {background-color: white;}#sk-0c68be87-fc7d-4cc8-a730-e56e9928e665 label.sk-toggleable__label {cursor: pointer;display: block;width: 100%;margin-bottom: 0;padding: 0.3em;box-sizing: border-box;text-align: center;}#sk-0c68be87-fc7d-4cc8-a730-e56e9928e665 label.sk-toggleable__label-arrow:before {content: \"▸\";float: left;margin-right: 0.25em;color: #696969;}#sk-0c68be87-fc7d-4cc8-a730-e56e9928e665 label.sk-toggleable__label-arrow:hover:before {color: black;}#sk-0c68be87-fc7d-4cc8-a730-e56e9928e665 div.sk-estimator:hover label.sk-toggleable__label-arrow:before {color: black;}#sk-0c68be87-fc7d-4cc8-a730-e56e9928e665 div.sk-toggleable__content {max-height: 0;max-width: 0;overflow: hidden;text-align: left;background-color: #f0f8ff;}#sk-0c68be87-fc7d-4cc8-a730-e56e9928e665 div.sk-toggleable__content pre {margin: 0.2em;color: black;border-radius: 0.25em;background-color: #f0f8ff;}#sk-0c68be87-fc7d-4cc8-a730-e56e9928e665 input.sk-toggleable__control:checked~div.sk-toggleable__content {max-height: 200px;max-width: 100%;overflow: auto;}#sk-0c68be87-fc7d-4cc8-a730-e56e9928e665 input.sk-toggleable__control:checked~label.sk-toggleable__label-arrow:before {content: \"▾\";}#sk-0c68be87-fc7d-4cc8-a730-e56e9928e665 div.sk-estimator input.sk-toggleable__control:checked~label.sk-toggleable__label {background-color: #d4ebff;}#sk-0c68be87-fc7d-4cc8-a730-e56e9928e665 div.sk-label input.sk-toggleable__control:checked~label.sk-toggleable__label {background-color: #d4ebff;}#sk-0c68be87-fc7d-4cc8-a730-e56e9928e665 input.sk-hidden--visually {border: 0;clip: rect(1px 1px 1px 1px);clip: rect(1px, 1px, 1px, 1px);height: 1px;margin: -1px;overflow: hidden;padding: 0;position: absolute;width: 1px;}#sk-0c68be87-fc7d-4cc8-a730-e56e9928e665 div.sk-estimator {font-family: monospace;background-color: #f0f8ff;border: 1px dotted black;border-radius: 0.25em;box-sizing: border-box;margin-bottom: 0.5em;}#sk-0c68be87-fc7d-4cc8-a730-e56e9928e665 div.sk-estimator:hover {background-color: #d4ebff;}#sk-0c68be87-fc7d-4cc8-a730-e56e9928e665 div.sk-parallel-item::after {content: \"\";width: 100%;border-bottom: 1px solid gray;flex-grow: 1;}#sk-0c68be87-fc7d-4cc8-a730-e56e9928e665 div.sk-label:hover label.sk-toggleable__label {background-color: #d4ebff;}#sk-0c68be87-fc7d-4cc8-a730-e56e9928e665 div.sk-serial::before {content: \"\";position: absolute;border-left: 1px solid gray;box-sizing: border-box;top: 2em;bottom: 0;left: 50%;}#sk-0c68be87-fc7d-4cc8-a730-e56e9928e665 div.sk-serial {display: flex;flex-direction: column;align-items: center;background-color: white;padding-right: 0.2em;padding-left: 0.2em;}#sk-0c68be87-fc7d-4cc8-a730-e56e9928e665 div.sk-item {z-index: 1;}#sk-0c68be87-fc7d-4cc8-a730-e56e9928e665 div.sk-parallel {display: flex;align-items: stretch;justify-content: center;background-color: white;}#sk-0c68be87-fc7d-4cc8-a730-e56e9928e665 div.sk-parallel::before {content: \"\";position: absolute;border-left: 1px solid gray;box-sizing: border-box;top: 2em;bottom: 0;left: 50%;}#sk-0c68be87-fc7d-4cc8-a730-e56e9928e665 div.sk-parallel-item {display: flex;flex-direction: column;position: relative;background-color: white;}#sk-0c68be87-fc7d-4cc8-a730-e56e9928e665 div.sk-parallel-item:first-child::after {align-self: flex-end;width: 50%;}#sk-0c68be87-fc7d-4cc8-a730-e56e9928e665 div.sk-parallel-item:last-child::after {align-self: flex-start;width: 50%;}#sk-0c68be87-fc7d-4cc8-a730-e56e9928e665 div.sk-parallel-item:only-child::after {width: 0;}#sk-0c68be87-fc7d-4cc8-a730-e56e9928e665 div.sk-dashed-wrapped {border: 1px dashed gray;margin: 0 0.4em 0.5em 0.4em;box-sizing: border-box;padding-bottom: 0.4em;background-color: white;position: relative;}#sk-0c68be87-fc7d-4cc8-a730-e56e9928e665 div.sk-label label {font-family: monospace;font-weight: bold;background-color: white;display: inline-block;line-height: 1.2em;}#sk-0c68be87-fc7d-4cc8-a730-e56e9928e665 div.sk-label-container {position: relative;z-index: 2;text-align: center;}#sk-0c68be87-fc7d-4cc8-a730-e56e9928e665 div.sk-container {/* jupyter's `normalize.less` sets `[hidden] { display: none; }` but bootstrap.min.css set `[hidden] { display: none !important; }` so we also need the `!important` here to be able to override the default hidden behavior on the sphinx rendered scikit-learn.org. See: https://github.com/scikit-learn/scikit-learn/issues/21755 */display: inline-block !important;position: relative;}#sk-0c68be87-fc7d-4cc8-a730-e56e9928e665 div.sk-text-repr-fallback {display: none;}</style><div id=\"sk-0c68be87-fc7d-4cc8-a730-e56e9928e665\" class=\"sk-top-container\"><div class=\"sk-text-repr-fallback\"><pre>ColumnTransformer(remainder=&#x27;passthrough&#x27;,\n",
       "                  transformers=[(&#x27;onehotencoder&#x27;,\n",
       "                                 OneHotEncoder(handle_unknown=&#x27;ignore&#x27;),\n",
       "                                 &lt;sklearn.compose._column_transformer.make_column_selector object at 0x7f7e376ca640&gt;)],\n",
       "                  verbose_feature_names_out=False)</pre><b>Please rerun this cell to show the HTML repr or trust the notebook.</b></div><div class=\"sk-container\" hidden><div class=\"sk-item sk-dashed-wrapped\"><div class=\"sk-label-container\"><div class=\"sk-label sk-toggleable\"><input class=\"sk-toggleable__control sk-hidden--visually\" id=\"5d35781f-883b-4918-b349-25ac8fd4998a\" type=\"checkbox\" ><label for=\"5d35781f-883b-4918-b349-25ac8fd4998a\" class=\"sk-toggleable__label sk-toggleable__label-arrow\">ColumnTransformer</label><div class=\"sk-toggleable__content\"><pre>ColumnTransformer(remainder=&#x27;passthrough&#x27;,\n",
       "                  transformers=[(&#x27;onehotencoder&#x27;,\n",
       "                                 OneHotEncoder(handle_unknown=&#x27;ignore&#x27;),\n",
       "                                 &lt;sklearn.compose._column_transformer.make_column_selector object at 0x7f7e376ca640&gt;)],\n",
       "                  verbose_feature_names_out=False)</pre></div></div></div><div class=\"sk-parallel\"><div class=\"sk-parallel-item\"><div class=\"sk-item\"><div class=\"sk-label-container\"><div class=\"sk-label sk-toggleable\"><input class=\"sk-toggleable__control sk-hidden--visually\" id=\"f0a54357-0e3f-4455-8f14-9c7f6d42ec35\" type=\"checkbox\" ><label for=\"f0a54357-0e3f-4455-8f14-9c7f6d42ec35\" class=\"sk-toggleable__label sk-toggleable__label-arrow\">onehotencoder</label><div class=\"sk-toggleable__content\"><pre>&lt;sklearn.compose._column_transformer.make_column_selector object at 0x7f7e376ca640&gt;</pre></div></div></div><div class=\"sk-serial\"><div class=\"sk-item\"><div class=\"sk-estimator sk-toggleable\"><input class=\"sk-toggleable__control sk-hidden--visually\" id=\"d4d43ac3-9f37-4bac-a7c9-29112fce9dca\" type=\"checkbox\" ><label for=\"d4d43ac3-9f37-4bac-a7c9-29112fce9dca\" class=\"sk-toggleable__label sk-toggleable__label-arrow\">OneHotEncoder</label><div class=\"sk-toggleable__content\"><pre>OneHotEncoder(handle_unknown=&#x27;ignore&#x27;)</pre></div></div></div></div></div></div><div class=\"sk-parallel-item\"><div class=\"sk-item\"><div class=\"sk-label-container\"><div class=\"sk-label sk-toggleable\"><input class=\"sk-toggleable__control sk-hidden--visually\" id=\"cc8b13b1-31da-4a67-af63-a782ab292256\" type=\"checkbox\" ><label for=\"cc8b13b1-31da-4a67-af63-a782ab292256\" class=\"sk-toggleable__label sk-toggleable__label-arrow\">remainder</label><div class=\"sk-toggleable__content\"><pre>[]</pre></div></div></div><div class=\"sk-serial\"><div class=\"sk-item\"><div class=\"sk-estimator sk-toggleable\"><input class=\"sk-toggleable__control sk-hidden--visually\" id=\"6e49c554-46a6-4adb-bb26-fda4800f7e27\" type=\"checkbox\" ><label for=\"6e49c554-46a6-4adb-bb26-fda4800f7e27\" class=\"sk-toggleable__label sk-toggleable__label-arrow\">passthrough</label><div class=\"sk-toggleable__content\"><pre>passthrough</pre></div></div></div></div></div></div></div></div></div></div>"
      ],
      "text/plain": [
       "ColumnTransformer(remainder='passthrough',\n",
       "                  transformers=[('onehotencoder',\n",
       "                                 OneHotEncoder(handle_unknown='ignore'),\n",
       "                                 <sklearn.compose._column_transformer.make_column_selector object at 0x7f7e376ca640>)],\n",
       "                  verbose_feature_names_out=False)"
      ]
     },
     "execution_count": 396,
     "metadata": {},
     "output_type": "execute_result"
    }
   ],
   "source": [
    "ct3 = make_column_transformer(\n",
    "    (OneHotEncoder(handle_unknown='ignore'), make_column_selector(dtype_include=object)),\n",
    "    remainder='passthrough',\n",
    "    verbose_feature_names_out=False\n",
    ")\n",
    "ct2"
   ]
  },
  {
   "cell_type": "markdown",
   "metadata": {},
   "source": [
    "### Pipeline with Column transformer, Standard Scaler and Linear Regression"
   ]
  },
  {
   "cell_type": "code",
   "execution_count": 398,
   "metadata": {},
   "outputs": [
    {
     "data": {
      "text/html": [
       "<style>#sk-97904a60-fa72-4e6f-9200-e6cb3829edd3 {color: black;background-color: white;}#sk-97904a60-fa72-4e6f-9200-e6cb3829edd3 pre{padding: 0;}#sk-97904a60-fa72-4e6f-9200-e6cb3829edd3 div.sk-toggleable {background-color: white;}#sk-97904a60-fa72-4e6f-9200-e6cb3829edd3 label.sk-toggleable__label {cursor: pointer;display: block;width: 100%;margin-bottom: 0;padding: 0.3em;box-sizing: border-box;text-align: center;}#sk-97904a60-fa72-4e6f-9200-e6cb3829edd3 label.sk-toggleable__label-arrow:before {content: \"▸\";float: left;margin-right: 0.25em;color: #696969;}#sk-97904a60-fa72-4e6f-9200-e6cb3829edd3 label.sk-toggleable__label-arrow:hover:before {color: black;}#sk-97904a60-fa72-4e6f-9200-e6cb3829edd3 div.sk-estimator:hover label.sk-toggleable__label-arrow:before {color: black;}#sk-97904a60-fa72-4e6f-9200-e6cb3829edd3 div.sk-toggleable__content {max-height: 0;max-width: 0;overflow: hidden;text-align: left;background-color: #f0f8ff;}#sk-97904a60-fa72-4e6f-9200-e6cb3829edd3 div.sk-toggleable__content pre {margin: 0.2em;color: black;border-radius: 0.25em;background-color: #f0f8ff;}#sk-97904a60-fa72-4e6f-9200-e6cb3829edd3 input.sk-toggleable__control:checked~div.sk-toggleable__content {max-height: 200px;max-width: 100%;overflow: auto;}#sk-97904a60-fa72-4e6f-9200-e6cb3829edd3 input.sk-toggleable__control:checked~label.sk-toggleable__label-arrow:before {content: \"▾\";}#sk-97904a60-fa72-4e6f-9200-e6cb3829edd3 div.sk-estimator input.sk-toggleable__control:checked~label.sk-toggleable__label {background-color: #d4ebff;}#sk-97904a60-fa72-4e6f-9200-e6cb3829edd3 div.sk-label input.sk-toggleable__control:checked~label.sk-toggleable__label {background-color: #d4ebff;}#sk-97904a60-fa72-4e6f-9200-e6cb3829edd3 input.sk-hidden--visually {border: 0;clip: rect(1px 1px 1px 1px);clip: rect(1px, 1px, 1px, 1px);height: 1px;margin: -1px;overflow: hidden;padding: 0;position: absolute;width: 1px;}#sk-97904a60-fa72-4e6f-9200-e6cb3829edd3 div.sk-estimator {font-family: monospace;background-color: #f0f8ff;border: 1px dotted black;border-radius: 0.25em;box-sizing: border-box;margin-bottom: 0.5em;}#sk-97904a60-fa72-4e6f-9200-e6cb3829edd3 div.sk-estimator:hover {background-color: #d4ebff;}#sk-97904a60-fa72-4e6f-9200-e6cb3829edd3 div.sk-parallel-item::after {content: \"\";width: 100%;border-bottom: 1px solid gray;flex-grow: 1;}#sk-97904a60-fa72-4e6f-9200-e6cb3829edd3 div.sk-label:hover label.sk-toggleable__label {background-color: #d4ebff;}#sk-97904a60-fa72-4e6f-9200-e6cb3829edd3 div.sk-serial::before {content: \"\";position: absolute;border-left: 1px solid gray;box-sizing: border-box;top: 2em;bottom: 0;left: 50%;}#sk-97904a60-fa72-4e6f-9200-e6cb3829edd3 div.sk-serial {display: flex;flex-direction: column;align-items: center;background-color: white;padding-right: 0.2em;padding-left: 0.2em;}#sk-97904a60-fa72-4e6f-9200-e6cb3829edd3 div.sk-item {z-index: 1;}#sk-97904a60-fa72-4e6f-9200-e6cb3829edd3 div.sk-parallel {display: flex;align-items: stretch;justify-content: center;background-color: white;}#sk-97904a60-fa72-4e6f-9200-e6cb3829edd3 div.sk-parallel::before {content: \"\";position: absolute;border-left: 1px solid gray;box-sizing: border-box;top: 2em;bottom: 0;left: 50%;}#sk-97904a60-fa72-4e6f-9200-e6cb3829edd3 div.sk-parallel-item {display: flex;flex-direction: column;position: relative;background-color: white;}#sk-97904a60-fa72-4e6f-9200-e6cb3829edd3 div.sk-parallel-item:first-child::after {align-self: flex-end;width: 50%;}#sk-97904a60-fa72-4e6f-9200-e6cb3829edd3 div.sk-parallel-item:last-child::after {align-self: flex-start;width: 50%;}#sk-97904a60-fa72-4e6f-9200-e6cb3829edd3 div.sk-parallel-item:only-child::after {width: 0;}#sk-97904a60-fa72-4e6f-9200-e6cb3829edd3 div.sk-dashed-wrapped {border: 1px dashed gray;margin: 0 0.4em 0.5em 0.4em;box-sizing: border-box;padding-bottom: 0.4em;background-color: white;position: relative;}#sk-97904a60-fa72-4e6f-9200-e6cb3829edd3 div.sk-label label {font-family: monospace;font-weight: bold;background-color: white;display: inline-block;line-height: 1.2em;}#sk-97904a60-fa72-4e6f-9200-e6cb3829edd3 div.sk-label-container {position: relative;z-index: 2;text-align: center;}#sk-97904a60-fa72-4e6f-9200-e6cb3829edd3 div.sk-container {/* jupyter's `normalize.less` sets `[hidden] { display: none; }` but bootstrap.min.css set `[hidden] { display: none !important; }` so we also need the `!important` here to be able to override the default hidden behavior on the sphinx rendered scikit-learn.org. See: https://github.com/scikit-learn/scikit-learn/issues/21755 */display: inline-block !important;position: relative;}#sk-97904a60-fa72-4e6f-9200-e6cb3829edd3 div.sk-text-repr-fallback {display: none;}</style><div id=\"sk-97904a60-fa72-4e6f-9200-e6cb3829edd3\" class=\"sk-top-container\"><div class=\"sk-text-repr-fallback\"><pre>Pipeline(steps=[(&#x27;columntransformer&#x27;,\n",
       "                 ColumnTransformer(remainder=&#x27;passthrough&#x27;,\n",
       "                                   transformers=[(&#x27;onehotencoder&#x27;,\n",
       "                                                  OneHotEncoder(handle_unknown=&#x27;ignore&#x27;),\n",
       "                                                  &lt;sklearn.compose._column_transformer.make_column_selector object at 0x7f7e38a5de80&gt;)],\n",
       "                                   verbose_feature_names_out=False)),\n",
       "                (&#x27;standardscaler&#x27;, StandardScaler(with_mean=False)),\n",
       "                (&#x27;linearregression&#x27;, LinearRegression())])</pre><b>Please rerun this cell to show the HTML repr or trust the notebook.</b></div><div class=\"sk-container\" hidden><div class=\"sk-item sk-dashed-wrapped\"><div class=\"sk-label-container\"><div class=\"sk-label sk-toggleable\"><input class=\"sk-toggleable__control sk-hidden--visually\" id=\"4abd3cbf-71f5-4c7b-b010-fbdb225084ca\" type=\"checkbox\" ><label for=\"4abd3cbf-71f5-4c7b-b010-fbdb225084ca\" class=\"sk-toggleable__label sk-toggleable__label-arrow\">Pipeline</label><div class=\"sk-toggleable__content\"><pre>Pipeline(steps=[(&#x27;columntransformer&#x27;,\n",
       "                 ColumnTransformer(remainder=&#x27;passthrough&#x27;,\n",
       "                                   transformers=[(&#x27;onehotencoder&#x27;,\n",
       "                                                  OneHotEncoder(handle_unknown=&#x27;ignore&#x27;),\n",
       "                                                  &lt;sklearn.compose._column_transformer.make_column_selector object at 0x7f7e38a5de80&gt;)],\n",
       "                                   verbose_feature_names_out=False)),\n",
       "                (&#x27;standardscaler&#x27;, StandardScaler(with_mean=False)),\n",
       "                (&#x27;linearregression&#x27;, LinearRegression())])</pre></div></div></div><div class=\"sk-serial\"><div class=\"sk-item sk-dashed-wrapped\"><div class=\"sk-label-container\"><div class=\"sk-label sk-toggleable\"><input class=\"sk-toggleable__control sk-hidden--visually\" id=\"5b7dcfe7-5a7c-40a0-93c7-f43cd6ffee93\" type=\"checkbox\" ><label for=\"5b7dcfe7-5a7c-40a0-93c7-f43cd6ffee93\" class=\"sk-toggleable__label sk-toggleable__label-arrow\">columntransformer: ColumnTransformer</label><div class=\"sk-toggleable__content\"><pre>ColumnTransformer(remainder=&#x27;passthrough&#x27;,\n",
       "                  transformers=[(&#x27;onehotencoder&#x27;,\n",
       "                                 OneHotEncoder(handle_unknown=&#x27;ignore&#x27;),\n",
       "                                 &lt;sklearn.compose._column_transformer.make_column_selector object at 0x7f7e38a5de80&gt;)],\n",
       "                  verbose_feature_names_out=False)</pre></div></div></div><div class=\"sk-parallel\"><div class=\"sk-parallel-item\"><div class=\"sk-item\"><div class=\"sk-label-container\"><div class=\"sk-label sk-toggleable\"><input class=\"sk-toggleable__control sk-hidden--visually\" id=\"47658c16-8a7f-4a2f-8acf-c73b75f947d8\" type=\"checkbox\" ><label for=\"47658c16-8a7f-4a2f-8acf-c73b75f947d8\" class=\"sk-toggleable__label sk-toggleable__label-arrow\">onehotencoder</label><div class=\"sk-toggleable__content\"><pre>&lt;sklearn.compose._column_transformer.make_column_selector object at 0x7f7e38a5de80&gt;</pre></div></div></div><div class=\"sk-serial\"><div class=\"sk-item\"><div class=\"sk-estimator sk-toggleable\"><input class=\"sk-toggleable__control sk-hidden--visually\" id=\"67b10432-4063-419f-8db2-039af6acb93f\" type=\"checkbox\" ><label for=\"67b10432-4063-419f-8db2-039af6acb93f\" class=\"sk-toggleable__label sk-toggleable__label-arrow\">OneHotEncoder</label><div class=\"sk-toggleable__content\"><pre>OneHotEncoder(handle_unknown=&#x27;ignore&#x27;)</pre></div></div></div></div></div></div><div class=\"sk-parallel-item\"><div class=\"sk-item\"><div class=\"sk-label-container\"><div class=\"sk-label sk-toggleable\"><input class=\"sk-toggleable__control sk-hidden--visually\" id=\"cff2a079-1f1c-4971-b8c5-c966c57e07c6\" type=\"checkbox\" ><label for=\"cff2a079-1f1c-4971-b8c5-c966c57e07c6\" class=\"sk-toggleable__label sk-toggleable__label-arrow\">remainder</label><div class=\"sk-toggleable__content\"><pre></pre></div></div></div><div class=\"sk-serial\"><div class=\"sk-item\"><div class=\"sk-estimator sk-toggleable\"><input class=\"sk-toggleable__control sk-hidden--visually\" id=\"0ff07b2f-a106-4876-af9b-6dd23d0b7674\" type=\"checkbox\" ><label for=\"0ff07b2f-a106-4876-af9b-6dd23d0b7674\" class=\"sk-toggleable__label sk-toggleable__label-arrow\">passthrough</label><div class=\"sk-toggleable__content\"><pre>passthrough</pre></div></div></div></div></div></div></div></div><div class=\"sk-item\"><div class=\"sk-estimator sk-toggleable\"><input class=\"sk-toggleable__control sk-hidden--visually\" id=\"89d60ab7-7394-4ff6-8e50-010f3474f1fa\" type=\"checkbox\" ><label for=\"89d60ab7-7394-4ff6-8e50-010f3474f1fa\" class=\"sk-toggleable__label sk-toggleable__label-arrow\">StandardScaler</label><div class=\"sk-toggleable__content\"><pre>StandardScaler(with_mean=False)</pre></div></div></div><div class=\"sk-item\"><div class=\"sk-estimator sk-toggleable\"><input class=\"sk-toggleable__control sk-hidden--visually\" id=\"96061edd-05e6-4f96-9219-d6c709e45c38\" type=\"checkbox\" ><label for=\"96061edd-05e6-4f96-9219-d6c709e45c38\" class=\"sk-toggleable__label sk-toggleable__label-arrow\">LinearRegression</label><div class=\"sk-toggleable__content\"><pre>LinearRegression()</pre></div></div></div></div></div></div></div>"
      ],
      "text/plain": [
       "Pipeline(steps=[('columntransformer',\n",
       "                 ColumnTransformer(remainder='passthrough',\n",
       "                                   transformers=[('onehotencoder',\n",
       "                                                  OneHotEncoder(handle_unknown='ignore'),\n",
       "                                                  <sklearn.compose._column_transformer.make_column_selector object at 0x7f7e38a5de80>)],\n",
       "                                   verbose_feature_names_out=False)),\n",
       "                ('standardscaler', StandardScaler(with_mean=False)),\n",
       "                ('linearregression', LinearRegression())])"
      ]
     },
     "execution_count": 398,
     "metadata": {},
     "output_type": "execute_result"
    }
   ],
   "source": [
    "pipe3 = make_pipeline(ct3, StandardScaler(with_mean=False), LinearRegression())\n",
    "pipe3"
   ]
  },
  {
   "cell_type": "markdown",
   "metadata": {},
   "source": [
    "### Fit, Predict and Score"
   ]
  },
  {
   "cell_type": "code",
   "execution_count": 399,
   "metadata": {},
   "outputs": [
    {
     "data": {
      "text/html": [
       "<style>#sk-035c8cd7-a00f-48d1-8057-0a82a0529e46 {color: black;background-color: white;}#sk-035c8cd7-a00f-48d1-8057-0a82a0529e46 pre{padding: 0;}#sk-035c8cd7-a00f-48d1-8057-0a82a0529e46 div.sk-toggleable {background-color: white;}#sk-035c8cd7-a00f-48d1-8057-0a82a0529e46 label.sk-toggleable__label {cursor: pointer;display: block;width: 100%;margin-bottom: 0;padding: 0.3em;box-sizing: border-box;text-align: center;}#sk-035c8cd7-a00f-48d1-8057-0a82a0529e46 label.sk-toggleable__label-arrow:before {content: \"▸\";float: left;margin-right: 0.25em;color: #696969;}#sk-035c8cd7-a00f-48d1-8057-0a82a0529e46 label.sk-toggleable__label-arrow:hover:before {color: black;}#sk-035c8cd7-a00f-48d1-8057-0a82a0529e46 div.sk-estimator:hover label.sk-toggleable__label-arrow:before {color: black;}#sk-035c8cd7-a00f-48d1-8057-0a82a0529e46 div.sk-toggleable__content {max-height: 0;max-width: 0;overflow: hidden;text-align: left;background-color: #f0f8ff;}#sk-035c8cd7-a00f-48d1-8057-0a82a0529e46 div.sk-toggleable__content pre {margin: 0.2em;color: black;border-radius: 0.25em;background-color: #f0f8ff;}#sk-035c8cd7-a00f-48d1-8057-0a82a0529e46 input.sk-toggleable__control:checked~div.sk-toggleable__content {max-height: 200px;max-width: 100%;overflow: auto;}#sk-035c8cd7-a00f-48d1-8057-0a82a0529e46 input.sk-toggleable__control:checked~label.sk-toggleable__label-arrow:before {content: \"▾\";}#sk-035c8cd7-a00f-48d1-8057-0a82a0529e46 div.sk-estimator input.sk-toggleable__control:checked~label.sk-toggleable__label {background-color: #d4ebff;}#sk-035c8cd7-a00f-48d1-8057-0a82a0529e46 div.sk-label input.sk-toggleable__control:checked~label.sk-toggleable__label {background-color: #d4ebff;}#sk-035c8cd7-a00f-48d1-8057-0a82a0529e46 input.sk-hidden--visually {border: 0;clip: rect(1px 1px 1px 1px);clip: rect(1px, 1px, 1px, 1px);height: 1px;margin: -1px;overflow: hidden;padding: 0;position: absolute;width: 1px;}#sk-035c8cd7-a00f-48d1-8057-0a82a0529e46 div.sk-estimator {font-family: monospace;background-color: #f0f8ff;border: 1px dotted black;border-radius: 0.25em;box-sizing: border-box;margin-bottom: 0.5em;}#sk-035c8cd7-a00f-48d1-8057-0a82a0529e46 div.sk-estimator:hover {background-color: #d4ebff;}#sk-035c8cd7-a00f-48d1-8057-0a82a0529e46 div.sk-parallel-item::after {content: \"\";width: 100%;border-bottom: 1px solid gray;flex-grow: 1;}#sk-035c8cd7-a00f-48d1-8057-0a82a0529e46 div.sk-label:hover label.sk-toggleable__label {background-color: #d4ebff;}#sk-035c8cd7-a00f-48d1-8057-0a82a0529e46 div.sk-serial::before {content: \"\";position: absolute;border-left: 1px solid gray;box-sizing: border-box;top: 2em;bottom: 0;left: 50%;}#sk-035c8cd7-a00f-48d1-8057-0a82a0529e46 div.sk-serial {display: flex;flex-direction: column;align-items: center;background-color: white;padding-right: 0.2em;padding-left: 0.2em;}#sk-035c8cd7-a00f-48d1-8057-0a82a0529e46 div.sk-item {z-index: 1;}#sk-035c8cd7-a00f-48d1-8057-0a82a0529e46 div.sk-parallel {display: flex;align-items: stretch;justify-content: center;background-color: white;}#sk-035c8cd7-a00f-48d1-8057-0a82a0529e46 div.sk-parallel::before {content: \"\";position: absolute;border-left: 1px solid gray;box-sizing: border-box;top: 2em;bottom: 0;left: 50%;}#sk-035c8cd7-a00f-48d1-8057-0a82a0529e46 div.sk-parallel-item {display: flex;flex-direction: column;position: relative;background-color: white;}#sk-035c8cd7-a00f-48d1-8057-0a82a0529e46 div.sk-parallel-item:first-child::after {align-self: flex-end;width: 50%;}#sk-035c8cd7-a00f-48d1-8057-0a82a0529e46 div.sk-parallel-item:last-child::after {align-self: flex-start;width: 50%;}#sk-035c8cd7-a00f-48d1-8057-0a82a0529e46 div.sk-parallel-item:only-child::after {width: 0;}#sk-035c8cd7-a00f-48d1-8057-0a82a0529e46 div.sk-dashed-wrapped {border: 1px dashed gray;margin: 0 0.4em 0.5em 0.4em;box-sizing: border-box;padding-bottom: 0.4em;background-color: white;position: relative;}#sk-035c8cd7-a00f-48d1-8057-0a82a0529e46 div.sk-label label {font-family: monospace;font-weight: bold;background-color: white;display: inline-block;line-height: 1.2em;}#sk-035c8cd7-a00f-48d1-8057-0a82a0529e46 div.sk-label-container {position: relative;z-index: 2;text-align: center;}#sk-035c8cd7-a00f-48d1-8057-0a82a0529e46 div.sk-container {/* jupyter's `normalize.less` sets `[hidden] { display: none; }` but bootstrap.min.css set `[hidden] { display: none !important; }` so we also need the `!important` here to be able to override the default hidden behavior on the sphinx rendered scikit-learn.org. See: https://github.com/scikit-learn/scikit-learn/issues/21755 */display: inline-block !important;position: relative;}#sk-035c8cd7-a00f-48d1-8057-0a82a0529e46 div.sk-text-repr-fallback {display: none;}</style><div id=\"sk-035c8cd7-a00f-48d1-8057-0a82a0529e46\" class=\"sk-top-container\"><div class=\"sk-text-repr-fallback\"><pre>Pipeline(steps=[(&#x27;columntransformer&#x27;,\n",
       "                 ColumnTransformer(remainder=&#x27;passthrough&#x27;,\n",
       "                                   transformers=[(&#x27;onehotencoder&#x27;,\n",
       "                                                  OneHotEncoder(handle_unknown=&#x27;ignore&#x27;),\n",
       "                                                  &lt;sklearn.compose._column_transformer.make_column_selector object at 0x7f7e38a5de80&gt;)],\n",
       "                                   verbose_feature_names_out=False)),\n",
       "                (&#x27;standardscaler&#x27;, StandardScaler(with_mean=False)),\n",
       "                (&#x27;linearregression&#x27;, LinearRegression())])</pre><b>Please rerun this cell to show the HTML repr or trust the notebook.</b></div><div class=\"sk-container\" hidden><div class=\"sk-item sk-dashed-wrapped\"><div class=\"sk-label-container\"><div class=\"sk-label sk-toggleable\"><input class=\"sk-toggleable__control sk-hidden--visually\" id=\"59aa5bae-0916-4159-9067-1796457e3721\" type=\"checkbox\" ><label for=\"59aa5bae-0916-4159-9067-1796457e3721\" class=\"sk-toggleable__label sk-toggleable__label-arrow\">Pipeline</label><div class=\"sk-toggleable__content\"><pre>Pipeline(steps=[(&#x27;columntransformer&#x27;,\n",
       "                 ColumnTransformer(remainder=&#x27;passthrough&#x27;,\n",
       "                                   transformers=[(&#x27;onehotencoder&#x27;,\n",
       "                                                  OneHotEncoder(handle_unknown=&#x27;ignore&#x27;),\n",
       "                                                  &lt;sklearn.compose._column_transformer.make_column_selector object at 0x7f7e38a5de80&gt;)],\n",
       "                                   verbose_feature_names_out=False)),\n",
       "                (&#x27;standardscaler&#x27;, StandardScaler(with_mean=False)),\n",
       "                (&#x27;linearregression&#x27;, LinearRegression())])</pre></div></div></div><div class=\"sk-serial\"><div class=\"sk-item sk-dashed-wrapped\"><div class=\"sk-label-container\"><div class=\"sk-label sk-toggleable\"><input class=\"sk-toggleable__control sk-hidden--visually\" id=\"d0878c5d-901a-43ff-b1c1-395f8a7cd888\" type=\"checkbox\" ><label for=\"d0878c5d-901a-43ff-b1c1-395f8a7cd888\" class=\"sk-toggleable__label sk-toggleable__label-arrow\">columntransformer: ColumnTransformer</label><div class=\"sk-toggleable__content\"><pre>ColumnTransformer(remainder=&#x27;passthrough&#x27;,\n",
       "                  transformers=[(&#x27;onehotencoder&#x27;,\n",
       "                                 OneHotEncoder(handle_unknown=&#x27;ignore&#x27;),\n",
       "                                 &lt;sklearn.compose._column_transformer.make_column_selector object at 0x7f7e38a5de80&gt;)],\n",
       "                  verbose_feature_names_out=False)</pre></div></div></div><div class=\"sk-parallel\"><div class=\"sk-parallel-item\"><div class=\"sk-item\"><div class=\"sk-label-container\"><div class=\"sk-label sk-toggleable\"><input class=\"sk-toggleable__control sk-hidden--visually\" id=\"f2e5ccfb-b2f2-4fd4-afae-3dee4971f8e3\" type=\"checkbox\" ><label for=\"f2e5ccfb-b2f2-4fd4-afae-3dee4971f8e3\" class=\"sk-toggleable__label sk-toggleable__label-arrow\">onehotencoder</label><div class=\"sk-toggleable__content\"><pre>&lt;sklearn.compose._column_transformer.make_column_selector object at 0x7f7e38a5de80&gt;</pre></div></div></div><div class=\"sk-serial\"><div class=\"sk-item\"><div class=\"sk-estimator sk-toggleable\"><input class=\"sk-toggleable__control sk-hidden--visually\" id=\"1c592857-ded6-4c02-af56-b13d56f3ef88\" type=\"checkbox\" ><label for=\"1c592857-ded6-4c02-af56-b13d56f3ef88\" class=\"sk-toggleable__label sk-toggleable__label-arrow\">OneHotEncoder</label><div class=\"sk-toggleable__content\"><pre>OneHotEncoder(handle_unknown=&#x27;ignore&#x27;)</pre></div></div></div></div></div></div><div class=\"sk-parallel-item\"><div class=\"sk-item\"><div class=\"sk-label-container\"><div class=\"sk-label sk-toggleable\"><input class=\"sk-toggleable__control sk-hidden--visually\" id=\"e6f99c94-965b-4b7c-8950-25e5e3a0612d\" type=\"checkbox\" ><label for=\"e6f99c94-965b-4b7c-8950-25e5e3a0612d\" class=\"sk-toggleable__label sk-toggleable__label-arrow\">remainder</label><div class=\"sk-toggleable__content\"><pre>[&#x27;Year Built&#x27;, &#x27;Year Remod/Add&#x27;, &#x27;Overall Qual&#x27;, &#x27;Overall Cond&#x27;, &#x27;Gr Liv Area&#x27;, &#x27;Garage Area&#x27;]</pre></div></div></div><div class=\"sk-serial\"><div class=\"sk-item\"><div class=\"sk-estimator sk-toggleable\"><input class=\"sk-toggleable__control sk-hidden--visually\" id=\"81745cd6-a6be-48da-8580-68e3f9e8f8bd\" type=\"checkbox\" ><label for=\"81745cd6-a6be-48da-8580-68e3f9e8f8bd\" class=\"sk-toggleable__label sk-toggleable__label-arrow\">passthrough</label><div class=\"sk-toggleable__content\"><pre>passthrough</pre></div></div></div></div></div></div></div></div><div class=\"sk-item\"><div class=\"sk-estimator sk-toggleable\"><input class=\"sk-toggleable__control sk-hidden--visually\" id=\"6aceb5e1-df56-4e82-97f8-629e7de70a4f\" type=\"checkbox\" ><label for=\"6aceb5e1-df56-4e82-97f8-629e7de70a4f\" class=\"sk-toggleable__label sk-toggleable__label-arrow\">StandardScaler</label><div class=\"sk-toggleable__content\"><pre>StandardScaler(with_mean=False)</pre></div></div></div><div class=\"sk-item\"><div class=\"sk-estimator sk-toggleable\"><input class=\"sk-toggleable__control sk-hidden--visually\" id=\"2e226a9a-cc5b-40be-b5f7-3c653614100b\" type=\"checkbox\" ><label for=\"2e226a9a-cc5b-40be-b5f7-3c653614100b\" class=\"sk-toggleable__label sk-toggleable__label-arrow\">LinearRegression</label><div class=\"sk-toggleable__content\"><pre>LinearRegression()</pre></div></div></div></div></div></div></div>"
      ],
      "text/plain": [
       "Pipeline(steps=[('columntransformer',\n",
       "                 ColumnTransformer(remainder='passthrough',\n",
       "                                   transformers=[('onehotencoder',\n",
       "                                                  OneHotEncoder(handle_unknown='ignore'),\n",
       "                                                  <sklearn.compose._column_transformer.make_column_selector object at 0x7f7e38a5de80>)],\n",
       "                                   verbose_feature_names_out=False)),\n",
       "                ('standardscaler', StandardScaler(with_mean=False)),\n",
       "                ('linearregression', LinearRegression())])"
      ]
     },
     "execution_count": 399,
     "metadata": {},
     "output_type": "execute_result"
    }
   ],
   "source": [
    "pipe3.fit(X_train, y_train)"
   ]
  },
  {
   "cell_type": "code",
   "execution_count": 400,
   "metadata": {},
   "outputs": [
    {
     "data": {
      "text/plain": [
       "0.867614085009067"
      ]
     },
     "execution_count": 400,
     "metadata": {},
     "output_type": "execute_result"
    }
   ],
   "source": [
    "pipe3.score(X_test, y_test)"
   ]
  },
  {
   "cell_type": "code",
   "execution_count": 401,
   "metadata": {},
   "outputs": [],
   "source": [
    "preds = pipe3.predict(X_test)"
   ]
  },
  {
   "cell_type": "code",
   "execution_count": 402,
   "metadata": {},
   "outputs": [
    {
     "data": {
      "text/plain": [
       "29363.425624948224"
      ]
     },
     "execution_count": 402,
     "metadata": {},
     "output_type": "execute_result"
    }
   ],
   "source": [
    "mean_squared_error(y_test, preds, squared=False)"
   ]
  },
  {
   "cell_type": "markdown",
   "metadata": {},
   "source": [
    "Our RMSE using all features selected in EDA is considerably better than our baseline Linear Regression."
   ]
  },
  {
   "cell_type": "markdown",
   "metadata": {},
   "source": [
    "### Kaggle submission"
   ]
  },
  {
   "cell_type": "code",
   "execution_count": 403,
   "metadata": {},
   "outputs": [],
   "source": [
    "test['SalePrice'] = pipe3.predict(kaggle)"
   ]
  },
  {
   "cell_type": "code",
   "execution_count": 404,
   "metadata": {},
   "outputs": [],
   "source": [
    "test[['Id', 'SalePrice']].to_csv('../data/submission_all_EDA_linreg.csv', index=False)"
   ]
  },
  {
   "cell_type": "markdown",
   "metadata": {},
   "source": [
    "## Lasso and Ridge using GridSearchCV"
   ]
  },
  {
   "cell_type": "markdown",
   "metadata": {},
   "source": [
    "### Train-Test Split"
   ]
  },
  {
   "cell_type": "code",
   "execution_count": 407,
   "metadata": {},
   "outputs": [],
   "source": [
    "X = train.drop(columns='SalePrice')\n",
    "y = train['SalePrice']\n",
    "kaggle = test[X.columns]"
   ]
  },
  {
   "cell_type": "code",
   "execution_count": 408,
   "metadata": {},
   "outputs": [],
   "source": [
    "X_train, X_test, y_train, y_test = train_test_split(X, y)"
   ]
  },
  {
   "cell_type": "markdown",
   "metadata": {},
   "source": [
    "### Column transformations"
   ]
  },
  {
   "cell_type": "code",
   "execution_count": 410,
   "metadata": {},
   "outputs": [
    {
     "data": {
      "text/html": [
       "<style>#sk-dfd5fa23-95b1-49c1-aa5d-8061430c8545 {color: black;background-color: white;}#sk-dfd5fa23-95b1-49c1-aa5d-8061430c8545 pre{padding: 0;}#sk-dfd5fa23-95b1-49c1-aa5d-8061430c8545 div.sk-toggleable {background-color: white;}#sk-dfd5fa23-95b1-49c1-aa5d-8061430c8545 label.sk-toggleable__label {cursor: pointer;display: block;width: 100%;margin-bottom: 0;padding: 0.3em;box-sizing: border-box;text-align: center;}#sk-dfd5fa23-95b1-49c1-aa5d-8061430c8545 label.sk-toggleable__label-arrow:before {content: \"▸\";float: left;margin-right: 0.25em;color: #696969;}#sk-dfd5fa23-95b1-49c1-aa5d-8061430c8545 label.sk-toggleable__label-arrow:hover:before {color: black;}#sk-dfd5fa23-95b1-49c1-aa5d-8061430c8545 div.sk-estimator:hover label.sk-toggleable__label-arrow:before {color: black;}#sk-dfd5fa23-95b1-49c1-aa5d-8061430c8545 div.sk-toggleable__content {max-height: 0;max-width: 0;overflow: hidden;text-align: left;background-color: #f0f8ff;}#sk-dfd5fa23-95b1-49c1-aa5d-8061430c8545 div.sk-toggleable__content pre {margin: 0.2em;color: black;border-radius: 0.25em;background-color: #f0f8ff;}#sk-dfd5fa23-95b1-49c1-aa5d-8061430c8545 input.sk-toggleable__control:checked~div.sk-toggleable__content {max-height: 200px;max-width: 100%;overflow: auto;}#sk-dfd5fa23-95b1-49c1-aa5d-8061430c8545 input.sk-toggleable__control:checked~label.sk-toggleable__label-arrow:before {content: \"▾\";}#sk-dfd5fa23-95b1-49c1-aa5d-8061430c8545 div.sk-estimator input.sk-toggleable__control:checked~label.sk-toggleable__label {background-color: #d4ebff;}#sk-dfd5fa23-95b1-49c1-aa5d-8061430c8545 div.sk-label input.sk-toggleable__control:checked~label.sk-toggleable__label {background-color: #d4ebff;}#sk-dfd5fa23-95b1-49c1-aa5d-8061430c8545 input.sk-hidden--visually {border: 0;clip: rect(1px 1px 1px 1px);clip: rect(1px, 1px, 1px, 1px);height: 1px;margin: -1px;overflow: hidden;padding: 0;position: absolute;width: 1px;}#sk-dfd5fa23-95b1-49c1-aa5d-8061430c8545 div.sk-estimator {font-family: monospace;background-color: #f0f8ff;border: 1px dotted black;border-radius: 0.25em;box-sizing: border-box;margin-bottom: 0.5em;}#sk-dfd5fa23-95b1-49c1-aa5d-8061430c8545 div.sk-estimator:hover {background-color: #d4ebff;}#sk-dfd5fa23-95b1-49c1-aa5d-8061430c8545 div.sk-parallel-item::after {content: \"\";width: 100%;border-bottom: 1px solid gray;flex-grow: 1;}#sk-dfd5fa23-95b1-49c1-aa5d-8061430c8545 div.sk-label:hover label.sk-toggleable__label {background-color: #d4ebff;}#sk-dfd5fa23-95b1-49c1-aa5d-8061430c8545 div.sk-serial::before {content: \"\";position: absolute;border-left: 1px solid gray;box-sizing: border-box;top: 2em;bottom: 0;left: 50%;}#sk-dfd5fa23-95b1-49c1-aa5d-8061430c8545 div.sk-serial {display: flex;flex-direction: column;align-items: center;background-color: white;padding-right: 0.2em;padding-left: 0.2em;}#sk-dfd5fa23-95b1-49c1-aa5d-8061430c8545 div.sk-item {z-index: 1;}#sk-dfd5fa23-95b1-49c1-aa5d-8061430c8545 div.sk-parallel {display: flex;align-items: stretch;justify-content: center;background-color: white;}#sk-dfd5fa23-95b1-49c1-aa5d-8061430c8545 div.sk-parallel::before {content: \"\";position: absolute;border-left: 1px solid gray;box-sizing: border-box;top: 2em;bottom: 0;left: 50%;}#sk-dfd5fa23-95b1-49c1-aa5d-8061430c8545 div.sk-parallel-item {display: flex;flex-direction: column;position: relative;background-color: white;}#sk-dfd5fa23-95b1-49c1-aa5d-8061430c8545 div.sk-parallel-item:first-child::after {align-self: flex-end;width: 50%;}#sk-dfd5fa23-95b1-49c1-aa5d-8061430c8545 div.sk-parallel-item:last-child::after {align-self: flex-start;width: 50%;}#sk-dfd5fa23-95b1-49c1-aa5d-8061430c8545 div.sk-parallel-item:only-child::after {width: 0;}#sk-dfd5fa23-95b1-49c1-aa5d-8061430c8545 div.sk-dashed-wrapped {border: 1px dashed gray;margin: 0 0.4em 0.5em 0.4em;box-sizing: border-box;padding-bottom: 0.4em;background-color: white;position: relative;}#sk-dfd5fa23-95b1-49c1-aa5d-8061430c8545 div.sk-label label {font-family: monospace;font-weight: bold;background-color: white;display: inline-block;line-height: 1.2em;}#sk-dfd5fa23-95b1-49c1-aa5d-8061430c8545 div.sk-label-container {position: relative;z-index: 2;text-align: center;}#sk-dfd5fa23-95b1-49c1-aa5d-8061430c8545 div.sk-container {/* jupyter's `normalize.less` sets `[hidden] { display: none; }` but bootstrap.min.css set `[hidden] { display: none !important; }` so we also need the `!important` here to be able to override the default hidden behavior on the sphinx rendered scikit-learn.org. See: https://github.com/scikit-learn/scikit-learn/issues/21755 */display: inline-block !important;position: relative;}#sk-dfd5fa23-95b1-49c1-aa5d-8061430c8545 div.sk-text-repr-fallback {display: none;}</style><div id=\"sk-dfd5fa23-95b1-49c1-aa5d-8061430c8545\" class=\"sk-top-container\"><div class=\"sk-text-repr-fallback\"><pre>ColumnTransformer(remainder=&#x27;passthrough&#x27;,\n",
       "                  transformers=[(&#x27;onehotencoder&#x27;,\n",
       "                                 OneHotEncoder(handle_unknown=&#x27;ignore&#x27;),\n",
       "                                 &lt;sklearn.compose._column_transformer.make_column_selector object at 0x7f7e38bab460&gt;)],\n",
       "                  verbose_feature_names_out=False)</pre><b>Please rerun this cell to show the HTML repr or trust the notebook.</b></div><div class=\"sk-container\" hidden><div class=\"sk-item sk-dashed-wrapped\"><div class=\"sk-label-container\"><div class=\"sk-label sk-toggleable\"><input class=\"sk-toggleable__control sk-hidden--visually\" id=\"fbc1cf27-cccd-4c48-9ac7-3119cc48f00a\" type=\"checkbox\" ><label for=\"fbc1cf27-cccd-4c48-9ac7-3119cc48f00a\" class=\"sk-toggleable__label sk-toggleable__label-arrow\">ColumnTransformer</label><div class=\"sk-toggleable__content\"><pre>ColumnTransformer(remainder=&#x27;passthrough&#x27;,\n",
       "                  transformers=[(&#x27;onehotencoder&#x27;,\n",
       "                                 OneHotEncoder(handle_unknown=&#x27;ignore&#x27;),\n",
       "                                 &lt;sklearn.compose._column_transformer.make_column_selector object at 0x7f7e38bab460&gt;)],\n",
       "                  verbose_feature_names_out=False)</pre></div></div></div><div class=\"sk-parallel\"><div class=\"sk-parallel-item\"><div class=\"sk-item\"><div class=\"sk-label-container\"><div class=\"sk-label sk-toggleable\"><input class=\"sk-toggleable__control sk-hidden--visually\" id=\"7410906c-8798-4099-b6f6-65a5ae3c0e2a\" type=\"checkbox\" ><label for=\"7410906c-8798-4099-b6f6-65a5ae3c0e2a\" class=\"sk-toggleable__label sk-toggleable__label-arrow\">onehotencoder</label><div class=\"sk-toggleable__content\"><pre>&lt;sklearn.compose._column_transformer.make_column_selector object at 0x7f7e38bab460&gt;</pre></div></div></div><div class=\"sk-serial\"><div class=\"sk-item\"><div class=\"sk-estimator sk-toggleable\"><input class=\"sk-toggleable__control sk-hidden--visually\" id=\"461dbb5d-5da5-416e-972d-d986501896e4\" type=\"checkbox\" ><label for=\"461dbb5d-5da5-416e-972d-d986501896e4\" class=\"sk-toggleable__label sk-toggleable__label-arrow\">OneHotEncoder</label><div class=\"sk-toggleable__content\"><pre>OneHotEncoder(handle_unknown=&#x27;ignore&#x27;)</pre></div></div></div></div></div></div><div class=\"sk-parallel-item\"><div class=\"sk-item\"><div class=\"sk-label-container\"><div class=\"sk-label sk-toggleable\"><input class=\"sk-toggleable__control sk-hidden--visually\" id=\"9a68dbf8-4f89-48c3-9de8-4b9132b4d5c2\" type=\"checkbox\" ><label for=\"9a68dbf8-4f89-48c3-9de8-4b9132b4d5c2\" class=\"sk-toggleable__label sk-toggleable__label-arrow\">remainder</label><div class=\"sk-toggleable__content\"><pre></pre></div></div></div><div class=\"sk-serial\"><div class=\"sk-item\"><div class=\"sk-estimator sk-toggleable\"><input class=\"sk-toggleable__control sk-hidden--visually\" id=\"a881b9a8-91e8-4f7a-a41c-97b9c9f5c8e2\" type=\"checkbox\" ><label for=\"a881b9a8-91e8-4f7a-a41c-97b9c9f5c8e2\" class=\"sk-toggleable__label sk-toggleable__label-arrow\">passthrough</label><div class=\"sk-toggleable__content\"><pre>passthrough</pre></div></div></div></div></div></div></div></div></div></div>"
      ],
      "text/plain": [
       "ColumnTransformer(remainder='passthrough',\n",
       "                  transformers=[('onehotencoder',\n",
       "                                 OneHotEncoder(handle_unknown='ignore'),\n",
       "                                 <sklearn.compose._column_transformer.make_column_selector object at 0x7f7e38bab460>)],\n",
       "                  verbose_feature_names_out=False)"
      ]
     },
     "execution_count": 410,
     "metadata": {},
     "output_type": "execute_result"
    }
   ],
   "source": [
    "ct4 = make_column_transformer(\n",
    "    (OneHotEncoder(handle_unknown='ignore'), make_column_selector(dtype_include=object)),\n",
    "    remainder='passthrough',\n",
    "    verbose_feature_names_out=False\n",
    ")\n",
    "ct4"
   ]
  },
  {
   "cell_type": "markdown",
   "metadata": {},
   "source": [
    "### Pipeline with Column transformer, Standard Scaler and Lasso Regression"
   ]
  },
  {
   "cell_type": "code",
   "execution_count": 414,
   "metadata": {},
   "outputs": [
    {
     "data": {
      "text/html": [
       "<style>#sk-4534c92e-3969-46a5-8e75-7cabea8151bf {color: black;background-color: white;}#sk-4534c92e-3969-46a5-8e75-7cabea8151bf pre{padding: 0;}#sk-4534c92e-3969-46a5-8e75-7cabea8151bf div.sk-toggleable {background-color: white;}#sk-4534c92e-3969-46a5-8e75-7cabea8151bf label.sk-toggleable__label {cursor: pointer;display: block;width: 100%;margin-bottom: 0;padding: 0.3em;box-sizing: border-box;text-align: center;}#sk-4534c92e-3969-46a5-8e75-7cabea8151bf label.sk-toggleable__label-arrow:before {content: \"▸\";float: left;margin-right: 0.25em;color: #696969;}#sk-4534c92e-3969-46a5-8e75-7cabea8151bf label.sk-toggleable__label-arrow:hover:before {color: black;}#sk-4534c92e-3969-46a5-8e75-7cabea8151bf div.sk-estimator:hover label.sk-toggleable__label-arrow:before {color: black;}#sk-4534c92e-3969-46a5-8e75-7cabea8151bf div.sk-toggleable__content {max-height: 0;max-width: 0;overflow: hidden;text-align: left;background-color: #f0f8ff;}#sk-4534c92e-3969-46a5-8e75-7cabea8151bf div.sk-toggleable__content pre {margin: 0.2em;color: black;border-radius: 0.25em;background-color: #f0f8ff;}#sk-4534c92e-3969-46a5-8e75-7cabea8151bf input.sk-toggleable__control:checked~div.sk-toggleable__content {max-height: 200px;max-width: 100%;overflow: auto;}#sk-4534c92e-3969-46a5-8e75-7cabea8151bf input.sk-toggleable__control:checked~label.sk-toggleable__label-arrow:before {content: \"▾\";}#sk-4534c92e-3969-46a5-8e75-7cabea8151bf div.sk-estimator input.sk-toggleable__control:checked~label.sk-toggleable__label {background-color: #d4ebff;}#sk-4534c92e-3969-46a5-8e75-7cabea8151bf div.sk-label input.sk-toggleable__control:checked~label.sk-toggleable__label {background-color: #d4ebff;}#sk-4534c92e-3969-46a5-8e75-7cabea8151bf input.sk-hidden--visually {border: 0;clip: rect(1px 1px 1px 1px);clip: rect(1px, 1px, 1px, 1px);height: 1px;margin: -1px;overflow: hidden;padding: 0;position: absolute;width: 1px;}#sk-4534c92e-3969-46a5-8e75-7cabea8151bf div.sk-estimator {font-family: monospace;background-color: #f0f8ff;border: 1px dotted black;border-radius: 0.25em;box-sizing: border-box;margin-bottom: 0.5em;}#sk-4534c92e-3969-46a5-8e75-7cabea8151bf div.sk-estimator:hover {background-color: #d4ebff;}#sk-4534c92e-3969-46a5-8e75-7cabea8151bf div.sk-parallel-item::after {content: \"\";width: 100%;border-bottom: 1px solid gray;flex-grow: 1;}#sk-4534c92e-3969-46a5-8e75-7cabea8151bf div.sk-label:hover label.sk-toggleable__label {background-color: #d4ebff;}#sk-4534c92e-3969-46a5-8e75-7cabea8151bf div.sk-serial::before {content: \"\";position: absolute;border-left: 1px solid gray;box-sizing: border-box;top: 2em;bottom: 0;left: 50%;}#sk-4534c92e-3969-46a5-8e75-7cabea8151bf div.sk-serial {display: flex;flex-direction: column;align-items: center;background-color: white;padding-right: 0.2em;padding-left: 0.2em;}#sk-4534c92e-3969-46a5-8e75-7cabea8151bf div.sk-item {z-index: 1;}#sk-4534c92e-3969-46a5-8e75-7cabea8151bf div.sk-parallel {display: flex;align-items: stretch;justify-content: center;background-color: white;}#sk-4534c92e-3969-46a5-8e75-7cabea8151bf div.sk-parallel::before {content: \"\";position: absolute;border-left: 1px solid gray;box-sizing: border-box;top: 2em;bottom: 0;left: 50%;}#sk-4534c92e-3969-46a5-8e75-7cabea8151bf div.sk-parallel-item {display: flex;flex-direction: column;position: relative;background-color: white;}#sk-4534c92e-3969-46a5-8e75-7cabea8151bf div.sk-parallel-item:first-child::after {align-self: flex-end;width: 50%;}#sk-4534c92e-3969-46a5-8e75-7cabea8151bf div.sk-parallel-item:last-child::after {align-self: flex-start;width: 50%;}#sk-4534c92e-3969-46a5-8e75-7cabea8151bf div.sk-parallel-item:only-child::after {width: 0;}#sk-4534c92e-3969-46a5-8e75-7cabea8151bf div.sk-dashed-wrapped {border: 1px dashed gray;margin: 0 0.4em 0.5em 0.4em;box-sizing: border-box;padding-bottom: 0.4em;background-color: white;position: relative;}#sk-4534c92e-3969-46a5-8e75-7cabea8151bf div.sk-label label {font-family: monospace;font-weight: bold;background-color: white;display: inline-block;line-height: 1.2em;}#sk-4534c92e-3969-46a5-8e75-7cabea8151bf div.sk-label-container {position: relative;z-index: 2;text-align: center;}#sk-4534c92e-3969-46a5-8e75-7cabea8151bf div.sk-container {/* jupyter's `normalize.less` sets `[hidden] { display: none; }` but bootstrap.min.css set `[hidden] { display: none !important; }` so we also need the `!important` here to be able to override the default hidden behavior on the sphinx rendered scikit-learn.org. See: https://github.com/scikit-learn/scikit-learn/issues/21755 */display: inline-block !important;position: relative;}#sk-4534c92e-3969-46a5-8e75-7cabea8151bf div.sk-text-repr-fallback {display: none;}</style><div id=\"sk-4534c92e-3969-46a5-8e75-7cabea8151bf\" class=\"sk-top-container\"><div class=\"sk-text-repr-fallback\"><pre>Pipeline(steps=[(&#x27;columntransformer&#x27;,\n",
       "                 ColumnTransformer(remainder=&#x27;passthrough&#x27;,\n",
       "                                   transformers=[(&#x27;onehotencoder&#x27;,\n",
       "                                                  OneHotEncoder(handle_unknown=&#x27;ignore&#x27;),\n",
       "                                                  &lt;sklearn.compose._column_transformer.make_column_selector object at 0x7f7e38bab460&gt;)],\n",
       "                                   verbose_feature_names_out=False)),\n",
       "                (&#x27;standardscaler&#x27;, StandardScaler(with_mean=False)),\n",
       "                (&#x27;lasso&#x27;, Lasso())])</pre><b>Please rerun this cell to show the HTML repr or trust the notebook.</b></div><div class=\"sk-container\" hidden><div class=\"sk-item sk-dashed-wrapped\"><div class=\"sk-label-container\"><div class=\"sk-label sk-toggleable\"><input class=\"sk-toggleable__control sk-hidden--visually\" id=\"2c487c5d-a1c5-41b6-be9c-3b0ecb30343e\" type=\"checkbox\" ><label for=\"2c487c5d-a1c5-41b6-be9c-3b0ecb30343e\" class=\"sk-toggleable__label sk-toggleable__label-arrow\">Pipeline</label><div class=\"sk-toggleable__content\"><pre>Pipeline(steps=[(&#x27;columntransformer&#x27;,\n",
       "                 ColumnTransformer(remainder=&#x27;passthrough&#x27;,\n",
       "                                   transformers=[(&#x27;onehotencoder&#x27;,\n",
       "                                                  OneHotEncoder(handle_unknown=&#x27;ignore&#x27;),\n",
       "                                                  &lt;sklearn.compose._column_transformer.make_column_selector object at 0x7f7e38bab460&gt;)],\n",
       "                                   verbose_feature_names_out=False)),\n",
       "                (&#x27;standardscaler&#x27;, StandardScaler(with_mean=False)),\n",
       "                (&#x27;lasso&#x27;, Lasso())])</pre></div></div></div><div class=\"sk-serial\"><div class=\"sk-item sk-dashed-wrapped\"><div class=\"sk-label-container\"><div class=\"sk-label sk-toggleable\"><input class=\"sk-toggleable__control sk-hidden--visually\" id=\"5c29353b-f15e-432b-97b2-52da78018502\" type=\"checkbox\" ><label for=\"5c29353b-f15e-432b-97b2-52da78018502\" class=\"sk-toggleable__label sk-toggleable__label-arrow\">columntransformer: ColumnTransformer</label><div class=\"sk-toggleable__content\"><pre>ColumnTransformer(remainder=&#x27;passthrough&#x27;,\n",
       "                  transformers=[(&#x27;onehotencoder&#x27;,\n",
       "                                 OneHotEncoder(handle_unknown=&#x27;ignore&#x27;),\n",
       "                                 &lt;sklearn.compose._column_transformer.make_column_selector object at 0x7f7e38bab460&gt;)],\n",
       "                  verbose_feature_names_out=False)</pre></div></div></div><div class=\"sk-parallel\"><div class=\"sk-parallel-item\"><div class=\"sk-item\"><div class=\"sk-label-container\"><div class=\"sk-label sk-toggleable\"><input class=\"sk-toggleable__control sk-hidden--visually\" id=\"4c9124a7-a96b-4b96-806d-09f5b76971d5\" type=\"checkbox\" ><label for=\"4c9124a7-a96b-4b96-806d-09f5b76971d5\" class=\"sk-toggleable__label sk-toggleable__label-arrow\">onehotencoder</label><div class=\"sk-toggleable__content\"><pre>&lt;sklearn.compose._column_transformer.make_column_selector object at 0x7f7e38bab460&gt;</pre></div></div></div><div class=\"sk-serial\"><div class=\"sk-item\"><div class=\"sk-estimator sk-toggleable\"><input class=\"sk-toggleable__control sk-hidden--visually\" id=\"bf81acf2-2b3e-4eee-9724-7bdc304878bf\" type=\"checkbox\" ><label for=\"bf81acf2-2b3e-4eee-9724-7bdc304878bf\" class=\"sk-toggleable__label sk-toggleable__label-arrow\">OneHotEncoder</label><div class=\"sk-toggleable__content\"><pre>OneHotEncoder(handle_unknown=&#x27;ignore&#x27;)</pre></div></div></div></div></div></div><div class=\"sk-parallel-item\"><div class=\"sk-item\"><div class=\"sk-label-container\"><div class=\"sk-label sk-toggleable\"><input class=\"sk-toggleable__control sk-hidden--visually\" id=\"a67e0577-a299-4fd3-823e-db48ec9bcb96\" type=\"checkbox\" ><label for=\"a67e0577-a299-4fd3-823e-db48ec9bcb96\" class=\"sk-toggleable__label sk-toggleable__label-arrow\">remainder</label><div class=\"sk-toggleable__content\"><pre></pre></div></div></div><div class=\"sk-serial\"><div class=\"sk-item\"><div class=\"sk-estimator sk-toggleable\"><input class=\"sk-toggleable__control sk-hidden--visually\" id=\"0442ebe3-0acd-42f3-ae00-f280931a972b\" type=\"checkbox\" ><label for=\"0442ebe3-0acd-42f3-ae00-f280931a972b\" class=\"sk-toggleable__label sk-toggleable__label-arrow\">passthrough</label><div class=\"sk-toggleable__content\"><pre>passthrough</pre></div></div></div></div></div></div></div></div><div class=\"sk-item\"><div class=\"sk-estimator sk-toggleable\"><input class=\"sk-toggleable__control sk-hidden--visually\" id=\"47460093-8f68-4a48-93f5-b65e6b9db168\" type=\"checkbox\" ><label for=\"47460093-8f68-4a48-93f5-b65e6b9db168\" class=\"sk-toggleable__label sk-toggleable__label-arrow\">StandardScaler</label><div class=\"sk-toggleable__content\"><pre>StandardScaler(with_mean=False)</pre></div></div></div><div class=\"sk-item\"><div class=\"sk-estimator sk-toggleable\"><input class=\"sk-toggleable__control sk-hidden--visually\" id=\"83fb5203-77c7-46b1-a540-684016bd0f41\" type=\"checkbox\" ><label for=\"83fb5203-77c7-46b1-a540-684016bd0f41\" class=\"sk-toggleable__label sk-toggleable__label-arrow\">Lasso</label><div class=\"sk-toggleable__content\"><pre>Lasso()</pre></div></div></div></div></div></div></div>"
      ],
      "text/plain": [
       "Pipeline(steps=[('columntransformer',\n",
       "                 ColumnTransformer(remainder='passthrough',\n",
       "                                   transformers=[('onehotencoder',\n",
       "                                                  OneHotEncoder(handle_unknown='ignore'),\n",
       "                                                  <sklearn.compose._column_transformer.make_column_selector object at 0x7f7e38bab460>)],\n",
       "                                   verbose_feature_names_out=False)),\n",
       "                ('standardscaler', StandardScaler(with_mean=False)),\n",
       "                ('lasso', Lasso())])"
      ]
     },
     "execution_count": 414,
     "metadata": {},
     "output_type": "execute_result"
    }
   ],
   "source": [
    "pipe4 = make_pipeline(ct4, StandardScaler(with_mean=False), Lasso())\n",
    "pipe4"
   ]
  },
  {
   "cell_type": "code",
   "execution_count": 428,
   "metadata": {},
   "outputs": [],
   "source": [
    "params = {\n",
    "    'lasso__alpha': [.01, .1, 1, 10, 100],\n",
    "    'lasso__max_iter': [100_000]\n",
    "}"
   ]
  },
  {
   "cell_type": "markdown",
   "metadata": {},
   "source": [
    "### Grid Search"
   ]
  },
  {
   "cell_type": "code",
   "execution_count": 429,
   "metadata": {},
   "outputs": [
    {
     "data": {
      "text/html": [
       "<style>#sk-76b23f7a-f33c-4869-a920-189d3a82ca14 {color: black;background-color: white;}#sk-76b23f7a-f33c-4869-a920-189d3a82ca14 pre{padding: 0;}#sk-76b23f7a-f33c-4869-a920-189d3a82ca14 div.sk-toggleable {background-color: white;}#sk-76b23f7a-f33c-4869-a920-189d3a82ca14 label.sk-toggleable__label {cursor: pointer;display: block;width: 100%;margin-bottom: 0;padding: 0.3em;box-sizing: border-box;text-align: center;}#sk-76b23f7a-f33c-4869-a920-189d3a82ca14 label.sk-toggleable__label-arrow:before {content: \"▸\";float: left;margin-right: 0.25em;color: #696969;}#sk-76b23f7a-f33c-4869-a920-189d3a82ca14 label.sk-toggleable__label-arrow:hover:before {color: black;}#sk-76b23f7a-f33c-4869-a920-189d3a82ca14 div.sk-estimator:hover label.sk-toggleable__label-arrow:before {color: black;}#sk-76b23f7a-f33c-4869-a920-189d3a82ca14 div.sk-toggleable__content {max-height: 0;max-width: 0;overflow: hidden;text-align: left;background-color: #f0f8ff;}#sk-76b23f7a-f33c-4869-a920-189d3a82ca14 div.sk-toggleable__content pre {margin: 0.2em;color: black;border-radius: 0.25em;background-color: #f0f8ff;}#sk-76b23f7a-f33c-4869-a920-189d3a82ca14 input.sk-toggleable__control:checked~div.sk-toggleable__content {max-height: 200px;max-width: 100%;overflow: auto;}#sk-76b23f7a-f33c-4869-a920-189d3a82ca14 input.sk-toggleable__control:checked~label.sk-toggleable__label-arrow:before {content: \"▾\";}#sk-76b23f7a-f33c-4869-a920-189d3a82ca14 div.sk-estimator input.sk-toggleable__control:checked~label.sk-toggleable__label {background-color: #d4ebff;}#sk-76b23f7a-f33c-4869-a920-189d3a82ca14 div.sk-label input.sk-toggleable__control:checked~label.sk-toggleable__label {background-color: #d4ebff;}#sk-76b23f7a-f33c-4869-a920-189d3a82ca14 input.sk-hidden--visually {border: 0;clip: rect(1px 1px 1px 1px);clip: rect(1px, 1px, 1px, 1px);height: 1px;margin: -1px;overflow: hidden;padding: 0;position: absolute;width: 1px;}#sk-76b23f7a-f33c-4869-a920-189d3a82ca14 div.sk-estimator {font-family: monospace;background-color: #f0f8ff;border: 1px dotted black;border-radius: 0.25em;box-sizing: border-box;margin-bottom: 0.5em;}#sk-76b23f7a-f33c-4869-a920-189d3a82ca14 div.sk-estimator:hover {background-color: #d4ebff;}#sk-76b23f7a-f33c-4869-a920-189d3a82ca14 div.sk-parallel-item::after {content: \"\";width: 100%;border-bottom: 1px solid gray;flex-grow: 1;}#sk-76b23f7a-f33c-4869-a920-189d3a82ca14 div.sk-label:hover label.sk-toggleable__label {background-color: #d4ebff;}#sk-76b23f7a-f33c-4869-a920-189d3a82ca14 div.sk-serial::before {content: \"\";position: absolute;border-left: 1px solid gray;box-sizing: border-box;top: 2em;bottom: 0;left: 50%;}#sk-76b23f7a-f33c-4869-a920-189d3a82ca14 div.sk-serial {display: flex;flex-direction: column;align-items: center;background-color: white;padding-right: 0.2em;padding-left: 0.2em;}#sk-76b23f7a-f33c-4869-a920-189d3a82ca14 div.sk-item {z-index: 1;}#sk-76b23f7a-f33c-4869-a920-189d3a82ca14 div.sk-parallel {display: flex;align-items: stretch;justify-content: center;background-color: white;}#sk-76b23f7a-f33c-4869-a920-189d3a82ca14 div.sk-parallel::before {content: \"\";position: absolute;border-left: 1px solid gray;box-sizing: border-box;top: 2em;bottom: 0;left: 50%;}#sk-76b23f7a-f33c-4869-a920-189d3a82ca14 div.sk-parallel-item {display: flex;flex-direction: column;position: relative;background-color: white;}#sk-76b23f7a-f33c-4869-a920-189d3a82ca14 div.sk-parallel-item:first-child::after {align-self: flex-end;width: 50%;}#sk-76b23f7a-f33c-4869-a920-189d3a82ca14 div.sk-parallel-item:last-child::after {align-self: flex-start;width: 50%;}#sk-76b23f7a-f33c-4869-a920-189d3a82ca14 div.sk-parallel-item:only-child::after {width: 0;}#sk-76b23f7a-f33c-4869-a920-189d3a82ca14 div.sk-dashed-wrapped {border: 1px dashed gray;margin: 0 0.4em 0.5em 0.4em;box-sizing: border-box;padding-bottom: 0.4em;background-color: white;position: relative;}#sk-76b23f7a-f33c-4869-a920-189d3a82ca14 div.sk-label label {font-family: monospace;font-weight: bold;background-color: white;display: inline-block;line-height: 1.2em;}#sk-76b23f7a-f33c-4869-a920-189d3a82ca14 div.sk-label-container {position: relative;z-index: 2;text-align: center;}#sk-76b23f7a-f33c-4869-a920-189d3a82ca14 div.sk-container {/* jupyter's `normalize.less` sets `[hidden] { display: none; }` but bootstrap.min.css set `[hidden] { display: none !important; }` so we also need the `!important` here to be able to override the default hidden behavior on the sphinx rendered scikit-learn.org. See: https://github.com/scikit-learn/scikit-learn/issues/21755 */display: inline-block !important;position: relative;}#sk-76b23f7a-f33c-4869-a920-189d3a82ca14 div.sk-text-repr-fallback {display: none;}</style><div id=\"sk-76b23f7a-f33c-4869-a920-189d3a82ca14\" class=\"sk-top-container\"><div class=\"sk-text-repr-fallback\"><pre>GridSearchCV(estimator=Pipeline(steps=[(&#x27;columntransformer&#x27;,\n",
       "                                        ColumnTransformer(remainder=&#x27;passthrough&#x27;,\n",
       "                                                          transformers=[(&#x27;onehotencoder&#x27;,\n",
       "                                                                         OneHotEncoder(handle_unknown=&#x27;ignore&#x27;),\n",
       "                                                                         &lt;sklearn.compose._column_transformer.make_column_selector object at 0x7f7e38bab460&gt;)],\n",
       "                                                          verbose_feature_names_out=False)),\n",
       "                                       (&#x27;standardscaler&#x27;,\n",
       "                                        StandardScaler(with_mean=False)),\n",
       "                                       (&#x27;lasso&#x27;, Lasso())]),\n",
       "             n_jobs=-1,\n",
       "             param_grid={&#x27;lasso__alpha&#x27;: [0.01, 0.1, 1, 10, 100],\n",
       "                         &#x27;lasso__max_iter&#x27;: [100000]})</pre><b>Please rerun this cell to show the HTML repr or trust the notebook.</b></div><div class=\"sk-container\" hidden><div class=\"sk-item sk-dashed-wrapped\"><div class=\"sk-label-container\"><div class=\"sk-label sk-toggleable\"><input class=\"sk-toggleable__control sk-hidden--visually\" id=\"44cd20e5-7900-4f6c-a56a-a3a437dbef04\" type=\"checkbox\" ><label for=\"44cd20e5-7900-4f6c-a56a-a3a437dbef04\" class=\"sk-toggleable__label sk-toggleable__label-arrow\">GridSearchCV</label><div class=\"sk-toggleable__content\"><pre>GridSearchCV(estimator=Pipeline(steps=[(&#x27;columntransformer&#x27;,\n",
       "                                        ColumnTransformer(remainder=&#x27;passthrough&#x27;,\n",
       "                                                          transformers=[(&#x27;onehotencoder&#x27;,\n",
       "                                                                         OneHotEncoder(handle_unknown=&#x27;ignore&#x27;),\n",
       "                                                                         &lt;sklearn.compose._column_transformer.make_column_selector object at 0x7f7e38bab460&gt;)],\n",
       "                                                          verbose_feature_names_out=False)),\n",
       "                                       (&#x27;standardscaler&#x27;,\n",
       "                                        StandardScaler(with_mean=False)),\n",
       "                                       (&#x27;lasso&#x27;, Lasso())]),\n",
       "             n_jobs=-1,\n",
       "             param_grid={&#x27;lasso__alpha&#x27;: [0.01, 0.1, 1, 10, 100],\n",
       "                         &#x27;lasso__max_iter&#x27;: [100000]})</pre></div></div></div><div class=\"sk-parallel\"><div class=\"sk-parallel-item\"><div class=\"sk-item\"><div class=\"sk-serial\"><div class=\"sk-item\"><div class=\"sk-serial\"><div class=\"sk-item sk-dashed-wrapped\"><div class=\"sk-label-container\"><div class=\"sk-label sk-toggleable\"><input class=\"sk-toggleable__control sk-hidden--visually\" id=\"b034fd12-c180-4993-bc43-54a842e52c6a\" type=\"checkbox\" ><label for=\"b034fd12-c180-4993-bc43-54a842e52c6a\" class=\"sk-toggleable__label sk-toggleable__label-arrow\">columntransformer: ColumnTransformer</label><div class=\"sk-toggleable__content\"><pre>ColumnTransformer(remainder=&#x27;passthrough&#x27;,\n",
       "                  transformers=[(&#x27;onehotencoder&#x27;,\n",
       "                                 OneHotEncoder(handle_unknown=&#x27;ignore&#x27;),\n",
       "                                 &lt;sklearn.compose._column_transformer.make_column_selector object at 0x7f7e38bab460&gt;)],\n",
       "                  verbose_feature_names_out=False)</pre></div></div></div><div class=\"sk-parallel\"><div class=\"sk-parallel-item\"><div class=\"sk-item\"><div class=\"sk-label-container\"><div class=\"sk-label sk-toggleable\"><input class=\"sk-toggleable__control sk-hidden--visually\" id=\"c05f73d3-80d5-4c96-8b8b-7fcb9e1de81d\" type=\"checkbox\" ><label for=\"c05f73d3-80d5-4c96-8b8b-7fcb9e1de81d\" class=\"sk-toggleable__label sk-toggleable__label-arrow\">onehotencoder</label><div class=\"sk-toggleable__content\"><pre>&lt;sklearn.compose._column_transformer.make_column_selector object at 0x7f7e38bab460&gt;</pre></div></div></div><div class=\"sk-serial\"><div class=\"sk-item\"><div class=\"sk-estimator sk-toggleable\"><input class=\"sk-toggleable__control sk-hidden--visually\" id=\"769e9ddb-6536-4d2a-a534-38321c920e22\" type=\"checkbox\" ><label for=\"769e9ddb-6536-4d2a-a534-38321c920e22\" class=\"sk-toggleable__label sk-toggleable__label-arrow\">OneHotEncoder</label><div class=\"sk-toggleable__content\"><pre>OneHotEncoder(handle_unknown=&#x27;ignore&#x27;)</pre></div></div></div></div></div></div><div class=\"sk-parallel-item\"><div class=\"sk-item\"><div class=\"sk-label-container\"><div class=\"sk-label sk-toggleable\"><input class=\"sk-toggleable__control sk-hidden--visually\" id=\"30fc82b1-7bfd-4d50-af55-61d5f981641d\" type=\"checkbox\" ><label for=\"30fc82b1-7bfd-4d50-af55-61d5f981641d\" class=\"sk-toggleable__label sk-toggleable__label-arrow\">remainder</label><div class=\"sk-toggleable__content\"><pre></pre></div></div></div><div class=\"sk-serial\"><div class=\"sk-item\"><div class=\"sk-estimator sk-toggleable\"><input class=\"sk-toggleable__control sk-hidden--visually\" id=\"e6354799-20cb-4f28-b753-94512e0ecdc6\" type=\"checkbox\" ><label for=\"e6354799-20cb-4f28-b753-94512e0ecdc6\" class=\"sk-toggleable__label sk-toggleable__label-arrow\">passthrough</label><div class=\"sk-toggleable__content\"><pre>passthrough</pre></div></div></div></div></div></div></div></div><div class=\"sk-item\"><div class=\"sk-estimator sk-toggleable\"><input class=\"sk-toggleable__control sk-hidden--visually\" id=\"15f3bec2-5924-429a-b63a-468aff7921ff\" type=\"checkbox\" ><label for=\"15f3bec2-5924-429a-b63a-468aff7921ff\" class=\"sk-toggleable__label sk-toggleable__label-arrow\">StandardScaler</label><div class=\"sk-toggleable__content\"><pre>StandardScaler(with_mean=False)</pre></div></div></div><div class=\"sk-item\"><div class=\"sk-estimator sk-toggleable\"><input class=\"sk-toggleable__control sk-hidden--visually\" id=\"f924c128-dc78-4178-b86a-0fb66ceae61c\" type=\"checkbox\" ><label for=\"f924c128-dc78-4178-b86a-0fb66ceae61c\" class=\"sk-toggleable__label sk-toggleable__label-arrow\">Lasso</label><div class=\"sk-toggleable__content\"><pre>Lasso()</pre></div></div></div></div></div></div></div></div></div></div></div></div>"
      ],
      "text/plain": [
       "GridSearchCV(estimator=Pipeline(steps=[('columntransformer',\n",
       "                                        ColumnTransformer(remainder='passthrough',\n",
       "                                                          transformers=[('onehotencoder',\n",
       "                                                                         OneHotEncoder(handle_unknown='ignore'),\n",
       "                                                                         <sklearn.compose._column_transformer.make_column_selector object at 0x7f7e38bab460>)],\n",
       "                                                          verbose_feature_names_out=False)),\n",
       "                                       ('standardscaler',\n",
       "                                        StandardScaler(with_mean=False)),\n",
       "                                       ('lasso', Lasso())]),\n",
       "             n_jobs=-1,\n",
       "             param_grid={'lasso__alpha': [0.01, 0.1, 1, 10, 100],\n",
       "                         'lasso__max_iter': [100000]})"
      ]
     },
     "execution_count": 429,
     "metadata": {},
     "output_type": "execute_result"
    }
   ],
   "source": [
    "gs1 = GridSearchCV(pipe4, params, n_jobs=-1)\n",
    "gs1"
   ]
  },
  {
   "cell_type": "code",
   "execution_count": 430,
   "metadata": {},
   "outputs": [
    {
     "name": "stderr",
     "output_type": "stream",
     "text": [
      "/Users/andresperez/opt/anaconda3/lib/python3.9/site-packages/sklearn/linear_model/_coordinate_descent.py:609: ConvergenceWarning: Objective did not converge. You might want to increase the number of iterations. Duality gap: 18364711292.47522, tolerance: 703326581.0032996\n",
      "  model = cd_fast.sparse_enet_coordinate_descent(\n",
      "/Users/andresperez/opt/anaconda3/lib/python3.9/site-packages/sklearn/linear_model/_coordinate_descent.py:609: ConvergenceWarning: Objective did not converge. You might want to increase the number of iterations. Duality gap: 19637059682.247803, tolerance: 709101436.5961056\n",
      "  model = cd_fast.sparse_enet_coordinate_descent(\n",
      "/Users/andresperez/opt/anaconda3/lib/python3.9/site-packages/sklearn/linear_model/_coordinate_descent.py:609: ConvergenceWarning: Objective did not converge. You might want to increase the number of iterations. Duality gap: 5906010542.720581, tolerance: 723795982.4522101\n",
      "  model = cd_fast.sparse_enet_coordinate_descent(\n",
      "/Users/andresperez/opt/anaconda3/lib/python3.9/site-packages/sklearn/linear_model/_coordinate_descent.py:609: ConvergenceWarning: Objective did not converge. You might want to increase the number of iterations. Duality gap: 22792085600.399902, tolerance: 692621244.8420494\n",
      "  model = cd_fast.sparse_enet_coordinate_descent(\n",
      "/Users/andresperez/opt/anaconda3/lib/python3.9/site-packages/sklearn/linear_model/_coordinate_descent.py:609: ConvergenceWarning: Objective did not converge. You might want to increase the number of iterations. Duality gap: 18096705801.405884, tolerance: 700353832.2129741\n",
      "  model = cd_fast.sparse_enet_coordinate_descent(\n"
     ]
    },
    {
     "data": {
      "text/plain": [
       "0.8674996843166977"
      ]
     },
     "execution_count": 430,
     "metadata": {},
     "output_type": "execute_result"
    }
   ],
   "source": [
    "gs1.fit(X_train, y_train)\n",
    "gs1.score(X_test, y_test)"
   ]
  },
  {
   "cell_type": "code",
   "execution_count": 431,
   "metadata": {},
   "outputs": [
    {
     "data": {
      "text/plain": [
       "32356.229975264556"
      ]
     },
     "execution_count": 431,
     "metadata": {},
     "output_type": "execute_result"
    }
   ],
   "source": [
    "preds = gs1.predict(X_test)\n",
    "mean_squared_error(y_test, preds, squared=False)"
   ]
  },
  {
   "cell_type": "markdown",
   "metadata": {},
   "source": [
    "### Kaggle submission Lasso"
   ]
  },
  {
   "cell_type": "code",
   "execution_count": 432,
   "metadata": {},
   "outputs": [],
   "source": [
    "test['SalePrice'] = gs1.predict(kaggle)"
   ]
  },
  {
   "cell_type": "code",
   "execution_count": 433,
   "metadata": {},
   "outputs": [],
   "source": [
    "test[['Id', 'SalePrice']].to_csv('../data/submission_all_EDA_lasso.csv', index=False)"
   ]
  },
  {
   "cell_type": "markdown",
   "metadata": {},
   "source": [
    "### Ridge Regression pipeline  "
   ]
  },
  {
   "cell_type": "code",
   "execution_count": 434,
   "metadata": {},
   "outputs": [
    {
     "data": {
      "text/html": [
       "<style>#sk-ebbddb5b-780d-4c63-8592-eccaceb0cb50 {color: black;background-color: white;}#sk-ebbddb5b-780d-4c63-8592-eccaceb0cb50 pre{padding: 0;}#sk-ebbddb5b-780d-4c63-8592-eccaceb0cb50 div.sk-toggleable {background-color: white;}#sk-ebbddb5b-780d-4c63-8592-eccaceb0cb50 label.sk-toggleable__label {cursor: pointer;display: block;width: 100%;margin-bottom: 0;padding: 0.3em;box-sizing: border-box;text-align: center;}#sk-ebbddb5b-780d-4c63-8592-eccaceb0cb50 label.sk-toggleable__label-arrow:before {content: \"▸\";float: left;margin-right: 0.25em;color: #696969;}#sk-ebbddb5b-780d-4c63-8592-eccaceb0cb50 label.sk-toggleable__label-arrow:hover:before {color: black;}#sk-ebbddb5b-780d-4c63-8592-eccaceb0cb50 div.sk-estimator:hover label.sk-toggleable__label-arrow:before {color: black;}#sk-ebbddb5b-780d-4c63-8592-eccaceb0cb50 div.sk-toggleable__content {max-height: 0;max-width: 0;overflow: hidden;text-align: left;background-color: #f0f8ff;}#sk-ebbddb5b-780d-4c63-8592-eccaceb0cb50 div.sk-toggleable__content pre {margin: 0.2em;color: black;border-radius: 0.25em;background-color: #f0f8ff;}#sk-ebbddb5b-780d-4c63-8592-eccaceb0cb50 input.sk-toggleable__control:checked~div.sk-toggleable__content {max-height: 200px;max-width: 100%;overflow: auto;}#sk-ebbddb5b-780d-4c63-8592-eccaceb0cb50 input.sk-toggleable__control:checked~label.sk-toggleable__label-arrow:before {content: \"▾\";}#sk-ebbddb5b-780d-4c63-8592-eccaceb0cb50 div.sk-estimator input.sk-toggleable__control:checked~label.sk-toggleable__label {background-color: #d4ebff;}#sk-ebbddb5b-780d-4c63-8592-eccaceb0cb50 div.sk-label input.sk-toggleable__control:checked~label.sk-toggleable__label {background-color: #d4ebff;}#sk-ebbddb5b-780d-4c63-8592-eccaceb0cb50 input.sk-hidden--visually {border: 0;clip: rect(1px 1px 1px 1px);clip: rect(1px, 1px, 1px, 1px);height: 1px;margin: -1px;overflow: hidden;padding: 0;position: absolute;width: 1px;}#sk-ebbddb5b-780d-4c63-8592-eccaceb0cb50 div.sk-estimator {font-family: monospace;background-color: #f0f8ff;border: 1px dotted black;border-radius: 0.25em;box-sizing: border-box;margin-bottom: 0.5em;}#sk-ebbddb5b-780d-4c63-8592-eccaceb0cb50 div.sk-estimator:hover {background-color: #d4ebff;}#sk-ebbddb5b-780d-4c63-8592-eccaceb0cb50 div.sk-parallel-item::after {content: \"\";width: 100%;border-bottom: 1px solid gray;flex-grow: 1;}#sk-ebbddb5b-780d-4c63-8592-eccaceb0cb50 div.sk-label:hover label.sk-toggleable__label {background-color: #d4ebff;}#sk-ebbddb5b-780d-4c63-8592-eccaceb0cb50 div.sk-serial::before {content: \"\";position: absolute;border-left: 1px solid gray;box-sizing: border-box;top: 2em;bottom: 0;left: 50%;}#sk-ebbddb5b-780d-4c63-8592-eccaceb0cb50 div.sk-serial {display: flex;flex-direction: column;align-items: center;background-color: white;padding-right: 0.2em;padding-left: 0.2em;}#sk-ebbddb5b-780d-4c63-8592-eccaceb0cb50 div.sk-item {z-index: 1;}#sk-ebbddb5b-780d-4c63-8592-eccaceb0cb50 div.sk-parallel {display: flex;align-items: stretch;justify-content: center;background-color: white;}#sk-ebbddb5b-780d-4c63-8592-eccaceb0cb50 div.sk-parallel::before {content: \"\";position: absolute;border-left: 1px solid gray;box-sizing: border-box;top: 2em;bottom: 0;left: 50%;}#sk-ebbddb5b-780d-4c63-8592-eccaceb0cb50 div.sk-parallel-item {display: flex;flex-direction: column;position: relative;background-color: white;}#sk-ebbddb5b-780d-4c63-8592-eccaceb0cb50 div.sk-parallel-item:first-child::after {align-self: flex-end;width: 50%;}#sk-ebbddb5b-780d-4c63-8592-eccaceb0cb50 div.sk-parallel-item:last-child::after {align-self: flex-start;width: 50%;}#sk-ebbddb5b-780d-4c63-8592-eccaceb0cb50 div.sk-parallel-item:only-child::after {width: 0;}#sk-ebbddb5b-780d-4c63-8592-eccaceb0cb50 div.sk-dashed-wrapped {border: 1px dashed gray;margin: 0 0.4em 0.5em 0.4em;box-sizing: border-box;padding-bottom: 0.4em;background-color: white;position: relative;}#sk-ebbddb5b-780d-4c63-8592-eccaceb0cb50 div.sk-label label {font-family: monospace;font-weight: bold;background-color: white;display: inline-block;line-height: 1.2em;}#sk-ebbddb5b-780d-4c63-8592-eccaceb0cb50 div.sk-label-container {position: relative;z-index: 2;text-align: center;}#sk-ebbddb5b-780d-4c63-8592-eccaceb0cb50 div.sk-container {/* jupyter's `normalize.less` sets `[hidden] { display: none; }` but bootstrap.min.css set `[hidden] { display: none !important; }` so we also need the `!important` here to be able to override the default hidden behavior on the sphinx rendered scikit-learn.org. See: https://github.com/scikit-learn/scikit-learn/issues/21755 */display: inline-block !important;position: relative;}#sk-ebbddb5b-780d-4c63-8592-eccaceb0cb50 div.sk-text-repr-fallback {display: none;}</style><div id=\"sk-ebbddb5b-780d-4c63-8592-eccaceb0cb50\" class=\"sk-top-container\"><div class=\"sk-text-repr-fallback\"><pre>Pipeline(steps=[(&#x27;columntransformer&#x27;,\n",
       "                 ColumnTransformer(remainder=&#x27;passthrough&#x27;,\n",
       "                                   transformers=[(&#x27;onehotencoder&#x27;,\n",
       "                                                  OneHotEncoder(handle_unknown=&#x27;ignore&#x27;),\n",
       "                                                  &lt;sklearn.compose._column_transformer.make_column_selector object at 0x7f7e38bab460&gt;)],\n",
       "                                   verbose_feature_names_out=False)),\n",
       "                (&#x27;standardscaler&#x27;, StandardScaler(with_mean=False)),\n",
       "                (&#x27;ridge&#x27;, Ridge())])</pre><b>Please rerun this cell to show the HTML repr or trust the notebook.</b></div><div class=\"sk-container\" hidden><div class=\"sk-item sk-dashed-wrapped\"><div class=\"sk-label-container\"><div class=\"sk-label sk-toggleable\"><input class=\"sk-toggleable__control sk-hidden--visually\" id=\"6f32ad21-d010-4e78-acfd-98e4ae411295\" type=\"checkbox\" ><label for=\"6f32ad21-d010-4e78-acfd-98e4ae411295\" class=\"sk-toggleable__label sk-toggleable__label-arrow\">Pipeline</label><div class=\"sk-toggleable__content\"><pre>Pipeline(steps=[(&#x27;columntransformer&#x27;,\n",
       "                 ColumnTransformer(remainder=&#x27;passthrough&#x27;,\n",
       "                                   transformers=[(&#x27;onehotencoder&#x27;,\n",
       "                                                  OneHotEncoder(handle_unknown=&#x27;ignore&#x27;),\n",
       "                                                  &lt;sklearn.compose._column_transformer.make_column_selector object at 0x7f7e38bab460&gt;)],\n",
       "                                   verbose_feature_names_out=False)),\n",
       "                (&#x27;standardscaler&#x27;, StandardScaler(with_mean=False)),\n",
       "                (&#x27;ridge&#x27;, Ridge())])</pre></div></div></div><div class=\"sk-serial\"><div class=\"sk-item sk-dashed-wrapped\"><div class=\"sk-label-container\"><div class=\"sk-label sk-toggleable\"><input class=\"sk-toggleable__control sk-hidden--visually\" id=\"e3260ff4-1885-4fa2-8c79-93290c43f142\" type=\"checkbox\" ><label for=\"e3260ff4-1885-4fa2-8c79-93290c43f142\" class=\"sk-toggleable__label sk-toggleable__label-arrow\">columntransformer: ColumnTransformer</label><div class=\"sk-toggleable__content\"><pre>ColumnTransformer(remainder=&#x27;passthrough&#x27;,\n",
       "                  transformers=[(&#x27;onehotencoder&#x27;,\n",
       "                                 OneHotEncoder(handle_unknown=&#x27;ignore&#x27;),\n",
       "                                 &lt;sklearn.compose._column_transformer.make_column_selector object at 0x7f7e38bab460&gt;)],\n",
       "                  verbose_feature_names_out=False)</pre></div></div></div><div class=\"sk-parallel\"><div class=\"sk-parallel-item\"><div class=\"sk-item\"><div class=\"sk-label-container\"><div class=\"sk-label sk-toggleable\"><input class=\"sk-toggleable__control sk-hidden--visually\" id=\"f1758d6f-89fc-47ba-96e8-e80564c0978a\" type=\"checkbox\" ><label for=\"f1758d6f-89fc-47ba-96e8-e80564c0978a\" class=\"sk-toggleable__label sk-toggleable__label-arrow\">onehotencoder</label><div class=\"sk-toggleable__content\"><pre>&lt;sklearn.compose._column_transformer.make_column_selector object at 0x7f7e38bab460&gt;</pre></div></div></div><div class=\"sk-serial\"><div class=\"sk-item\"><div class=\"sk-estimator sk-toggleable\"><input class=\"sk-toggleable__control sk-hidden--visually\" id=\"e033eb3a-8613-4935-bbb8-96dd384a96c7\" type=\"checkbox\" ><label for=\"e033eb3a-8613-4935-bbb8-96dd384a96c7\" class=\"sk-toggleable__label sk-toggleable__label-arrow\">OneHotEncoder</label><div class=\"sk-toggleable__content\"><pre>OneHotEncoder(handle_unknown=&#x27;ignore&#x27;)</pre></div></div></div></div></div></div><div class=\"sk-parallel-item\"><div class=\"sk-item\"><div class=\"sk-label-container\"><div class=\"sk-label sk-toggleable\"><input class=\"sk-toggleable__control sk-hidden--visually\" id=\"ecb53bff-2d87-4641-8cce-ef15c17ea4d7\" type=\"checkbox\" ><label for=\"ecb53bff-2d87-4641-8cce-ef15c17ea4d7\" class=\"sk-toggleable__label sk-toggleable__label-arrow\">remainder</label><div class=\"sk-toggleable__content\"><pre></pre></div></div></div><div class=\"sk-serial\"><div class=\"sk-item\"><div class=\"sk-estimator sk-toggleable\"><input class=\"sk-toggleable__control sk-hidden--visually\" id=\"181cfacd-6a0c-4163-8e3e-be9a2155591b\" type=\"checkbox\" ><label for=\"181cfacd-6a0c-4163-8e3e-be9a2155591b\" class=\"sk-toggleable__label sk-toggleable__label-arrow\">passthrough</label><div class=\"sk-toggleable__content\"><pre>passthrough</pre></div></div></div></div></div></div></div></div><div class=\"sk-item\"><div class=\"sk-estimator sk-toggleable\"><input class=\"sk-toggleable__control sk-hidden--visually\" id=\"1e76a7ff-9708-4923-8243-56114b38d0a7\" type=\"checkbox\" ><label for=\"1e76a7ff-9708-4923-8243-56114b38d0a7\" class=\"sk-toggleable__label sk-toggleable__label-arrow\">StandardScaler</label><div class=\"sk-toggleable__content\"><pre>StandardScaler(with_mean=False)</pre></div></div></div><div class=\"sk-item\"><div class=\"sk-estimator sk-toggleable\"><input class=\"sk-toggleable__control sk-hidden--visually\" id=\"565acc50-5f7d-46fb-b40d-030d5a35d22c\" type=\"checkbox\" ><label for=\"565acc50-5f7d-46fb-b40d-030d5a35d22c\" class=\"sk-toggleable__label sk-toggleable__label-arrow\">Ridge</label><div class=\"sk-toggleable__content\"><pre>Ridge()</pre></div></div></div></div></div></div></div>"
      ],
      "text/plain": [
       "Pipeline(steps=[('columntransformer',\n",
       "                 ColumnTransformer(remainder='passthrough',\n",
       "                                   transformers=[('onehotencoder',\n",
       "                                                  OneHotEncoder(handle_unknown='ignore'),\n",
       "                                                  <sklearn.compose._column_transformer.make_column_selector object at 0x7f7e38bab460>)],\n",
       "                                   verbose_feature_names_out=False)),\n",
       "                ('standardscaler', StandardScaler(with_mean=False)),\n",
       "                ('ridge', Ridge())])"
      ]
     },
     "execution_count": 434,
     "metadata": {},
     "output_type": "execute_result"
    }
   ],
   "source": [
    "pipe5 = make_pipeline(ct4, StandardScaler(with_mean=False), Ridge())\n",
    "pipe5"
   ]
  },
  {
   "cell_type": "code",
   "execution_count": 435,
   "metadata": {},
   "outputs": [
    {
     "data": {
      "text/plain": [
       "dict_keys(['memory', 'steps', 'verbose', 'columntransformer', 'standardscaler', 'ridge', 'columntransformer__n_jobs', 'columntransformer__remainder', 'columntransformer__sparse_threshold', 'columntransformer__transformer_weights', 'columntransformer__transformers', 'columntransformer__verbose', 'columntransformer__verbose_feature_names_out', 'columntransformer__onehotencoder', 'columntransformer__onehotencoder__categories', 'columntransformer__onehotencoder__drop', 'columntransformer__onehotencoder__dtype', 'columntransformer__onehotencoder__handle_unknown', 'columntransformer__onehotencoder__sparse', 'standardscaler__copy', 'standardscaler__with_mean', 'standardscaler__with_std', 'ridge__alpha', 'ridge__copy_X', 'ridge__fit_intercept', 'ridge__max_iter', 'ridge__normalize', 'ridge__positive', 'ridge__random_state', 'ridge__solver', 'ridge__tol'])"
      ]
     },
     "execution_count": 435,
     "metadata": {},
     "output_type": "execute_result"
    }
   ],
   "source": [
    "pipe5.get_params().keys()"
   ]
  },
  {
   "cell_type": "code",
   "execution_count": 436,
   "metadata": {},
   "outputs": [],
   "source": [
    "params = {\n",
    "    'ridge__alpha': [.01, .1, 1, 10, 100],\n",
    "    'ridge__max_iter': [100_000]\n",
    "}"
   ]
  },
  {
   "cell_type": "code",
   "execution_count": 437,
   "metadata": {},
   "outputs": [
    {
     "data": {
      "text/html": [
       "<style>#sk-e27af9f5-46d6-4c11-844d-4fb949a0b07e {color: black;background-color: white;}#sk-e27af9f5-46d6-4c11-844d-4fb949a0b07e pre{padding: 0;}#sk-e27af9f5-46d6-4c11-844d-4fb949a0b07e div.sk-toggleable {background-color: white;}#sk-e27af9f5-46d6-4c11-844d-4fb949a0b07e label.sk-toggleable__label {cursor: pointer;display: block;width: 100%;margin-bottom: 0;padding: 0.3em;box-sizing: border-box;text-align: center;}#sk-e27af9f5-46d6-4c11-844d-4fb949a0b07e label.sk-toggleable__label-arrow:before {content: \"▸\";float: left;margin-right: 0.25em;color: #696969;}#sk-e27af9f5-46d6-4c11-844d-4fb949a0b07e label.sk-toggleable__label-arrow:hover:before {color: black;}#sk-e27af9f5-46d6-4c11-844d-4fb949a0b07e div.sk-estimator:hover label.sk-toggleable__label-arrow:before {color: black;}#sk-e27af9f5-46d6-4c11-844d-4fb949a0b07e div.sk-toggleable__content {max-height: 0;max-width: 0;overflow: hidden;text-align: left;background-color: #f0f8ff;}#sk-e27af9f5-46d6-4c11-844d-4fb949a0b07e div.sk-toggleable__content pre {margin: 0.2em;color: black;border-radius: 0.25em;background-color: #f0f8ff;}#sk-e27af9f5-46d6-4c11-844d-4fb949a0b07e input.sk-toggleable__control:checked~div.sk-toggleable__content {max-height: 200px;max-width: 100%;overflow: auto;}#sk-e27af9f5-46d6-4c11-844d-4fb949a0b07e input.sk-toggleable__control:checked~label.sk-toggleable__label-arrow:before {content: \"▾\";}#sk-e27af9f5-46d6-4c11-844d-4fb949a0b07e div.sk-estimator input.sk-toggleable__control:checked~label.sk-toggleable__label {background-color: #d4ebff;}#sk-e27af9f5-46d6-4c11-844d-4fb949a0b07e div.sk-label input.sk-toggleable__control:checked~label.sk-toggleable__label {background-color: #d4ebff;}#sk-e27af9f5-46d6-4c11-844d-4fb949a0b07e input.sk-hidden--visually {border: 0;clip: rect(1px 1px 1px 1px);clip: rect(1px, 1px, 1px, 1px);height: 1px;margin: -1px;overflow: hidden;padding: 0;position: absolute;width: 1px;}#sk-e27af9f5-46d6-4c11-844d-4fb949a0b07e div.sk-estimator {font-family: monospace;background-color: #f0f8ff;border: 1px dotted black;border-radius: 0.25em;box-sizing: border-box;margin-bottom: 0.5em;}#sk-e27af9f5-46d6-4c11-844d-4fb949a0b07e div.sk-estimator:hover {background-color: #d4ebff;}#sk-e27af9f5-46d6-4c11-844d-4fb949a0b07e div.sk-parallel-item::after {content: \"\";width: 100%;border-bottom: 1px solid gray;flex-grow: 1;}#sk-e27af9f5-46d6-4c11-844d-4fb949a0b07e div.sk-label:hover label.sk-toggleable__label {background-color: #d4ebff;}#sk-e27af9f5-46d6-4c11-844d-4fb949a0b07e div.sk-serial::before {content: \"\";position: absolute;border-left: 1px solid gray;box-sizing: border-box;top: 2em;bottom: 0;left: 50%;}#sk-e27af9f5-46d6-4c11-844d-4fb949a0b07e div.sk-serial {display: flex;flex-direction: column;align-items: center;background-color: white;padding-right: 0.2em;padding-left: 0.2em;}#sk-e27af9f5-46d6-4c11-844d-4fb949a0b07e div.sk-item {z-index: 1;}#sk-e27af9f5-46d6-4c11-844d-4fb949a0b07e div.sk-parallel {display: flex;align-items: stretch;justify-content: center;background-color: white;}#sk-e27af9f5-46d6-4c11-844d-4fb949a0b07e div.sk-parallel::before {content: \"\";position: absolute;border-left: 1px solid gray;box-sizing: border-box;top: 2em;bottom: 0;left: 50%;}#sk-e27af9f5-46d6-4c11-844d-4fb949a0b07e div.sk-parallel-item {display: flex;flex-direction: column;position: relative;background-color: white;}#sk-e27af9f5-46d6-4c11-844d-4fb949a0b07e div.sk-parallel-item:first-child::after {align-self: flex-end;width: 50%;}#sk-e27af9f5-46d6-4c11-844d-4fb949a0b07e div.sk-parallel-item:last-child::after {align-self: flex-start;width: 50%;}#sk-e27af9f5-46d6-4c11-844d-4fb949a0b07e div.sk-parallel-item:only-child::after {width: 0;}#sk-e27af9f5-46d6-4c11-844d-4fb949a0b07e div.sk-dashed-wrapped {border: 1px dashed gray;margin: 0 0.4em 0.5em 0.4em;box-sizing: border-box;padding-bottom: 0.4em;background-color: white;position: relative;}#sk-e27af9f5-46d6-4c11-844d-4fb949a0b07e div.sk-label label {font-family: monospace;font-weight: bold;background-color: white;display: inline-block;line-height: 1.2em;}#sk-e27af9f5-46d6-4c11-844d-4fb949a0b07e div.sk-label-container {position: relative;z-index: 2;text-align: center;}#sk-e27af9f5-46d6-4c11-844d-4fb949a0b07e div.sk-container {/* jupyter's `normalize.less` sets `[hidden] { display: none; }` but bootstrap.min.css set `[hidden] { display: none !important; }` so we also need the `!important` here to be able to override the default hidden behavior on the sphinx rendered scikit-learn.org. See: https://github.com/scikit-learn/scikit-learn/issues/21755 */display: inline-block !important;position: relative;}#sk-e27af9f5-46d6-4c11-844d-4fb949a0b07e div.sk-text-repr-fallback {display: none;}</style><div id=\"sk-e27af9f5-46d6-4c11-844d-4fb949a0b07e\" class=\"sk-top-container\"><div class=\"sk-text-repr-fallback\"><pre>GridSearchCV(estimator=Pipeline(steps=[(&#x27;columntransformer&#x27;,\n",
       "                                        ColumnTransformer(remainder=&#x27;passthrough&#x27;,\n",
       "                                                          transformers=[(&#x27;onehotencoder&#x27;,\n",
       "                                                                         OneHotEncoder(handle_unknown=&#x27;ignore&#x27;),\n",
       "                                                                         &lt;sklearn.compose._column_transformer.make_column_selector object at 0x7f7e38bab460&gt;)],\n",
       "                                                          verbose_feature_names_out=False)),\n",
       "                                       (&#x27;standardscaler&#x27;,\n",
       "                                        StandardScaler(with_mean=False)),\n",
       "                                       (&#x27;ridge&#x27;, Ridge())]),\n",
       "             n_jobs=-1,\n",
       "             param_grid={&#x27;ridge__alpha&#x27;: [0.01, 0.1, 1, 10, 100],\n",
       "                         &#x27;ridge__max_iter&#x27;: [100000]})</pre><b>Please rerun this cell to show the HTML repr or trust the notebook.</b></div><div class=\"sk-container\" hidden><div class=\"sk-item sk-dashed-wrapped\"><div class=\"sk-label-container\"><div class=\"sk-label sk-toggleable\"><input class=\"sk-toggleable__control sk-hidden--visually\" id=\"63dde163-1f73-462c-8d16-114afe73ccca\" type=\"checkbox\" ><label for=\"63dde163-1f73-462c-8d16-114afe73ccca\" class=\"sk-toggleable__label sk-toggleable__label-arrow\">GridSearchCV</label><div class=\"sk-toggleable__content\"><pre>GridSearchCV(estimator=Pipeline(steps=[(&#x27;columntransformer&#x27;,\n",
       "                                        ColumnTransformer(remainder=&#x27;passthrough&#x27;,\n",
       "                                                          transformers=[(&#x27;onehotencoder&#x27;,\n",
       "                                                                         OneHotEncoder(handle_unknown=&#x27;ignore&#x27;),\n",
       "                                                                         &lt;sklearn.compose._column_transformer.make_column_selector object at 0x7f7e38bab460&gt;)],\n",
       "                                                          verbose_feature_names_out=False)),\n",
       "                                       (&#x27;standardscaler&#x27;,\n",
       "                                        StandardScaler(with_mean=False)),\n",
       "                                       (&#x27;ridge&#x27;, Ridge())]),\n",
       "             n_jobs=-1,\n",
       "             param_grid={&#x27;ridge__alpha&#x27;: [0.01, 0.1, 1, 10, 100],\n",
       "                         &#x27;ridge__max_iter&#x27;: [100000]})</pre></div></div></div><div class=\"sk-parallel\"><div class=\"sk-parallel-item\"><div class=\"sk-item\"><div class=\"sk-serial\"><div class=\"sk-item\"><div class=\"sk-serial\"><div class=\"sk-item sk-dashed-wrapped\"><div class=\"sk-label-container\"><div class=\"sk-label sk-toggleable\"><input class=\"sk-toggleable__control sk-hidden--visually\" id=\"f7a7edd9-044f-462d-8952-f953d08138e9\" type=\"checkbox\" ><label for=\"f7a7edd9-044f-462d-8952-f953d08138e9\" class=\"sk-toggleable__label sk-toggleable__label-arrow\">columntransformer: ColumnTransformer</label><div class=\"sk-toggleable__content\"><pre>ColumnTransformer(remainder=&#x27;passthrough&#x27;,\n",
       "                  transformers=[(&#x27;onehotencoder&#x27;,\n",
       "                                 OneHotEncoder(handle_unknown=&#x27;ignore&#x27;),\n",
       "                                 &lt;sklearn.compose._column_transformer.make_column_selector object at 0x7f7e38bab460&gt;)],\n",
       "                  verbose_feature_names_out=False)</pre></div></div></div><div class=\"sk-parallel\"><div class=\"sk-parallel-item\"><div class=\"sk-item\"><div class=\"sk-label-container\"><div class=\"sk-label sk-toggleable\"><input class=\"sk-toggleable__control sk-hidden--visually\" id=\"a96e584d-29f0-458e-826a-5d9ffe56eeaa\" type=\"checkbox\" ><label for=\"a96e584d-29f0-458e-826a-5d9ffe56eeaa\" class=\"sk-toggleable__label sk-toggleable__label-arrow\">onehotencoder</label><div class=\"sk-toggleable__content\"><pre>&lt;sklearn.compose._column_transformer.make_column_selector object at 0x7f7e38bab460&gt;</pre></div></div></div><div class=\"sk-serial\"><div class=\"sk-item\"><div class=\"sk-estimator sk-toggleable\"><input class=\"sk-toggleable__control sk-hidden--visually\" id=\"335befd5-e162-4a35-b01f-82e49c6b7a92\" type=\"checkbox\" ><label for=\"335befd5-e162-4a35-b01f-82e49c6b7a92\" class=\"sk-toggleable__label sk-toggleable__label-arrow\">OneHotEncoder</label><div class=\"sk-toggleable__content\"><pre>OneHotEncoder(handle_unknown=&#x27;ignore&#x27;)</pre></div></div></div></div></div></div><div class=\"sk-parallel-item\"><div class=\"sk-item\"><div class=\"sk-label-container\"><div class=\"sk-label sk-toggleable\"><input class=\"sk-toggleable__control sk-hidden--visually\" id=\"b6b1be80-7504-4803-8f76-53e56a5e28e3\" type=\"checkbox\" ><label for=\"b6b1be80-7504-4803-8f76-53e56a5e28e3\" class=\"sk-toggleable__label sk-toggleable__label-arrow\">remainder</label><div class=\"sk-toggleable__content\"><pre></pre></div></div></div><div class=\"sk-serial\"><div class=\"sk-item\"><div class=\"sk-estimator sk-toggleable\"><input class=\"sk-toggleable__control sk-hidden--visually\" id=\"a2f042eb-0419-43ea-b890-523e0d6051a5\" type=\"checkbox\" ><label for=\"a2f042eb-0419-43ea-b890-523e0d6051a5\" class=\"sk-toggleable__label sk-toggleable__label-arrow\">passthrough</label><div class=\"sk-toggleable__content\"><pre>passthrough</pre></div></div></div></div></div></div></div></div><div class=\"sk-item\"><div class=\"sk-estimator sk-toggleable\"><input class=\"sk-toggleable__control sk-hidden--visually\" id=\"5fe33920-af34-4f76-a20b-d8e7ac137838\" type=\"checkbox\" ><label for=\"5fe33920-af34-4f76-a20b-d8e7ac137838\" class=\"sk-toggleable__label sk-toggleable__label-arrow\">StandardScaler</label><div class=\"sk-toggleable__content\"><pre>StandardScaler(with_mean=False)</pre></div></div></div><div class=\"sk-item\"><div class=\"sk-estimator sk-toggleable\"><input class=\"sk-toggleable__control sk-hidden--visually\" id=\"40ef3351-0e91-4b9b-a453-266804e42f1c\" type=\"checkbox\" ><label for=\"40ef3351-0e91-4b9b-a453-266804e42f1c\" class=\"sk-toggleable__label sk-toggleable__label-arrow\">Ridge</label><div class=\"sk-toggleable__content\"><pre>Ridge()</pre></div></div></div></div></div></div></div></div></div></div></div></div>"
      ],
      "text/plain": [
       "GridSearchCV(estimator=Pipeline(steps=[('columntransformer',\n",
       "                                        ColumnTransformer(remainder='passthrough',\n",
       "                                                          transformers=[('onehotencoder',\n",
       "                                                                         OneHotEncoder(handle_unknown='ignore'),\n",
       "                                                                         <sklearn.compose._column_transformer.make_column_selector object at 0x7f7e38bab460>)],\n",
       "                                                          verbose_feature_names_out=False)),\n",
       "                                       ('standardscaler',\n",
       "                                        StandardScaler(with_mean=False)),\n",
       "                                       ('ridge', Ridge())]),\n",
       "             n_jobs=-1,\n",
       "             param_grid={'ridge__alpha': [0.01, 0.1, 1, 10, 100],\n",
       "                         'ridge__max_iter': [100000]})"
      ]
     },
     "execution_count": 437,
     "metadata": {},
     "output_type": "execute_result"
    }
   ],
   "source": [
    "gs2 = GridSearchCV(pipe5, params, n_jobs=-1)\n",
    "gs2"
   ]
  },
  {
   "cell_type": "code",
   "execution_count": 438,
   "metadata": {},
   "outputs": [
    {
     "data": {
      "text/plain": [
       "0.8667845607423209"
      ]
     },
     "execution_count": 438,
     "metadata": {},
     "output_type": "execute_result"
    }
   ],
   "source": [
    "gs2.fit(X_train, y_train)\n",
    "gs2.score(X_test, y_test)"
   ]
  },
  {
   "cell_type": "code",
   "execution_count": 439,
   "metadata": {},
   "outputs": [
    {
     "data": {
      "text/plain": [
       "32443.428130008357"
      ]
     },
     "execution_count": 439,
     "metadata": {},
     "output_type": "execute_result"
    }
   ],
   "source": [
    "preds = gs2.predict(X_test)\n",
    "mean_squared_error(y_test, preds, squared=False)"
   ]
  },
  {
   "cell_type": "markdown",
   "metadata": {},
   "source": [
    "### Kaggle submission"
   ]
  },
  {
   "cell_type": "code",
   "execution_count": 440,
   "metadata": {},
   "outputs": [],
   "source": [
    "test['SalePrice'] = gs2.predict(kaggle)"
   ]
  },
  {
   "cell_type": "code",
   "execution_count": 441,
   "metadata": {},
   "outputs": [],
   "source": [
    "test[['Id', 'SalePrice']].to_csv('../data/submission_all_EDA_ridge.csv', index=False)"
   ]
  }
 ],
 "metadata": {
  "interpreter": {
   "hash": "f7a0f9bb49171c226bccce8a0987518af550515ba22b4949d7abe766c3680a51"
  },
  "kernelspec": {
   "display_name": "Python 3.9.7 64-bit ('base': conda)",
   "language": "python",
   "name": "python3"
  },
  "language_info": {
   "codemirror_mode": {
    "name": "ipython",
    "version": 3
   },
   "file_extension": ".py",
   "mimetype": "text/x-python",
   "name": "python",
   "nbconvert_exporter": "python",
   "pygments_lexer": "ipython3",
   "version": "3.9.7"
  },
  "orig_nbformat": 4
 },
 "nbformat": 4,
 "nbformat_minor": 2
}
