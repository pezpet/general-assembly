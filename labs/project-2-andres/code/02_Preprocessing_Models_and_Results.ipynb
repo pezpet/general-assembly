{
 "cells": [
  {
   "cell_type": "markdown",
   "metadata": {},
   "source": [
    "# Preprocessing, Models and Results - Ames Housing Data\n",
    "\n",
    "Having cleaned and selected preliminary features, in this notebook we prepare the data for modeling, and model and score using Linear Regression, Lasso and Ridge."
   ]
  },
  {
   "cell_type": "markdown",
   "metadata": {},
   "source": [
    "## Import Data from EDA"
   ]
  },
  {
   "cell_type": "code",
   "execution_count": 500,
   "metadata": {},
   "outputs": [],
   "source": [
    "# Import the usual suspects\n",
    "import pandas as pd\n",
    "import numpy as np\n",
    "import matplotlib.pyplot as plt\n",
    "import seaborn as sns\n",
    "\n",
    "from sklearn.preprocessing import StandardScaler, OneHotEncoder, PolynomialFeatures\n",
    "from sklearn.linear_model import LinearRegression, Lasso, Ridge\n",
    "from sklearn.model_selection import train_test_split, GridSearchCV\n",
    "from sklearn.metrics import mean_squared_error\n",
    "from sklearn.compose import make_column_transformer, make_column_selector\n",
    "from sklearn.pipeline import make_pipeline\n",
    "from sklearn import set_config\n",
    "set_config(display='diagram')"
   ]
  },
  {
   "cell_type": "code",
   "execution_count": 443,
   "metadata": {},
   "outputs": [],
   "source": [
    "train = pd.read_csv('../data/train_cleaned.csv')\n",
    "train.drop(columns='Unnamed: 0', inplace=True)\n",
    "test = pd.read_csv('../data/test_cleaned.csv')\n",
    "test.drop(columns='Unnamed: 0', inplace=True)"
   ]
  },
  {
   "cell_type": "markdown",
   "metadata": {},
   "source": [
    "## Linear Regression Numericals\n",
    "\n",
    "Let's start with a simple Linear Regression on the numerical features selected in EDA. I will use this as my baseline model, using Root Mean Squared Error as score to align with Kaggle."
   ]
  },
  {
   "cell_type": "code",
   "execution_count": 444,
   "metadata": {},
   "outputs": [],
   "source": [
    "X = train[['Overall Qual', 'Gr Liv Area', 'Garage Area', 'Year Built', 'Year Remod/Add']]\n",
    "y = train['SalePrice']"
   ]
  },
  {
   "cell_type": "code",
   "execution_count": 445,
   "metadata": {},
   "outputs": [],
   "source": [
    "X_train, X_test, y_train, y_test = train_test_split(X, y, random_state=1331)"
   ]
  },
  {
   "cell_type": "code",
   "execution_count": 446,
   "metadata": {},
   "outputs": [
    {
     "data": {
      "text/html": [
       "<style>#sk-57f494e2-168d-4037-851b-42a91ff78727 {color: black;background-color: white;}#sk-57f494e2-168d-4037-851b-42a91ff78727 pre{padding: 0;}#sk-57f494e2-168d-4037-851b-42a91ff78727 div.sk-toggleable {background-color: white;}#sk-57f494e2-168d-4037-851b-42a91ff78727 label.sk-toggleable__label {cursor: pointer;display: block;width: 100%;margin-bottom: 0;padding: 0.3em;box-sizing: border-box;text-align: center;}#sk-57f494e2-168d-4037-851b-42a91ff78727 label.sk-toggleable__label-arrow:before {content: \"▸\";float: left;margin-right: 0.25em;color: #696969;}#sk-57f494e2-168d-4037-851b-42a91ff78727 label.sk-toggleable__label-arrow:hover:before {color: black;}#sk-57f494e2-168d-4037-851b-42a91ff78727 div.sk-estimator:hover label.sk-toggleable__label-arrow:before {color: black;}#sk-57f494e2-168d-4037-851b-42a91ff78727 div.sk-toggleable__content {max-height: 0;max-width: 0;overflow: hidden;text-align: left;background-color: #f0f8ff;}#sk-57f494e2-168d-4037-851b-42a91ff78727 div.sk-toggleable__content pre {margin: 0.2em;color: black;border-radius: 0.25em;background-color: #f0f8ff;}#sk-57f494e2-168d-4037-851b-42a91ff78727 input.sk-toggleable__control:checked~div.sk-toggleable__content {max-height: 200px;max-width: 100%;overflow: auto;}#sk-57f494e2-168d-4037-851b-42a91ff78727 input.sk-toggleable__control:checked~label.sk-toggleable__label-arrow:before {content: \"▾\";}#sk-57f494e2-168d-4037-851b-42a91ff78727 div.sk-estimator input.sk-toggleable__control:checked~label.sk-toggleable__label {background-color: #d4ebff;}#sk-57f494e2-168d-4037-851b-42a91ff78727 div.sk-label input.sk-toggleable__control:checked~label.sk-toggleable__label {background-color: #d4ebff;}#sk-57f494e2-168d-4037-851b-42a91ff78727 input.sk-hidden--visually {border: 0;clip: rect(1px 1px 1px 1px);clip: rect(1px, 1px, 1px, 1px);height: 1px;margin: -1px;overflow: hidden;padding: 0;position: absolute;width: 1px;}#sk-57f494e2-168d-4037-851b-42a91ff78727 div.sk-estimator {font-family: monospace;background-color: #f0f8ff;border: 1px dotted black;border-radius: 0.25em;box-sizing: border-box;margin-bottom: 0.5em;}#sk-57f494e2-168d-4037-851b-42a91ff78727 div.sk-estimator:hover {background-color: #d4ebff;}#sk-57f494e2-168d-4037-851b-42a91ff78727 div.sk-parallel-item::after {content: \"\";width: 100%;border-bottom: 1px solid gray;flex-grow: 1;}#sk-57f494e2-168d-4037-851b-42a91ff78727 div.sk-label:hover label.sk-toggleable__label {background-color: #d4ebff;}#sk-57f494e2-168d-4037-851b-42a91ff78727 div.sk-serial::before {content: \"\";position: absolute;border-left: 1px solid gray;box-sizing: border-box;top: 2em;bottom: 0;left: 50%;}#sk-57f494e2-168d-4037-851b-42a91ff78727 div.sk-serial {display: flex;flex-direction: column;align-items: center;background-color: white;padding-right: 0.2em;padding-left: 0.2em;}#sk-57f494e2-168d-4037-851b-42a91ff78727 div.sk-item {z-index: 1;}#sk-57f494e2-168d-4037-851b-42a91ff78727 div.sk-parallel {display: flex;align-items: stretch;justify-content: center;background-color: white;}#sk-57f494e2-168d-4037-851b-42a91ff78727 div.sk-parallel::before {content: \"\";position: absolute;border-left: 1px solid gray;box-sizing: border-box;top: 2em;bottom: 0;left: 50%;}#sk-57f494e2-168d-4037-851b-42a91ff78727 div.sk-parallel-item {display: flex;flex-direction: column;position: relative;background-color: white;}#sk-57f494e2-168d-4037-851b-42a91ff78727 div.sk-parallel-item:first-child::after {align-self: flex-end;width: 50%;}#sk-57f494e2-168d-4037-851b-42a91ff78727 div.sk-parallel-item:last-child::after {align-self: flex-start;width: 50%;}#sk-57f494e2-168d-4037-851b-42a91ff78727 div.sk-parallel-item:only-child::after {width: 0;}#sk-57f494e2-168d-4037-851b-42a91ff78727 div.sk-dashed-wrapped {border: 1px dashed gray;margin: 0 0.4em 0.5em 0.4em;box-sizing: border-box;padding-bottom: 0.4em;background-color: white;position: relative;}#sk-57f494e2-168d-4037-851b-42a91ff78727 div.sk-label label {font-family: monospace;font-weight: bold;background-color: white;display: inline-block;line-height: 1.2em;}#sk-57f494e2-168d-4037-851b-42a91ff78727 div.sk-label-container {position: relative;z-index: 2;text-align: center;}#sk-57f494e2-168d-4037-851b-42a91ff78727 div.sk-container {/* jupyter's `normalize.less` sets `[hidden] { display: none; }` but bootstrap.min.css set `[hidden] { display: none !important; }` so we also need the `!important` here to be able to override the default hidden behavior on the sphinx rendered scikit-learn.org. See: https://github.com/scikit-learn/scikit-learn/issues/21755 */display: inline-block !important;position: relative;}#sk-57f494e2-168d-4037-851b-42a91ff78727 div.sk-text-repr-fallback {display: none;}</style><div id=\"sk-57f494e2-168d-4037-851b-42a91ff78727\" class=\"sk-top-container\"><div class=\"sk-text-repr-fallback\"><pre>LinearRegression()</pre><b>Please rerun this cell to show the HTML repr or trust the notebook.</b></div><div class=\"sk-container\" hidden><div class=\"sk-item\"><div class=\"sk-estimator sk-toggleable\"><input class=\"sk-toggleable__control sk-hidden--visually\" id=\"65851c6a-1798-4583-91c9-fcd85416018a\" type=\"checkbox\" checked><label for=\"65851c6a-1798-4583-91c9-fcd85416018a\" class=\"sk-toggleable__label sk-toggleable__label-arrow\">LinearRegression</label><div class=\"sk-toggleable__content\"><pre>LinearRegression()</pre></div></div></div></div></div>"
      ],
      "text/plain": [
       "LinearRegression()"
      ]
     },
     "execution_count": 446,
     "metadata": {},
     "output_type": "execute_result"
    }
   ],
   "source": [
    "linreg = LinearRegression()\n",
    "linreg.fit(X_train, y_train)"
   ]
  },
  {
   "cell_type": "code",
   "execution_count": 447,
   "metadata": {},
   "outputs": [],
   "source": [
    "preds = linreg.predict(X_test)"
   ]
  },
  {
   "cell_type": "markdown",
   "metadata": {},
   "source": [
    "### Baseline RMSE"
   ]
  },
  {
   "cell_type": "code",
   "execution_count": 448,
   "metadata": {},
   "outputs": [
    {
     "data": {
      "text/plain": [
       "37279.67084087376"
      ]
     },
     "execution_count": 448,
     "metadata": {},
     "output_type": "execute_result"
    }
   ],
   "source": [
    "mean_squared_error(y_test, preds, squared=False)"
   ]
  },
  {
   "cell_type": "markdown",
   "metadata": {},
   "source": [
    "### Save Baseline for Kaggle submission"
   ]
  },
  {
   "cell_type": "code",
   "execution_count": 449,
   "metadata": {},
   "outputs": [],
   "source": [
    "test['SalePrice'] = linreg.predict(test[['Overall Qual', 'Gr Liv Area', 'Garage Area', 'Year Built', 'Year Remod/Add']])"
   ]
  },
  {
   "cell_type": "code",
   "execution_count": 450,
   "metadata": {},
   "outputs": [],
   "source": [
    "test[['Id', 'SalePrice']].to_csv('../data/submission_baseline.csv', index=False)"
   ]
  },
  {
   "cell_type": "markdown",
   "metadata": {},
   "source": [
    "## Location, Location, Location model\n",
    "Fit a Linear Regression using only the Neighborhoods features."
   ]
  },
  {
   "cell_type": "code",
   "execution_count": 451,
   "metadata": {},
   "outputs": [],
   "source": [
    "X = train[['Neighborhood']]\n",
    "y = train['SalePrice']\n",
    "kaggle = test[['Neighborhood']]"
   ]
  },
  {
   "cell_type": "code",
   "execution_count": 452,
   "metadata": {},
   "outputs": [],
   "source": [
    "X_train, X_test, y_train, y_test = train_test_split(X, y, random_state=1331)"
   ]
  },
  {
   "cell_type": "code",
   "execution_count": 453,
   "metadata": {},
   "outputs": [
    {
     "data": {
      "text/html": [
       "<style>#sk-53f6da4a-cb73-41ed-9108-cafc1c999a2b {color: black;background-color: white;}#sk-53f6da4a-cb73-41ed-9108-cafc1c999a2b pre{padding: 0;}#sk-53f6da4a-cb73-41ed-9108-cafc1c999a2b div.sk-toggleable {background-color: white;}#sk-53f6da4a-cb73-41ed-9108-cafc1c999a2b label.sk-toggleable__label {cursor: pointer;display: block;width: 100%;margin-bottom: 0;padding: 0.3em;box-sizing: border-box;text-align: center;}#sk-53f6da4a-cb73-41ed-9108-cafc1c999a2b label.sk-toggleable__label-arrow:before {content: \"▸\";float: left;margin-right: 0.25em;color: #696969;}#sk-53f6da4a-cb73-41ed-9108-cafc1c999a2b label.sk-toggleable__label-arrow:hover:before {color: black;}#sk-53f6da4a-cb73-41ed-9108-cafc1c999a2b div.sk-estimator:hover label.sk-toggleable__label-arrow:before {color: black;}#sk-53f6da4a-cb73-41ed-9108-cafc1c999a2b div.sk-toggleable__content {max-height: 0;max-width: 0;overflow: hidden;text-align: left;background-color: #f0f8ff;}#sk-53f6da4a-cb73-41ed-9108-cafc1c999a2b div.sk-toggleable__content pre {margin: 0.2em;color: black;border-radius: 0.25em;background-color: #f0f8ff;}#sk-53f6da4a-cb73-41ed-9108-cafc1c999a2b input.sk-toggleable__control:checked~div.sk-toggleable__content {max-height: 200px;max-width: 100%;overflow: auto;}#sk-53f6da4a-cb73-41ed-9108-cafc1c999a2b input.sk-toggleable__control:checked~label.sk-toggleable__label-arrow:before {content: \"▾\";}#sk-53f6da4a-cb73-41ed-9108-cafc1c999a2b div.sk-estimator input.sk-toggleable__control:checked~label.sk-toggleable__label {background-color: #d4ebff;}#sk-53f6da4a-cb73-41ed-9108-cafc1c999a2b div.sk-label input.sk-toggleable__control:checked~label.sk-toggleable__label {background-color: #d4ebff;}#sk-53f6da4a-cb73-41ed-9108-cafc1c999a2b input.sk-hidden--visually {border: 0;clip: rect(1px 1px 1px 1px);clip: rect(1px, 1px, 1px, 1px);height: 1px;margin: -1px;overflow: hidden;padding: 0;position: absolute;width: 1px;}#sk-53f6da4a-cb73-41ed-9108-cafc1c999a2b div.sk-estimator {font-family: monospace;background-color: #f0f8ff;border: 1px dotted black;border-radius: 0.25em;box-sizing: border-box;margin-bottom: 0.5em;}#sk-53f6da4a-cb73-41ed-9108-cafc1c999a2b div.sk-estimator:hover {background-color: #d4ebff;}#sk-53f6da4a-cb73-41ed-9108-cafc1c999a2b div.sk-parallel-item::after {content: \"\";width: 100%;border-bottom: 1px solid gray;flex-grow: 1;}#sk-53f6da4a-cb73-41ed-9108-cafc1c999a2b div.sk-label:hover label.sk-toggleable__label {background-color: #d4ebff;}#sk-53f6da4a-cb73-41ed-9108-cafc1c999a2b div.sk-serial::before {content: \"\";position: absolute;border-left: 1px solid gray;box-sizing: border-box;top: 2em;bottom: 0;left: 50%;}#sk-53f6da4a-cb73-41ed-9108-cafc1c999a2b div.sk-serial {display: flex;flex-direction: column;align-items: center;background-color: white;padding-right: 0.2em;padding-left: 0.2em;}#sk-53f6da4a-cb73-41ed-9108-cafc1c999a2b div.sk-item {z-index: 1;}#sk-53f6da4a-cb73-41ed-9108-cafc1c999a2b div.sk-parallel {display: flex;align-items: stretch;justify-content: center;background-color: white;}#sk-53f6da4a-cb73-41ed-9108-cafc1c999a2b div.sk-parallel::before {content: \"\";position: absolute;border-left: 1px solid gray;box-sizing: border-box;top: 2em;bottom: 0;left: 50%;}#sk-53f6da4a-cb73-41ed-9108-cafc1c999a2b div.sk-parallel-item {display: flex;flex-direction: column;position: relative;background-color: white;}#sk-53f6da4a-cb73-41ed-9108-cafc1c999a2b div.sk-parallel-item:first-child::after {align-self: flex-end;width: 50%;}#sk-53f6da4a-cb73-41ed-9108-cafc1c999a2b div.sk-parallel-item:last-child::after {align-self: flex-start;width: 50%;}#sk-53f6da4a-cb73-41ed-9108-cafc1c999a2b div.sk-parallel-item:only-child::after {width: 0;}#sk-53f6da4a-cb73-41ed-9108-cafc1c999a2b div.sk-dashed-wrapped {border: 1px dashed gray;margin: 0 0.4em 0.5em 0.4em;box-sizing: border-box;padding-bottom: 0.4em;background-color: white;position: relative;}#sk-53f6da4a-cb73-41ed-9108-cafc1c999a2b div.sk-label label {font-family: monospace;font-weight: bold;background-color: white;display: inline-block;line-height: 1.2em;}#sk-53f6da4a-cb73-41ed-9108-cafc1c999a2b div.sk-label-container {position: relative;z-index: 2;text-align: center;}#sk-53f6da4a-cb73-41ed-9108-cafc1c999a2b div.sk-container {/* jupyter's `normalize.less` sets `[hidden] { display: none; }` but bootstrap.min.css set `[hidden] { display: none !important; }` so we also need the `!important` here to be able to override the default hidden behavior on the sphinx rendered scikit-learn.org. See: https://github.com/scikit-learn/scikit-learn/issues/21755 */display: inline-block !important;position: relative;}#sk-53f6da4a-cb73-41ed-9108-cafc1c999a2b div.sk-text-repr-fallback {display: none;}</style><div id=\"sk-53f6da4a-cb73-41ed-9108-cafc1c999a2b\" class=\"sk-top-container\"><div class=\"sk-text-repr-fallback\"><pre>ColumnTransformer(remainder=&#x27;passthrough&#x27;,\n",
       "                  transformers=[(&#x27;onehotencoder&#x27;,\n",
       "                                 OneHotEncoder(handle_unknown=&#x27;ignore&#x27;),\n",
       "                                 &lt;sklearn.compose._column_transformer.make_column_selector object at 0x7f7e38b2bd60&gt;)],\n",
       "                  verbose_feature_names_out=False)</pre><b>Please rerun this cell to show the HTML repr or trust the notebook.</b></div><div class=\"sk-container\" hidden><div class=\"sk-item sk-dashed-wrapped\"><div class=\"sk-label-container\"><div class=\"sk-label sk-toggleable\"><input class=\"sk-toggleable__control sk-hidden--visually\" id=\"eee0d84e-86db-4916-a575-a5db67e4c8b2\" type=\"checkbox\" ><label for=\"eee0d84e-86db-4916-a575-a5db67e4c8b2\" class=\"sk-toggleable__label sk-toggleable__label-arrow\">ColumnTransformer</label><div class=\"sk-toggleable__content\"><pre>ColumnTransformer(remainder=&#x27;passthrough&#x27;,\n",
       "                  transformers=[(&#x27;onehotencoder&#x27;,\n",
       "                                 OneHotEncoder(handle_unknown=&#x27;ignore&#x27;),\n",
       "                                 &lt;sklearn.compose._column_transformer.make_column_selector object at 0x7f7e38b2bd60&gt;)],\n",
       "                  verbose_feature_names_out=False)</pre></div></div></div><div class=\"sk-parallel\"><div class=\"sk-parallel-item\"><div class=\"sk-item\"><div class=\"sk-label-container\"><div class=\"sk-label sk-toggleable\"><input class=\"sk-toggleable__control sk-hidden--visually\" id=\"70a64a48-8225-4f66-aac5-e8d63b285732\" type=\"checkbox\" ><label for=\"70a64a48-8225-4f66-aac5-e8d63b285732\" class=\"sk-toggleable__label sk-toggleable__label-arrow\">onehotencoder</label><div class=\"sk-toggleable__content\"><pre>&lt;sklearn.compose._column_transformer.make_column_selector object at 0x7f7e38b2bd60&gt;</pre></div></div></div><div class=\"sk-serial\"><div class=\"sk-item\"><div class=\"sk-estimator sk-toggleable\"><input class=\"sk-toggleable__control sk-hidden--visually\" id=\"63be1ece-5894-435f-adf6-a7b418c219fe\" type=\"checkbox\" ><label for=\"63be1ece-5894-435f-adf6-a7b418c219fe\" class=\"sk-toggleable__label sk-toggleable__label-arrow\">OneHotEncoder</label><div class=\"sk-toggleable__content\"><pre>OneHotEncoder(handle_unknown=&#x27;ignore&#x27;)</pre></div></div></div></div></div></div><div class=\"sk-parallel-item\"><div class=\"sk-item\"><div class=\"sk-label-container\"><div class=\"sk-label sk-toggleable\"><input class=\"sk-toggleable__control sk-hidden--visually\" id=\"af1db832-cb13-42cd-888b-5dff7b79269f\" type=\"checkbox\" ><label for=\"af1db832-cb13-42cd-888b-5dff7b79269f\" class=\"sk-toggleable__label sk-toggleable__label-arrow\">remainder</label><div class=\"sk-toggleable__content\"><pre></pre></div></div></div><div class=\"sk-serial\"><div class=\"sk-item\"><div class=\"sk-estimator sk-toggleable\"><input class=\"sk-toggleable__control sk-hidden--visually\" id=\"8ef7d8af-623a-41ce-b60b-13cad1229ffb\" type=\"checkbox\" ><label for=\"8ef7d8af-623a-41ce-b60b-13cad1229ffb\" class=\"sk-toggleable__label sk-toggleable__label-arrow\">passthrough</label><div class=\"sk-toggleable__content\"><pre>passthrough</pre></div></div></div></div></div></div></div></div></div></div>"
      ],
      "text/plain": [
       "ColumnTransformer(remainder='passthrough',\n",
       "                  transformers=[('onehotencoder',\n",
       "                                 OneHotEncoder(handle_unknown='ignore'),\n",
       "                                 <sklearn.compose._column_transformer.make_column_selector object at 0x7f7e38b2bd60>)],\n",
       "                  verbose_feature_names_out=False)"
      ]
     },
     "execution_count": 453,
     "metadata": {},
     "output_type": "execute_result"
    }
   ],
   "source": [
    "ct = make_column_transformer(\n",
    "    (OneHotEncoder(handle_unknown='ignore'), make_column_selector(dtype_include=object)),\n",
    "    remainder='passthrough',\n",
    "    verbose_feature_names_out=False\n",
    ")\n",
    "ct"
   ]
  },
  {
   "cell_type": "code",
   "execution_count": 454,
   "metadata": {},
   "outputs": [
    {
     "data": {
      "text/html": [
       "<style>#sk-1bddeb59-711c-47e2-a254-83d6bfcd6d32 {color: black;background-color: white;}#sk-1bddeb59-711c-47e2-a254-83d6bfcd6d32 pre{padding: 0;}#sk-1bddeb59-711c-47e2-a254-83d6bfcd6d32 div.sk-toggleable {background-color: white;}#sk-1bddeb59-711c-47e2-a254-83d6bfcd6d32 label.sk-toggleable__label {cursor: pointer;display: block;width: 100%;margin-bottom: 0;padding: 0.3em;box-sizing: border-box;text-align: center;}#sk-1bddeb59-711c-47e2-a254-83d6bfcd6d32 label.sk-toggleable__label-arrow:before {content: \"▸\";float: left;margin-right: 0.25em;color: #696969;}#sk-1bddeb59-711c-47e2-a254-83d6bfcd6d32 label.sk-toggleable__label-arrow:hover:before {color: black;}#sk-1bddeb59-711c-47e2-a254-83d6bfcd6d32 div.sk-estimator:hover label.sk-toggleable__label-arrow:before {color: black;}#sk-1bddeb59-711c-47e2-a254-83d6bfcd6d32 div.sk-toggleable__content {max-height: 0;max-width: 0;overflow: hidden;text-align: left;background-color: #f0f8ff;}#sk-1bddeb59-711c-47e2-a254-83d6bfcd6d32 div.sk-toggleable__content pre {margin: 0.2em;color: black;border-radius: 0.25em;background-color: #f0f8ff;}#sk-1bddeb59-711c-47e2-a254-83d6bfcd6d32 input.sk-toggleable__control:checked~div.sk-toggleable__content {max-height: 200px;max-width: 100%;overflow: auto;}#sk-1bddeb59-711c-47e2-a254-83d6bfcd6d32 input.sk-toggleable__control:checked~label.sk-toggleable__label-arrow:before {content: \"▾\";}#sk-1bddeb59-711c-47e2-a254-83d6bfcd6d32 div.sk-estimator input.sk-toggleable__control:checked~label.sk-toggleable__label {background-color: #d4ebff;}#sk-1bddeb59-711c-47e2-a254-83d6bfcd6d32 div.sk-label input.sk-toggleable__control:checked~label.sk-toggleable__label {background-color: #d4ebff;}#sk-1bddeb59-711c-47e2-a254-83d6bfcd6d32 input.sk-hidden--visually {border: 0;clip: rect(1px 1px 1px 1px);clip: rect(1px, 1px, 1px, 1px);height: 1px;margin: -1px;overflow: hidden;padding: 0;position: absolute;width: 1px;}#sk-1bddeb59-711c-47e2-a254-83d6bfcd6d32 div.sk-estimator {font-family: monospace;background-color: #f0f8ff;border: 1px dotted black;border-radius: 0.25em;box-sizing: border-box;margin-bottom: 0.5em;}#sk-1bddeb59-711c-47e2-a254-83d6bfcd6d32 div.sk-estimator:hover {background-color: #d4ebff;}#sk-1bddeb59-711c-47e2-a254-83d6bfcd6d32 div.sk-parallel-item::after {content: \"\";width: 100%;border-bottom: 1px solid gray;flex-grow: 1;}#sk-1bddeb59-711c-47e2-a254-83d6bfcd6d32 div.sk-label:hover label.sk-toggleable__label {background-color: #d4ebff;}#sk-1bddeb59-711c-47e2-a254-83d6bfcd6d32 div.sk-serial::before {content: \"\";position: absolute;border-left: 1px solid gray;box-sizing: border-box;top: 2em;bottom: 0;left: 50%;}#sk-1bddeb59-711c-47e2-a254-83d6bfcd6d32 div.sk-serial {display: flex;flex-direction: column;align-items: center;background-color: white;padding-right: 0.2em;padding-left: 0.2em;}#sk-1bddeb59-711c-47e2-a254-83d6bfcd6d32 div.sk-item {z-index: 1;}#sk-1bddeb59-711c-47e2-a254-83d6bfcd6d32 div.sk-parallel {display: flex;align-items: stretch;justify-content: center;background-color: white;}#sk-1bddeb59-711c-47e2-a254-83d6bfcd6d32 div.sk-parallel::before {content: \"\";position: absolute;border-left: 1px solid gray;box-sizing: border-box;top: 2em;bottom: 0;left: 50%;}#sk-1bddeb59-711c-47e2-a254-83d6bfcd6d32 div.sk-parallel-item {display: flex;flex-direction: column;position: relative;background-color: white;}#sk-1bddeb59-711c-47e2-a254-83d6bfcd6d32 div.sk-parallel-item:first-child::after {align-self: flex-end;width: 50%;}#sk-1bddeb59-711c-47e2-a254-83d6bfcd6d32 div.sk-parallel-item:last-child::after {align-self: flex-start;width: 50%;}#sk-1bddeb59-711c-47e2-a254-83d6bfcd6d32 div.sk-parallel-item:only-child::after {width: 0;}#sk-1bddeb59-711c-47e2-a254-83d6bfcd6d32 div.sk-dashed-wrapped {border: 1px dashed gray;margin: 0 0.4em 0.5em 0.4em;box-sizing: border-box;padding-bottom: 0.4em;background-color: white;position: relative;}#sk-1bddeb59-711c-47e2-a254-83d6bfcd6d32 div.sk-label label {font-family: monospace;font-weight: bold;background-color: white;display: inline-block;line-height: 1.2em;}#sk-1bddeb59-711c-47e2-a254-83d6bfcd6d32 div.sk-label-container {position: relative;z-index: 2;text-align: center;}#sk-1bddeb59-711c-47e2-a254-83d6bfcd6d32 div.sk-container {/* jupyter's `normalize.less` sets `[hidden] { display: none; }` but bootstrap.min.css set `[hidden] { display: none !important; }` so we also need the `!important` here to be able to override the default hidden behavior on the sphinx rendered scikit-learn.org. See: https://github.com/scikit-learn/scikit-learn/issues/21755 */display: inline-block !important;position: relative;}#sk-1bddeb59-711c-47e2-a254-83d6bfcd6d32 div.sk-text-repr-fallback {display: none;}</style><div id=\"sk-1bddeb59-711c-47e2-a254-83d6bfcd6d32\" class=\"sk-top-container\"><div class=\"sk-text-repr-fallback\"><pre>Pipeline(steps=[(&#x27;columntransformer&#x27;,\n",
       "                 ColumnTransformer(remainder=&#x27;passthrough&#x27;,\n",
       "                                   transformers=[(&#x27;onehotencoder&#x27;,\n",
       "                                                  OneHotEncoder(handle_unknown=&#x27;ignore&#x27;),\n",
       "                                                  &lt;sklearn.compose._column_transformer.make_column_selector object at 0x7f7e38b2bd60&gt;)],\n",
       "                                   verbose_feature_names_out=False)),\n",
       "                (&#x27;standardscaler&#x27;, StandardScaler(with_mean=False)),\n",
       "                (&#x27;linearregression&#x27;, LinearRegression())])</pre><b>Please rerun this cell to show the HTML repr or trust the notebook.</b></div><div class=\"sk-container\" hidden><div class=\"sk-item sk-dashed-wrapped\"><div class=\"sk-label-container\"><div class=\"sk-label sk-toggleable\"><input class=\"sk-toggleable__control sk-hidden--visually\" id=\"72ee3213-89cd-4a25-9c5c-d3e9aee56961\" type=\"checkbox\" ><label for=\"72ee3213-89cd-4a25-9c5c-d3e9aee56961\" class=\"sk-toggleable__label sk-toggleable__label-arrow\">Pipeline</label><div class=\"sk-toggleable__content\"><pre>Pipeline(steps=[(&#x27;columntransformer&#x27;,\n",
       "                 ColumnTransformer(remainder=&#x27;passthrough&#x27;,\n",
       "                                   transformers=[(&#x27;onehotencoder&#x27;,\n",
       "                                                  OneHotEncoder(handle_unknown=&#x27;ignore&#x27;),\n",
       "                                                  &lt;sklearn.compose._column_transformer.make_column_selector object at 0x7f7e38b2bd60&gt;)],\n",
       "                                   verbose_feature_names_out=False)),\n",
       "                (&#x27;standardscaler&#x27;, StandardScaler(with_mean=False)),\n",
       "                (&#x27;linearregression&#x27;, LinearRegression())])</pre></div></div></div><div class=\"sk-serial\"><div class=\"sk-item sk-dashed-wrapped\"><div class=\"sk-label-container\"><div class=\"sk-label sk-toggleable\"><input class=\"sk-toggleable__control sk-hidden--visually\" id=\"b250079b-1be7-4b99-b8b6-401a08f2e068\" type=\"checkbox\" ><label for=\"b250079b-1be7-4b99-b8b6-401a08f2e068\" class=\"sk-toggleable__label sk-toggleable__label-arrow\">columntransformer: ColumnTransformer</label><div class=\"sk-toggleable__content\"><pre>ColumnTransformer(remainder=&#x27;passthrough&#x27;,\n",
       "                  transformers=[(&#x27;onehotencoder&#x27;,\n",
       "                                 OneHotEncoder(handle_unknown=&#x27;ignore&#x27;),\n",
       "                                 &lt;sklearn.compose._column_transformer.make_column_selector object at 0x7f7e38b2bd60&gt;)],\n",
       "                  verbose_feature_names_out=False)</pre></div></div></div><div class=\"sk-parallel\"><div class=\"sk-parallel-item\"><div class=\"sk-item\"><div class=\"sk-label-container\"><div class=\"sk-label sk-toggleable\"><input class=\"sk-toggleable__control sk-hidden--visually\" id=\"6669ee13-fb25-476e-b17f-715f4d79c56c\" type=\"checkbox\" ><label for=\"6669ee13-fb25-476e-b17f-715f4d79c56c\" class=\"sk-toggleable__label sk-toggleable__label-arrow\">onehotencoder</label><div class=\"sk-toggleable__content\"><pre>&lt;sklearn.compose._column_transformer.make_column_selector object at 0x7f7e38b2bd60&gt;</pre></div></div></div><div class=\"sk-serial\"><div class=\"sk-item\"><div class=\"sk-estimator sk-toggleable\"><input class=\"sk-toggleable__control sk-hidden--visually\" id=\"578e916d-d7e3-4b3d-b0b1-ced91b89721f\" type=\"checkbox\" ><label for=\"578e916d-d7e3-4b3d-b0b1-ced91b89721f\" class=\"sk-toggleable__label sk-toggleable__label-arrow\">OneHotEncoder</label><div class=\"sk-toggleable__content\"><pre>OneHotEncoder(handle_unknown=&#x27;ignore&#x27;)</pre></div></div></div></div></div></div><div class=\"sk-parallel-item\"><div class=\"sk-item\"><div class=\"sk-label-container\"><div class=\"sk-label sk-toggleable\"><input class=\"sk-toggleable__control sk-hidden--visually\" id=\"79821bdd-49ac-4878-b38a-0bd1a526bac3\" type=\"checkbox\" ><label for=\"79821bdd-49ac-4878-b38a-0bd1a526bac3\" class=\"sk-toggleable__label sk-toggleable__label-arrow\">remainder</label><div class=\"sk-toggleable__content\"><pre></pre></div></div></div><div class=\"sk-serial\"><div class=\"sk-item\"><div class=\"sk-estimator sk-toggleable\"><input class=\"sk-toggleable__control sk-hidden--visually\" id=\"d9ec4a68-9cdd-4cdf-80f0-8664d683e811\" type=\"checkbox\" ><label for=\"d9ec4a68-9cdd-4cdf-80f0-8664d683e811\" class=\"sk-toggleable__label sk-toggleable__label-arrow\">passthrough</label><div class=\"sk-toggleable__content\"><pre>passthrough</pre></div></div></div></div></div></div></div></div><div class=\"sk-item\"><div class=\"sk-estimator sk-toggleable\"><input class=\"sk-toggleable__control sk-hidden--visually\" id=\"444f9d87-45b3-4674-bcbd-3d3d53c299be\" type=\"checkbox\" ><label for=\"444f9d87-45b3-4674-bcbd-3d3d53c299be\" class=\"sk-toggleable__label sk-toggleable__label-arrow\">StandardScaler</label><div class=\"sk-toggleable__content\"><pre>StandardScaler(with_mean=False)</pre></div></div></div><div class=\"sk-item\"><div class=\"sk-estimator sk-toggleable\"><input class=\"sk-toggleable__control sk-hidden--visually\" id=\"9e7d392c-b87a-46fa-9f01-df2ae141c83f\" type=\"checkbox\" ><label for=\"9e7d392c-b87a-46fa-9f01-df2ae141c83f\" class=\"sk-toggleable__label sk-toggleable__label-arrow\">LinearRegression</label><div class=\"sk-toggleable__content\"><pre>LinearRegression()</pre></div></div></div></div></div></div></div>"
      ],
      "text/plain": [
       "Pipeline(steps=[('columntransformer',\n",
       "                 ColumnTransformer(remainder='passthrough',\n",
       "                                   transformers=[('onehotencoder',\n",
       "                                                  OneHotEncoder(handle_unknown='ignore'),\n",
       "                                                  <sklearn.compose._column_transformer.make_column_selector object at 0x7f7e38b2bd60>)],\n",
       "                                   verbose_feature_names_out=False)),\n",
       "                ('standardscaler', StandardScaler(with_mean=False)),\n",
       "                ('linearregression', LinearRegression())])"
      ]
     },
     "execution_count": 454,
     "metadata": {},
     "output_type": "execute_result"
    }
   ],
   "source": [
    "pipe = make_pipeline(ct, StandardScaler(with_mean=False), LinearRegression())\n",
    "pipe"
   ]
  },
  {
   "cell_type": "code",
   "execution_count": 455,
   "metadata": {},
   "outputs": [
    {
     "data": {
      "text/html": [
       "<style>#sk-e1534fc8-371f-4490-a6c8-64c890315298 {color: black;background-color: white;}#sk-e1534fc8-371f-4490-a6c8-64c890315298 pre{padding: 0;}#sk-e1534fc8-371f-4490-a6c8-64c890315298 div.sk-toggleable {background-color: white;}#sk-e1534fc8-371f-4490-a6c8-64c890315298 label.sk-toggleable__label {cursor: pointer;display: block;width: 100%;margin-bottom: 0;padding: 0.3em;box-sizing: border-box;text-align: center;}#sk-e1534fc8-371f-4490-a6c8-64c890315298 label.sk-toggleable__label-arrow:before {content: \"▸\";float: left;margin-right: 0.25em;color: #696969;}#sk-e1534fc8-371f-4490-a6c8-64c890315298 label.sk-toggleable__label-arrow:hover:before {color: black;}#sk-e1534fc8-371f-4490-a6c8-64c890315298 div.sk-estimator:hover label.sk-toggleable__label-arrow:before {color: black;}#sk-e1534fc8-371f-4490-a6c8-64c890315298 div.sk-toggleable__content {max-height: 0;max-width: 0;overflow: hidden;text-align: left;background-color: #f0f8ff;}#sk-e1534fc8-371f-4490-a6c8-64c890315298 div.sk-toggleable__content pre {margin: 0.2em;color: black;border-radius: 0.25em;background-color: #f0f8ff;}#sk-e1534fc8-371f-4490-a6c8-64c890315298 input.sk-toggleable__control:checked~div.sk-toggleable__content {max-height: 200px;max-width: 100%;overflow: auto;}#sk-e1534fc8-371f-4490-a6c8-64c890315298 input.sk-toggleable__control:checked~label.sk-toggleable__label-arrow:before {content: \"▾\";}#sk-e1534fc8-371f-4490-a6c8-64c890315298 div.sk-estimator input.sk-toggleable__control:checked~label.sk-toggleable__label {background-color: #d4ebff;}#sk-e1534fc8-371f-4490-a6c8-64c890315298 div.sk-label input.sk-toggleable__control:checked~label.sk-toggleable__label {background-color: #d4ebff;}#sk-e1534fc8-371f-4490-a6c8-64c890315298 input.sk-hidden--visually {border: 0;clip: rect(1px 1px 1px 1px);clip: rect(1px, 1px, 1px, 1px);height: 1px;margin: -1px;overflow: hidden;padding: 0;position: absolute;width: 1px;}#sk-e1534fc8-371f-4490-a6c8-64c890315298 div.sk-estimator {font-family: monospace;background-color: #f0f8ff;border: 1px dotted black;border-radius: 0.25em;box-sizing: border-box;margin-bottom: 0.5em;}#sk-e1534fc8-371f-4490-a6c8-64c890315298 div.sk-estimator:hover {background-color: #d4ebff;}#sk-e1534fc8-371f-4490-a6c8-64c890315298 div.sk-parallel-item::after {content: \"\";width: 100%;border-bottom: 1px solid gray;flex-grow: 1;}#sk-e1534fc8-371f-4490-a6c8-64c890315298 div.sk-label:hover label.sk-toggleable__label {background-color: #d4ebff;}#sk-e1534fc8-371f-4490-a6c8-64c890315298 div.sk-serial::before {content: \"\";position: absolute;border-left: 1px solid gray;box-sizing: border-box;top: 2em;bottom: 0;left: 50%;}#sk-e1534fc8-371f-4490-a6c8-64c890315298 div.sk-serial {display: flex;flex-direction: column;align-items: center;background-color: white;padding-right: 0.2em;padding-left: 0.2em;}#sk-e1534fc8-371f-4490-a6c8-64c890315298 div.sk-item {z-index: 1;}#sk-e1534fc8-371f-4490-a6c8-64c890315298 div.sk-parallel {display: flex;align-items: stretch;justify-content: center;background-color: white;}#sk-e1534fc8-371f-4490-a6c8-64c890315298 div.sk-parallel::before {content: \"\";position: absolute;border-left: 1px solid gray;box-sizing: border-box;top: 2em;bottom: 0;left: 50%;}#sk-e1534fc8-371f-4490-a6c8-64c890315298 div.sk-parallel-item {display: flex;flex-direction: column;position: relative;background-color: white;}#sk-e1534fc8-371f-4490-a6c8-64c890315298 div.sk-parallel-item:first-child::after {align-self: flex-end;width: 50%;}#sk-e1534fc8-371f-4490-a6c8-64c890315298 div.sk-parallel-item:last-child::after {align-self: flex-start;width: 50%;}#sk-e1534fc8-371f-4490-a6c8-64c890315298 div.sk-parallel-item:only-child::after {width: 0;}#sk-e1534fc8-371f-4490-a6c8-64c890315298 div.sk-dashed-wrapped {border: 1px dashed gray;margin: 0 0.4em 0.5em 0.4em;box-sizing: border-box;padding-bottom: 0.4em;background-color: white;position: relative;}#sk-e1534fc8-371f-4490-a6c8-64c890315298 div.sk-label label {font-family: monospace;font-weight: bold;background-color: white;display: inline-block;line-height: 1.2em;}#sk-e1534fc8-371f-4490-a6c8-64c890315298 div.sk-label-container {position: relative;z-index: 2;text-align: center;}#sk-e1534fc8-371f-4490-a6c8-64c890315298 div.sk-container {/* jupyter's `normalize.less` sets `[hidden] { display: none; }` but bootstrap.min.css set `[hidden] { display: none !important; }` so we also need the `!important` here to be able to override the default hidden behavior on the sphinx rendered scikit-learn.org. See: https://github.com/scikit-learn/scikit-learn/issues/21755 */display: inline-block !important;position: relative;}#sk-e1534fc8-371f-4490-a6c8-64c890315298 div.sk-text-repr-fallback {display: none;}</style><div id=\"sk-e1534fc8-371f-4490-a6c8-64c890315298\" class=\"sk-top-container\"><div class=\"sk-text-repr-fallback\"><pre>Pipeline(steps=[(&#x27;columntransformer&#x27;,\n",
       "                 ColumnTransformer(remainder=&#x27;passthrough&#x27;,\n",
       "                                   transformers=[(&#x27;onehotencoder&#x27;,\n",
       "                                                  OneHotEncoder(handle_unknown=&#x27;ignore&#x27;),\n",
       "                                                  &lt;sklearn.compose._column_transformer.make_column_selector object at 0x7f7e38b2bd60&gt;)],\n",
       "                                   verbose_feature_names_out=False)),\n",
       "                (&#x27;standardscaler&#x27;, StandardScaler(with_mean=False)),\n",
       "                (&#x27;linearregression&#x27;, LinearRegression())])</pre><b>Please rerun this cell to show the HTML repr or trust the notebook.</b></div><div class=\"sk-container\" hidden><div class=\"sk-item sk-dashed-wrapped\"><div class=\"sk-label-container\"><div class=\"sk-label sk-toggleable\"><input class=\"sk-toggleable__control sk-hidden--visually\" id=\"e5f38582-2960-46f6-a9e2-de066a01c332\" type=\"checkbox\" ><label for=\"e5f38582-2960-46f6-a9e2-de066a01c332\" class=\"sk-toggleable__label sk-toggleable__label-arrow\">Pipeline</label><div class=\"sk-toggleable__content\"><pre>Pipeline(steps=[(&#x27;columntransformer&#x27;,\n",
       "                 ColumnTransformer(remainder=&#x27;passthrough&#x27;,\n",
       "                                   transformers=[(&#x27;onehotencoder&#x27;,\n",
       "                                                  OneHotEncoder(handle_unknown=&#x27;ignore&#x27;),\n",
       "                                                  &lt;sklearn.compose._column_transformer.make_column_selector object at 0x7f7e38b2bd60&gt;)],\n",
       "                                   verbose_feature_names_out=False)),\n",
       "                (&#x27;standardscaler&#x27;, StandardScaler(with_mean=False)),\n",
       "                (&#x27;linearregression&#x27;, LinearRegression())])</pre></div></div></div><div class=\"sk-serial\"><div class=\"sk-item sk-dashed-wrapped\"><div class=\"sk-label-container\"><div class=\"sk-label sk-toggleable\"><input class=\"sk-toggleable__control sk-hidden--visually\" id=\"c4ffdc06-ef00-46d0-9998-e4550aa12bb1\" type=\"checkbox\" ><label for=\"c4ffdc06-ef00-46d0-9998-e4550aa12bb1\" class=\"sk-toggleable__label sk-toggleable__label-arrow\">columntransformer: ColumnTransformer</label><div class=\"sk-toggleable__content\"><pre>ColumnTransformer(remainder=&#x27;passthrough&#x27;,\n",
       "                  transformers=[(&#x27;onehotencoder&#x27;,\n",
       "                                 OneHotEncoder(handle_unknown=&#x27;ignore&#x27;),\n",
       "                                 &lt;sklearn.compose._column_transformer.make_column_selector object at 0x7f7e38b2bd60&gt;)],\n",
       "                  verbose_feature_names_out=False)</pre></div></div></div><div class=\"sk-parallel\"><div class=\"sk-parallel-item\"><div class=\"sk-item\"><div class=\"sk-label-container\"><div class=\"sk-label sk-toggleable\"><input class=\"sk-toggleable__control sk-hidden--visually\" id=\"98b6561c-52fb-4d3d-b43e-db5dd5a060ba\" type=\"checkbox\" ><label for=\"98b6561c-52fb-4d3d-b43e-db5dd5a060ba\" class=\"sk-toggleable__label sk-toggleable__label-arrow\">onehotencoder</label><div class=\"sk-toggleable__content\"><pre>&lt;sklearn.compose._column_transformer.make_column_selector object at 0x7f7e38b2bd60&gt;</pre></div></div></div><div class=\"sk-serial\"><div class=\"sk-item\"><div class=\"sk-estimator sk-toggleable\"><input class=\"sk-toggleable__control sk-hidden--visually\" id=\"653e5a2c-1a02-4aec-8102-ce877f875a27\" type=\"checkbox\" ><label for=\"653e5a2c-1a02-4aec-8102-ce877f875a27\" class=\"sk-toggleable__label sk-toggleable__label-arrow\">OneHotEncoder</label><div class=\"sk-toggleable__content\"><pre>OneHotEncoder(handle_unknown=&#x27;ignore&#x27;)</pre></div></div></div></div></div></div><div class=\"sk-parallel-item\"><div class=\"sk-item\"><div class=\"sk-label-container\"><div class=\"sk-label sk-toggleable\"><input class=\"sk-toggleable__control sk-hidden--visually\" id=\"9812e3d5-b1b5-49fa-aa10-10f00db6e2de\" type=\"checkbox\" ><label for=\"9812e3d5-b1b5-49fa-aa10-10f00db6e2de\" class=\"sk-toggleable__label sk-toggleable__label-arrow\">remainder</label><div class=\"sk-toggleable__content\"><pre>[]</pre></div></div></div><div class=\"sk-serial\"><div class=\"sk-item\"><div class=\"sk-estimator sk-toggleable\"><input class=\"sk-toggleable__control sk-hidden--visually\" id=\"6592597d-a09d-4636-a5a5-71e145dc6fee\" type=\"checkbox\" ><label for=\"6592597d-a09d-4636-a5a5-71e145dc6fee\" class=\"sk-toggleable__label sk-toggleable__label-arrow\">passthrough</label><div class=\"sk-toggleable__content\"><pre>passthrough</pre></div></div></div></div></div></div></div></div><div class=\"sk-item\"><div class=\"sk-estimator sk-toggleable\"><input class=\"sk-toggleable__control sk-hidden--visually\" id=\"444c35dd-4278-41a1-8e2e-52f75fe3d5b6\" type=\"checkbox\" ><label for=\"444c35dd-4278-41a1-8e2e-52f75fe3d5b6\" class=\"sk-toggleable__label sk-toggleable__label-arrow\">StandardScaler</label><div class=\"sk-toggleable__content\"><pre>StandardScaler(with_mean=False)</pre></div></div></div><div class=\"sk-item\"><div class=\"sk-estimator sk-toggleable\"><input class=\"sk-toggleable__control sk-hidden--visually\" id=\"12c92f3c-46b8-41f1-b4a1-d2399554734b\" type=\"checkbox\" ><label for=\"12c92f3c-46b8-41f1-b4a1-d2399554734b\" class=\"sk-toggleable__label sk-toggleable__label-arrow\">LinearRegression</label><div class=\"sk-toggleable__content\"><pre>LinearRegression()</pre></div></div></div></div></div></div></div>"
      ],
      "text/plain": [
       "Pipeline(steps=[('columntransformer',\n",
       "                 ColumnTransformer(remainder='passthrough',\n",
       "                                   transformers=[('onehotencoder',\n",
       "                                                  OneHotEncoder(handle_unknown='ignore'),\n",
       "                                                  <sklearn.compose._column_transformer.make_column_selector object at 0x7f7e38b2bd60>)],\n",
       "                                   verbose_feature_names_out=False)),\n",
       "                ('standardscaler', StandardScaler(with_mean=False)),\n",
       "                ('linearregression', LinearRegression())])"
      ]
     },
     "execution_count": 455,
     "metadata": {},
     "output_type": "execute_result"
    }
   ],
   "source": [
    "pipe.fit(X_train, y_train)"
   ]
  },
  {
   "cell_type": "code",
   "execution_count": 456,
   "metadata": {},
   "outputs": [
    {
     "data": {
      "text/plain": [
       "0.5985982825845704"
      ]
     },
     "execution_count": 456,
     "metadata": {},
     "output_type": "execute_result"
    }
   ],
   "source": [
    "pipe.score(X_test, y_test)"
   ]
  },
  {
   "cell_type": "code",
   "execution_count": 457,
   "metadata": {},
   "outputs": [],
   "source": [
    "preds = pipe.predict(X_test)"
   ]
  },
  {
   "cell_type": "code",
   "execution_count": 458,
   "metadata": {},
   "outputs": [
    {
     "data": {
      "text/plain": [
       "49726.203146518536"
      ]
     },
     "execution_count": 458,
     "metadata": {},
     "output_type": "execute_result"
    }
   ],
   "source": [
    "mean_squared_error(y_test, preds, squared=False\n",
    ")"
   ]
  },
  {
   "cell_type": "markdown",
   "metadata": {},
   "source": [
    "Our RMSE using only neighborhood is considerably worse than our baseline Linear Regression."
   ]
  },
  {
   "cell_type": "markdown",
   "metadata": {},
   "source": [
    "### Kaggle submission"
   ]
  },
  {
   "cell_type": "code",
   "execution_count": 459,
   "metadata": {},
   "outputs": [],
   "source": [
    "test['SalePrice'] = pipe.predict(kaggle)"
   ]
  },
  {
   "cell_type": "code",
   "execution_count": 460,
   "metadata": {},
   "outputs": [],
   "source": [
    "test[['Id', 'SalePrice']].to_csv('../data/submission_location_linreg.csv', index=False)"
   ]
  },
  {
   "cell_type": "markdown",
   "metadata": {},
   "source": [
    "## Incorporate all location proxies identified in EDA\n",
    "\n",
    "In addtion to the Neighborhoods feature, the following features were identified as location proxies in EDA:\n",
    "\n",
    "- Lot Shape\n",
    "- Lot Config\n",
    "- Condition 1\n",
    "- Condition 2"
   ]
  },
  {
   "cell_type": "code",
   "execution_count": 461,
   "metadata": {},
   "outputs": [],
   "source": [
    "X = train[['Lot Shape', 'Lot Config', 'Neighborhood', 'Condition 1', 'Condition 2']]\n",
    "y = train['SalePrice']\n",
    "kaggle = test[['Lot Shape', 'Lot Config', 'Neighborhood', 'Condition 1', 'Condition 2']]"
   ]
  },
  {
   "cell_type": "code",
   "execution_count": 462,
   "metadata": {},
   "outputs": [],
   "source": [
    "X_train, X_test, y_train, y_test = train_test_split(X, y, random_state=1331)"
   ]
  },
  {
   "cell_type": "code",
   "execution_count": 463,
   "metadata": {},
   "outputs": [
    {
     "data": {
      "text/html": [
       "<style>#sk-352e2130-8c4a-48e8-8690-16eb85ed828e {color: black;background-color: white;}#sk-352e2130-8c4a-48e8-8690-16eb85ed828e pre{padding: 0;}#sk-352e2130-8c4a-48e8-8690-16eb85ed828e div.sk-toggleable {background-color: white;}#sk-352e2130-8c4a-48e8-8690-16eb85ed828e label.sk-toggleable__label {cursor: pointer;display: block;width: 100%;margin-bottom: 0;padding: 0.3em;box-sizing: border-box;text-align: center;}#sk-352e2130-8c4a-48e8-8690-16eb85ed828e label.sk-toggleable__label-arrow:before {content: \"▸\";float: left;margin-right: 0.25em;color: #696969;}#sk-352e2130-8c4a-48e8-8690-16eb85ed828e label.sk-toggleable__label-arrow:hover:before {color: black;}#sk-352e2130-8c4a-48e8-8690-16eb85ed828e div.sk-estimator:hover label.sk-toggleable__label-arrow:before {color: black;}#sk-352e2130-8c4a-48e8-8690-16eb85ed828e div.sk-toggleable__content {max-height: 0;max-width: 0;overflow: hidden;text-align: left;background-color: #f0f8ff;}#sk-352e2130-8c4a-48e8-8690-16eb85ed828e div.sk-toggleable__content pre {margin: 0.2em;color: black;border-radius: 0.25em;background-color: #f0f8ff;}#sk-352e2130-8c4a-48e8-8690-16eb85ed828e input.sk-toggleable__control:checked~div.sk-toggleable__content {max-height: 200px;max-width: 100%;overflow: auto;}#sk-352e2130-8c4a-48e8-8690-16eb85ed828e input.sk-toggleable__control:checked~label.sk-toggleable__label-arrow:before {content: \"▾\";}#sk-352e2130-8c4a-48e8-8690-16eb85ed828e div.sk-estimator input.sk-toggleable__control:checked~label.sk-toggleable__label {background-color: #d4ebff;}#sk-352e2130-8c4a-48e8-8690-16eb85ed828e div.sk-label input.sk-toggleable__control:checked~label.sk-toggleable__label {background-color: #d4ebff;}#sk-352e2130-8c4a-48e8-8690-16eb85ed828e input.sk-hidden--visually {border: 0;clip: rect(1px 1px 1px 1px);clip: rect(1px, 1px, 1px, 1px);height: 1px;margin: -1px;overflow: hidden;padding: 0;position: absolute;width: 1px;}#sk-352e2130-8c4a-48e8-8690-16eb85ed828e div.sk-estimator {font-family: monospace;background-color: #f0f8ff;border: 1px dotted black;border-radius: 0.25em;box-sizing: border-box;margin-bottom: 0.5em;}#sk-352e2130-8c4a-48e8-8690-16eb85ed828e div.sk-estimator:hover {background-color: #d4ebff;}#sk-352e2130-8c4a-48e8-8690-16eb85ed828e div.sk-parallel-item::after {content: \"\";width: 100%;border-bottom: 1px solid gray;flex-grow: 1;}#sk-352e2130-8c4a-48e8-8690-16eb85ed828e div.sk-label:hover label.sk-toggleable__label {background-color: #d4ebff;}#sk-352e2130-8c4a-48e8-8690-16eb85ed828e div.sk-serial::before {content: \"\";position: absolute;border-left: 1px solid gray;box-sizing: border-box;top: 2em;bottom: 0;left: 50%;}#sk-352e2130-8c4a-48e8-8690-16eb85ed828e div.sk-serial {display: flex;flex-direction: column;align-items: center;background-color: white;padding-right: 0.2em;padding-left: 0.2em;}#sk-352e2130-8c4a-48e8-8690-16eb85ed828e div.sk-item {z-index: 1;}#sk-352e2130-8c4a-48e8-8690-16eb85ed828e div.sk-parallel {display: flex;align-items: stretch;justify-content: center;background-color: white;}#sk-352e2130-8c4a-48e8-8690-16eb85ed828e div.sk-parallel::before {content: \"\";position: absolute;border-left: 1px solid gray;box-sizing: border-box;top: 2em;bottom: 0;left: 50%;}#sk-352e2130-8c4a-48e8-8690-16eb85ed828e div.sk-parallel-item {display: flex;flex-direction: column;position: relative;background-color: white;}#sk-352e2130-8c4a-48e8-8690-16eb85ed828e div.sk-parallel-item:first-child::after {align-self: flex-end;width: 50%;}#sk-352e2130-8c4a-48e8-8690-16eb85ed828e div.sk-parallel-item:last-child::after {align-self: flex-start;width: 50%;}#sk-352e2130-8c4a-48e8-8690-16eb85ed828e div.sk-parallel-item:only-child::after {width: 0;}#sk-352e2130-8c4a-48e8-8690-16eb85ed828e div.sk-dashed-wrapped {border: 1px dashed gray;margin: 0 0.4em 0.5em 0.4em;box-sizing: border-box;padding-bottom: 0.4em;background-color: white;position: relative;}#sk-352e2130-8c4a-48e8-8690-16eb85ed828e div.sk-label label {font-family: monospace;font-weight: bold;background-color: white;display: inline-block;line-height: 1.2em;}#sk-352e2130-8c4a-48e8-8690-16eb85ed828e div.sk-label-container {position: relative;z-index: 2;text-align: center;}#sk-352e2130-8c4a-48e8-8690-16eb85ed828e div.sk-container {/* jupyter's `normalize.less` sets `[hidden] { display: none; }` but bootstrap.min.css set `[hidden] { display: none !important; }` so we also need the `!important` here to be able to override the default hidden behavior on the sphinx rendered scikit-learn.org. See: https://github.com/scikit-learn/scikit-learn/issues/21755 */display: inline-block !important;position: relative;}#sk-352e2130-8c4a-48e8-8690-16eb85ed828e div.sk-text-repr-fallback {display: none;}</style><div id=\"sk-352e2130-8c4a-48e8-8690-16eb85ed828e\" class=\"sk-top-container\"><div class=\"sk-text-repr-fallback\"><pre>ColumnTransformer(remainder=&#x27;passthrough&#x27;,\n",
       "                  transformers=[(&#x27;onehotencoder&#x27;,\n",
       "                                 OneHotEncoder(handle_unknown=&#x27;ignore&#x27;),\n",
       "                                 &lt;sklearn.compose._column_transformer.make_column_selector object at 0x7f7e32857160&gt;)],\n",
       "                  verbose_feature_names_out=False)</pre><b>Please rerun this cell to show the HTML repr or trust the notebook.</b></div><div class=\"sk-container\" hidden><div class=\"sk-item sk-dashed-wrapped\"><div class=\"sk-label-container\"><div class=\"sk-label sk-toggleable\"><input class=\"sk-toggleable__control sk-hidden--visually\" id=\"8ac496d2-2477-47b4-aaaa-984f76714e04\" type=\"checkbox\" ><label for=\"8ac496d2-2477-47b4-aaaa-984f76714e04\" class=\"sk-toggleable__label sk-toggleable__label-arrow\">ColumnTransformer</label><div class=\"sk-toggleable__content\"><pre>ColumnTransformer(remainder=&#x27;passthrough&#x27;,\n",
       "                  transformers=[(&#x27;onehotencoder&#x27;,\n",
       "                                 OneHotEncoder(handle_unknown=&#x27;ignore&#x27;),\n",
       "                                 &lt;sklearn.compose._column_transformer.make_column_selector object at 0x7f7e32857160&gt;)],\n",
       "                  verbose_feature_names_out=False)</pre></div></div></div><div class=\"sk-parallel\"><div class=\"sk-parallel-item\"><div class=\"sk-item\"><div class=\"sk-label-container\"><div class=\"sk-label sk-toggleable\"><input class=\"sk-toggleable__control sk-hidden--visually\" id=\"d9d332a9-fb91-4329-aa9f-84b0861f4df5\" type=\"checkbox\" ><label for=\"d9d332a9-fb91-4329-aa9f-84b0861f4df5\" class=\"sk-toggleable__label sk-toggleable__label-arrow\">onehotencoder</label><div class=\"sk-toggleable__content\"><pre>&lt;sklearn.compose._column_transformer.make_column_selector object at 0x7f7e32857160&gt;</pre></div></div></div><div class=\"sk-serial\"><div class=\"sk-item\"><div class=\"sk-estimator sk-toggleable\"><input class=\"sk-toggleable__control sk-hidden--visually\" id=\"f5f57746-8097-4d64-95e4-a0a75af8d332\" type=\"checkbox\" ><label for=\"f5f57746-8097-4d64-95e4-a0a75af8d332\" class=\"sk-toggleable__label sk-toggleable__label-arrow\">OneHotEncoder</label><div class=\"sk-toggleable__content\"><pre>OneHotEncoder(handle_unknown=&#x27;ignore&#x27;)</pre></div></div></div></div></div></div><div class=\"sk-parallel-item\"><div class=\"sk-item\"><div class=\"sk-label-container\"><div class=\"sk-label sk-toggleable\"><input class=\"sk-toggleable__control sk-hidden--visually\" id=\"f4abc959-12d6-4d96-8e71-bc84499de389\" type=\"checkbox\" ><label for=\"f4abc959-12d6-4d96-8e71-bc84499de389\" class=\"sk-toggleable__label sk-toggleable__label-arrow\">remainder</label><div class=\"sk-toggleable__content\"><pre></pre></div></div></div><div class=\"sk-serial\"><div class=\"sk-item\"><div class=\"sk-estimator sk-toggleable\"><input class=\"sk-toggleable__control sk-hidden--visually\" id=\"b6e868b3-76e3-4e3e-ac97-58766bb0f67b\" type=\"checkbox\" ><label for=\"b6e868b3-76e3-4e3e-ac97-58766bb0f67b\" class=\"sk-toggleable__label sk-toggleable__label-arrow\">passthrough</label><div class=\"sk-toggleable__content\"><pre>passthrough</pre></div></div></div></div></div></div></div></div></div></div>"
      ],
      "text/plain": [
       "ColumnTransformer(remainder='passthrough',\n",
       "                  transformers=[('onehotencoder',\n",
       "                                 OneHotEncoder(handle_unknown='ignore'),\n",
       "                                 <sklearn.compose._column_transformer.make_column_selector object at 0x7f7e32857160>)],\n",
       "                  verbose_feature_names_out=False)"
      ]
     },
     "execution_count": 463,
     "metadata": {},
     "output_type": "execute_result"
    }
   ],
   "source": [
    "ct2 = make_column_transformer(\n",
    "    (OneHotEncoder(handle_unknown='ignore'), make_column_selector(dtype_include=object)),\n",
    "    remainder='passthrough',\n",
    "    verbose_feature_names_out=False\n",
    ")\n",
    "ct2"
   ]
  },
  {
   "cell_type": "code",
   "execution_count": 464,
   "metadata": {},
   "outputs": [
    {
     "data": {
      "text/html": [
       "<style>#sk-c60f989a-2c05-4ada-85c3-36fd47f61357 {color: black;background-color: white;}#sk-c60f989a-2c05-4ada-85c3-36fd47f61357 pre{padding: 0;}#sk-c60f989a-2c05-4ada-85c3-36fd47f61357 div.sk-toggleable {background-color: white;}#sk-c60f989a-2c05-4ada-85c3-36fd47f61357 label.sk-toggleable__label {cursor: pointer;display: block;width: 100%;margin-bottom: 0;padding: 0.3em;box-sizing: border-box;text-align: center;}#sk-c60f989a-2c05-4ada-85c3-36fd47f61357 label.sk-toggleable__label-arrow:before {content: \"▸\";float: left;margin-right: 0.25em;color: #696969;}#sk-c60f989a-2c05-4ada-85c3-36fd47f61357 label.sk-toggleable__label-arrow:hover:before {color: black;}#sk-c60f989a-2c05-4ada-85c3-36fd47f61357 div.sk-estimator:hover label.sk-toggleable__label-arrow:before {color: black;}#sk-c60f989a-2c05-4ada-85c3-36fd47f61357 div.sk-toggleable__content {max-height: 0;max-width: 0;overflow: hidden;text-align: left;background-color: #f0f8ff;}#sk-c60f989a-2c05-4ada-85c3-36fd47f61357 div.sk-toggleable__content pre {margin: 0.2em;color: black;border-radius: 0.25em;background-color: #f0f8ff;}#sk-c60f989a-2c05-4ada-85c3-36fd47f61357 input.sk-toggleable__control:checked~div.sk-toggleable__content {max-height: 200px;max-width: 100%;overflow: auto;}#sk-c60f989a-2c05-4ada-85c3-36fd47f61357 input.sk-toggleable__control:checked~label.sk-toggleable__label-arrow:before {content: \"▾\";}#sk-c60f989a-2c05-4ada-85c3-36fd47f61357 div.sk-estimator input.sk-toggleable__control:checked~label.sk-toggleable__label {background-color: #d4ebff;}#sk-c60f989a-2c05-4ada-85c3-36fd47f61357 div.sk-label input.sk-toggleable__control:checked~label.sk-toggleable__label {background-color: #d4ebff;}#sk-c60f989a-2c05-4ada-85c3-36fd47f61357 input.sk-hidden--visually {border: 0;clip: rect(1px 1px 1px 1px);clip: rect(1px, 1px, 1px, 1px);height: 1px;margin: -1px;overflow: hidden;padding: 0;position: absolute;width: 1px;}#sk-c60f989a-2c05-4ada-85c3-36fd47f61357 div.sk-estimator {font-family: monospace;background-color: #f0f8ff;border: 1px dotted black;border-radius: 0.25em;box-sizing: border-box;margin-bottom: 0.5em;}#sk-c60f989a-2c05-4ada-85c3-36fd47f61357 div.sk-estimator:hover {background-color: #d4ebff;}#sk-c60f989a-2c05-4ada-85c3-36fd47f61357 div.sk-parallel-item::after {content: \"\";width: 100%;border-bottom: 1px solid gray;flex-grow: 1;}#sk-c60f989a-2c05-4ada-85c3-36fd47f61357 div.sk-label:hover label.sk-toggleable__label {background-color: #d4ebff;}#sk-c60f989a-2c05-4ada-85c3-36fd47f61357 div.sk-serial::before {content: \"\";position: absolute;border-left: 1px solid gray;box-sizing: border-box;top: 2em;bottom: 0;left: 50%;}#sk-c60f989a-2c05-4ada-85c3-36fd47f61357 div.sk-serial {display: flex;flex-direction: column;align-items: center;background-color: white;padding-right: 0.2em;padding-left: 0.2em;}#sk-c60f989a-2c05-4ada-85c3-36fd47f61357 div.sk-item {z-index: 1;}#sk-c60f989a-2c05-4ada-85c3-36fd47f61357 div.sk-parallel {display: flex;align-items: stretch;justify-content: center;background-color: white;}#sk-c60f989a-2c05-4ada-85c3-36fd47f61357 div.sk-parallel::before {content: \"\";position: absolute;border-left: 1px solid gray;box-sizing: border-box;top: 2em;bottom: 0;left: 50%;}#sk-c60f989a-2c05-4ada-85c3-36fd47f61357 div.sk-parallel-item {display: flex;flex-direction: column;position: relative;background-color: white;}#sk-c60f989a-2c05-4ada-85c3-36fd47f61357 div.sk-parallel-item:first-child::after {align-self: flex-end;width: 50%;}#sk-c60f989a-2c05-4ada-85c3-36fd47f61357 div.sk-parallel-item:last-child::after {align-self: flex-start;width: 50%;}#sk-c60f989a-2c05-4ada-85c3-36fd47f61357 div.sk-parallel-item:only-child::after {width: 0;}#sk-c60f989a-2c05-4ada-85c3-36fd47f61357 div.sk-dashed-wrapped {border: 1px dashed gray;margin: 0 0.4em 0.5em 0.4em;box-sizing: border-box;padding-bottom: 0.4em;background-color: white;position: relative;}#sk-c60f989a-2c05-4ada-85c3-36fd47f61357 div.sk-label label {font-family: monospace;font-weight: bold;background-color: white;display: inline-block;line-height: 1.2em;}#sk-c60f989a-2c05-4ada-85c3-36fd47f61357 div.sk-label-container {position: relative;z-index: 2;text-align: center;}#sk-c60f989a-2c05-4ada-85c3-36fd47f61357 div.sk-container {/* jupyter's `normalize.less` sets `[hidden] { display: none; }` but bootstrap.min.css set `[hidden] { display: none !important; }` so we also need the `!important` here to be able to override the default hidden behavior on the sphinx rendered scikit-learn.org. See: https://github.com/scikit-learn/scikit-learn/issues/21755 */display: inline-block !important;position: relative;}#sk-c60f989a-2c05-4ada-85c3-36fd47f61357 div.sk-text-repr-fallback {display: none;}</style><div id=\"sk-c60f989a-2c05-4ada-85c3-36fd47f61357\" class=\"sk-top-container\"><div class=\"sk-text-repr-fallback\"><pre>Pipeline(steps=[(&#x27;columntransformer&#x27;,\n",
       "                 ColumnTransformer(remainder=&#x27;passthrough&#x27;,\n",
       "                                   transformers=[(&#x27;onehotencoder&#x27;,\n",
       "                                                  OneHotEncoder(handle_unknown=&#x27;ignore&#x27;),\n",
       "                                                  &lt;sklearn.compose._column_transformer.make_column_selector object at 0x7f7e32857160&gt;)],\n",
       "                                   verbose_feature_names_out=False)),\n",
       "                (&#x27;standardscaler&#x27;, StandardScaler(with_mean=False)),\n",
       "                (&#x27;linearregression&#x27;, LinearRegression())])</pre><b>Please rerun this cell to show the HTML repr or trust the notebook.</b></div><div class=\"sk-container\" hidden><div class=\"sk-item sk-dashed-wrapped\"><div class=\"sk-label-container\"><div class=\"sk-label sk-toggleable\"><input class=\"sk-toggleable__control sk-hidden--visually\" id=\"540e164b-012f-4356-ad89-67b828446808\" type=\"checkbox\" ><label for=\"540e164b-012f-4356-ad89-67b828446808\" class=\"sk-toggleable__label sk-toggleable__label-arrow\">Pipeline</label><div class=\"sk-toggleable__content\"><pre>Pipeline(steps=[(&#x27;columntransformer&#x27;,\n",
       "                 ColumnTransformer(remainder=&#x27;passthrough&#x27;,\n",
       "                                   transformers=[(&#x27;onehotencoder&#x27;,\n",
       "                                                  OneHotEncoder(handle_unknown=&#x27;ignore&#x27;),\n",
       "                                                  &lt;sklearn.compose._column_transformer.make_column_selector object at 0x7f7e32857160&gt;)],\n",
       "                                   verbose_feature_names_out=False)),\n",
       "                (&#x27;standardscaler&#x27;, StandardScaler(with_mean=False)),\n",
       "                (&#x27;linearregression&#x27;, LinearRegression())])</pre></div></div></div><div class=\"sk-serial\"><div class=\"sk-item sk-dashed-wrapped\"><div class=\"sk-label-container\"><div class=\"sk-label sk-toggleable\"><input class=\"sk-toggleable__control sk-hidden--visually\" id=\"4a0208db-9886-4846-99ff-505e7ed6a62a\" type=\"checkbox\" ><label for=\"4a0208db-9886-4846-99ff-505e7ed6a62a\" class=\"sk-toggleable__label sk-toggleable__label-arrow\">columntransformer: ColumnTransformer</label><div class=\"sk-toggleable__content\"><pre>ColumnTransformer(remainder=&#x27;passthrough&#x27;,\n",
       "                  transformers=[(&#x27;onehotencoder&#x27;,\n",
       "                                 OneHotEncoder(handle_unknown=&#x27;ignore&#x27;),\n",
       "                                 &lt;sklearn.compose._column_transformer.make_column_selector object at 0x7f7e32857160&gt;)],\n",
       "                  verbose_feature_names_out=False)</pre></div></div></div><div class=\"sk-parallel\"><div class=\"sk-parallel-item\"><div class=\"sk-item\"><div class=\"sk-label-container\"><div class=\"sk-label sk-toggleable\"><input class=\"sk-toggleable__control sk-hidden--visually\" id=\"751708b0-60aa-4498-96ba-a5fd1d54e29f\" type=\"checkbox\" ><label for=\"751708b0-60aa-4498-96ba-a5fd1d54e29f\" class=\"sk-toggleable__label sk-toggleable__label-arrow\">onehotencoder</label><div class=\"sk-toggleable__content\"><pre>&lt;sklearn.compose._column_transformer.make_column_selector object at 0x7f7e32857160&gt;</pre></div></div></div><div class=\"sk-serial\"><div class=\"sk-item\"><div class=\"sk-estimator sk-toggleable\"><input class=\"sk-toggleable__control sk-hidden--visually\" id=\"ad7c49bb-bbbe-4831-aaa4-3240198643df\" type=\"checkbox\" ><label for=\"ad7c49bb-bbbe-4831-aaa4-3240198643df\" class=\"sk-toggleable__label sk-toggleable__label-arrow\">OneHotEncoder</label><div class=\"sk-toggleable__content\"><pre>OneHotEncoder(handle_unknown=&#x27;ignore&#x27;)</pre></div></div></div></div></div></div><div class=\"sk-parallel-item\"><div class=\"sk-item\"><div class=\"sk-label-container\"><div class=\"sk-label sk-toggleable\"><input class=\"sk-toggleable__control sk-hidden--visually\" id=\"3c9f41a8-181c-43a5-aa77-a490d683ac8c\" type=\"checkbox\" ><label for=\"3c9f41a8-181c-43a5-aa77-a490d683ac8c\" class=\"sk-toggleable__label sk-toggleable__label-arrow\">remainder</label><div class=\"sk-toggleable__content\"><pre></pre></div></div></div><div class=\"sk-serial\"><div class=\"sk-item\"><div class=\"sk-estimator sk-toggleable\"><input class=\"sk-toggleable__control sk-hidden--visually\" id=\"53b01dae-be19-42f5-a59e-146d2dbe0be9\" type=\"checkbox\" ><label for=\"53b01dae-be19-42f5-a59e-146d2dbe0be9\" class=\"sk-toggleable__label sk-toggleable__label-arrow\">passthrough</label><div class=\"sk-toggleable__content\"><pre>passthrough</pre></div></div></div></div></div></div></div></div><div class=\"sk-item\"><div class=\"sk-estimator sk-toggleable\"><input class=\"sk-toggleable__control sk-hidden--visually\" id=\"362f9795-add9-4a9a-a38d-b632130e45df\" type=\"checkbox\" ><label for=\"362f9795-add9-4a9a-a38d-b632130e45df\" class=\"sk-toggleable__label sk-toggleable__label-arrow\">StandardScaler</label><div class=\"sk-toggleable__content\"><pre>StandardScaler(with_mean=False)</pre></div></div></div><div class=\"sk-item\"><div class=\"sk-estimator sk-toggleable\"><input class=\"sk-toggleable__control sk-hidden--visually\" id=\"d6c3dace-31bd-450c-87ff-a4bb5b4dcf22\" type=\"checkbox\" ><label for=\"d6c3dace-31bd-450c-87ff-a4bb5b4dcf22\" class=\"sk-toggleable__label sk-toggleable__label-arrow\">LinearRegression</label><div class=\"sk-toggleable__content\"><pre>LinearRegression()</pre></div></div></div></div></div></div></div>"
      ],
      "text/plain": [
       "Pipeline(steps=[('columntransformer',\n",
       "                 ColumnTransformer(remainder='passthrough',\n",
       "                                   transformers=[('onehotencoder',\n",
       "                                                  OneHotEncoder(handle_unknown='ignore'),\n",
       "                                                  <sklearn.compose._column_transformer.make_column_selector object at 0x7f7e32857160>)],\n",
       "                                   verbose_feature_names_out=False)),\n",
       "                ('standardscaler', StandardScaler(with_mean=False)),\n",
       "                ('linearregression', LinearRegression())])"
      ]
     },
     "execution_count": 464,
     "metadata": {},
     "output_type": "execute_result"
    }
   ],
   "source": [
    "pipe2 = make_pipeline(ct2, StandardScaler(with_mean=False), LinearRegression())\n",
    "pipe2"
   ]
  },
  {
   "cell_type": "code",
   "execution_count": 465,
   "metadata": {},
   "outputs": [
    {
     "data": {
      "text/html": [
       "<style>#sk-a6286501-0e21-4e5a-827f-1c5fc0c26fd4 {color: black;background-color: white;}#sk-a6286501-0e21-4e5a-827f-1c5fc0c26fd4 pre{padding: 0;}#sk-a6286501-0e21-4e5a-827f-1c5fc0c26fd4 div.sk-toggleable {background-color: white;}#sk-a6286501-0e21-4e5a-827f-1c5fc0c26fd4 label.sk-toggleable__label {cursor: pointer;display: block;width: 100%;margin-bottom: 0;padding: 0.3em;box-sizing: border-box;text-align: center;}#sk-a6286501-0e21-4e5a-827f-1c5fc0c26fd4 label.sk-toggleable__label-arrow:before {content: \"▸\";float: left;margin-right: 0.25em;color: #696969;}#sk-a6286501-0e21-4e5a-827f-1c5fc0c26fd4 label.sk-toggleable__label-arrow:hover:before {color: black;}#sk-a6286501-0e21-4e5a-827f-1c5fc0c26fd4 div.sk-estimator:hover label.sk-toggleable__label-arrow:before {color: black;}#sk-a6286501-0e21-4e5a-827f-1c5fc0c26fd4 div.sk-toggleable__content {max-height: 0;max-width: 0;overflow: hidden;text-align: left;background-color: #f0f8ff;}#sk-a6286501-0e21-4e5a-827f-1c5fc0c26fd4 div.sk-toggleable__content pre {margin: 0.2em;color: black;border-radius: 0.25em;background-color: #f0f8ff;}#sk-a6286501-0e21-4e5a-827f-1c5fc0c26fd4 input.sk-toggleable__control:checked~div.sk-toggleable__content {max-height: 200px;max-width: 100%;overflow: auto;}#sk-a6286501-0e21-4e5a-827f-1c5fc0c26fd4 input.sk-toggleable__control:checked~label.sk-toggleable__label-arrow:before {content: \"▾\";}#sk-a6286501-0e21-4e5a-827f-1c5fc0c26fd4 div.sk-estimator input.sk-toggleable__control:checked~label.sk-toggleable__label {background-color: #d4ebff;}#sk-a6286501-0e21-4e5a-827f-1c5fc0c26fd4 div.sk-label input.sk-toggleable__control:checked~label.sk-toggleable__label {background-color: #d4ebff;}#sk-a6286501-0e21-4e5a-827f-1c5fc0c26fd4 input.sk-hidden--visually {border: 0;clip: rect(1px 1px 1px 1px);clip: rect(1px, 1px, 1px, 1px);height: 1px;margin: -1px;overflow: hidden;padding: 0;position: absolute;width: 1px;}#sk-a6286501-0e21-4e5a-827f-1c5fc0c26fd4 div.sk-estimator {font-family: monospace;background-color: #f0f8ff;border: 1px dotted black;border-radius: 0.25em;box-sizing: border-box;margin-bottom: 0.5em;}#sk-a6286501-0e21-4e5a-827f-1c5fc0c26fd4 div.sk-estimator:hover {background-color: #d4ebff;}#sk-a6286501-0e21-4e5a-827f-1c5fc0c26fd4 div.sk-parallel-item::after {content: \"\";width: 100%;border-bottom: 1px solid gray;flex-grow: 1;}#sk-a6286501-0e21-4e5a-827f-1c5fc0c26fd4 div.sk-label:hover label.sk-toggleable__label {background-color: #d4ebff;}#sk-a6286501-0e21-4e5a-827f-1c5fc0c26fd4 div.sk-serial::before {content: \"\";position: absolute;border-left: 1px solid gray;box-sizing: border-box;top: 2em;bottom: 0;left: 50%;}#sk-a6286501-0e21-4e5a-827f-1c5fc0c26fd4 div.sk-serial {display: flex;flex-direction: column;align-items: center;background-color: white;padding-right: 0.2em;padding-left: 0.2em;}#sk-a6286501-0e21-4e5a-827f-1c5fc0c26fd4 div.sk-item {z-index: 1;}#sk-a6286501-0e21-4e5a-827f-1c5fc0c26fd4 div.sk-parallel {display: flex;align-items: stretch;justify-content: center;background-color: white;}#sk-a6286501-0e21-4e5a-827f-1c5fc0c26fd4 div.sk-parallel::before {content: \"\";position: absolute;border-left: 1px solid gray;box-sizing: border-box;top: 2em;bottom: 0;left: 50%;}#sk-a6286501-0e21-4e5a-827f-1c5fc0c26fd4 div.sk-parallel-item {display: flex;flex-direction: column;position: relative;background-color: white;}#sk-a6286501-0e21-4e5a-827f-1c5fc0c26fd4 div.sk-parallel-item:first-child::after {align-self: flex-end;width: 50%;}#sk-a6286501-0e21-4e5a-827f-1c5fc0c26fd4 div.sk-parallel-item:last-child::after {align-self: flex-start;width: 50%;}#sk-a6286501-0e21-4e5a-827f-1c5fc0c26fd4 div.sk-parallel-item:only-child::after {width: 0;}#sk-a6286501-0e21-4e5a-827f-1c5fc0c26fd4 div.sk-dashed-wrapped {border: 1px dashed gray;margin: 0 0.4em 0.5em 0.4em;box-sizing: border-box;padding-bottom: 0.4em;background-color: white;position: relative;}#sk-a6286501-0e21-4e5a-827f-1c5fc0c26fd4 div.sk-label label {font-family: monospace;font-weight: bold;background-color: white;display: inline-block;line-height: 1.2em;}#sk-a6286501-0e21-4e5a-827f-1c5fc0c26fd4 div.sk-label-container {position: relative;z-index: 2;text-align: center;}#sk-a6286501-0e21-4e5a-827f-1c5fc0c26fd4 div.sk-container {/* jupyter's `normalize.less` sets `[hidden] { display: none; }` but bootstrap.min.css set `[hidden] { display: none !important; }` so we also need the `!important` here to be able to override the default hidden behavior on the sphinx rendered scikit-learn.org. See: https://github.com/scikit-learn/scikit-learn/issues/21755 */display: inline-block !important;position: relative;}#sk-a6286501-0e21-4e5a-827f-1c5fc0c26fd4 div.sk-text-repr-fallback {display: none;}</style><div id=\"sk-a6286501-0e21-4e5a-827f-1c5fc0c26fd4\" class=\"sk-top-container\"><div class=\"sk-text-repr-fallback\"><pre>Pipeline(steps=[(&#x27;columntransformer&#x27;,\n",
       "                 ColumnTransformer(remainder=&#x27;passthrough&#x27;,\n",
       "                                   transformers=[(&#x27;onehotencoder&#x27;,\n",
       "                                                  OneHotEncoder(handle_unknown=&#x27;ignore&#x27;),\n",
       "                                                  &lt;sklearn.compose._column_transformer.make_column_selector object at 0x7f7e32857160&gt;)],\n",
       "                                   verbose_feature_names_out=False)),\n",
       "                (&#x27;standardscaler&#x27;, StandardScaler(with_mean=False)),\n",
       "                (&#x27;linearregression&#x27;, LinearRegression())])</pre><b>Please rerun this cell to show the HTML repr or trust the notebook.</b></div><div class=\"sk-container\" hidden><div class=\"sk-item sk-dashed-wrapped\"><div class=\"sk-label-container\"><div class=\"sk-label sk-toggleable\"><input class=\"sk-toggleable__control sk-hidden--visually\" id=\"4140d792-16f0-46e2-ae41-6413969c4d54\" type=\"checkbox\" ><label for=\"4140d792-16f0-46e2-ae41-6413969c4d54\" class=\"sk-toggleable__label sk-toggleable__label-arrow\">Pipeline</label><div class=\"sk-toggleable__content\"><pre>Pipeline(steps=[(&#x27;columntransformer&#x27;,\n",
       "                 ColumnTransformer(remainder=&#x27;passthrough&#x27;,\n",
       "                                   transformers=[(&#x27;onehotencoder&#x27;,\n",
       "                                                  OneHotEncoder(handle_unknown=&#x27;ignore&#x27;),\n",
       "                                                  &lt;sklearn.compose._column_transformer.make_column_selector object at 0x7f7e32857160&gt;)],\n",
       "                                   verbose_feature_names_out=False)),\n",
       "                (&#x27;standardscaler&#x27;, StandardScaler(with_mean=False)),\n",
       "                (&#x27;linearregression&#x27;, LinearRegression())])</pre></div></div></div><div class=\"sk-serial\"><div class=\"sk-item sk-dashed-wrapped\"><div class=\"sk-label-container\"><div class=\"sk-label sk-toggleable\"><input class=\"sk-toggleable__control sk-hidden--visually\" id=\"68442949-efc7-4862-aa11-b32a15e59a21\" type=\"checkbox\" ><label for=\"68442949-efc7-4862-aa11-b32a15e59a21\" class=\"sk-toggleable__label sk-toggleable__label-arrow\">columntransformer: ColumnTransformer</label><div class=\"sk-toggleable__content\"><pre>ColumnTransformer(remainder=&#x27;passthrough&#x27;,\n",
       "                  transformers=[(&#x27;onehotencoder&#x27;,\n",
       "                                 OneHotEncoder(handle_unknown=&#x27;ignore&#x27;),\n",
       "                                 &lt;sklearn.compose._column_transformer.make_column_selector object at 0x7f7e32857160&gt;)],\n",
       "                  verbose_feature_names_out=False)</pre></div></div></div><div class=\"sk-parallel\"><div class=\"sk-parallel-item\"><div class=\"sk-item\"><div class=\"sk-label-container\"><div class=\"sk-label sk-toggleable\"><input class=\"sk-toggleable__control sk-hidden--visually\" id=\"53394883-ba61-4f5b-b33d-af0de008f777\" type=\"checkbox\" ><label for=\"53394883-ba61-4f5b-b33d-af0de008f777\" class=\"sk-toggleable__label sk-toggleable__label-arrow\">onehotencoder</label><div class=\"sk-toggleable__content\"><pre>&lt;sklearn.compose._column_transformer.make_column_selector object at 0x7f7e32857160&gt;</pre></div></div></div><div class=\"sk-serial\"><div class=\"sk-item\"><div class=\"sk-estimator sk-toggleable\"><input class=\"sk-toggleable__control sk-hidden--visually\" id=\"a31c4885-628a-4ac2-b5d0-1248d87624cd\" type=\"checkbox\" ><label for=\"a31c4885-628a-4ac2-b5d0-1248d87624cd\" class=\"sk-toggleable__label sk-toggleable__label-arrow\">OneHotEncoder</label><div class=\"sk-toggleable__content\"><pre>OneHotEncoder(handle_unknown=&#x27;ignore&#x27;)</pre></div></div></div></div></div></div><div class=\"sk-parallel-item\"><div class=\"sk-item\"><div class=\"sk-label-container\"><div class=\"sk-label sk-toggleable\"><input class=\"sk-toggleable__control sk-hidden--visually\" id=\"c7580954-822e-4462-9059-bdab45d90873\" type=\"checkbox\" ><label for=\"c7580954-822e-4462-9059-bdab45d90873\" class=\"sk-toggleable__label sk-toggleable__label-arrow\">remainder</label><div class=\"sk-toggleable__content\"><pre>[]</pre></div></div></div><div class=\"sk-serial\"><div class=\"sk-item\"><div class=\"sk-estimator sk-toggleable\"><input class=\"sk-toggleable__control sk-hidden--visually\" id=\"c5098919-1c1b-40d0-9133-fd53a0f84fa7\" type=\"checkbox\" ><label for=\"c5098919-1c1b-40d0-9133-fd53a0f84fa7\" class=\"sk-toggleable__label sk-toggleable__label-arrow\">passthrough</label><div class=\"sk-toggleable__content\"><pre>passthrough</pre></div></div></div></div></div></div></div></div><div class=\"sk-item\"><div class=\"sk-estimator sk-toggleable\"><input class=\"sk-toggleable__control sk-hidden--visually\" id=\"e5a9add6-db9e-4529-abff-e4700f39a56a\" type=\"checkbox\" ><label for=\"e5a9add6-db9e-4529-abff-e4700f39a56a\" class=\"sk-toggleable__label sk-toggleable__label-arrow\">StandardScaler</label><div class=\"sk-toggleable__content\"><pre>StandardScaler(with_mean=False)</pre></div></div></div><div class=\"sk-item\"><div class=\"sk-estimator sk-toggleable\"><input class=\"sk-toggleable__control sk-hidden--visually\" id=\"d06ca3a3-b6c4-47ac-ab84-8e25220c5a51\" type=\"checkbox\" ><label for=\"d06ca3a3-b6c4-47ac-ab84-8e25220c5a51\" class=\"sk-toggleable__label sk-toggleable__label-arrow\">LinearRegression</label><div class=\"sk-toggleable__content\"><pre>LinearRegression()</pre></div></div></div></div></div></div></div>"
      ],
      "text/plain": [
       "Pipeline(steps=[('columntransformer',\n",
       "                 ColumnTransformer(remainder='passthrough',\n",
       "                                   transformers=[('onehotencoder',\n",
       "                                                  OneHotEncoder(handle_unknown='ignore'),\n",
       "                                                  <sklearn.compose._column_transformer.make_column_selector object at 0x7f7e32857160>)],\n",
       "                                   verbose_feature_names_out=False)),\n",
       "                ('standardscaler', StandardScaler(with_mean=False)),\n",
       "                ('linearregression', LinearRegression())])"
      ]
     },
     "execution_count": 465,
     "metadata": {},
     "output_type": "execute_result"
    }
   ],
   "source": [
    "pipe2.fit(X_train, y_train)"
   ]
  },
  {
   "cell_type": "code",
   "execution_count": 466,
   "metadata": {},
   "outputs": [
    {
     "data": {
      "text/plain": [
       "0.6262624740055753"
      ]
     },
     "execution_count": 466,
     "metadata": {},
     "output_type": "execute_result"
    }
   ],
   "source": [
    "pipe2.score(X_test, y_test)"
   ]
  },
  {
   "cell_type": "code",
   "execution_count": 467,
   "metadata": {},
   "outputs": [],
   "source": [
    "preds = pipe2.predict(X_test)"
   ]
  },
  {
   "cell_type": "code",
   "execution_count": 468,
   "metadata": {},
   "outputs": [
    {
     "data": {
      "text/plain": [
       "47982.07662062991"
      ]
     },
     "execution_count": 468,
     "metadata": {},
     "output_type": "execute_result"
    }
   ],
   "source": [
    "mean_squared_error(y_test, preds, squared=False)"
   ]
  },
  {
   "cell_type": "markdown",
   "metadata": {},
   "source": [
    "Our RMSE using location proxies is considerably worse than our baseline Linear Regression."
   ]
  },
  {
   "cell_type": "markdown",
   "metadata": {},
   "source": [
    "### Kaggle submission"
   ]
  },
  {
   "cell_type": "code",
   "execution_count": 469,
   "metadata": {},
   "outputs": [],
   "source": [
    "test['SalePrice'] = pipe2.predict(kaggle)"
   ]
  },
  {
   "cell_type": "code",
   "execution_count": 470,
   "metadata": {},
   "outputs": [],
   "source": [
    "test[['Id', 'SalePrice']].to_csv('../data/submission_all_location_linreg.csv', index=False)"
   ]
  },
  {
   "cell_type": "markdown",
   "metadata": {},
   "source": [
    "## Combine all selected features and fit on Linear Regression"
   ]
  },
  {
   "cell_type": "markdown",
   "metadata": {},
   "source": [
    "### Train-Test split"
   ]
  },
  {
   "cell_type": "code",
   "execution_count": 471,
   "metadata": {},
   "outputs": [],
   "source": [
    "X = train.drop(columns='SalePrice')\n",
    "y = train['SalePrice']\n",
    "kaggle = test[X.columns]"
   ]
  },
  {
   "cell_type": "code",
   "execution_count": 472,
   "metadata": {},
   "outputs": [],
   "source": [
    "X_train, X_test, y_train, y_test = train_test_split(X, y, random_state=1331)"
   ]
  },
  {
   "cell_type": "markdown",
   "metadata": {},
   "source": [
    "### Column transformations"
   ]
  },
  {
   "cell_type": "code",
   "execution_count": 474,
   "metadata": {},
   "outputs": [
    {
     "data": {
      "text/html": [
       "<style>#sk-fe6e8fab-b6e9-4068-929a-73dd600ae38b {color: black;background-color: white;}#sk-fe6e8fab-b6e9-4068-929a-73dd600ae38b pre{padding: 0;}#sk-fe6e8fab-b6e9-4068-929a-73dd600ae38b div.sk-toggleable {background-color: white;}#sk-fe6e8fab-b6e9-4068-929a-73dd600ae38b label.sk-toggleable__label {cursor: pointer;display: block;width: 100%;margin-bottom: 0;padding: 0.3em;box-sizing: border-box;text-align: center;}#sk-fe6e8fab-b6e9-4068-929a-73dd600ae38b label.sk-toggleable__label-arrow:before {content: \"▸\";float: left;margin-right: 0.25em;color: #696969;}#sk-fe6e8fab-b6e9-4068-929a-73dd600ae38b label.sk-toggleable__label-arrow:hover:before {color: black;}#sk-fe6e8fab-b6e9-4068-929a-73dd600ae38b div.sk-estimator:hover label.sk-toggleable__label-arrow:before {color: black;}#sk-fe6e8fab-b6e9-4068-929a-73dd600ae38b div.sk-toggleable__content {max-height: 0;max-width: 0;overflow: hidden;text-align: left;background-color: #f0f8ff;}#sk-fe6e8fab-b6e9-4068-929a-73dd600ae38b div.sk-toggleable__content pre {margin: 0.2em;color: black;border-radius: 0.25em;background-color: #f0f8ff;}#sk-fe6e8fab-b6e9-4068-929a-73dd600ae38b input.sk-toggleable__control:checked~div.sk-toggleable__content {max-height: 200px;max-width: 100%;overflow: auto;}#sk-fe6e8fab-b6e9-4068-929a-73dd600ae38b input.sk-toggleable__control:checked~label.sk-toggleable__label-arrow:before {content: \"▾\";}#sk-fe6e8fab-b6e9-4068-929a-73dd600ae38b div.sk-estimator input.sk-toggleable__control:checked~label.sk-toggleable__label {background-color: #d4ebff;}#sk-fe6e8fab-b6e9-4068-929a-73dd600ae38b div.sk-label input.sk-toggleable__control:checked~label.sk-toggleable__label {background-color: #d4ebff;}#sk-fe6e8fab-b6e9-4068-929a-73dd600ae38b input.sk-hidden--visually {border: 0;clip: rect(1px 1px 1px 1px);clip: rect(1px, 1px, 1px, 1px);height: 1px;margin: -1px;overflow: hidden;padding: 0;position: absolute;width: 1px;}#sk-fe6e8fab-b6e9-4068-929a-73dd600ae38b div.sk-estimator {font-family: monospace;background-color: #f0f8ff;border: 1px dotted black;border-radius: 0.25em;box-sizing: border-box;margin-bottom: 0.5em;}#sk-fe6e8fab-b6e9-4068-929a-73dd600ae38b div.sk-estimator:hover {background-color: #d4ebff;}#sk-fe6e8fab-b6e9-4068-929a-73dd600ae38b div.sk-parallel-item::after {content: \"\";width: 100%;border-bottom: 1px solid gray;flex-grow: 1;}#sk-fe6e8fab-b6e9-4068-929a-73dd600ae38b div.sk-label:hover label.sk-toggleable__label {background-color: #d4ebff;}#sk-fe6e8fab-b6e9-4068-929a-73dd600ae38b div.sk-serial::before {content: \"\";position: absolute;border-left: 1px solid gray;box-sizing: border-box;top: 2em;bottom: 0;left: 50%;}#sk-fe6e8fab-b6e9-4068-929a-73dd600ae38b div.sk-serial {display: flex;flex-direction: column;align-items: center;background-color: white;padding-right: 0.2em;padding-left: 0.2em;}#sk-fe6e8fab-b6e9-4068-929a-73dd600ae38b div.sk-item {z-index: 1;}#sk-fe6e8fab-b6e9-4068-929a-73dd600ae38b div.sk-parallel {display: flex;align-items: stretch;justify-content: center;background-color: white;}#sk-fe6e8fab-b6e9-4068-929a-73dd600ae38b div.sk-parallel::before {content: \"\";position: absolute;border-left: 1px solid gray;box-sizing: border-box;top: 2em;bottom: 0;left: 50%;}#sk-fe6e8fab-b6e9-4068-929a-73dd600ae38b div.sk-parallel-item {display: flex;flex-direction: column;position: relative;background-color: white;}#sk-fe6e8fab-b6e9-4068-929a-73dd600ae38b div.sk-parallel-item:first-child::after {align-self: flex-end;width: 50%;}#sk-fe6e8fab-b6e9-4068-929a-73dd600ae38b div.sk-parallel-item:last-child::after {align-self: flex-start;width: 50%;}#sk-fe6e8fab-b6e9-4068-929a-73dd600ae38b div.sk-parallel-item:only-child::after {width: 0;}#sk-fe6e8fab-b6e9-4068-929a-73dd600ae38b div.sk-dashed-wrapped {border: 1px dashed gray;margin: 0 0.4em 0.5em 0.4em;box-sizing: border-box;padding-bottom: 0.4em;background-color: white;position: relative;}#sk-fe6e8fab-b6e9-4068-929a-73dd600ae38b div.sk-label label {font-family: monospace;font-weight: bold;background-color: white;display: inline-block;line-height: 1.2em;}#sk-fe6e8fab-b6e9-4068-929a-73dd600ae38b div.sk-label-container {position: relative;z-index: 2;text-align: center;}#sk-fe6e8fab-b6e9-4068-929a-73dd600ae38b div.sk-container {/* jupyter's `normalize.less` sets `[hidden] { display: none; }` but bootstrap.min.css set `[hidden] { display: none !important; }` so we also need the `!important` here to be able to override the default hidden behavior on the sphinx rendered scikit-learn.org. See: https://github.com/scikit-learn/scikit-learn/issues/21755 */display: inline-block !important;position: relative;}#sk-fe6e8fab-b6e9-4068-929a-73dd600ae38b div.sk-text-repr-fallback {display: none;}</style><div id=\"sk-fe6e8fab-b6e9-4068-929a-73dd600ae38b\" class=\"sk-top-container\"><div class=\"sk-text-repr-fallback\"><pre>ColumnTransformer(remainder=&#x27;passthrough&#x27;,\n",
       "                  transformers=[(&#x27;onehotencoder&#x27;,\n",
       "                                 OneHotEncoder(handle_unknown=&#x27;ignore&#x27;),\n",
       "                                 &lt;sklearn.compose._column_transformer.make_column_selector object at 0x7f7e38a5d3a0&gt;)],\n",
       "                  verbose_feature_names_out=False)</pre><b>Please rerun this cell to show the HTML repr or trust the notebook.</b></div><div class=\"sk-container\" hidden><div class=\"sk-item sk-dashed-wrapped\"><div class=\"sk-label-container\"><div class=\"sk-label sk-toggleable\"><input class=\"sk-toggleable__control sk-hidden--visually\" id=\"1d9c8c98-a5cc-48b3-b9fd-ec618c109ae6\" type=\"checkbox\" ><label for=\"1d9c8c98-a5cc-48b3-b9fd-ec618c109ae6\" class=\"sk-toggleable__label sk-toggleable__label-arrow\">ColumnTransformer</label><div class=\"sk-toggleable__content\"><pre>ColumnTransformer(remainder=&#x27;passthrough&#x27;,\n",
       "                  transformers=[(&#x27;onehotencoder&#x27;,\n",
       "                                 OneHotEncoder(handle_unknown=&#x27;ignore&#x27;),\n",
       "                                 &lt;sklearn.compose._column_transformer.make_column_selector object at 0x7f7e38a5d3a0&gt;)],\n",
       "                  verbose_feature_names_out=False)</pre></div></div></div><div class=\"sk-parallel\"><div class=\"sk-parallel-item\"><div class=\"sk-item\"><div class=\"sk-label-container\"><div class=\"sk-label sk-toggleable\"><input class=\"sk-toggleable__control sk-hidden--visually\" id=\"2a352107-c8a8-4b4b-995a-dfe9800f5c33\" type=\"checkbox\" ><label for=\"2a352107-c8a8-4b4b-995a-dfe9800f5c33\" class=\"sk-toggleable__label sk-toggleable__label-arrow\">onehotencoder</label><div class=\"sk-toggleable__content\"><pre>&lt;sklearn.compose._column_transformer.make_column_selector object at 0x7f7e38a5d3a0&gt;</pre></div></div></div><div class=\"sk-serial\"><div class=\"sk-item\"><div class=\"sk-estimator sk-toggleable\"><input class=\"sk-toggleable__control sk-hidden--visually\" id=\"aa125871-d706-4016-bc3d-d386ed6ebcbf\" type=\"checkbox\" ><label for=\"aa125871-d706-4016-bc3d-d386ed6ebcbf\" class=\"sk-toggleable__label sk-toggleable__label-arrow\">OneHotEncoder</label><div class=\"sk-toggleable__content\"><pre>OneHotEncoder(handle_unknown=&#x27;ignore&#x27;)</pre></div></div></div></div></div></div><div class=\"sk-parallel-item\"><div class=\"sk-item\"><div class=\"sk-label-container\"><div class=\"sk-label sk-toggleable\"><input class=\"sk-toggleable__control sk-hidden--visually\" id=\"d9cd274c-bb70-46e6-92e2-1ac10ccb983a\" type=\"checkbox\" ><label for=\"d9cd274c-bb70-46e6-92e2-1ac10ccb983a\" class=\"sk-toggleable__label sk-toggleable__label-arrow\">remainder</label><div class=\"sk-toggleable__content\"><pre></pre></div></div></div><div class=\"sk-serial\"><div class=\"sk-item\"><div class=\"sk-estimator sk-toggleable\"><input class=\"sk-toggleable__control sk-hidden--visually\" id=\"b3598b9f-a0c6-490b-bc90-5517e1469786\" type=\"checkbox\" ><label for=\"b3598b9f-a0c6-490b-bc90-5517e1469786\" class=\"sk-toggleable__label sk-toggleable__label-arrow\">passthrough</label><div class=\"sk-toggleable__content\"><pre>passthrough</pre></div></div></div></div></div></div></div></div></div></div>"
      ],
      "text/plain": [
       "ColumnTransformer(remainder='passthrough',\n",
       "                  transformers=[('onehotencoder',\n",
       "                                 OneHotEncoder(handle_unknown='ignore'),\n",
       "                                 <sklearn.compose._column_transformer.make_column_selector object at 0x7f7e38a5d3a0>)],\n",
       "                  verbose_feature_names_out=False)"
      ]
     },
     "execution_count": 474,
     "metadata": {},
     "output_type": "execute_result"
    }
   ],
   "source": [
    "ct3 = make_column_transformer(\n",
    "    (OneHotEncoder(handle_unknown='ignore'), make_column_selector(dtype_include=object)),\n",
    "    remainder='passthrough',\n",
    "    verbose_feature_names_out=False\n",
    ")\n",
    "ct3"
   ]
  },
  {
   "cell_type": "markdown",
   "metadata": {},
   "source": [
    "### Pipeline with Column transformer, Standard Scaler and Linear Regression"
   ]
  },
  {
   "cell_type": "code",
   "execution_count": 475,
   "metadata": {},
   "outputs": [
    {
     "data": {
      "text/html": [
       "<style>#sk-f0cf7e95-2d40-4f6e-ba81-e3349c2b25b6 {color: black;background-color: white;}#sk-f0cf7e95-2d40-4f6e-ba81-e3349c2b25b6 pre{padding: 0;}#sk-f0cf7e95-2d40-4f6e-ba81-e3349c2b25b6 div.sk-toggleable {background-color: white;}#sk-f0cf7e95-2d40-4f6e-ba81-e3349c2b25b6 label.sk-toggleable__label {cursor: pointer;display: block;width: 100%;margin-bottom: 0;padding: 0.3em;box-sizing: border-box;text-align: center;}#sk-f0cf7e95-2d40-4f6e-ba81-e3349c2b25b6 label.sk-toggleable__label-arrow:before {content: \"▸\";float: left;margin-right: 0.25em;color: #696969;}#sk-f0cf7e95-2d40-4f6e-ba81-e3349c2b25b6 label.sk-toggleable__label-arrow:hover:before {color: black;}#sk-f0cf7e95-2d40-4f6e-ba81-e3349c2b25b6 div.sk-estimator:hover label.sk-toggleable__label-arrow:before {color: black;}#sk-f0cf7e95-2d40-4f6e-ba81-e3349c2b25b6 div.sk-toggleable__content {max-height: 0;max-width: 0;overflow: hidden;text-align: left;background-color: #f0f8ff;}#sk-f0cf7e95-2d40-4f6e-ba81-e3349c2b25b6 div.sk-toggleable__content pre {margin: 0.2em;color: black;border-radius: 0.25em;background-color: #f0f8ff;}#sk-f0cf7e95-2d40-4f6e-ba81-e3349c2b25b6 input.sk-toggleable__control:checked~div.sk-toggleable__content {max-height: 200px;max-width: 100%;overflow: auto;}#sk-f0cf7e95-2d40-4f6e-ba81-e3349c2b25b6 input.sk-toggleable__control:checked~label.sk-toggleable__label-arrow:before {content: \"▾\";}#sk-f0cf7e95-2d40-4f6e-ba81-e3349c2b25b6 div.sk-estimator input.sk-toggleable__control:checked~label.sk-toggleable__label {background-color: #d4ebff;}#sk-f0cf7e95-2d40-4f6e-ba81-e3349c2b25b6 div.sk-label input.sk-toggleable__control:checked~label.sk-toggleable__label {background-color: #d4ebff;}#sk-f0cf7e95-2d40-4f6e-ba81-e3349c2b25b6 input.sk-hidden--visually {border: 0;clip: rect(1px 1px 1px 1px);clip: rect(1px, 1px, 1px, 1px);height: 1px;margin: -1px;overflow: hidden;padding: 0;position: absolute;width: 1px;}#sk-f0cf7e95-2d40-4f6e-ba81-e3349c2b25b6 div.sk-estimator {font-family: monospace;background-color: #f0f8ff;border: 1px dotted black;border-radius: 0.25em;box-sizing: border-box;margin-bottom: 0.5em;}#sk-f0cf7e95-2d40-4f6e-ba81-e3349c2b25b6 div.sk-estimator:hover {background-color: #d4ebff;}#sk-f0cf7e95-2d40-4f6e-ba81-e3349c2b25b6 div.sk-parallel-item::after {content: \"\";width: 100%;border-bottom: 1px solid gray;flex-grow: 1;}#sk-f0cf7e95-2d40-4f6e-ba81-e3349c2b25b6 div.sk-label:hover label.sk-toggleable__label {background-color: #d4ebff;}#sk-f0cf7e95-2d40-4f6e-ba81-e3349c2b25b6 div.sk-serial::before {content: \"\";position: absolute;border-left: 1px solid gray;box-sizing: border-box;top: 2em;bottom: 0;left: 50%;}#sk-f0cf7e95-2d40-4f6e-ba81-e3349c2b25b6 div.sk-serial {display: flex;flex-direction: column;align-items: center;background-color: white;padding-right: 0.2em;padding-left: 0.2em;}#sk-f0cf7e95-2d40-4f6e-ba81-e3349c2b25b6 div.sk-item {z-index: 1;}#sk-f0cf7e95-2d40-4f6e-ba81-e3349c2b25b6 div.sk-parallel {display: flex;align-items: stretch;justify-content: center;background-color: white;}#sk-f0cf7e95-2d40-4f6e-ba81-e3349c2b25b6 div.sk-parallel::before {content: \"\";position: absolute;border-left: 1px solid gray;box-sizing: border-box;top: 2em;bottom: 0;left: 50%;}#sk-f0cf7e95-2d40-4f6e-ba81-e3349c2b25b6 div.sk-parallel-item {display: flex;flex-direction: column;position: relative;background-color: white;}#sk-f0cf7e95-2d40-4f6e-ba81-e3349c2b25b6 div.sk-parallel-item:first-child::after {align-self: flex-end;width: 50%;}#sk-f0cf7e95-2d40-4f6e-ba81-e3349c2b25b6 div.sk-parallel-item:last-child::after {align-self: flex-start;width: 50%;}#sk-f0cf7e95-2d40-4f6e-ba81-e3349c2b25b6 div.sk-parallel-item:only-child::after {width: 0;}#sk-f0cf7e95-2d40-4f6e-ba81-e3349c2b25b6 div.sk-dashed-wrapped {border: 1px dashed gray;margin: 0 0.4em 0.5em 0.4em;box-sizing: border-box;padding-bottom: 0.4em;background-color: white;position: relative;}#sk-f0cf7e95-2d40-4f6e-ba81-e3349c2b25b6 div.sk-label label {font-family: monospace;font-weight: bold;background-color: white;display: inline-block;line-height: 1.2em;}#sk-f0cf7e95-2d40-4f6e-ba81-e3349c2b25b6 div.sk-label-container {position: relative;z-index: 2;text-align: center;}#sk-f0cf7e95-2d40-4f6e-ba81-e3349c2b25b6 div.sk-container {/* jupyter's `normalize.less` sets `[hidden] { display: none; }` but bootstrap.min.css set `[hidden] { display: none !important; }` so we also need the `!important` here to be able to override the default hidden behavior on the sphinx rendered scikit-learn.org. See: https://github.com/scikit-learn/scikit-learn/issues/21755 */display: inline-block !important;position: relative;}#sk-f0cf7e95-2d40-4f6e-ba81-e3349c2b25b6 div.sk-text-repr-fallback {display: none;}</style><div id=\"sk-f0cf7e95-2d40-4f6e-ba81-e3349c2b25b6\" class=\"sk-top-container\"><div class=\"sk-text-repr-fallback\"><pre>Pipeline(steps=[(&#x27;columntransformer&#x27;,\n",
       "                 ColumnTransformer(remainder=&#x27;passthrough&#x27;,\n",
       "                                   transformers=[(&#x27;onehotencoder&#x27;,\n",
       "                                                  OneHotEncoder(handle_unknown=&#x27;ignore&#x27;),\n",
       "                                                  &lt;sklearn.compose._column_transformer.make_column_selector object at 0x7f7e38a5d3a0&gt;)],\n",
       "                                   verbose_feature_names_out=False)),\n",
       "                (&#x27;standardscaler&#x27;, StandardScaler(with_mean=False)),\n",
       "                (&#x27;linearregression&#x27;, LinearRegression())])</pre><b>Please rerun this cell to show the HTML repr or trust the notebook.</b></div><div class=\"sk-container\" hidden><div class=\"sk-item sk-dashed-wrapped\"><div class=\"sk-label-container\"><div class=\"sk-label sk-toggleable\"><input class=\"sk-toggleable__control sk-hidden--visually\" id=\"1b442205-8e08-4966-b7c1-48c10eee17c6\" type=\"checkbox\" ><label for=\"1b442205-8e08-4966-b7c1-48c10eee17c6\" class=\"sk-toggleable__label sk-toggleable__label-arrow\">Pipeline</label><div class=\"sk-toggleable__content\"><pre>Pipeline(steps=[(&#x27;columntransformer&#x27;,\n",
       "                 ColumnTransformer(remainder=&#x27;passthrough&#x27;,\n",
       "                                   transformers=[(&#x27;onehotencoder&#x27;,\n",
       "                                                  OneHotEncoder(handle_unknown=&#x27;ignore&#x27;),\n",
       "                                                  &lt;sklearn.compose._column_transformer.make_column_selector object at 0x7f7e38a5d3a0&gt;)],\n",
       "                                   verbose_feature_names_out=False)),\n",
       "                (&#x27;standardscaler&#x27;, StandardScaler(with_mean=False)),\n",
       "                (&#x27;linearregression&#x27;, LinearRegression())])</pre></div></div></div><div class=\"sk-serial\"><div class=\"sk-item sk-dashed-wrapped\"><div class=\"sk-label-container\"><div class=\"sk-label sk-toggleable\"><input class=\"sk-toggleable__control sk-hidden--visually\" id=\"deec735a-64c7-4301-b9d4-04a85350f9dc\" type=\"checkbox\" ><label for=\"deec735a-64c7-4301-b9d4-04a85350f9dc\" class=\"sk-toggleable__label sk-toggleable__label-arrow\">columntransformer: ColumnTransformer</label><div class=\"sk-toggleable__content\"><pre>ColumnTransformer(remainder=&#x27;passthrough&#x27;,\n",
       "                  transformers=[(&#x27;onehotencoder&#x27;,\n",
       "                                 OneHotEncoder(handle_unknown=&#x27;ignore&#x27;),\n",
       "                                 &lt;sklearn.compose._column_transformer.make_column_selector object at 0x7f7e38a5d3a0&gt;)],\n",
       "                  verbose_feature_names_out=False)</pre></div></div></div><div class=\"sk-parallel\"><div class=\"sk-parallel-item\"><div class=\"sk-item\"><div class=\"sk-label-container\"><div class=\"sk-label sk-toggleable\"><input class=\"sk-toggleable__control sk-hidden--visually\" id=\"4525d992-bacf-4ab3-bb15-a256a9566ceb\" type=\"checkbox\" ><label for=\"4525d992-bacf-4ab3-bb15-a256a9566ceb\" class=\"sk-toggleable__label sk-toggleable__label-arrow\">onehotencoder</label><div class=\"sk-toggleable__content\"><pre>&lt;sklearn.compose._column_transformer.make_column_selector object at 0x7f7e38a5d3a0&gt;</pre></div></div></div><div class=\"sk-serial\"><div class=\"sk-item\"><div class=\"sk-estimator sk-toggleable\"><input class=\"sk-toggleable__control sk-hidden--visually\" id=\"0fd6f4d6-a2a8-4727-9746-427178cce1c6\" type=\"checkbox\" ><label for=\"0fd6f4d6-a2a8-4727-9746-427178cce1c6\" class=\"sk-toggleable__label sk-toggleable__label-arrow\">OneHotEncoder</label><div class=\"sk-toggleable__content\"><pre>OneHotEncoder(handle_unknown=&#x27;ignore&#x27;)</pre></div></div></div></div></div></div><div class=\"sk-parallel-item\"><div class=\"sk-item\"><div class=\"sk-label-container\"><div class=\"sk-label sk-toggleable\"><input class=\"sk-toggleable__control sk-hidden--visually\" id=\"31db9616-603e-44d2-a8a4-bdc54686c5dd\" type=\"checkbox\" ><label for=\"31db9616-603e-44d2-a8a4-bdc54686c5dd\" class=\"sk-toggleable__label sk-toggleable__label-arrow\">remainder</label><div class=\"sk-toggleable__content\"><pre></pre></div></div></div><div class=\"sk-serial\"><div class=\"sk-item\"><div class=\"sk-estimator sk-toggleable\"><input class=\"sk-toggleable__control sk-hidden--visually\" id=\"6cc02f3c-b01c-4e32-894d-57a25b551c9d\" type=\"checkbox\" ><label for=\"6cc02f3c-b01c-4e32-894d-57a25b551c9d\" class=\"sk-toggleable__label sk-toggleable__label-arrow\">passthrough</label><div class=\"sk-toggleable__content\"><pre>passthrough</pre></div></div></div></div></div></div></div></div><div class=\"sk-item\"><div class=\"sk-estimator sk-toggleable\"><input class=\"sk-toggleable__control sk-hidden--visually\" id=\"9eb5df65-4493-41d7-abfd-3397825ab856\" type=\"checkbox\" ><label for=\"9eb5df65-4493-41d7-abfd-3397825ab856\" class=\"sk-toggleable__label sk-toggleable__label-arrow\">StandardScaler</label><div class=\"sk-toggleable__content\"><pre>StandardScaler(with_mean=False)</pre></div></div></div><div class=\"sk-item\"><div class=\"sk-estimator sk-toggleable\"><input class=\"sk-toggleable__control sk-hidden--visually\" id=\"78a66205-56fb-4abb-8aaa-23cd6c795768\" type=\"checkbox\" ><label for=\"78a66205-56fb-4abb-8aaa-23cd6c795768\" class=\"sk-toggleable__label sk-toggleable__label-arrow\">LinearRegression</label><div class=\"sk-toggleable__content\"><pre>LinearRegression()</pre></div></div></div></div></div></div></div>"
      ],
      "text/plain": [
       "Pipeline(steps=[('columntransformer',\n",
       "                 ColumnTransformer(remainder='passthrough',\n",
       "                                   transformers=[('onehotencoder',\n",
       "                                                  OneHotEncoder(handle_unknown='ignore'),\n",
       "                                                  <sklearn.compose._column_transformer.make_column_selector object at 0x7f7e38a5d3a0>)],\n",
       "                                   verbose_feature_names_out=False)),\n",
       "                ('standardscaler', StandardScaler(with_mean=False)),\n",
       "                ('linearregression', LinearRegression())])"
      ]
     },
     "execution_count": 475,
     "metadata": {},
     "output_type": "execute_result"
    }
   ],
   "source": [
    "pipe3 = make_pipeline(ct3, StandardScaler(with_mean=False), LinearRegression())\n",
    "pipe3"
   ]
  },
  {
   "cell_type": "markdown",
   "metadata": {},
   "source": [
    "### Fit, Predict and Score"
   ]
  },
  {
   "cell_type": "code",
   "execution_count": 476,
   "metadata": {},
   "outputs": [
    {
     "data": {
      "text/html": [
       "<style>#sk-b8a413e0-6780-48fc-b0ee-814317241e49 {color: black;background-color: white;}#sk-b8a413e0-6780-48fc-b0ee-814317241e49 pre{padding: 0;}#sk-b8a413e0-6780-48fc-b0ee-814317241e49 div.sk-toggleable {background-color: white;}#sk-b8a413e0-6780-48fc-b0ee-814317241e49 label.sk-toggleable__label {cursor: pointer;display: block;width: 100%;margin-bottom: 0;padding: 0.3em;box-sizing: border-box;text-align: center;}#sk-b8a413e0-6780-48fc-b0ee-814317241e49 label.sk-toggleable__label-arrow:before {content: \"▸\";float: left;margin-right: 0.25em;color: #696969;}#sk-b8a413e0-6780-48fc-b0ee-814317241e49 label.sk-toggleable__label-arrow:hover:before {color: black;}#sk-b8a413e0-6780-48fc-b0ee-814317241e49 div.sk-estimator:hover label.sk-toggleable__label-arrow:before {color: black;}#sk-b8a413e0-6780-48fc-b0ee-814317241e49 div.sk-toggleable__content {max-height: 0;max-width: 0;overflow: hidden;text-align: left;background-color: #f0f8ff;}#sk-b8a413e0-6780-48fc-b0ee-814317241e49 div.sk-toggleable__content pre {margin: 0.2em;color: black;border-radius: 0.25em;background-color: #f0f8ff;}#sk-b8a413e0-6780-48fc-b0ee-814317241e49 input.sk-toggleable__control:checked~div.sk-toggleable__content {max-height: 200px;max-width: 100%;overflow: auto;}#sk-b8a413e0-6780-48fc-b0ee-814317241e49 input.sk-toggleable__control:checked~label.sk-toggleable__label-arrow:before {content: \"▾\";}#sk-b8a413e0-6780-48fc-b0ee-814317241e49 div.sk-estimator input.sk-toggleable__control:checked~label.sk-toggleable__label {background-color: #d4ebff;}#sk-b8a413e0-6780-48fc-b0ee-814317241e49 div.sk-label input.sk-toggleable__control:checked~label.sk-toggleable__label {background-color: #d4ebff;}#sk-b8a413e0-6780-48fc-b0ee-814317241e49 input.sk-hidden--visually {border: 0;clip: rect(1px 1px 1px 1px);clip: rect(1px, 1px, 1px, 1px);height: 1px;margin: -1px;overflow: hidden;padding: 0;position: absolute;width: 1px;}#sk-b8a413e0-6780-48fc-b0ee-814317241e49 div.sk-estimator {font-family: monospace;background-color: #f0f8ff;border: 1px dotted black;border-radius: 0.25em;box-sizing: border-box;margin-bottom: 0.5em;}#sk-b8a413e0-6780-48fc-b0ee-814317241e49 div.sk-estimator:hover {background-color: #d4ebff;}#sk-b8a413e0-6780-48fc-b0ee-814317241e49 div.sk-parallel-item::after {content: \"\";width: 100%;border-bottom: 1px solid gray;flex-grow: 1;}#sk-b8a413e0-6780-48fc-b0ee-814317241e49 div.sk-label:hover label.sk-toggleable__label {background-color: #d4ebff;}#sk-b8a413e0-6780-48fc-b0ee-814317241e49 div.sk-serial::before {content: \"\";position: absolute;border-left: 1px solid gray;box-sizing: border-box;top: 2em;bottom: 0;left: 50%;}#sk-b8a413e0-6780-48fc-b0ee-814317241e49 div.sk-serial {display: flex;flex-direction: column;align-items: center;background-color: white;padding-right: 0.2em;padding-left: 0.2em;}#sk-b8a413e0-6780-48fc-b0ee-814317241e49 div.sk-item {z-index: 1;}#sk-b8a413e0-6780-48fc-b0ee-814317241e49 div.sk-parallel {display: flex;align-items: stretch;justify-content: center;background-color: white;}#sk-b8a413e0-6780-48fc-b0ee-814317241e49 div.sk-parallel::before {content: \"\";position: absolute;border-left: 1px solid gray;box-sizing: border-box;top: 2em;bottom: 0;left: 50%;}#sk-b8a413e0-6780-48fc-b0ee-814317241e49 div.sk-parallel-item {display: flex;flex-direction: column;position: relative;background-color: white;}#sk-b8a413e0-6780-48fc-b0ee-814317241e49 div.sk-parallel-item:first-child::after {align-self: flex-end;width: 50%;}#sk-b8a413e0-6780-48fc-b0ee-814317241e49 div.sk-parallel-item:last-child::after {align-self: flex-start;width: 50%;}#sk-b8a413e0-6780-48fc-b0ee-814317241e49 div.sk-parallel-item:only-child::after {width: 0;}#sk-b8a413e0-6780-48fc-b0ee-814317241e49 div.sk-dashed-wrapped {border: 1px dashed gray;margin: 0 0.4em 0.5em 0.4em;box-sizing: border-box;padding-bottom: 0.4em;background-color: white;position: relative;}#sk-b8a413e0-6780-48fc-b0ee-814317241e49 div.sk-label label {font-family: monospace;font-weight: bold;background-color: white;display: inline-block;line-height: 1.2em;}#sk-b8a413e0-6780-48fc-b0ee-814317241e49 div.sk-label-container {position: relative;z-index: 2;text-align: center;}#sk-b8a413e0-6780-48fc-b0ee-814317241e49 div.sk-container {/* jupyter's `normalize.less` sets `[hidden] { display: none; }` but bootstrap.min.css set `[hidden] { display: none !important; }` so we also need the `!important` here to be able to override the default hidden behavior on the sphinx rendered scikit-learn.org. See: https://github.com/scikit-learn/scikit-learn/issues/21755 */display: inline-block !important;position: relative;}#sk-b8a413e0-6780-48fc-b0ee-814317241e49 div.sk-text-repr-fallback {display: none;}</style><div id=\"sk-b8a413e0-6780-48fc-b0ee-814317241e49\" class=\"sk-top-container\"><div class=\"sk-text-repr-fallback\"><pre>Pipeline(steps=[(&#x27;columntransformer&#x27;,\n",
       "                 ColumnTransformer(remainder=&#x27;passthrough&#x27;,\n",
       "                                   transformers=[(&#x27;onehotencoder&#x27;,\n",
       "                                                  OneHotEncoder(handle_unknown=&#x27;ignore&#x27;),\n",
       "                                                  &lt;sklearn.compose._column_transformer.make_column_selector object at 0x7f7e38a5d3a0&gt;)],\n",
       "                                   verbose_feature_names_out=False)),\n",
       "                (&#x27;standardscaler&#x27;, StandardScaler(with_mean=False)),\n",
       "                (&#x27;linearregression&#x27;, LinearRegression())])</pre><b>Please rerun this cell to show the HTML repr or trust the notebook.</b></div><div class=\"sk-container\" hidden><div class=\"sk-item sk-dashed-wrapped\"><div class=\"sk-label-container\"><div class=\"sk-label sk-toggleable\"><input class=\"sk-toggleable__control sk-hidden--visually\" id=\"5e9b82b5-dee5-469a-858d-fc0ddca06b7b\" type=\"checkbox\" ><label for=\"5e9b82b5-dee5-469a-858d-fc0ddca06b7b\" class=\"sk-toggleable__label sk-toggleable__label-arrow\">Pipeline</label><div class=\"sk-toggleable__content\"><pre>Pipeline(steps=[(&#x27;columntransformer&#x27;,\n",
       "                 ColumnTransformer(remainder=&#x27;passthrough&#x27;,\n",
       "                                   transformers=[(&#x27;onehotencoder&#x27;,\n",
       "                                                  OneHotEncoder(handle_unknown=&#x27;ignore&#x27;),\n",
       "                                                  &lt;sklearn.compose._column_transformer.make_column_selector object at 0x7f7e38a5d3a0&gt;)],\n",
       "                                   verbose_feature_names_out=False)),\n",
       "                (&#x27;standardscaler&#x27;, StandardScaler(with_mean=False)),\n",
       "                (&#x27;linearregression&#x27;, LinearRegression())])</pre></div></div></div><div class=\"sk-serial\"><div class=\"sk-item sk-dashed-wrapped\"><div class=\"sk-label-container\"><div class=\"sk-label sk-toggleable\"><input class=\"sk-toggleable__control sk-hidden--visually\" id=\"5cec9836-045d-4eec-8669-d92c6502b541\" type=\"checkbox\" ><label for=\"5cec9836-045d-4eec-8669-d92c6502b541\" class=\"sk-toggleable__label sk-toggleable__label-arrow\">columntransformer: ColumnTransformer</label><div class=\"sk-toggleable__content\"><pre>ColumnTransformer(remainder=&#x27;passthrough&#x27;,\n",
       "                  transformers=[(&#x27;onehotencoder&#x27;,\n",
       "                                 OneHotEncoder(handle_unknown=&#x27;ignore&#x27;),\n",
       "                                 &lt;sklearn.compose._column_transformer.make_column_selector object at 0x7f7e38a5d3a0&gt;)],\n",
       "                  verbose_feature_names_out=False)</pre></div></div></div><div class=\"sk-parallel\"><div class=\"sk-parallel-item\"><div class=\"sk-item\"><div class=\"sk-label-container\"><div class=\"sk-label sk-toggleable\"><input class=\"sk-toggleable__control sk-hidden--visually\" id=\"92260f06-1520-43f3-b2be-a0b0de7a4480\" type=\"checkbox\" ><label for=\"92260f06-1520-43f3-b2be-a0b0de7a4480\" class=\"sk-toggleable__label sk-toggleable__label-arrow\">onehotencoder</label><div class=\"sk-toggleable__content\"><pre>&lt;sklearn.compose._column_transformer.make_column_selector object at 0x7f7e38a5d3a0&gt;</pre></div></div></div><div class=\"sk-serial\"><div class=\"sk-item\"><div class=\"sk-estimator sk-toggleable\"><input class=\"sk-toggleable__control sk-hidden--visually\" id=\"0be7c835-f748-41b4-8493-209ef9c3d635\" type=\"checkbox\" ><label for=\"0be7c835-f748-41b4-8493-209ef9c3d635\" class=\"sk-toggleable__label sk-toggleable__label-arrow\">OneHotEncoder</label><div class=\"sk-toggleable__content\"><pre>OneHotEncoder(handle_unknown=&#x27;ignore&#x27;)</pre></div></div></div></div></div></div><div class=\"sk-parallel-item\"><div class=\"sk-item\"><div class=\"sk-label-container\"><div class=\"sk-label sk-toggleable\"><input class=\"sk-toggleable__control sk-hidden--visually\" id=\"3b9bbf77-bc27-41a4-a950-da06861d6e9d\" type=\"checkbox\" ><label for=\"3b9bbf77-bc27-41a4-a950-da06861d6e9d\" class=\"sk-toggleable__label sk-toggleable__label-arrow\">remainder</label><div class=\"sk-toggleable__content\"><pre>[&#x27;Year Built&#x27;, &#x27;Year Remod/Add&#x27;, &#x27;Overall Qual&#x27;, &#x27;Overall Cond&#x27;, &#x27;Gr Liv Area&#x27;, &#x27;Garage Area&#x27;]</pre></div></div></div><div class=\"sk-serial\"><div class=\"sk-item\"><div class=\"sk-estimator sk-toggleable\"><input class=\"sk-toggleable__control sk-hidden--visually\" id=\"0fa6ec5c-9707-4625-9f22-a4a4502eaaa5\" type=\"checkbox\" ><label for=\"0fa6ec5c-9707-4625-9f22-a4a4502eaaa5\" class=\"sk-toggleable__label sk-toggleable__label-arrow\">passthrough</label><div class=\"sk-toggleable__content\"><pre>passthrough</pre></div></div></div></div></div></div></div></div><div class=\"sk-item\"><div class=\"sk-estimator sk-toggleable\"><input class=\"sk-toggleable__control sk-hidden--visually\" id=\"fe5b0097-63dd-4c2d-801b-f9cb84769379\" type=\"checkbox\" ><label for=\"fe5b0097-63dd-4c2d-801b-f9cb84769379\" class=\"sk-toggleable__label sk-toggleable__label-arrow\">StandardScaler</label><div class=\"sk-toggleable__content\"><pre>StandardScaler(with_mean=False)</pre></div></div></div><div class=\"sk-item\"><div class=\"sk-estimator sk-toggleable\"><input class=\"sk-toggleable__control sk-hidden--visually\" id=\"6d16e36a-ba56-4736-b63c-f8536f3166f6\" type=\"checkbox\" ><label for=\"6d16e36a-ba56-4736-b63c-f8536f3166f6\" class=\"sk-toggleable__label sk-toggleable__label-arrow\">LinearRegression</label><div class=\"sk-toggleable__content\"><pre>LinearRegression()</pre></div></div></div></div></div></div></div>"
      ],
      "text/plain": [
       "Pipeline(steps=[('columntransformer',\n",
       "                 ColumnTransformer(remainder='passthrough',\n",
       "                                   transformers=[('onehotencoder',\n",
       "                                                  OneHotEncoder(handle_unknown='ignore'),\n",
       "                                                  <sklearn.compose._column_transformer.make_column_selector object at 0x7f7e38a5d3a0>)],\n",
       "                                   verbose_feature_names_out=False)),\n",
       "                ('standardscaler', StandardScaler(with_mean=False)),\n",
       "                ('linearregression', LinearRegression())])"
      ]
     },
     "execution_count": 476,
     "metadata": {},
     "output_type": "execute_result"
    }
   ],
   "source": [
    "pipe3.fit(X_train, y_train)"
   ]
  },
  {
   "cell_type": "code",
   "execution_count": 477,
   "metadata": {},
   "outputs": [
    {
     "data": {
      "text/plain": [
       "0.8686755662913601"
      ]
     },
     "execution_count": 477,
     "metadata": {},
     "output_type": "execute_result"
    }
   ],
   "source": [
    "pipe3.score(X_test, y_test)"
   ]
  },
  {
   "cell_type": "code",
   "execution_count": 478,
   "metadata": {},
   "outputs": [],
   "source": [
    "preds = pipe3.predict(X_test)"
   ]
  },
  {
   "cell_type": "code",
   "execution_count": 479,
   "metadata": {},
   "outputs": [
    {
     "data": {
      "text/plain": [
       "28442.545078913496"
      ]
     },
     "execution_count": 479,
     "metadata": {},
     "output_type": "execute_result"
    }
   ],
   "source": [
    "mean_squared_error(y_test, preds, squared=False)"
   ]
  },
  {
   "cell_type": "markdown",
   "metadata": {},
   "source": [
    "Our RMSE using all features selected in EDA is considerably better than our baseline Linear Regression."
   ]
  },
  {
   "cell_type": "markdown",
   "metadata": {},
   "source": [
    "### Kaggle submission"
   ]
  },
  {
   "cell_type": "code",
   "execution_count": 480,
   "metadata": {},
   "outputs": [],
   "source": [
    "test['SalePrice'] = pipe3.predict(kaggle)"
   ]
  },
  {
   "cell_type": "code",
   "execution_count": 481,
   "metadata": {},
   "outputs": [],
   "source": [
    "test[['Id', 'SalePrice']].to_csv('../data/submission_all_EDA_linreg.csv', index=False)"
   ]
  },
  {
   "cell_type": "markdown",
   "metadata": {},
   "source": [
    "## Lasso and Ridge using GridSearchCV"
   ]
  },
  {
   "cell_type": "markdown",
   "metadata": {},
   "source": [
    "### Train-Test Split"
   ]
  },
  {
   "cell_type": "code",
   "execution_count": 482,
   "metadata": {},
   "outputs": [],
   "source": [
    "X = train.drop(columns='SalePrice')\n",
    "y = train['SalePrice']\n",
    "kaggle = test[X.columns]"
   ]
  },
  {
   "cell_type": "code",
   "execution_count": 483,
   "metadata": {},
   "outputs": [],
   "source": [
    "X_train, X_test, y_train, y_test = train_test_split(X, y, random_state=1331)"
   ]
  },
  {
   "cell_type": "markdown",
   "metadata": {},
   "source": [
    "### Column transformations"
   ]
  },
  {
   "cell_type": "code",
   "execution_count": 484,
   "metadata": {},
   "outputs": [
    {
     "data": {
      "text/html": [
       "<style>#sk-ad44cd0c-8d0f-442d-83b6-6ae184263455 {color: black;background-color: white;}#sk-ad44cd0c-8d0f-442d-83b6-6ae184263455 pre{padding: 0;}#sk-ad44cd0c-8d0f-442d-83b6-6ae184263455 div.sk-toggleable {background-color: white;}#sk-ad44cd0c-8d0f-442d-83b6-6ae184263455 label.sk-toggleable__label {cursor: pointer;display: block;width: 100%;margin-bottom: 0;padding: 0.3em;box-sizing: border-box;text-align: center;}#sk-ad44cd0c-8d0f-442d-83b6-6ae184263455 label.sk-toggleable__label-arrow:before {content: \"▸\";float: left;margin-right: 0.25em;color: #696969;}#sk-ad44cd0c-8d0f-442d-83b6-6ae184263455 label.sk-toggleable__label-arrow:hover:before {color: black;}#sk-ad44cd0c-8d0f-442d-83b6-6ae184263455 div.sk-estimator:hover label.sk-toggleable__label-arrow:before {color: black;}#sk-ad44cd0c-8d0f-442d-83b6-6ae184263455 div.sk-toggleable__content {max-height: 0;max-width: 0;overflow: hidden;text-align: left;background-color: #f0f8ff;}#sk-ad44cd0c-8d0f-442d-83b6-6ae184263455 div.sk-toggleable__content pre {margin: 0.2em;color: black;border-radius: 0.25em;background-color: #f0f8ff;}#sk-ad44cd0c-8d0f-442d-83b6-6ae184263455 input.sk-toggleable__control:checked~div.sk-toggleable__content {max-height: 200px;max-width: 100%;overflow: auto;}#sk-ad44cd0c-8d0f-442d-83b6-6ae184263455 input.sk-toggleable__control:checked~label.sk-toggleable__label-arrow:before {content: \"▾\";}#sk-ad44cd0c-8d0f-442d-83b6-6ae184263455 div.sk-estimator input.sk-toggleable__control:checked~label.sk-toggleable__label {background-color: #d4ebff;}#sk-ad44cd0c-8d0f-442d-83b6-6ae184263455 div.sk-label input.sk-toggleable__control:checked~label.sk-toggleable__label {background-color: #d4ebff;}#sk-ad44cd0c-8d0f-442d-83b6-6ae184263455 input.sk-hidden--visually {border: 0;clip: rect(1px 1px 1px 1px);clip: rect(1px, 1px, 1px, 1px);height: 1px;margin: -1px;overflow: hidden;padding: 0;position: absolute;width: 1px;}#sk-ad44cd0c-8d0f-442d-83b6-6ae184263455 div.sk-estimator {font-family: monospace;background-color: #f0f8ff;border: 1px dotted black;border-radius: 0.25em;box-sizing: border-box;margin-bottom: 0.5em;}#sk-ad44cd0c-8d0f-442d-83b6-6ae184263455 div.sk-estimator:hover {background-color: #d4ebff;}#sk-ad44cd0c-8d0f-442d-83b6-6ae184263455 div.sk-parallel-item::after {content: \"\";width: 100%;border-bottom: 1px solid gray;flex-grow: 1;}#sk-ad44cd0c-8d0f-442d-83b6-6ae184263455 div.sk-label:hover label.sk-toggleable__label {background-color: #d4ebff;}#sk-ad44cd0c-8d0f-442d-83b6-6ae184263455 div.sk-serial::before {content: \"\";position: absolute;border-left: 1px solid gray;box-sizing: border-box;top: 2em;bottom: 0;left: 50%;}#sk-ad44cd0c-8d0f-442d-83b6-6ae184263455 div.sk-serial {display: flex;flex-direction: column;align-items: center;background-color: white;padding-right: 0.2em;padding-left: 0.2em;}#sk-ad44cd0c-8d0f-442d-83b6-6ae184263455 div.sk-item {z-index: 1;}#sk-ad44cd0c-8d0f-442d-83b6-6ae184263455 div.sk-parallel {display: flex;align-items: stretch;justify-content: center;background-color: white;}#sk-ad44cd0c-8d0f-442d-83b6-6ae184263455 div.sk-parallel::before {content: \"\";position: absolute;border-left: 1px solid gray;box-sizing: border-box;top: 2em;bottom: 0;left: 50%;}#sk-ad44cd0c-8d0f-442d-83b6-6ae184263455 div.sk-parallel-item {display: flex;flex-direction: column;position: relative;background-color: white;}#sk-ad44cd0c-8d0f-442d-83b6-6ae184263455 div.sk-parallel-item:first-child::after {align-self: flex-end;width: 50%;}#sk-ad44cd0c-8d0f-442d-83b6-6ae184263455 div.sk-parallel-item:last-child::after {align-self: flex-start;width: 50%;}#sk-ad44cd0c-8d0f-442d-83b6-6ae184263455 div.sk-parallel-item:only-child::after {width: 0;}#sk-ad44cd0c-8d0f-442d-83b6-6ae184263455 div.sk-dashed-wrapped {border: 1px dashed gray;margin: 0 0.4em 0.5em 0.4em;box-sizing: border-box;padding-bottom: 0.4em;background-color: white;position: relative;}#sk-ad44cd0c-8d0f-442d-83b6-6ae184263455 div.sk-label label {font-family: monospace;font-weight: bold;background-color: white;display: inline-block;line-height: 1.2em;}#sk-ad44cd0c-8d0f-442d-83b6-6ae184263455 div.sk-label-container {position: relative;z-index: 2;text-align: center;}#sk-ad44cd0c-8d0f-442d-83b6-6ae184263455 div.sk-container {/* jupyter's `normalize.less` sets `[hidden] { display: none; }` but bootstrap.min.css set `[hidden] { display: none !important; }` so we also need the `!important` here to be able to override the default hidden behavior on the sphinx rendered scikit-learn.org. See: https://github.com/scikit-learn/scikit-learn/issues/21755 */display: inline-block !important;position: relative;}#sk-ad44cd0c-8d0f-442d-83b6-6ae184263455 div.sk-text-repr-fallback {display: none;}</style><div id=\"sk-ad44cd0c-8d0f-442d-83b6-6ae184263455\" class=\"sk-top-container\"><div class=\"sk-text-repr-fallback\"><pre>ColumnTransformer(remainder=&#x27;passthrough&#x27;,\n",
       "                  transformers=[(&#x27;onehotencoder&#x27;,\n",
       "                                 OneHotEncoder(handle_unknown=&#x27;ignore&#x27;),\n",
       "                                 &lt;sklearn.compose._column_transformer.make_column_selector object at 0x7f7e376f12b0&gt;)],\n",
       "                  verbose_feature_names_out=False)</pre><b>Please rerun this cell to show the HTML repr or trust the notebook.</b></div><div class=\"sk-container\" hidden><div class=\"sk-item sk-dashed-wrapped\"><div class=\"sk-label-container\"><div class=\"sk-label sk-toggleable\"><input class=\"sk-toggleable__control sk-hidden--visually\" id=\"8b34fde7-2a0b-4e27-bebc-aab7d275bc5f\" type=\"checkbox\" ><label for=\"8b34fde7-2a0b-4e27-bebc-aab7d275bc5f\" class=\"sk-toggleable__label sk-toggleable__label-arrow\">ColumnTransformer</label><div class=\"sk-toggleable__content\"><pre>ColumnTransformer(remainder=&#x27;passthrough&#x27;,\n",
       "                  transformers=[(&#x27;onehotencoder&#x27;,\n",
       "                                 OneHotEncoder(handle_unknown=&#x27;ignore&#x27;),\n",
       "                                 &lt;sklearn.compose._column_transformer.make_column_selector object at 0x7f7e376f12b0&gt;)],\n",
       "                  verbose_feature_names_out=False)</pre></div></div></div><div class=\"sk-parallel\"><div class=\"sk-parallel-item\"><div class=\"sk-item\"><div class=\"sk-label-container\"><div class=\"sk-label sk-toggleable\"><input class=\"sk-toggleable__control sk-hidden--visually\" id=\"1e80d78b-e769-4ee6-823c-f156f497ab01\" type=\"checkbox\" ><label for=\"1e80d78b-e769-4ee6-823c-f156f497ab01\" class=\"sk-toggleable__label sk-toggleable__label-arrow\">onehotencoder</label><div class=\"sk-toggleable__content\"><pre>&lt;sklearn.compose._column_transformer.make_column_selector object at 0x7f7e376f12b0&gt;</pre></div></div></div><div class=\"sk-serial\"><div class=\"sk-item\"><div class=\"sk-estimator sk-toggleable\"><input class=\"sk-toggleable__control sk-hidden--visually\" id=\"dd2d9ca0-5b2f-4280-a8ee-849ab36d14bd\" type=\"checkbox\" ><label for=\"dd2d9ca0-5b2f-4280-a8ee-849ab36d14bd\" class=\"sk-toggleable__label sk-toggleable__label-arrow\">OneHotEncoder</label><div class=\"sk-toggleable__content\"><pre>OneHotEncoder(handle_unknown=&#x27;ignore&#x27;)</pre></div></div></div></div></div></div><div class=\"sk-parallel-item\"><div class=\"sk-item\"><div class=\"sk-label-container\"><div class=\"sk-label sk-toggleable\"><input class=\"sk-toggleable__control sk-hidden--visually\" id=\"a2c218ca-0be7-4ceb-84b7-355ae6b39f11\" type=\"checkbox\" ><label for=\"a2c218ca-0be7-4ceb-84b7-355ae6b39f11\" class=\"sk-toggleable__label sk-toggleable__label-arrow\">remainder</label><div class=\"sk-toggleable__content\"><pre></pre></div></div></div><div class=\"sk-serial\"><div class=\"sk-item\"><div class=\"sk-estimator sk-toggleable\"><input class=\"sk-toggleable__control sk-hidden--visually\" id=\"21acf190-595d-4da6-bc92-5fdfa7cf1491\" type=\"checkbox\" ><label for=\"21acf190-595d-4da6-bc92-5fdfa7cf1491\" class=\"sk-toggleable__label sk-toggleable__label-arrow\">passthrough</label><div class=\"sk-toggleable__content\"><pre>passthrough</pre></div></div></div></div></div></div></div></div></div></div>"
      ],
      "text/plain": [
       "ColumnTransformer(remainder='passthrough',\n",
       "                  transformers=[('onehotencoder',\n",
       "                                 OneHotEncoder(handle_unknown='ignore'),\n",
       "                                 <sklearn.compose._column_transformer.make_column_selector object at 0x7f7e376f12b0>)],\n",
       "                  verbose_feature_names_out=False)"
      ]
     },
     "execution_count": 484,
     "metadata": {},
     "output_type": "execute_result"
    }
   ],
   "source": [
    "ct4 = make_column_transformer(\n",
    "    (OneHotEncoder(handle_unknown='ignore'), make_column_selector(dtype_include=object)),\n",
    "    remainder='passthrough',\n",
    "    verbose_feature_names_out=False\n",
    ")\n",
    "ct4"
   ]
  },
  {
   "cell_type": "markdown",
   "metadata": {},
   "source": [
    "### Pipeline with Column transformer, Standard Scaler and Lasso Regression"
   ]
  },
  {
   "cell_type": "code",
   "execution_count": 485,
   "metadata": {},
   "outputs": [
    {
     "data": {
      "text/html": [
       "<style>#sk-d1f5324c-8ea9-421a-be34-093c436d43f4 {color: black;background-color: white;}#sk-d1f5324c-8ea9-421a-be34-093c436d43f4 pre{padding: 0;}#sk-d1f5324c-8ea9-421a-be34-093c436d43f4 div.sk-toggleable {background-color: white;}#sk-d1f5324c-8ea9-421a-be34-093c436d43f4 label.sk-toggleable__label {cursor: pointer;display: block;width: 100%;margin-bottom: 0;padding: 0.3em;box-sizing: border-box;text-align: center;}#sk-d1f5324c-8ea9-421a-be34-093c436d43f4 label.sk-toggleable__label-arrow:before {content: \"▸\";float: left;margin-right: 0.25em;color: #696969;}#sk-d1f5324c-8ea9-421a-be34-093c436d43f4 label.sk-toggleable__label-arrow:hover:before {color: black;}#sk-d1f5324c-8ea9-421a-be34-093c436d43f4 div.sk-estimator:hover label.sk-toggleable__label-arrow:before {color: black;}#sk-d1f5324c-8ea9-421a-be34-093c436d43f4 div.sk-toggleable__content {max-height: 0;max-width: 0;overflow: hidden;text-align: left;background-color: #f0f8ff;}#sk-d1f5324c-8ea9-421a-be34-093c436d43f4 div.sk-toggleable__content pre {margin: 0.2em;color: black;border-radius: 0.25em;background-color: #f0f8ff;}#sk-d1f5324c-8ea9-421a-be34-093c436d43f4 input.sk-toggleable__control:checked~div.sk-toggleable__content {max-height: 200px;max-width: 100%;overflow: auto;}#sk-d1f5324c-8ea9-421a-be34-093c436d43f4 input.sk-toggleable__control:checked~label.sk-toggleable__label-arrow:before {content: \"▾\";}#sk-d1f5324c-8ea9-421a-be34-093c436d43f4 div.sk-estimator input.sk-toggleable__control:checked~label.sk-toggleable__label {background-color: #d4ebff;}#sk-d1f5324c-8ea9-421a-be34-093c436d43f4 div.sk-label input.sk-toggleable__control:checked~label.sk-toggleable__label {background-color: #d4ebff;}#sk-d1f5324c-8ea9-421a-be34-093c436d43f4 input.sk-hidden--visually {border: 0;clip: rect(1px 1px 1px 1px);clip: rect(1px, 1px, 1px, 1px);height: 1px;margin: -1px;overflow: hidden;padding: 0;position: absolute;width: 1px;}#sk-d1f5324c-8ea9-421a-be34-093c436d43f4 div.sk-estimator {font-family: monospace;background-color: #f0f8ff;border: 1px dotted black;border-radius: 0.25em;box-sizing: border-box;margin-bottom: 0.5em;}#sk-d1f5324c-8ea9-421a-be34-093c436d43f4 div.sk-estimator:hover {background-color: #d4ebff;}#sk-d1f5324c-8ea9-421a-be34-093c436d43f4 div.sk-parallel-item::after {content: \"\";width: 100%;border-bottom: 1px solid gray;flex-grow: 1;}#sk-d1f5324c-8ea9-421a-be34-093c436d43f4 div.sk-label:hover label.sk-toggleable__label {background-color: #d4ebff;}#sk-d1f5324c-8ea9-421a-be34-093c436d43f4 div.sk-serial::before {content: \"\";position: absolute;border-left: 1px solid gray;box-sizing: border-box;top: 2em;bottom: 0;left: 50%;}#sk-d1f5324c-8ea9-421a-be34-093c436d43f4 div.sk-serial {display: flex;flex-direction: column;align-items: center;background-color: white;padding-right: 0.2em;padding-left: 0.2em;}#sk-d1f5324c-8ea9-421a-be34-093c436d43f4 div.sk-item {z-index: 1;}#sk-d1f5324c-8ea9-421a-be34-093c436d43f4 div.sk-parallel {display: flex;align-items: stretch;justify-content: center;background-color: white;}#sk-d1f5324c-8ea9-421a-be34-093c436d43f4 div.sk-parallel::before {content: \"\";position: absolute;border-left: 1px solid gray;box-sizing: border-box;top: 2em;bottom: 0;left: 50%;}#sk-d1f5324c-8ea9-421a-be34-093c436d43f4 div.sk-parallel-item {display: flex;flex-direction: column;position: relative;background-color: white;}#sk-d1f5324c-8ea9-421a-be34-093c436d43f4 div.sk-parallel-item:first-child::after {align-self: flex-end;width: 50%;}#sk-d1f5324c-8ea9-421a-be34-093c436d43f4 div.sk-parallel-item:last-child::after {align-self: flex-start;width: 50%;}#sk-d1f5324c-8ea9-421a-be34-093c436d43f4 div.sk-parallel-item:only-child::after {width: 0;}#sk-d1f5324c-8ea9-421a-be34-093c436d43f4 div.sk-dashed-wrapped {border: 1px dashed gray;margin: 0 0.4em 0.5em 0.4em;box-sizing: border-box;padding-bottom: 0.4em;background-color: white;position: relative;}#sk-d1f5324c-8ea9-421a-be34-093c436d43f4 div.sk-label label {font-family: monospace;font-weight: bold;background-color: white;display: inline-block;line-height: 1.2em;}#sk-d1f5324c-8ea9-421a-be34-093c436d43f4 div.sk-label-container {position: relative;z-index: 2;text-align: center;}#sk-d1f5324c-8ea9-421a-be34-093c436d43f4 div.sk-container {/* jupyter's `normalize.less` sets `[hidden] { display: none; }` but bootstrap.min.css set `[hidden] { display: none !important; }` so we also need the `!important` here to be able to override the default hidden behavior on the sphinx rendered scikit-learn.org. See: https://github.com/scikit-learn/scikit-learn/issues/21755 */display: inline-block !important;position: relative;}#sk-d1f5324c-8ea9-421a-be34-093c436d43f4 div.sk-text-repr-fallback {display: none;}</style><div id=\"sk-d1f5324c-8ea9-421a-be34-093c436d43f4\" class=\"sk-top-container\"><div class=\"sk-text-repr-fallback\"><pre>Pipeline(steps=[(&#x27;columntransformer&#x27;,\n",
       "                 ColumnTransformer(remainder=&#x27;passthrough&#x27;,\n",
       "                                   transformers=[(&#x27;onehotencoder&#x27;,\n",
       "                                                  OneHotEncoder(handle_unknown=&#x27;ignore&#x27;),\n",
       "                                                  &lt;sklearn.compose._column_transformer.make_column_selector object at 0x7f7e376f12b0&gt;)],\n",
       "                                   verbose_feature_names_out=False)),\n",
       "                (&#x27;standardscaler&#x27;, StandardScaler(with_mean=False)),\n",
       "                (&#x27;lasso&#x27;, Lasso())])</pre><b>Please rerun this cell to show the HTML repr or trust the notebook.</b></div><div class=\"sk-container\" hidden><div class=\"sk-item sk-dashed-wrapped\"><div class=\"sk-label-container\"><div class=\"sk-label sk-toggleable\"><input class=\"sk-toggleable__control sk-hidden--visually\" id=\"e312cd20-6876-4bb9-903d-0fb7dbac4024\" type=\"checkbox\" ><label for=\"e312cd20-6876-4bb9-903d-0fb7dbac4024\" class=\"sk-toggleable__label sk-toggleable__label-arrow\">Pipeline</label><div class=\"sk-toggleable__content\"><pre>Pipeline(steps=[(&#x27;columntransformer&#x27;,\n",
       "                 ColumnTransformer(remainder=&#x27;passthrough&#x27;,\n",
       "                                   transformers=[(&#x27;onehotencoder&#x27;,\n",
       "                                                  OneHotEncoder(handle_unknown=&#x27;ignore&#x27;),\n",
       "                                                  &lt;sklearn.compose._column_transformer.make_column_selector object at 0x7f7e376f12b0&gt;)],\n",
       "                                   verbose_feature_names_out=False)),\n",
       "                (&#x27;standardscaler&#x27;, StandardScaler(with_mean=False)),\n",
       "                (&#x27;lasso&#x27;, Lasso())])</pre></div></div></div><div class=\"sk-serial\"><div class=\"sk-item sk-dashed-wrapped\"><div class=\"sk-label-container\"><div class=\"sk-label sk-toggleable\"><input class=\"sk-toggleable__control sk-hidden--visually\" id=\"01c36faa-ece1-4fe2-84a2-ca1f2ec92ad9\" type=\"checkbox\" ><label for=\"01c36faa-ece1-4fe2-84a2-ca1f2ec92ad9\" class=\"sk-toggleable__label sk-toggleable__label-arrow\">columntransformer: ColumnTransformer</label><div class=\"sk-toggleable__content\"><pre>ColumnTransformer(remainder=&#x27;passthrough&#x27;,\n",
       "                  transformers=[(&#x27;onehotencoder&#x27;,\n",
       "                                 OneHotEncoder(handle_unknown=&#x27;ignore&#x27;),\n",
       "                                 &lt;sklearn.compose._column_transformer.make_column_selector object at 0x7f7e376f12b0&gt;)],\n",
       "                  verbose_feature_names_out=False)</pre></div></div></div><div class=\"sk-parallel\"><div class=\"sk-parallel-item\"><div class=\"sk-item\"><div class=\"sk-label-container\"><div class=\"sk-label sk-toggleable\"><input class=\"sk-toggleable__control sk-hidden--visually\" id=\"b2b21bb4-1726-4e7f-b63d-ff3b5e0d18ce\" type=\"checkbox\" ><label for=\"b2b21bb4-1726-4e7f-b63d-ff3b5e0d18ce\" class=\"sk-toggleable__label sk-toggleable__label-arrow\">onehotencoder</label><div class=\"sk-toggleable__content\"><pre>&lt;sklearn.compose._column_transformer.make_column_selector object at 0x7f7e376f12b0&gt;</pre></div></div></div><div class=\"sk-serial\"><div class=\"sk-item\"><div class=\"sk-estimator sk-toggleable\"><input class=\"sk-toggleable__control sk-hidden--visually\" id=\"87186498-cb4f-45c0-a141-798da1973170\" type=\"checkbox\" ><label for=\"87186498-cb4f-45c0-a141-798da1973170\" class=\"sk-toggleable__label sk-toggleable__label-arrow\">OneHotEncoder</label><div class=\"sk-toggleable__content\"><pre>OneHotEncoder(handle_unknown=&#x27;ignore&#x27;)</pre></div></div></div></div></div></div><div class=\"sk-parallel-item\"><div class=\"sk-item\"><div class=\"sk-label-container\"><div class=\"sk-label sk-toggleable\"><input class=\"sk-toggleable__control sk-hidden--visually\" id=\"1bedb6d8-22b3-49f3-b52d-c5badcf2eab5\" type=\"checkbox\" ><label for=\"1bedb6d8-22b3-49f3-b52d-c5badcf2eab5\" class=\"sk-toggleable__label sk-toggleable__label-arrow\">remainder</label><div class=\"sk-toggleable__content\"><pre></pre></div></div></div><div class=\"sk-serial\"><div class=\"sk-item\"><div class=\"sk-estimator sk-toggleable\"><input class=\"sk-toggleable__control sk-hidden--visually\" id=\"fe8aea8e-f8ac-4e5c-a5f0-47bec9e66b8e\" type=\"checkbox\" ><label for=\"fe8aea8e-f8ac-4e5c-a5f0-47bec9e66b8e\" class=\"sk-toggleable__label sk-toggleable__label-arrow\">passthrough</label><div class=\"sk-toggleable__content\"><pre>passthrough</pre></div></div></div></div></div></div></div></div><div class=\"sk-item\"><div class=\"sk-estimator sk-toggleable\"><input class=\"sk-toggleable__control sk-hidden--visually\" id=\"8023eddc-da9d-4e3d-a459-b2fe2a979fc6\" type=\"checkbox\" ><label for=\"8023eddc-da9d-4e3d-a459-b2fe2a979fc6\" class=\"sk-toggleable__label sk-toggleable__label-arrow\">StandardScaler</label><div class=\"sk-toggleable__content\"><pre>StandardScaler(with_mean=False)</pre></div></div></div><div class=\"sk-item\"><div class=\"sk-estimator sk-toggleable\"><input class=\"sk-toggleable__control sk-hidden--visually\" id=\"201b1a69-7f2c-468f-9fff-9efc319b3584\" type=\"checkbox\" ><label for=\"201b1a69-7f2c-468f-9fff-9efc319b3584\" class=\"sk-toggleable__label sk-toggleable__label-arrow\">Lasso</label><div class=\"sk-toggleable__content\"><pre>Lasso()</pre></div></div></div></div></div></div></div>"
      ],
      "text/plain": [
       "Pipeline(steps=[('columntransformer',\n",
       "                 ColumnTransformer(remainder='passthrough',\n",
       "                                   transformers=[('onehotencoder',\n",
       "                                                  OneHotEncoder(handle_unknown='ignore'),\n",
       "                                                  <sklearn.compose._column_transformer.make_column_selector object at 0x7f7e376f12b0>)],\n",
       "                                   verbose_feature_names_out=False)),\n",
       "                ('standardscaler', StandardScaler(with_mean=False)),\n",
       "                ('lasso', Lasso())])"
      ]
     },
     "execution_count": 485,
     "metadata": {},
     "output_type": "execute_result"
    }
   ],
   "source": [
    "pipe4 = make_pipeline(ct4, StandardScaler(with_mean=False), Lasso())\n",
    "pipe4"
   ]
  },
  {
   "cell_type": "code",
   "execution_count": 486,
   "metadata": {},
   "outputs": [],
   "source": [
    "params = {\n",
    "    'lasso__alpha': [.01, .1, 1, 10, 100],\n",
    "    'lasso__max_iter': [100_000]\n",
    "}"
   ]
  },
  {
   "cell_type": "markdown",
   "metadata": {},
   "source": [
    "### Grid Search"
   ]
  },
  {
   "cell_type": "code",
   "execution_count": 487,
   "metadata": {},
   "outputs": [
    {
     "data": {
      "text/html": [
       "<style>#sk-ac88bf50-669e-4f3b-bbcf-4fc8d05c50a2 {color: black;background-color: white;}#sk-ac88bf50-669e-4f3b-bbcf-4fc8d05c50a2 pre{padding: 0;}#sk-ac88bf50-669e-4f3b-bbcf-4fc8d05c50a2 div.sk-toggleable {background-color: white;}#sk-ac88bf50-669e-4f3b-bbcf-4fc8d05c50a2 label.sk-toggleable__label {cursor: pointer;display: block;width: 100%;margin-bottom: 0;padding: 0.3em;box-sizing: border-box;text-align: center;}#sk-ac88bf50-669e-4f3b-bbcf-4fc8d05c50a2 label.sk-toggleable__label-arrow:before {content: \"▸\";float: left;margin-right: 0.25em;color: #696969;}#sk-ac88bf50-669e-4f3b-bbcf-4fc8d05c50a2 label.sk-toggleable__label-arrow:hover:before {color: black;}#sk-ac88bf50-669e-4f3b-bbcf-4fc8d05c50a2 div.sk-estimator:hover label.sk-toggleable__label-arrow:before {color: black;}#sk-ac88bf50-669e-4f3b-bbcf-4fc8d05c50a2 div.sk-toggleable__content {max-height: 0;max-width: 0;overflow: hidden;text-align: left;background-color: #f0f8ff;}#sk-ac88bf50-669e-4f3b-bbcf-4fc8d05c50a2 div.sk-toggleable__content pre {margin: 0.2em;color: black;border-radius: 0.25em;background-color: #f0f8ff;}#sk-ac88bf50-669e-4f3b-bbcf-4fc8d05c50a2 input.sk-toggleable__control:checked~div.sk-toggleable__content {max-height: 200px;max-width: 100%;overflow: auto;}#sk-ac88bf50-669e-4f3b-bbcf-4fc8d05c50a2 input.sk-toggleable__control:checked~label.sk-toggleable__label-arrow:before {content: \"▾\";}#sk-ac88bf50-669e-4f3b-bbcf-4fc8d05c50a2 div.sk-estimator input.sk-toggleable__control:checked~label.sk-toggleable__label {background-color: #d4ebff;}#sk-ac88bf50-669e-4f3b-bbcf-4fc8d05c50a2 div.sk-label input.sk-toggleable__control:checked~label.sk-toggleable__label {background-color: #d4ebff;}#sk-ac88bf50-669e-4f3b-bbcf-4fc8d05c50a2 input.sk-hidden--visually {border: 0;clip: rect(1px 1px 1px 1px);clip: rect(1px, 1px, 1px, 1px);height: 1px;margin: -1px;overflow: hidden;padding: 0;position: absolute;width: 1px;}#sk-ac88bf50-669e-4f3b-bbcf-4fc8d05c50a2 div.sk-estimator {font-family: monospace;background-color: #f0f8ff;border: 1px dotted black;border-radius: 0.25em;box-sizing: border-box;margin-bottom: 0.5em;}#sk-ac88bf50-669e-4f3b-bbcf-4fc8d05c50a2 div.sk-estimator:hover {background-color: #d4ebff;}#sk-ac88bf50-669e-4f3b-bbcf-4fc8d05c50a2 div.sk-parallel-item::after {content: \"\";width: 100%;border-bottom: 1px solid gray;flex-grow: 1;}#sk-ac88bf50-669e-4f3b-bbcf-4fc8d05c50a2 div.sk-label:hover label.sk-toggleable__label {background-color: #d4ebff;}#sk-ac88bf50-669e-4f3b-bbcf-4fc8d05c50a2 div.sk-serial::before {content: \"\";position: absolute;border-left: 1px solid gray;box-sizing: border-box;top: 2em;bottom: 0;left: 50%;}#sk-ac88bf50-669e-4f3b-bbcf-4fc8d05c50a2 div.sk-serial {display: flex;flex-direction: column;align-items: center;background-color: white;padding-right: 0.2em;padding-left: 0.2em;}#sk-ac88bf50-669e-4f3b-bbcf-4fc8d05c50a2 div.sk-item {z-index: 1;}#sk-ac88bf50-669e-4f3b-bbcf-4fc8d05c50a2 div.sk-parallel {display: flex;align-items: stretch;justify-content: center;background-color: white;}#sk-ac88bf50-669e-4f3b-bbcf-4fc8d05c50a2 div.sk-parallel::before {content: \"\";position: absolute;border-left: 1px solid gray;box-sizing: border-box;top: 2em;bottom: 0;left: 50%;}#sk-ac88bf50-669e-4f3b-bbcf-4fc8d05c50a2 div.sk-parallel-item {display: flex;flex-direction: column;position: relative;background-color: white;}#sk-ac88bf50-669e-4f3b-bbcf-4fc8d05c50a2 div.sk-parallel-item:first-child::after {align-self: flex-end;width: 50%;}#sk-ac88bf50-669e-4f3b-bbcf-4fc8d05c50a2 div.sk-parallel-item:last-child::after {align-self: flex-start;width: 50%;}#sk-ac88bf50-669e-4f3b-bbcf-4fc8d05c50a2 div.sk-parallel-item:only-child::after {width: 0;}#sk-ac88bf50-669e-4f3b-bbcf-4fc8d05c50a2 div.sk-dashed-wrapped {border: 1px dashed gray;margin: 0 0.4em 0.5em 0.4em;box-sizing: border-box;padding-bottom: 0.4em;background-color: white;position: relative;}#sk-ac88bf50-669e-4f3b-bbcf-4fc8d05c50a2 div.sk-label label {font-family: monospace;font-weight: bold;background-color: white;display: inline-block;line-height: 1.2em;}#sk-ac88bf50-669e-4f3b-bbcf-4fc8d05c50a2 div.sk-label-container {position: relative;z-index: 2;text-align: center;}#sk-ac88bf50-669e-4f3b-bbcf-4fc8d05c50a2 div.sk-container {/* jupyter's `normalize.less` sets `[hidden] { display: none; }` but bootstrap.min.css set `[hidden] { display: none !important; }` so we also need the `!important` here to be able to override the default hidden behavior on the sphinx rendered scikit-learn.org. See: https://github.com/scikit-learn/scikit-learn/issues/21755 */display: inline-block !important;position: relative;}#sk-ac88bf50-669e-4f3b-bbcf-4fc8d05c50a2 div.sk-text-repr-fallback {display: none;}</style><div id=\"sk-ac88bf50-669e-4f3b-bbcf-4fc8d05c50a2\" class=\"sk-top-container\"><div class=\"sk-text-repr-fallback\"><pre>GridSearchCV(estimator=Pipeline(steps=[(&#x27;columntransformer&#x27;,\n",
       "                                        ColumnTransformer(remainder=&#x27;passthrough&#x27;,\n",
       "                                                          transformers=[(&#x27;onehotencoder&#x27;,\n",
       "                                                                         OneHotEncoder(handle_unknown=&#x27;ignore&#x27;),\n",
       "                                                                         &lt;sklearn.compose._column_transformer.make_column_selector object at 0x7f7e376f12b0&gt;)],\n",
       "                                                          verbose_feature_names_out=False)),\n",
       "                                       (&#x27;standardscaler&#x27;,\n",
       "                                        StandardScaler(with_mean=False)),\n",
       "                                       (&#x27;lasso&#x27;, Lasso())]),\n",
       "             n_jobs=-1,\n",
       "             param_grid={&#x27;lasso__alpha&#x27;: [0.01, 0.1, 1, 10, 100],\n",
       "                         &#x27;lasso__max_iter&#x27;: [100000]})</pre><b>Please rerun this cell to show the HTML repr or trust the notebook.</b></div><div class=\"sk-container\" hidden><div class=\"sk-item sk-dashed-wrapped\"><div class=\"sk-label-container\"><div class=\"sk-label sk-toggleable\"><input class=\"sk-toggleable__control sk-hidden--visually\" id=\"38d60cd5-c4e5-4e7c-8cfb-8d74ea9a5a13\" type=\"checkbox\" ><label for=\"38d60cd5-c4e5-4e7c-8cfb-8d74ea9a5a13\" class=\"sk-toggleable__label sk-toggleable__label-arrow\">GridSearchCV</label><div class=\"sk-toggleable__content\"><pre>GridSearchCV(estimator=Pipeline(steps=[(&#x27;columntransformer&#x27;,\n",
       "                                        ColumnTransformer(remainder=&#x27;passthrough&#x27;,\n",
       "                                                          transformers=[(&#x27;onehotencoder&#x27;,\n",
       "                                                                         OneHotEncoder(handle_unknown=&#x27;ignore&#x27;),\n",
       "                                                                         &lt;sklearn.compose._column_transformer.make_column_selector object at 0x7f7e376f12b0&gt;)],\n",
       "                                                          verbose_feature_names_out=False)),\n",
       "                                       (&#x27;standardscaler&#x27;,\n",
       "                                        StandardScaler(with_mean=False)),\n",
       "                                       (&#x27;lasso&#x27;, Lasso())]),\n",
       "             n_jobs=-1,\n",
       "             param_grid={&#x27;lasso__alpha&#x27;: [0.01, 0.1, 1, 10, 100],\n",
       "                         &#x27;lasso__max_iter&#x27;: [100000]})</pre></div></div></div><div class=\"sk-parallel\"><div class=\"sk-parallel-item\"><div class=\"sk-item\"><div class=\"sk-serial\"><div class=\"sk-item\"><div class=\"sk-serial\"><div class=\"sk-item sk-dashed-wrapped\"><div class=\"sk-label-container\"><div class=\"sk-label sk-toggleable\"><input class=\"sk-toggleable__control sk-hidden--visually\" id=\"38896462-cfbf-41c2-95cb-e5042dc460a7\" type=\"checkbox\" ><label for=\"38896462-cfbf-41c2-95cb-e5042dc460a7\" class=\"sk-toggleable__label sk-toggleable__label-arrow\">columntransformer: ColumnTransformer</label><div class=\"sk-toggleable__content\"><pre>ColumnTransformer(remainder=&#x27;passthrough&#x27;,\n",
       "                  transformers=[(&#x27;onehotencoder&#x27;,\n",
       "                                 OneHotEncoder(handle_unknown=&#x27;ignore&#x27;),\n",
       "                                 &lt;sklearn.compose._column_transformer.make_column_selector object at 0x7f7e376f12b0&gt;)],\n",
       "                  verbose_feature_names_out=False)</pre></div></div></div><div class=\"sk-parallel\"><div class=\"sk-parallel-item\"><div class=\"sk-item\"><div class=\"sk-label-container\"><div class=\"sk-label sk-toggleable\"><input class=\"sk-toggleable__control sk-hidden--visually\" id=\"3b2aea71-cbf0-478e-b2ba-ec9995b0705b\" type=\"checkbox\" ><label for=\"3b2aea71-cbf0-478e-b2ba-ec9995b0705b\" class=\"sk-toggleable__label sk-toggleable__label-arrow\">onehotencoder</label><div class=\"sk-toggleable__content\"><pre>&lt;sklearn.compose._column_transformer.make_column_selector object at 0x7f7e376f12b0&gt;</pre></div></div></div><div class=\"sk-serial\"><div class=\"sk-item\"><div class=\"sk-estimator sk-toggleable\"><input class=\"sk-toggleable__control sk-hidden--visually\" id=\"42807745-e314-4d9c-b986-798a945a242d\" type=\"checkbox\" ><label for=\"42807745-e314-4d9c-b986-798a945a242d\" class=\"sk-toggleable__label sk-toggleable__label-arrow\">OneHotEncoder</label><div class=\"sk-toggleable__content\"><pre>OneHotEncoder(handle_unknown=&#x27;ignore&#x27;)</pre></div></div></div></div></div></div><div class=\"sk-parallel-item\"><div class=\"sk-item\"><div class=\"sk-label-container\"><div class=\"sk-label sk-toggleable\"><input class=\"sk-toggleable__control sk-hidden--visually\" id=\"d915aedc-1e52-44a9-bd3b-af6050204256\" type=\"checkbox\" ><label for=\"d915aedc-1e52-44a9-bd3b-af6050204256\" class=\"sk-toggleable__label sk-toggleable__label-arrow\">remainder</label><div class=\"sk-toggleable__content\"><pre></pre></div></div></div><div class=\"sk-serial\"><div class=\"sk-item\"><div class=\"sk-estimator sk-toggleable\"><input class=\"sk-toggleable__control sk-hidden--visually\" id=\"84250586-b7b8-4508-92ab-ea8e6256ffca\" type=\"checkbox\" ><label for=\"84250586-b7b8-4508-92ab-ea8e6256ffca\" class=\"sk-toggleable__label sk-toggleable__label-arrow\">passthrough</label><div class=\"sk-toggleable__content\"><pre>passthrough</pre></div></div></div></div></div></div></div></div><div class=\"sk-item\"><div class=\"sk-estimator sk-toggleable\"><input class=\"sk-toggleable__control sk-hidden--visually\" id=\"a7865a6a-0809-4cb7-8b14-0d9387e4aa32\" type=\"checkbox\" ><label for=\"a7865a6a-0809-4cb7-8b14-0d9387e4aa32\" class=\"sk-toggleable__label sk-toggleable__label-arrow\">StandardScaler</label><div class=\"sk-toggleable__content\"><pre>StandardScaler(with_mean=False)</pre></div></div></div><div class=\"sk-item\"><div class=\"sk-estimator sk-toggleable\"><input class=\"sk-toggleable__control sk-hidden--visually\" id=\"e187e507-4b31-4867-89af-2f24d919f495\" type=\"checkbox\" ><label for=\"e187e507-4b31-4867-89af-2f24d919f495\" class=\"sk-toggleable__label sk-toggleable__label-arrow\">Lasso</label><div class=\"sk-toggleable__content\"><pre>Lasso()</pre></div></div></div></div></div></div></div></div></div></div></div></div>"
      ],
      "text/plain": [
       "GridSearchCV(estimator=Pipeline(steps=[('columntransformer',\n",
       "                                        ColumnTransformer(remainder='passthrough',\n",
       "                                                          transformers=[('onehotencoder',\n",
       "                                                                         OneHotEncoder(handle_unknown='ignore'),\n",
       "                                                                         <sklearn.compose._column_transformer.make_column_selector object at 0x7f7e376f12b0>)],\n",
       "                                                          verbose_feature_names_out=False)),\n",
       "                                       ('standardscaler',\n",
       "                                        StandardScaler(with_mean=False)),\n",
       "                                       ('lasso', Lasso())]),\n",
       "             n_jobs=-1,\n",
       "             param_grid={'lasso__alpha': [0.01, 0.1, 1, 10, 100],\n",
       "                         'lasso__max_iter': [100000]})"
      ]
     },
     "execution_count": 487,
     "metadata": {},
     "output_type": "execute_result"
    }
   ],
   "source": [
    "gs1 = GridSearchCV(pipe4, params, n_jobs=-1)\n",
    "gs1"
   ]
  },
  {
   "cell_type": "code",
   "execution_count": 488,
   "metadata": {},
   "outputs": [
    {
     "name": "stderr",
     "output_type": "stream",
     "text": [
      "/Users/andresperez/opt/anaconda3/lib/python3.9/site-packages/sklearn/linear_model/_coordinate_descent.py:609: ConvergenceWarning: Objective did not converge. You might want to increase the number of iterations. Duality gap: 33084213288.819946, tolerance: 809217212.7634053\n",
      "  model = cd_fast.sparse_enet_coordinate_descent(\n",
      "/Users/andresperez/opt/anaconda3/lib/python3.9/site-packages/sklearn/linear_model/_coordinate_descent.py:609: ConvergenceWarning: Objective did not converge. You might want to increase the number of iterations. Duality gap: 12972445320.61621, tolerance: 786746043.5407102\n",
      "  model = cd_fast.sparse_enet_coordinate_descent(\n",
      "/Users/andresperez/opt/anaconda3/lib/python3.9/site-packages/sklearn/linear_model/_coordinate_descent.py:609: ConvergenceWarning: Objective did not converge. You might want to increase the number of iterations. Duality gap: 9768744883.265259, tolerance: 762418493.9368267\n",
      "  model = cd_fast.sparse_enet_coordinate_descent(\n",
      "/Users/andresperez/opt/anaconda3/lib/python3.9/site-packages/sklearn/linear_model/_coordinate_descent.py:609: ConvergenceWarning: Objective did not converge. You might want to increase the number of iterations. Duality gap: 23599891945.80127, tolerance: 778519905.4264531\n",
      "  model = cd_fast.sparse_enet_coordinate_descent(\n",
      "/Users/andresperez/opt/anaconda3/lib/python3.9/site-packages/sklearn/linear_model/_coordinate_descent.py:609: ConvergenceWarning: Objective did not converge. You might want to increase the number of iterations. Duality gap: 28265441458.642822, tolerance: 748593619.9540006\n",
      "  model = cd_fast.sparse_enet_coordinate_descent(\n"
     ]
    },
    {
     "data": {
      "text/plain": [
       "0.8694410739351349"
      ]
     },
     "execution_count": 488,
     "metadata": {},
     "output_type": "execute_result"
    }
   ],
   "source": [
    "gs1.fit(X_train, y_train)\n",
    "gs1.score(X_test, y_test)"
   ]
  },
  {
   "cell_type": "code",
   "execution_count": 489,
   "metadata": {},
   "outputs": [
    {
     "data": {
      "text/plain": [
       "28359.526225239984"
      ]
     },
     "execution_count": 489,
     "metadata": {},
     "output_type": "execute_result"
    }
   ],
   "source": [
    "preds = gs1.predict(X_test)\n",
    "mean_squared_error(y_test, preds, squared=False)"
   ]
  },
  {
   "cell_type": "markdown",
   "metadata": {},
   "source": [
    "### Kaggle submission Lasso"
   ]
  },
  {
   "cell_type": "code",
   "execution_count": 490,
   "metadata": {},
   "outputs": [],
   "source": [
    "test['SalePrice'] = gs1.predict(kaggle)"
   ]
  },
  {
   "cell_type": "code",
   "execution_count": 491,
   "metadata": {},
   "outputs": [],
   "source": [
    "test[['Id', 'SalePrice']].to_csv('../data/submission_all_EDA_lasso.csv', index=False)"
   ]
  },
  {
   "cell_type": "markdown",
   "metadata": {},
   "source": [
    "### Ridge Regression pipeline  "
   ]
  },
  {
   "cell_type": "code",
   "execution_count": 492,
   "metadata": {},
   "outputs": [
    {
     "data": {
      "text/html": [
       "<style>#sk-c457dea5-ff9b-4186-835d-442e86b5d396 {color: black;background-color: white;}#sk-c457dea5-ff9b-4186-835d-442e86b5d396 pre{padding: 0;}#sk-c457dea5-ff9b-4186-835d-442e86b5d396 div.sk-toggleable {background-color: white;}#sk-c457dea5-ff9b-4186-835d-442e86b5d396 label.sk-toggleable__label {cursor: pointer;display: block;width: 100%;margin-bottom: 0;padding: 0.3em;box-sizing: border-box;text-align: center;}#sk-c457dea5-ff9b-4186-835d-442e86b5d396 label.sk-toggleable__label-arrow:before {content: \"▸\";float: left;margin-right: 0.25em;color: #696969;}#sk-c457dea5-ff9b-4186-835d-442e86b5d396 label.sk-toggleable__label-arrow:hover:before {color: black;}#sk-c457dea5-ff9b-4186-835d-442e86b5d396 div.sk-estimator:hover label.sk-toggleable__label-arrow:before {color: black;}#sk-c457dea5-ff9b-4186-835d-442e86b5d396 div.sk-toggleable__content {max-height: 0;max-width: 0;overflow: hidden;text-align: left;background-color: #f0f8ff;}#sk-c457dea5-ff9b-4186-835d-442e86b5d396 div.sk-toggleable__content pre {margin: 0.2em;color: black;border-radius: 0.25em;background-color: #f0f8ff;}#sk-c457dea5-ff9b-4186-835d-442e86b5d396 input.sk-toggleable__control:checked~div.sk-toggleable__content {max-height: 200px;max-width: 100%;overflow: auto;}#sk-c457dea5-ff9b-4186-835d-442e86b5d396 input.sk-toggleable__control:checked~label.sk-toggleable__label-arrow:before {content: \"▾\";}#sk-c457dea5-ff9b-4186-835d-442e86b5d396 div.sk-estimator input.sk-toggleable__control:checked~label.sk-toggleable__label {background-color: #d4ebff;}#sk-c457dea5-ff9b-4186-835d-442e86b5d396 div.sk-label input.sk-toggleable__control:checked~label.sk-toggleable__label {background-color: #d4ebff;}#sk-c457dea5-ff9b-4186-835d-442e86b5d396 input.sk-hidden--visually {border: 0;clip: rect(1px 1px 1px 1px);clip: rect(1px, 1px, 1px, 1px);height: 1px;margin: -1px;overflow: hidden;padding: 0;position: absolute;width: 1px;}#sk-c457dea5-ff9b-4186-835d-442e86b5d396 div.sk-estimator {font-family: monospace;background-color: #f0f8ff;border: 1px dotted black;border-radius: 0.25em;box-sizing: border-box;margin-bottom: 0.5em;}#sk-c457dea5-ff9b-4186-835d-442e86b5d396 div.sk-estimator:hover {background-color: #d4ebff;}#sk-c457dea5-ff9b-4186-835d-442e86b5d396 div.sk-parallel-item::after {content: \"\";width: 100%;border-bottom: 1px solid gray;flex-grow: 1;}#sk-c457dea5-ff9b-4186-835d-442e86b5d396 div.sk-label:hover label.sk-toggleable__label {background-color: #d4ebff;}#sk-c457dea5-ff9b-4186-835d-442e86b5d396 div.sk-serial::before {content: \"\";position: absolute;border-left: 1px solid gray;box-sizing: border-box;top: 2em;bottom: 0;left: 50%;}#sk-c457dea5-ff9b-4186-835d-442e86b5d396 div.sk-serial {display: flex;flex-direction: column;align-items: center;background-color: white;padding-right: 0.2em;padding-left: 0.2em;}#sk-c457dea5-ff9b-4186-835d-442e86b5d396 div.sk-item {z-index: 1;}#sk-c457dea5-ff9b-4186-835d-442e86b5d396 div.sk-parallel {display: flex;align-items: stretch;justify-content: center;background-color: white;}#sk-c457dea5-ff9b-4186-835d-442e86b5d396 div.sk-parallel::before {content: \"\";position: absolute;border-left: 1px solid gray;box-sizing: border-box;top: 2em;bottom: 0;left: 50%;}#sk-c457dea5-ff9b-4186-835d-442e86b5d396 div.sk-parallel-item {display: flex;flex-direction: column;position: relative;background-color: white;}#sk-c457dea5-ff9b-4186-835d-442e86b5d396 div.sk-parallel-item:first-child::after {align-self: flex-end;width: 50%;}#sk-c457dea5-ff9b-4186-835d-442e86b5d396 div.sk-parallel-item:last-child::after {align-self: flex-start;width: 50%;}#sk-c457dea5-ff9b-4186-835d-442e86b5d396 div.sk-parallel-item:only-child::after {width: 0;}#sk-c457dea5-ff9b-4186-835d-442e86b5d396 div.sk-dashed-wrapped {border: 1px dashed gray;margin: 0 0.4em 0.5em 0.4em;box-sizing: border-box;padding-bottom: 0.4em;background-color: white;position: relative;}#sk-c457dea5-ff9b-4186-835d-442e86b5d396 div.sk-label label {font-family: monospace;font-weight: bold;background-color: white;display: inline-block;line-height: 1.2em;}#sk-c457dea5-ff9b-4186-835d-442e86b5d396 div.sk-label-container {position: relative;z-index: 2;text-align: center;}#sk-c457dea5-ff9b-4186-835d-442e86b5d396 div.sk-container {/* jupyter's `normalize.less` sets `[hidden] { display: none; }` but bootstrap.min.css set `[hidden] { display: none !important; }` so we also need the `!important` here to be able to override the default hidden behavior on the sphinx rendered scikit-learn.org. See: https://github.com/scikit-learn/scikit-learn/issues/21755 */display: inline-block !important;position: relative;}#sk-c457dea5-ff9b-4186-835d-442e86b5d396 div.sk-text-repr-fallback {display: none;}</style><div id=\"sk-c457dea5-ff9b-4186-835d-442e86b5d396\" class=\"sk-top-container\"><div class=\"sk-text-repr-fallback\"><pre>Pipeline(steps=[(&#x27;columntransformer&#x27;,\n",
       "                 ColumnTransformer(remainder=&#x27;passthrough&#x27;,\n",
       "                                   transformers=[(&#x27;onehotencoder&#x27;,\n",
       "                                                  OneHotEncoder(handle_unknown=&#x27;ignore&#x27;),\n",
       "                                                  &lt;sklearn.compose._column_transformer.make_column_selector object at 0x7f7e376f12b0&gt;)],\n",
       "                                   verbose_feature_names_out=False)),\n",
       "                (&#x27;standardscaler&#x27;, StandardScaler(with_mean=False)),\n",
       "                (&#x27;ridge&#x27;, Ridge())])</pre><b>Please rerun this cell to show the HTML repr or trust the notebook.</b></div><div class=\"sk-container\" hidden><div class=\"sk-item sk-dashed-wrapped\"><div class=\"sk-label-container\"><div class=\"sk-label sk-toggleable\"><input class=\"sk-toggleable__control sk-hidden--visually\" id=\"b294f68e-b59c-40fc-8b44-0493b0c743dc\" type=\"checkbox\" ><label for=\"b294f68e-b59c-40fc-8b44-0493b0c743dc\" class=\"sk-toggleable__label sk-toggleable__label-arrow\">Pipeline</label><div class=\"sk-toggleable__content\"><pre>Pipeline(steps=[(&#x27;columntransformer&#x27;,\n",
       "                 ColumnTransformer(remainder=&#x27;passthrough&#x27;,\n",
       "                                   transformers=[(&#x27;onehotencoder&#x27;,\n",
       "                                                  OneHotEncoder(handle_unknown=&#x27;ignore&#x27;),\n",
       "                                                  &lt;sklearn.compose._column_transformer.make_column_selector object at 0x7f7e376f12b0&gt;)],\n",
       "                                   verbose_feature_names_out=False)),\n",
       "                (&#x27;standardscaler&#x27;, StandardScaler(with_mean=False)),\n",
       "                (&#x27;ridge&#x27;, Ridge())])</pre></div></div></div><div class=\"sk-serial\"><div class=\"sk-item sk-dashed-wrapped\"><div class=\"sk-label-container\"><div class=\"sk-label sk-toggleable\"><input class=\"sk-toggleable__control sk-hidden--visually\" id=\"b92af271-68b3-48b7-b69e-0a0e2624611f\" type=\"checkbox\" ><label for=\"b92af271-68b3-48b7-b69e-0a0e2624611f\" class=\"sk-toggleable__label sk-toggleable__label-arrow\">columntransformer: ColumnTransformer</label><div class=\"sk-toggleable__content\"><pre>ColumnTransformer(remainder=&#x27;passthrough&#x27;,\n",
       "                  transformers=[(&#x27;onehotencoder&#x27;,\n",
       "                                 OneHotEncoder(handle_unknown=&#x27;ignore&#x27;),\n",
       "                                 &lt;sklearn.compose._column_transformer.make_column_selector object at 0x7f7e376f12b0&gt;)],\n",
       "                  verbose_feature_names_out=False)</pre></div></div></div><div class=\"sk-parallel\"><div class=\"sk-parallel-item\"><div class=\"sk-item\"><div class=\"sk-label-container\"><div class=\"sk-label sk-toggleable\"><input class=\"sk-toggleable__control sk-hidden--visually\" id=\"981112ac-7971-4be5-8a56-c5c7cc7d603c\" type=\"checkbox\" ><label for=\"981112ac-7971-4be5-8a56-c5c7cc7d603c\" class=\"sk-toggleable__label sk-toggleable__label-arrow\">onehotencoder</label><div class=\"sk-toggleable__content\"><pre>&lt;sklearn.compose._column_transformer.make_column_selector object at 0x7f7e376f12b0&gt;</pre></div></div></div><div class=\"sk-serial\"><div class=\"sk-item\"><div class=\"sk-estimator sk-toggleable\"><input class=\"sk-toggleable__control sk-hidden--visually\" id=\"18dc81b0-2003-4341-9a05-56f0971a7fb8\" type=\"checkbox\" ><label for=\"18dc81b0-2003-4341-9a05-56f0971a7fb8\" class=\"sk-toggleable__label sk-toggleable__label-arrow\">OneHotEncoder</label><div class=\"sk-toggleable__content\"><pre>OneHotEncoder(handle_unknown=&#x27;ignore&#x27;)</pre></div></div></div></div></div></div><div class=\"sk-parallel-item\"><div class=\"sk-item\"><div class=\"sk-label-container\"><div class=\"sk-label sk-toggleable\"><input class=\"sk-toggleable__control sk-hidden--visually\" id=\"6044e99f-d62d-424d-b7a4-112cfca31bb5\" type=\"checkbox\" ><label for=\"6044e99f-d62d-424d-b7a4-112cfca31bb5\" class=\"sk-toggleable__label sk-toggleable__label-arrow\">remainder</label><div class=\"sk-toggleable__content\"><pre></pre></div></div></div><div class=\"sk-serial\"><div class=\"sk-item\"><div class=\"sk-estimator sk-toggleable\"><input class=\"sk-toggleable__control sk-hidden--visually\" id=\"c6581bc9-19dd-4942-b435-fbbc5222b9cf\" type=\"checkbox\" ><label for=\"c6581bc9-19dd-4942-b435-fbbc5222b9cf\" class=\"sk-toggleable__label sk-toggleable__label-arrow\">passthrough</label><div class=\"sk-toggleable__content\"><pre>passthrough</pre></div></div></div></div></div></div></div></div><div class=\"sk-item\"><div class=\"sk-estimator sk-toggleable\"><input class=\"sk-toggleable__control sk-hidden--visually\" id=\"9ffcdf58-d9d8-4c4a-8b71-1293312795ed\" type=\"checkbox\" ><label for=\"9ffcdf58-d9d8-4c4a-8b71-1293312795ed\" class=\"sk-toggleable__label sk-toggleable__label-arrow\">StandardScaler</label><div class=\"sk-toggleable__content\"><pre>StandardScaler(with_mean=False)</pre></div></div></div><div class=\"sk-item\"><div class=\"sk-estimator sk-toggleable\"><input class=\"sk-toggleable__control sk-hidden--visually\" id=\"88070b58-60d8-40b5-8069-2510c2ea820e\" type=\"checkbox\" ><label for=\"88070b58-60d8-40b5-8069-2510c2ea820e\" class=\"sk-toggleable__label sk-toggleable__label-arrow\">Ridge</label><div class=\"sk-toggleable__content\"><pre>Ridge()</pre></div></div></div></div></div></div></div>"
      ],
      "text/plain": [
       "Pipeline(steps=[('columntransformer',\n",
       "                 ColumnTransformer(remainder='passthrough',\n",
       "                                   transformers=[('onehotencoder',\n",
       "                                                  OneHotEncoder(handle_unknown='ignore'),\n",
       "                                                  <sklearn.compose._column_transformer.make_column_selector object at 0x7f7e376f12b0>)],\n",
       "                                   verbose_feature_names_out=False)),\n",
       "                ('standardscaler', StandardScaler(with_mean=False)),\n",
       "                ('ridge', Ridge())])"
      ]
     },
     "execution_count": 492,
     "metadata": {},
     "output_type": "execute_result"
    }
   ],
   "source": [
    "pipe5 = make_pipeline(ct4, StandardScaler(with_mean=False), Ridge())\n",
    "pipe5"
   ]
  },
  {
   "cell_type": "code",
   "execution_count": 493,
   "metadata": {},
   "outputs": [
    {
     "data": {
      "text/plain": [
       "dict_keys(['memory', 'steps', 'verbose', 'columntransformer', 'standardscaler', 'ridge', 'columntransformer__n_jobs', 'columntransformer__remainder', 'columntransformer__sparse_threshold', 'columntransformer__transformer_weights', 'columntransformer__transformers', 'columntransformer__verbose', 'columntransformer__verbose_feature_names_out', 'columntransformer__onehotencoder', 'columntransformer__onehotencoder__categories', 'columntransformer__onehotencoder__drop', 'columntransformer__onehotencoder__dtype', 'columntransformer__onehotencoder__handle_unknown', 'columntransformer__onehotencoder__sparse', 'standardscaler__copy', 'standardscaler__with_mean', 'standardscaler__with_std', 'ridge__alpha', 'ridge__copy_X', 'ridge__fit_intercept', 'ridge__max_iter', 'ridge__normalize', 'ridge__positive', 'ridge__random_state', 'ridge__solver', 'ridge__tol'])"
      ]
     },
     "execution_count": 493,
     "metadata": {},
     "output_type": "execute_result"
    }
   ],
   "source": [
    "pipe5.get_params().keys()"
   ]
  },
  {
   "cell_type": "code",
   "execution_count": 494,
   "metadata": {},
   "outputs": [],
   "source": [
    "params = {\n",
    "    'ridge__alpha': [.01, .1, 1, 10, 100],\n",
    "    'ridge__max_iter': [100_000]\n",
    "}"
   ]
  },
  {
   "cell_type": "code",
   "execution_count": 495,
   "metadata": {},
   "outputs": [
    {
     "data": {
      "text/html": [
       "<style>#sk-681c8761-f8b0-41e6-a19d-1c4a44203336 {color: black;background-color: white;}#sk-681c8761-f8b0-41e6-a19d-1c4a44203336 pre{padding: 0;}#sk-681c8761-f8b0-41e6-a19d-1c4a44203336 div.sk-toggleable {background-color: white;}#sk-681c8761-f8b0-41e6-a19d-1c4a44203336 label.sk-toggleable__label {cursor: pointer;display: block;width: 100%;margin-bottom: 0;padding: 0.3em;box-sizing: border-box;text-align: center;}#sk-681c8761-f8b0-41e6-a19d-1c4a44203336 label.sk-toggleable__label-arrow:before {content: \"▸\";float: left;margin-right: 0.25em;color: #696969;}#sk-681c8761-f8b0-41e6-a19d-1c4a44203336 label.sk-toggleable__label-arrow:hover:before {color: black;}#sk-681c8761-f8b0-41e6-a19d-1c4a44203336 div.sk-estimator:hover label.sk-toggleable__label-arrow:before {color: black;}#sk-681c8761-f8b0-41e6-a19d-1c4a44203336 div.sk-toggleable__content {max-height: 0;max-width: 0;overflow: hidden;text-align: left;background-color: #f0f8ff;}#sk-681c8761-f8b0-41e6-a19d-1c4a44203336 div.sk-toggleable__content pre {margin: 0.2em;color: black;border-radius: 0.25em;background-color: #f0f8ff;}#sk-681c8761-f8b0-41e6-a19d-1c4a44203336 input.sk-toggleable__control:checked~div.sk-toggleable__content {max-height: 200px;max-width: 100%;overflow: auto;}#sk-681c8761-f8b0-41e6-a19d-1c4a44203336 input.sk-toggleable__control:checked~label.sk-toggleable__label-arrow:before {content: \"▾\";}#sk-681c8761-f8b0-41e6-a19d-1c4a44203336 div.sk-estimator input.sk-toggleable__control:checked~label.sk-toggleable__label {background-color: #d4ebff;}#sk-681c8761-f8b0-41e6-a19d-1c4a44203336 div.sk-label input.sk-toggleable__control:checked~label.sk-toggleable__label {background-color: #d4ebff;}#sk-681c8761-f8b0-41e6-a19d-1c4a44203336 input.sk-hidden--visually {border: 0;clip: rect(1px 1px 1px 1px);clip: rect(1px, 1px, 1px, 1px);height: 1px;margin: -1px;overflow: hidden;padding: 0;position: absolute;width: 1px;}#sk-681c8761-f8b0-41e6-a19d-1c4a44203336 div.sk-estimator {font-family: monospace;background-color: #f0f8ff;border: 1px dotted black;border-radius: 0.25em;box-sizing: border-box;margin-bottom: 0.5em;}#sk-681c8761-f8b0-41e6-a19d-1c4a44203336 div.sk-estimator:hover {background-color: #d4ebff;}#sk-681c8761-f8b0-41e6-a19d-1c4a44203336 div.sk-parallel-item::after {content: \"\";width: 100%;border-bottom: 1px solid gray;flex-grow: 1;}#sk-681c8761-f8b0-41e6-a19d-1c4a44203336 div.sk-label:hover label.sk-toggleable__label {background-color: #d4ebff;}#sk-681c8761-f8b0-41e6-a19d-1c4a44203336 div.sk-serial::before {content: \"\";position: absolute;border-left: 1px solid gray;box-sizing: border-box;top: 2em;bottom: 0;left: 50%;}#sk-681c8761-f8b0-41e6-a19d-1c4a44203336 div.sk-serial {display: flex;flex-direction: column;align-items: center;background-color: white;padding-right: 0.2em;padding-left: 0.2em;}#sk-681c8761-f8b0-41e6-a19d-1c4a44203336 div.sk-item {z-index: 1;}#sk-681c8761-f8b0-41e6-a19d-1c4a44203336 div.sk-parallel {display: flex;align-items: stretch;justify-content: center;background-color: white;}#sk-681c8761-f8b0-41e6-a19d-1c4a44203336 div.sk-parallel::before {content: \"\";position: absolute;border-left: 1px solid gray;box-sizing: border-box;top: 2em;bottom: 0;left: 50%;}#sk-681c8761-f8b0-41e6-a19d-1c4a44203336 div.sk-parallel-item {display: flex;flex-direction: column;position: relative;background-color: white;}#sk-681c8761-f8b0-41e6-a19d-1c4a44203336 div.sk-parallel-item:first-child::after {align-self: flex-end;width: 50%;}#sk-681c8761-f8b0-41e6-a19d-1c4a44203336 div.sk-parallel-item:last-child::after {align-self: flex-start;width: 50%;}#sk-681c8761-f8b0-41e6-a19d-1c4a44203336 div.sk-parallel-item:only-child::after {width: 0;}#sk-681c8761-f8b0-41e6-a19d-1c4a44203336 div.sk-dashed-wrapped {border: 1px dashed gray;margin: 0 0.4em 0.5em 0.4em;box-sizing: border-box;padding-bottom: 0.4em;background-color: white;position: relative;}#sk-681c8761-f8b0-41e6-a19d-1c4a44203336 div.sk-label label {font-family: monospace;font-weight: bold;background-color: white;display: inline-block;line-height: 1.2em;}#sk-681c8761-f8b0-41e6-a19d-1c4a44203336 div.sk-label-container {position: relative;z-index: 2;text-align: center;}#sk-681c8761-f8b0-41e6-a19d-1c4a44203336 div.sk-container {/* jupyter's `normalize.less` sets `[hidden] { display: none; }` but bootstrap.min.css set `[hidden] { display: none !important; }` so we also need the `!important` here to be able to override the default hidden behavior on the sphinx rendered scikit-learn.org. See: https://github.com/scikit-learn/scikit-learn/issues/21755 */display: inline-block !important;position: relative;}#sk-681c8761-f8b0-41e6-a19d-1c4a44203336 div.sk-text-repr-fallback {display: none;}</style><div id=\"sk-681c8761-f8b0-41e6-a19d-1c4a44203336\" class=\"sk-top-container\"><div class=\"sk-text-repr-fallback\"><pre>GridSearchCV(estimator=Pipeline(steps=[(&#x27;columntransformer&#x27;,\n",
       "                                        ColumnTransformer(remainder=&#x27;passthrough&#x27;,\n",
       "                                                          transformers=[(&#x27;onehotencoder&#x27;,\n",
       "                                                                         OneHotEncoder(handle_unknown=&#x27;ignore&#x27;),\n",
       "                                                                         &lt;sklearn.compose._column_transformer.make_column_selector object at 0x7f7e376f12b0&gt;)],\n",
       "                                                          verbose_feature_names_out=False)),\n",
       "                                       (&#x27;standardscaler&#x27;,\n",
       "                                        StandardScaler(with_mean=False)),\n",
       "                                       (&#x27;ridge&#x27;, Ridge())]),\n",
       "             n_jobs=-1,\n",
       "             param_grid={&#x27;ridge__alpha&#x27;: [0.01, 0.1, 1, 10, 100],\n",
       "                         &#x27;ridge__max_iter&#x27;: [100000]})</pre><b>Please rerun this cell to show the HTML repr or trust the notebook.</b></div><div class=\"sk-container\" hidden><div class=\"sk-item sk-dashed-wrapped\"><div class=\"sk-label-container\"><div class=\"sk-label sk-toggleable\"><input class=\"sk-toggleable__control sk-hidden--visually\" id=\"bdf562df-bb0b-4644-ba66-0d703197316a\" type=\"checkbox\" ><label for=\"bdf562df-bb0b-4644-ba66-0d703197316a\" class=\"sk-toggleable__label sk-toggleable__label-arrow\">GridSearchCV</label><div class=\"sk-toggleable__content\"><pre>GridSearchCV(estimator=Pipeline(steps=[(&#x27;columntransformer&#x27;,\n",
       "                                        ColumnTransformer(remainder=&#x27;passthrough&#x27;,\n",
       "                                                          transformers=[(&#x27;onehotencoder&#x27;,\n",
       "                                                                         OneHotEncoder(handle_unknown=&#x27;ignore&#x27;),\n",
       "                                                                         &lt;sklearn.compose._column_transformer.make_column_selector object at 0x7f7e376f12b0&gt;)],\n",
       "                                                          verbose_feature_names_out=False)),\n",
       "                                       (&#x27;standardscaler&#x27;,\n",
       "                                        StandardScaler(with_mean=False)),\n",
       "                                       (&#x27;ridge&#x27;, Ridge())]),\n",
       "             n_jobs=-1,\n",
       "             param_grid={&#x27;ridge__alpha&#x27;: [0.01, 0.1, 1, 10, 100],\n",
       "                         &#x27;ridge__max_iter&#x27;: [100000]})</pre></div></div></div><div class=\"sk-parallel\"><div class=\"sk-parallel-item\"><div class=\"sk-item\"><div class=\"sk-serial\"><div class=\"sk-item\"><div class=\"sk-serial\"><div class=\"sk-item sk-dashed-wrapped\"><div class=\"sk-label-container\"><div class=\"sk-label sk-toggleable\"><input class=\"sk-toggleable__control sk-hidden--visually\" id=\"485ab220-0d5e-4122-a974-8e04be328b0b\" type=\"checkbox\" ><label for=\"485ab220-0d5e-4122-a974-8e04be328b0b\" class=\"sk-toggleable__label sk-toggleable__label-arrow\">columntransformer: ColumnTransformer</label><div class=\"sk-toggleable__content\"><pre>ColumnTransformer(remainder=&#x27;passthrough&#x27;,\n",
       "                  transformers=[(&#x27;onehotencoder&#x27;,\n",
       "                                 OneHotEncoder(handle_unknown=&#x27;ignore&#x27;),\n",
       "                                 &lt;sklearn.compose._column_transformer.make_column_selector object at 0x7f7e376f12b0&gt;)],\n",
       "                  verbose_feature_names_out=False)</pre></div></div></div><div class=\"sk-parallel\"><div class=\"sk-parallel-item\"><div class=\"sk-item\"><div class=\"sk-label-container\"><div class=\"sk-label sk-toggleable\"><input class=\"sk-toggleable__control sk-hidden--visually\" id=\"6cd03be6-b533-42f4-84e5-21658d926d2d\" type=\"checkbox\" ><label for=\"6cd03be6-b533-42f4-84e5-21658d926d2d\" class=\"sk-toggleable__label sk-toggleable__label-arrow\">onehotencoder</label><div class=\"sk-toggleable__content\"><pre>&lt;sklearn.compose._column_transformer.make_column_selector object at 0x7f7e376f12b0&gt;</pre></div></div></div><div class=\"sk-serial\"><div class=\"sk-item\"><div class=\"sk-estimator sk-toggleable\"><input class=\"sk-toggleable__control sk-hidden--visually\" id=\"37002848-f63e-4eff-ba25-3c5b289a8557\" type=\"checkbox\" ><label for=\"37002848-f63e-4eff-ba25-3c5b289a8557\" class=\"sk-toggleable__label sk-toggleable__label-arrow\">OneHotEncoder</label><div class=\"sk-toggleable__content\"><pre>OneHotEncoder(handle_unknown=&#x27;ignore&#x27;)</pre></div></div></div></div></div></div><div class=\"sk-parallel-item\"><div class=\"sk-item\"><div class=\"sk-label-container\"><div class=\"sk-label sk-toggleable\"><input class=\"sk-toggleable__control sk-hidden--visually\" id=\"7d82902c-50bd-4822-ad3c-8b6721dd0e3d\" type=\"checkbox\" ><label for=\"7d82902c-50bd-4822-ad3c-8b6721dd0e3d\" class=\"sk-toggleable__label sk-toggleable__label-arrow\">remainder</label><div class=\"sk-toggleable__content\"><pre></pre></div></div></div><div class=\"sk-serial\"><div class=\"sk-item\"><div class=\"sk-estimator sk-toggleable\"><input class=\"sk-toggleable__control sk-hidden--visually\" id=\"0a3d1d69-21af-4d3a-a58e-a3334095d37b\" type=\"checkbox\" ><label for=\"0a3d1d69-21af-4d3a-a58e-a3334095d37b\" class=\"sk-toggleable__label sk-toggleable__label-arrow\">passthrough</label><div class=\"sk-toggleable__content\"><pre>passthrough</pre></div></div></div></div></div></div></div></div><div class=\"sk-item\"><div class=\"sk-estimator sk-toggleable\"><input class=\"sk-toggleable__control sk-hidden--visually\" id=\"06b96690-a186-48cb-ab93-5c78b4c07612\" type=\"checkbox\" ><label for=\"06b96690-a186-48cb-ab93-5c78b4c07612\" class=\"sk-toggleable__label sk-toggleable__label-arrow\">StandardScaler</label><div class=\"sk-toggleable__content\"><pre>StandardScaler(with_mean=False)</pre></div></div></div><div class=\"sk-item\"><div class=\"sk-estimator sk-toggleable\"><input class=\"sk-toggleable__control sk-hidden--visually\" id=\"71982d8f-78ef-4716-86d2-d1937ae78c4c\" type=\"checkbox\" ><label for=\"71982d8f-78ef-4716-86d2-d1937ae78c4c\" class=\"sk-toggleable__label sk-toggleable__label-arrow\">Ridge</label><div class=\"sk-toggleable__content\"><pre>Ridge()</pre></div></div></div></div></div></div></div></div></div></div></div></div>"
      ],
      "text/plain": [
       "GridSearchCV(estimator=Pipeline(steps=[('columntransformer',\n",
       "                                        ColumnTransformer(remainder='passthrough',\n",
       "                                                          transformers=[('onehotencoder',\n",
       "                                                                         OneHotEncoder(handle_unknown='ignore'),\n",
       "                                                                         <sklearn.compose._column_transformer.make_column_selector object at 0x7f7e376f12b0>)],\n",
       "                                                          verbose_feature_names_out=False)),\n",
       "                                       ('standardscaler',\n",
       "                                        StandardScaler(with_mean=False)),\n",
       "                                       ('ridge', Ridge())]),\n",
       "             n_jobs=-1,\n",
       "             param_grid={'ridge__alpha': [0.01, 0.1, 1, 10, 100],\n",
       "                         'ridge__max_iter': [100000]})"
      ]
     },
     "execution_count": 495,
     "metadata": {},
     "output_type": "execute_result"
    }
   ],
   "source": [
    "gs2 = GridSearchCV(pipe5, params, n_jobs=-1)\n",
    "gs2"
   ]
  },
  {
   "cell_type": "code",
   "execution_count": 496,
   "metadata": {},
   "outputs": [
    {
     "data": {
      "text/plain": [
       "0.8703680799485327"
      ]
     },
     "execution_count": 496,
     "metadata": {},
     "output_type": "execute_result"
    }
   ],
   "source": [
    "gs2.fit(X_train, y_train)\n",
    "gs2.score(X_test, y_test)"
   ]
  },
  {
   "cell_type": "code",
   "execution_count": 497,
   "metadata": {},
   "outputs": [
    {
     "data": {
      "text/plain": [
       "28258.666467040028"
      ]
     },
     "execution_count": 497,
     "metadata": {},
     "output_type": "execute_result"
    }
   ],
   "source": [
    "preds = gs2.predict(X_test)\n",
    "mean_squared_error(y_test, preds, squared=False)"
   ]
  },
  {
   "cell_type": "markdown",
   "metadata": {},
   "source": [
    "### Kaggle submission"
   ]
  },
  {
   "cell_type": "code",
   "execution_count": 498,
   "metadata": {},
   "outputs": [],
   "source": [
    "test['SalePrice'] = gs2.predict(kaggle)"
   ]
  },
  {
   "cell_type": "code",
   "execution_count": 499,
   "metadata": {},
   "outputs": [],
   "source": [
    "test[['Id', 'SalePrice']].to_csv('../data/submission_all_EDA_ridge.csv', index=False)"
   ]
  },
  {
   "cell_type": "markdown",
   "metadata": {},
   "source": [
    "## Bonus attempt for Kaggle. Polynomial features, Ridge\n"
   ]
  },
  {
   "cell_type": "markdown",
   "metadata": {},
   "source": [
    "### Train-Test Split"
   ]
  },
  {
   "cell_type": "code",
   "execution_count": 508,
   "metadata": {},
   "outputs": [],
   "source": [
    "X = train.drop(columns='SalePrice')\n",
    "y = train['SalePrice']\n",
    "kaggle = test[X.columns]"
   ]
  },
  {
   "cell_type": "code",
   "execution_count": 509,
   "metadata": {},
   "outputs": [],
   "source": [
    "X_train, X_test, y_train, y_test = train_test_split(X, y, random_state=1331)"
   ]
  },
  {
   "cell_type": "code",
   "execution_count": 501,
   "metadata": {},
   "outputs": [
    {
     "data": {
      "text/html": [
       "<style>#sk-d060739c-9e8b-4c54-8289-8aa14d539897 {color: black;background-color: white;}#sk-d060739c-9e8b-4c54-8289-8aa14d539897 pre{padding: 0;}#sk-d060739c-9e8b-4c54-8289-8aa14d539897 div.sk-toggleable {background-color: white;}#sk-d060739c-9e8b-4c54-8289-8aa14d539897 label.sk-toggleable__label {cursor: pointer;display: block;width: 100%;margin-bottom: 0;padding: 0.3em;box-sizing: border-box;text-align: center;}#sk-d060739c-9e8b-4c54-8289-8aa14d539897 label.sk-toggleable__label-arrow:before {content: \"▸\";float: left;margin-right: 0.25em;color: #696969;}#sk-d060739c-9e8b-4c54-8289-8aa14d539897 label.sk-toggleable__label-arrow:hover:before {color: black;}#sk-d060739c-9e8b-4c54-8289-8aa14d539897 div.sk-estimator:hover label.sk-toggleable__label-arrow:before {color: black;}#sk-d060739c-9e8b-4c54-8289-8aa14d539897 div.sk-toggleable__content {max-height: 0;max-width: 0;overflow: hidden;text-align: left;background-color: #f0f8ff;}#sk-d060739c-9e8b-4c54-8289-8aa14d539897 div.sk-toggleable__content pre {margin: 0.2em;color: black;border-radius: 0.25em;background-color: #f0f8ff;}#sk-d060739c-9e8b-4c54-8289-8aa14d539897 input.sk-toggleable__control:checked~div.sk-toggleable__content {max-height: 200px;max-width: 100%;overflow: auto;}#sk-d060739c-9e8b-4c54-8289-8aa14d539897 input.sk-toggleable__control:checked~label.sk-toggleable__label-arrow:before {content: \"▾\";}#sk-d060739c-9e8b-4c54-8289-8aa14d539897 div.sk-estimator input.sk-toggleable__control:checked~label.sk-toggleable__label {background-color: #d4ebff;}#sk-d060739c-9e8b-4c54-8289-8aa14d539897 div.sk-label input.sk-toggleable__control:checked~label.sk-toggleable__label {background-color: #d4ebff;}#sk-d060739c-9e8b-4c54-8289-8aa14d539897 input.sk-hidden--visually {border: 0;clip: rect(1px 1px 1px 1px);clip: rect(1px, 1px, 1px, 1px);height: 1px;margin: -1px;overflow: hidden;padding: 0;position: absolute;width: 1px;}#sk-d060739c-9e8b-4c54-8289-8aa14d539897 div.sk-estimator {font-family: monospace;background-color: #f0f8ff;border: 1px dotted black;border-radius: 0.25em;box-sizing: border-box;margin-bottom: 0.5em;}#sk-d060739c-9e8b-4c54-8289-8aa14d539897 div.sk-estimator:hover {background-color: #d4ebff;}#sk-d060739c-9e8b-4c54-8289-8aa14d539897 div.sk-parallel-item::after {content: \"\";width: 100%;border-bottom: 1px solid gray;flex-grow: 1;}#sk-d060739c-9e8b-4c54-8289-8aa14d539897 div.sk-label:hover label.sk-toggleable__label {background-color: #d4ebff;}#sk-d060739c-9e8b-4c54-8289-8aa14d539897 div.sk-serial::before {content: \"\";position: absolute;border-left: 1px solid gray;box-sizing: border-box;top: 2em;bottom: 0;left: 50%;}#sk-d060739c-9e8b-4c54-8289-8aa14d539897 div.sk-serial {display: flex;flex-direction: column;align-items: center;background-color: white;padding-right: 0.2em;padding-left: 0.2em;}#sk-d060739c-9e8b-4c54-8289-8aa14d539897 div.sk-item {z-index: 1;}#sk-d060739c-9e8b-4c54-8289-8aa14d539897 div.sk-parallel {display: flex;align-items: stretch;justify-content: center;background-color: white;}#sk-d060739c-9e8b-4c54-8289-8aa14d539897 div.sk-parallel::before {content: \"\";position: absolute;border-left: 1px solid gray;box-sizing: border-box;top: 2em;bottom: 0;left: 50%;}#sk-d060739c-9e8b-4c54-8289-8aa14d539897 div.sk-parallel-item {display: flex;flex-direction: column;position: relative;background-color: white;}#sk-d060739c-9e8b-4c54-8289-8aa14d539897 div.sk-parallel-item:first-child::after {align-self: flex-end;width: 50%;}#sk-d060739c-9e8b-4c54-8289-8aa14d539897 div.sk-parallel-item:last-child::after {align-self: flex-start;width: 50%;}#sk-d060739c-9e8b-4c54-8289-8aa14d539897 div.sk-parallel-item:only-child::after {width: 0;}#sk-d060739c-9e8b-4c54-8289-8aa14d539897 div.sk-dashed-wrapped {border: 1px dashed gray;margin: 0 0.4em 0.5em 0.4em;box-sizing: border-box;padding-bottom: 0.4em;background-color: white;position: relative;}#sk-d060739c-9e8b-4c54-8289-8aa14d539897 div.sk-label label {font-family: monospace;font-weight: bold;background-color: white;display: inline-block;line-height: 1.2em;}#sk-d060739c-9e8b-4c54-8289-8aa14d539897 div.sk-label-container {position: relative;z-index: 2;text-align: center;}#sk-d060739c-9e8b-4c54-8289-8aa14d539897 div.sk-container {/* jupyter's `normalize.less` sets `[hidden] { display: none; }` but bootstrap.min.css set `[hidden] { display: none !important; }` so we also need the `!important` here to be able to override the default hidden behavior on the sphinx rendered scikit-learn.org. See: https://github.com/scikit-learn/scikit-learn/issues/21755 */display: inline-block !important;position: relative;}#sk-d060739c-9e8b-4c54-8289-8aa14d539897 div.sk-text-repr-fallback {display: none;}</style><div id=\"sk-d060739c-9e8b-4c54-8289-8aa14d539897\" class=\"sk-top-container\"><div class=\"sk-text-repr-fallback\"><pre>Pipeline(steps=[(&#x27;columntransformer&#x27;,\n",
       "                 ColumnTransformer(remainder=&#x27;passthrough&#x27;,\n",
       "                                   transformers=[(&#x27;onehotencoder&#x27;,\n",
       "                                                  OneHotEncoder(handle_unknown=&#x27;ignore&#x27;),\n",
       "                                                  &lt;sklearn.compose._column_transformer.make_column_selector object at 0x7f7e376f12b0&gt;)],\n",
       "                                   verbose_feature_names_out=False)),\n",
       "                (&#x27;polynomialfeatures&#x27;, PolynomialFeatures()),\n",
       "                (&#x27;standardscaler&#x27;, StandardScaler(with_mean=False)),\n",
       "                (&#x27;ridge&#x27;, Ridge())])</pre><b>Please rerun this cell to show the HTML repr or trust the notebook.</b></div><div class=\"sk-container\" hidden><div class=\"sk-item sk-dashed-wrapped\"><div class=\"sk-label-container\"><div class=\"sk-label sk-toggleable\"><input class=\"sk-toggleable__control sk-hidden--visually\" id=\"e465a847-8670-467b-aff3-9f8b1a31b30d\" type=\"checkbox\" ><label for=\"e465a847-8670-467b-aff3-9f8b1a31b30d\" class=\"sk-toggleable__label sk-toggleable__label-arrow\">Pipeline</label><div class=\"sk-toggleable__content\"><pre>Pipeline(steps=[(&#x27;columntransformer&#x27;,\n",
       "                 ColumnTransformer(remainder=&#x27;passthrough&#x27;,\n",
       "                                   transformers=[(&#x27;onehotencoder&#x27;,\n",
       "                                                  OneHotEncoder(handle_unknown=&#x27;ignore&#x27;),\n",
       "                                                  &lt;sklearn.compose._column_transformer.make_column_selector object at 0x7f7e376f12b0&gt;)],\n",
       "                                   verbose_feature_names_out=False)),\n",
       "                (&#x27;polynomialfeatures&#x27;, PolynomialFeatures()),\n",
       "                (&#x27;standardscaler&#x27;, StandardScaler(with_mean=False)),\n",
       "                (&#x27;ridge&#x27;, Ridge())])</pre></div></div></div><div class=\"sk-serial\"><div class=\"sk-item sk-dashed-wrapped\"><div class=\"sk-label-container\"><div class=\"sk-label sk-toggleable\"><input class=\"sk-toggleable__control sk-hidden--visually\" id=\"1561f94a-097b-4413-8352-6af627f5ded6\" type=\"checkbox\" ><label for=\"1561f94a-097b-4413-8352-6af627f5ded6\" class=\"sk-toggleable__label sk-toggleable__label-arrow\">columntransformer: ColumnTransformer</label><div class=\"sk-toggleable__content\"><pre>ColumnTransformer(remainder=&#x27;passthrough&#x27;,\n",
       "                  transformers=[(&#x27;onehotencoder&#x27;,\n",
       "                                 OneHotEncoder(handle_unknown=&#x27;ignore&#x27;),\n",
       "                                 &lt;sklearn.compose._column_transformer.make_column_selector object at 0x7f7e376f12b0&gt;)],\n",
       "                  verbose_feature_names_out=False)</pre></div></div></div><div class=\"sk-parallel\"><div class=\"sk-parallel-item\"><div class=\"sk-item\"><div class=\"sk-label-container\"><div class=\"sk-label sk-toggleable\"><input class=\"sk-toggleable__control sk-hidden--visually\" id=\"4d2a86b6-1da8-4ae6-8af3-830c0d1a4787\" type=\"checkbox\" ><label for=\"4d2a86b6-1da8-4ae6-8af3-830c0d1a4787\" class=\"sk-toggleable__label sk-toggleable__label-arrow\">onehotencoder</label><div class=\"sk-toggleable__content\"><pre>&lt;sklearn.compose._column_transformer.make_column_selector object at 0x7f7e376f12b0&gt;</pre></div></div></div><div class=\"sk-serial\"><div class=\"sk-item\"><div class=\"sk-estimator sk-toggleable\"><input class=\"sk-toggleable__control sk-hidden--visually\" id=\"c427d209-61e8-40e9-a865-330f43f0b9bb\" type=\"checkbox\" ><label for=\"c427d209-61e8-40e9-a865-330f43f0b9bb\" class=\"sk-toggleable__label sk-toggleable__label-arrow\">OneHotEncoder</label><div class=\"sk-toggleable__content\"><pre>OneHotEncoder(handle_unknown=&#x27;ignore&#x27;)</pre></div></div></div></div></div></div><div class=\"sk-parallel-item\"><div class=\"sk-item\"><div class=\"sk-label-container\"><div class=\"sk-label sk-toggleable\"><input class=\"sk-toggleable__control sk-hidden--visually\" id=\"920dec06-f671-45ac-9ae7-a26b5d2bee5d\" type=\"checkbox\" ><label for=\"920dec06-f671-45ac-9ae7-a26b5d2bee5d\" class=\"sk-toggleable__label sk-toggleable__label-arrow\">remainder</label><div class=\"sk-toggleable__content\"><pre></pre></div></div></div><div class=\"sk-serial\"><div class=\"sk-item\"><div class=\"sk-estimator sk-toggleable\"><input class=\"sk-toggleable__control sk-hidden--visually\" id=\"fe0d14a1-df71-4014-92f6-c35218c6dc20\" type=\"checkbox\" ><label for=\"fe0d14a1-df71-4014-92f6-c35218c6dc20\" class=\"sk-toggleable__label sk-toggleable__label-arrow\">passthrough</label><div class=\"sk-toggleable__content\"><pre>passthrough</pre></div></div></div></div></div></div></div></div><div class=\"sk-item\"><div class=\"sk-estimator sk-toggleable\"><input class=\"sk-toggleable__control sk-hidden--visually\" id=\"146fe9e7-9d9a-429a-aabe-87bdd8a43790\" type=\"checkbox\" ><label for=\"146fe9e7-9d9a-429a-aabe-87bdd8a43790\" class=\"sk-toggleable__label sk-toggleable__label-arrow\">PolynomialFeatures</label><div class=\"sk-toggleable__content\"><pre>PolynomialFeatures()</pre></div></div></div><div class=\"sk-item\"><div class=\"sk-estimator sk-toggleable\"><input class=\"sk-toggleable__control sk-hidden--visually\" id=\"a2ff4631-e505-4b86-b27b-9091fae8714d\" type=\"checkbox\" ><label for=\"a2ff4631-e505-4b86-b27b-9091fae8714d\" class=\"sk-toggleable__label sk-toggleable__label-arrow\">StandardScaler</label><div class=\"sk-toggleable__content\"><pre>StandardScaler(with_mean=False)</pre></div></div></div><div class=\"sk-item\"><div class=\"sk-estimator sk-toggleable\"><input class=\"sk-toggleable__control sk-hidden--visually\" id=\"df145754-59cb-4982-a48c-aa7a0dfc1149\" type=\"checkbox\" ><label for=\"df145754-59cb-4982-a48c-aa7a0dfc1149\" class=\"sk-toggleable__label sk-toggleable__label-arrow\">Ridge</label><div class=\"sk-toggleable__content\"><pre>Ridge()</pre></div></div></div></div></div></div></div>"
      ],
      "text/plain": [
       "Pipeline(steps=[('columntransformer',\n",
       "                 ColumnTransformer(remainder='passthrough',\n",
       "                                   transformers=[('onehotencoder',\n",
       "                                                  OneHotEncoder(handle_unknown='ignore'),\n",
       "                                                  <sklearn.compose._column_transformer.make_column_selector object at 0x7f7e376f12b0>)],\n",
       "                                   verbose_feature_names_out=False)),\n",
       "                ('polynomialfeatures', PolynomialFeatures()),\n",
       "                ('standardscaler', StandardScaler(with_mean=False)),\n",
       "                ('ridge', Ridge())])"
      ]
     },
     "execution_count": 501,
     "metadata": {},
     "output_type": "execute_result"
    }
   ],
   "source": [
    "pipe6 = make_pipeline(ct4, PolynomialFeatures(), StandardScaler(with_mean=False), Ridge())\n",
    "pipe6"
   ]
  },
  {
   "cell_type": "code",
   "execution_count": 505,
   "metadata": {},
   "outputs": [
    {
     "data": {
      "text/plain": [
       "dict_keys(['memory', 'steps', 'verbose', 'columntransformer', 'polynomialfeatures', 'standardscaler', 'ridge', 'columntransformer__n_jobs', 'columntransformer__remainder', 'columntransformer__sparse_threshold', 'columntransformer__transformer_weights', 'columntransformer__transformers', 'columntransformer__verbose', 'columntransformer__verbose_feature_names_out', 'columntransformer__onehotencoder', 'columntransformer__onehotencoder__categories', 'columntransformer__onehotencoder__drop', 'columntransformer__onehotencoder__dtype', 'columntransformer__onehotencoder__handle_unknown', 'columntransformer__onehotencoder__sparse', 'polynomialfeatures__degree', 'polynomialfeatures__include_bias', 'polynomialfeatures__interaction_only', 'polynomialfeatures__order', 'standardscaler__copy', 'standardscaler__with_mean', 'standardscaler__with_std', 'ridge__alpha', 'ridge__copy_X', 'ridge__fit_intercept', 'ridge__max_iter', 'ridge__normalize', 'ridge__positive', 'ridge__random_state', 'ridge__solver', 'ridge__tol'])"
      ]
     },
     "execution_count": 505,
     "metadata": {},
     "output_type": "execute_result"
    }
   ],
   "source": [
    "pipe6.get_params().keys()"
   ]
  },
  {
   "cell_type": "code",
   "execution_count": 506,
   "metadata": {},
   "outputs": [],
   "source": [
    "params = {\n",
    "    'ridge__alpha': [.01, .1, 1, 10, 100],\n",
    "    'ridge__max_iter': [100_000]\n",
    "}"
   ]
  },
  {
   "cell_type": "code",
   "execution_count": 507,
   "metadata": {},
   "outputs": [
    {
     "data": {
      "text/html": [
       "<style>#sk-3ed2c476-d9aa-43d4-9fa9-b559e5a88679 {color: black;background-color: white;}#sk-3ed2c476-d9aa-43d4-9fa9-b559e5a88679 pre{padding: 0;}#sk-3ed2c476-d9aa-43d4-9fa9-b559e5a88679 div.sk-toggleable {background-color: white;}#sk-3ed2c476-d9aa-43d4-9fa9-b559e5a88679 label.sk-toggleable__label {cursor: pointer;display: block;width: 100%;margin-bottom: 0;padding: 0.3em;box-sizing: border-box;text-align: center;}#sk-3ed2c476-d9aa-43d4-9fa9-b559e5a88679 label.sk-toggleable__label-arrow:before {content: \"▸\";float: left;margin-right: 0.25em;color: #696969;}#sk-3ed2c476-d9aa-43d4-9fa9-b559e5a88679 label.sk-toggleable__label-arrow:hover:before {color: black;}#sk-3ed2c476-d9aa-43d4-9fa9-b559e5a88679 div.sk-estimator:hover label.sk-toggleable__label-arrow:before {color: black;}#sk-3ed2c476-d9aa-43d4-9fa9-b559e5a88679 div.sk-toggleable__content {max-height: 0;max-width: 0;overflow: hidden;text-align: left;background-color: #f0f8ff;}#sk-3ed2c476-d9aa-43d4-9fa9-b559e5a88679 div.sk-toggleable__content pre {margin: 0.2em;color: black;border-radius: 0.25em;background-color: #f0f8ff;}#sk-3ed2c476-d9aa-43d4-9fa9-b559e5a88679 input.sk-toggleable__control:checked~div.sk-toggleable__content {max-height: 200px;max-width: 100%;overflow: auto;}#sk-3ed2c476-d9aa-43d4-9fa9-b559e5a88679 input.sk-toggleable__control:checked~label.sk-toggleable__label-arrow:before {content: \"▾\";}#sk-3ed2c476-d9aa-43d4-9fa9-b559e5a88679 div.sk-estimator input.sk-toggleable__control:checked~label.sk-toggleable__label {background-color: #d4ebff;}#sk-3ed2c476-d9aa-43d4-9fa9-b559e5a88679 div.sk-label input.sk-toggleable__control:checked~label.sk-toggleable__label {background-color: #d4ebff;}#sk-3ed2c476-d9aa-43d4-9fa9-b559e5a88679 input.sk-hidden--visually {border: 0;clip: rect(1px 1px 1px 1px);clip: rect(1px, 1px, 1px, 1px);height: 1px;margin: -1px;overflow: hidden;padding: 0;position: absolute;width: 1px;}#sk-3ed2c476-d9aa-43d4-9fa9-b559e5a88679 div.sk-estimator {font-family: monospace;background-color: #f0f8ff;border: 1px dotted black;border-radius: 0.25em;box-sizing: border-box;margin-bottom: 0.5em;}#sk-3ed2c476-d9aa-43d4-9fa9-b559e5a88679 div.sk-estimator:hover {background-color: #d4ebff;}#sk-3ed2c476-d9aa-43d4-9fa9-b559e5a88679 div.sk-parallel-item::after {content: \"\";width: 100%;border-bottom: 1px solid gray;flex-grow: 1;}#sk-3ed2c476-d9aa-43d4-9fa9-b559e5a88679 div.sk-label:hover label.sk-toggleable__label {background-color: #d4ebff;}#sk-3ed2c476-d9aa-43d4-9fa9-b559e5a88679 div.sk-serial::before {content: \"\";position: absolute;border-left: 1px solid gray;box-sizing: border-box;top: 2em;bottom: 0;left: 50%;}#sk-3ed2c476-d9aa-43d4-9fa9-b559e5a88679 div.sk-serial {display: flex;flex-direction: column;align-items: center;background-color: white;padding-right: 0.2em;padding-left: 0.2em;}#sk-3ed2c476-d9aa-43d4-9fa9-b559e5a88679 div.sk-item {z-index: 1;}#sk-3ed2c476-d9aa-43d4-9fa9-b559e5a88679 div.sk-parallel {display: flex;align-items: stretch;justify-content: center;background-color: white;}#sk-3ed2c476-d9aa-43d4-9fa9-b559e5a88679 div.sk-parallel::before {content: \"\";position: absolute;border-left: 1px solid gray;box-sizing: border-box;top: 2em;bottom: 0;left: 50%;}#sk-3ed2c476-d9aa-43d4-9fa9-b559e5a88679 div.sk-parallel-item {display: flex;flex-direction: column;position: relative;background-color: white;}#sk-3ed2c476-d9aa-43d4-9fa9-b559e5a88679 div.sk-parallel-item:first-child::after {align-self: flex-end;width: 50%;}#sk-3ed2c476-d9aa-43d4-9fa9-b559e5a88679 div.sk-parallel-item:last-child::after {align-self: flex-start;width: 50%;}#sk-3ed2c476-d9aa-43d4-9fa9-b559e5a88679 div.sk-parallel-item:only-child::after {width: 0;}#sk-3ed2c476-d9aa-43d4-9fa9-b559e5a88679 div.sk-dashed-wrapped {border: 1px dashed gray;margin: 0 0.4em 0.5em 0.4em;box-sizing: border-box;padding-bottom: 0.4em;background-color: white;position: relative;}#sk-3ed2c476-d9aa-43d4-9fa9-b559e5a88679 div.sk-label label {font-family: monospace;font-weight: bold;background-color: white;display: inline-block;line-height: 1.2em;}#sk-3ed2c476-d9aa-43d4-9fa9-b559e5a88679 div.sk-label-container {position: relative;z-index: 2;text-align: center;}#sk-3ed2c476-d9aa-43d4-9fa9-b559e5a88679 div.sk-container {/* jupyter's `normalize.less` sets `[hidden] { display: none; }` but bootstrap.min.css set `[hidden] { display: none !important; }` so we also need the `!important` here to be able to override the default hidden behavior on the sphinx rendered scikit-learn.org. See: https://github.com/scikit-learn/scikit-learn/issues/21755 */display: inline-block !important;position: relative;}#sk-3ed2c476-d9aa-43d4-9fa9-b559e5a88679 div.sk-text-repr-fallback {display: none;}</style><div id=\"sk-3ed2c476-d9aa-43d4-9fa9-b559e5a88679\" class=\"sk-top-container\"><div class=\"sk-text-repr-fallback\"><pre>GridSearchCV(estimator=Pipeline(steps=[(&#x27;columntransformer&#x27;,\n",
       "                                        ColumnTransformer(remainder=&#x27;passthrough&#x27;,\n",
       "                                                          transformers=[(&#x27;onehotencoder&#x27;,\n",
       "                                                                         OneHotEncoder(handle_unknown=&#x27;ignore&#x27;),\n",
       "                                                                         &lt;sklearn.compose._column_transformer.make_column_selector object at 0x7f7e376f12b0&gt;)],\n",
       "                                                          verbose_feature_names_out=False)),\n",
       "                                       (&#x27;polynomialfeatures&#x27;,\n",
       "                                        PolynomialFeatures()),\n",
       "                                       (&#x27;standardscaler&#x27;,\n",
       "                                        StandardScaler(with_mean=False)),\n",
       "                                       (&#x27;ridge&#x27;, Ridge())]),\n",
       "             n_jobs=-1,\n",
       "             param_grid={&#x27;ridge__alpha&#x27;: [0.01, 0.1, 1, 10, 100],\n",
       "                         &#x27;ridge__max_iter&#x27;: [100000]})</pre><b>Please rerun this cell to show the HTML repr or trust the notebook.</b></div><div class=\"sk-container\" hidden><div class=\"sk-item sk-dashed-wrapped\"><div class=\"sk-label-container\"><div class=\"sk-label sk-toggleable\"><input class=\"sk-toggleable__control sk-hidden--visually\" id=\"39291f34-c137-4bf3-996c-6287ab53d942\" type=\"checkbox\" ><label for=\"39291f34-c137-4bf3-996c-6287ab53d942\" class=\"sk-toggleable__label sk-toggleable__label-arrow\">GridSearchCV</label><div class=\"sk-toggleable__content\"><pre>GridSearchCV(estimator=Pipeline(steps=[(&#x27;columntransformer&#x27;,\n",
       "                                        ColumnTransformer(remainder=&#x27;passthrough&#x27;,\n",
       "                                                          transformers=[(&#x27;onehotencoder&#x27;,\n",
       "                                                                         OneHotEncoder(handle_unknown=&#x27;ignore&#x27;),\n",
       "                                                                         &lt;sklearn.compose._column_transformer.make_column_selector object at 0x7f7e376f12b0&gt;)],\n",
       "                                                          verbose_feature_names_out=False)),\n",
       "                                       (&#x27;polynomialfeatures&#x27;,\n",
       "                                        PolynomialFeatures()),\n",
       "                                       (&#x27;standardscaler&#x27;,\n",
       "                                        StandardScaler(with_mean=False)),\n",
       "                                       (&#x27;ridge&#x27;, Ridge())]),\n",
       "             n_jobs=-1,\n",
       "             param_grid={&#x27;ridge__alpha&#x27;: [0.01, 0.1, 1, 10, 100],\n",
       "                         &#x27;ridge__max_iter&#x27;: [100000]})</pre></div></div></div><div class=\"sk-parallel\"><div class=\"sk-parallel-item\"><div class=\"sk-item\"><div class=\"sk-serial\"><div class=\"sk-item\"><div class=\"sk-serial\"><div class=\"sk-item sk-dashed-wrapped\"><div class=\"sk-label-container\"><div class=\"sk-label sk-toggleable\"><input class=\"sk-toggleable__control sk-hidden--visually\" id=\"23118026-9d82-42e5-a711-3affaeaabf6d\" type=\"checkbox\" ><label for=\"23118026-9d82-42e5-a711-3affaeaabf6d\" class=\"sk-toggleable__label sk-toggleable__label-arrow\">columntransformer: ColumnTransformer</label><div class=\"sk-toggleable__content\"><pre>ColumnTransformer(remainder=&#x27;passthrough&#x27;,\n",
       "                  transformers=[(&#x27;onehotencoder&#x27;,\n",
       "                                 OneHotEncoder(handle_unknown=&#x27;ignore&#x27;),\n",
       "                                 &lt;sklearn.compose._column_transformer.make_column_selector object at 0x7f7e376f12b0&gt;)],\n",
       "                  verbose_feature_names_out=False)</pre></div></div></div><div class=\"sk-parallel\"><div class=\"sk-parallel-item\"><div class=\"sk-item\"><div class=\"sk-label-container\"><div class=\"sk-label sk-toggleable\"><input class=\"sk-toggleable__control sk-hidden--visually\" id=\"691ed2ab-6282-4917-b790-db5b61037b92\" type=\"checkbox\" ><label for=\"691ed2ab-6282-4917-b790-db5b61037b92\" class=\"sk-toggleable__label sk-toggleable__label-arrow\">onehotencoder</label><div class=\"sk-toggleable__content\"><pre>&lt;sklearn.compose._column_transformer.make_column_selector object at 0x7f7e376f12b0&gt;</pre></div></div></div><div class=\"sk-serial\"><div class=\"sk-item\"><div class=\"sk-estimator sk-toggleable\"><input class=\"sk-toggleable__control sk-hidden--visually\" id=\"cfbe7726-f229-47c6-9038-ce13a6383a64\" type=\"checkbox\" ><label for=\"cfbe7726-f229-47c6-9038-ce13a6383a64\" class=\"sk-toggleable__label sk-toggleable__label-arrow\">OneHotEncoder</label><div class=\"sk-toggleable__content\"><pre>OneHotEncoder(handle_unknown=&#x27;ignore&#x27;)</pre></div></div></div></div></div></div><div class=\"sk-parallel-item\"><div class=\"sk-item\"><div class=\"sk-label-container\"><div class=\"sk-label sk-toggleable\"><input class=\"sk-toggleable__control sk-hidden--visually\" id=\"95d57da5-3d09-427f-a299-dac651ac7019\" type=\"checkbox\" ><label for=\"95d57da5-3d09-427f-a299-dac651ac7019\" class=\"sk-toggleable__label sk-toggleable__label-arrow\">remainder</label><div class=\"sk-toggleable__content\"><pre></pre></div></div></div><div class=\"sk-serial\"><div class=\"sk-item\"><div class=\"sk-estimator sk-toggleable\"><input class=\"sk-toggleable__control sk-hidden--visually\" id=\"fd0d474c-a57e-4750-814d-1d7c403f2f49\" type=\"checkbox\" ><label for=\"fd0d474c-a57e-4750-814d-1d7c403f2f49\" class=\"sk-toggleable__label sk-toggleable__label-arrow\">passthrough</label><div class=\"sk-toggleable__content\"><pre>passthrough</pre></div></div></div></div></div></div></div></div><div class=\"sk-item\"><div class=\"sk-estimator sk-toggleable\"><input class=\"sk-toggleable__control sk-hidden--visually\" id=\"b047b5b3-eac1-45b2-b887-8284da15274a\" type=\"checkbox\" ><label for=\"b047b5b3-eac1-45b2-b887-8284da15274a\" class=\"sk-toggleable__label sk-toggleable__label-arrow\">PolynomialFeatures</label><div class=\"sk-toggleable__content\"><pre>PolynomialFeatures()</pre></div></div></div><div class=\"sk-item\"><div class=\"sk-estimator sk-toggleable\"><input class=\"sk-toggleable__control sk-hidden--visually\" id=\"d67b79f0-f1f4-481e-af78-54e22c9d712b\" type=\"checkbox\" ><label for=\"d67b79f0-f1f4-481e-af78-54e22c9d712b\" class=\"sk-toggleable__label sk-toggleable__label-arrow\">StandardScaler</label><div class=\"sk-toggleable__content\"><pre>StandardScaler(with_mean=False)</pre></div></div></div><div class=\"sk-item\"><div class=\"sk-estimator sk-toggleable\"><input class=\"sk-toggleable__control sk-hidden--visually\" id=\"17c7f86b-ff44-4092-95d9-042f002b6a0b\" type=\"checkbox\" ><label for=\"17c7f86b-ff44-4092-95d9-042f002b6a0b\" class=\"sk-toggleable__label sk-toggleable__label-arrow\">Ridge</label><div class=\"sk-toggleable__content\"><pre>Ridge()</pre></div></div></div></div></div></div></div></div></div></div></div></div>"
      ],
      "text/plain": [
       "GridSearchCV(estimator=Pipeline(steps=[('columntransformer',\n",
       "                                        ColumnTransformer(remainder='passthrough',\n",
       "                                                          transformers=[('onehotencoder',\n",
       "                                                                         OneHotEncoder(handle_unknown='ignore'),\n",
       "                                                                         <sklearn.compose._column_transformer.make_column_selector object at 0x7f7e376f12b0>)],\n",
       "                                                          verbose_feature_names_out=False)),\n",
       "                                       ('polynomialfeatures',\n",
       "                                        PolynomialFeatures()),\n",
       "                                       ('standardscaler',\n",
       "                                        StandardScaler(with_mean=False)),\n",
       "                                       ('ridge', Ridge())]),\n",
       "             n_jobs=-1,\n",
       "             param_grid={'ridge__alpha': [0.01, 0.1, 1, 10, 100],\n",
       "                         'ridge__max_iter': [100000]})"
      ]
     },
     "execution_count": 507,
     "metadata": {},
     "output_type": "execute_result"
    }
   ],
   "source": [
    "gs3 = GridSearchCV(pipe6, params, n_jobs=-1)\n",
    "gs3"
   ]
  },
  {
   "cell_type": "code",
   "execution_count": 510,
   "metadata": {},
   "outputs": [
    {
     "data": {
      "text/plain": [
       "0.8576599948036657"
      ]
     },
     "execution_count": 510,
     "metadata": {},
     "output_type": "execute_result"
    }
   ],
   "source": [
    "gs3.fit(X_train, y_train)\n",
    "gs3.score(X_test, y_test)"
   ]
  },
  {
   "cell_type": "code",
   "execution_count": 511,
   "metadata": {},
   "outputs": [
    {
     "data": {
      "text/plain": [
       "29611.415986208664"
      ]
     },
     "execution_count": 511,
     "metadata": {},
     "output_type": "execute_result"
    }
   ],
   "source": [
    "preds = gs3.predict(X_test)\n",
    "mean_squared_error(y_test, preds, squared=False)"
   ]
  },
  {
   "cell_type": "markdown",
   "metadata": {},
   "source": [
    "### Kaggle submission"
   ]
  },
  {
   "cell_type": "code",
   "execution_count": 512,
   "metadata": {},
   "outputs": [],
   "source": [
    "test['SalePrice'] = gs3.predict(kaggle)"
   ]
  },
  {
   "cell_type": "code",
   "execution_count": 513,
   "metadata": {},
   "outputs": [],
   "source": [
    "test[['Id', 'SalePrice']].to_csv('../data/submission_all_EDA_poly_ridge.csv', index=False)"
   ]
  }
 ],
 "metadata": {
  "interpreter": {
   "hash": "f7a0f9bb49171c226bccce8a0987518af550515ba22b4949d7abe766c3680a51"
  },
  "kernelspec": {
   "display_name": "Python 3.9.7 64-bit ('base': conda)",
   "language": "python",
   "name": "python3"
  },
  "language_info": {
   "codemirror_mode": {
    "name": "ipython",
    "version": 3
   },
   "file_extension": ".py",
   "mimetype": "text/x-python",
   "name": "python",
   "nbconvert_exporter": "python",
   "pygments_lexer": "ipython3",
   "version": "3.9.7"
  },
  "orig_nbformat": 4
 },
 "nbformat": 4,
 "nbformat_minor": 2
}
