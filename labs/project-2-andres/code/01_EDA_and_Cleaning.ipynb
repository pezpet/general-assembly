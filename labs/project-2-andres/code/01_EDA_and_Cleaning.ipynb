{
 "cells": [
  {
   "cell_type": "markdown",
   "metadata": {},
   "source": [
    "# EDA and Cleaning - Ames Housing Data\n",
    "\n",
    "This notebook contains all data cleaning and Exploratory Data Analysis performed on Ames Housing Data"
   ]
  },
  {
   "cell_type": "markdown",
   "metadata": {},
   "source": [
    "## Initial comments from data description review\n",
    "\n",
    "- \"There are 5 observations that an instructor may wish to remove from the data set before giving it to students (a plot of SALE PRICE versus GR LIV AREA will indicate them quickly). Three of them are true outliers (Partial Sales that likely don’t represent actual market values) and two of them are simply unusual sales (very large houses priced relatively appropriately). **I would recommend removing any houses with more than 4000 square feet from the data set (which eliminates these 5 unusual observations)** before assigning it to students.\"\n",
    "\n",
    "- \"... if the purpose is to once again create a common use model to estimate a “typical” sale, it is in the modeler’s best interest to remove any observations that do not seem typical **(such as foreclosures or family sales)**.\"\n",
    "\n",
    "## Interesting features after reading data description:\n",
    "\n",
    "- Lot Shape\n",
    "- Land Contour\n",
    "- Lot Config\n",
    "- Neighborhood\n",
    "- Year Built\n",
    "- Year Remod/Add\n",
    "- Exter Qual\n",
    "- Exter Cond\n",
    "- Overall Qual\n",
    "- Overall Cond\n",
    "- Gr Liv Area\n",
    "- Bedroom\n",
    "- KitchenQual\n",
    "- Garage Area\n",
    "- Garage Qual\n",
    "- Garage Cond\n",
    "- Mo Sold\n",
    "- Yr Sold\n",
    "- Sale Type\n",
    "- Sale Condition"
   ]
  },
  {
   "cell_type": "code",
   "execution_count": 518,
   "metadata": {},
   "outputs": [],
   "source": [
    "# Import the usual suspects\n",
    "import pandas as pd\n",
    "import numpy as np\n",
    "import matplotlib.pyplot as plt\n",
    "import seaborn as sns\n",
    "\n",
    "from sklearn.preprocessing import StandardScaler\n",
    "from sklearn.linear_model import LinearRegression, Lasso, LassoCV, RidgeCV"
   ]
  },
  {
   "cell_type": "code",
   "execution_count": 519,
   "metadata": {},
   "outputs": [
    {
     "data": {
      "text/html": [
       "<div>\n",
       "<style scoped>\n",
       "    .dataframe tbody tr th:only-of-type {\n",
       "        vertical-align: middle;\n",
       "    }\n",
       "\n",
       "    .dataframe tbody tr th {\n",
       "        vertical-align: top;\n",
       "    }\n",
       "\n",
       "    .dataframe thead th {\n",
       "        text-align: right;\n",
       "    }\n",
       "</style>\n",
       "<table border=\"1\" class=\"dataframe\">\n",
       "  <thead>\n",
       "    <tr style=\"text-align: right;\">\n",
       "      <th></th>\n",
       "      <th>Id</th>\n",
       "      <th>PID</th>\n",
       "      <th>MS SubClass</th>\n",
       "      <th>MS Zoning</th>\n",
       "      <th>Lot Frontage</th>\n",
       "      <th>Lot Area</th>\n",
       "      <th>Street</th>\n",
       "      <th>Alley</th>\n",
       "      <th>Lot Shape</th>\n",
       "      <th>Land Contour</th>\n",
       "      <th>...</th>\n",
       "      <th>3Ssn Porch</th>\n",
       "      <th>Screen Porch</th>\n",
       "      <th>Pool Area</th>\n",
       "      <th>Pool QC</th>\n",
       "      <th>Fence</th>\n",
       "      <th>Misc Feature</th>\n",
       "      <th>Misc Val</th>\n",
       "      <th>Mo Sold</th>\n",
       "      <th>Yr Sold</th>\n",
       "      <th>Sale Type</th>\n",
       "    </tr>\n",
       "  </thead>\n",
       "  <tbody>\n",
       "    <tr>\n",
       "      <th>0</th>\n",
       "      <td>2658</td>\n",
       "      <td>902301120</td>\n",
       "      <td>190</td>\n",
       "      <td>RM</td>\n",
       "      <td>69.0</td>\n",
       "      <td>9142</td>\n",
       "      <td>Pave</td>\n",
       "      <td>Grvl</td>\n",
       "      <td>Reg</td>\n",
       "      <td>Lvl</td>\n",
       "      <td>...</td>\n",
       "      <td>0</td>\n",
       "      <td>0</td>\n",
       "      <td>0</td>\n",
       "      <td>NaN</td>\n",
       "      <td>NaN</td>\n",
       "      <td>NaN</td>\n",
       "      <td>0</td>\n",
       "      <td>4</td>\n",
       "      <td>2006</td>\n",
       "      <td>WD</td>\n",
       "    </tr>\n",
       "    <tr>\n",
       "      <th>1</th>\n",
       "      <td>2718</td>\n",
       "      <td>905108090</td>\n",
       "      <td>90</td>\n",
       "      <td>RL</td>\n",
       "      <td>NaN</td>\n",
       "      <td>9662</td>\n",
       "      <td>Pave</td>\n",
       "      <td>NaN</td>\n",
       "      <td>IR1</td>\n",
       "      <td>Lvl</td>\n",
       "      <td>...</td>\n",
       "      <td>0</td>\n",
       "      <td>0</td>\n",
       "      <td>0</td>\n",
       "      <td>NaN</td>\n",
       "      <td>NaN</td>\n",
       "      <td>NaN</td>\n",
       "      <td>0</td>\n",
       "      <td>8</td>\n",
       "      <td>2006</td>\n",
       "      <td>WD</td>\n",
       "    </tr>\n",
       "    <tr>\n",
       "      <th>2</th>\n",
       "      <td>2414</td>\n",
       "      <td>528218130</td>\n",
       "      <td>60</td>\n",
       "      <td>RL</td>\n",
       "      <td>58.0</td>\n",
       "      <td>17104</td>\n",
       "      <td>Pave</td>\n",
       "      <td>NaN</td>\n",
       "      <td>IR1</td>\n",
       "      <td>Lvl</td>\n",
       "      <td>...</td>\n",
       "      <td>0</td>\n",
       "      <td>0</td>\n",
       "      <td>0</td>\n",
       "      <td>NaN</td>\n",
       "      <td>NaN</td>\n",
       "      <td>NaN</td>\n",
       "      <td>0</td>\n",
       "      <td>9</td>\n",
       "      <td>2006</td>\n",
       "      <td>New</td>\n",
       "    </tr>\n",
       "    <tr>\n",
       "      <th>3</th>\n",
       "      <td>1989</td>\n",
       "      <td>902207150</td>\n",
       "      <td>30</td>\n",
       "      <td>RM</td>\n",
       "      <td>60.0</td>\n",
       "      <td>8520</td>\n",
       "      <td>Pave</td>\n",
       "      <td>NaN</td>\n",
       "      <td>Reg</td>\n",
       "      <td>Lvl</td>\n",
       "      <td>...</td>\n",
       "      <td>0</td>\n",
       "      <td>0</td>\n",
       "      <td>0</td>\n",
       "      <td>NaN</td>\n",
       "      <td>NaN</td>\n",
       "      <td>NaN</td>\n",
       "      <td>0</td>\n",
       "      <td>7</td>\n",
       "      <td>2007</td>\n",
       "      <td>WD</td>\n",
       "    </tr>\n",
       "    <tr>\n",
       "      <th>4</th>\n",
       "      <td>625</td>\n",
       "      <td>535105100</td>\n",
       "      <td>20</td>\n",
       "      <td>RL</td>\n",
       "      <td>NaN</td>\n",
       "      <td>9500</td>\n",
       "      <td>Pave</td>\n",
       "      <td>NaN</td>\n",
       "      <td>IR1</td>\n",
       "      <td>Lvl</td>\n",
       "      <td>...</td>\n",
       "      <td>0</td>\n",
       "      <td>185</td>\n",
       "      <td>0</td>\n",
       "      <td>NaN</td>\n",
       "      <td>NaN</td>\n",
       "      <td>NaN</td>\n",
       "      <td>0</td>\n",
       "      <td>7</td>\n",
       "      <td>2009</td>\n",
       "      <td>WD</td>\n",
       "    </tr>\n",
       "  </tbody>\n",
       "</table>\n",
       "<p>5 rows × 80 columns</p>\n",
       "</div>"
      ],
      "text/plain": [
       "     Id        PID  MS SubClass MS Zoning  Lot Frontage  Lot Area Street  \\\n",
       "0  2658  902301120          190        RM          69.0      9142   Pave   \n",
       "1  2718  905108090           90        RL           NaN      9662   Pave   \n",
       "2  2414  528218130           60        RL          58.0     17104   Pave   \n",
       "3  1989  902207150           30        RM          60.0      8520   Pave   \n",
       "4   625  535105100           20        RL           NaN      9500   Pave   \n",
       "\n",
       "  Alley Lot Shape Land Contour  ... 3Ssn Porch Screen Porch Pool Area Pool QC  \\\n",
       "0  Grvl       Reg          Lvl  ...          0            0         0     NaN   \n",
       "1   NaN       IR1          Lvl  ...          0            0         0     NaN   \n",
       "2   NaN       IR1          Lvl  ...          0            0         0     NaN   \n",
       "3   NaN       Reg          Lvl  ...          0            0         0     NaN   \n",
       "4   NaN       IR1          Lvl  ...          0          185         0     NaN   \n",
       "\n",
       "  Fence Misc Feature Misc Val Mo Sold  Yr Sold  Sale Type  \n",
       "0   NaN          NaN        0       4     2006        WD   \n",
       "1   NaN          NaN        0       8     2006        WD   \n",
       "2   NaN          NaN        0       9     2006        New  \n",
       "3   NaN          NaN        0       7     2007        WD   \n",
       "4   NaN          NaN        0       7     2009        WD   \n",
       "\n",
       "[5 rows x 80 columns]"
      ]
     },
     "execution_count": 519,
     "metadata": {},
     "output_type": "execute_result"
    }
   ],
   "source": [
    "# Import data\n",
    "test = pd.read_csv('../data/test.csv')\n",
    "train = pd.read_csv('../data/train.csv')\n",
    "test.head()"
   ]
  },
  {
   "cell_type": "code",
   "execution_count": 520,
   "metadata": {},
   "outputs": [],
   "source": [
    "# List interesting features from reading data description\n",
    "interesting = [\n",
    "    'Lot Shape',\n",
    "    'Land Contour',\n",
    "    'Lot Config',\n",
    "    'Neighborhood',\n",
    "    'Year Built',\n",
    "    'Year Remod/Add',\n",
    "    'Exter Qual',\n",
    "    'Exter Cond',\n",
    "    'Overall Qual',\n",
    "    'Overall Cond',\n",
    "    'Gr Liv Area',\n",
    "    'Bedroom AbvGr',\n",
    "    'Kitchen Qual',\n",
    "    'Garage Area',\n",
    "    'Garage Qual',\n",
    "    'Garage Cond',\n",
    "    'Mo Sold',\n",
    "    'Yr Sold',\n",
    "    'Sale Type',\n",
    "    'SalePrice',\n",
    "]"
   ]
  },
  {
   "cell_type": "code",
   "execution_count": 521,
   "metadata": {},
   "outputs": [],
   "source": [
    "# Keep only interesting features\n",
    "train = train[interesting]\n"
   ]
  },
  {
   "cell_type": "code",
   "execution_count": 522,
   "metadata": {},
   "outputs": [
    {
     "data": {
      "text/html": [
       "<div>\n",
       "<style scoped>\n",
       "    .dataframe tbody tr th:only-of-type {\n",
       "        vertical-align: middle;\n",
       "    }\n",
       "\n",
       "    .dataframe tbody tr th {\n",
       "        vertical-align: top;\n",
       "    }\n",
       "\n",
       "    .dataframe thead th {\n",
       "        text-align: right;\n",
       "    }\n",
       "</style>\n",
       "<table border=\"1\" class=\"dataframe\">\n",
       "  <thead>\n",
       "    <tr style=\"text-align: right;\">\n",
       "      <th></th>\n",
       "      <th>Lot Shape</th>\n",
       "      <th>Land Contour</th>\n",
       "      <th>Lot Config</th>\n",
       "      <th>Neighborhood</th>\n",
       "      <th>Year Built</th>\n",
       "      <th>Year Remod/Add</th>\n",
       "      <th>Exter Qual</th>\n",
       "      <th>Exter Cond</th>\n",
       "      <th>Overall Qual</th>\n",
       "      <th>Overall Cond</th>\n",
       "      <th>Gr Liv Area</th>\n",
       "      <th>Bedroom AbvGr</th>\n",
       "      <th>Kitchen Qual</th>\n",
       "      <th>Garage Area</th>\n",
       "      <th>Garage Qual</th>\n",
       "      <th>Garage Cond</th>\n",
       "      <th>Mo Sold</th>\n",
       "      <th>Yr Sold</th>\n",
       "      <th>Sale Type</th>\n",
       "      <th>SalePrice</th>\n",
       "    </tr>\n",
       "  </thead>\n",
       "  <tbody>\n",
       "    <tr>\n",
       "      <th>0</th>\n",
       "      <td>IR1</td>\n",
       "      <td>Lvl</td>\n",
       "      <td>CulDSac</td>\n",
       "      <td>Sawyer</td>\n",
       "      <td>1976</td>\n",
       "      <td>2005</td>\n",
       "      <td>Gd</td>\n",
       "      <td>TA</td>\n",
       "      <td>6</td>\n",
       "      <td>8</td>\n",
       "      <td>1479</td>\n",
       "      <td>3</td>\n",
       "      <td>Gd</td>\n",
       "      <td>475.0</td>\n",
       "      <td>TA</td>\n",
       "      <td>TA</td>\n",
       "      <td>3</td>\n",
       "      <td>2010</td>\n",
       "      <td>WD</td>\n",
       "      <td>130500</td>\n",
       "    </tr>\n",
       "    <tr>\n",
       "      <th>1</th>\n",
       "      <td>IR1</td>\n",
       "      <td>Lvl</td>\n",
       "      <td>CulDSac</td>\n",
       "      <td>SawyerW</td>\n",
       "      <td>1996</td>\n",
       "      <td>1997</td>\n",
       "      <td>Gd</td>\n",
       "      <td>TA</td>\n",
       "      <td>7</td>\n",
       "      <td>5</td>\n",
       "      <td>2122</td>\n",
       "      <td>4</td>\n",
       "      <td>Gd</td>\n",
       "      <td>559.0</td>\n",
       "      <td>TA</td>\n",
       "      <td>TA</td>\n",
       "      <td>4</td>\n",
       "      <td>2009</td>\n",
       "      <td>WD</td>\n",
       "      <td>220000</td>\n",
       "    </tr>\n",
       "    <tr>\n",
       "      <th>2</th>\n",
       "      <td>Reg</td>\n",
       "      <td>Lvl</td>\n",
       "      <td>Inside</td>\n",
       "      <td>NAmes</td>\n",
       "      <td>1953</td>\n",
       "      <td>2007</td>\n",
       "      <td>TA</td>\n",
       "      <td>Gd</td>\n",
       "      <td>5</td>\n",
       "      <td>7</td>\n",
       "      <td>1057</td>\n",
       "      <td>3</td>\n",
       "      <td>Gd</td>\n",
       "      <td>246.0</td>\n",
       "      <td>TA</td>\n",
       "      <td>TA</td>\n",
       "      <td>1</td>\n",
       "      <td>2010</td>\n",
       "      <td>WD</td>\n",
       "      <td>109000</td>\n",
       "    </tr>\n",
       "    <tr>\n",
       "      <th>3</th>\n",
       "      <td>Reg</td>\n",
       "      <td>Lvl</td>\n",
       "      <td>Inside</td>\n",
       "      <td>Timber</td>\n",
       "      <td>2006</td>\n",
       "      <td>2007</td>\n",
       "      <td>TA</td>\n",
       "      <td>TA</td>\n",
       "      <td>5</td>\n",
       "      <td>5</td>\n",
       "      <td>1444</td>\n",
       "      <td>3</td>\n",
       "      <td>TA</td>\n",
       "      <td>400.0</td>\n",
       "      <td>TA</td>\n",
       "      <td>TA</td>\n",
       "      <td>4</td>\n",
       "      <td>2010</td>\n",
       "      <td>WD</td>\n",
       "      <td>174000</td>\n",
       "    </tr>\n",
       "    <tr>\n",
       "      <th>4</th>\n",
       "      <td>IR1</td>\n",
       "      <td>Lvl</td>\n",
       "      <td>Inside</td>\n",
       "      <td>SawyerW</td>\n",
       "      <td>1900</td>\n",
       "      <td>1993</td>\n",
       "      <td>TA</td>\n",
       "      <td>TA</td>\n",
       "      <td>6</td>\n",
       "      <td>8</td>\n",
       "      <td>1445</td>\n",
       "      <td>3</td>\n",
       "      <td>TA</td>\n",
       "      <td>484.0</td>\n",
       "      <td>TA</td>\n",
       "      <td>TA</td>\n",
       "      <td>3</td>\n",
       "      <td>2010</td>\n",
       "      <td>WD</td>\n",
       "      <td>138500</td>\n",
       "    </tr>\n",
       "  </tbody>\n",
       "</table>\n",
       "</div>"
      ],
      "text/plain": [
       "  Lot Shape Land Contour Lot Config Neighborhood  Year Built  Year Remod/Add  \\\n",
       "0       IR1          Lvl    CulDSac       Sawyer        1976            2005   \n",
       "1       IR1          Lvl    CulDSac      SawyerW        1996            1997   \n",
       "2       Reg          Lvl     Inside        NAmes        1953            2007   \n",
       "3       Reg          Lvl     Inside       Timber        2006            2007   \n",
       "4       IR1          Lvl     Inside      SawyerW        1900            1993   \n",
       "\n",
       "  Exter Qual Exter Cond  Overall Qual  Overall Cond  Gr Liv Area  \\\n",
       "0         Gd         TA             6             8         1479   \n",
       "1         Gd         TA             7             5         2122   \n",
       "2         TA         Gd             5             7         1057   \n",
       "3         TA         TA             5             5         1444   \n",
       "4         TA         TA             6             8         1445   \n",
       "\n",
       "   Bedroom AbvGr Kitchen Qual  Garage Area Garage Qual Garage Cond  Mo Sold  \\\n",
       "0              3           Gd        475.0          TA          TA        3   \n",
       "1              4           Gd        559.0          TA          TA        4   \n",
       "2              3           Gd        246.0          TA          TA        1   \n",
       "3              3           TA        400.0          TA          TA        4   \n",
       "4              3           TA        484.0          TA          TA        3   \n",
       "\n",
       "   Yr Sold Sale Type  SalePrice  \n",
       "0     2010       WD      130500  \n",
       "1     2009       WD      220000  \n",
       "2     2010       WD      109000  \n",
       "3     2010       WD      174000  \n",
       "4     2010       WD      138500  "
      ]
     },
     "execution_count": 522,
     "metadata": {},
     "output_type": "execute_result"
    }
   ],
   "source": [
    "train.head()"
   ]
  },
  {
   "cell_type": "code",
   "execution_count": 523,
   "metadata": {},
   "outputs": [
    {
     "name": "stdout",
     "output_type": "stream",
     "text": [
      "<class 'pandas.core.frame.DataFrame'>\n",
      "RangeIndex: 2051 entries, 0 to 2050\n",
      "Data columns (total 20 columns):\n",
      " #   Column          Non-Null Count  Dtype  \n",
      "---  ------          --------------  -----  \n",
      " 0   Lot Shape       2051 non-null   object \n",
      " 1   Land Contour    2051 non-null   object \n",
      " 2   Lot Config      2051 non-null   object \n",
      " 3   Neighborhood    2051 non-null   object \n",
      " 4   Year Built      2051 non-null   int64  \n",
      " 5   Year Remod/Add  2051 non-null   int64  \n",
      " 6   Exter Qual      2051 non-null   object \n",
      " 7   Exter Cond      2051 non-null   object \n",
      " 8   Overall Qual    2051 non-null   int64  \n",
      " 9   Overall Cond    2051 non-null   int64  \n",
      " 10  Gr Liv Area     2051 non-null   int64  \n",
      " 11  Bedroom AbvGr   2051 non-null   int64  \n",
      " 12  Kitchen Qual    2051 non-null   object \n",
      " 13  Garage Area     2050 non-null   float64\n",
      " 14  Garage Qual     1937 non-null   object \n",
      " 15  Garage Cond     1937 non-null   object \n",
      " 16  Mo Sold         2051 non-null   int64  \n",
      " 17  Yr Sold         2051 non-null   int64  \n",
      " 18  Sale Type       2051 non-null   object \n",
      " 19  SalePrice       2051 non-null   int64  \n",
      "dtypes: float64(1), int64(9), object(10)\n",
      "memory usage: 320.6+ KB\n"
     ]
    }
   ],
   "source": [
    "train.info()"
   ]
  },
  {
   "cell_type": "markdown",
   "metadata": {},
   "source": [
    "These columns need to be filled: 'Garage Area', 'Garage Qual', 'Garage Cond'"
   ]
  },
  {
   "cell_type": "code",
   "execution_count": 524,
   "metadata": {},
   "outputs": [
    {
     "data": {
      "text/html": [
       "<div>\n",
       "<style scoped>\n",
       "    .dataframe tbody tr th:only-of-type {\n",
       "        vertical-align: middle;\n",
       "    }\n",
       "\n",
       "    .dataframe tbody tr th {\n",
       "        vertical-align: top;\n",
       "    }\n",
       "\n",
       "    .dataframe thead th {\n",
       "        text-align: right;\n",
       "    }\n",
       "</style>\n",
       "<table border=\"1\" class=\"dataframe\">\n",
       "  <thead>\n",
       "    <tr style=\"text-align: right;\">\n",
       "      <th></th>\n",
       "      <th>Year Built</th>\n",
       "      <th>Year Remod/Add</th>\n",
       "      <th>Overall Qual</th>\n",
       "      <th>Overall Cond</th>\n",
       "      <th>Gr Liv Area</th>\n",
       "      <th>Bedroom AbvGr</th>\n",
       "      <th>Garage Area</th>\n",
       "      <th>Mo Sold</th>\n",
       "      <th>Yr Sold</th>\n",
       "      <th>SalePrice</th>\n",
       "    </tr>\n",
       "  </thead>\n",
       "  <tbody>\n",
       "    <tr>\n",
       "      <th>Year Built</th>\n",
       "      <td>1.000000</td>\n",
       "      <td>0.629116</td>\n",
       "      <td>0.602964</td>\n",
       "      <td>-0.370988</td>\n",
       "      <td>0.258838</td>\n",
       "      <td>-0.042149</td>\n",
       "      <td>0.487177</td>\n",
       "      <td>-0.007083</td>\n",
       "      <td>-0.003559</td>\n",
       "      <td>0.571849</td>\n",
       "    </tr>\n",
       "    <tr>\n",
       "      <th>Year Remod/Add</th>\n",
       "      <td>0.629116</td>\n",
       "      <td>1.000000</td>\n",
       "      <td>0.584654</td>\n",
       "      <td>0.042614</td>\n",
       "      <td>0.322407</td>\n",
       "      <td>-0.019748</td>\n",
       "      <td>0.398999</td>\n",
       "      <td>0.011568</td>\n",
       "      <td>0.042744</td>\n",
       "      <td>0.550370</td>\n",
       "    </tr>\n",
       "    <tr>\n",
       "      <th>Overall Qual</th>\n",
       "      <td>0.602964</td>\n",
       "      <td>0.584654</td>\n",
       "      <td>1.000000</td>\n",
       "      <td>-0.082770</td>\n",
       "      <td>0.566701</td>\n",
       "      <td>0.053373</td>\n",
       "      <td>0.563814</td>\n",
       "      <td>0.019242</td>\n",
       "      <td>-0.011578</td>\n",
       "      <td>0.800207</td>\n",
       "    </tr>\n",
       "    <tr>\n",
       "      <th>Overall Cond</th>\n",
       "      <td>-0.370988</td>\n",
       "      <td>0.042614</td>\n",
       "      <td>-0.082770</td>\n",
       "      <td>1.000000</td>\n",
       "      <td>-0.109804</td>\n",
       "      <td>-0.009908</td>\n",
       "      <td>-0.137917</td>\n",
       "      <td>-0.003144</td>\n",
       "      <td>0.047664</td>\n",
       "      <td>-0.097019</td>\n",
       "    </tr>\n",
       "    <tr>\n",
       "      <th>Gr Liv Area</th>\n",
       "      <td>0.258838</td>\n",
       "      <td>0.322407</td>\n",
       "      <td>0.566701</td>\n",
       "      <td>-0.109804</td>\n",
       "      <td>1.000000</td>\n",
       "      <td>0.507579</td>\n",
       "      <td>0.490949</td>\n",
       "      <td>0.049644</td>\n",
       "      <td>-0.015891</td>\n",
       "      <td>0.697038</td>\n",
       "    </tr>\n",
       "    <tr>\n",
       "      <th>Bedroom AbvGr</th>\n",
       "      <td>-0.042149</td>\n",
       "      <td>-0.019748</td>\n",
       "      <td>0.053373</td>\n",
       "      <td>-0.009908</td>\n",
       "      <td>0.507579</td>\n",
       "      <td>1.000000</td>\n",
       "      <td>0.069940</td>\n",
       "      <td>0.068281</td>\n",
       "      <td>-0.011692</td>\n",
       "      <td>0.137067</td>\n",
       "    </tr>\n",
       "    <tr>\n",
       "      <th>Garage Area</th>\n",
       "      <td>0.487177</td>\n",
       "      <td>0.398999</td>\n",
       "      <td>0.563814</td>\n",
       "      <td>-0.137917</td>\n",
       "      <td>0.490949</td>\n",
       "      <td>0.069940</td>\n",
       "      <td>1.000000</td>\n",
       "      <td>0.009964</td>\n",
       "      <td>-0.003589</td>\n",
       "      <td>0.650270</td>\n",
       "    </tr>\n",
       "    <tr>\n",
       "      <th>Mo Sold</th>\n",
       "      <td>-0.007083</td>\n",
       "      <td>0.011568</td>\n",
       "      <td>0.019242</td>\n",
       "      <td>-0.003144</td>\n",
       "      <td>0.049644</td>\n",
       "      <td>0.068281</td>\n",
       "      <td>0.009964</td>\n",
       "      <td>1.000000</td>\n",
       "      <td>-0.147494</td>\n",
       "      <td>0.032735</td>\n",
       "    </tr>\n",
       "    <tr>\n",
       "      <th>Yr Sold</th>\n",
       "      <td>-0.003559</td>\n",
       "      <td>0.042744</td>\n",
       "      <td>-0.011578</td>\n",
       "      <td>0.047664</td>\n",
       "      <td>-0.015891</td>\n",
       "      <td>-0.011692</td>\n",
       "      <td>-0.003589</td>\n",
       "      <td>-0.147494</td>\n",
       "      <td>1.000000</td>\n",
       "      <td>-0.015203</td>\n",
       "    </tr>\n",
       "    <tr>\n",
       "      <th>SalePrice</th>\n",
       "      <td>0.571849</td>\n",
       "      <td>0.550370</td>\n",
       "      <td>0.800207</td>\n",
       "      <td>-0.097019</td>\n",
       "      <td>0.697038</td>\n",
       "      <td>0.137067</td>\n",
       "      <td>0.650270</td>\n",
       "      <td>0.032735</td>\n",
       "      <td>-0.015203</td>\n",
       "      <td>1.000000</td>\n",
       "    </tr>\n",
       "  </tbody>\n",
       "</table>\n",
       "</div>"
      ],
      "text/plain": [
       "                Year Built  Year Remod/Add  Overall Qual  Overall Cond  \\\n",
       "Year Built        1.000000        0.629116      0.602964     -0.370988   \n",
       "Year Remod/Add    0.629116        1.000000      0.584654      0.042614   \n",
       "Overall Qual      0.602964        0.584654      1.000000     -0.082770   \n",
       "Overall Cond     -0.370988        0.042614     -0.082770      1.000000   \n",
       "Gr Liv Area       0.258838        0.322407      0.566701     -0.109804   \n",
       "Bedroom AbvGr    -0.042149       -0.019748      0.053373     -0.009908   \n",
       "Garage Area       0.487177        0.398999      0.563814     -0.137917   \n",
       "Mo Sold          -0.007083        0.011568      0.019242     -0.003144   \n",
       "Yr Sold          -0.003559        0.042744     -0.011578      0.047664   \n",
       "SalePrice         0.571849        0.550370      0.800207     -0.097019   \n",
       "\n",
       "                Gr Liv Area  Bedroom AbvGr  Garage Area   Mo Sold   Yr Sold  \\\n",
       "Year Built         0.258838      -0.042149     0.487177 -0.007083 -0.003559   \n",
       "Year Remod/Add     0.322407      -0.019748     0.398999  0.011568  0.042744   \n",
       "Overall Qual       0.566701       0.053373     0.563814  0.019242 -0.011578   \n",
       "Overall Cond      -0.109804      -0.009908    -0.137917 -0.003144  0.047664   \n",
       "Gr Liv Area        1.000000       0.507579     0.490949  0.049644 -0.015891   \n",
       "Bedroom AbvGr      0.507579       1.000000     0.069940  0.068281 -0.011692   \n",
       "Garage Area        0.490949       0.069940     1.000000  0.009964 -0.003589   \n",
       "Mo Sold            0.049644       0.068281     0.009964  1.000000 -0.147494   \n",
       "Yr Sold           -0.015891      -0.011692    -0.003589 -0.147494  1.000000   \n",
       "SalePrice          0.697038       0.137067     0.650270  0.032735 -0.015203   \n",
       "\n",
       "                SalePrice  \n",
       "Year Built       0.571849  \n",
       "Year Remod/Add   0.550370  \n",
       "Overall Qual     0.800207  \n",
       "Overall Cond    -0.097019  \n",
       "Gr Liv Area      0.697038  \n",
       "Bedroom AbvGr    0.137067  \n",
       "Garage Area      0.650270  \n",
       "Mo Sold          0.032735  \n",
       "Yr Sold         -0.015203  \n",
       "SalePrice        1.000000  "
      ]
     },
     "execution_count": 524,
     "metadata": {},
     "output_type": "execute_result"
    }
   ],
   "source": [
    "train.corr()"
   ]
  },
  {
   "cell_type": "markdown",
   "metadata": {},
   "source": [
    "High correlation features: 'Overall Qual', 'Gr Liv Area', 'Garage Area', 'Year Built', 'Year Remod/Add'"
   ]
  },
  {
   "cell_type": "markdown",
   "metadata": {},
   "source": [
    "### **Might be good to include a garage y/n column**"
   ]
  },
  {
   "cell_type": "markdown",
   "metadata": {},
   "source": [
    "## Dropping rows with 'Gr Liv Area' > 4000 per data description suggestion."
   ]
  },
  {
   "cell_type": "code",
   "execution_count": 525,
   "metadata": {},
   "outputs": [],
   "source": [
    "train = train[train['Gr Liv Area'] < 4000]\n",
    "# test = test[test['Gr Liv Area'] < 4000]"
   ]
  },
  {
   "cell_type": "code",
   "execution_count": 526,
   "metadata": {},
   "outputs": [],
   "source": [
    "# plt.figure(figsize=(10,10))\n",
    "# sns.pairplot(train, corner=True)\n",
    "# ;"
   ]
  },
  {
   "cell_type": "markdown",
   "metadata": {},
   "source": [
    "'Bedroom AbvGr', 'Mo Sold' and 'Yr Sold' seem to be evenly distributed, so I will drop them."
   ]
  },
  {
   "cell_type": "code",
   "execution_count": 527,
   "metadata": {},
   "outputs": [],
   "source": [
    "train.drop(columns=['Bedroom AbvGr', 'Mo Sold', 'Yr Sold'], inplace=True)\n",
    "test.drop(columns=['Bedroom AbvGr', 'Mo Sold', 'Yr Sold'], inplace=True)"
   ]
  },
  {
   "cell_type": "code",
   "execution_count": 528,
   "metadata": {},
   "outputs": [],
   "source": [
    "train['Garage Area'].fillna(0, inplace=True)\n",
    "test['Garage Area'].fillna(0, inplace=True)"
   ]
  },
  {
   "cell_type": "markdown",
   "metadata": {},
   "source": [
    "## Linear Regression"
   ]
  },
  {
   "cell_type": "code",
   "execution_count": 529,
   "metadata": {},
   "outputs": [],
   "source": [
    "X_test = test[['Overall Qual', 'Gr Liv Area', 'Garage Area', 'Year Built', 'Year Remod/Add']]\n",
    "X = train[['Overall Qual', 'Gr Liv Area', 'Garage Area', 'Year Built', 'Year Remod/Add']]\n",
    "y = train['SalePrice']"
   ]
  },
  {
   "cell_type": "code",
   "execution_count": 530,
   "metadata": {},
   "outputs": [
    {
     "data": {
      "text/plain": [
       "LinearRegression()"
      ]
     },
     "execution_count": 530,
     "metadata": {},
     "output_type": "execute_result"
    }
   ],
   "source": [
    "linreg = LinearRegression()\n",
    "linreg.fit(X, y)"
   ]
  },
  {
   "cell_type": "code",
   "execution_count": 531,
   "metadata": {},
   "outputs": [],
   "source": [
    "preds = linreg.predict(X_test)"
   ]
  },
  {
   "cell_type": "code",
   "execution_count": 532,
   "metadata": {},
   "outputs": [
    {
     "data": {
      "text/plain": [
       "0.7940701022936076"
      ]
     },
     "execution_count": 532,
     "metadata": {},
     "output_type": "execute_result"
    }
   ],
   "source": [
    "linreg.score(X, y)"
   ]
  },
  {
   "cell_type": "code",
   "execution_count": 533,
   "metadata": {},
   "outputs": [],
   "source": [
    "test['SalePrice'] = preds"
   ]
  },
  {
   "cell_type": "code",
   "execution_count": 534,
   "metadata": {},
   "outputs": [
    {
     "data": {
      "text/plain": [
       "(878,)"
      ]
     },
     "execution_count": 534,
     "metadata": {},
     "output_type": "execute_result"
    }
   ],
   "source": [
    "preds.shape"
   ]
  },
  {
   "cell_type": "code",
   "execution_count": 535,
   "metadata": {},
   "outputs": [],
   "source": [
    "test[['Id', 'SalePrice']].to_csv('../data/submission_linreg1.csv', index=False)"
   ]
  },
  {
   "cell_type": "markdown",
   "metadata": {},
   "source": [
    "## Linear Regression with Standard Scaling"
   ]
  },
  {
   "cell_type": "code",
   "execution_count": 536,
   "metadata": {},
   "outputs": [],
   "source": [
    "ss = StandardScaler()\n",
    "\n",
    "X_scaled = ss.fit_transform(X)\n",
    "X_test_scaled = ss.transform(X_test)"
   ]
  },
  {
   "cell_type": "code",
   "execution_count": 537,
   "metadata": {},
   "outputs": [],
   "source": [
    "linreg.fit(X_scaled, y)\n",
    "preds_scaled = linreg.predict(X_test_scaled)"
   ]
  },
  {
   "cell_type": "code",
   "execution_count": 538,
   "metadata": {},
   "outputs": [],
   "source": [
    "test['SalePrice'] = preds"
   ]
  },
  {
   "cell_type": "code",
   "execution_count": 539,
   "metadata": {},
   "outputs": [],
   "source": [
    "test[['Id', 'SalePrice']].to_csv('../data/submission_linreg_scaled.csv', index=False)"
   ]
  },
  {
   "cell_type": "markdown",
   "metadata": {},
   "source": [
    "## Linear Regression, including binarized 'Neighborhood', and Standard Scaler"
   ]
  },
  {
   "cell_type": "code",
   "execution_count": 540,
   "metadata": {},
   "outputs": [],
   "source": [
    "X_test = test[['Neighborhood', 'Overall Qual', 'Gr Liv Area', 'Garage Area', 'Year Built', 'Year Remod/Add']]\n",
    "X = train[['Neighborhood', 'Overall Qual', 'Gr Liv Area', 'Garage Area', 'Year Built', 'Year Remod/Add']]\n",
    "y = train['SalePrice']"
   ]
  },
  {
   "cell_type": "code",
   "execution_count": 541,
   "metadata": {},
   "outputs": [],
   "source": [
    "# Use pandas .get_dummies() to binarize 'Neighborhood'. With help from https://stackoverflow.com/questions/32387266/converting-categorical-values-to-binary-using-pandas\n",
    "# Drop first binary column\n",
    "X_test = pd.get_dummies(X_test, drop_first=True)\n",
    "X = pd.get_dummies(X, drop_first=True)"
   ]
  },
  {
   "cell_type": "markdown",
   "metadata": {},
   "source": [
    "**I'm getting and error when standard scaling, apparently there are neighborhood columns missing in X or X_test, will add these columns with all \"0\" where necesssary**"
   ]
  },
  {
   "cell_type": "code",
   "execution_count": 542,
   "metadata": {},
   "outputs": [
    {
     "data": {
      "text/plain": [
       "Index(['Overall Qual', 'Gr Liv Area', 'Garage Area', 'Year Built',\n",
       "       'Year Remod/Add', 'Neighborhood_Blueste', 'Neighborhood_BrDale',\n",
       "       'Neighborhood_BrkSide', 'Neighborhood_ClearCr', 'Neighborhood_CollgCr',\n",
       "       'Neighborhood_Crawfor', 'Neighborhood_Edwards', 'Neighborhood_Gilbert',\n",
       "       'Neighborhood_Greens', 'Neighborhood_GrnHill', 'Neighborhood_IDOTRR',\n",
       "       'Neighborhood_Landmrk', 'Neighborhood_MeadowV', 'Neighborhood_Mitchel',\n",
       "       'Neighborhood_NAmes', 'Neighborhood_NPkVill', 'Neighborhood_NWAmes',\n",
       "       'Neighborhood_NoRidge', 'Neighborhood_NridgHt', 'Neighborhood_OldTown',\n",
       "       'Neighborhood_SWISU', 'Neighborhood_Sawyer', 'Neighborhood_SawyerW',\n",
       "       'Neighborhood_Somerst', 'Neighborhood_StoneBr', 'Neighborhood_Timber',\n",
       "       'Neighborhood_Veenker'],\n",
       "      dtype='object')"
      ]
     },
     "execution_count": 542,
     "metadata": {},
     "output_type": "execute_result"
    }
   ],
   "source": [
    "X.columns"
   ]
  },
  {
   "cell_type": "code",
   "execution_count": 543,
   "metadata": {},
   "outputs": [
    {
     "data": {
      "text/plain": [
       "Index(['Overall Qual', 'Gr Liv Area', 'Garage Area', 'Year Built',\n",
       "       'Year Remod/Add', 'Neighborhood_Blueste', 'Neighborhood_BrDale',\n",
       "       'Neighborhood_BrkSide', 'Neighborhood_ClearCr', 'Neighborhood_CollgCr',\n",
       "       'Neighborhood_Crawfor', 'Neighborhood_Edwards', 'Neighborhood_Gilbert',\n",
       "       'Neighborhood_Greens', 'Neighborhood_IDOTRR', 'Neighborhood_MeadowV',\n",
       "       'Neighborhood_Mitchel', 'Neighborhood_NAmes', 'Neighborhood_NPkVill',\n",
       "       'Neighborhood_NWAmes', 'Neighborhood_NoRidge', 'Neighborhood_NridgHt',\n",
       "       'Neighborhood_OldTown', 'Neighborhood_SWISU', 'Neighborhood_Sawyer',\n",
       "       'Neighborhood_SawyerW', 'Neighborhood_Somerst', 'Neighborhood_StoneBr',\n",
       "       'Neighborhood_Timber', 'Neighborhood_Veenker'],\n",
       "      dtype='object')"
      ]
     },
     "execution_count": 543,
     "metadata": {},
     "output_type": "execute_result"
    }
   ],
   "source": [
    "X_test.columns"
   ]
  },
  {
   "cell_type": "code",
   "execution_count": 544,
   "metadata": {},
   "outputs": [],
   "source": [
    "X_test['Neighborhood_GrnHill'] = 0\n",
    "X_test['Neighborhood_Landmrk'] = 0"
   ]
  },
  {
   "cell_type": "code",
   "execution_count": 545,
   "metadata": {},
   "outputs": [],
   "source": [
    "# A little help here from https://stackoverflow.com/questions/11067027/re-ordering-columns-in-pandas-dataframe-based-on-column-name\n",
    "# Keeps dummies in same place as X\n",
    "X_test = X_test.reindex(sorted(X_test.columns), axis=1)\n",
    "X = X.reindex(sorted(X.columns), axis=1)\n"
   ]
  },
  {
   "cell_type": "code",
   "execution_count": 546,
   "metadata": {},
   "outputs": [
    {
     "data": {
      "text/plain": [
       "Index(['Garage Area', 'Gr Liv Area', 'Neighborhood_Blueste',\n",
       "       'Neighborhood_BrDale', 'Neighborhood_BrkSide', 'Neighborhood_ClearCr',\n",
       "       'Neighborhood_CollgCr', 'Neighborhood_Crawfor', 'Neighborhood_Edwards',\n",
       "       'Neighborhood_Gilbert', 'Neighborhood_Greens', 'Neighborhood_GrnHill',\n",
       "       'Neighborhood_IDOTRR', 'Neighborhood_Landmrk', 'Neighborhood_MeadowV',\n",
       "       'Neighborhood_Mitchel', 'Neighborhood_NAmes', 'Neighborhood_NPkVill',\n",
       "       'Neighborhood_NWAmes', 'Neighborhood_NoRidge', 'Neighborhood_NridgHt',\n",
       "       'Neighborhood_OldTown', 'Neighborhood_SWISU', 'Neighborhood_Sawyer',\n",
       "       'Neighborhood_SawyerW', 'Neighborhood_Somerst', 'Neighborhood_StoneBr',\n",
       "       'Neighborhood_Timber', 'Neighborhood_Veenker', 'Overall Qual',\n",
       "       'Year Built', 'Year Remod/Add'],\n",
       "      dtype='object')"
      ]
     },
     "execution_count": 546,
     "metadata": {},
     "output_type": "execute_result"
    }
   ],
   "source": [
    "X.columns"
   ]
  },
  {
   "cell_type": "code",
   "execution_count": 547,
   "metadata": {},
   "outputs": [
    {
     "data": {
      "text/plain": [
       "Index(['Garage Area', 'Gr Liv Area', 'Neighborhood_Blueste',\n",
       "       'Neighborhood_BrDale', 'Neighborhood_BrkSide', 'Neighborhood_ClearCr',\n",
       "       'Neighborhood_CollgCr', 'Neighborhood_Crawfor', 'Neighborhood_Edwards',\n",
       "       'Neighborhood_Gilbert', 'Neighborhood_Greens', 'Neighborhood_GrnHill',\n",
       "       'Neighborhood_IDOTRR', 'Neighborhood_Landmrk', 'Neighborhood_MeadowV',\n",
       "       'Neighborhood_Mitchel', 'Neighborhood_NAmes', 'Neighborhood_NPkVill',\n",
       "       'Neighborhood_NWAmes', 'Neighborhood_NoRidge', 'Neighborhood_NridgHt',\n",
       "       'Neighborhood_OldTown', 'Neighborhood_SWISU', 'Neighborhood_Sawyer',\n",
       "       'Neighborhood_SawyerW', 'Neighborhood_Somerst', 'Neighborhood_StoneBr',\n",
       "       'Neighborhood_Timber', 'Neighborhood_Veenker', 'Overall Qual',\n",
       "       'Year Built', 'Year Remod/Add'],\n",
       "      dtype='object')"
      ]
     },
     "execution_count": 547,
     "metadata": {},
     "output_type": "execute_result"
    }
   ],
   "source": [
    "X_test.columns"
   ]
  },
  {
   "cell_type": "code",
   "execution_count": 548,
   "metadata": {},
   "outputs": [
    {
     "data": {
      "text/plain": [
       "array([ True,  True,  True,  True,  True,  True,  True,  True,  True,\n",
       "        True,  True,  True,  True,  True,  True,  True,  True,  True,\n",
       "        True,  True,  True,  True,  True,  True,  True,  True,  True,\n",
       "        True,  True,  True,  True,  True])"
      ]
     },
     "execution_count": 548,
     "metadata": {},
     "output_type": "execute_result"
    }
   ],
   "source": [
    "X.columns == X_test.columns"
   ]
  },
  {
   "cell_type": "code",
   "execution_count": 549,
   "metadata": {},
   "outputs": [
    {
     "data": {
      "text/plain": [
       "(2049, 32)"
      ]
     },
     "execution_count": 549,
     "metadata": {},
     "output_type": "execute_result"
    }
   ],
   "source": [
    "X.shape"
   ]
  },
  {
   "cell_type": "code",
   "execution_count": 550,
   "metadata": {},
   "outputs": [],
   "source": [
    "ss = StandardScaler()\n",
    "\n",
    "X_scaled = ss.fit_transform(X)\n",
    "X_test_scaled = ss.transform(X_test)"
   ]
  },
  {
   "cell_type": "code",
   "execution_count": 551,
   "metadata": {},
   "outputs": [],
   "source": [
    "linreg = LinearRegression()\n",
    "\n",
    "linreg.fit(X_scaled, y)\n",
    "preds_scaled = linreg.predict(X_test_scaled)"
   ]
  },
  {
   "cell_type": "code",
   "execution_count": 552,
   "metadata": {},
   "outputs": [],
   "source": [
    "test['SalePrice'] = preds_scaled"
   ]
  },
  {
   "cell_type": "code",
   "execution_count": 553,
   "metadata": {},
   "outputs": [],
   "source": [
    "test[['Id', 'SalePrice']].to_csv('../data/submission_linreg_scaled_neighbrhd.csv', index=False)"
   ]
  },
  {
   "cell_type": "code",
   "execution_count": 554,
   "metadata": {},
   "outputs": [
    {
     "data": {
      "text/plain": [
       "array([ 1.20206877e+04,  2.69861637e+04, -1.08123379e+03, -1.87182677e+03,\n",
       "        3.45006715e+03,  4.24984468e+03,  1.90114592e+03,  7.12190079e+03,\n",
       "        3.40125078e+03, -3.67078584e+02,  1.22132479e+02,  3.25718961e+03,\n",
       "        2.15354755e+03, -6.16093181e+02, -2.15516167e+01,  2.31407440e+03,\n",
       "        6.32190929e+03, -9.95315228e+02,  1.17837953e+03,  6.05905230e+03,\n",
       "        1.41463450e+04,  1.47079796e+03,  8.52954702e+02,  3.94287425e+03,\n",
       "       -3.68072367e+02,  1.81162990e+03,  9.82085388e+03,  4.20981769e+03,\n",
       "        3.43041944e+03,  2.52201396e+04,  1.10150181e+04,  6.10335591e+03])"
      ]
     },
     "execution_count": 554,
     "metadata": {},
     "output_type": "execute_result"
    }
   ],
   "source": [
    "linreg.coef_"
   ]
  },
  {
   "cell_type": "code",
   "execution_count": 555,
   "metadata": {},
   "outputs": [
    {
     "data": {
      "text/html": [
       "<div>\n",
       "<style scoped>\n",
       "    .dataframe tbody tr th:only-of-type {\n",
       "        vertical-align: middle;\n",
       "    }\n",
       "\n",
       "    .dataframe tbody tr th {\n",
       "        vertical-align: top;\n",
       "    }\n",
       "\n",
       "    .dataframe thead th {\n",
       "        text-align: right;\n",
       "    }\n",
       "</style>\n",
       "<table border=\"1\" class=\"dataframe\">\n",
       "  <thead>\n",
       "    <tr style=\"text-align: right;\">\n",
       "      <th></th>\n",
       "      <th>0</th>\n",
       "    </tr>\n",
       "  </thead>\n",
       "  <tbody>\n",
       "    <tr>\n",
       "      <th>Gr Liv Area</th>\n",
       "      <td>26986.163714</td>\n",
       "    </tr>\n",
       "    <tr>\n",
       "      <th>Overall Qual</th>\n",
       "      <td>25220.139553</td>\n",
       "    </tr>\n",
       "    <tr>\n",
       "      <th>Neighborhood_NridgHt</th>\n",
       "      <td>14146.344981</td>\n",
       "    </tr>\n",
       "    <tr>\n",
       "      <th>Garage Area</th>\n",
       "      <td>12020.687689</td>\n",
       "    </tr>\n",
       "    <tr>\n",
       "      <th>Year Built</th>\n",
       "      <td>11015.018075</td>\n",
       "    </tr>\n",
       "    <tr>\n",
       "      <th>Neighborhood_StoneBr</th>\n",
       "      <td>9820.853883</td>\n",
       "    </tr>\n",
       "    <tr>\n",
       "      <th>Neighborhood_Crawfor</th>\n",
       "      <td>7121.900785</td>\n",
       "    </tr>\n",
       "    <tr>\n",
       "      <th>Neighborhood_NAmes</th>\n",
       "      <td>6321.909294</td>\n",
       "    </tr>\n",
       "    <tr>\n",
       "      <th>Year Remod/Add</th>\n",
       "      <td>6103.355910</td>\n",
       "    </tr>\n",
       "    <tr>\n",
       "      <th>Neighborhood_NoRidge</th>\n",
       "      <td>6059.052296</td>\n",
       "    </tr>\n",
       "    <tr>\n",
       "      <th>Neighborhood_ClearCr</th>\n",
       "      <td>4249.844676</td>\n",
       "    </tr>\n",
       "    <tr>\n",
       "      <th>Neighborhood_Timber</th>\n",
       "      <td>4209.817686</td>\n",
       "    </tr>\n",
       "    <tr>\n",
       "      <th>Neighborhood_Sawyer</th>\n",
       "      <td>3942.874246</td>\n",
       "    </tr>\n",
       "    <tr>\n",
       "      <th>Neighborhood_BrkSide</th>\n",
       "      <td>3450.067150</td>\n",
       "    </tr>\n",
       "    <tr>\n",
       "      <th>Neighborhood_Veenker</th>\n",
       "      <td>3430.419442</td>\n",
       "    </tr>\n",
       "    <tr>\n",
       "      <th>Neighborhood_Edwards</th>\n",
       "      <td>3401.250777</td>\n",
       "    </tr>\n",
       "    <tr>\n",
       "      <th>Neighborhood_GrnHill</th>\n",
       "      <td>3257.189605</td>\n",
       "    </tr>\n",
       "    <tr>\n",
       "      <th>Neighborhood_Mitchel</th>\n",
       "      <td>2314.074397</td>\n",
       "    </tr>\n",
       "    <tr>\n",
       "      <th>Neighborhood_IDOTRR</th>\n",
       "      <td>2153.547547</td>\n",
       "    </tr>\n",
       "    <tr>\n",
       "      <th>Neighborhood_CollgCr</th>\n",
       "      <td>1901.145917</td>\n",
       "    </tr>\n",
       "    <tr>\n",
       "      <th>Neighborhood_Somerst</th>\n",
       "      <td>1811.629904</td>\n",
       "    </tr>\n",
       "    <tr>\n",
       "      <th>Neighborhood_OldTown</th>\n",
       "      <td>1470.797961</td>\n",
       "    </tr>\n",
       "    <tr>\n",
       "      <th>Neighborhood_NWAmes</th>\n",
       "      <td>1178.379527</td>\n",
       "    </tr>\n",
       "    <tr>\n",
       "      <th>Neighborhood_SWISU</th>\n",
       "      <td>852.954702</td>\n",
       "    </tr>\n",
       "    <tr>\n",
       "      <th>Neighborhood_Greens</th>\n",
       "      <td>122.132479</td>\n",
       "    </tr>\n",
       "    <tr>\n",
       "      <th>Neighborhood_MeadowV</th>\n",
       "      <td>-21.551617</td>\n",
       "    </tr>\n",
       "    <tr>\n",
       "      <th>Neighborhood_Gilbert</th>\n",
       "      <td>-367.078584</td>\n",
       "    </tr>\n",
       "    <tr>\n",
       "      <th>Neighborhood_SawyerW</th>\n",
       "      <td>-368.072367</td>\n",
       "    </tr>\n",
       "    <tr>\n",
       "      <th>Neighborhood_Landmrk</th>\n",
       "      <td>-616.093181</td>\n",
       "    </tr>\n",
       "    <tr>\n",
       "      <th>Neighborhood_NPkVill</th>\n",
       "      <td>-995.315228</td>\n",
       "    </tr>\n",
       "    <tr>\n",
       "      <th>Neighborhood_Blueste</th>\n",
       "      <td>-1081.233795</td>\n",
       "    </tr>\n",
       "    <tr>\n",
       "      <th>Neighborhood_BrDale</th>\n",
       "      <td>-1871.826766</td>\n",
       "    </tr>\n",
       "  </tbody>\n",
       "</table>\n",
       "</div>"
      ],
      "text/plain": [
       "                                 0\n",
       "Gr Liv Area           26986.163714\n",
       "Overall Qual          25220.139553\n",
       "Neighborhood_NridgHt  14146.344981\n",
       "Garage Area           12020.687689\n",
       "Year Built            11015.018075\n",
       "Neighborhood_StoneBr   9820.853883\n",
       "Neighborhood_Crawfor   7121.900785\n",
       "Neighborhood_NAmes     6321.909294\n",
       "Year Remod/Add         6103.355910\n",
       "Neighborhood_NoRidge   6059.052296\n",
       "Neighborhood_ClearCr   4249.844676\n",
       "Neighborhood_Timber    4209.817686\n",
       "Neighborhood_Sawyer    3942.874246\n",
       "Neighborhood_BrkSide   3450.067150\n",
       "Neighborhood_Veenker   3430.419442\n",
       "Neighborhood_Edwards   3401.250777\n",
       "Neighborhood_GrnHill   3257.189605\n",
       "Neighborhood_Mitchel   2314.074397\n",
       "Neighborhood_IDOTRR    2153.547547\n",
       "Neighborhood_CollgCr   1901.145917\n",
       "Neighborhood_Somerst   1811.629904\n",
       "Neighborhood_OldTown   1470.797961\n",
       "Neighborhood_NWAmes    1178.379527\n",
       "Neighborhood_SWISU      852.954702\n",
       "Neighborhood_Greens     122.132479\n",
       "Neighborhood_MeadowV    -21.551617\n",
       "Neighborhood_Gilbert   -367.078584\n",
       "Neighborhood_SawyerW   -368.072367\n",
       "Neighborhood_Landmrk   -616.093181\n",
       "Neighborhood_NPkVill   -995.315228\n",
       "Neighborhood_Blueste  -1081.233795\n",
       "Neighborhood_BrDale   -1871.826766"
      ]
     },
     "execution_count": 555,
     "metadata": {},
     "output_type": "execute_result"
    }
   ],
   "source": [
    "pd.DataFrame(linreg.coef_, X_test.columns).sort_values(0, ascending=False)"
   ]
  },
  {
   "cell_type": "markdown",
   "metadata": {},
   "source": [
    "## LinReg on Neighborhoods only"
   ]
  },
  {
   "cell_type": "code",
   "execution_count": 556,
   "metadata": {},
   "outputs": [],
   "source": [
    "X_test = test['Neighborhood']\n",
    "X = train['Neighborhood']\n",
    "y = train['SalePrice']"
   ]
  },
  {
   "cell_type": "code",
   "execution_count": 557,
   "metadata": {},
   "outputs": [],
   "source": [
    "# Use pandas .get_dummies() to binarize 'Neighborhood'. With help from https://stackoverflow.com/questions/32387266/converting-categorical-values-to-binary-using-pandas\n",
    "# Drop first binary column\n",
    "X_test = pd.get_dummies(X_test, drop_first=True)\n",
    "X = pd.get_dummies(X, drop_first=True)"
   ]
  },
  {
   "cell_type": "markdown",
   "metadata": {},
   "source": [
    "**I'm getting and error when standard scaling, apparently there are neighborhood columns missing in X or X_test, will add these columns with all \"0\" where necesssary**"
   ]
  },
  {
   "cell_type": "code",
   "execution_count": 558,
   "metadata": {},
   "outputs": [
    {
     "data": {
      "text/plain": [
       "Index(['Blueste', 'BrDale', 'BrkSide', 'ClearCr', 'CollgCr', 'Crawfor',\n",
       "       'Edwards', 'Gilbert', 'Greens', 'GrnHill', 'IDOTRR', 'Landmrk',\n",
       "       'MeadowV', 'Mitchel', 'NAmes', 'NPkVill', 'NWAmes', 'NoRidge',\n",
       "       'NridgHt', 'OldTown', 'SWISU', 'Sawyer', 'SawyerW', 'Somerst',\n",
       "       'StoneBr', 'Timber', 'Veenker'],\n",
       "      dtype='object')"
      ]
     },
     "execution_count": 558,
     "metadata": {},
     "output_type": "execute_result"
    }
   ],
   "source": [
    "X.columns"
   ]
  },
  {
   "cell_type": "code",
   "execution_count": 559,
   "metadata": {},
   "outputs": [
    {
     "data": {
      "text/plain": [
       "Index(['Blueste', 'BrDale', 'BrkSide', 'ClearCr', 'CollgCr', 'Crawfor',\n",
       "       'Edwards', 'Gilbert', 'Greens', 'IDOTRR', 'MeadowV', 'Mitchel', 'NAmes',\n",
       "       'NPkVill', 'NWAmes', 'NoRidge', 'NridgHt', 'OldTown', 'SWISU', 'Sawyer',\n",
       "       'SawyerW', 'Somerst', 'StoneBr', 'Timber', 'Veenker'],\n",
       "      dtype='object')"
      ]
     },
     "execution_count": 559,
     "metadata": {},
     "output_type": "execute_result"
    }
   ],
   "source": [
    "X_test.columns"
   ]
  },
  {
   "cell_type": "code",
   "execution_count": 560,
   "metadata": {},
   "outputs": [],
   "source": [
    "X_test['GrnHill'] = 0\n",
    "X_test['Landmrk'] = 0"
   ]
  },
  {
   "cell_type": "code",
   "execution_count": 561,
   "metadata": {},
   "outputs": [],
   "source": [
    "# A little help here from https://stackoverflow.com/questions/11067027/re-ordering-columns-in-pandas-dataframe-based-on-column-name\n",
    "# Keeps dummies in same place as X\n",
    "X_test = X_test.reindex(sorted(X_test.columns), axis=1)\n",
    "X = X.reindex(sorted(X.columns), axis=1)\n"
   ]
  },
  {
   "cell_type": "code",
   "execution_count": 562,
   "metadata": {},
   "outputs": [
    {
     "data": {
      "text/plain": [
       "Index(['Blueste', 'BrDale', 'BrkSide', 'ClearCr', 'CollgCr', 'Crawfor',\n",
       "       'Edwards', 'Gilbert', 'Greens', 'GrnHill', 'IDOTRR', 'Landmrk',\n",
       "       'MeadowV', 'Mitchel', 'NAmes', 'NPkVill', 'NWAmes', 'NoRidge',\n",
       "       'NridgHt', 'OldTown', 'SWISU', 'Sawyer', 'SawyerW', 'Somerst',\n",
       "       'StoneBr', 'Timber', 'Veenker'],\n",
       "      dtype='object')"
      ]
     },
     "execution_count": 562,
     "metadata": {},
     "output_type": "execute_result"
    }
   ],
   "source": [
    "X.columns"
   ]
  },
  {
   "cell_type": "code",
   "execution_count": 563,
   "metadata": {},
   "outputs": [
    {
     "data": {
      "text/plain": [
       "Index(['Blueste', 'BrDale', 'BrkSide', 'ClearCr', 'CollgCr', 'Crawfor',\n",
       "       'Edwards', 'Gilbert', 'Greens', 'GrnHill', 'IDOTRR', 'Landmrk',\n",
       "       'MeadowV', 'Mitchel', 'NAmes', 'NPkVill', 'NWAmes', 'NoRidge',\n",
       "       'NridgHt', 'OldTown', 'SWISU', 'Sawyer', 'SawyerW', 'Somerst',\n",
       "       'StoneBr', 'Timber', 'Veenker'],\n",
       "      dtype='object')"
      ]
     },
     "execution_count": 563,
     "metadata": {},
     "output_type": "execute_result"
    }
   ],
   "source": [
    "X_test.columns"
   ]
  },
  {
   "cell_type": "code",
   "execution_count": 564,
   "metadata": {},
   "outputs": [
    {
     "data": {
      "text/plain": [
       "array([ True,  True,  True,  True,  True,  True,  True,  True,  True,\n",
       "        True,  True,  True,  True,  True,  True,  True,  True,  True,\n",
       "        True,  True,  True,  True,  True,  True,  True,  True,  True])"
      ]
     },
     "execution_count": 564,
     "metadata": {},
     "output_type": "execute_result"
    }
   ],
   "source": [
    "X.columns == X_test.columns"
   ]
  },
  {
   "cell_type": "code",
   "execution_count": 565,
   "metadata": {},
   "outputs": [],
   "source": [
    "ss = StandardScaler()\n",
    "\n",
    "X_scaled = ss.fit_transform(X)\n",
    "X_test_scaled = ss.transform(X_test)"
   ]
  },
  {
   "cell_type": "code",
   "execution_count": 566,
   "metadata": {},
   "outputs": [],
   "source": [
    "linreg = LinearRegression()\n",
    "\n",
    "linreg.fit(X_scaled, y)\n",
    "preds_scaled = linreg.predict(X_test_scaled)"
   ]
  },
  {
   "cell_type": "code",
   "execution_count": 567,
   "metadata": {},
   "outputs": [],
   "source": [
    "test['SalePrice'] = preds_scaled"
   ]
  },
  {
   "cell_type": "code",
   "execution_count": 568,
   "metadata": {},
   "outputs": [],
   "source": [
    "test[['Id', 'SalePrice']].to_csv('../data/submission_linreg_scaled_neighbrhd_only.csv', index=False)"
   ]
  },
  {
   "cell_type": "code",
   "execution_count": 569,
   "metadata": {},
   "outputs": [
    {
     "data": {
      "text/plain": [
       "array([ -3017.8588369 ,  -9301.72115647, -13870.58452362,   1946.81587901,\n",
       "          588.66084219,   1002.90671646, -17849.21689879,  -2585.86378544,\n",
       "         -449.31081253,   2485.12676334, -17915.4538171 ,  -1400.66210985,\n",
       "       -10779.16414808,  -6421.31477152, -19533.48465478,  -5437.13189796,\n",
       "        -1169.215938  ,  17526.5873118 ,  28967.34787843, -20333.01877875,\n",
       "        -8141.02270795, -14313.94162136,  -2552.20657137,   6524.60491394,\n",
       "        17438.6753209 ,   6145.93947363,   4821.38009926])"
      ]
     },
     "execution_count": 569,
     "metadata": {},
     "output_type": "execute_result"
    }
   ],
   "source": [
    "linreg.coef_"
   ]
  },
  {
   "cell_type": "code",
   "execution_count": 570,
   "metadata": {},
   "outputs": [
    {
     "data": {
      "text/html": [
       "<div>\n",
       "<style scoped>\n",
       "    .dataframe tbody tr th:only-of-type {\n",
       "        vertical-align: middle;\n",
       "    }\n",
       "\n",
       "    .dataframe tbody tr th {\n",
       "        vertical-align: top;\n",
       "    }\n",
       "\n",
       "    .dataframe thead th {\n",
       "        text-align: right;\n",
       "    }\n",
       "</style>\n",
       "<table border=\"1\" class=\"dataframe\">\n",
       "  <thead>\n",
       "    <tr style=\"text-align: right;\">\n",
       "      <th></th>\n",
       "      <th>0</th>\n",
       "    </tr>\n",
       "  </thead>\n",
       "  <tbody>\n",
       "    <tr>\n",
       "      <th>NridgHt</th>\n",
       "      <td>28967.347878</td>\n",
       "    </tr>\n",
       "    <tr>\n",
       "      <th>NoRidge</th>\n",
       "      <td>17526.587312</td>\n",
       "    </tr>\n",
       "    <tr>\n",
       "      <th>StoneBr</th>\n",
       "      <td>17438.675321</td>\n",
       "    </tr>\n",
       "    <tr>\n",
       "      <th>Somerst</th>\n",
       "      <td>6524.604914</td>\n",
       "    </tr>\n",
       "    <tr>\n",
       "      <th>Timber</th>\n",
       "      <td>6145.939474</td>\n",
       "    </tr>\n",
       "    <tr>\n",
       "      <th>Veenker</th>\n",
       "      <td>4821.380099</td>\n",
       "    </tr>\n",
       "    <tr>\n",
       "      <th>GrnHill</th>\n",
       "      <td>2485.126763</td>\n",
       "    </tr>\n",
       "    <tr>\n",
       "      <th>ClearCr</th>\n",
       "      <td>1946.815879</td>\n",
       "    </tr>\n",
       "    <tr>\n",
       "      <th>Crawfor</th>\n",
       "      <td>1002.906716</td>\n",
       "    </tr>\n",
       "    <tr>\n",
       "      <th>CollgCr</th>\n",
       "      <td>588.660842</td>\n",
       "    </tr>\n",
       "    <tr>\n",
       "      <th>Greens</th>\n",
       "      <td>-449.310813</td>\n",
       "    </tr>\n",
       "    <tr>\n",
       "      <th>NWAmes</th>\n",
       "      <td>-1169.215938</td>\n",
       "    </tr>\n",
       "    <tr>\n",
       "      <th>Landmrk</th>\n",
       "      <td>-1400.662110</td>\n",
       "    </tr>\n",
       "    <tr>\n",
       "      <th>SawyerW</th>\n",
       "      <td>-2552.206571</td>\n",
       "    </tr>\n",
       "    <tr>\n",
       "      <th>Gilbert</th>\n",
       "      <td>-2585.863785</td>\n",
       "    </tr>\n",
       "    <tr>\n",
       "      <th>Blueste</th>\n",
       "      <td>-3017.858837</td>\n",
       "    </tr>\n",
       "    <tr>\n",
       "      <th>NPkVill</th>\n",
       "      <td>-5437.131898</td>\n",
       "    </tr>\n",
       "    <tr>\n",
       "      <th>Mitchel</th>\n",
       "      <td>-6421.314772</td>\n",
       "    </tr>\n",
       "    <tr>\n",
       "      <th>SWISU</th>\n",
       "      <td>-8141.022708</td>\n",
       "    </tr>\n",
       "    <tr>\n",
       "      <th>BrDale</th>\n",
       "      <td>-9301.721156</td>\n",
       "    </tr>\n",
       "    <tr>\n",
       "      <th>MeadowV</th>\n",
       "      <td>-10779.164148</td>\n",
       "    </tr>\n",
       "    <tr>\n",
       "      <th>BrkSide</th>\n",
       "      <td>-13870.584524</td>\n",
       "    </tr>\n",
       "    <tr>\n",
       "      <th>Sawyer</th>\n",
       "      <td>-14313.941621</td>\n",
       "    </tr>\n",
       "    <tr>\n",
       "      <th>Edwards</th>\n",
       "      <td>-17849.216899</td>\n",
       "    </tr>\n",
       "    <tr>\n",
       "      <th>IDOTRR</th>\n",
       "      <td>-17915.453817</td>\n",
       "    </tr>\n",
       "    <tr>\n",
       "      <th>NAmes</th>\n",
       "      <td>-19533.484655</td>\n",
       "    </tr>\n",
       "    <tr>\n",
       "      <th>OldTown</th>\n",
       "      <td>-20333.018779</td>\n",
       "    </tr>\n",
       "  </tbody>\n",
       "</table>\n",
       "</div>"
      ],
      "text/plain": [
       "                    0\n",
       "NridgHt  28967.347878\n",
       "NoRidge  17526.587312\n",
       "StoneBr  17438.675321\n",
       "Somerst   6524.604914\n",
       "Timber    6145.939474\n",
       "Veenker   4821.380099\n",
       "GrnHill   2485.126763\n",
       "ClearCr   1946.815879\n",
       "Crawfor   1002.906716\n",
       "CollgCr    588.660842\n",
       "Greens    -449.310813\n",
       "NWAmes   -1169.215938\n",
       "Landmrk  -1400.662110\n",
       "SawyerW  -2552.206571\n",
       "Gilbert  -2585.863785\n",
       "Blueste  -3017.858837\n",
       "NPkVill  -5437.131898\n",
       "Mitchel  -6421.314772\n",
       "SWISU    -8141.022708\n",
       "BrDale   -9301.721156\n",
       "MeadowV -10779.164148\n",
       "BrkSide -13870.584524\n",
       "Sawyer  -14313.941621\n",
       "Edwards -17849.216899\n",
       "IDOTRR  -17915.453817\n",
       "NAmes   -19533.484655\n",
       "OldTown -20333.018779"
      ]
     },
     "execution_count": 570,
     "metadata": {},
     "output_type": "execute_result"
    }
   ],
   "source": [
    "pd.DataFrame(linreg.coef_, X_test.columns).sort_values(0, ascending=False)"
   ]
  },
  {
   "cell_type": "markdown",
   "metadata": {},
   "source": [
    "## LinReg using only location features\n",
    "\n",
    "First let's go back to the data description and redefine our 'interesting' features to include location proxies only."
   ]
  },
  {
   "cell_type": "markdown",
   "metadata": {},
   "source": [
    "MS Zoning, Lot Config, Neighborhood, Condition 1, Condition 2, "
   ]
  },
  {
   "cell_type": "code",
   "execution_count": 571,
   "metadata": {},
   "outputs": [
    {
     "data": {
      "text/plain": [
       "Index(['Id', 'PID', 'MS SubClass', 'MS Zoning', 'Lot Frontage', 'Lot Area',\n",
       "       'Street', 'Alley', 'Lot Shape', 'Land Contour', 'Utilities',\n",
       "       'Lot Config', 'Land Slope', 'Neighborhood', 'Condition 1',\n",
       "       'Condition 2', 'Bldg Type', 'House Style', 'Overall Qual',\n",
       "       'Overall Cond', 'Year Built', 'Year Remod/Add', 'Roof Style',\n",
       "       'Roof Matl', 'Exterior 1st', 'Exterior 2nd', 'Mas Vnr Type',\n",
       "       'Mas Vnr Area', 'Exter Qual', 'Exter Cond', 'Foundation', 'Bsmt Qual',\n",
       "       'Bsmt Cond', 'Bsmt Exposure', 'BsmtFin Type 1', 'BsmtFin SF 1',\n",
       "       'BsmtFin Type 2', 'BsmtFin SF 2', 'Bsmt Unf SF', 'Total Bsmt SF',\n",
       "       'Heating', 'Heating QC', 'Central Air', 'Electrical', '1st Flr SF',\n",
       "       '2nd Flr SF', 'Low Qual Fin SF', 'Gr Liv Area', 'Bsmt Full Bath',\n",
       "       'Bsmt Half Bath', 'Full Bath', 'Half Bath', 'Bedroom AbvGr',\n",
       "       'Kitchen AbvGr', 'Kitchen Qual', 'TotRms AbvGrd', 'Functional',\n",
       "       'Fireplaces', 'Fireplace Qu', 'Garage Type', 'Garage Yr Blt',\n",
       "       'Garage Finish', 'Garage Cars', 'Garage Area', 'Garage Qual',\n",
       "       'Garage Cond', 'Paved Drive', 'Wood Deck SF', 'Open Porch SF',\n",
       "       'Enclosed Porch', '3Ssn Porch', 'Screen Porch', 'Pool Area', 'Pool QC',\n",
       "       'Fence', 'Misc Feature', 'Misc Val', 'Mo Sold', 'Yr Sold', 'Sale Type'],\n",
       "      dtype='object')"
      ]
     },
     "execution_count": 571,
     "metadata": {},
     "output_type": "execute_result"
    }
   ],
   "source": [
    "# Import data\n",
    "test = pd.read_csv('../data/test.csv')\n",
    "train = pd.read_csv('../data/train.csv')\n",
    "test.columns"
   ]
  },
  {
   "cell_type": "code",
   "execution_count": 572,
   "metadata": {},
   "outputs": [],
   "source": [
    "# List interesting features from reading data description\n",
    "interesting = [\n",
    "    'MS Zoning',\n",
    "    'Lot Config',\n",
    "    'Neighborhood',\n",
    "    'Condition 1',\n",
    "    'Condition 2',\n",
    "    'SalePrice',\n",
    "]"
   ]
  },
  {
   "cell_type": "code",
   "execution_count": 573,
   "metadata": {},
   "outputs": [],
   "source": [
    "# Keep only interesting features\n",
    "train = train[interesting]\n"
   ]
  },
  {
   "cell_type": "code",
   "execution_count": 574,
   "metadata": {},
   "outputs": [
    {
     "data": {
      "text/plain": [
       "MS Zoning       object\n",
       "Lot Config      object\n",
       "Neighborhood    object\n",
       "Condition 1     object\n",
       "Condition 2     object\n",
       "SalePrice        int64\n",
       "dtype: object"
      ]
     },
     "execution_count": 574,
     "metadata": {},
     "output_type": "execute_result"
    }
   ],
   "source": [
    "train.dtypes"
   ]
  },
  {
   "cell_type": "code",
   "execution_count": 575,
   "metadata": {},
   "outputs": [],
   "source": [
    "X_test = test[interesting[:-1]]\n",
    "X = train.drop(columns='SalePrice')\n",
    "y = train['SalePrice']"
   ]
  },
  {
   "cell_type": "code",
   "execution_count": 576,
   "metadata": {},
   "outputs": [],
   "source": [
    "# Use pandas .get_dummies() to binarize categorical columns. With help from https://stackoverflow.com/questions/32387266/converting-categorical-values-to-binary-using-pandas\n",
    "# Drop first binary column\n",
    "X_test = pd.get_dummies(X_test, drop_first=True)\n",
    "X = pd.get_dummies(X, drop_first=True)"
   ]
  },
  {
   "cell_type": "code",
   "execution_count": 577,
   "metadata": {},
   "outputs": [
    {
     "data": {
      "text/plain": [
       "Index(['MS Zoning_C (all)', 'MS Zoning_FV', 'MS Zoning_I (all)',\n",
       "       'MS Zoning_RH', 'MS Zoning_RL', 'MS Zoning_RM', 'Lot Config_CulDSac',\n",
       "       'Lot Config_FR2', 'Lot Config_FR3', 'Lot Config_Inside',\n",
       "       'Neighborhood_Blueste', 'Neighborhood_BrDale', 'Neighborhood_BrkSide',\n",
       "       'Neighborhood_ClearCr', 'Neighborhood_CollgCr', 'Neighborhood_Crawfor',\n",
       "       'Neighborhood_Edwards', 'Neighborhood_Gilbert', 'Neighborhood_Greens',\n",
       "       'Neighborhood_GrnHill', 'Neighborhood_IDOTRR', 'Neighborhood_Landmrk',\n",
       "       'Neighborhood_MeadowV', 'Neighborhood_Mitchel', 'Neighborhood_NAmes',\n",
       "       'Neighborhood_NPkVill', 'Neighborhood_NWAmes', 'Neighborhood_NoRidge',\n",
       "       'Neighborhood_NridgHt', 'Neighborhood_OldTown', 'Neighborhood_SWISU',\n",
       "       'Neighborhood_Sawyer', 'Neighborhood_SawyerW', 'Neighborhood_Somerst',\n",
       "       'Neighborhood_StoneBr', 'Neighborhood_Timber', 'Neighborhood_Veenker',\n",
       "       'Condition 1_Feedr', 'Condition 1_Norm', 'Condition 1_PosA',\n",
       "       'Condition 1_PosN', 'Condition 1_RRAe', 'Condition 1_RRAn',\n",
       "       'Condition 1_RRNe', 'Condition 1_RRNn', 'Condition 2_Feedr',\n",
       "       'Condition 2_Norm', 'Condition 2_PosA', 'Condition 2_PosN',\n",
       "       'Condition 2_RRAe', 'Condition 2_RRAn', 'Condition 2_RRNn'],\n",
       "      dtype='object')"
      ]
     },
     "execution_count": 577,
     "metadata": {},
     "output_type": "execute_result"
    }
   ],
   "source": [
    "X.columns"
   ]
  },
  {
   "cell_type": "code",
   "execution_count": 578,
   "metadata": {},
   "outputs": [
    {
     "data": {
      "text/plain": [
       "Index(['MS Zoning_FV', 'MS Zoning_I (all)', 'MS Zoning_RH', 'MS Zoning_RL',\n",
       "       'MS Zoning_RM', 'Lot Config_CulDSac', 'Lot Config_FR2',\n",
       "       'Lot Config_FR3', 'Lot Config_Inside', 'Neighborhood_Blueste',\n",
       "       'Neighborhood_BrDale', 'Neighborhood_BrkSide', 'Neighborhood_ClearCr',\n",
       "       'Neighborhood_CollgCr', 'Neighborhood_Crawfor', 'Neighborhood_Edwards',\n",
       "       'Neighborhood_Gilbert', 'Neighborhood_Greens', 'Neighborhood_IDOTRR',\n",
       "       'Neighborhood_MeadowV', 'Neighborhood_Mitchel', 'Neighborhood_NAmes',\n",
       "       'Neighborhood_NPkVill', 'Neighborhood_NWAmes', 'Neighborhood_NoRidge',\n",
       "       'Neighborhood_NridgHt', 'Neighborhood_OldTown', 'Neighborhood_SWISU',\n",
       "       'Neighborhood_Sawyer', 'Neighborhood_SawyerW', 'Neighborhood_Somerst',\n",
       "       'Neighborhood_StoneBr', 'Neighborhood_Timber', 'Neighborhood_Veenker',\n",
       "       'Condition 1_Feedr', 'Condition 1_Norm', 'Condition 1_PosA',\n",
       "       'Condition 1_PosN', 'Condition 1_RRAe', 'Condition 1_RRAn',\n",
       "       'Condition 1_RRNe', 'Condition 1_RRNn', 'Condition 2_Norm',\n",
       "       'Condition 2_PosA'],\n",
       "      dtype='object')"
      ]
     },
     "execution_count": 578,
     "metadata": {},
     "output_type": "execute_result"
    }
   ],
   "source": [
    "X_test.columns"
   ]
  },
  {
   "cell_type": "markdown",
   "metadata": {},
   "source": [
    "Missing columns in X_test: "
   ]
  },
  {
   "cell_type": "code",
   "execution_count": 579,
   "metadata": {},
   "outputs": [
    {
     "data": {
      "text/plain": [
       "['MS Zoning_C (all)',\n",
       " 'Neighborhood_GrnHill',\n",
       " 'Neighborhood_Landmrk',\n",
       " 'Condition 2_Feedr',\n",
       " 'Condition 2_PosN',\n",
       " 'Condition 2_RRAe',\n",
       " 'Condition 2_RRAn',\n",
       " 'Condition 2_RRNn']"
      ]
     },
     "execution_count": 579,
     "metadata": {},
     "output_type": "execute_result"
    }
   ],
   "source": [
    "missing = [col for col in X.columns if col not in X_test.columns]\n",
    "missing"
   ]
  },
  {
   "cell_type": "code",
   "execution_count": 580,
   "metadata": {},
   "outputs": [],
   "source": [
    "X_test[missing] = 0"
   ]
  },
  {
   "cell_type": "code",
   "execution_count": 581,
   "metadata": {},
   "outputs": [],
   "source": [
    "# A little help here from https://stackoverflow.com/questions/11067027/re-ordering-columns-in-pandas-dataframe-based-on-column-name\n",
    "# Keeps dummies in same place as X\n",
    "X_test = X_test.reindex(sorted(X_test.columns), axis=1)\n",
    "X = X.reindex(sorted(X.columns), axis=1)\n"
   ]
  },
  {
   "cell_type": "code",
   "execution_count": 582,
   "metadata": {},
   "outputs": [
    {
     "data": {
      "text/plain": [
       "Index(['Condition 1_Feedr', 'Condition 1_Norm', 'Condition 1_PosA',\n",
       "       'Condition 1_PosN', 'Condition 1_RRAe', 'Condition 1_RRAn',\n",
       "       'Condition 1_RRNe', 'Condition 1_RRNn', 'Condition 2_Feedr',\n",
       "       'Condition 2_Norm', 'Condition 2_PosA', 'Condition 2_PosN',\n",
       "       'Condition 2_RRAe', 'Condition 2_RRAn', 'Condition 2_RRNn',\n",
       "       'Lot Config_CulDSac', 'Lot Config_FR2', 'Lot Config_FR3',\n",
       "       'Lot Config_Inside', 'MS Zoning_C (all)', 'MS Zoning_FV',\n",
       "       'MS Zoning_I (all)', 'MS Zoning_RH', 'MS Zoning_RL', 'MS Zoning_RM',\n",
       "       'Neighborhood_Blueste', 'Neighborhood_BrDale', 'Neighborhood_BrkSide',\n",
       "       'Neighborhood_ClearCr', 'Neighborhood_CollgCr', 'Neighborhood_Crawfor',\n",
       "       'Neighborhood_Edwards', 'Neighborhood_Gilbert', 'Neighborhood_Greens',\n",
       "       'Neighborhood_GrnHill', 'Neighborhood_IDOTRR', 'Neighborhood_Landmrk',\n",
       "       'Neighborhood_MeadowV', 'Neighborhood_Mitchel', 'Neighborhood_NAmes',\n",
       "       'Neighborhood_NPkVill', 'Neighborhood_NWAmes', 'Neighborhood_NoRidge',\n",
       "       'Neighborhood_NridgHt', 'Neighborhood_OldTown', 'Neighborhood_SWISU',\n",
       "       'Neighborhood_Sawyer', 'Neighborhood_SawyerW', 'Neighborhood_Somerst',\n",
       "       'Neighborhood_StoneBr', 'Neighborhood_Timber', 'Neighborhood_Veenker'],\n",
       "      dtype='object')"
      ]
     },
     "execution_count": 582,
     "metadata": {},
     "output_type": "execute_result"
    }
   ],
   "source": [
    "X.columns"
   ]
  },
  {
   "cell_type": "code",
   "execution_count": 583,
   "metadata": {},
   "outputs": [
    {
     "data": {
      "text/plain": [
       "Index(['Condition 1_Feedr', 'Condition 1_Norm', 'Condition 1_PosA',\n",
       "       'Condition 1_PosN', 'Condition 1_RRAe', 'Condition 1_RRAn',\n",
       "       'Condition 1_RRNe', 'Condition 1_RRNn', 'Condition 2_Feedr',\n",
       "       'Condition 2_Norm', 'Condition 2_PosA', 'Condition 2_PosN',\n",
       "       'Condition 2_RRAe', 'Condition 2_RRAn', 'Condition 2_RRNn',\n",
       "       'Lot Config_CulDSac', 'Lot Config_FR2', 'Lot Config_FR3',\n",
       "       'Lot Config_Inside', 'MS Zoning_C (all)', 'MS Zoning_FV',\n",
       "       'MS Zoning_I (all)', 'MS Zoning_RH', 'MS Zoning_RL', 'MS Zoning_RM',\n",
       "       'Neighborhood_Blueste', 'Neighborhood_BrDale', 'Neighborhood_BrkSide',\n",
       "       'Neighborhood_ClearCr', 'Neighborhood_CollgCr', 'Neighborhood_Crawfor',\n",
       "       'Neighborhood_Edwards', 'Neighborhood_Gilbert', 'Neighborhood_Greens',\n",
       "       'Neighborhood_GrnHill', 'Neighborhood_IDOTRR', 'Neighborhood_Landmrk',\n",
       "       'Neighborhood_MeadowV', 'Neighborhood_Mitchel', 'Neighborhood_NAmes',\n",
       "       'Neighborhood_NPkVill', 'Neighborhood_NWAmes', 'Neighborhood_NoRidge',\n",
       "       'Neighborhood_NridgHt', 'Neighborhood_OldTown', 'Neighborhood_SWISU',\n",
       "       'Neighborhood_Sawyer', 'Neighborhood_SawyerW', 'Neighborhood_Somerst',\n",
       "       'Neighborhood_StoneBr', 'Neighborhood_Timber', 'Neighborhood_Veenker'],\n",
       "      dtype='object')"
      ]
     },
     "execution_count": 583,
     "metadata": {},
     "output_type": "execute_result"
    }
   ],
   "source": [
    "X_test.columns"
   ]
  },
  {
   "cell_type": "code",
   "execution_count": 584,
   "metadata": {},
   "outputs": [
    {
     "data": {
      "text/plain": [
       "array([ True,  True,  True,  True,  True,  True,  True,  True,  True,\n",
       "        True,  True,  True,  True,  True,  True,  True,  True,  True,\n",
       "        True,  True,  True,  True,  True,  True,  True,  True,  True,\n",
       "        True,  True,  True,  True,  True,  True,  True,  True,  True,\n",
       "        True,  True,  True,  True,  True,  True,  True,  True,  True,\n",
       "        True,  True,  True,  True,  True,  True,  True])"
      ]
     },
     "execution_count": 584,
     "metadata": {},
     "output_type": "execute_result"
    }
   ],
   "source": [
    "X.columns == X_test.columns"
   ]
  },
  {
   "cell_type": "code",
   "execution_count": 585,
   "metadata": {},
   "outputs": [],
   "source": [
    "ss = StandardScaler()\n",
    "\n",
    "X_scaled = ss.fit_transform(X)\n",
    "X_test_scaled = ss.transform(X_test)"
   ]
  },
  {
   "cell_type": "code",
   "execution_count": 586,
   "metadata": {},
   "outputs": [],
   "source": [
    "linreg = LinearRegression()\n",
    "\n",
    "linreg.fit(X_scaled, y)\n",
    "preds_scaled = linreg.predict(X_test_scaled)"
   ]
  },
  {
   "cell_type": "code",
   "execution_count": 587,
   "metadata": {},
   "outputs": [],
   "source": [
    "test['SalePrice'] = preds_scaled"
   ]
  },
  {
   "cell_type": "code",
   "execution_count": 588,
   "metadata": {},
   "outputs": [],
   "source": [
    "test[['Id', 'SalePrice']].to_csv('../data/submission_linreg_scaled_location.csv', index=False)"
   ]
  },
  {
   "cell_type": "markdown",
   "metadata": {},
   "source": [
    "## Lasso Regression using interesting features and location features"
   ]
  },
  {
   "cell_type": "code",
   "execution_count": 589,
   "metadata": {},
   "outputs": [
    {
     "data": {
      "text/plain": [
       "Index(['Id', 'PID', 'MS SubClass', 'MS Zoning', 'Lot Frontage', 'Lot Area',\n",
       "       'Street', 'Alley', 'Lot Shape', 'Land Contour', 'Utilities',\n",
       "       'Lot Config', 'Land Slope', 'Neighborhood', 'Condition 1',\n",
       "       'Condition 2', 'Bldg Type', 'House Style', 'Overall Qual',\n",
       "       'Overall Cond', 'Year Built', 'Year Remod/Add', 'Roof Style',\n",
       "       'Roof Matl', 'Exterior 1st', 'Exterior 2nd', 'Mas Vnr Type',\n",
       "       'Mas Vnr Area', 'Exter Qual', 'Exter Cond', 'Foundation', 'Bsmt Qual',\n",
       "       'Bsmt Cond', 'Bsmt Exposure', 'BsmtFin Type 1', 'BsmtFin SF 1',\n",
       "       'BsmtFin Type 2', 'BsmtFin SF 2', 'Bsmt Unf SF', 'Total Bsmt SF',\n",
       "       'Heating', 'Heating QC', 'Central Air', 'Electrical', '1st Flr SF',\n",
       "       '2nd Flr SF', 'Low Qual Fin SF', 'Gr Liv Area', 'Bsmt Full Bath',\n",
       "       'Bsmt Half Bath', 'Full Bath', 'Half Bath', 'Bedroom AbvGr',\n",
       "       'Kitchen AbvGr', 'Kitchen Qual', 'TotRms AbvGrd', 'Functional',\n",
       "       'Fireplaces', 'Fireplace Qu', 'Garage Type', 'Garage Yr Blt',\n",
       "       'Garage Finish', 'Garage Cars', 'Garage Area', 'Garage Qual',\n",
       "       'Garage Cond', 'Paved Drive', 'Wood Deck SF', 'Open Porch SF',\n",
       "       'Enclosed Porch', '3Ssn Porch', 'Screen Porch', 'Pool Area', 'Pool QC',\n",
       "       'Fence', 'Misc Feature', 'Misc Val', 'Mo Sold', 'Yr Sold', 'Sale Type'],\n",
       "      dtype='object')"
      ]
     },
     "execution_count": 589,
     "metadata": {},
     "output_type": "execute_result"
    }
   ],
   "source": [
    "# Import data\n",
    "test = pd.read_csv('../data/test.csv')\n",
    "train = pd.read_csv('../data/train.csv')\n",
    "test.columns"
   ]
  },
  {
   "cell_type": "code",
   "execution_count": 590,
   "metadata": {},
   "outputs": [],
   "source": [
    "# List interesting features from reading data description\n",
    "interesting = [\n",
    "    'MS Zoning',\n",
    "    'Lot Config',\n",
    "    'Neighborhood',\n",
    "    'Condition 1',\n",
    "    'Condition 2',\n",
    "    'Overall Qual',\n",
    "    'Gr Liv Area',\n",
    "    'Garage Area',\n",
    "    'Year Built',\n",
    "    'Year Remod/Add',\n",
    "    'SalePrice',\n",
    "]"
   ]
  },
  {
   "cell_type": "code",
   "execution_count": 591,
   "metadata": {},
   "outputs": [],
   "source": [
    "# Keep only interesting features\n",
    "train = train[interesting]\n"
   ]
  },
  {
   "cell_type": "code",
   "execution_count": 592,
   "metadata": {},
   "outputs": [
    {
     "data": {
      "text/plain": [
       "MS Zoning          object\n",
       "Lot Config         object\n",
       "Neighborhood       object\n",
       "Condition 1        object\n",
       "Condition 2        object\n",
       "Overall Qual        int64\n",
       "Gr Liv Area         int64\n",
       "Garage Area       float64\n",
       "Year Built          int64\n",
       "Year Remod/Add      int64\n",
       "SalePrice           int64\n",
       "dtype: object"
      ]
     },
     "execution_count": 592,
     "metadata": {},
     "output_type": "execute_result"
    }
   ],
   "source": [
    "train.dtypes"
   ]
  },
  {
   "cell_type": "code",
   "execution_count": 593,
   "metadata": {},
   "outputs": [],
   "source": [
    "train['Garage Area'].fillna(0, inplace=True)\n",
    "test['Garage Area'].fillna(0, inplace=True)"
   ]
  },
  {
   "cell_type": "code",
   "execution_count": 594,
   "metadata": {},
   "outputs": [],
   "source": [
    "X_test = test[interesting[:-1]]\n",
    "X = train.drop(columns='SalePrice')\n",
    "y = train['SalePrice']"
   ]
  },
  {
   "cell_type": "code",
   "execution_count": 595,
   "metadata": {},
   "outputs": [],
   "source": [
    "# Use pandas .get_dummies() to binarize categorical columns. With help from https://stackoverflow.com/questions/32387266/converting-categorical-values-to-binary-using-pandas\n",
    "# Drop first binary column\n",
    "X_test = pd.get_dummies(X_test, drop_first=True)\n",
    "X = pd.get_dummies(X, drop_first=True)"
   ]
  },
  {
   "cell_type": "code",
   "execution_count": 596,
   "metadata": {},
   "outputs": [
    {
     "data": {
      "text/plain": [
       "Index(['Overall Qual', 'Gr Liv Area', 'Garage Area', 'Year Built',\n",
       "       'Year Remod/Add', 'MS Zoning_C (all)', 'MS Zoning_FV',\n",
       "       'MS Zoning_I (all)', 'MS Zoning_RH', 'MS Zoning_RL', 'MS Zoning_RM',\n",
       "       'Lot Config_CulDSac', 'Lot Config_FR2', 'Lot Config_FR3',\n",
       "       'Lot Config_Inside', 'Neighborhood_Blueste', 'Neighborhood_BrDale',\n",
       "       'Neighborhood_BrkSide', 'Neighborhood_ClearCr', 'Neighborhood_CollgCr',\n",
       "       'Neighborhood_Crawfor', 'Neighborhood_Edwards', 'Neighborhood_Gilbert',\n",
       "       'Neighborhood_Greens', 'Neighborhood_GrnHill', 'Neighborhood_IDOTRR',\n",
       "       'Neighborhood_Landmrk', 'Neighborhood_MeadowV', 'Neighborhood_Mitchel',\n",
       "       'Neighborhood_NAmes', 'Neighborhood_NPkVill', 'Neighborhood_NWAmes',\n",
       "       'Neighborhood_NoRidge', 'Neighborhood_NridgHt', 'Neighborhood_OldTown',\n",
       "       'Neighborhood_SWISU', 'Neighborhood_Sawyer', 'Neighborhood_SawyerW',\n",
       "       'Neighborhood_Somerst', 'Neighborhood_StoneBr', 'Neighborhood_Timber',\n",
       "       'Neighborhood_Veenker', 'Condition 1_Feedr', 'Condition 1_Norm',\n",
       "       'Condition 1_PosA', 'Condition 1_PosN', 'Condition 1_RRAe',\n",
       "       'Condition 1_RRAn', 'Condition 1_RRNe', 'Condition 1_RRNn',\n",
       "       'Condition 2_Feedr', 'Condition 2_Norm', 'Condition 2_PosA',\n",
       "       'Condition 2_PosN', 'Condition 2_RRAe', 'Condition 2_RRAn',\n",
       "       'Condition 2_RRNn'],\n",
       "      dtype='object')"
      ]
     },
     "execution_count": 596,
     "metadata": {},
     "output_type": "execute_result"
    }
   ],
   "source": [
    "X.columns"
   ]
  },
  {
   "cell_type": "code",
   "execution_count": 597,
   "metadata": {},
   "outputs": [
    {
     "data": {
      "text/plain": [
       "Index(['Overall Qual', 'Gr Liv Area', 'Garage Area', 'Year Built',\n",
       "       'Year Remod/Add', 'MS Zoning_FV', 'MS Zoning_I (all)', 'MS Zoning_RH',\n",
       "       'MS Zoning_RL', 'MS Zoning_RM', 'Lot Config_CulDSac', 'Lot Config_FR2',\n",
       "       'Lot Config_FR3', 'Lot Config_Inside', 'Neighborhood_Blueste',\n",
       "       'Neighborhood_BrDale', 'Neighborhood_BrkSide', 'Neighborhood_ClearCr',\n",
       "       'Neighborhood_CollgCr', 'Neighborhood_Crawfor', 'Neighborhood_Edwards',\n",
       "       'Neighborhood_Gilbert', 'Neighborhood_Greens', 'Neighborhood_IDOTRR',\n",
       "       'Neighborhood_MeadowV', 'Neighborhood_Mitchel', 'Neighborhood_NAmes',\n",
       "       'Neighborhood_NPkVill', 'Neighborhood_NWAmes', 'Neighborhood_NoRidge',\n",
       "       'Neighborhood_NridgHt', 'Neighborhood_OldTown', 'Neighborhood_SWISU',\n",
       "       'Neighborhood_Sawyer', 'Neighborhood_SawyerW', 'Neighborhood_Somerst',\n",
       "       'Neighborhood_StoneBr', 'Neighborhood_Timber', 'Neighborhood_Veenker',\n",
       "       'Condition 1_Feedr', 'Condition 1_Norm', 'Condition 1_PosA',\n",
       "       'Condition 1_PosN', 'Condition 1_RRAe', 'Condition 1_RRAn',\n",
       "       'Condition 1_RRNe', 'Condition 1_RRNn', 'Condition 2_Norm',\n",
       "       'Condition 2_PosA'],\n",
       "      dtype='object')"
      ]
     },
     "execution_count": 597,
     "metadata": {},
     "output_type": "execute_result"
    }
   ],
   "source": [
    "X_test.columns"
   ]
  },
  {
   "cell_type": "markdown",
   "metadata": {},
   "source": [
    "Missing columns in X_test: "
   ]
  },
  {
   "cell_type": "code",
   "execution_count": 598,
   "metadata": {},
   "outputs": [
    {
     "data": {
      "text/plain": [
       "['MS Zoning_C (all)',\n",
       " 'Neighborhood_GrnHill',\n",
       " 'Neighborhood_Landmrk',\n",
       " 'Condition 2_Feedr',\n",
       " 'Condition 2_PosN',\n",
       " 'Condition 2_RRAe',\n",
       " 'Condition 2_RRAn',\n",
       " 'Condition 2_RRNn']"
      ]
     },
     "execution_count": 598,
     "metadata": {},
     "output_type": "execute_result"
    }
   ],
   "source": [
    "missing = [col for col in X.columns if col not in X_test.columns]\n",
    "missing"
   ]
  },
  {
   "cell_type": "code",
   "execution_count": 599,
   "metadata": {},
   "outputs": [],
   "source": [
    "X_test[missing] = 0"
   ]
  },
  {
   "cell_type": "code",
   "execution_count": 600,
   "metadata": {},
   "outputs": [
    {
     "data": {
      "text/plain": [
       "(2051, 57)"
      ]
     },
     "execution_count": 600,
     "metadata": {},
     "output_type": "execute_result"
    }
   ],
   "source": [
    "X.shape"
   ]
  },
  {
   "cell_type": "code",
   "execution_count": 601,
   "metadata": {},
   "outputs": [
    {
     "data": {
      "text/plain": [
       "(878, 57)"
      ]
     },
     "execution_count": 601,
     "metadata": {},
     "output_type": "execute_result"
    }
   ],
   "source": [
    "X_test.shape"
   ]
  },
  {
   "cell_type": "code",
   "execution_count": 602,
   "metadata": {},
   "outputs": [],
   "source": [
    "# A little help here from https://stackoverflow.com/questions/11067027/re-ordering-columns-in-pandas-dataframe-based-on-column-name\n",
    "# Keeps dummies in same place as X\n",
    "X_test = X_test.reindex(sorted(X_test.columns), axis=1)\n",
    "X = X.reindex(sorted(X.columns), axis=1)\n"
   ]
  },
  {
   "cell_type": "code",
   "execution_count": 603,
   "metadata": {},
   "outputs": [
    {
     "data": {
      "text/plain": [
       "Index(['Condition 1_Feedr', 'Condition 1_Norm', 'Condition 1_PosA',\n",
       "       'Condition 1_PosN', 'Condition 1_RRAe', 'Condition 1_RRAn',\n",
       "       'Condition 1_RRNe', 'Condition 1_RRNn', 'Condition 2_Feedr',\n",
       "       'Condition 2_Norm', 'Condition 2_PosA', 'Condition 2_PosN',\n",
       "       'Condition 2_RRAe', 'Condition 2_RRAn', 'Condition 2_RRNn',\n",
       "       'Garage Area', 'Gr Liv Area', 'Lot Config_CulDSac', 'Lot Config_FR2',\n",
       "       'Lot Config_FR3', 'Lot Config_Inside', 'MS Zoning_C (all)',\n",
       "       'MS Zoning_FV', 'MS Zoning_I (all)', 'MS Zoning_RH', 'MS Zoning_RL',\n",
       "       'MS Zoning_RM', 'Neighborhood_Blueste', 'Neighborhood_BrDale',\n",
       "       'Neighborhood_BrkSide', 'Neighborhood_ClearCr', 'Neighborhood_CollgCr',\n",
       "       'Neighborhood_Crawfor', 'Neighborhood_Edwards', 'Neighborhood_Gilbert',\n",
       "       'Neighborhood_Greens', 'Neighborhood_GrnHill', 'Neighborhood_IDOTRR',\n",
       "       'Neighborhood_Landmrk', 'Neighborhood_MeadowV', 'Neighborhood_Mitchel',\n",
       "       'Neighborhood_NAmes', 'Neighborhood_NPkVill', 'Neighborhood_NWAmes',\n",
       "       'Neighborhood_NoRidge', 'Neighborhood_NridgHt', 'Neighborhood_OldTown',\n",
       "       'Neighborhood_SWISU', 'Neighborhood_Sawyer', 'Neighborhood_SawyerW',\n",
       "       'Neighborhood_Somerst', 'Neighborhood_StoneBr', 'Neighborhood_Timber',\n",
       "       'Neighborhood_Veenker', 'Overall Qual', 'Year Built', 'Year Remod/Add'],\n",
       "      dtype='object')"
      ]
     },
     "execution_count": 603,
     "metadata": {},
     "output_type": "execute_result"
    }
   ],
   "source": [
    "X.columns"
   ]
  },
  {
   "cell_type": "code",
   "execution_count": 604,
   "metadata": {},
   "outputs": [
    {
     "data": {
      "text/plain": [
       "Index(['Condition 1_Feedr', 'Condition 1_Norm', 'Condition 1_PosA',\n",
       "       'Condition 1_PosN', 'Condition 1_RRAe', 'Condition 1_RRAn',\n",
       "       'Condition 1_RRNe', 'Condition 1_RRNn', 'Condition 2_Feedr',\n",
       "       'Condition 2_Norm', 'Condition 2_PosA', 'Condition 2_PosN',\n",
       "       'Condition 2_RRAe', 'Condition 2_RRAn', 'Condition 2_RRNn',\n",
       "       'Garage Area', 'Gr Liv Area', 'Lot Config_CulDSac', 'Lot Config_FR2',\n",
       "       'Lot Config_FR3', 'Lot Config_Inside', 'MS Zoning_C (all)',\n",
       "       'MS Zoning_FV', 'MS Zoning_I (all)', 'MS Zoning_RH', 'MS Zoning_RL',\n",
       "       'MS Zoning_RM', 'Neighborhood_Blueste', 'Neighborhood_BrDale',\n",
       "       'Neighborhood_BrkSide', 'Neighborhood_ClearCr', 'Neighborhood_CollgCr',\n",
       "       'Neighborhood_Crawfor', 'Neighborhood_Edwards', 'Neighborhood_Gilbert',\n",
       "       'Neighborhood_Greens', 'Neighborhood_GrnHill', 'Neighborhood_IDOTRR',\n",
       "       'Neighborhood_Landmrk', 'Neighborhood_MeadowV', 'Neighborhood_Mitchel',\n",
       "       'Neighborhood_NAmes', 'Neighborhood_NPkVill', 'Neighborhood_NWAmes',\n",
       "       'Neighborhood_NoRidge', 'Neighborhood_NridgHt', 'Neighborhood_OldTown',\n",
       "       'Neighborhood_SWISU', 'Neighborhood_Sawyer', 'Neighborhood_SawyerW',\n",
       "       'Neighborhood_Somerst', 'Neighborhood_StoneBr', 'Neighborhood_Timber',\n",
       "       'Neighborhood_Veenker', 'Overall Qual', 'Year Built', 'Year Remod/Add'],\n",
       "      dtype='object')"
      ]
     },
     "execution_count": 604,
     "metadata": {},
     "output_type": "execute_result"
    }
   ],
   "source": [
    "X_test.columns"
   ]
  },
  {
   "cell_type": "code",
   "execution_count": 605,
   "metadata": {},
   "outputs": [
    {
     "data": {
      "text/plain": [
       "array([ True,  True,  True,  True,  True,  True,  True,  True,  True,\n",
       "        True,  True,  True,  True,  True,  True,  True,  True,  True,\n",
       "        True,  True,  True,  True,  True,  True,  True,  True,  True,\n",
       "        True,  True,  True,  True,  True,  True,  True,  True,  True,\n",
       "        True,  True,  True,  True,  True,  True,  True,  True,  True,\n",
       "        True,  True,  True,  True,  True,  True,  True,  True,  True,\n",
       "        True,  True,  True])"
      ]
     },
     "execution_count": 605,
     "metadata": {},
     "output_type": "execute_result"
    }
   ],
   "source": [
    "X.columns == X_test.columns"
   ]
  },
  {
   "cell_type": "code",
   "execution_count": 606,
   "metadata": {},
   "outputs": [],
   "source": [
    "ss = StandardScaler()\n",
    "\n",
    "X_scaled = ss.fit_transform(X)\n",
    "X_test_scaled = ss.transform(X_test)"
   ]
  },
  {
   "cell_type": "code",
   "execution_count": 607,
   "metadata": {},
   "outputs": [
    {
     "data": {
      "text/plain": [
       "(2051, 57)"
      ]
     },
     "execution_count": 607,
     "metadata": {},
     "output_type": "execute_result"
    }
   ],
   "source": [
    "X_scaled.shape"
   ]
  },
  {
   "cell_type": "code",
   "execution_count": 608,
   "metadata": {},
   "outputs": [
    {
     "data": {
      "text/plain": [
       "(878, 57)"
      ]
     },
     "execution_count": 608,
     "metadata": {},
     "output_type": "execute_result"
    }
   ],
   "source": [
    "X_test_scaled.shape"
   ]
  },
  {
   "cell_type": "code",
   "execution_count": 609,
   "metadata": {},
   "outputs": [],
   "source": [
    "lasso = Lasso(alpha=10, max_iter=10_000)\n",
    "\n",
    "lasso.fit(X_scaled, y)\n",
    "preds_scaled = lasso.predict(X_test_scaled)"
   ]
  },
  {
   "cell_type": "code",
   "execution_count": 610,
   "metadata": {},
   "outputs": [],
   "source": [
    "test['SalePrice'] = preds_scaled"
   ]
  },
  {
   "cell_type": "code",
   "execution_count": 611,
   "metadata": {},
   "outputs": [],
   "source": [
    "test[['Id', 'SalePrice']].to_csv('../data/submission_lasso_alpha_10.csv', index=False)"
   ]
  },
  {
   "cell_type": "code",
   "execution_count": 612,
   "metadata": {},
   "outputs": [
    {
     "data": {
      "text/html": [
       "<div>\n",
       "<style scoped>\n",
       "    .dataframe tbody tr th:only-of-type {\n",
       "        vertical-align: middle;\n",
       "    }\n",
       "\n",
       "    .dataframe tbody tr th {\n",
       "        vertical-align: top;\n",
       "    }\n",
       "\n",
       "    .dataframe thead th {\n",
       "        text-align: right;\n",
       "    }\n",
       "</style>\n",
       "<table border=\"1\" class=\"dataframe\">\n",
       "  <thead>\n",
       "    <tr style=\"text-align: right;\">\n",
       "      <th></th>\n",
       "      <th>0</th>\n",
       "    </tr>\n",
       "  </thead>\n",
       "  <tbody>\n",
       "    <tr>\n",
       "      <th>Overall Qual</th>\n",
       "      <td>24723.935991</td>\n",
       "    </tr>\n",
       "    <tr>\n",
       "      <th>Gr Liv Area</th>\n",
       "      <td>24167.262596</td>\n",
       "    </tr>\n",
       "    <tr>\n",
       "      <th>Neighborhood_NridgHt</th>\n",
       "      <td>14589.375079</td>\n",
       "    </tr>\n",
       "    <tr>\n",
       "      <th>Garage Area</th>\n",
       "      <td>10570.823521</td>\n",
       "    </tr>\n",
       "    <tr>\n",
       "      <th>Year Built</th>\n",
       "      <td>9563.694417</td>\n",
       "    </tr>\n",
       "    <tr>\n",
       "      <th>Neighborhood_StoneBr</th>\n",
       "      <td>8932.054079</td>\n",
       "    </tr>\n",
       "    <tr>\n",
       "      <th>Neighborhood_NoRidge</th>\n",
       "      <td>6513.491755</td>\n",
       "    </tr>\n",
       "    <tr>\n",
       "      <th>Neighborhood_Crawfor</th>\n",
       "      <td>6084.388277</td>\n",
       "    </tr>\n",
       "    <tr>\n",
       "      <th>Year Remod/Add</th>\n",
       "      <td>5884.750787</td>\n",
       "    </tr>\n",
       "    <tr>\n",
       "      <th>Neighborhood_Somerst</th>\n",
       "      <td>3890.059378</td>\n",
       "    </tr>\n",
       "    <tr>\n",
       "      <th>Neighborhood_ClearCr</th>\n",
       "      <td>3553.464251</td>\n",
       "    </tr>\n",
       "    <tr>\n",
       "      <th>Neighborhood_Timber</th>\n",
       "      <td>3511.699646</td>\n",
       "    </tr>\n",
       "    <tr>\n",
       "      <th>Neighborhood_GrnHill</th>\n",
       "      <td>3430.191967</td>\n",
       "    </tr>\n",
       "    <tr>\n",
       "      <th>Lot Config_CulDSac</th>\n",
       "      <td>3414.340770</td>\n",
       "    </tr>\n",
       "    <tr>\n",
       "      <th>Neighborhood_NAmes</th>\n",
       "      <td>3378.072824</td>\n",
       "    </tr>\n",
       "    <tr>\n",
       "      <th>Condition 1_PosN</th>\n",
       "      <td>3303.738116</td>\n",
       "    </tr>\n",
       "    <tr>\n",
       "      <th>Neighborhood_BrkSide</th>\n",
       "      <td>3270.263986</td>\n",
       "    </tr>\n",
       "    <tr>\n",
       "      <th>Neighborhood_Veenker</th>\n",
       "      <td>3095.619381</td>\n",
       "    </tr>\n",
       "    <tr>\n",
       "      <th>Condition 1_Norm</th>\n",
       "      <td>2971.448497</td>\n",
       "    </tr>\n",
       "    <tr>\n",
       "      <th>MS Zoning_RL</th>\n",
       "      <td>2654.955228</td>\n",
       "    </tr>\n",
       "    <tr>\n",
       "      <th>Neighborhood_IDOTRR</th>\n",
       "      <td>2284.223242</td>\n",
       "    </tr>\n",
       "    <tr>\n",
       "      <th>Neighborhood_Sawyer</th>\n",
       "      <td>2249.576777</td>\n",
       "    </tr>\n",
       "    <tr>\n",
       "      <th>Condition 2_PosA</th>\n",
       "      <td>2193.711764</td>\n",
       "    </tr>\n",
       "    <tr>\n",
       "      <th>Condition 1_PosA</th>\n",
       "      <td>2143.211491</td>\n",
       "    </tr>\n",
       "    <tr>\n",
       "      <th>Neighborhood_OldTown</th>\n",
       "      <td>2045.615584</td>\n",
       "    </tr>\n",
       "    <tr>\n",
       "      <th>Condition 2_PosN</th>\n",
       "      <td>1404.493859</td>\n",
       "    </tr>\n",
       "    <tr>\n",
       "      <th>Neighborhood_Mitchel</th>\n",
       "      <td>1274.248868</td>\n",
       "    </tr>\n",
       "    <tr>\n",
       "      <th>Neighborhood_CollgCr</th>\n",
       "      <td>612.306857</td>\n",
       "    </tr>\n",
       "    <tr>\n",
       "      <th>MS Zoning_I (all)</th>\n",
       "      <td>499.522319</td>\n",
       "    </tr>\n",
       "    <tr>\n",
       "      <th>Condition 1_Feedr</th>\n",
       "      <td>427.940425</td>\n",
       "    </tr>\n",
       "    <tr>\n",
       "      <th>Condition 2_RRNn</th>\n",
       "      <td>427.507464</td>\n",
       "    </tr>\n",
       "    <tr>\n",
       "      <th>Lot Config_Inside</th>\n",
       "      <td>391.436580</td>\n",
       "    </tr>\n",
       "    <tr>\n",
       "      <th>MS Zoning_RH</th>\n",
       "      <td>235.861522</td>\n",
       "    </tr>\n",
       "    <tr>\n",
       "      <th>Condition 2_Norm</th>\n",
       "      <td>179.641262</td>\n",
       "    </tr>\n",
       "    <tr>\n",
       "      <th>Neighborhood_MeadowV</th>\n",
       "      <td>119.415939</td>\n",
       "    </tr>\n",
       "    <tr>\n",
       "      <th>Neighborhood_NWAmes</th>\n",
       "      <td>58.802764</td>\n",
       "    </tr>\n",
       "    <tr>\n",
       "      <th>Condition 1_RRAn</th>\n",
       "      <td>41.779598</td>\n",
       "    </tr>\n",
       "    <tr>\n",
       "      <th>Neighborhood_Edwards</th>\n",
       "      <td>34.324467</td>\n",
       "    </tr>\n",
       "    <tr>\n",
       "      <th>Neighborhood_SWISU</th>\n",
       "      <td>5.008517</td>\n",
       "    </tr>\n",
       "    <tr>\n",
       "      <th>Condition 1_RRNn</th>\n",
       "      <td>-17.127487</td>\n",
       "    </tr>\n",
       "    <tr>\n",
       "      <th>Neighborhood_Greens</th>\n",
       "      <td>-123.987829</td>\n",
       "    </tr>\n",
       "    <tr>\n",
       "      <th>MS Zoning_C (all)</th>\n",
       "      <td>-269.034527</td>\n",
       "    </tr>\n",
       "    <tr>\n",
       "      <th>Condition 2_Feedr</th>\n",
       "      <td>-278.399031</td>\n",
       "    </tr>\n",
       "    <tr>\n",
       "      <th>Condition 1_RRNe</th>\n",
       "      <td>-342.786421</td>\n",
       "    </tr>\n",
       "    <tr>\n",
       "      <th>Condition 2_RRAn</th>\n",
       "      <td>-361.914706</td>\n",
       "    </tr>\n",
       "    <tr>\n",
       "      <th>Lot Config_FR3</th>\n",
       "      <td>-502.281871</td>\n",
       "    </tr>\n",
       "    <tr>\n",
       "      <th>Condition 2_RRAe</th>\n",
       "      <td>-515.659479</td>\n",
       "    </tr>\n",
       "    <tr>\n",
       "      <th>Neighborhood_Landmrk</th>\n",
       "      <td>-659.630646</td>\n",
       "    </tr>\n",
       "    <tr>\n",
       "      <th>Condition 1_RRAe</th>\n",
       "      <td>-671.402030</td>\n",
       "    </tr>\n",
       "    <tr>\n",
       "      <th>Neighborhood_SawyerW</th>\n",
       "      <td>-772.355743</td>\n",
       "    </tr>\n",
       "    <tr>\n",
       "      <th>Neighborhood_Blueste</th>\n",
       "      <td>-784.718455</td>\n",
       "    </tr>\n",
       "    <tr>\n",
       "      <th>Lot Config_FR2</th>\n",
       "      <td>-979.329119</td>\n",
       "    </tr>\n",
       "    <tr>\n",
       "      <th>Neighborhood_Gilbert</th>\n",
       "      <td>-1097.436462</td>\n",
       "    </tr>\n",
       "    <tr>\n",
       "      <th>Neighborhood_NPkVill</th>\n",
       "      <td>-1472.966325</td>\n",
       "    </tr>\n",
       "    <tr>\n",
       "      <th>MS Zoning_FV</th>\n",
       "      <td>-1492.462269</td>\n",
       "    </tr>\n",
       "    <tr>\n",
       "      <th>Neighborhood_BrDale</th>\n",
       "      <td>-1694.940098</td>\n",
       "    </tr>\n",
       "    <tr>\n",
       "      <th>MS Zoning_RM</th>\n",
       "      <td>-2127.394930</td>\n",
       "    </tr>\n",
       "  </tbody>\n",
       "</table>\n",
       "</div>"
      ],
      "text/plain": [
       "                                 0\n",
       "Overall Qual          24723.935991\n",
       "Gr Liv Area           24167.262596\n",
       "Neighborhood_NridgHt  14589.375079\n",
       "Garage Area           10570.823521\n",
       "Year Built             9563.694417\n",
       "Neighborhood_StoneBr   8932.054079\n",
       "Neighborhood_NoRidge   6513.491755\n",
       "Neighborhood_Crawfor   6084.388277\n",
       "Year Remod/Add         5884.750787\n",
       "Neighborhood_Somerst   3890.059378\n",
       "Neighborhood_ClearCr   3553.464251\n",
       "Neighborhood_Timber    3511.699646\n",
       "Neighborhood_GrnHill   3430.191967\n",
       "Lot Config_CulDSac     3414.340770\n",
       "Neighborhood_NAmes     3378.072824\n",
       "Condition 1_PosN       3303.738116\n",
       "Neighborhood_BrkSide   3270.263986\n",
       "Neighborhood_Veenker   3095.619381\n",
       "Condition 1_Norm       2971.448497\n",
       "MS Zoning_RL           2654.955228\n",
       "Neighborhood_IDOTRR    2284.223242\n",
       "Neighborhood_Sawyer    2249.576777\n",
       "Condition 2_PosA       2193.711764\n",
       "Condition 1_PosA       2143.211491\n",
       "Neighborhood_OldTown   2045.615584\n",
       "Condition 2_PosN       1404.493859\n",
       "Neighborhood_Mitchel   1274.248868\n",
       "Neighborhood_CollgCr    612.306857\n",
       "MS Zoning_I (all)       499.522319\n",
       "Condition 1_Feedr       427.940425\n",
       "Condition 2_RRNn        427.507464\n",
       "Lot Config_Inside       391.436580\n",
       "MS Zoning_RH            235.861522\n",
       "Condition 2_Norm        179.641262\n",
       "Neighborhood_MeadowV    119.415939\n",
       "Neighborhood_NWAmes      58.802764\n",
       "Condition 1_RRAn         41.779598\n",
       "Neighborhood_Edwards     34.324467\n",
       "Neighborhood_SWISU        5.008517\n",
       "Condition 1_RRNn        -17.127487\n",
       "Neighborhood_Greens    -123.987829\n",
       "MS Zoning_C (all)      -269.034527\n",
       "Condition 2_Feedr      -278.399031\n",
       "Condition 1_RRNe       -342.786421\n",
       "Condition 2_RRAn       -361.914706\n",
       "Lot Config_FR3         -502.281871\n",
       "Condition 2_RRAe       -515.659479\n",
       "Neighborhood_Landmrk   -659.630646\n",
       "Condition 1_RRAe       -671.402030\n",
       "Neighborhood_SawyerW   -772.355743\n",
       "Neighborhood_Blueste   -784.718455\n",
       "Lot Config_FR2         -979.329119\n",
       "Neighborhood_Gilbert  -1097.436462\n",
       "Neighborhood_NPkVill  -1472.966325\n",
       "MS Zoning_FV          -1492.462269\n",
       "Neighborhood_BrDale   -1694.940098\n",
       "MS Zoning_RM          -2127.394930"
      ]
     },
     "execution_count": 612,
     "metadata": {},
     "output_type": "execute_result"
    }
   ],
   "source": [
    "pd.DataFrame(lasso.coef_, X.columns).sort_values(by=0, ascending=False)"
   ]
  },
  {
   "cell_type": "markdown",
   "metadata": {},
   "source": [
    "## Lasso Regression with CV"
   ]
  },
  {
   "cell_type": "code",
   "execution_count": 613,
   "metadata": {},
   "outputs": [
    {
     "data": {
      "text/plain": [
       "238.72652365520813"
      ]
     },
     "execution_count": 613,
     "metadata": {},
     "output_type": "execute_result"
    }
   ],
   "source": [
    "lassocv = LassoCV(max_iter=10_000)\n",
    "\n",
    "lassocv.fit(X_scaled, y)\n",
    "preds_scaled = lassocv.predict(X_test_scaled)\n",
    "lassocv.alpha_"
   ]
  },
  {
   "cell_type": "code",
   "execution_count": 614,
   "metadata": {},
   "outputs": [],
   "source": [
    "test['SalePrice'] = preds_scaled"
   ]
  },
  {
   "cell_type": "code",
   "execution_count": 615,
   "metadata": {},
   "outputs": [],
   "source": [
    "test[['Id', 'SalePrice']].to_csv('../data/submission_lasso_cv.csv', index=False)"
   ]
  },
  {
   "cell_type": "code",
   "execution_count": 616,
   "metadata": {},
   "outputs": [
    {
     "data": {
      "text/html": [
       "<div>\n",
       "<style scoped>\n",
       "    .dataframe tbody tr th:only-of-type {\n",
       "        vertical-align: middle;\n",
       "    }\n",
       "\n",
       "    .dataframe tbody tr th {\n",
       "        vertical-align: top;\n",
       "    }\n",
       "\n",
       "    .dataframe thead th {\n",
       "        text-align: right;\n",
       "    }\n",
       "</style>\n",
       "<table border=\"1\" class=\"dataframe\">\n",
       "  <thead>\n",
       "    <tr style=\"text-align: right;\">\n",
       "      <th></th>\n",
       "      <th>0</th>\n",
       "    </tr>\n",
       "  </thead>\n",
       "  <tbody>\n",
       "    <tr>\n",
       "      <th>Overall Qual</th>\n",
       "      <td>24890.048671</td>\n",
       "    </tr>\n",
       "    <tr>\n",
       "      <th>Gr Liv Area</th>\n",
       "      <td>23977.887783</td>\n",
       "    </tr>\n",
       "    <tr>\n",
       "      <th>Neighborhood_NridgHt</th>\n",
       "      <td>13108.771440</td>\n",
       "    </tr>\n",
       "    <tr>\n",
       "      <th>Garage Area</th>\n",
       "      <td>10762.578771</td>\n",
       "    </tr>\n",
       "    <tr>\n",
       "      <th>Year Built</th>\n",
       "      <td>8380.512340</td>\n",
       "    </tr>\n",
       "    <tr>\n",
       "      <th>Neighborhood_StoneBr</th>\n",
       "      <td>8037.617353</td>\n",
       "    </tr>\n",
       "    <tr>\n",
       "      <th>Year Remod/Add</th>\n",
       "      <td>5640.722027</td>\n",
       "    </tr>\n",
       "    <tr>\n",
       "      <th>Neighborhood_NoRidge</th>\n",
       "      <td>5470.185794</td>\n",
       "    </tr>\n",
       "    <tr>\n",
       "      <th>Neighborhood_Crawfor</th>\n",
       "      <td>4516.972711</td>\n",
       "    </tr>\n",
       "    <tr>\n",
       "      <th>Lot Config_CulDSac</th>\n",
       "      <td>3118.770075</td>\n",
       "    </tr>\n",
       "    <tr>\n",
       "      <th>Neighborhood_GrnHill</th>\n",
       "      <td>2994.201230</td>\n",
       "    </tr>\n",
       "    <tr>\n",
       "      <th>Condition 1_PosN</th>\n",
       "      <td>2967.776502</td>\n",
       "    </tr>\n",
       "    <tr>\n",
       "      <th>MS Zoning_RL</th>\n",
       "      <td>2770.006144</td>\n",
       "    </tr>\n",
       "    <tr>\n",
       "      <th>Neighborhood_ClearCr</th>\n",
       "      <td>2599.829688</td>\n",
       "    </tr>\n",
       "    <tr>\n",
       "      <th>Neighborhood_Timber</th>\n",
       "      <td>2475.812505</td>\n",
       "    </tr>\n",
       "    <tr>\n",
       "      <th>Condition 1_Norm</th>\n",
       "      <td>2349.208746</td>\n",
       "    </tr>\n",
       "    <tr>\n",
       "      <th>Neighborhood_Veenker</th>\n",
       "      <td>2304.110402</td>\n",
       "    </tr>\n",
       "    <tr>\n",
       "      <th>Condition 2_PosA</th>\n",
       "      <td>1940.619680</td>\n",
       "    </tr>\n",
       "    <tr>\n",
       "      <th>Condition 1_PosA</th>\n",
       "      <td>1865.374273</td>\n",
       "    </tr>\n",
       "    <tr>\n",
       "      <th>Neighborhood_BrkSide</th>\n",
       "      <td>1284.784462</td>\n",
       "    </tr>\n",
       "    <tr>\n",
       "      <th>Condition 2_PosN</th>\n",
       "      <td>1257.950214</td>\n",
       "    </tr>\n",
       "    <tr>\n",
       "      <th>Neighborhood_Somerst</th>\n",
       "      <td>1149.361747</td>\n",
       "    </tr>\n",
       "    <tr>\n",
       "      <th>Neighborhood_NAmes</th>\n",
       "      <td>625.344094</td>\n",
       "    </tr>\n",
       "    <tr>\n",
       "      <th>Neighborhood_Sawyer</th>\n",
       "      <td>351.770645</td>\n",
       "    </tr>\n",
       "    <tr>\n",
       "      <th>MS Zoning_I (all)</th>\n",
       "      <td>333.096632</td>\n",
       "    </tr>\n",
       "    <tr>\n",
       "      <th>Neighborhood_IDOTRR</th>\n",
       "      <td>252.922801</td>\n",
       "    </tr>\n",
       "    <tr>\n",
       "      <th>Condition 2_RRNn</th>\n",
       "      <td>173.413444</td>\n",
       "    </tr>\n",
       "    <tr>\n",
       "      <th>Lot Config_Inside</th>\n",
       "      <td>26.782506</td>\n",
       "    </tr>\n",
       "    <tr>\n",
       "      <th>Neighborhood_Mitchel</th>\n",
       "      <td>0.000000</td>\n",
       "    </tr>\n",
       "    <tr>\n",
       "      <th>Condition 1_Feedr</th>\n",
       "      <td>0.000000</td>\n",
       "    </tr>\n",
       "    <tr>\n",
       "      <th>MS Zoning_C (all)</th>\n",
       "      <td>0.000000</td>\n",
       "    </tr>\n",
       "    <tr>\n",
       "      <th>Condition 2_Norm</th>\n",
       "      <td>0.000000</td>\n",
       "    </tr>\n",
       "    <tr>\n",
       "      <th>Condition 1_RRAn</th>\n",
       "      <td>-0.000000</td>\n",
       "    </tr>\n",
       "    <tr>\n",
       "      <th>MS Zoning_RH</th>\n",
       "      <td>0.000000</td>\n",
       "    </tr>\n",
       "    <tr>\n",
       "      <th>MS Zoning_FV</th>\n",
       "      <td>-0.000000</td>\n",
       "    </tr>\n",
       "    <tr>\n",
       "      <th>Condition 1_RRNn</th>\n",
       "      <td>-0.000000</td>\n",
       "    </tr>\n",
       "    <tr>\n",
       "      <th>Condition 1_RRNe</th>\n",
       "      <td>-102.916462</td>\n",
       "    </tr>\n",
       "    <tr>\n",
       "      <th>Neighborhood_Greens</th>\n",
       "      <td>-141.169556</td>\n",
       "    </tr>\n",
       "    <tr>\n",
       "      <th>Condition 2_RRAn</th>\n",
       "      <td>-204.090640</td>\n",
       "    </tr>\n",
       "    <tr>\n",
       "      <th>Condition 2_Feedr</th>\n",
       "      <td>-210.070206</td>\n",
       "    </tr>\n",
       "    <tr>\n",
       "      <th>Condition 2_RRAe</th>\n",
       "      <td>-261.605252</td>\n",
       "    </tr>\n",
       "    <tr>\n",
       "      <th>Lot Config_FR3</th>\n",
       "      <td>-305.497644</td>\n",
       "    </tr>\n",
       "    <tr>\n",
       "      <th>Neighborhood_OldTown</th>\n",
       "      <td>-357.187717</td>\n",
       "    </tr>\n",
       "    <tr>\n",
       "      <th>Neighborhood_MeadowV</th>\n",
       "      <td>-427.843734</td>\n",
       "    </tr>\n",
       "    <tr>\n",
       "      <th>Neighborhood_Landmrk</th>\n",
       "      <td>-481.240242</td>\n",
       "    </tr>\n",
       "    <tr>\n",
       "      <th>Condition 1_RRAe</th>\n",
       "      <td>-519.269108</td>\n",
       "    </tr>\n",
       "    <tr>\n",
       "      <th>Neighborhood_SWISU</th>\n",
       "      <td>-688.675460</td>\n",
       "    </tr>\n",
       "    <tr>\n",
       "      <th>Neighborhood_CollgCr</th>\n",
       "      <td>-696.168774</td>\n",
       "    </tr>\n",
       "    <tr>\n",
       "      <th>Lot Config_FR2</th>\n",
       "      <td>-796.546773</td>\n",
       "    </tr>\n",
       "    <tr>\n",
       "      <th>Neighborhood_Blueste</th>\n",
       "      <td>-951.458737</td>\n",
       "    </tr>\n",
       "    <tr>\n",
       "      <th>Neighborhood_NWAmes</th>\n",
       "      <td>-988.348496</td>\n",
       "    </tr>\n",
       "    <tr>\n",
       "      <th>Neighborhood_Edwards</th>\n",
       "      <td>-1549.133942</td>\n",
       "    </tr>\n",
       "    <tr>\n",
       "      <th>MS Zoning_RM</th>\n",
       "      <td>-1577.577690</td>\n",
       "    </tr>\n",
       "    <tr>\n",
       "      <th>Neighborhood_SawyerW</th>\n",
       "      <td>-1715.284779</td>\n",
       "    </tr>\n",
       "    <tr>\n",
       "      <th>Neighborhood_NPkVill</th>\n",
       "      <td>-1881.241164</td>\n",
       "    </tr>\n",
       "    <tr>\n",
       "      <th>Neighborhood_Gilbert</th>\n",
       "      <td>-2136.745264</td>\n",
       "    </tr>\n",
       "    <tr>\n",
       "      <th>Neighborhood_BrDale</th>\n",
       "      <td>-2198.089631</td>\n",
       "    </tr>\n",
       "  </tbody>\n",
       "</table>\n",
       "</div>"
      ],
      "text/plain": [
       "                                 0\n",
       "Overall Qual          24890.048671\n",
       "Gr Liv Area           23977.887783\n",
       "Neighborhood_NridgHt  13108.771440\n",
       "Garage Area           10762.578771\n",
       "Year Built             8380.512340\n",
       "Neighborhood_StoneBr   8037.617353\n",
       "Year Remod/Add         5640.722027\n",
       "Neighborhood_NoRidge   5470.185794\n",
       "Neighborhood_Crawfor   4516.972711\n",
       "Lot Config_CulDSac     3118.770075\n",
       "Neighborhood_GrnHill   2994.201230\n",
       "Condition 1_PosN       2967.776502\n",
       "MS Zoning_RL           2770.006144\n",
       "Neighborhood_ClearCr   2599.829688\n",
       "Neighborhood_Timber    2475.812505\n",
       "Condition 1_Norm       2349.208746\n",
       "Neighborhood_Veenker   2304.110402\n",
       "Condition 2_PosA       1940.619680\n",
       "Condition 1_PosA       1865.374273\n",
       "Neighborhood_BrkSide   1284.784462\n",
       "Condition 2_PosN       1257.950214\n",
       "Neighborhood_Somerst   1149.361747\n",
       "Neighborhood_NAmes      625.344094\n",
       "Neighborhood_Sawyer     351.770645\n",
       "MS Zoning_I (all)       333.096632\n",
       "Neighborhood_IDOTRR     252.922801\n",
       "Condition 2_RRNn        173.413444\n",
       "Lot Config_Inside        26.782506\n",
       "Neighborhood_Mitchel      0.000000\n",
       "Condition 1_Feedr         0.000000\n",
       "MS Zoning_C (all)         0.000000\n",
       "Condition 2_Norm          0.000000\n",
       "Condition 1_RRAn         -0.000000\n",
       "MS Zoning_RH              0.000000\n",
       "MS Zoning_FV             -0.000000\n",
       "Condition 1_RRNn         -0.000000\n",
       "Condition 1_RRNe       -102.916462\n",
       "Neighborhood_Greens    -141.169556\n",
       "Condition 2_RRAn       -204.090640\n",
       "Condition 2_Feedr      -210.070206\n",
       "Condition 2_RRAe       -261.605252\n",
       "Lot Config_FR3         -305.497644\n",
       "Neighborhood_OldTown   -357.187717\n",
       "Neighborhood_MeadowV   -427.843734\n",
       "Neighborhood_Landmrk   -481.240242\n",
       "Condition 1_RRAe       -519.269108\n",
       "Neighborhood_SWISU     -688.675460\n",
       "Neighborhood_CollgCr   -696.168774\n",
       "Lot Config_FR2         -796.546773\n",
       "Neighborhood_Blueste   -951.458737\n",
       "Neighborhood_NWAmes    -988.348496\n",
       "Neighborhood_Edwards  -1549.133942\n",
       "MS Zoning_RM          -1577.577690\n",
       "Neighborhood_SawyerW  -1715.284779\n",
       "Neighborhood_NPkVill  -1881.241164\n",
       "Neighborhood_Gilbert  -2136.745264\n",
       "Neighborhood_BrDale   -2198.089631"
      ]
     },
     "execution_count": 616,
     "metadata": {},
     "output_type": "execute_result"
    }
   ],
   "source": [
    "pd.DataFrame(lassocv.coef_, X.columns).sort_values(by=0, ascending=False)"
   ]
  },
  {
   "cell_type": "markdown",
   "metadata": {},
   "source": [
    "## Ridge Regression with CV"
   ]
  },
  {
   "cell_type": "code",
   "execution_count": 617,
   "metadata": {},
   "outputs": [],
   "source": [
    "ridge = RidgeCV()\n",
    "\n",
    "ridge.fit(X_scaled, y)\n",
    "preds_scaled = ridge.predict(X_test_scaled)"
   ]
  },
  {
   "cell_type": "code",
   "execution_count": 618,
   "metadata": {},
   "outputs": [],
   "source": [
    "test['SalePrice'] = preds_scaled"
   ]
  },
  {
   "cell_type": "code",
   "execution_count": 619,
   "metadata": {},
   "outputs": [],
   "source": [
    "test[['Id', 'SalePrice']].to_csv('../data/submission_ridge_cv.csv', index=False)"
   ]
  },
  {
   "cell_type": "code",
   "execution_count": 620,
   "metadata": {},
   "outputs": [
    {
     "data": {
      "text/html": [
       "<div>\n",
       "<style scoped>\n",
       "    .dataframe tbody tr th:only-of-type {\n",
       "        vertical-align: middle;\n",
       "    }\n",
       "\n",
       "    .dataframe tbody tr th {\n",
       "        vertical-align: top;\n",
       "    }\n",
       "\n",
       "    .dataframe thead th {\n",
       "        text-align: right;\n",
       "    }\n",
       "</style>\n",
       "<table border=\"1\" class=\"dataframe\">\n",
       "  <thead>\n",
       "    <tr style=\"text-align: right;\">\n",
       "      <th></th>\n",
       "      <th>0</th>\n",
       "    </tr>\n",
       "  </thead>\n",
       "  <tbody>\n",
       "    <tr>\n",
       "      <th>Overall Qual</th>\n",
       "      <td>24560.234634</td>\n",
       "    </tr>\n",
       "    <tr>\n",
       "      <th>Gr Liv Area</th>\n",
       "      <td>24085.035322</td>\n",
       "    </tr>\n",
       "    <tr>\n",
       "      <th>Neighborhood_NridgHt</th>\n",
       "      <td>14139.839510</td>\n",
       "    </tr>\n",
       "    <tr>\n",
       "      <th>Garage Area</th>\n",
       "      <td>10624.597018</td>\n",
       "    </tr>\n",
       "    <tr>\n",
       "      <th>Year Built</th>\n",
       "      <td>9435.305169</td>\n",
       "    </tr>\n",
       "    <tr>\n",
       "      <th>Neighborhood_StoneBr</th>\n",
       "      <td>8676.718318</td>\n",
       "    </tr>\n",
       "    <tr>\n",
       "      <th>Neighborhood_NoRidge</th>\n",
       "      <td>6244.345225</td>\n",
       "    </tr>\n",
       "    <tr>\n",
       "      <th>Year Remod/Add</th>\n",
       "      <td>5928.148429</td>\n",
       "    </tr>\n",
       "    <tr>\n",
       "      <th>Neighborhood_Crawfor</th>\n",
       "      <td>5690.714516</td>\n",
       "    </tr>\n",
       "    <tr>\n",
       "      <th>Neighborhood_Somerst</th>\n",
       "      <td>3437.627133</td>\n",
       "    </tr>\n",
       "    <tr>\n",
       "      <th>Lot Config_CulDSac</th>\n",
       "      <td>3423.421547</td>\n",
       "    </tr>\n",
       "    <tr>\n",
       "      <th>Neighborhood_GrnHill</th>\n",
       "      <td>3364.808956</td>\n",
       "    </tr>\n",
       "    <tr>\n",
       "      <th>Neighborhood_ClearCr</th>\n",
       "      <td>3318.948954</td>\n",
       "    </tr>\n",
       "    <tr>\n",
       "      <th>Condition 1_PosN</th>\n",
       "      <td>3300.643320</td>\n",
       "    </tr>\n",
       "    <tr>\n",
       "      <th>Neighborhood_Timber</th>\n",
       "      <td>3229.772850</td>\n",
       "    </tr>\n",
       "    <tr>\n",
       "      <th>Condition 1_Norm</th>\n",
       "      <td>2967.577366</td>\n",
       "    </tr>\n",
       "    <tr>\n",
       "      <th>Neighborhood_Veenker</th>\n",
       "      <td>2926.162352</td>\n",
       "    </tr>\n",
       "    <tr>\n",
       "      <th>Neighborhood_BrkSide</th>\n",
       "      <td>2831.967725</td>\n",
       "    </tr>\n",
       "    <tr>\n",
       "      <th>Neighborhood_NAmes</th>\n",
       "      <td>2605.526861</td>\n",
       "    </tr>\n",
       "    <tr>\n",
       "      <th>MS Zoning_RL</th>\n",
       "      <td>2429.075064</td>\n",
       "    </tr>\n",
       "    <tr>\n",
       "      <th>Condition 2_PosA</th>\n",
       "      <td>2212.134896</td>\n",
       "    </tr>\n",
       "    <tr>\n",
       "      <th>Condition 1_PosA</th>\n",
       "      <td>2146.035162</td>\n",
       "    </tr>\n",
       "    <tr>\n",
       "      <th>Neighborhood_IDOTRR</th>\n",
       "      <td>1865.426355</td>\n",
       "    </tr>\n",
       "    <tr>\n",
       "      <th>Neighborhood_Sawyer</th>\n",
       "      <td>1755.134670</td>\n",
       "    </tr>\n",
       "    <tr>\n",
       "      <th>Condition 2_PosN</th>\n",
       "      <td>1425.828731</td>\n",
       "    </tr>\n",
       "    <tr>\n",
       "      <th>Neighborhood_OldTown</th>\n",
       "      <td>1411.494948</td>\n",
       "    </tr>\n",
       "    <tr>\n",
       "      <th>Neighborhood_Mitchel</th>\n",
       "      <td>870.673944</td>\n",
       "    </tr>\n",
       "    <tr>\n",
       "      <th>MS Zoning_I (all)</th>\n",
       "      <td>485.960378</td>\n",
       "    </tr>\n",
       "    <tr>\n",
       "      <th>Condition 2_RRNn</th>\n",
       "      <td>432.996283</td>\n",
       "    </tr>\n",
       "    <tr>\n",
       "      <th>Condition 1_Feedr</th>\n",
       "      <td>428.847492</td>\n",
       "    </tr>\n",
       "    <tr>\n",
       "      <th>Lot Config_Inside</th>\n",
       "      <td>377.950835</td>\n",
       "    </tr>\n",
       "    <tr>\n",
       "      <th>MS Zoning_RH</th>\n",
       "      <td>201.876366</td>\n",
       "    </tr>\n",
       "    <tr>\n",
       "      <th>Condition 2_Norm</th>\n",
       "      <td>193.531881</td>\n",
       "    </tr>\n",
       "    <tr>\n",
       "      <th>Neighborhood_CollgCr</th>\n",
       "      <td>84.541973</td>\n",
       "    </tr>\n",
       "    <tr>\n",
       "      <th>Condition 1_RRAn</th>\n",
       "      <td>63.913582</td>\n",
       "    </tr>\n",
       "    <tr>\n",
       "      <th>Condition 1_RRNn</th>\n",
       "      <td>-17.646053</td>\n",
       "    </tr>\n",
       "    <tr>\n",
       "      <th>Neighborhood_MeadowV</th>\n",
       "      <td>-113.745716</td>\n",
       "    </tr>\n",
       "    <tr>\n",
       "      <th>Neighborhood_Greens</th>\n",
       "      <td>-201.674552</td>\n",
       "    </tr>\n",
       "    <tr>\n",
       "      <th>Neighborhood_SWISU</th>\n",
       "      <td>-253.588283</td>\n",
       "    </tr>\n",
       "    <tr>\n",
       "      <th>Condition 2_Feedr</th>\n",
       "      <td>-286.063442</td>\n",
       "    </tr>\n",
       "    <tr>\n",
       "      <th>Neighborhood_NWAmes</th>\n",
       "      <td>-322.650528</td>\n",
       "    </tr>\n",
       "    <tr>\n",
       "      <th>MS Zoning_C (all)</th>\n",
       "      <td>-340.289410</td>\n",
       "    </tr>\n",
       "    <tr>\n",
       "      <th>Condition 1_RRNe</th>\n",
       "      <td>-351.175969</td>\n",
       "    </tr>\n",
       "    <tr>\n",
       "      <th>Condition 2_RRAn</th>\n",
       "      <td>-372.580676</td>\n",
       "    </tr>\n",
       "    <tr>\n",
       "      <th>Neighborhood_Edwards</th>\n",
       "      <td>-506.644673</td>\n",
       "    </tr>\n",
       "    <tr>\n",
       "      <th>Lot Config_FR3</th>\n",
       "      <td>-507.702735</td>\n",
       "    </tr>\n",
       "    <tr>\n",
       "      <th>Condition 2_RRAe</th>\n",
       "      <td>-515.432522</td>\n",
       "    </tr>\n",
       "    <tr>\n",
       "      <th>Condition 1_RRAe</th>\n",
       "      <td>-682.621826</td>\n",
       "    </tr>\n",
       "    <tr>\n",
       "      <th>Neighborhood_Landmrk</th>\n",
       "      <td>-712.813392</td>\n",
       "    </tr>\n",
       "    <tr>\n",
       "      <th>Neighborhood_Blueste</th>\n",
       "      <td>-899.774981</td>\n",
       "    </tr>\n",
       "    <tr>\n",
       "      <th>Lot Config_FR2</th>\n",
       "      <td>-988.553495</td>\n",
       "    </tr>\n",
       "    <tr>\n",
       "      <th>Neighborhood_SawyerW</th>\n",
       "      <td>-1160.069226</td>\n",
       "    </tr>\n",
       "    <tr>\n",
       "      <th>Neighborhood_Gilbert</th>\n",
       "      <td>-1535.319280</td>\n",
       "    </tr>\n",
       "    <tr>\n",
       "      <th>MS Zoning_FV</th>\n",
       "      <td>-1599.993842</td>\n",
       "    </tr>\n",
       "    <tr>\n",
       "      <th>Neighborhood_NPkVill</th>\n",
       "      <td>-1653.594698</td>\n",
       "    </tr>\n",
       "    <tr>\n",
       "      <th>Neighborhood_BrDale</th>\n",
       "      <td>-1898.509974</td>\n",
       "    </tr>\n",
       "    <tr>\n",
       "      <th>MS Zoning_RM</th>\n",
       "      <td>-2294.577845</td>\n",
       "    </tr>\n",
       "  </tbody>\n",
       "</table>\n",
       "</div>"
      ],
      "text/plain": [
       "                                 0\n",
       "Overall Qual          24560.234634\n",
       "Gr Liv Area           24085.035322\n",
       "Neighborhood_NridgHt  14139.839510\n",
       "Garage Area           10624.597018\n",
       "Year Built             9435.305169\n",
       "Neighborhood_StoneBr   8676.718318\n",
       "Neighborhood_NoRidge   6244.345225\n",
       "Year Remod/Add         5928.148429\n",
       "Neighborhood_Crawfor   5690.714516\n",
       "Neighborhood_Somerst   3437.627133\n",
       "Lot Config_CulDSac     3423.421547\n",
       "Neighborhood_GrnHill   3364.808956\n",
       "Neighborhood_ClearCr   3318.948954\n",
       "Condition 1_PosN       3300.643320\n",
       "Neighborhood_Timber    3229.772850\n",
       "Condition 1_Norm       2967.577366\n",
       "Neighborhood_Veenker   2926.162352\n",
       "Neighborhood_BrkSide   2831.967725\n",
       "Neighborhood_NAmes     2605.526861\n",
       "MS Zoning_RL           2429.075064\n",
       "Condition 2_PosA       2212.134896\n",
       "Condition 1_PosA       2146.035162\n",
       "Neighborhood_IDOTRR    1865.426355\n",
       "Neighborhood_Sawyer    1755.134670\n",
       "Condition 2_PosN       1425.828731\n",
       "Neighborhood_OldTown   1411.494948\n",
       "Neighborhood_Mitchel    870.673944\n",
       "MS Zoning_I (all)       485.960378\n",
       "Condition 2_RRNn        432.996283\n",
       "Condition 1_Feedr       428.847492\n",
       "Lot Config_Inside       377.950835\n",
       "MS Zoning_RH            201.876366\n",
       "Condition 2_Norm        193.531881\n",
       "Neighborhood_CollgCr     84.541973\n",
       "Condition 1_RRAn         63.913582\n",
       "Condition 1_RRNn        -17.646053\n",
       "Neighborhood_MeadowV   -113.745716\n",
       "Neighborhood_Greens    -201.674552\n",
       "Neighborhood_SWISU     -253.588283\n",
       "Condition 2_Feedr      -286.063442\n",
       "Neighborhood_NWAmes    -322.650528\n",
       "MS Zoning_C (all)      -340.289410\n",
       "Condition 1_RRNe       -351.175969\n",
       "Condition 2_RRAn       -372.580676\n",
       "Neighborhood_Edwards   -506.644673\n",
       "Lot Config_FR3         -507.702735\n",
       "Condition 2_RRAe       -515.432522\n",
       "Condition 1_RRAe       -682.621826\n",
       "Neighborhood_Landmrk   -712.813392\n",
       "Neighborhood_Blueste   -899.774981\n",
       "Lot Config_FR2         -988.553495\n",
       "Neighborhood_SawyerW  -1160.069226\n",
       "Neighborhood_Gilbert  -1535.319280\n",
       "MS Zoning_FV          -1599.993842\n",
       "Neighborhood_NPkVill  -1653.594698\n",
       "Neighborhood_BrDale   -1898.509974\n",
       "MS Zoning_RM          -2294.577845"
      ]
     },
     "execution_count": 620,
     "metadata": {},
     "output_type": "execute_result"
    }
   ],
   "source": [
    "pd.DataFrame(ridge.coef_, X.columns).sort_values(by=0, ascending=False)"
   ]
  },
  {
   "cell_type": "markdown",
   "metadata": {},
   "source": [
    "## Lasso Regression using interesting features and location features.\n",
    "\n",
    "Since this has been my best scoring model so far, I'm going to run it again but using only the features from my LinReg that also scored well, and using CV."
   ]
  },
  {
   "cell_type": "code",
   "execution_count": 621,
   "metadata": {},
   "outputs": [],
   "source": [
    "# Import data\n",
    "test = pd.read_csv('../data/test.csv')\n",
    "train = pd.read_csv('../data/train.csv')"
   ]
  },
  {
   "cell_type": "code",
   "execution_count": 622,
   "metadata": {},
   "outputs": [],
   "source": [
    "# List interesting features from reading data description\n",
    "interesting = [\n",
    "    'Neighborhood',\n",
    "    'Overall Qual',\n",
    "    'Gr Liv Area',\n",
    "    'Garage Area',\n",
    "    'Year Built',\n",
    "    'Year Remod/Add',\n",
    "    'SalePrice',\n",
    "]"
   ]
  },
  {
   "cell_type": "code",
   "execution_count": 623,
   "metadata": {},
   "outputs": [],
   "source": [
    "# Keep only interesting features\n",
    "train = train[interesting]\n"
   ]
  },
  {
   "cell_type": "code",
   "execution_count": 624,
   "metadata": {},
   "outputs": [
    {
     "data": {
      "text/plain": [
       "Neighborhood       object\n",
       "Overall Qual        int64\n",
       "Gr Liv Area         int64\n",
       "Garage Area       float64\n",
       "Year Built          int64\n",
       "Year Remod/Add      int64\n",
       "SalePrice           int64\n",
       "dtype: object"
      ]
     },
     "execution_count": 624,
     "metadata": {},
     "output_type": "execute_result"
    }
   ],
   "source": [
    "train.dtypes"
   ]
  },
  {
   "cell_type": "code",
   "execution_count": 625,
   "metadata": {},
   "outputs": [],
   "source": [
    "train['Garage Area'].fillna(0, inplace=True)\n",
    "test['Garage Area'].fillna(0, inplace=True)"
   ]
  },
  {
   "cell_type": "code",
   "execution_count": 626,
   "metadata": {},
   "outputs": [],
   "source": [
    "X_test = test[interesting[:-1]]\n",
    "X = train.drop(columns='SalePrice')\n",
    "y = train['SalePrice']"
   ]
  },
  {
   "cell_type": "code",
   "execution_count": 627,
   "metadata": {},
   "outputs": [],
   "source": [
    "# Use pandas .get_dummies() to binarize categorical columns. With help from https://stackoverflow.com/questions/32387266/converting-categorical-values-to-binary-using-pandas\n",
    "# Drop first binary column\n",
    "X_test = pd.get_dummies(X_test, drop_first=True)\n",
    "X = pd.get_dummies(X, drop_first=True)"
   ]
  },
  {
   "cell_type": "markdown",
   "metadata": {},
   "source": [
    "Missing columns in X_test: "
   ]
  },
  {
   "cell_type": "code",
   "execution_count": 628,
   "metadata": {},
   "outputs": [
    {
     "data": {
      "text/plain": [
       "['Neighborhood_GrnHill', 'Neighborhood_Landmrk']"
      ]
     },
     "execution_count": 628,
     "metadata": {},
     "output_type": "execute_result"
    }
   ],
   "source": [
    "missing = [col for col in X.columns if col not in X_test.columns]\n",
    "missing"
   ]
  },
  {
   "cell_type": "code",
   "execution_count": 629,
   "metadata": {},
   "outputs": [],
   "source": [
    "X_test[missing] = 0"
   ]
  },
  {
   "cell_type": "code",
   "execution_count": 630,
   "metadata": {},
   "outputs": [
    {
     "data": {
      "text/plain": [
       "(2051, 32)"
      ]
     },
     "execution_count": 630,
     "metadata": {},
     "output_type": "execute_result"
    }
   ],
   "source": [
    "X.shape"
   ]
  },
  {
   "cell_type": "code",
   "execution_count": 631,
   "metadata": {},
   "outputs": [
    {
     "data": {
      "text/plain": [
       "(878, 32)"
      ]
     },
     "execution_count": 631,
     "metadata": {},
     "output_type": "execute_result"
    }
   ],
   "source": [
    "X_test.shape"
   ]
  },
  {
   "cell_type": "code",
   "execution_count": 632,
   "metadata": {},
   "outputs": [],
   "source": [
    "# A little help here from https://stackoverflow.com/questions/11067027/re-ordering-columns-in-pandas-dataframe-based-on-column-name\n",
    "# Keeps dummies in same place as X\n",
    "X_test = X_test.reindex(sorted(X_test.columns), axis=1)\n",
    "X = X.reindex(sorted(X.columns), axis=1)\n"
   ]
  },
  {
   "cell_type": "code",
   "execution_count": 633,
   "metadata": {},
   "outputs": [
    {
     "data": {
      "text/plain": [
       "array([ True,  True,  True,  True,  True,  True,  True,  True,  True,\n",
       "        True,  True,  True,  True,  True,  True,  True,  True,  True,\n",
       "        True,  True,  True,  True,  True,  True,  True,  True,  True,\n",
       "        True,  True,  True,  True,  True])"
      ]
     },
     "execution_count": 633,
     "metadata": {},
     "output_type": "execute_result"
    }
   ],
   "source": [
    "X.columns == X_test.columns"
   ]
  },
  {
   "cell_type": "code",
   "execution_count": 634,
   "metadata": {},
   "outputs": [],
   "source": [
    "ss = StandardScaler()\n",
    "\n",
    "X_scaled = ss.fit_transform(X)\n",
    "X_test_scaled = ss.transform(X_test)"
   ]
  },
  {
   "cell_type": "code",
   "execution_count": 635,
   "metadata": {},
   "outputs": [
    {
     "data": {
      "text/plain": [
       "(2051, 32)"
      ]
     },
     "execution_count": 635,
     "metadata": {},
     "output_type": "execute_result"
    }
   ],
   "source": [
    "X_scaled.shape"
   ]
  },
  {
   "cell_type": "code",
   "execution_count": 636,
   "metadata": {},
   "outputs": [
    {
     "data": {
      "text/plain": [
       "(878, 32)"
      ]
     },
     "execution_count": 636,
     "metadata": {},
     "output_type": "execute_result"
    }
   ],
   "source": [
    "X_test_scaled.shape"
   ]
  },
  {
   "cell_type": "code",
   "execution_count": 637,
   "metadata": {},
   "outputs": [],
   "source": [
    "lasso = LassoCV(max_iter=10_000)\n",
    "\n",
    "lasso.fit(X_scaled, y)\n",
    "preds_scaled = lasso.predict(X_test_scaled)"
   ]
  },
  {
   "cell_type": "code",
   "execution_count": 638,
   "metadata": {},
   "outputs": [],
   "source": [
    "test['SalePrice'] = preds_scaled"
   ]
  },
  {
   "cell_type": "code",
   "execution_count": 639,
   "metadata": {},
   "outputs": [],
   "source": [
    "test[['Id', 'SalePrice']].to_csv('../data/submission_lasso_neigh_num.csv', index=False)"
   ]
  },
  {
   "cell_type": "code",
   "execution_count": 640,
   "metadata": {},
   "outputs": [
    {
     "data": {
      "text/html": [
       "<div>\n",
       "<style scoped>\n",
       "    .dataframe tbody tr th:only-of-type {\n",
       "        vertical-align: middle;\n",
       "    }\n",
       "\n",
       "    .dataframe tbody tr th {\n",
       "        vertical-align: top;\n",
       "    }\n",
       "\n",
       "    .dataframe thead th {\n",
       "        text-align: right;\n",
       "    }\n",
       "</style>\n",
       "<table border=\"1\" class=\"dataframe\">\n",
       "  <thead>\n",
       "    <tr style=\"text-align: right;\">\n",
       "      <th></th>\n",
       "      <th>0</th>\n",
       "    </tr>\n",
       "  </thead>\n",
       "  <tbody>\n",
       "    <tr>\n",
       "      <th>Overall Qual</th>\n",
       "      <td>25292.739105</td>\n",
       "    </tr>\n",
       "    <tr>\n",
       "      <th>Gr Liv Area</th>\n",
       "      <td>24167.878209</td>\n",
       "    </tr>\n",
       "    <tr>\n",
       "      <th>Neighborhood_NridgHt</th>\n",
       "      <td>13807.384528</td>\n",
       "    </tr>\n",
       "    <tr>\n",
       "      <th>Garage Area</th>\n",
       "      <td>11402.958529</td>\n",
       "    </tr>\n",
       "    <tr>\n",
       "      <th>Neighborhood_StoneBr</th>\n",
       "      <td>9504.286302</td>\n",
       "    </tr>\n",
       "    <tr>\n",
       "      <th>Year Built</th>\n",
       "      <td>8579.083115</td>\n",
       "    </tr>\n",
       "    <tr>\n",
       "      <th>Neighborhood_NoRidge</th>\n",
       "      <td>6235.967230</td>\n",
       "    </tr>\n",
       "    <tr>\n",
       "      <th>Year Remod/Add</th>\n",
       "      <td>5972.238929</td>\n",
       "    </tr>\n",
       "    <tr>\n",
       "      <th>Neighborhood_Crawfor</th>\n",
       "      <td>5449.158682</td>\n",
       "    </tr>\n",
       "    <tr>\n",
       "      <th>Neighborhood_ClearCr</th>\n",
       "      <td>3476.464373</td>\n",
       "    </tr>\n",
       "    <tr>\n",
       "      <th>Neighborhood_Timber</th>\n",
       "      <td>3457.848730</td>\n",
       "    </tr>\n",
       "    <tr>\n",
       "      <th>Neighborhood_GrnHill</th>\n",
       "      <td>2949.935675</td>\n",
       "    </tr>\n",
       "    <tr>\n",
       "      <th>Neighborhood_Veenker</th>\n",
       "      <td>2943.018462</td>\n",
       "    </tr>\n",
       "    <tr>\n",
       "      <th>Neighborhood_NAmes</th>\n",
       "      <td>2344.877649</td>\n",
       "    </tr>\n",
       "    <tr>\n",
       "      <th>Neighborhood_Sawyer</th>\n",
       "      <td>1265.341780</td>\n",
       "    </tr>\n",
       "    <tr>\n",
       "      <th>Neighborhood_BrkSide</th>\n",
       "      <td>803.041203</td>\n",
       "    </tr>\n",
       "    <tr>\n",
       "      <th>Neighborhood_Somerst</th>\n",
       "      <td>707.524471</td>\n",
       "    </tr>\n",
       "    <tr>\n",
       "      <th>Neighborhood_Mitchel</th>\n",
       "      <td>646.019148</td>\n",
       "    </tr>\n",
       "    <tr>\n",
       "      <th>Neighborhood_CollgCr</th>\n",
       "      <td>277.430867</td>\n",
       "    </tr>\n",
       "    <tr>\n",
       "      <th>Neighborhood_NWAmes</th>\n",
       "      <td>0.000000</td>\n",
       "    </tr>\n",
       "    <tr>\n",
       "      <th>Neighborhood_Greens</th>\n",
       "      <td>-180.565747</td>\n",
       "    </tr>\n",
       "    <tr>\n",
       "      <th>Neighborhood_IDOTRR</th>\n",
       "      <td>-405.728536</td>\n",
       "    </tr>\n",
       "    <tr>\n",
       "      <th>Neighborhood_SWISU</th>\n",
       "      <td>-553.067219</td>\n",
       "    </tr>\n",
       "    <tr>\n",
       "      <th>Neighborhood_Edwards</th>\n",
       "      <td>-607.740289</td>\n",
       "    </tr>\n",
       "    <tr>\n",
       "      <th>Neighborhood_Landmrk</th>\n",
       "      <td>-721.237740</td>\n",
       "    </tr>\n",
       "    <tr>\n",
       "      <th>Neighborhood_MeadowV</th>\n",
       "      <td>-1211.794716</td>\n",
       "    </tr>\n",
       "    <tr>\n",
       "      <th>Neighborhood_SawyerW</th>\n",
       "      <td>-1411.297115</td>\n",
       "    </tr>\n",
       "    <tr>\n",
       "      <th>Neighborhood_Gilbert</th>\n",
       "      <td>-1511.103338</td>\n",
       "    </tr>\n",
       "    <tr>\n",
       "      <th>Neighborhood_Blueste</th>\n",
       "      <td>-1517.589812</td>\n",
       "    </tr>\n",
       "    <tr>\n",
       "      <th>Neighborhood_NPkVill</th>\n",
       "      <td>-1821.522507</td>\n",
       "    </tr>\n",
       "    <tr>\n",
       "      <th>Neighborhood_OldTown</th>\n",
       "      <td>-1977.937718</td>\n",
       "    </tr>\n",
       "    <tr>\n",
       "      <th>Neighborhood_BrDale</th>\n",
       "      <td>-2954.057215</td>\n",
       "    </tr>\n",
       "  </tbody>\n",
       "</table>\n",
       "</div>"
      ],
      "text/plain": [
       "                                 0\n",
       "Overall Qual          25292.739105\n",
       "Gr Liv Area           24167.878209\n",
       "Neighborhood_NridgHt  13807.384528\n",
       "Garage Area           11402.958529\n",
       "Neighborhood_StoneBr   9504.286302\n",
       "Year Built             8579.083115\n",
       "Neighborhood_NoRidge   6235.967230\n",
       "Year Remod/Add         5972.238929\n",
       "Neighborhood_Crawfor   5449.158682\n",
       "Neighborhood_ClearCr   3476.464373\n",
       "Neighborhood_Timber    3457.848730\n",
       "Neighborhood_GrnHill   2949.935675\n",
       "Neighborhood_Veenker   2943.018462\n",
       "Neighborhood_NAmes     2344.877649\n",
       "Neighborhood_Sawyer    1265.341780\n",
       "Neighborhood_BrkSide    803.041203\n",
       "Neighborhood_Somerst    707.524471\n",
       "Neighborhood_Mitchel    646.019148\n",
       "Neighborhood_CollgCr    277.430867\n",
       "Neighborhood_NWAmes       0.000000\n",
       "Neighborhood_Greens    -180.565747\n",
       "Neighborhood_IDOTRR    -405.728536\n",
       "Neighborhood_SWISU     -553.067219\n",
       "Neighborhood_Edwards   -607.740289\n",
       "Neighborhood_Landmrk   -721.237740\n",
       "Neighborhood_MeadowV  -1211.794716\n",
       "Neighborhood_SawyerW  -1411.297115\n",
       "Neighborhood_Gilbert  -1511.103338\n",
       "Neighborhood_Blueste  -1517.589812\n",
       "Neighborhood_NPkVill  -1821.522507\n",
       "Neighborhood_OldTown  -1977.937718\n",
       "Neighborhood_BrDale   -2954.057215"
      ]
     },
     "execution_count": 640,
     "metadata": {},
     "output_type": "execute_result"
    }
   ],
   "source": [
    "pd.DataFrame(lasso.coef_, X.columns).sort_values(by=0, ascending=False)"
   ]
  },
  {
   "cell_type": "code",
   "execution_count": null,
   "metadata": {},
   "outputs": [],
   "source": []
  }
 ],
 "metadata": {
  "interpreter": {
   "hash": "f7a0f9bb49171c226bccce8a0987518af550515ba22b4949d7abe766c3680a51"
  },
  "kernelspec": {
   "display_name": "Python 3.9.7 64-bit ('base': conda)",
   "language": "python",
   "name": "python3"
  },
  "language_info": {
   "codemirror_mode": {
    "name": "ipython",
    "version": 3
   },
   "file_extension": ".py",
   "mimetype": "text/x-python",
   "name": "python",
   "nbconvert_exporter": "python",
   "pygments_lexer": "ipython3",
   "version": "3.9.7"
  },
  "orig_nbformat": 4
 },
 "nbformat": 4,
 "nbformat_minor": 2
}
