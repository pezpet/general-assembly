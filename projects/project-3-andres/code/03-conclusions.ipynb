{
 "cells": [
  {
   "cell_type": "markdown",
   "metadata": {},
   "source": [
    "# Conclusions and Recommendations"
   ]
  },
  {
   "cell_type": "markdown",
   "metadata": {},
   "source": [
    "## Data collection and EDA\n",
    "Data was succesfully collected for both subreddits after preemptively selecting relevant features. EDA brought up the issue of no 'selftext' for the UnsolvedMysteries subreddit. This was addressed by focusing on the title and author features instead. Data for both subreddits was very similar, making the classification problem interesting and any improvements above baseline veyr positive.\n",
    "\n",
    "## Models and Results\n",
    "Accuracy was chosen as our evaluation metric given the dataset was balanced and we were aiming simply to classify the origin of each post correctly.\n",
    "\n",
    "Baseline score was 52.18% and our best score on the 'title' test set was 65.28% accuracy using Count Vectorizer and a Logistic Regression, a 13.10% improvement over baseline that is quite positive given the similarity of both subreddits. Several other models were built using the 'title' but did not achieve better scores.\n",
    "\n",
    "### Author feature\n",
    "Using the author feature for modeling achieved better scores allthough NLP wasn't exactly necessary given authors were all single words. 75.14% accuracy on the test set was achieved using Count Vectorizer and Logistic Regression. Other models were built but did not obtain better accuracy.\n",
    "\n",
    "## Conclusion\n",
    "It is possible to predict what subreddit a post belongs to using it's title, allthough the accuracy isn't excellent. Accuracy is better when using the post's author as the feature."
   ]
  }
 ],
 "metadata": {
  "language_info": {
   "name": "python"
  },
  "orig_nbformat": 4
 },
 "nbformat": 4,
 "nbformat_minor": 2
}
