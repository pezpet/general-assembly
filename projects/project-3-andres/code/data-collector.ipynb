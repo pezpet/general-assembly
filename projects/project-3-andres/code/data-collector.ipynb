{
 "cells": [
  {
   "cell_type": "markdown",
   "metadata": {},
   "source": [
    "# Data Collector\n",
    "This notebook collects data from my selected subreddits and saves the data as csv files."
   ]
  },
  {
   "cell_type": "markdown",
   "metadata": {},
   "source": [
    "## Imports"
   ]
  },
  {
   "cell_type": "code",
   "execution_count": 8,
   "metadata": {},
   "outputs": [],
   "source": [
    "# Import necessary libraries\n",
    "import pandas as pd\n",
    "import numpy as np\n",
    "import datetime as dt\n",
    "import time\n",
    "import requests\n",
    "import json"
   ]
  },
  {
   "cell_type": "markdown",
   "metadata": {},
   "source": [
    "## Pushshift API\n",
    "\n",
    "Collect some data to test API."
   ]
  },
  {
   "cell_type": "code",
   "execution_count": 9,
   "metadata": {},
   "outputs": [
    {
     "data": {
      "text/html": [
       "<div>\n",
       "<style scoped>\n",
       "    .dataframe tbody tr th:only-of-type {\n",
       "        vertical-align: middle;\n",
       "    }\n",
       "\n",
       "    .dataframe tbody tr th {\n",
       "        vertical-align: top;\n",
       "    }\n",
       "\n",
       "    .dataframe thead th {\n",
       "        text-align: right;\n",
       "    }\n",
       "</style>\n",
       "<table border=\"1\" class=\"dataframe\">\n",
       "  <thead>\n",
       "    <tr style=\"text-align: right;\">\n",
       "      <th></th>\n",
       "      <th>all_awardings</th>\n",
       "      <th>allow_live_comments</th>\n",
       "      <th>author</th>\n",
       "      <th>author_flair_css_class</th>\n",
       "      <th>author_flair_richtext</th>\n",
       "      <th>author_flair_text</th>\n",
       "      <th>author_flair_type</th>\n",
       "      <th>author_fullname</th>\n",
       "      <th>author_is_blocked</th>\n",
       "      <th>author_patreon_flair</th>\n",
       "      <th>...</th>\n",
       "      <th>upvote_ratio</th>\n",
       "      <th>url</th>\n",
       "      <th>whitelist_status</th>\n",
       "      <th>wls</th>\n",
       "      <th>post_hint</th>\n",
       "      <th>preview</th>\n",
       "      <th>removed_by_category</th>\n",
       "      <th>author_flair_background_color</th>\n",
       "      <th>author_flair_text_color</th>\n",
       "      <th>banned_by</th>\n",
       "    </tr>\n",
       "  </thead>\n",
       "  <tbody>\n",
       "    <tr>\n",
       "      <th>0</th>\n",
       "      <td>[]</td>\n",
       "      <td>False</td>\n",
       "      <td>Ok-Development-5805</td>\n",
       "      <td>None</td>\n",
       "      <td>[]</td>\n",
       "      <td>None</td>\n",
       "      <td>text</td>\n",
       "      <td>t2_9womdgl4</td>\n",
       "      <td>False</td>\n",
       "      <td>False</td>\n",
       "      <td>...</td>\n",
       "      <td>1.0</td>\n",
       "      <td>https://www.reddit.com/r/UnresolvedMysteries/c...</td>\n",
       "      <td>all_ads</td>\n",
       "      <td>6</td>\n",
       "      <td>NaN</td>\n",
       "      <td>NaN</td>\n",
       "      <td>NaN</td>\n",
       "      <td>NaN</td>\n",
       "      <td>NaN</td>\n",
       "      <td>NaN</td>\n",
       "    </tr>\n",
       "    <tr>\n",
       "      <th>1</th>\n",
       "      <td>[]</td>\n",
       "      <td>False</td>\n",
       "      <td>Odd_Ad1962</td>\n",
       "      <td>None</td>\n",
       "      <td>[]</td>\n",
       "      <td>None</td>\n",
       "      <td>text</td>\n",
       "      <td>t2_5zvncy2o</td>\n",
       "      <td>False</td>\n",
       "      <td>False</td>\n",
       "      <td>...</td>\n",
       "      <td>1.0</td>\n",
       "      <td>https://www.reddit.com/r/UnresolvedMysteries/c...</td>\n",
       "      <td>all_ads</td>\n",
       "      <td>6</td>\n",
       "      <td>self</td>\n",
       "      <td>{'enabled': False, 'images': [{'id': 'hpInOvKp...</td>\n",
       "      <td>NaN</td>\n",
       "      <td>NaN</td>\n",
       "      <td>NaN</td>\n",
       "      <td>NaN</td>\n",
       "    </tr>\n",
       "    <tr>\n",
       "      <th>2</th>\n",
       "      <td>[]</td>\n",
       "      <td>False</td>\n",
       "      <td>Starasolum</td>\n",
       "      <td>None</td>\n",
       "      <td>[]</td>\n",
       "      <td>None</td>\n",
       "      <td>text</td>\n",
       "      <td>t2_agtepedt</td>\n",
       "      <td>False</td>\n",
       "      <td>False</td>\n",
       "      <td>...</td>\n",
       "      <td>1.0</td>\n",
       "      <td>https://www.reddit.com/r/UnresolvedMysteries/c...</td>\n",
       "      <td>all_ads</td>\n",
       "      <td>6</td>\n",
       "      <td>NaN</td>\n",
       "      <td>NaN</td>\n",
       "      <td>moderator</td>\n",
       "      <td>NaN</td>\n",
       "      <td>NaN</td>\n",
       "      <td>NaN</td>\n",
       "    </tr>\n",
       "    <tr>\n",
       "      <th>3</th>\n",
       "      <td>[]</td>\n",
       "      <td>False</td>\n",
       "      <td>SwissChocolate1024</td>\n",
       "      <td>None</td>\n",
       "      <td>[]</td>\n",
       "      <td>None</td>\n",
       "      <td>text</td>\n",
       "      <td>t2_303cypb</td>\n",
       "      <td>False</td>\n",
       "      <td>False</td>\n",
       "      <td>...</td>\n",
       "      <td>1.0</td>\n",
       "      <td>https://www.reddit.com/r/UnresolvedMysteries/c...</td>\n",
       "      <td>all_ads</td>\n",
       "      <td>6</td>\n",
       "      <td>self</td>\n",
       "      <td>{'enabled': False, 'images': [{'id': 'fzN5-DY-...</td>\n",
       "      <td>NaN</td>\n",
       "      <td>NaN</td>\n",
       "      <td>NaN</td>\n",
       "      <td>NaN</td>\n",
       "    </tr>\n",
       "    <tr>\n",
       "      <th>4</th>\n",
       "      <td>[]</td>\n",
       "      <td>False</td>\n",
       "      <td>HoloGalaxy</td>\n",
       "      <td>None</td>\n",
       "      <td>[]</td>\n",
       "      <td>None</td>\n",
       "      <td>text</td>\n",
       "      <td>t2_2jhn6qgk</td>\n",
       "      <td>False</td>\n",
       "      <td>False</td>\n",
       "      <td>...</td>\n",
       "      <td>1.0</td>\n",
       "      <td>https://www.reddit.com/r/UnresolvedMysteries/c...</td>\n",
       "      <td>all_ads</td>\n",
       "      <td>6</td>\n",
       "      <td>self</td>\n",
       "      <td>{'enabled': False, 'images': [{'id': 'qioXaA1R...</td>\n",
       "      <td>NaN</td>\n",
       "      <td>NaN</td>\n",
       "      <td>NaN</td>\n",
       "      <td>NaN</td>\n",
       "    </tr>\n",
       "  </tbody>\n",
       "</table>\n",
       "<p>5 rows × 69 columns</p>\n",
       "</div>"
      ],
      "text/plain": [
       "  all_awardings  allow_live_comments               author  \\\n",
       "0            []                False  Ok-Development-5805   \n",
       "1            []                False           Odd_Ad1962   \n",
       "2            []                False           Starasolum   \n",
       "3            []                False   SwissChocolate1024   \n",
       "4            []                False           HoloGalaxy   \n",
       "\n",
       "  author_flair_css_class author_flair_richtext author_flair_text  \\\n",
       "0                   None                    []              None   \n",
       "1                   None                    []              None   \n",
       "2                   None                    []              None   \n",
       "3                   None                    []              None   \n",
       "4                   None                    []              None   \n",
       "\n",
       "  author_flair_type author_fullname  author_is_blocked author_patreon_flair  \\\n",
       "0              text     t2_9womdgl4              False                False   \n",
       "1              text     t2_5zvncy2o              False                False   \n",
       "2              text     t2_agtepedt              False                False   \n",
       "3              text      t2_303cypb              False                False   \n",
       "4              text     t2_2jhn6qgk              False                False   \n",
       "\n",
       "   ... upvote_ratio                                                url  \\\n",
       "0  ...          1.0  https://www.reddit.com/r/UnresolvedMysteries/c...   \n",
       "1  ...          1.0  https://www.reddit.com/r/UnresolvedMysteries/c...   \n",
       "2  ...          1.0  https://www.reddit.com/r/UnresolvedMysteries/c...   \n",
       "3  ...          1.0  https://www.reddit.com/r/UnresolvedMysteries/c...   \n",
       "4  ...          1.0  https://www.reddit.com/r/UnresolvedMysteries/c...   \n",
       "\n",
       "   whitelist_status  wls  post_hint  \\\n",
       "0           all_ads    6        NaN   \n",
       "1           all_ads    6       self   \n",
       "2           all_ads    6        NaN   \n",
       "3           all_ads    6       self   \n",
       "4           all_ads    6       self   \n",
       "\n",
       "                                             preview removed_by_category  \\\n",
       "0                                                NaN                 NaN   \n",
       "1  {'enabled': False, 'images': [{'id': 'hpInOvKp...                 NaN   \n",
       "2                                                NaN           moderator   \n",
       "3  {'enabled': False, 'images': [{'id': 'fzN5-DY-...                 NaN   \n",
       "4  {'enabled': False, 'images': [{'id': 'qioXaA1R...                 NaN   \n",
       "\n",
       "  author_flair_background_color author_flair_text_color  banned_by  \n",
       "0                           NaN                     NaN        NaN  \n",
       "1                           NaN                     NaN        NaN  \n",
       "2                           NaN                     NaN        NaN  \n",
       "3                           NaN                     NaN        NaN  \n",
       "4                           NaN                     NaN        NaN  \n",
       "\n",
       "[5 rows x 69 columns]"
      ]
     },
     "execution_count": 9,
     "metadata": {},
     "output_type": "execute_result"
    }
   ],
   "source": [
    "# Pull data form the Pushshift API usign requests.get()\n",
    "# URL pulls submissions from UNresolvedMysteries subreddit, before a specific epoch time and gets 100 rows\n",
    "url = 'https://api.pushshift.io/reddit/search/submission/?subreddit=unresolvedmysteries&before=1642778603&size=100'\n",
    "res = requests.get(url)\n",
    "\n",
    "# Turn the response into a DataFrame and see the first 5 rows\n",
    "data = pd.DataFrame(res.json()['data'])\n",
    "data.head()"
   ]
  },
  {
   "cell_type": "markdown",
   "metadata": {},
   "source": [
    "Got data OK."
   ]
  },
  {
   "cell_type": "markdown",
   "metadata": {},
   "source": [
    "## Feature selection"
   ]
  },
  {
   "cell_type": "code",
   "execution_count": 10,
   "metadata": {},
   "outputs": [],
   "source": [
    "# List of features to include in data\n",
    "features = [\n",
    "    'author', \n",
    "    'created_utc',\n",
    "    'selftext',\n",
    "    'subreddit',\n",
    "    'title',\n",
    "    'total_awards_received',\n",
    "]"
   ]
  },
  {
   "cell_type": "markdown",
   "metadata": {},
   "source": [
    "## API request function\n",
    "This function pulls data from the API and keeps the features listed in [Feature selection](#feature-selection).\n",
    "\n",
    "Function improvements to-do:\n",
    "- ~~Get initial current time automatically~~\n",
    "- ~~Add DOCSTRING or similar~~\n",
    "- ~~Keep function from adding removed posts to DataFrame~~\n",
    "- ~~Add while loop so function runs until there are enough (500?) valid posts (not 'removed')~~"
   ]
  },
  {
   "cell_type": "code",
   "execution_count": 20,
   "metadata": {},
   "outputs": [],
   "source": [
    "# This function built on Chuck's Breakfast Hour example\n",
    "def pushshift_query(subreddit='unresolvedmysteries', features=features):\n",
    "    '''\n",
    "    Generate a DataFrame of posts (submissions) to a particular subreddit, including only a list of specified features from the submission.\n",
    "    \n",
    "    \n",
    "    Args:\n",
    "        subreddit (str): subreddit from which to retrieve posts\n",
    "        features (list): a list of valid features to include in resulting DataFrame\n",
    "        \n",
    "    Returns:\n",
    "        posts (DF): DataFrame containing valid posts and features\n",
    "    '''\n",
    "    current_time = int(time.time())\n",
    "    posts = []\n",
    "    while len(posts) < 1000:\n",
    "        url = f'https://api.pushshift.io/reddit/search/submission/?subreddit={subreddit}&before={current_time}&size=100'\n",
    "        res = requests.get(url)\n",
    "        print(res.status_code)\n",
    "        for post in res.json()['data']:\n",
    "            try:\n",
    "                if post['selftext'] == '[removed]':\n",
    "                    continue\n",
    "            except:\n",
    "                None\n",
    "            post_dict = {}\n",
    "            for feature in features:\n",
    "                try:\n",
    "                    post_dict[feature] = post[feature]\n",
    "                except:\n",
    "                    post_dict[feature] = np.nan\n",
    "            posts.append(post_dict)\n",
    "            current_time = pd.DataFrame(posts)['created_utc'].min()\n",
    "        print(f'Posts before {current_time}. Current data frame has {len(posts)} rows')\n",
    "        time.sleep(5)\n",
    "    return pd.DataFrame(posts)"
   ]
  },
  {
   "cell_type": "markdown",
   "metadata": {},
   "source": [
    "## r/UnresolvedMysteries Data\n",
    "\n",
    "Using the function defined in [API request function](#api-request-function) we collect data from the r/UnresolvedMysteries subreddit, and save the data to a .csv file."
   ]
  },
  {
   "cell_type": "code",
   "execution_count": 22,
   "metadata": {},
   "outputs": [
    {
     "name": "stdout",
     "output_type": "stream",
     "text": [
      "200\n",
      "Posts before 1642544274. Current data frame has 42 rows\n",
      "200\n",
      "Posts before 1642116931. Current data frame has 87 rows\n",
      "200\n",
      "Posts before 1641812756. Current data frame has 132 rows\n",
      "200\n",
      "Posts before 1641185195. Current data frame has 180 rows\n",
      "200\n",
      "Posts before 1640634755. Current data frame has 219 rows\n",
      "200\n",
      "Posts before 1640020520. Current data frame has 269 rows\n",
      "200\n",
      "Posts before 1639426720. Current data frame has 315 rows\n",
      "200\n",
      "Posts before 1638905201. Current data frame has 371 rows\n",
      "200\n",
      "Posts before 1638397065. Current data frame has 421 rows\n",
      "200\n",
      "Posts before 1637950274. Current data frame has 467 rows\n",
      "200\n",
      "Posts before 1637413379. Current data frame has 512 rows\n",
      "200\n",
      "Posts before 1637049743. Current data frame has 565 rows\n",
      "200\n",
      "Posts before 1636574329. Current data frame has 609 rows\n",
      "200\n",
      "Posts before 1636181319. Current data frame has 654 rows\n",
      "200\n",
      "Posts before 1635731561. Current data frame has 703 rows\n",
      "200\n",
      "Posts before 1635264432. Current data frame has 752 rows\n",
      "200\n",
      "Posts before 1634791403. Current data frame has 784 rows\n",
      "200\n",
      "Posts before 1634218017. Current data frame has 828 rows\n",
      "200\n",
      "Posts before 1633707259. Current data frame has 873 rows\n",
      "200\n",
      "Posts before 1633292799. Current data frame has 918 rows\n",
      "200\n",
      "Posts before 1632817976. Current data frame has 959 rows\n",
      "200\n",
      "Posts before 1632352888. Current data frame has 1005 rows\n"
     ]
    }
   ],
   "source": [
    "# Collect data from unresolved\n",
    "data_unre = pushshift_query(subreddit='unresolvedmysteries', features=features)"
   ]
  },
  {
   "cell_type": "code",
   "execution_count": 23,
   "metadata": {},
   "outputs": [
    {
     "data": {
      "text/plain": [
       "1"
      ]
     },
     "execution_count": 23,
     "metadata": {},
     "output_type": "execute_result"
    }
   ],
   "source": [
    "# Check for duplicates\n",
    "data_unre.duplicated().sum()"
   ]
  },
  {
   "cell_type": "code",
   "execution_count": 24,
   "metadata": {},
   "outputs": [
    {
     "data": {
      "text/plain": [
       "author                    0\n",
       "created_utc               0\n",
       "selftext                 28\n",
       "subreddit                 0\n",
       "title                     0\n",
       "total_awards_received     0\n",
       "dtype: int64"
      ]
     },
     "execution_count": 24,
     "metadata": {},
     "output_type": "execute_result"
    }
   ],
   "source": [
    "# Check for NaNs\n",
    "data_unre.isna().sum()"
   ]
  },
  {
   "cell_type": "code",
   "execution_count": 25,
   "metadata": {},
   "outputs": [
    {
     "data": {
      "text/plain": [
       "(1005, 6)"
      ]
     },
     "execution_count": 25,
     "metadata": {},
     "output_type": "execute_result"
    }
   ],
   "source": [
    "# Verify amount of posts collected\n",
    "data_unre.shape"
   ]
  },
  {
   "cell_type": "markdown",
   "metadata": {},
   "source": [
    "### Save to CSV file."
   ]
  },
  {
   "cell_type": "code",
   "execution_count": 26,
   "metadata": {},
   "outputs": [],
   "source": [
    "data_unre.to_csv('../data/unresolved.csv')"
   ]
  },
  {
   "cell_type": "markdown",
   "metadata": {},
   "source": [
    "## r/UnsolvedMysteries Data\n",
    "\n",
    "Using the function defined in [API request function](#api-request-function) we collect data from the r/UnsolvedMysteries subreddit, and save the data to a .csv file."
   ]
  },
  {
   "cell_type": "code",
   "execution_count": 27,
   "metadata": {},
   "outputs": [
    {
     "name": "stdout",
     "output_type": "stream",
     "text": [
      "200\n",
      "Posts before 1641337025. Current data frame has 100 rows\n",
      "200\n",
      "Posts before 1638912603. Current data frame has 200 rows\n",
      "200\n",
      "Posts before 1637080787. Current data frame has 300 rows\n",
      "200\n",
      "Posts before 1635131003. Current data frame has 400 rows\n",
      "200\n",
      "Posts before 1633669779. Current data frame has 499 rows\n",
      "200\n",
      "Posts before 1632099408. Current data frame has 599 rows\n",
      "200\n",
      "Posts before 1630473431. Current data frame has 699 rows\n",
      "200\n",
      "Posts before 1628094607. Current data frame has 799 rows\n",
      "200\n",
      "Posts before 1625934082. Current data frame has 899 rows\n",
      "200\n",
      "Posts before 1623758550. Current data frame has 999 rows\n",
      "200\n",
      "Posts before 1622291579. Current data frame has 1099 rows\n"
     ]
    }
   ],
   "source": [
    "data_unsol = pushshift_query(subreddit='unsolvedmysteries', features=features)"
   ]
  },
  {
   "cell_type": "markdown",
   "metadata": {},
   "source": [
    "### Save to CSV file."
   ]
  },
  {
   "cell_type": "code",
   "execution_count": 28,
   "metadata": {},
   "outputs": [],
   "source": [
    "data_unsol.to_csv('../data/unsolved.csv')"
   ]
  },
  {
   "cell_type": "markdown",
   "metadata": {},
   "source": [
    "## Check data for 'removed' posts"
   ]
  },
  {
   "cell_type": "code",
   "execution_count": 29,
   "metadata": {},
   "outputs": [
    {
     "data": {
      "text/plain": [
       "(0, 6)"
      ]
     },
     "execution_count": 29,
     "metadata": {},
     "output_type": "execute_result"
    }
   ],
   "source": [
    "data_unre[data_unre['selftext'] == '[removed]'].shape"
   ]
  },
  {
   "cell_type": "code",
   "execution_count": 30,
   "metadata": {},
   "outputs": [
    {
     "data": {
      "text/plain": [
       "(0, 6)"
      ]
     },
     "execution_count": 30,
     "metadata": {},
     "output_type": "execute_result"
    }
   ],
   "source": [
    "data_unsol[data_unsol['selftext'] == '[removed]'].shape"
   ]
  },
  {
   "cell_type": "code",
   "execution_count": null,
   "metadata": {},
   "outputs": [],
   "source": []
  }
 ],
 "metadata": {
  "interpreter": {
   "hash": "f7a0f9bb49171c226bccce8a0987518af550515ba22b4949d7abe766c3680a51"
  },
  "kernelspec": {
   "display_name": "Python 3.9.7 64-bit ('base': conda)",
   "language": "python",
   "name": "python3"
  },
  "language_info": {
   "codemirror_mode": {
    "name": "ipython",
    "version": 3
   },
   "file_extension": ".py",
   "mimetype": "text/x-python",
   "name": "python",
   "nbconvert_exporter": "python",
   "pygments_lexer": "ipython3",
   "version": "3.9.7"
  },
  "orig_nbformat": 4
 },
 "nbformat": 4,
 "nbformat_minor": 2
}
