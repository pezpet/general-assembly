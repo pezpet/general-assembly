{
 "cells": [
  {
   "cell_type": "markdown",
   "metadata": {},
   "source": [
    "# Preprocessing, Models and Results - Ames Housing Data\n",
    "\n",
    "Having cleaned and selected preliminary features, in this notebook we prepare the data for modeling, and model and score using Linear Regression, Lasso and Ridge."
   ]
  },
  {
   "cell_type": "markdown",
   "metadata": {},
   "source": [
    "## Import Data from EDA"
   ]
  },
  {
   "cell_type": "code",
   "execution_count": 11,
   "metadata": {},
   "outputs": [],
   "source": [
    "# Import the usual suspects\n",
    "import pandas as pd\n",
    "import numpy as np\n",
    "import matplotlib.pyplot as plt\n",
    "import seaborn as sns\n",
    "\n",
    "from sklearn.preprocessing import StandardScaler, OneHotEncoder, PolynomialFeatures\n",
    "from sklearn.linear_model import LinearRegression, Lasso, Ridge\n",
    "from sklearn.model_selection import train_test_split, GridSearchCV\n",
    "from sklearn.metrics import mean_squared_error\n",
    "from sklearn.compose import make_column_transformer, make_column_selector\n",
    "from sklearn.pipeline import make_pipeline\n",
    "from sklearn import set_config\n",
    "set_config(display='diagram')\n",
    "from sklearn.impute import SimpleImputer"
   ]
  },
  {
   "cell_type": "code",
   "execution_count": 12,
   "metadata": {},
   "outputs": [],
   "source": [
    "train = pd.read_csv('../data/train_cleaned.csv')\n",
    "train.drop(columns='Unnamed: 0', inplace=True)\n",
    "test = pd.read_csv('../data/test_cleaned.csv')\n",
    "test.drop(columns='Unnamed: 0', inplace=True)"
   ]
  },
  {
   "cell_type": "markdown",
   "metadata": {},
   "source": [
    "## Null-Baseline Model"
   ]
  },
  {
   "cell_type": "code",
   "execution_count": 13,
   "metadata": {},
   "outputs": [],
   "source": [
    "sale_means = np.full_like(train['SalePrice'], train['SalePrice'].mean())"
   ]
  },
  {
   "cell_type": "code",
   "execution_count": 14,
   "metadata": {},
   "outputs": [
    {
     "data": {
      "text/plain": [
       "79276.56098763898"
      ]
     },
     "execution_count": 14,
     "metadata": {},
     "output_type": "execute_result"
    }
   ],
   "source": [
    "mean_squared_error(train['SalePrice'], sale_means, squared=False)"
   ]
  },
  {
   "cell_type": "markdown",
   "metadata": {},
   "source": [
    "## Linear Regression Numericals\n",
    "\n",
    "Let's start with a simple Linear Regression on the numerical features selected in EDA."
   ]
  },
  {
   "cell_type": "code",
   "execution_count": 15,
   "metadata": {},
   "outputs": [],
   "source": [
    "X = train[['Overall Qual', 'Gr Liv Area', 'Garage Area', 'Year Built', 'Year Remod/Add']]\n",
    "y = train['SalePrice']"
   ]
  },
  {
   "cell_type": "code",
   "execution_count": 16,
   "metadata": {},
   "outputs": [],
   "source": [
    "X_train, X_test, y_train, y_test = train_test_split(X, y, random_state=1331)"
   ]
  },
  {
   "cell_type": "code",
   "execution_count": 17,
   "metadata": {},
   "outputs": [
    {
     "data": {
      "text/plain": [
       "0.7743928990861233"
      ]
     },
     "execution_count": 17,
     "metadata": {},
     "output_type": "execute_result"
    }
   ],
   "source": [
    "linreg = LinearRegression()\n",
    "linreg.fit(X_train, y_train)\n",
    "linreg.score(X_test, y_test)"
   ]
  },
  {
   "cell_type": "code",
   "execution_count": 18,
   "metadata": {},
   "outputs": [],
   "source": [
    "preds = linreg.predict(X_test)"
   ]
  },
  {
   "cell_type": "markdown",
   "metadata": {},
   "source": [
    "### RMSE"
   ]
  },
  {
   "cell_type": "code",
   "execution_count": 19,
   "metadata": {},
   "outputs": [
    {
     "data": {
      "text/plain": [
       "37279.67084087376"
      ]
     },
     "execution_count": 19,
     "metadata": {},
     "output_type": "execute_result"
    }
   ],
   "source": [
    "mean_squared_error(y_test, preds, squared=False)"
   ]
  },
  {
   "cell_type": "markdown",
   "metadata": {},
   "source": [
    "### Kaggle submission"
   ]
  },
  {
   "cell_type": "code",
   "execution_count": 20,
   "metadata": {},
   "outputs": [],
   "source": [
    "test['SalePrice'] = linreg.predict(test[['Overall Qual', 'Gr Liv Area', 'Garage Area', 'Year Built', 'Year Remod/Add']])"
   ]
  },
  {
   "cell_type": "code",
   "execution_count": 21,
   "metadata": {},
   "outputs": [],
   "source": [
    "test[['Id', 'SalePrice']].to_csv('../data/submission_baseline.csv', index=False)"
   ]
  },
  {
   "cell_type": "markdown",
   "metadata": {},
   "source": [
    "## Location, Location, Location model\n",
    "Fit a Linear Regression using only the Neighborhoods features."
   ]
  },
  {
   "cell_type": "code",
   "execution_count": 22,
   "metadata": {},
   "outputs": [],
   "source": [
    "X = train[['Neighborhood']]\n",
    "y = train['SalePrice']\n",
    "kaggle = test[['Neighborhood']]"
   ]
  },
  {
   "cell_type": "code",
   "execution_count": 23,
   "metadata": {},
   "outputs": [],
   "source": [
    "X_train, X_test, y_train, y_test = train_test_split(X, y, random_state=1331)"
   ]
  },
  {
   "cell_type": "code",
   "execution_count": 24,
   "metadata": {},
   "outputs": [
    {
     "data": {
      "text/html": [
       "<style>#sk-e1797839-4028-4345-a88a-bdb49e6cc075 {color: black;background-color: white;}#sk-e1797839-4028-4345-a88a-bdb49e6cc075 pre{padding: 0;}#sk-e1797839-4028-4345-a88a-bdb49e6cc075 div.sk-toggleable {background-color: white;}#sk-e1797839-4028-4345-a88a-bdb49e6cc075 label.sk-toggleable__label {cursor: pointer;display: block;width: 100%;margin-bottom: 0;padding: 0.3em;box-sizing: border-box;text-align: center;}#sk-e1797839-4028-4345-a88a-bdb49e6cc075 label.sk-toggleable__label-arrow:before {content: \"▸\";float: left;margin-right: 0.25em;color: #696969;}#sk-e1797839-4028-4345-a88a-bdb49e6cc075 label.sk-toggleable__label-arrow:hover:before {color: black;}#sk-e1797839-4028-4345-a88a-bdb49e6cc075 div.sk-estimator:hover label.sk-toggleable__label-arrow:before {color: black;}#sk-e1797839-4028-4345-a88a-bdb49e6cc075 div.sk-toggleable__content {max-height: 0;max-width: 0;overflow: hidden;text-align: left;background-color: #f0f8ff;}#sk-e1797839-4028-4345-a88a-bdb49e6cc075 div.sk-toggleable__content pre {margin: 0.2em;color: black;border-radius: 0.25em;background-color: #f0f8ff;}#sk-e1797839-4028-4345-a88a-bdb49e6cc075 input.sk-toggleable__control:checked~div.sk-toggleable__content {max-height: 200px;max-width: 100%;overflow: auto;}#sk-e1797839-4028-4345-a88a-bdb49e6cc075 input.sk-toggleable__control:checked~label.sk-toggleable__label-arrow:before {content: \"▾\";}#sk-e1797839-4028-4345-a88a-bdb49e6cc075 div.sk-estimator input.sk-toggleable__control:checked~label.sk-toggleable__label {background-color: #d4ebff;}#sk-e1797839-4028-4345-a88a-bdb49e6cc075 div.sk-label input.sk-toggleable__control:checked~label.sk-toggleable__label {background-color: #d4ebff;}#sk-e1797839-4028-4345-a88a-bdb49e6cc075 input.sk-hidden--visually {border: 0;clip: rect(1px 1px 1px 1px);clip: rect(1px, 1px, 1px, 1px);height: 1px;margin: -1px;overflow: hidden;padding: 0;position: absolute;width: 1px;}#sk-e1797839-4028-4345-a88a-bdb49e6cc075 div.sk-estimator {font-family: monospace;background-color: #f0f8ff;border: 1px dotted black;border-radius: 0.25em;box-sizing: border-box;margin-bottom: 0.5em;}#sk-e1797839-4028-4345-a88a-bdb49e6cc075 div.sk-estimator:hover {background-color: #d4ebff;}#sk-e1797839-4028-4345-a88a-bdb49e6cc075 div.sk-parallel-item::after {content: \"\";width: 100%;border-bottom: 1px solid gray;flex-grow: 1;}#sk-e1797839-4028-4345-a88a-bdb49e6cc075 div.sk-label:hover label.sk-toggleable__label {background-color: #d4ebff;}#sk-e1797839-4028-4345-a88a-bdb49e6cc075 div.sk-serial::before {content: \"\";position: absolute;border-left: 1px solid gray;box-sizing: border-box;top: 2em;bottom: 0;left: 50%;}#sk-e1797839-4028-4345-a88a-bdb49e6cc075 div.sk-serial {display: flex;flex-direction: column;align-items: center;background-color: white;padding-right: 0.2em;padding-left: 0.2em;}#sk-e1797839-4028-4345-a88a-bdb49e6cc075 div.sk-item {z-index: 1;}#sk-e1797839-4028-4345-a88a-bdb49e6cc075 div.sk-parallel {display: flex;align-items: stretch;justify-content: center;background-color: white;}#sk-e1797839-4028-4345-a88a-bdb49e6cc075 div.sk-parallel::before {content: \"\";position: absolute;border-left: 1px solid gray;box-sizing: border-box;top: 2em;bottom: 0;left: 50%;}#sk-e1797839-4028-4345-a88a-bdb49e6cc075 div.sk-parallel-item {display: flex;flex-direction: column;position: relative;background-color: white;}#sk-e1797839-4028-4345-a88a-bdb49e6cc075 div.sk-parallel-item:first-child::after {align-self: flex-end;width: 50%;}#sk-e1797839-4028-4345-a88a-bdb49e6cc075 div.sk-parallel-item:last-child::after {align-self: flex-start;width: 50%;}#sk-e1797839-4028-4345-a88a-bdb49e6cc075 div.sk-parallel-item:only-child::after {width: 0;}#sk-e1797839-4028-4345-a88a-bdb49e6cc075 div.sk-dashed-wrapped {border: 1px dashed gray;margin: 0 0.4em 0.5em 0.4em;box-sizing: border-box;padding-bottom: 0.4em;background-color: white;position: relative;}#sk-e1797839-4028-4345-a88a-bdb49e6cc075 div.sk-label label {font-family: monospace;font-weight: bold;background-color: white;display: inline-block;line-height: 1.2em;}#sk-e1797839-4028-4345-a88a-bdb49e6cc075 div.sk-label-container {position: relative;z-index: 2;text-align: center;}#sk-e1797839-4028-4345-a88a-bdb49e6cc075 div.sk-container {/* jupyter's `normalize.less` sets `[hidden] { display: none; }` but bootstrap.min.css set `[hidden] { display: none !important; }` so we also need the `!important` here to be able to override the default hidden behavior on the sphinx rendered scikit-learn.org. See: https://github.com/scikit-learn/scikit-learn/issues/21755 */display: inline-block !important;position: relative;}#sk-e1797839-4028-4345-a88a-bdb49e6cc075 div.sk-text-repr-fallback {display: none;}</style><div id=\"sk-e1797839-4028-4345-a88a-bdb49e6cc075\" class=\"sk-top-container\"><div class=\"sk-text-repr-fallback\"><pre>ColumnTransformer(remainder=&#x27;passthrough&#x27;,\n",
       "                  transformers=[(&#x27;onehotencoder&#x27;,\n",
       "                                 OneHotEncoder(handle_unknown=&#x27;ignore&#x27;),\n",
       "                                 &lt;sklearn.compose._column_transformer.make_column_selector object at 0x7faa4f490310&gt;)],\n",
       "                  verbose_feature_names_out=False)</pre><b>Please rerun this cell to show the HTML repr or trust the notebook.</b></div><div class=\"sk-container\" hidden><div class=\"sk-item sk-dashed-wrapped\"><div class=\"sk-label-container\"><div class=\"sk-label sk-toggleable\"><input class=\"sk-toggleable__control sk-hidden--visually\" id=\"8e650d75-34b8-4663-841b-32711af62d9d\" type=\"checkbox\" ><label for=\"8e650d75-34b8-4663-841b-32711af62d9d\" class=\"sk-toggleable__label sk-toggleable__label-arrow\">ColumnTransformer</label><div class=\"sk-toggleable__content\"><pre>ColumnTransformer(remainder=&#x27;passthrough&#x27;,\n",
       "                  transformers=[(&#x27;onehotencoder&#x27;,\n",
       "                                 OneHotEncoder(handle_unknown=&#x27;ignore&#x27;),\n",
       "                                 &lt;sklearn.compose._column_transformer.make_column_selector object at 0x7faa4f490310&gt;)],\n",
       "                  verbose_feature_names_out=False)</pre></div></div></div><div class=\"sk-parallel\"><div class=\"sk-parallel-item\"><div class=\"sk-item\"><div class=\"sk-label-container\"><div class=\"sk-label sk-toggleable\"><input class=\"sk-toggleable__control sk-hidden--visually\" id=\"f4618f0b-4238-4bc0-9cc2-c78a236a25bb\" type=\"checkbox\" ><label for=\"f4618f0b-4238-4bc0-9cc2-c78a236a25bb\" class=\"sk-toggleable__label sk-toggleable__label-arrow\">onehotencoder</label><div class=\"sk-toggleable__content\"><pre>&lt;sklearn.compose._column_transformer.make_column_selector object at 0x7faa4f490310&gt;</pre></div></div></div><div class=\"sk-serial\"><div class=\"sk-item\"><div class=\"sk-estimator sk-toggleable\"><input class=\"sk-toggleable__control sk-hidden--visually\" id=\"65dda41a-a6e6-476b-a0bd-d114e567cd44\" type=\"checkbox\" ><label for=\"65dda41a-a6e6-476b-a0bd-d114e567cd44\" class=\"sk-toggleable__label sk-toggleable__label-arrow\">OneHotEncoder</label><div class=\"sk-toggleable__content\"><pre>OneHotEncoder(handle_unknown=&#x27;ignore&#x27;)</pre></div></div></div></div></div></div><div class=\"sk-parallel-item\"><div class=\"sk-item\"><div class=\"sk-label-container\"><div class=\"sk-label sk-toggleable\"><input class=\"sk-toggleable__control sk-hidden--visually\" id=\"5e6e43b7-9f67-4512-9df4-30547ba36b26\" type=\"checkbox\" ><label for=\"5e6e43b7-9f67-4512-9df4-30547ba36b26\" class=\"sk-toggleable__label sk-toggleable__label-arrow\">remainder</label><div class=\"sk-toggleable__content\"><pre></pre></div></div></div><div class=\"sk-serial\"><div class=\"sk-item\"><div class=\"sk-estimator sk-toggleable\"><input class=\"sk-toggleable__control sk-hidden--visually\" id=\"20a38323-d395-417b-8b80-76659634e3a0\" type=\"checkbox\" ><label for=\"20a38323-d395-417b-8b80-76659634e3a0\" class=\"sk-toggleable__label sk-toggleable__label-arrow\">passthrough</label><div class=\"sk-toggleable__content\"><pre>passthrough</pre></div></div></div></div></div></div></div></div></div></div>"
      ],
      "text/plain": [
       "ColumnTransformer(remainder='passthrough',\n",
       "                  transformers=[('onehotencoder',\n",
       "                                 OneHotEncoder(handle_unknown='ignore'),\n",
       "                                 <sklearn.compose._column_transformer.make_column_selector object at 0x7faa4f490310>)],\n",
       "                  verbose_feature_names_out=False)"
      ]
     },
     "execution_count": 24,
     "metadata": {},
     "output_type": "execute_result"
    }
   ],
   "source": [
    "ct = make_column_transformer(\n",
    "    (OneHotEncoder(handle_unknown='ignore'), make_column_selector(dtype_include=object)),\n",
    "    remainder='passthrough',\n",
    "    verbose_feature_names_out=False\n",
    ")\n",
    "ct"
   ]
  },
  {
   "cell_type": "code",
   "execution_count": 25,
   "metadata": {},
   "outputs": [
    {
     "data": {
      "text/html": [
       "<style>#sk-99350daf-1281-4cc1-9c42-d356f8c99662 {color: black;background-color: white;}#sk-99350daf-1281-4cc1-9c42-d356f8c99662 pre{padding: 0;}#sk-99350daf-1281-4cc1-9c42-d356f8c99662 div.sk-toggleable {background-color: white;}#sk-99350daf-1281-4cc1-9c42-d356f8c99662 label.sk-toggleable__label {cursor: pointer;display: block;width: 100%;margin-bottom: 0;padding: 0.3em;box-sizing: border-box;text-align: center;}#sk-99350daf-1281-4cc1-9c42-d356f8c99662 label.sk-toggleable__label-arrow:before {content: \"▸\";float: left;margin-right: 0.25em;color: #696969;}#sk-99350daf-1281-4cc1-9c42-d356f8c99662 label.sk-toggleable__label-arrow:hover:before {color: black;}#sk-99350daf-1281-4cc1-9c42-d356f8c99662 div.sk-estimator:hover label.sk-toggleable__label-arrow:before {color: black;}#sk-99350daf-1281-4cc1-9c42-d356f8c99662 div.sk-toggleable__content {max-height: 0;max-width: 0;overflow: hidden;text-align: left;background-color: #f0f8ff;}#sk-99350daf-1281-4cc1-9c42-d356f8c99662 div.sk-toggleable__content pre {margin: 0.2em;color: black;border-radius: 0.25em;background-color: #f0f8ff;}#sk-99350daf-1281-4cc1-9c42-d356f8c99662 input.sk-toggleable__control:checked~div.sk-toggleable__content {max-height: 200px;max-width: 100%;overflow: auto;}#sk-99350daf-1281-4cc1-9c42-d356f8c99662 input.sk-toggleable__control:checked~label.sk-toggleable__label-arrow:before {content: \"▾\";}#sk-99350daf-1281-4cc1-9c42-d356f8c99662 div.sk-estimator input.sk-toggleable__control:checked~label.sk-toggleable__label {background-color: #d4ebff;}#sk-99350daf-1281-4cc1-9c42-d356f8c99662 div.sk-label input.sk-toggleable__control:checked~label.sk-toggleable__label {background-color: #d4ebff;}#sk-99350daf-1281-4cc1-9c42-d356f8c99662 input.sk-hidden--visually {border: 0;clip: rect(1px 1px 1px 1px);clip: rect(1px, 1px, 1px, 1px);height: 1px;margin: -1px;overflow: hidden;padding: 0;position: absolute;width: 1px;}#sk-99350daf-1281-4cc1-9c42-d356f8c99662 div.sk-estimator {font-family: monospace;background-color: #f0f8ff;border: 1px dotted black;border-radius: 0.25em;box-sizing: border-box;margin-bottom: 0.5em;}#sk-99350daf-1281-4cc1-9c42-d356f8c99662 div.sk-estimator:hover {background-color: #d4ebff;}#sk-99350daf-1281-4cc1-9c42-d356f8c99662 div.sk-parallel-item::after {content: \"\";width: 100%;border-bottom: 1px solid gray;flex-grow: 1;}#sk-99350daf-1281-4cc1-9c42-d356f8c99662 div.sk-label:hover label.sk-toggleable__label {background-color: #d4ebff;}#sk-99350daf-1281-4cc1-9c42-d356f8c99662 div.sk-serial::before {content: \"\";position: absolute;border-left: 1px solid gray;box-sizing: border-box;top: 2em;bottom: 0;left: 50%;}#sk-99350daf-1281-4cc1-9c42-d356f8c99662 div.sk-serial {display: flex;flex-direction: column;align-items: center;background-color: white;padding-right: 0.2em;padding-left: 0.2em;}#sk-99350daf-1281-4cc1-9c42-d356f8c99662 div.sk-item {z-index: 1;}#sk-99350daf-1281-4cc1-9c42-d356f8c99662 div.sk-parallel {display: flex;align-items: stretch;justify-content: center;background-color: white;}#sk-99350daf-1281-4cc1-9c42-d356f8c99662 div.sk-parallel::before {content: \"\";position: absolute;border-left: 1px solid gray;box-sizing: border-box;top: 2em;bottom: 0;left: 50%;}#sk-99350daf-1281-4cc1-9c42-d356f8c99662 div.sk-parallel-item {display: flex;flex-direction: column;position: relative;background-color: white;}#sk-99350daf-1281-4cc1-9c42-d356f8c99662 div.sk-parallel-item:first-child::after {align-self: flex-end;width: 50%;}#sk-99350daf-1281-4cc1-9c42-d356f8c99662 div.sk-parallel-item:last-child::after {align-self: flex-start;width: 50%;}#sk-99350daf-1281-4cc1-9c42-d356f8c99662 div.sk-parallel-item:only-child::after {width: 0;}#sk-99350daf-1281-4cc1-9c42-d356f8c99662 div.sk-dashed-wrapped {border: 1px dashed gray;margin: 0 0.4em 0.5em 0.4em;box-sizing: border-box;padding-bottom: 0.4em;background-color: white;position: relative;}#sk-99350daf-1281-4cc1-9c42-d356f8c99662 div.sk-label label {font-family: monospace;font-weight: bold;background-color: white;display: inline-block;line-height: 1.2em;}#sk-99350daf-1281-4cc1-9c42-d356f8c99662 div.sk-label-container {position: relative;z-index: 2;text-align: center;}#sk-99350daf-1281-4cc1-9c42-d356f8c99662 div.sk-container {/* jupyter's `normalize.less` sets `[hidden] { display: none; }` but bootstrap.min.css set `[hidden] { display: none !important; }` so we also need the `!important` here to be able to override the default hidden behavior on the sphinx rendered scikit-learn.org. See: https://github.com/scikit-learn/scikit-learn/issues/21755 */display: inline-block !important;position: relative;}#sk-99350daf-1281-4cc1-9c42-d356f8c99662 div.sk-text-repr-fallback {display: none;}</style><div id=\"sk-99350daf-1281-4cc1-9c42-d356f8c99662\" class=\"sk-top-container\"><div class=\"sk-text-repr-fallback\"><pre>Pipeline(steps=[(&#x27;columntransformer&#x27;,\n",
       "                 ColumnTransformer(remainder=&#x27;passthrough&#x27;,\n",
       "                                   transformers=[(&#x27;onehotencoder&#x27;,\n",
       "                                                  OneHotEncoder(handle_unknown=&#x27;ignore&#x27;),\n",
       "                                                  &lt;sklearn.compose._column_transformer.make_column_selector object at 0x7faa4f490310&gt;)],\n",
       "                                   verbose_feature_names_out=False)),\n",
       "                (&#x27;standardscaler&#x27;, StandardScaler(with_mean=False)),\n",
       "                (&#x27;linearregression&#x27;, LinearRegression())])</pre><b>Please rerun this cell to show the HTML repr or trust the notebook.</b></div><div class=\"sk-container\" hidden><div class=\"sk-item sk-dashed-wrapped\"><div class=\"sk-label-container\"><div class=\"sk-label sk-toggleable\"><input class=\"sk-toggleable__control sk-hidden--visually\" id=\"f413f942-7afe-49a0-9ee8-b075261f22db\" type=\"checkbox\" ><label for=\"f413f942-7afe-49a0-9ee8-b075261f22db\" class=\"sk-toggleable__label sk-toggleable__label-arrow\">Pipeline</label><div class=\"sk-toggleable__content\"><pre>Pipeline(steps=[(&#x27;columntransformer&#x27;,\n",
       "                 ColumnTransformer(remainder=&#x27;passthrough&#x27;,\n",
       "                                   transformers=[(&#x27;onehotencoder&#x27;,\n",
       "                                                  OneHotEncoder(handle_unknown=&#x27;ignore&#x27;),\n",
       "                                                  &lt;sklearn.compose._column_transformer.make_column_selector object at 0x7faa4f490310&gt;)],\n",
       "                                   verbose_feature_names_out=False)),\n",
       "                (&#x27;standardscaler&#x27;, StandardScaler(with_mean=False)),\n",
       "                (&#x27;linearregression&#x27;, LinearRegression())])</pre></div></div></div><div class=\"sk-serial\"><div class=\"sk-item sk-dashed-wrapped\"><div class=\"sk-label-container\"><div class=\"sk-label sk-toggleable\"><input class=\"sk-toggleable__control sk-hidden--visually\" id=\"55a8d941-8e1d-4782-ac64-dc857046c808\" type=\"checkbox\" ><label for=\"55a8d941-8e1d-4782-ac64-dc857046c808\" class=\"sk-toggleable__label sk-toggleable__label-arrow\">columntransformer: ColumnTransformer</label><div class=\"sk-toggleable__content\"><pre>ColumnTransformer(remainder=&#x27;passthrough&#x27;,\n",
       "                  transformers=[(&#x27;onehotencoder&#x27;,\n",
       "                                 OneHotEncoder(handle_unknown=&#x27;ignore&#x27;),\n",
       "                                 &lt;sklearn.compose._column_transformer.make_column_selector object at 0x7faa4f490310&gt;)],\n",
       "                  verbose_feature_names_out=False)</pre></div></div></div><div class=\"sk-parallel\"><div class=\"sk-parallel-item\"><div class=\"sk-item\"><div class=\"sk-label-container\"><div class=\"sk-label sk-toggleable\"><input class=\"sk-toggleable__control sk-hidden--visually\" id=\"f1bfcc25-f7fb-499f-be6d-58acbc8e04c9\" type=\"checkbox\" ><label for=\"f1bfcc25-f7fb-499f-be6d-58acbc8e04c9\" class=\"sk-toggleable__label sk-toggleable__label-arrow\">onehotencoder</label><div class=\"sk-toggleable__content\"><pre>&lt;sklearn.compose._column_transformer.make_column_selector object at 0x7faa4f490310&gt;</pre></div></div></div><div class=\"sk-serial\"><div class=\"sk-item\"><div class=\"sk-estimator sk-toggleable\"><input class=\"sk-toggleable__control sk-hidden--visually\" id=\"38423aba-127f-4607-9cc1-3f63f15a68ab\" type=\"checkbox\" ><label for=\"38423aba-127f-4607-9cc1-3f63f15a68ab\" class=\"sk-toggleable__label sk-toggleable__label-arrow\">OneHotEncoder</label><div class=\"sk-toggleable__content\"><pre>OneHotEncoder(handle_unknown=&#x27;ignore&#x27;)</pre></div></div></div></div></div></div><div class=\"sk-parallel-item\"><div class=\"sk-item\"><div class=\"sk-label-container\"><div class=\"sk-label sk-toggleable\"><input class=\"sk-toggleable__control sk-hidden--visually\" id=\"7b2f5fac-7746-4f9c-a09c-1067b87dacff\" type=\"checkbox\" ><label for=\"7b2f5fac-7746-4f9c-a09c-1067b87dacff\" class=\"sk-toggleable__label sk-toggleable__label-arrow\">remainder</label><div class=\"sk-toggleable__content\"><pre></pre></div></div></div><div class=\"sk-serial\"><div class=\"sk-item\"><div class=\"sk-estimator sk-toggleable\"><input class=\"sk-toggleable__control sk-hidden--visually\" id=\"0774a3cb-a939-4bbc-b530-eadd003815b5\" type=\"checkbox\" ><label for=\"0774a3cb-a939-4bbc-b530-eadd003815b5\" class=\"sk-toggleable__label sk-toggleable__label-arrow\">passthrough</label><div class=\"sk-toggleable__content\"><pre>passthrough</pre></div></div></div></div></div></div></div></div><div class=\"sk-item\"><div class=\"sk-estimator sk-toggleable\"><input class=\"sk-toggleable__control sk-hidden--visually\" id=\"beb1ddd9-581c-4d92-81d7-101b2e27f382\" type=\"checkbox\" ><label for=\"beb1ddd9-581c-4d92-81d7-101b2e27f382\" class=\"sk-toggleable__label sk-toggleable__label-arrow\">StandardScaler</label><div class=\"sk-toggleable__content\"><pre>StandardScaler(with_mean=False)</pre></div></div></div><div class=\"sk-item\"><div class=\"sk-estimator sk-toggleable\"><input class=\"sk-toggleable__control sk-hidden--visually\" id=\"eda07561-e63c-4d3e-8886-25cf8746d4b4\" type=\"checkbox\" ><label for=\"eda07561-e63c-4d3e-8886-25cf8746d4b4\" class=\"sk-toggleable__label sk-toggleable__label-arrow\">LinearRegression</label><div class=\"sk-toggleable__content\"><pre>LinearRegression()</pre></div></div></div></div></div></div></div>"
      ],
      "text/plain": [
       "Pipeline(steps=[('columntransformer',\n",
       "                 ColumnTransformer(remainder='passthrough',\n",
       "                                   transformers=[('onehotencoder',\n",
       "                                                  OneHotEncoder(handle_unknown='ignore'),\n",
       "                                                  <sklearn.compose._column_transformer.make_column_selector object at 0x7faa4f490310>)],\n",
       "                                   verbose_feature_names_out=False)),\n",
       "                ('standardscaler', StandardScaler(with_mean=False)),\n",
       "                ('linearregression', LinearRegression())])"
      ]
     },
     "execution_count": 25,
     "metadata": {},
     "output_type": "execute_result"
    }
   ],
   "source": [
    "pipe = make_pipeline(ct, StandardScaler(with_mean=False), LinearRegression())\n",
    "pipe"
   ]
  },
  {
   "cell_type": "code",
   "execution_count": 26,
   "metadata": {},
   "outputs": [
    {
     "data": {
      "text/html": [
       "<style>#sk-349121b6-208c-49c7-82c8-3a805223afd7 {color: black;background-color: white;}#sk-349121b6-208c-49c7-82c8-3a805223afd7 pre{padding: 0;}#sk-349121b6-208c-49c7-82c8-3a805223afd7 div.sk-toggleable {background-color: white;}#sk-349121b6-208c-49c7-82c8-3a805223afd7 label.sk-toggleable__label {cursor: pointer;display: block;width: 100%;margin-bottom: 0;padding: 0.3em;box-sizing: border-box;text-align: center;}#sk-349121b6-208c-49c7-82c8-3a805223afd7 label.sk-toggleable__label-arrow:before {content: \"▸\";float: left;margin-right: 0.25em;color: #696969;}#sk-349121b6-208c-49c7-82c8-3a805223afd7 label.sk-toggleable__label-arrow:hover:before {color: black;}#sk-349121b6-208c-49c7-82c8-3a805223afd7 div.sk-estimator:hover label.sk-toggleable__label-arrow:before {color: black;}#sk-349121b6-208c-49c7-82c8-3a805223afd7 div.sk-toggleable__content {max-height: 0;max-width: 0;overflow: hidden;text-align: left;background-color: #f0f8ff;}#sk-349121b6-208c-49c7-82c8-3a805223afd7 div.sk-toggleable__content pre {margin: 0.2em;color: black;border-radius: 0.25em;background-color: #f0f8ff;}#sk-349121b6-208c-49c7-82c8-3a805223afd7 input.sk-toggleable__control:checked~div.sk-toggleable__content {max-height: 200px;max-width: 100%;overflow: auto;}#sk-349121b6-208c-49c7-82c8-3a805223afd7 input.sk-toggleable__control:checked~label.sk-toggleable__label-arrow:before {content: \"▾\";}#sk-349121b6-208c-49c7-82c8-3a805223afd7 div.sk-estimator input.sk-toggleable__control:checked~label.sk-toggleable__label {background-color: #d4ebff;}#sk-349121b6-208c-49c7-82c8-3a805223afd7 div.sk-label input.sk-toggleable__control:checked~label.sk-toggleable__label {background-color: #d4ebff;}#sk-349121b6-208c-49c7-82c8-3a805223afd7 input.sk-hidden--visually {border: 0;clip: rect(1px 1px 1px 1px);clip: rect(1px, 1px, 1px, 1px);height: 1px;margin: -1px;overflow: hidden;padding: 0;position: absolute;width: 1px;}#sk-349121b6-208c-49c7-82c8-3a805223afd7 div.sk-estimator {font-family: monospace;background-color: #f0f8ff;border: 1px dotted black;border-radius: 0.25em;box-sizing: border-box;margin-bottom: 0.5em;}#sk-349121b6-208c-49c7-82c8-3a805223afd7 div.sk-estimator:hover {background-color: #d4ebff;}#sk-349121b6-208c-49c7-82c8-3a805223afd7 div.sk-parallel-item::after {content: \"\";width: 100%;border-bottom: 1px solid gray;flex-grow: 1;}#sk-349121b6-208c-49c7-82c8-3a805223afd7 div.sk-label:hover label.sk-toggleable__label {background-color: #d4ebff;}#sk-349121b6-208c-49c7-82c8-3a805223afd7 div.sk-serial::before {content: \"\";position: absolute;border-left: 1px solid gray;box-sizing: border-box;top: 2em;bottom: 0;left: 50%;}#sk-349121b6-208c-49c7-82c8-3a805223afd7 div.sk-serial {display: flex;flex-direction: column;align-items: center;background-color: white;padding-right: 0.2em;padding-left: 0.2em;}#sk-349121b6-208c-49c7-82c8-3a805223afd7 div.sk-item {z-index: 1;}#sk-349121b6-208c-49c7-82c8-3a805223afd7 div.sk-parallel {display: flex;align-items: stretch;justify-content: center;background-color: white;}#sk-349121b6-208c-49c7-82c8-3a805223afd7 div.sk-parallel::before {content: \"\";position: absolute;border-left: 1px solid gray;box-sizing: border-box;top: 2em;bottom: 0;left: 50%;}#sk-349121b6-208c-49c7-82c8-3a805223afd7 div.sk-parallel-item {display: flex;flex-direction: column;position: relative;background-color: white;}#sk-349121b6-208c-49c7-82c8-3a805223afd7 div.sk-parallel-item:first-child::after {align-self: flex-end;width: 50%;}#sk-349121b6-208c-49c7-82c8-3a805223afd7 div.sk-parallel-item:last-child::after {align-self: flex-start;width: 50%;}#sk-349121b6-208c-49c7-82c8-3a805223afd7 div.sk-parallel-item:only-child::after {width: 0;}#sk-349121b6-208c-49c7-82c8-3a805223afd7 div.sk-dashed-wrapped {border: 1px dashed gray;margin: 0 0.4em 0.5em 0.4em;box-sizing: border-box;padding-bottom: 0.4em;background-color: white;position: relative;}#sk-349121b6-208c-49c7-82c8-3a805223afd7 div.sk-label label {font-family: monospace;font-weight: bold;background-color: white;display: inline-block;line-height: 1.2em;}#sk-349121b6-208c-49c7-82c8-3a805223afd7 div.sk-label-container {position: relative;z-index: 2;text-align: center;}#sk-349121b6-208c-49c7-82c8-3a805223afd7 div.sk-container {/* jupyter's `normalize.less` sets `[hidden] { display: none; }` but bootstrap.min.css set `[hidden] { display: none !important; }` so we also need the `!important` here to be able to override the default hidden behavior on the sphinx rendered scikit-learn.org. See: https://github.com/scikit-learn/scikit-learn/issues/21755 */display: inline-block !important;position: relative;}#sk-349121b6-208c-49c7-82c8-3a805223afd7 div.sk-text-repr-fallback {display: none;}</style><div id=\"sk-349121b6-208c-49c7-82c8-3a805223afd7\" class=\"sk-top-container\"><div class=\"sk-text-repr-fallback\"><pre>Pipeline(steps=[(&#x27;columntransformer&#x27;,\n",
       "                 ColumnTransformer(remainder=&#x27;passthrough&#x27;,\n",
       "                                   transformers=[(&#x27;onehotencoder&#x27;,\n",
       "                                                  OneHotEncoder(handle_unknown=&#x27;ignore&#x27;),\n",
       "                                                  &lt;sklearn.compose._column_transformer.make_column_selector object at 0x7faa4f490310&gt;)],\n",
       "                                   verbose_feature_names_out=False)),\n",
       "                (&#x27;standardscaler&#x27;, StandardScaler(with_mean=False)),\n",
       "                (&#x27;linearregression&#x27;, LinearRegression())])</pre><b>Please rerun this cell to show the HTML repr or trust the notebook.</b></div><div class=\"sk-container\" hidden><div class=\"sk-item sk-dashed-wrapped\"><div class=\"sk-label-container\"><div class=\"sk-label sk-toggleable\"><input class=\"sk-toggleable__control sk-hidden--visually\" id=\"fc5729b8-32e9-4d45-bbc4-6bd25fff75bc\" type=\"checkbox\" ><label for=\"fc5729b8-32e9-4d45-bbc4-6bd25fff75bc\" class=\"sk-toggleable__label sk-toggleable__label-arrow\">Pipeline</label><div class=\"sk-toggleable__content\"><pre>Pipeline(steps=[(&#x27;columntransformer&#x27;,\n",
       "                 ColumnTransformer(remainder=&#x27;passthrough&#x27;,\n",
       "                                   transformers=[(&#x27;onehotencoder&#x27;,\n",
       "                                                  OneHotEncoder(handle_unknown=&#x27;ignore&#x27;),\n",
       "                                                  &lt;sklearn.compose._column_transformer.make_column_selector object at 0x7faa4f490310&gt;)],\n",
       "                                   verbose_feature_names_out=False)),\n",
       "                (&#x27;standardscaler&#x27;, StandardScaler(with_mean=False)),\n",
       "                (&#x27;linearregression&#x27;, LinearRegression())])</pre></div></div></div><div class=\"sk-serial\"><div class=\"sk-item sk-dashed-wrapped\"><div class=\"sk-label-container\"><div class=\"sk-label sk-toggleable\"><input class=\"sk-toggleable__control sk-hidden--visually\" id=\"54ea7c91-17b8-4cb2-8e09-fcb911fd33a7\" type=\"checkbox\" ><label for=\"54ea7c91-17b8-4cb2-8e09-fcb911fd33a7\" class=\"sk-toggleable__label sk-toggleable__label-arrow\">columntransformer: ColumnTransformer</label><div class=\"sk-toggleable__content\"><pre>ColumnTransformer(remainder=&#x27;passthrough&#x27;,\n",
       "                  transformers=[(&#x27;onehotencoder&#x27;,\n",
       "                                 OneHotEncoder(handle_unknown=&#x27;ignore&#x27;),\n",
       "                                 &lt;sklearn.compose._column_transformer.make_column_selector object at 0x7faa4f490310&gt;)],\n",
       "                  verbose_feature_names_out=False)</pre></div></div></div><div class=\"sk-parallel\"><div class=\"sk-parallel-item\"><div class=\"sk-item\"><div class=\"sk-label-container\"><div class=\"sk-label sk-toggleable\"><input class=\"sk-toggleable__control sk-hidden--visually\" id=\"c9e22afa-0551-4bd8-8a0a-e97776471c73\" type=\"checkbox\" ><label for=\"c9e22afa-0551-4bd8-8a0a-e97776471c73\" class=\"sk-toggleable__label sk-toggleable__label-arrow\">onehotencoder</label><div class=\"sk-toggleable__content\"><pre>&lt;sklearn.compose._column_transformer.make_column_selector object at 0x7faa4f490310&gt;</pre></div></div></div><div class=\"sk-serial\"><div class=\"sk-item\"><div class=\"sk-estimator sk-toggleable\"><input class=\"sk-toggleable__control sk-hidden--visually\" id=\"42ef0bb6-99f8-437a-95ee-124d2ebe45b4\" type=\"checkbox\" ><label for=\"42ef0bb6-99f8-437a-95ee-124d2ebe45b4\" class=\"sk-toggleable__label sk-toggleable__label-arrow\">OneHotEncoder</label><div class=\"sk-toggleable__content\"><pre>OneHotEncoder(handle_unknown=&#x27;ignore&#x27;)</pre></div></div></div></div></div></div><div class=\"sk-parallel-item\"><div class=\"sk-item\"><div class=\"sk-label-container\"><div class=\"sk-label sk-toggleable\"><input class=\"sk-toggleable__control sk-hidden--visually\" id=\"4db3035d-5763-4195-a100-fde41c266d3e\" type=\"checkbox\" ><label for=\"4db3035d-5763-4195-a100-fde41c266d3e\" class=\"sk-toggleable__label sk-toggleable__label-arrow\">remainder</label><div class=\"sk-toggleable__content\"><pre>[]</pre></div></div></div><div class=\"sk-serial\"><div class=\"sk-item\"><div class=\"sk-estimator sk-toggleable\"><input class=\"sk-toggleable__control sk-hidden--visually\" id=\"8fc204c5-b2f4-4695-adcd-bfc5ff920858\" type=\"checkbox\" ><label for=\"8fc204c5-b2f4-4695-adcd-bfc5ff920858\" class=\"sk-toggleable__label sk-toggleable__label-arrow\">passthrough</label><div class=\"sk-toggleable__content\"><pre>passthrough</pre></div></div></div></div></div></div></div></div><div class=\"sk-item\"><div class=\"sk-estimator sk-toggleable\"><input class=\"sk-toggleable__control sk-hidden--visually\" id=\"86920263-8a6a-46ab-9368-9629f5d7ad5e\" type=\"checkbox\" ><label for=\"86920263-8a6a-46ab-9368-9629f5d7ad5e\" class=\"sk-toggleable__label sk-toggleable__label-arrow\">StandardScaler</label><div class=\"sk-toggleable__content\"><pre>StandardScaler(with_mean=False)</pre></div></div></div><div class=\"sk-item\"><div class=\"sk-estimator sk-toggleable\"><input class=\"sk-toggleable__control sk-hidden--visually\" id=\"398e76bc-222e-4329-ba08-3865a55e84d6\" type=\"checkbox\" ><label for=\"398e76bc-222e-4329-ba08-3865a55e84d6\" class=\"sk-toggleable__label sk-toggleable__label-arrow\">LinearRegression</label><div class=\"sk-toggleable__content\"><pre>LinearRegression()</pre></div></div></div></div></div></div></div>"
      ],
      "text/plain": [
       "Pipeline(steps=[('columntransformer',\n",
       "                 ColumnTransformer(remainder='passthrough',\n",
       "                                   transformers=[('onehotencoder',\n",
       "                                                  OneHotEncoder(handle_unknown='ignore'),\n",
       "                                                  <sklearn.compose._column_transformer.make_column_selector object at 0x7faa4f490310>)],\n",
       "                                   verbose_feature_names_out=False)),\n",
       "                ('standardscaler', StandardScaler(with_mean=False)),\n",
       "                ('linearregression', LinearRegression())])"
      ]
     },
     "execution_count": 26,
     "metadata": {},
     "output_type": "execute_result"
    }
   ],
   "source": [
    "pipe.fit(X_train, y_train)"
   ]
  },
  {
   "cell_type": "code",
   "execution_count": 27,
   "metadata": {},
   "outputs": [
    {
     "data": {
      "text/plain": [
       "0.5985982825845704"
      ]
     },
     "execution_count": 27,
     "metadata": {},
     "output_type": "execute_result"
    }
   ],
   "source": [
    "pipe.score(X_test, y_test)"
   ]
  },
  {
   "cell_type": "code",
   "execution_count": 28,
   "metadata": {},
   "outputs": [],
   "source": [
    "preds = pipe.predict(X_test)"
   ]
  },
  {
   "cell_type": "code",
   "execution_count": 29,
   "metadata": {},
   "outputs": [
    {
     "data": {
      "text/plain": [
       "49726.203146518536"
      ]
     },
     "execution_count": 29,
     "metadata": {},
     "output_type": "execute_result"
    }
   ],
   "source": [
    "mean_squared_error(y_test, preds, squared=False\n",
    ")"
   ]
  },
  {
   "cell_type": "markdown",
   "metadata": {},
   "source": [
    "Our RMSE using only neighborhood is considerably worse than our baseline Linear Regression."
   ]
  },
  {
   "cell_type": "markdown",
   "metadata": {},
   "source": [
    "### Kaggle submission"
   ]
  },
  {
   "cell_type": "code",
   "execution_count": 30,
   "metadata": {},
   "outputs": [],
   "source": [
    "test['SalePrice'] = pipe.predict(kaggle)"
   ]
  },
  {
   "cell_type": "code",
   "execution_count": 31,
   "metadata": {},
   "outputs": [],
   "source": [
    "test[['Id', 'SalePrice']].to_csv('../data/submission_location_linreg.csv', index=False)"
   ]
  },
  {
   "cell_type": "markdown",
   "metadata": {},
   "source": [
    "## Incorporate all location proxies identified in EDA\n",
    "\n",
    "In addtion to the Neighborhoods feature, the following features were identified as location proxies in EDA:\n",
    "\n",
    "- Lot Shape\n",
    "- Lot Config\n",
    "- Condition 1\n",
    "- Condition 2"
   ]
  },
  {
   "cell_type": "code",
   "execution_count": 32,
   "metadata": {},
   "outputs": [],
   "source": [
    "X = train[['Lot Shape', 'Lot Config', 'Neighborhood', 'Condition 1', 'Condition 2']]\n",
    "y = train['SalePrice']\n",
    "kaggle = test[['Lot Shape', 'Lot Config', 'Neighborhood', 'Condition 1', 'Condition 2']]"
   ]
  },
  {
   "cell_type": "code",
   "execution_count": 33,
   "metadata": {},
   "outputs": [],
   "source": [
    "X_train, X_test, y_train, y_test = train_test_split(X, y, random_state=1331)"
   ]
  },
  {
   "cell_type": "code",
   "execution_count": 34,
   "metadata": {},
   "outputs": [
    {
     "data": {
      "text/html": [
       "<style>#sk-e53925aa-cf3f-4f8b-ab79-411280e10574 {color: black;background-color: white;}#sk-e53925aa-cf3f-4f8b-ab79-411280e10574 pre{padding: 0;}#sk-e53925aa-cf3f-4f8b-ab79-411280e10574 div.sk-toggleable {background-color: white;}#sk-e53925aa-cf3f-4f8b-ab79-411280e10574 label.sk-toggleable__label {cursor: pointer;display: block;width: 100%;margin-bottom: 0;padding: 0.3em;box-sizing: border-box;text-align: center;}#sk-e53925aa-cf3f-4f8b-ab79-411280e10574 label.sk-toggleable__label-arrow:before {content: \"▸\";float: left;margin-right: 0.25em;color: #696969;}#sk-e53925aa-cf3f-4f8b-ab79-411280e10574 label.sk-toggleable__label-arrow:hover:before {color: black;}#sk-e53925aa-cf3f-4f8b-ab79-411280e10574 div.sk-estimator:hover label.sk-toggleable__label-arrow:before {color: black;}#sk-e53925aa-cf3f-4f8b-ab79-411280e10574 div.sk-toggleable__content {max-height: 0;max-width: 0;overflow: hidden;text-align: left;background-color: #f0f8ff;}#sk-e53925aa-cf3f-4f8b-ab79-411280e10574 div.sk-toggleable__content pre {margin: 0.2em;color: black;border-radius: 0.25em;background-color: #f0f8ff;}#sk-e53925aa-cf3f-4f8b-ab79-411280e10574 input.sk-toggleable__control:checked~div.sk-toggleable__content {max-height: 200px;max-width: 100%;overflow: auto;}#sk-e53925aa-cf3f-4f8b-ab79-411280e10574 input.sk-toggleable__control:checked~label.sk-toggleable__label-arrow:before {content: \"▾\";}#sk-e53925aa-cf3f-4f8b-ab79-411280e10574 div.sk-estimator input.sk-toggleable__control:checked~label.sk-toggleable__label {background-color: #d4ebff;}#sk-e53925aa-cf3f-4f8b-ab79-411280e10574 div.sk-label input.sk-toggleable__control:checked~label.sk-toggleable__label {background-color: #d4ebff;}#sk-e53925aa-cf3f-4f8b-ab79-411280e10574 input.sk-hidden--visually {border: 0;clip: rect(1px 1px 1px 1px);clip: rect(1px, 1px, 1px, 1px);height: 1px;margin: -1px;overflow: hidden;padding: 0;position: absolute;width: 1px;}#sk-e53925aa-cf3f-4f8b-ab79-411280e10574 div.sk-estimator {font-family: monospace;background-color: #f0f8ff;border: 1px dotted black;border-radius: 0.25em;box-sizing: border-box;margin-bottom: 0.5em;}#sk-e53925aa-cf3f-4f8b-ab79-411280e10574 div.sk-estimator:hover {background-color: #d4ebff;}#sk-e53925aa-cf3f-4f8b-ab79-411280e10574 div.sk-parallel-item::after {content: \"\";width: 100%;border-bottom: 1px solid gray;flex-grow: 1;}#sk-e53925aa-cf3f-4f8b-ab79-411280e10574 div.sk-label:hover label.sk-toggleable__label {background-color: #d4ebff;}#sk-e53925aa-cf3f-4f8b-ab79-411280e10574 div.sk-serial::before {content: \"\";position: absolute;border-left: 1px solid gray;box-sizing: border-box;top: 2em;bottom: 0;left: 50%;}#sk-e53925aa-cf3f-4f8b-ab79-411280e10574 div.sk-serial {display: flex;flex-direction: column;align-items: center;background-color: white;padding-right: 0.2em;padding-left: 0.2em;}#sk-e53925aa-cf3f-4f8b-ab79-411280e10574 div.sk-item {z-index: 1;}#sk-e53925aa-cf3f-4f8b-ab79-411280e10574 div.sk-parallel {display: flex;align-items: stretch;justify-content: center;background-color: white;}#sk-e53925aa-cf3f-4f8b-ab79-411280e10574 div.sk-parallel::before {content: \"\";position: absolute;border-left: 1px solid gray;box-sizing: border-box;top: 2em;bottom: 0;left: 50%;}#sk-e53925aa-cf3f-4f8b-ab79-411280e10574 div.sk-parallel-item {display: flex;flex-direction: column;position: relative;background-color: white;}#sk-e53925aa-cf3f-4f8b-ab79-411280e10574 div.sk-parallel-item:first-child::after {align-self: flex-end;width: 50%;}#sk-e53925aa-cf3f-4f8b-ab79-411280e10574 div.sk-parallel-item:last-child::after {align-self: flex-start;width: 50%;}#sk-e53925aa-cf3f-4f8b-ab79-411280e10574 div.sk-parallel-item:only-child::after {width: 0;}#sk-e53925aa-cf3f-4f8b-ab79-411280e10574 div.sk-dashed-wrapped {border: 1px dashed gray;margin: 0 0.4em 0.5em 0.4em;box-sizing: border-box;padding-bottom: 0.4em;background-color: white;position: relative;}#sk-e53925aa-cf3f-4f8b-ab79-411280e10574 div.sk-label label {font-family: monospace;font-weight: bold;background-color: white;display: inline-block;line-height: 1.2em;}#sk-e53925aa-cf3f-4f8b-ab79-411280e10574 div.sk-label-container {position: relative;z-index: 2;text-align: center;}#sk-e53925aa-cf3f-4f8b-ab79-411280e10574 div.sk-container {/* jupyter's `normalize.less` sets `[hidden] { display: none; }` but bootstrap.min.css set `[hidden] { display: none !important; }` so we also need the `!important` here to be able to override the default hidden behavior on the sphinx rendered scikit-learn.org. See: https://github.com/scikit-learn/scikit-learn/issues/21755 */display: inline-block !important;position: relative;}#sk-e53925aa-cf3f-4f8b-ab79-411280e10574 div.sk-text-repr-fallback {display: none;}</style><div id=\"sk-e53925aa-cf3f-4f8b-ab79-411280e10574\" class=\"sk-top-container\"><div class=\"sk-text-repr-fallback\"><pre>ColumnTransformer(remainder=&#x27;passthrough&#x27;,\n",
       "                  transformers=[(&#x27;onehotencoder&#x27;,\n",
       "                                 OneHotEncoder(handle_unknown=&#x27;ignore&#x27;),\n",
       "                                 &lt;sklearn.compose._column_transformer.make_column_selector object at 0x7faa4f47cb50&gt;)],\n",
       "                  verbose_feature_names_out=False)</pre><b>Please rerun this cell to show the HTML repr or trust the notebook.</b></div><div class=\"sk-container\" hidden><div class=\"sk-item sk-dashed-wrapped\"><div class=\"sk-label-container\"><div class=\"sk-label sk-toggleable\"><input class=\"sk-toggleable__control sk-hidden--visually\" id=\"d29357b1-f797-4f5e-bf39-bd58e79d5736\" type=\"checkbox\" ><label for=\"d29357b1-f797-4f5e-bf39-bd58e79d5736\" class=\"sk-toggleable__label sk-toggleable__label-arrow\">ColumnTransformer</label><div class=\"sk-toggleable__content\"><pre>ColumnTransformer(remainder=&#x27;passthrough&#x27;,\n",
       "                  transformers=[(&#x27;onehotencoder&#x27;,\n",
       "                                 OneHotEncoder(handle_unknown=&#x27;ignore&#x27;),\n",
       "                                 &lt;sklearn.compose._column_transformer.make_column_selector object at 0x7faa4f47cb50&gt;)],\n",
       "                  verbose_feature_names_out=False)</pre></div></div></div><div class=\"sk-parallel\"><div class=\"sk-parallel-item\"><div class=\"sk-item\"><div class=\"sk-label-container\"><div class=\"sk-label sk-toggleable\"><input class=\"sk-toggleable__control sk-hidden--visually\" id=\"e14a187d-c661-490f-9aa2-c90876450aba\" type=\"checkbox\" ><label for=\"e14a187d-c661-490f-9aa2-c90876450aba\" class=\"sk-toggleable__label sk-toggleable__label-arrow\">onehotencoder</label><div class=\"sk-toggleable__content\"><pre>&lt;sklearn.compose._column_transformer.make_column_selector object at 0x7faa4f47cb50&gt;</pre></div></div></div><div class=\"sk-serial\"><div class=\"sk-item\"><div class=\"sk-estimator sk-toggleable\"><input class=\"sk-toggleable__control sk-hidden--visually\" id=\"01b86f03-91eb-4562-a05e-6c11847f78a9\" type=\"checkbox\" ><label for=\"01b86f03-91eb-4562-a05e-6c11847f78a9\" class=\"sk-toggleable__label sk-toggleable__label-arrow\">OneHotEncoder</label><div class=\"sk-toggleable__content\"><pre>OneHotEncoder(handle_unknown=&#x27;ignore&#x27;)</pre></div></div></div></div></div></div><div class=\"sk-parallel-item\"><div class=\"sk-item\"><div class=\"sk-label-container\"><div class=\"sk-label sk-toggleable\"><input class=\"sk-toggleable__control sk-hidden--visually\" id=\"c31ed8fd-2cfc-4cd9-a5b1-d18d1b004167\" type=\"checkbox\" ><label for=\"c31ed8fd-2cfc-4cd9-a5b1-d18d1b004167\" class=\"sk-toggleable__label sk-toggleable__label-arrow\">remainder</label><div class=\"sk-toggleable__content\"><pre></pre></div></div></div><div class=\"sk-serial\"><div class=\"sk-item\"><div class=\"sk-estimator sk-toggleable\"><input class=\"sk-toggleable__control sk-hidden--visually\" id=\"f49a9256-b8d1-4ed6-8115-440005e40b43\" type=\"checkbox\" ><label for=\"f49a9256-b8d1-4ed6-8115-440005e40b43\" class=\"sk-toggleable__label sk-toggleable__label-arrow\">passthrough</label><div class=\"sk-toggleable__content\"><pre>passthrough</pre></div></div></div></div></div></div></div></div></div></div>"
      ],
      "text/plain": [
       "ColumnTransformer(remainder='passthrough',\n",
       "                  transformers=[('onehotencoder',\n",
       "                                 OneHotEncoder(handle_unknown='ignore'),\n",
       "                                 <sklearn.compose._column_transformer.make_column_selector object at 0x7faa4f47cb50>)],\n",
       "                  verbose_feature_names_out=False)"
      ]
     },
     "execution_count": 34,
     "metadata": {},
     "output_type": "execute_result"
    }
   ],
   "source": [
    "ct2 = make_column_transformer(\n",
    "    (OneHotEncoder(handle_unknown='ignore'), make_column_selector(dtype_include=object)),\n",
    "    remainder='passthrough',\n",
    "    verbose_feature_names_out=False\n",
    ")\n",
    "ct2"
   ]
  },
  {
   "cell_type": "code",
   "execution_count": 35,
   "metadata": {},
   "outputs": [
    {
     "data": {
      "text/html": [
       "<style>#sk-20eb5679-99b3-4c2d-b130-642308bba9b8 {color: black;background-color: white;}#sk-20eb5679-99b3-4c2d-b130-642308bba9b8 pre{padding: 0;}#sk-20eb5679-99b3-4c2d-b130-642308bba9b8 div.sk-toggleable {background-color: white;}#sk-20eb5679-99b3-4c2d-b130-642308bba9b8 label.sk-toggleable__label {cursor: pointer;display: block;width: 100%;margin-bottom: 0;padding: 0.3em;box-sizing: border-box;text-align: center;}#sk-20eb5679-99b3-4c2d-b130-642308bba9b8 label.sk-toggleable__label-arrow:before {content: \"▸\";float: left;margin-right: 0.25em;color: #696969;}#sk-20eb5679-99b3-4c2d-b130-642308bba9b8 label.sk-toggleable__label-arrow:hover:before {color: black;}#sk-20eb5679-99b3-4c2d-b130-642308bba9b8 div.sk-estimator:hover label.sk-toggleable__label-arrow:before {color: black;}#sk-20eb5679-99b3-4c2d-b130-642308bba9b8 div.sk-toggleable__content {max-height: 0;max-width: 0;overflow: hidden;text-align: left;background-color: #f0f8ff;}#sk-20eb5679-99b3-4c2d-b130-642308bba9b8 div.sk-toggleable__content pre {margin: 0.2em;color: black;border-radius: 0.25em;background-color: #f0f8ff;}#sk-20eb5679-99b3-4c2d-b130-642308bba9b8 input.sk-toggleable__control:checked~div.sk-toggleable__content {max-height: 200px;max-width: 100%;overflow: auto;}#sk-20eb5679-99b3-4c2d-b130-642308bba9b8 input.sk-toggleable__control:checked~label.sk-toggleable__label-arrow:before {content: \"▾\";}#sk-20eb5679-99b3-4c2d-b130-642308bba9b8 div.sk-estimator input.sk-toggleable__control:checked~label.sk-toggleable__label {background-color: #d4ebff;}#sk-20eb5679-99b3-4c2d-b130-642308bba9b8 div.sk-label input.sk-toggleable__control:checked~label.sk-toggleable__label {background-color: #d4ebff;}#sk-20eb5679-99b3-4c2d-b130-642308bba9b8 input.sk-hidden--visually {border: 0;clip: rect(1px 1px 1px 1px);clip: rect(1px, 1px, 1px, 1px);height: 1px;margin: -1px;overflow: hidden;padding: 0;position: absolute;width: 1px;}#sk-20eb5679-99b3-4c2d-b130-642308bba9b8 div.sk-estimator {font-family: monospace;background-color: #f0f8ff;border: 1px dotted black;border-radius: 0.25em;box-sizing: border-box;margin-bottom: 0.5em;}#sk-20eb5679-99b3-4c2d-b130-642308bba9b8 div.sk-estimator:hover {background-color: #d4ebff;}#sk-20eb5679-99b3-4c2d-b130-642308bba9b8 div.sk-parallel-item::after {content: \"\";width: 100%;border-bottom: 1px solid gray;flex-grow: 1;}#sk-20eb5679-99b3-4c2d-b130-642308bba9b8 div.sk-label:hover label.sk-toggleable__label {background-color: #d4ebff;}#sk-20eb5679-99b3-4c2d-b130-642308bba9b8 div.sk-serial::before {content: \"\";position: absolute;border-left: 1px solid gray;box-sizing: border-box;top: 2em;bottom: 0;left: 50%;}#sk-20eb5679-99b3-4c2d-b130-642308bba9b8 div.sk-serial {display: flex;flex-direction: column;align-items: center;background-color: white;padding-right: 0.2em;padding-left: 0.2em;}#sk-20eb5679-99b3-4c2d-b130-642308bba9b8 div.sk-item {z-index: 1;}#sk-20eb5679-99b3-4c2d-b130-642308bba9b8 div.sk-parallel {display: flex;align-items: stretch;justify-content: center;background-color: white;}#sk-20eb5679-99b3-4c2d-b130-642308bba9b8 div.sk-parallel::before {content: \"\";position: absolute;border-left: 1px solid gray;box-sizing: border-box;top: 2em;bottom: 0;left: 50%;}#sk-20eb5679-99b3-4c2d-b130-642308bba9b8 div.sk-parallel-item {display: flex;flex-direction: column;position: relative;background-color: white;}#sk-20eb5679-99b3-4c2d-b130-642308bba9b8 div.sk-parallel-item:first-child::after {align-self: flex-end;width: 50%;}#sk-20eb5679-99b3-4c2d-b130-642308bba9b8 div.sk-parallel-item:last-child::after {align-self: flex-start;width: 50%;}#sk-20eb5679-99b3-4c2d-b130-642308bba9b8 div.sk-parallel-item:only-child::after {width: 0;}#sk-20eb5679-99b3-4c2d-b130-642308bba9b8 div.sk-dashed-wrapped {border: 1px dashed gray;margin: 0 0.4em 0.5em 0.4em;box-sizing: border-box;padding-bottom: 0.4em;background-color: white;position: relative;}#sk-20eb5679-99b3-4c2d-b130-642308bba9b8 div.sk-label label {font-family: monospace;font-weight: bold;background-color: white;display: inline-block;line-height: 1.2em;}#sk-20eb5679-99b3-4c2d-b130-642308bba9b8 div.sk-label-container {position: relative;z-index: 2;text-align: center;}#sk-20eb5679-99b3-4c2d-b130-642308bba9b8 div.sk-container {/* jupyter's `normalize.less` sets `[hidden] { display: none; }` but bootstrap.min.css set `[hidden] { display: none !important; }` so we also need the `!important` here to be able to override the default hidden behavior on the sphinx rendered scikit-learn.org. See: https://github.com/scikit-learn/scikit-learn/issues/21755 */display: inline-block !important;position: relative;}#sk-20eb5679-99b3-4c2d-b130-642308bba9b8 div.sk-text-repr-fallback {display: none;}</style><div id=\"sk-20eb5679-99b3-4c2d-b130-642308bba9b8\" class=\"sk-top-container\"><div class=\"sk-text-repr-fallback\"><pre>Pipeline(steps=[(&#x27;columntransformer&#x27;,\n",
       "                 ColumnTransformer(remainder=&#x27;passthrough&#x27;,\n",
       "                                   transformers=[(&#x27;onehotencoder&#x27;,\n",
       "                                                  OneHotEncoder(handle_unknown=&#x27;ignore&#x27;),\n",
       "                                                  &lt;sklearn.compose._column_transformer.make_column_selector object at 0x7faa4f47cb50&gt;)],\n",
       "                                   verbose_feature_names_out=False)),\n",
       "                (&#x27;standardscaler&#x27;, StandardScaler(with_mean=False)),\n",
       "                (&#x27;linearregression&#x27;, LinearRegression())])</pre><b>Please rerun this cell to show the HTML repr or trust the notebook.</b></div><div class=\"sk-container\" hidden><div class=\"sk-item sk-dashed-wrapped\"><div class=\"sk-label-container\"><div class=\"sk-label sk-toggleable\"><input class=\"sk-toggleable__control sk-hidden--visually\" id=\"2f3971e0-41c2-4079-ae41-75739b6d1a37\" type=\"checkbox\" ><label for=\"2f3971e0-41c2-4079-ae41-75739b6d1a37\" class=\"sk-toggleable__label sk-toggleable__label-arrow\">Pipeline</label><div class=\"sk-toggleable__content\"><pre>Pipeline(steps=[(&#x27;columntransformer&#x27;,\n",
       "                 ColumnTransformer(remainder=&#x27;passthrough&#x27;,\n",
       "                                   transformers=[(&#x27;onehotencoder&#x27;,\n",
       "                                                  OneHotEncoder(handle_unknown=&#x27;ignore&#x27;),\n",
       "                                                  &lt;sklearn.compose._column_transformer.make_column_selector object at 0x7faa4f47cb50&gt;)],\n",
       "                                   verbose_feature_names_out=False)),\n",
       "                (&#x27;standardscaler&#x27;, StandardScaler(with_mean=False)),\n",
       "                (&#x27;linearregression&#x27;, LinearRegression())])</pre></div></div></div><div class=\"sk-serial\"><div class=\"sk-item sk-dashed-wrapped\"><div class=\"sk-label-container\"><div class=\"sk-label sk-toggleable\"><input class=\"sk-toggleable__control sk-hidden--visually\" id=\"fe74b058-b32e-40b4-95a5-48bf17ddbd42\" type=\"checkbox\" ><label for=\"fe74b058-b32e-40b4-95a5-48bf17ddbd42\" class=\"sk-toggleable__label sk-toggleable__label-arrow\">columntransformer: ColumnTransformer</label><div class=\"sk-toggleable__content\"><pre>ColumnTransformer(remainder=&#x27;passthrough&#x27;,\n",
       "                  transformers=[(&#x27;onehotencoder&#x27;,\n",
       "                                 OneHotEncoder(handle_unknown=&#x27;ignore&#x27;),\n",
       "                                 &lt;sklearn.compose._column_transformer.make_column_selector object at 0x7faa4f47cb50&gt;)],\n",
       "                  verbose_feature_names_out=False)</pre></div></div></div><div class=\"sk-parallel\"><div class=\"sk-parallel-item\"><div class=\"sk-item\"><div class=\"sk-label-container\"><div class=\"sk-label sk-toggleable\"><input class=\"sk-toggleable__control sk-hidden--visually\" id=\"99581902-e9f3-4c4b-a203-fe1f4e8a722a\" type=\"checkbox\" ><label for=\"99581902-e9f3-4c4b-a203-fe1f4e8a722a\" class=\"sk-toggleable__label sk-toggleable__label-arrow\">onehotencoder</label><div class=\"sk-toggleable__content\"><pre>&lt;sklearn.compose._column_transformer.make_column_selector object at 0x7faa4f47cb50&gt;</pre></div></div></div><div class=\"sk-serial\"><div class=\"sk-item\"><div class=\"sk-estimator sk-toggleable\"><input class=\"sk-toggleable__control sk-hidden--visually\" id=\"75b6da0a-5687-4616-9359-e0fd1126dfd2\" type=\"checkbox\" ><label for=\"75b6da0a-5687-4616-9359-e0fd1126dfd2\" class=\"sk-toggleable__label sk-toggleable__label-arrow\">OneHotEncoder</label><div class=\"sk-toggleable__content\"><pre>OneHotEncoder(handle_unknown=&#x27;ignore&#x27;)</pre></div></div></div></div></div></div><div class=\"sk-parallel-item\"><div class=\"sk-item\"><div class=\"sk-label-container\"><div class=\"sk-label sk-toggleable\"><input class=\"sk-toggleable__control sk-hidden--visually\" id=\"1f34970c-8ba7-4a8d-ac31-91a55df97e2c\" type=\"checkbox\" ><label for=\"1f34970c-8ba7-4a8d-ac31-91a55df97e2c\" class=\"sk-toggleable__label sk-toggleable__label-arrow\">remainder</label><div class=\"sk-toggleable__content\"><pre></pre></div></div></div><div class=\"sk-serial\"><div class=\"sk-item\"><div class=\"sk-estimator sk-toggleable\"><input class=\"sk-toggleable__control sk-hidden--visually\" id=\"b26419a2-4983-46df-8cd5-953a19072361\" type=\"checkbox\" ><label for=\"b26419a2-4983-46df-8cd5-953a19072361\" class=\"sk-toggleable__label sk-toggleable__label-arrow\">passthrough</label><div class=\"sk-toggleable__content\"><pre>passthrough</pre></div></div></div></div></div></div></div></div><div class=\"sk-item\"><div class=\"sk-estimator sk-toggleable\"><input class=\"sk-toggleable__control sk-hidden--visually\" id=\"34eb430b-d4f3-410e-a2bb-e0fd8e49df5c\" type=\"checkbox\" ><label for=\"34eb430b-d4f3-410e-a2bb-e0fd8e49df5c\" class=\"sk-toggleable__label sk-toggleable__label-arrow\">StandardScaler</label><div class=\"sk-toggleable__content\"><pre>StandardScaler(with_mean=False)</pre></div></div></div><div class=\"sk-item\"><div class=\"sk-estimator sk-toggleable\"><input class=\"sk-toggleable__control sk-hidden--visually\" id=\"f2c5b82c-ead3-4a32-82a5-4ee64792b017\" type=\"checkbox\" ><label for=\"f2c5b82c-ead3-4a32-82a5-4ee64792b017\" class=\"sk-toggleable__label sk-toggleable__label-arrow\">LinearRegression</label><div class=\"sk-toggleable__content\"><pre>LinearRegression()</pre></div></div></div></div></div></div></div>"
      ],
      "text/plain": [
       "Pipeline(steps=[('columntransformer',\n",
       "                 ColumnTransformer(remainder='passthrough',\n",
       "                                   transformers=[('onehotencoder',\n",
       "                                                  OneHotEncoder(handle_unknown='ignore'),\n",
       "                                                  <sklearn.compose._column_transformer.make_column_selector object at 0x7faa4f47cb50>)],\n",
       "                                   verbose_feature_names_out=False)),\n",
       "                ('standardscaler', StandardScaler(with_mean=False)),\n",
       "                ('linearregression', LinearRegression())])"
      ]
     },
     "execution_count": 35,
     "metadata": {},
     "output_type": "execute_result"
    }
   ],
   "source": [
    "pipe2 = make_pipeline(ct2, StandardScaler(with_mean=False), LinearRegression())\n",
    "pipe2"
   ]
  },
  {
   "cell_type": "code",
   "execution_count": 36,
   "metadata": {},
   "outputs": [
    {
     "data": {
      "text/html": [
       "<style>#sk-5d38d429-0653-49c5-88e6-cde99c2f9cd4 {color: black;background-color: white;}#sk-5d38d429-0653-49c5-88e6-cde99c2f9cd4 pre{padding: 0;}#sk-5d38d429-0653-49c5-88e6-cde99c2f9cd4 div.sk-toggleable {background-color: white;}#sk-5d38d429-0653-49c5-88e6-cde99c2f9cd4 label.sk-toggleable__label {cursor: pointer;display: block;width: 100%;margin-bottom: 0;padding: 0.3em;box-sizing: border-box;text-align: center;}#sk-5d38d429-0653-49c5-88e6-cde99c2f9cd4 label.sk-toggleable__label-arrow:before {content: \"▸\";float: left;margin-right: 0.25em;color: #696969;}#sk-5d38d429-0653-49c5-88e6-cde99c2f9cd4 label.sk-toggleable__label-arrow:hover:before {color: black;}#sk-5d38d429-0653-49c5-88e6-cde99c2f9cd4 div.sk-estimator:hover label.sk-toggleable__label-arrow:before {color: black;}#sk-5d38d429-0653-49c5-88e6-cde99c2f9cd4 div.sk-toggleable__content {max-height: 0;max-width: 0;overflow: hidden;text-align: left;background-color: #f0f8ff;}#sk-5d38d429-0653-49c5-88e6-cde99c2f9cd4 div.sk-toggleable__content pre {margin: 0.2em;color: black;border-radius: 0.25em;background-color: #f0f8ff;}#sk-5d38d429-0653-49c5-88e6-cde99c2f9cd4 input.sk-toggleable__control:checked~div.sk-toggleable__content {max-height: 200px;max-width: 100%;overflow: auto;}#sk-5d38d429-0653-49c5-88e6-cde99c2f9cd4 input.sk-toggleable__control:checked~label.sk-toggleable__label-arrow:before {content: \"▾\";}#sk-5d38d429-0653-49c5-88e6-cde99c2f9cd4 div.sk-estimator input.sk-toggleable__control:checked~label.sk-toggleable__label {background-color: #d4ebff;}#sk-5d38d429-0653-49c5-88e6-cde99c2f9cd4 div.sk-label input.sk-toggleable__control:checked~label.sk-toggleable__label {background-color: #d4ebff;}#sk-5d38d429-0653-49c5-88e6-cde99c2f9cd4 input.sk-hidden--visually {border: 0;clip: rect(1px 1px 1px 1px);clip: rect(1px, 1px, 1px, 1px);height: 1px;margin: -1px;overflow: hidden;padding: 0;position: absolute;width: 1px;}#sk-5d38d429-0653-49c5-88e6-cde99c2f9cd4 div.sk-estimator {font-family: monospace;background-color: #f0f8ff;border: 1px dotted black;border-radius: 0.25em;box-sizing: border-box;margin-bottom: 0.5em;}#sk-5d38d429-0653-49c5-88e6-cde99c2f9cd4 div.sk-estimator:hover {background-color: #d4ebff;}#sk-5d38d429-0653-49c5-88e6-cde99c2f9cd4 div.sk-parallel-item::after {content: \"\";width: 100%;border-bottom: 1px solid gray;flex-grow: 1;}#sk-5d38d429-0653-49c5-88e6-cde99c2f9cd4 div.sk-label:hover label.sk-toggleable__label {background-color: #d4ebff;}#sk-5d38d429-0653-49c5-88e6-cde99c2f9cd4 div.sk-serial::before {content: \"\";position: absolute;border-left: 1px solid gray;box-sizing: border-box;top: 2em;bottom: 0;left: 50%;}#sk-5d38d429-0653-49c5-88e6-cde99c2f9cd4 div.sk-serial {display: flex;flex-direction: column;align-items: center;background-color: white;padding-right: 0.2em;padding-left: 0.2em;}#sk-5d38d429-0653-49c5-88e6-cde99c2f9cd4 div.sk-item {z-index: 1;}#sk-5d38d429-0653-49c5-88e6-cde99c2f9cd4 div.sk-parallel {display: flex;align-items: stretch;justify-content: center;background-color: white;}#sk-5d38d429-0653-49c5-88e6-cde99c2f9cd4 div.sk-parallel::before {content: \"\";position: absolute;border-left: 1px solid gray;box-sizing: border-box;top: 2em;bottom: 0;left: 50%;}#sk-5d38d429-0653-49c5-88e6-cde99c2f9cd4 div.sk-parallel-item {display: flex;flex-direction: column;position: relative;background-color: white;}#sk-5d38d429-0653-49c5-88e6-cde99c2f9cd4 div.sk-parallel-item:first-child::after {align-self: flex-end;width: 50%;}#sk-5d38d429-0653-49c5-88e6-cde99c2f9cd4 div.sk-parallel-item:last-child::after {align-self: flex-start;width: 50%;}#sk-5d38d429-0653-49c5-88e6-cde99c2f9cd4 div.sk-parallel-item:only-child::after {width: 0;}#sk-5d38d429-0653-49c5-88e6-cde99c2f9cd4 div.sk-dashed-wrapped {border: 1px dashed gray;margin: 0 0.4em 0.5em 0.4em;box-sizing: border-box;padding-bottom: 0.4em;background-color: white;position: relative;}#sk-5d38d429-0653-49c5-88e6-cde99c2f9cd4 div.sk-label label {font-family: monospace;font-weight: bold;background-color: white;display: inline-block;line-height: 1.2em;}#sk-5d38d429-0653-49c5-88e6-cde99c2f9cd4 div.sk-label-container {position: relative;z-index: 2;text-align: center;}#sk-5d38d429-0653-49c5-88e6-cde99c2f9cd4 div.sk-container {/* jupyter's `normalize.less` sets `[hidden] { display: none; }` but bootstrap.min.css set `[hidden] { display: none !important; }` so we also need the `!important` here to be able to override the default hidden behavior on the sphinx rendered scikit-learn.org. See: https://github.com/scikit-learn/scikit-learn/issues/21755 */display: inline-block !important;position: relative;}#sk-5d38d429-0653-49c5-88e6-cde99c2f9cd4 div.sk-text-repr-fallback {display: none;}</style><div id=\"sk-5d38d429-0653-49c5-88e6-cde99c2f9cd4\" class=\"sk-top-container\"><div class=\"sk-text-repr-fallback\"><pre>Pipeline(steps=[(&#x27;columntransformer&#x27;,\n",
       "                 ColumnTransformer(remainder=&#x27;passthrough&#x27;,\n",
       "                                   transformers=[(&#x27;onehotencoder&#x27;,\n",
       "                                                  OneHotEncoder(handle_unknown=&#x27;ignore&#x27;),\n",
       "                                                  &lt;sklearn.compose._column_transformer.make_column_selector object at 0x7faa4f47cb50&gt;)],\n",
       "                                   verbose_feature_names_out=False)),\n",
       "                (&#x27;standardscaler&#x27;, StandardScaler(with_mean=False)),\n",
       "                (&#x27;linearregression&#x27;, LinearRegression())])</pre><b>Please rerun this cell to show the HTML repr or trust the notebook.</b></div><div class=\"sk-container\" hidden><div class=\"sk-item sk-dashed-wrapped\"><div class=\"sk-label-container\"><div class=\"sk-label sk-toggleable\"><input class=\"sk-toggleable__control sk-hidden--visually\" id=\"cf1ad3a7-b15d-49fc-9fb7-d3d8a6c5ff63\" type=\"checkbox\" ><label for=\"cf1ad3a7-b15d-49fc-9fb7-d3d8a6c5ff63\" class=\"sk-toggleable__label sk-toggleable__label-arrow\">Pipeline</label><div class=\"sk-toggleable__content\"><pre>Pipeline(steps=[(&#x27;columntransformer&#x27;,\n",
       "                 ColumnTransformer(remainder=&#x27;passthrough&#x27;,\n",
       "                                   transformers=[(&#x27;onehotencoder&#x27;,\n",
       "                                                  OneHotEncoder(handle_unknown=&#x27;ignore&#x27;),\n",
       "                                                  &lt;sklearn.compose._column_transformer.make_column_selector object at 0x7faa4f47cb50&gt;)],\n",
       "                                   verbose_feature_names_out=False)),\n",
       "                (&#x27;standardscaler&#x27;, StandardScaler(with_mean=False)),\n",
       "                (&#x27;linearregression&#x27;, LinearRegression())])</pre></div></div></div><div class=\"sk-serial\"><div class=\"sk-item sk-dashed-wrapped\"><div class=\"sk-label-container\"><div class=\"sk-label sk-toggleable\"><input class=\"sk-toggleable__control sk-hidden--visually\" id=\"9bbf1eb8-8ca6-43d5-bf3f-20e5d6843b59\" type=\"checkbox\" ><label for=\"9bbf1eb8-8ca6-43d5-bf3f-20e5d6843b59\" class=\"sk-toggleable__label sk-toggleable__label-arrow\">columntransformer: ColumnTransformer</label><div class=\"sk-toggleable__content\"><pre>ColumnTransformer(remainder=&#x27;passthrough&#x27;,\n",
       "                  transformers=[(&#x27;onehotencoder&#x27;,\n",
       "                                 OneHotEncoder(handle_unknown=&#x27;ignore&#x27;),\n",
       "                                 &lt;sklearn.compose._column_transformer.make_column_selector object at 0x7faa4f47cb50&gt;)],\n",
       "                  verbose_feature_names_out=False)</pre></div></div></div><div class=\"sk-parallel\"><div class=\"sk-parallel-item\"><div class=\"sk-item\"><div class=\"sk-label-container\"><div class=\"sk-label sk-toggleable\"><input class=\"sk-toggleable__control sk-hidden--visually\" id=\"afddba2b-3ba6-4b61-b2d8-b095ef03e449\" type=\"checkbox\" ><label for=\"afddba2b-3ba6-4b61-b2d8-b095ef03e449\" class=\"sk-toggleable__label sk-toggleable__label-arrow\">onehotencoder</label><div class=\"sk-toggleable__content\"><pre>&lt;sklearn.compose._column_transformer.make_column_selector object at 0x7faa4f47cb50&gt;</pre></div></div></div><div class=\"sk-serial\"><div class=\"sk-item\"><div class=\"sk-estimator sk-toggleable\"><input class=\"sk-toggleable__control sk-hidden--visually\" id=\"3dc00e67-8369-4a2c-a0d7-dba6b4710d49\" type=\"checkbox\" ><label for=\"3dc00e67-8369-4a2c-a0d7-dba6b4710d49\" class=\"sk-toggleable__label sk-toggleable__label-arrow\">OneHotEncoder</label><div class=\"sk-toggleable__content\"><pre>OneHotEncoder(handle_unknown=&#x27;ignore&#x27;)</pre></div></div></div></div></div></div><div class=\"sk-parallel-item\"><div class=\"sk-item\"><div class=\"sk-label-container\"><div class=\"sk-label sk-toggleable\"><input class=\"sk-toggleable__control sk-hidden--visually\" id=\"4d942931-efaa-422b-9852-9cc394cbb9be\" type=\"checkbox\" ><label for=\"4d942931-efaa-422b-9852-9cc394cbb9be\" class=\"sk-toggleable__label sk-toggleable__label-arrow\">remainder</label><div class=\"sk-toggleable__content\"><pre>[]</pre></div></div></div><div class=\"sk-serial\"><div class=\"sk-item\"><div class=\"sk-estimator sk-toggleable\"><input class=\"sk-toggleable__control sk-hidden--visually\" id=\"8d4371d3-fed7-4823-b141-41aa79ec63e7\" type=\"checkbox\" ><label for=\"8d4371d3-fed7-4823-b141-41aa79ec63e7\" class=\"sk-toggleable__label sk-toggleable__label-arrow\">passthrough</label><div class=\"sk-toggleable__content\"><pre>passthrough</pre></div></div></div></div></div></div></div></div><div class=\"sk-item\"><div class=\"sk-estimator sk-toggleable\"><input class=\"sk-toggleable__control sk-hidden--visually\" id=\"7ae406f7-f161-4bf5-9ea5-4d06e221649c\" type=\"checkbox\" ><label for=\"7ae406f7-f161-4bf5-9ea5-4d06e221649c\" class=\"sk-toggleable__label sk-toggleable__label-arrow\">StandardScaler</label><div class=\"sk-toggleable__content\"><pre>StandardScaler(with_mean=False)</pre></div></div></div><div class=\"sk-item\"><div class=\"sk-estimator sk-toggleable\"><input class=\"sk-toggleable__control sk-hidden--visually\" id=\"a573ace6-e601-4738-ae39-505081a4e427\" type=\"checkbox\" ><label for=\"a573ace6-e601-4738-ae39-505081a4e427\" class=\"sk-toggleable__label sk-toggleable__label-arrow\">LinearRegression</label><div class=\"sk-toggleable__content\"><pre>LinearRegression()</pre></div></div></div></div></div></div></div>"
      ],
      "text/plain": [
       "Pipeline(steps=[('columntransformer',\n",
       "                 ColumnTransformer(remainder='passthrough',\n",
       "                                   transformers=[('onehotencoder',\n",
       "                                                  OneHotEncoder(handle_unknown='ignore'),\n",
       "                                                  <sklearn.compose._column_transformer.make_column_selector object at 0x7faa4f47cb50>)],\n",
       "                                   verbose_feature_names_out=False)),\n",
       "                ('standardscaler', StandardScaler(with_mean=False)),\n",
       "                ('linearregression', LinearRegression())])"
      ]
     },
     "execution_count": 36,
     "metadata": {},
     "output_type": "execute_result"
    }
   ],
   "source": [
    "pipe2.fit(X_train, y_train)"
   ]
  },
  {
   "cell_type": "code",
   "execution_count": 37,
   "metadata": {},
   "outputs": [
    {
     "data": {
      "text/plain": [
       "0.6262624740055753"
      ]
     },
     "execution_count": 37,
     "metadata": {},
     "output_type": "execute_result"
    }
   ],
   "source": [
    "pipe2.score(X_test, y_test)"
   ]
  },
  {
   "cell_type": "code",
   "execution_count": 38,
   "metadata": {},
   "outputs": [],
   "source": [
    "preds = pipe2.predict(X_test)"
   ]
  },
  {
   "cell_type": "code",
   "execution_count": 39,
   "metadata": {},
   "outputs": [
    {
     "data": {
      "text/plain": [
       "47982.07662062991"
      ]
     },
     "execution_count": 39,
     "metadata": {},
     "output_type": "execute_result"
    }
   ],
   "source": [
    "mean_squared_error(y_test, preds, squared=False)"
   ]
  },
  {
   "cell_type": "markdown",
   "metadata": {},
   "source": [
    "Our RMSE using location proxies is considerably worse than our baseline Linear Regression, even if it is better than using only Neighborhood."
   ]
  },
  {
   "cell_type": "markdown",
   "metadata": {},
   "source": [
    "### Kaggle submission"
   ]
  },
  {
   "cell_type": "code",
   "execution_count": 40,
   "metadata": {},
   "outputs": [],
   "source": [
    "test['SalePrice'] = pipe2.predict(kaggle)"
   ]
  },
  {
   "cell_type": "code",
   "execution_count": 41,
   "metadata": {},
   "outputs": [],
   "source": [
    "test[['Id', 'SalePrice']].to_csv('../data/submission_all_location_linreg.csv', index=False)"
   ]
  },
  {
   "cell_type": "markdown",
   "metadata": {},
   "source": [
    "## Combine all selected features and fit on Linear Regression"
   ]
  },
  {
   "cell_type": "markdown",
   "metadata": {},
   "source": [
    "### Train-Test split"
   ]
  },
  {
   "cell_type": "code",
   "execution_count": 42,
   "metadata": {},
   "outputs": [],
   "source": [
    "X = train.drop(columns='SalePrice')\n",
    "y = train['SalePrice']\n",
    "kaggle = test[X.columns]"
   ]
  },
  {
   "cell_type": "code",
   "execution_count": 43,
   "metadata": {},
   "outputs": [],
   "source": [
    "X_train, X_test, y_train, y_test = train_test_split(X, y, random_state=1331)"
   ]
  },
  {
   "cell_type": "markdown",
   "metadata": {},
   "source": [
    "### Column transformations"
   ]
  },
  {
   "cell_type": "code",
   "execution_count": 44,
   "metadata": {},
   "outputs": [
    {
     "data": {
      "text/html": [
       "<style>#sk-ba91a36b-3444-4847-89b6-096d938cf0a2 {color: black;background-color: white;}#sk-ba91a36b-3444-4847-89b6-096d938cf0a2 pre{padding: 0;}#sk-ba91a36b-3444-4847-89b6-096d938cf0a2 div.sk-toggleable {background-color: white;}#sk-ba91a36b-3444-4847-89b6-096d938cf0a2 label.sk-toggleable__label {cursor: pointer;display: block;width: 100%;margin-bottom: 0;padding: 0.3em;box-sizing: border-box;text-align: center;}#sk-ba91a36b-3444-4847-89b6-096d938cf0a2 label.sk-toggleable__label-arrow:before {content: \"▸\";float: left;margin-right: 0.25em;color: #696969;}#sk-ba91a36b-3444-4847-89b6-096d938cf0a2 label.sk-toggleable__label-arrow:hover:before {color: black;}#sk-ba91a36b-3444-4847-89b6-096d938cf0a2 div.sk-estimator:hover label.sk-toggleable__label-arrow:before {color: black;}#sk-ba91a36b-3444-4847-89b6-096d938cf0a2 div.sk-toggleable__content {max-height: 0;max-width: 0;overflow: hidden;text-align: left;background-color: #f0f8ff;}#sk-ba91a36b-3444-4847-89b6-096d938cf0a2 div.sk-toggleable__content pre {margin: 0.2em;color: black;border-radius: 0.25em;background-color: #f0f8ff;}#sk-ba91a36b-3444-4847-89b6-096d938cf0a2 input.sk-toggleable__control:checked~div.sk-toggleable__content {max-height: 200px;max-width: 100%;overflow: auto;}#sk-ba91a36b-3444-4847-89b6-096d938cf0a2 input.sk-toggleable__control:checked~label.sk-toggleable__label-arrow:before {content: \"▾\";}#sk-ba91a36b-3444-4847-89b6-096d938cf0a2 div.sk-estimator input.sk-toggleable__control:checked~label.sk-toggleable__label {background-color: #d4ebff;}#sk-ba91a36b-3444-4847-89b6-096d938cf0a2 div.sk-label input.sk-toggleable__control:checked~label.sk-toggleable__label {background-color: #d4ebff;}#sk-ba91a36b-3444-4847-89b6-096d938cf0a2 input.sk-hidden--visually {border: 0;clip: rect(1px 1px 1px 1px);clip: rect(1px, 1px, 1px, 1px);height: 1px;margin: -1px;overflow: hidden;padding: 0;position: absolute;width: 1px;}#sk-ba91a36b-3444-4847-89b6-096d938cf0a2 div.sk-estimator {font-family: monospace;background-color: #f0f8ff;border: 1px dotted black;border-radius: 0.25em;box-sizing: border-box;margin-bottom: 0.5em;}#sk-ba91a36b-3444-4847-89b6-096d938cf0a2 div.sk-estimator:hover {background-color: #d4ebff;}#sk-ba91a36b-3444-4847-89b6-096d938cf0a2 div.sk-parallel-item::after {content: \"\";width: 100%;border-bottom: 1px solid gray;flex-grow: 1;}#sk-ba91a36b-3444-4847-89b6-096d938cf0a2 div.sk-label:hover label.sk-toggleable__label {background-color: #d4ebff;}#sk-ba91a36b-3444-4847-89b6-096d938cf0a2 div.sk-serial::before {content: \"\";position: absolute;border-left: 1px solid gray;box-sizing: border-box;top: 2em;bottom: 0;left: 50%;}#sk-ba91a36b-3444-4847-89b6-096d938cf0a2 div.sk-serial {display: flex;flex-direction: column;align-items: center;background-color: white;padding-right: 0.2em;padding-left: 0.2em;}#sk-ba91a36b-3444-4847-89b6-096d938cf0a2 div.sk-item {z-index: 1;}#sk-ba91a36b-3444-4847-89b6-096d938cf0a2 div.sk-parallel {display: flex;align-items: stretch;justify-content: center;background-color: white;}#sk-ba91a36b-3444-4847-89b6-096d938cf0a2 div.sk-parallel::before {content: \"\";position: absolute;border-left: 1px solid gray;box-sizing: border-box;top: 2em;bottom: 0;left: 50%;}#sk-ba91a36b-3444-4847-89b6-096d938cf0a2 div.sk-parallel-item {display: flex;flex-direction: column;position: relative;background-color: white;}#sk-ba91a36b-3444-4847-89b6-096d938cf0a2 div.sk-parallel-item:first-child::after {align-self: flex-end;width: 50%;}#sk-ba91a36b-3444-4847-89b6-096d938cf0a2 div.sk-parallel-item:last-child::after {align-self: flex-start;width: 50%;}#sk-ba91a36b-3444-4847-89b6-096d938cf0a2 div.sk-parallel-item:only-child::after {width: 0;}#sk-ba91a36b-3444-4847-89b6-096d938cf0a2 div.sk-dashed-wrapped {border: 1px dashed gray;margin: 0 0.4em 0.5em 0.4em;box-sizing: border-box;padding-bottom: 0.4em;background-color: white;position: relative;}#sk-ba91a36b-3444-4847-89b6-096d938cf0a2 div.sk-label label {font-family: monospace;font-weight: bold;background-color: white;display: inline-block;line-height: 1.2em;}#sk-ba91a36b-3444-4847-89b6-096d938cf0a2 div.sk-label-container {position: relative;z-index: 2;text-align: center;}#sk-ba91a36b-3444-4847-89b6-096d938cf0a2 div.sk-container {/* jupyter's `normalize.less` sets `[hidden] { display: none; }` but bootstrap.min.css set `[hidden] { display: none !important; }` so we also need the `!important` here to be able to override the default hidden behavior on the sphinx rendered scikit-learn.org. See: https://github.com/scikit-learn/scikit-learn/issues/21755 */display: inline-block !important;position: relative;}#sk-ba91a36b-3444-4847-89b6-096d938cf0a2 div.sk-text-repr-fallback {display: none;}</style><div id=\"sk-ba91a36b-3444-4847-89b6-096d938cf0a2\" class=\"sk-top-container\"><div class=\"sk-text-repr-fallback\"><pre>ColumnTransformer(remainder=&#x27;passthrough&#x27;,\n",
       "                  transformers=[(&#x27;onehotencoder&#x27;,\n",
       "                                 OneHotEncoder(handle_unknown=&#x27;ignore&#x27;),\n",
       "                                 &lt;sklearn.compose._column_transformer.make_column_selector object at 0x7faa4f47c700&gt;)],\n",
       "                  verbose_feature_names_out=False)</pre><b>Please rerun this cell to show the HTML repr or trust the notebook.</b></div><div class=\"sk-container\" hidden><div class=\"sk-item sk-dashed-wrapped\"><div class=\"sk-label-container\"><div class=\"sk-label sk-toggleable\"><input class=\"sk-toggleable__control sk-hidden--visually\" id=\"dba13882-1576-4613-9655-5dbf23faec1b\" type=\"checkbox\" ><label for=\"dba13882-1576-4613-9655-5dbf23faec1b\" class=\"sk-toggleable__label sk-toggleable__label-arrow\">ColumnTransformer</label><div class=\"sk-toggleable__content\"><pre>ColumnTransformer(remainder=&#x27;passthrough&#x27;,\n",
       "                  transformers=[(&#x27;onehotencoder&#x27;,\n",
       "                                 OneHotEncoder(handle_unknown=&#x27;ignore&#x27;),\n",
       "                                 &lt;sklearn.compose._column_transformer.make_column_selector object at 0x7faa4f47c700&gt;)],\n",
       "                  verbose_feature_names_out=False)</pre></div></div></div><div class=\"sk-parallel\"><div class=\"sk-parallel-item\"><div class=\"sk-item\"><div class=\"sk-label-container\"><div class=\"sk-label sk-toggleable\"><input class=\"sk-toggleable__control sk-hidden--visually\" id=\"ea35bd75-5311-4e99-8ce7-34f25a5bc703\" type=\"checkbox\" ><label for=\"ea35bd75-5311-4e99-8ce7-34f25a5bc703\" class=\"sk-toggleable__label sk-toggleable__label-arrow\">onehotencoder</label><div class=\"sk-toggleable__content\"><pre>&lt;sklearn.compose._column_transformer.make_column_selector object at 0x7faa4f47c700&gt;</pre></div></div></div><div class=\"sk-serial\"><div class=\"sk-item\"><div class=\"sk-estimator sk-toggleable\"><input class=\"sk-toggleable__control sk-hidden--visually\" id=\"8d7ff497-8c22-4e93-a4e0-863b1a4e7353\" type=\"checkbox\" ><label for=\"8d7ff497-8c22-4e93-a4e0-863b1a4e7353\" class=\"sk-toggleable__label sk-toggleable__label-arrow\">OneHotEncoder</label><div class=\"sk-toggleable__content\"><pre>OneHotEncoder(handle_unknown=&#x27;ignore&#x27;)</pre></div></div></div></div></div></div><div class=\"sk-parallel-item\"><div class=\"sk-item\"><div class=\"sk-label-container\"><div class=\"sk-label sk-toggleable\"><input class=\"sk-toggleable__control sk-hidden--visually\" id=\"75acd8c4-82bf-48d9-ac20-5842f92026c6\" type=\"checkbox\" ><label for=\"75acd8c4-82bf-48d9-ac20-5842f92026c6\" class=\"sk-toggleable__label sk-toggleable__label-arrow\">remainder</label><div class=\"sk-toggleable__content\"><pre></pre></div></div></div><div class=\"sk-serial\"><div class=\"sk-item\"><div class=\"sk-estimator sk-toggleable\"><input class=\"sk-toggleable__control sk-hidden--visually\" id=\"476f81f8-0b7a-432b-bc08-094314e0df0c\" type=\"checkbox\" ><label for=\"476f81f8-0b7a-432b-bc08-094314e0df0c\" class=\"sk-toggleable__label sk-toggleable__label-arrow\">passthrough</label><div class=\"sk-toggleable__content\"><pre>passthrough</pre></div></div></div></div></div></div></div></div></div></div>"
      ],
      "text/plain": [
       "ColumnTransformer(remainder='passthrough',\n",
       "                  transformers=[('onehotencoder',\n",
       "                                 OneHotEncoder(handle_unknown='ignore'),\n",
       "                                 <sklearn.compose._column_transformer.make_column_selector object at 0x7faa4f47c700>)],\n",
       "                  verbose_feature_names_out=False)"
      ]
     },
     "execution_count": 44,
     "metadata": {},
     "output_type": "execute_result"
    }
   ],
   "source": [
    "ct3 = make_column_transformer(\n",
    "    (OneHotEncoder(handle_unknown='ignore'), make_column_selector(dtype_include=object)),\n",
    "    remainder='passthrough',\n",
    "    verbose_feature_names_out=False\n",
    ")\n",
    "ct3"
   ]
  },
  {
   "cell_type": "markdown",
   "metadata": {},
   "source": [
    "### Pipeline with Column transformer, Standard Scaler and Linear Regression"
   ]
  },
  {
   "cell_type": "code",
   "execution_count": 45,
   "metadata": {},
   "outputs": [
    {
     "data": {
      "text/html": [
       "<style>#sk-f4446da3-10b9-4680-9ae2-2bda5b717535 {color: black;background-color: white;}#sk-f4446da3-10b9-4680-9ae2-2bda5b717535 pre{padding: 0;}#sk-f4446da3-10b9-4680-9ae2-2bda5b717535 div.sk-toggleable {background-color: white;}#sk-f4446da3-10b9-4680-9ae2-2bda5b717535 label.sk-toggleable__label {cursor: pointer;display: block;width: 100%;margin-bottom: 0;padding: 0.3em;box-sizing: border-box;text-align: center;}#sk-f4446da3-10b9-4680-9ae2-2bda5b717535 label.sk-toggleable__label-arrow:before {content: \"▸\";float: left;margin-right: 0.25em;color: #696969;}#sk-f4446da3-10b9-4680-9ae2-2bda5b717535 label.sk-toggleable__label-arrow:hover:before {color: black;}#sk-f4446da3-10b9-4680-9ae2-2bda5b717535 div.sk-estimator:hover label.sk-toggleable__label-arrow:before {color: black;}#sk-f4446da3-10b9-4680-9ae2-2bda5b717535 div.sk-toggleable__content {max-height: 0;max-width: 0;overflow: hidden;text-align: left;background-color: #f0f8ff;}#sk-f4446da3-10b9-4680-9ae2-2bda5b717535 div.sk-toggleable__content pre {margin: 0.2em;color: black;border-radius: 0.25em;background-color: #f0f8ff;}#sk-f4446da3-10b9-4680-9ae2-2bda5b717535 input.sk-toggleable__control:checked~div.sk-toggleable__content {max-height: 200px;max-width: 100%;overflow: auto;}#sk-f4446da3-10b9-4680-9ae2-2bda5b717535 input.sk-toggleable__control:checked~label.sk-toggleable__label-arrow:before {content: \"▾\";}#sk-f4446da3-10b9-4680-9ae2-2bda5b717535 div.sk-estimator input.sk-toggleable__control:checked~label.sk-toggleable__label {background-color: #d4ebff;}#sk-f4446da3-10b9-4680-9ae2-2bda5b717535 div.sk-label input.sk-toggleable__control:checked~label.sk-toggleable__label {background-color: #d4ebff;}#sk-f4446da3-10b9-4680-9ae2-2bda5b717535 input.sk-hidden--visually {border: 0;clip: rect(1px 1px 1px 1px);clip: rect(1px, 1px, 1px, 1px);height: 1px;margin: -1px;overflow: hidden;padding: 0;position: absolute;width: 1px;}#sk-f4446da3-10b9-4680-9ae2-2bda5b717535 div.sk-estimator {font-family: monospace;background-color: #f0f8ff;border: 1px dotted black;border-radius: 0.25em;box-sizing: border-box;margin-bottom: 0.5em;}#sk-f4446da3-10b9-4680-9ae2-2bda5b717535 div.sk-estimator:hover {background-color: #d4ebff;}#sk-f4446da3-10b9-4680-9ae2-2bda5b717535 div.sk-parallel-item::after {content: \"\";width: 100%;border-bottom: 1px solid gray;flex-grow: 1;}#sk-f4446da3-10b9-4680-9ae2-2bda5b717535 div.sk-label:hover label.sk-toggleable__label {background-color: #d4ebff;}#sk-f4446da3-10b9-4680-9ae2-2bda5b717535 div.sk-serial::before {content: \"\";position: absolute;border-left: 1px solid gray;box-sizing: border-box;top: 2em;bottom: 0;left: 50%;}#sk-f4446da3-10b9-4680-9ae2-2bda5b717535 div.sk-serial {display: flex;flex-direction: column;align-items: center;background-color: white;padding-right: 0.2em;padding-left: 0.2em;}#sk-f4446da3-10b9-4680-9ae2-2bda5b717535 div.sk-item {z-index: 1;}#sk-f4446da3-10b9-4680-9ae2-2bda5b717535 div.sk-parallel {display: flex;align-items: stretch;justify-content: center;background-color: white;}#sk-f4446da3-10b9-4680-9ae2-2bda5b717535 div.sk-parallel::before {content: \"\";position: absolute;border-left: 1px solid gray;box-sizing: border-box;top: 2em;bottom: 0;left: 50%;}#sk-f4446da3-10b9-4680-9ae2-2bda5b717535 div.sk-parallel-item {display: flex;flex-direction: column;position: relative;background-color: white;}#sk-f4446da3-10b9-4680-9ae2-2bda5b717535 div.sk-parallel-item:first-child::after {align-self: flex-end;width: 50%;}#sk-f4446da3-10b9-4680-9ae2-2bda5b717535 div.sk-parallel-item:last-child::after {align-self: flex-start;width: 50%;}#sk-f4446da3-10b9-4680-9ae2-2bda5b717535 div.sk-parallel-item:only-child::after {width: 0;}#sk-f4446da3-10b9-4680-9ae2-2bda5b717535 div.sk-dashed-wrapped {border: 1px dashed gray;margin: 0 0.4em 0.5em 0.4em;box-sizing: border-box;padding-bottom: 0.4em;background-color: white;position: relative;}#sk-f4446da3-10b9-4680-9ae2-2bda5b717535 div.sk-label label {font-family: monospace;font-weight: bold;background-color: white;display: inline-block;line-height: 1.2em;}#sk-f4446da3-10b9-4680-9ae2-2bda5b717535 div.sk-label-container {position: relative;z-index: 2;text-align: center;}#sk-f4446da3-10b9-4680-9ae2-2bda5b717535 div.sk-container {/* jupyter's `normalize.less` sets `[hidden] { display: none; }` but bootstrap.min.css set `[hidden] { display: none !important; }` so we also need the `!important` here to be able to override the default hidden behavior on the sphinx rendered scikit-learn.org. See: https://github.com/scikit-learn/scikit-learn/issues/21755 */display: inline-block !important;position: relative;}#sk-f4446da3-10b9-4680-9ae2-2bda5b717535 div.sk-text-repr-fallback {display: none;}</style><div id=\"sk-f4446da3-10b9-4680-9ae2-2bda5b717535\" class=\"sk-top-container\"><div class=\"sk-text-repr-fallback\"><pre>Pipeline(steps=[(&#x27;columntransformer&#x27;,\n",
       "                 ColumnTransformer(remainder=&#x27;passthrough&#x27;,\n",
       "                                   transformers=[(&#x27;onehotencoder&#x27;,\n",
       "                                                  OneHotEncoder(handle_unknown=&#x27;ignore&#x27;),\n",
       "                                                  &lt;sklearn.compose._column_transformer.make_column_selector object at 0x7faa4f47c700&gt;)],\n",
       "                                   verbose_feature_names_out=False)),\n",
       "                (&#x27;standardscaler&#x27;, StandardScaler(with_mean=False)),\n",
       "                (&#x27;linearregression&#x27;, LinearRegression())])</pre><b>Please rerun this cell to show the HTML repr or trust the notebook.</b></div><div class=\"sk-container\" hidden><div class=\"sk-item sk-dashed-wrapped\"><div class=\"sk-label-container\"><div class=\"sk-label sk-toggleable\"><input class=\"sk-toggleable__control sk-hidden--visually\" id=\"63b852e7-f0fa-453e-816d-754452c6bdf8\" type=\"checkbox\" ><label for=\"63b852e7-f0fa-453e-816d-754452c6bdf8\" class=\"sk-toggleable__label sk-toggleable__label-arrow\">Pipeline</label><div class=\"sk-toggleable__content\"><pre>Pipeline(steps=[(&#x27;columntransformer&#x27;,\n",
       "                 ColumnTransformer(remainder=&#x27;passthrough&#x27;,\n",
       "                                   transformers=[(&#x27;onehotencoder&#x27;,\n",
       "                                                  OneHotEncoder(handle_unknown=&#x27;ignore&#x27;),\n",
       "                                                  &lt;sklearn.compose._column_transformer.make_column_selector object at 0x7faa4f47c700&gt;)],\n",
       "                                   verbose_feature_names_out=False)),\n",
       "                (&#x27;standardscaler&#x27;, StandardScaler(with_mean=False)),\n",
       "                (&#x27;linearregression&#x27;, LinearRegression())])</pre></div></div></div><div class=\"sk-serial\"><div class=\"sk-item sk-dashed-wrapped\"><div class=\"sk-label-container\"><div class=\"sk-label sk-toggleable\"><input class=\"sk-toggleable__control sk-hidden--visually\" id=\"3847424f-bd93-492d-8e22-da4205c3cb1d\" type=\"checkbox\" ><label for=\"3847424f-bd93-492d-8e22-da4205c3cb1d\" class=\"sk-toggleable__label sk-toggleable__label-arrow\">columntransformer: ColumnTransformer</label><div class=\"sk-toggleable__content\"><pre>ColumnTransformer(remainder=&#x27;passthrough&#x27;,\n",
       "                  transformers=[(&#x27;onehotencoder&#x27;,\n",
       "                                 OneHotEncoder(handle_unknown=&#x27;ignore&#x27;),\n",
       "                                 &lt;sklearn.compose._column_transformer.make_column_selector object at 0x7faa4f47c700&gt;)],\n",
       "                  verbose_feature_names_out=False)</pre></div></div></div><div class=\"sk-parallel\"><div class=\"sk-parallel-item\"><div class=\"sk-item\"><div class=\"sk-label-container\"><div class=\"sk-label sk-toggleable\"><input class=\"sk-toggleable__control sk-hidden--visually\" id=\"fad934fc-d669-4b58-abe4-2f8ae9246d84\" type=\"checkbox\" ><label for=\"fad934fc-d669-4b58-abe4-2f8ae9246d84\" class=\"sk-toggleable__label sk-toggleable__label-arrow\">onehotencoder</label><div class=\"sk-toggleable__content\"><pre>&lt;sklearn.compose._column_transformer.make_column_selector object at 0x7faa4f47c700&gt;</pre></div></div></div><div class=\"sk-serial\"><div class=\"sk-item\"><div class=\"sk-estimator sk-toggleable\"><input class=\"sk-toggleable__control sk-hidden--visually\" id=\"d2893d3b-cccb-4770-bf81-7ade1090a047\" type=\"checkbox\" ><label for=\"d2893d3b-cccb-4770-bf81-7ade1090a047\" class=\"sk-toggleable__label sk-toggleable__label-arrow\">OneHotEncoder</label><div class=\"sk-toggleable__content\"><pre>OneHotEncoder(handle_unknown=&#x27;ignore&#x27;)</pre></div></div></div></div></div></div><div class=\"sk-parallel-item\"><div class=\"sk-item\"><div class=\"sk-label-container\"><div class=\"sk-label sk-toggleable\"><input class=\"sk-toggleable__control sk-hidden--visually\" id=\"f9fa0af3-71bc-496b-8114-4166da4cc61f\" type=\"checkbox\" ><label for=\"f9fa0af3-71bc-496b-8114-4166da4cc61f\" class=\"sk-toggleable__label sk-toggleable__label-arrow\">remainder</label><div class=\"sk-toggleable__content\"><pre></pre></div></div></div><div class=\"sk-serial\"><div class=\"sk-item\"><div class=\"sk-estimator sk-toggleable\"><input class=\"sk-toggleable__control sk-hidden--visually\" id=\"7a498713-1033-44be-a024-ce2b7c211b96\" type=\"checkbox\" ><label for=\"7a498713-1033-44be-a024-ce2b7c211b96\" class=\"sk-toggleable__label sk-toggleable__label-arrow\">passthrough</label><div class=\"sk-toggleable__content\"><pre>passthrough</pre></div></div></div></div></div></div></div></div><div class=\"sk-item\"><div class=\"sk-estimator sk-toggleable\"><input class=\"sk-toggleable__control sk-hidden--visually\" id=\"3f6f3c48-b1f5-4a36-907e-767dd52b8359\" type=\"checkbox\" ><label for=\"3f6f3c48-b1f5-4a36-907e-767dd52b8359\" class=\"sk-toggleable__label sk-toggleable__label-arrow\">StandardScaler</label><div class=\"sk-toggleable__content\"><pre>StandardScaler(with_mean=False)</pre></div></div></div><div class=\"sk-item\"><div class=\"sk-estimator sk-toggleable\"><input class=\"sk-toggleable__control sk-hidden--visually\" id=\"fbe98d9e-a99f-480c-ba51-bf846eb9b58b\" type=\"checkbox\" ><label for=\"fbe98d9e-a99f-480c-ba51-bf846eb9b58b\" class=\"sk-toggleable__label sk-toggleable__label-arrow\">LinearRegression</label><div class=\"sk-toggleable__content\"><pre>LinearRegression()</pre></div></div></div></div></div></div></div>"
      ],
      "text/plain": [
       "Pipeline(steps=[('columntransformer',\n",
       "                 ColumnTransformer(remainder='passthrough',\n",
       "                                   transformers=[('onehotencoder',\n",
       "                                                  OneHotEncoder(handle_unknown='ignore'),\n",
       "                                                  <sklearn.compose._column_transformer.make_column_selector object at 0x7faa4f47c700>)],\n",
       "                                   verbose_feature_names_out=False)),\n",
       "                ('standardscaler', StandardScaler(with_mean=False)),\n",
       "                ('linearregression', LinearRegression())])"
      ]
     },
     "execution_count": 45,
     "metadata": {},
     "output_type": "execute_result"
    }
   ],
   "source": [
    "pipe3 = make_pipeline(ct3, StandardScaler(with_mean=False), LinearRegression())\n",
    "pipe3"
   ]
  },
  {
   "cell_type": "markdown",
   "metadata": {},
   "source": [
    "### Fit, Predict and Score"
   ]
  },
  {
   "cell_type": "code",
   "execution_count": 46,
   "metadata": {},
   "outputs": [
    {
     "data": {
      "text/html": [
       "<style>#sk-f47b045b-5741-4295-8340-ad9161f194eb {color: black;background-color: white;}#sk-f47b045b-5741-4295-8340-ad9161f194eb pre{padding: 0;}#sk-f47b045b-5741-4295-8340-ad9161f194eb div.sk-toggleable {background-color: white;}#sk-f47b045b-5741-4295-8340-ad9161f194eb label.sk-toggleable__label {cursor: pointer;display: block;width: 100%;margin-bottom: 0;padding: 0.3em;box-sizing: border-box;text-align: center;}#sk-f47b045b-5741-4295-8340-ad9161f194eb label.sk-toggleable__label-arrow:before {content: \"▸\";float: left;margin-right: 0.25em;color: #696969;}#sk-f47b045b-5741-4295-8340-ad9161f194eb label.sk-toggleable__label-arrow:hover:before {color: black;}#sk-f47b045b-5741-4295-8340-ad9161f194eb div.sk-estimator:hover label.sk-toggleable__label-arrow:before {color: black;}#sk-f47b045b-5741-4295-8340-ad9161f194eb div.sk-toggleable__content {max-height: 0;max-width: 0;overflow: hidden;text-align: left;background-color: #f0f8ff;}#sk-f47b045b-5741-4295-8340-ad9161f194eb div.sk-toggleable__content pre {margin: 0.2em;color: black;border-radius: 0.25em;background-color: #f0f8ff;}#sk-f47b045b-5741-4295-8340-ad9161f194eb input.sk-toggleable__control:checked~div.sk-toggleable__content {max-height: 200px;max-width: 100%;overflow: auto;}#sk-f47b045b-5741-4295-8340-ad9161f194eb input.sk-toggleable__control:checked~label.sk-toggleable__label-arrow:before {content: \"▾\";}#sk-f47b045b-5741-4295-8340-ad9161f194eb div.sk-estimator input.sk-toggleable__control:checked~label.sk-toggleable__label {background-color: #d4ebff;}#sk-f47b045b-5741-4295-8340-ad9161f194eb div.sk-label input.sk-toggleable__control:checked~label.sk-toggleable__label {background-color: #d4ebff;}#sk-f47b045b-5741-4295-8340-ad9161f194eb input.sk-hidden--visually {border: 0;clip: rect(1px 1px 1px 1px);clip: rect(1px, 1px, 1px, 1px);height: 1px;margin: -1px;overflow: hidden;padding: 0;position: absolute;width: 1px;}#sk-f47b045b-5741-4295-8340-ad9161f194eb div.sk-estimator {font-family: monospace;background-color: #f0f8ff;border: 1px dotted black;border-radius: 0.25em;box-sizing: border-box;margin-bottom: 0.5em;}#sk-f47b045b-5741-4295-8340-ad9161f194eb div.sk-estimator:hover {background-color: #d4ebff;}#sk-f47b045b-5741-4295-8340-ad9161f194eb div.sk-parallel-item::after {content: \"\";width: 100%;border-bottom: 1px solid gray;flex-grow: 1;}#sk-f47b045b-5741-4295-8340-ad9161f194eb div.sk-label:hover label.sk-toggleable__label {background-color: #d4ebff;}#sk-f47b045b-5741-4295-8340-ad9161f194eb div.sk-serial::before {content: \"\";position: absolute;border-left: 1px solid gray;box-sizing: border-box;top: 2em;bottom: 0;left: 50%;}#sk-f47b045b-5741-4295-8340-ad9161f194eb div.sk-serial {display: flex;flex-direction: column;align-items: center;background-color: white;padding-right: 0.2em;padding-left: 0.2em;}#sk-f47b045b-5741-4295-8340-ad9161f194eb div.sk-item {z-index: 1;}#sk-f47b045b-5741-4295-8340-ad9161f194eb div.sk-parallel {display: flex;align-items: stretch;justify-content: center;background-color: white;}#sk-f47b045b-5741-4295-8340-ad9161f194eb div.sk-parallel::before {content: \"\";position: absolute;border-left: 1px solid gray;box-sizing: border-box;top: 2em;bottom: 0;left: 50%;}#sk-f47b045b-5741-4295-8340-ad9161f194eb div.sk-parallel-item {display: flex;flex-direction: column;position: relative;background-color: white;}#sk-f47b045b-5741-4295-8340-ad9161f194eb div.sk-parallel-item:first-child::after {align-self: flex-end;width: 50%;}#sk-f47b045b-5741-4295-8340-ad9161f194eb div.sk-parallel-item:last-child::after {align-self: flex-start;width: 50%;}#sk-f47b045b-5741-4295-8340-ad9161f194eb div.sk-parallel-item:only-child::after {width: 0;}#sk-f47b045b-5741-4295-8340-ad9161f194eb div.sk-dashed-wrapped {border: 1px dashed gray;margin: 0 0.4em 0.5em 0.4em;box-sizing: border-box;padding-bottom: 0.4em;background-color: white;position: relative;}#sk-f47b045b-5741-4295-8340-ad9161f194eb div.sk-label label {font-family: monospace;font-weight: bold;background-color: white;display: inline-block;line-height: 1.2em;}#sk-f47b045b-5741-4295-8340-ad9161f194eb div.sk-label-container {position: relative;z-index: 2;text-align: center;}#sk-f47b045b-5741-4295-8340-ad9161f194eb div.sk-container {/* jupyter's `normalize.less` sets `[hidden] { display: none; }` but bootstrap.min.css set `[hidden] { display: none !important; }` so we also need the `!important` here to be able to override the default hidden behavior on the sphinx rendered scikit-learn.org. See: https://github.com/scikit-learn/scikit-learn/issues/21755 */display: inline-block !important;position: relative;}#sk-f47b045b-5741-4295-8340-ad9161f194eb div.sk-text-repr-fallback {display: none;}</style><div id=\"sk-f47b045b-5741-4295-8340-ad9161f194eb\" class=\"sk-top-container\"><div class=\"sk-text-repr-fallback\"><pre>Pipeline(steps=[(&#x27;columntransformer&#x27;,\n",
       "                 ColumnTransformer(remainder=&#x27;passthrough&#x27;,\n",
       "                                   transformers=[(&#x27;onehotencoder&#x27;,\n",
       "                                                  OneHotEncoder(handle_unknown=&#x27;ignore&#x27;),\n",
       "                                                  &lt;sklearn.compose._column_transformer.make_column_selector object at 0x7faa4f47c700&gt;)],\n",
       "                                   verbose_feature_names_out=False)),\n",
       "                (&#x27;standardscaler&#x27;, StandardScaler(with_mean=False)),\n",
       "                (&#x27;linearregression&#x27;, LinearRegression())])</pre><b>Please rerun this cell to show the HTML repr or trust the notebook.</b></div><div class=\"sk-container\" hidden><div class=\"sk-item sk-dashed-wrapped\"><div class=\"sk-label-container\"><div class=\"sk-label sk-toggleable\"><input class=\"sk-toggleable__control sk-hidden--visually\" id=\"ca385536-734f-43b8-b3ca-8c384c315e51\" type=\"checkbox\" ><label for=\"ca385536-734f-43b8-b3ca-8c384c315e51\" class=\"sk-toggleable__label sk-toggleable__label-arrow\">Pipeline</label><div class=\"sk-toggleable__content\"><pre>Pipeline(steps=[(&#x27;columntransformer&#x27;,\n",
       "                 ColumnTransformer(remainder=&#x27;passthrough&#x27;,\n",
       "                                   transformers=[(&#x27;onehotencoder&#x27;,\n",
       "                                                  OneHotEncoder(handle_unknown=&#x27;ignore&#x27;),\n",
       "                                                  &lt;sklearn.compose._column_transformer.make_column_selector object at 0x7faa4f47c700&gt;)],\n",
       "                                   verbose_feature_names_out=False)),\n",
       "                (&#x27;standardscaler&#x27;, StandardScaler(with_mean=False)),\n",
       "                (&#x27;linearregression&#x27;, LinearRegression())])</pre></div></div></div><div class=\"sk-serial\"><div class=\"sk-item sk-dashed-wrapped\"><div class=\"sk-label-container\"><div class=\"sk-label sk-toggleable\"><input class=\"sk-toggleable__control sk-hidden--visually\" id=\"b50bd4d5-9064-47e5-aa8c-8c995e5c91e7\" type=\"checkbox\" ><label for=\"b50bd4d5-9064-47e5-aa8c-8c995e5c91e7\" class=\"sk-toggleable__label sk-toggleable__label-arrow\">columntransformer: ColumnTransformer</label><div class=\"sk-toggleable__content\"><pre>ColumnTransformer(remainder=&#x27;passthrough&#x27;,\n",
       "                  transformers=[(&#x27;onehotencoder&#x27;,\n",
       "                                 OneHotEncoder(handle_unknown=&#x27;ignore&#x27;),\n",
       "                                 &lt;sklearn.compose._column_transformer.make_column_selector object at 0x7faa4f47c700&gt;)],\n",
       "                  verbose_feature_names_out=False)</pre></div></div></div><div class=\"sk-parallel\"><div class=\"sk-parallel-item\"><div class=\"sk-item\"><div class=\"sk-label-container\"><div class=\"sk-label sk-toggleable\"><input class=\"sk-toggleable__control sk-hidden--visually\" id=\"ebf7a5c2-d4a6-49b9-814a-8817c5e3dcc6\" type=\"checkbox\" ><label for=\"ebf7a5c2-d4a6-49b9-814a-8817c5e3dcc6\" class=\"sk-toggleable__label sk-toggleable__label-arrow\">onehotencoder</label><div class=\"sk-toggleable__content\"><pre>&lt;sklearn.compose._column_transformer.make_column_selector object at 0x7faa4f47c700&gt;</pre></div></div></div><div class=\"sk-serial\"><div class=\"sk-item\"><div class=\"sk-estimator sk-toggleable\"><input class=\"sk-toggleable__control sk-hidden--visually\" id=\"b466fa92-0ae0-487c-8ad7-eb3c95e2a9c5\" type=\"checkbox\" ><label for=\"b466fa92-0ae0-487c-8ad7-eb3c95e2a9c5\" class=\"sk-toggleable__label sk-toggleable__label-arrow\">OneHotEncoder</label><div class=\"sk-toggleable__content\"><pre>OneHotEncoder(handle_unknown=&#x27;ignore&#x27;)</pre></div></div></div></div></div></div><div class=\"sk-parallel-item\"><div class=\"sk-item\"><div class=\"sk-label-container\"><div class=\"sk-label sk-toggleable\"><input class=\"sk-toggleable__control sk-hidden--visually\" id=\"86df4478-0cb4-451c-acec-e9b65e50651d\" type=\"checkbox\" ><label for=\"86df4478-0cb4-451c-acec-e9b65e50651d\" class=\"sk-toggleable__label sk-toggleable__label-arrow\">remainder</label><div class=\"sk-toggleable__content\"><pre>[&#x27;Year Built&#x27;, &#x27;Year Remod/Add&#x27;, &#x27;Overall Qual&#x27;, &#x27;Overall Cond&#x27;, &#x27;Gr Liv Area&#x27;, &#x27;Garage Area&#x27;]</pre></div></div></div><div class=\"sk-serial\"><div class=\"sk-item\"><div class=\"sk-estimator sk-toggleable\"><input class=\"sk-toggleable__control sk-hidden--visually\" id=\"6264c843-7783-4904-b9e3-d5f956255258\" type=\"checkbox\" ><label for=\"6264c843-7783-4904-b9e3-d5f956255258\" class=\"sk-toggleable__label sk-toggleable__label-arrow\">passthrough</label><div class=\"sk-toggleable__content\"><pre>passthrough</pre></div></div></div></div></div></div></div></div><div class=\"sk-item\"><div class=\"sk-estimator sk-toggleable\"><input class=\"sk-toggleable__control sk-hidden--visually\" id=\"f49c2765-7bef-4651-ac09-bc31e1f8e0da\" type=\"checkbox\" ><label for=\"f49c2765-7bef-4651-ac09-bc31e1f8e0da\" class=\"sk-toggleable__label sk-toggleable__label-arrow\">StandardScaler</label><div class=\"sk-toggleable__content\"><pre>StandardScaler(with_mean=False)</pre></div></div></div><div class=\"sk-item\"><div class=\"sk-estimator sk-toggleable\"><input class=\"sk-toggleable__control sk-hidden--visually\" id=\"e5242cd0-b1c9-46ad-9238-ed230af2a093\" type=\"checkbox\" ><label for=\"e5242cd0-b1c9-46ad-9238-ed230af2a093\" class=\"sk-toggleable__label sk-toggleable__label-arrow\">LinearRegression</label><div class=\"sk-toggleable__content\"><pre>LinearRegression()</pre></div></div></div></div></div></div></div>"
      ],
      "text/plain": [
       "Pipeline(steps=[('columntransformer',\n",
       "                 ColumnTransformer(remainder='passthrough',\n",
       "                                   transformers=[('onehotencoder',\n",
       "                                                  OneHotEncoder(handle_unknown='ignore'),\n",
       "                                                  <sklearn.compose._column_transformer.make_column_selector object at 0x7faa4f47c700>)],\n",
       "                                   verbose_feature_names_out=False)),\n",
       "                ('standardscaler', StandardScaler(with_mean=False)),\n",
       "                ('linearregression', LinearRegression())])"
      ]
     },
     "execution_count": 46,
     "metadata": {},
     "output_type": "execute_result"
    }
   ],
   "source": [
    "pipe3.fit(X_train, y_train)"
   ]
  },
  {
   "cell_type": "code",
   "execution_count": 47,
   "metadata": {},
   "outputs": [
    {
     "data": {
      "text/plain": [
       "0.8686755662913601"
      ]
     },
     "execution_count": 47,
     "metadata": {},
     "output_type": "execute_result"
    }
   ],
   "source": [
    "pipe3.score(X_test, y_test)"
   ]
  },
  {
   "cell_type": "code",
   "execution_count": 48,
   "metadata": {},
   "outputs": [],
   "source": [
    "preds = pipe3.predict(X_test)"
   ]
  },
  {
   "cell_type": "code",
   "execution_count": 49,
   "metadata": {},
   "outputs": [
    {
     "data": {
      "text/plain": [
       "28442.545078913496"
      ]
     },
     "execution_count": 49,
     "metadata": {},
     "output_type": "execute_result"
    }
   ],
   "source": [
    "mean_squared_error(y_test, preds, squared=False)"
   ]
  },
  {
   "cell_type": "markdown",
   "metadata": {},
   "source": [
    "Our RMSE using all features selected in EDA is considerably better than our baseline Linear Regression."
   ]
  },
  {
   "cell_type": "markdown",
   "metadata": {},
   "source": [
    "### Kaggle submission"
   ]
  },
  {
   "cell_type": "code",
   "execution_count": 50,
   "metadata": {},
   "outputs": [],
   "source": [
    "test['SalePrice'] = pipe3.predict(kaggle)"
   ]
  },
  {
   "cell_type": "code",
   "execution_count": 51,
   "metadata": {},
   "outputs": [],
   "source": [
    "test[['Id', 'SalePrice']].to_csv('../data/submission_all_EDA_linreg.csv', index=False)"
   ]
  },
  {
   "cell_type": "markdown",
   "metadata": {},
   "source": [
    "## Lasso and Ridge using GridSearchCV"
   ]
  },
  {
   "cell_type": "markdown",
   "metadata": {},
   "source": [
    "### Train-Test Split"
   ]
  },
  {
   "cell_type": "code",
   "execution_count": 52,
   "metadata": {},
   "outputs": [],
   "source": [
    "X = train.drop(columns='SalePrice')\n",
    "y = train['SalePrice']\n",
    "kaggle = test[X.columns]"
   ]
  },
  {
   "cell_type": "code",
   "execution_count": 53,
   "metadata": {},
   "outputs": [],
   "source": [
    "X_train, X_test, y_train, y_test = train_test_split(X, y, random_state=1331)"
   ]
  },
  {
   "cell_type": "markdown",
   "metadata": {},
   "source": [
    "### Column transformations"
   ]
  },
  {
   "cell_type": "code",
   "execution_count": 54,
   "metadata": {},
   "outputs": [
    {
     "data": {
      "text/html": [
       "<style>#sk-0df99865-d112-4ea5-9e52-3ae5a1da8571 {color: black;background-color: white;}#sk-0df99865-d112-4ea5-9e52-3ae5a1da8571 pre{padding: 0;}#sk-0df99865-d112-4ea5-9e52-3ae5a1da8571 div.sk-toggleable {background-color: white;}#sk-0df99865-d112-4ea5-9e52-3ae5a1da8571 label.sk-toggleable__label {cursor: pointer;display: block;width: 100%;margin-bottom: 0;padding: 0.3em;box-sizing: border-box;text-align: center;}#sk-0df99865-d112-4ea5-9e52-3ae5a1da8571 label.sk-toggleable__label-arrow:before {content: \"▸\";float: left;margin-right: 0.25em;color: #696969;}#sk-0df99865-d112-4ea5-9e52-3ae5a1da8571 label.sk-toggleable__label-arrow:hover:before {color: black;}#sk-0df99865-d112-4ea5-9e52-3ae5a1da8571 div.sk-estimator:hover label.sk-toggleable__label-arrow:before {color: black;}#sk-0df99865-d112-4ea5-9e52-3ae5a1da8571 div.sk-toggleable__content {max-height: 0;max-width: 0;overflow: hidden;text-align: left;background-color: #f0f8ff;}#sk-0df99865-d112-4ea5-9e52-3ae5a1da8571 div.sk-toggleable__content pre {margin: 0.2em;color: black;border-radius: 0.25em;background-color: #f0f8ff;}#sk-0df99865-d112-4ea5-9e52-3ae5a1da8571 input.sk-toggleable__control:checked~div.sk-toggleable__content {max-height: 200px;max-width: 100%;overflow: auto;}#sk-0df99865-d112-4ea5-9e52-3ae5a1da8571 input.sk-toggleable__control:checked~label.sk-toggleable__label-arrow:before {content: \"▾\";}#sk-0df99865-d112-4ea5-9e52-3ae5a1da8571 div.sk-estimator input.sk-toggleable__control:checked~label.sk-toggleable__label {background-color: #d4ebff;}#sk-0df99865-d112-4ea5-9e52-3ae5a1da8571 div.sk-label input.sk-toggleable__control:checked~label.sk-toggleable__label {background-color: #d4ebff;}#sk-0df99865-d112-4ea5-9e52-3ae5a1da8571 input.sk-hidden--visually {border: 0;clip: rect(1px 1px 1px 1px);clip: rect(1px, 1px, 1px, 1px);height: 1px;margin: -1px;overflow: hidden;padding: 0;position: absolute;width: 1px;}#sk-0df99865-d112-4ea5-9e52-3ae5a1da8571 div.sk-estimator {font-family: monospace;background-color: #f0f8ff;border: 1px dotted black;border-radius: 0.25em;box-sizing: border-box;margin-bottom: 0.5em;}#sk-0df99865-d112-4ea5-9e52-3ae5a1da8571 div.sk-estimator:hover {background-color: #d4ebff;}#sk-0df99865-d112-4ea5-9e52-3ae5a1da8571 div.sk-parallel-item::after {content: \"\";width: 100%;border-bottom: 1px solid gray;flex-grow: 1;}#sk-0df99865-d112-4ea5-9e52-3ae5a1da8571 div.sk-label:hover label.sk-toggleable__label {background-color: #d4ebff;}#sk-0df99865-d112-4ea5-9e52-3ae5a1da8571 div.sk-serial::before {content: \"\";position: absolute;border-left: 1px solid gray;box-sizing: border-box;top: 2em;bottom: 0;left: 50%;}#sk-0df99865-d112-4ea5-9e52-3ae5a1da8571 div.sk-serial {display: flex;flex-direction: column;align-items: center;background-color: white;padding-right: 0.2em;padding-left: 0.2em;}#sk-0df99865-d112-4ea5-9e52-3ae5a1da8571 div.sk-item {z-index: 1;}#sk-0df99865-d112-4ea5-9e52-3ae5a1da8571 div.sk-parallel {display: flex;align-items: stretch;justify-content: center;background-color: white;}#sk-0df99865-d112-4ea5-9e52-3ae5a1da8571 div.sk-parallel::before {content: \"\";position: absolute;border-left: 1px solid gray;box-sizing: border-box;top: 2em;bottom: 0;left: 50%;}#sk-0df99865-d112-4ea5-9e52-3ae5a1da8571 div.sk-parallel-item {display: flex;flex-direction: column;position: relative;background-color: white;}#sk-0df99865-d112-4ea5-9e52-3ae5a1da8571 div.sk-parallel-item:first-child::after {align-self: flex-end;width: 50%;}#sk-0df99865-d112-4ea5-9e52-3ae5a1da8571 div.sk-parallel-item:last-child::after {align-self: flex-start;width: 50%;}#sk-0df99865-d112-4ea5-9e52-3ae5a1da8571 div.sk-parallel-item:only-child::after {width: 0;}#sk-0df99865-d112-4ea5-9e52-3ae5a1da8571 div.sk-dashed-wrapped {border: 1px dashed gray;margin: 0 0.4em 0.5em 0.4em;box-sizing: border-box;padding-bottom: 0.4em;background-color: white;position: relative;}#sk-0df99865-d112-4ea5-9e52-3ae5a1da8571 div.sk-label label {font-family: monospace;font-weight: bold;background-color: white;display: inline-block;line-height: 1.2em;}#sk-0df99865-d112-4ea5-9e52-3ae5a1da8571 div.sk-label-container {position: relative;z-index: 2;text-align: center;}#sk-0df99865-d112-4ea5-9e52-3ae5a1da8571 div.sk-container {/* jupyter's `normalize.less` sets `[hidden] { display: none; }` but bootstrap.min.css set `[hidden] { display: none !important; }` so we also need the `!important` here to be able to override the default hidden behavior on the sphinx rendered scikit-learn.org. See: https://github.com/scikit-learn/scikit-learn/issues/21755 */display: inline-block !important;position: relative;}#sk-0df99865-d112-4ea5-9e52-3ae5a1da8571 div.sk-text-repr-fallback {display: none;}</style><div id=\"sk-0df99865-d112-4ea5-9e52-3ae5a1da8571\" class=\"sk-top-container\"><div class=\"sk-text-repr-fallback\"><pre>ColumnTransformer(remainder=&#x27;passthrough&#x27;,\n",
       "                  transformers=[(&#x27;onehotencoder&#x27;,\n",
       "                                 OneHotEncoder(handle_unknown=&#x27;ignore&#x27;),\n",
       "                                 &lt;sklearn.compose._column_transformer.make_column_selector object at 0x7faa4f490c10&gt;)],\n",
       "                  verbose_feature_names_out=False)</pre><b>Please rerun this cell to show the HTML repr or trust the notebook.</b></div><div class=\"sk-container\" hidden><div class=\"sk-item sk-dashed-wrapped\"><div class=\"sk-label-container\"><div class=\"sk-label sk-toggleable\"><input class=\"sk-toggleable__control sk-hidden--visually\" id=\"a5ba45f1-7666-4c77-a9a8-780089f4ac3f\" type=\"checkbox\" ><label for=\"a5ba45f1-7666-4c77-a9a8-780089f4ac3f\" class=\"sk-toggleable__label sk-toggleable__label-arrow\">ColumnTransformer</label><div class=\"sk-toggleable__content\"><pre>ColumnTransformer(remainder=&#x27;passthrough&#x27;,\n",
       "                  transformers=[(&#x27;onehotencoder&#x27;,\n",
       "                                 OneHotEncoder(handle_unknown=&#x27;ignore&#x27;),\n",
       "                                 &lt;sklearn.compose._column_transformer.make_column_selector object at 0x7faa4f490c10&gt;)],\n",
       "                  verbose_feature_names_out=False)</pre></div></div></div><div class=\"sk-parallel\"><div class=\"sk-parallel-item\"><div class=\"sk-item\"><div class=\"sk-label-container\"><div class=\"sk-label sk-toggleable\"><input class=\"sk-toggleable__control sk-hidden--visually\" id=\"96de6a6d-b561-4b3c-ae8a-ff41d0758a6a\" type=\"checkbox\" ><label for=\"96de6a6d-b561-4b3c-ae8a-ff41d0758a6a\" class=\"sk-toggleable__label sk-toggleable__label-arrow\">onehotencoder</label><div class=\"sk-toggleable__content\"><pre>&lt;sklearn.compose._column_transformer.make_column_selector object at 0x7faa4f490c10&gt;</pre></div></div></div><div class=\"sk-serial\"><div class=\"sk-item\"><div class=\"sk-estimator sk-toggleable\"><input class=\"sk-toggleable__control sk-hidden--visually\" id=\"28af1ce6-f05f-4232-b2db-e7dd5a3d897b\" type=\"checkbox\" ><label for=\"28af1ce6-f05f-4232-b2db-e7dd5a3d897b\" class=\"sk-toggleable__label sk-toggleable__label-arrow\">OneHotEncoder</label><div class=\"sk-toggleable__content\"><pre>OneHotEncoder(handle_unknown=&#x27;ignore&#x27;)</pre></div></div></div></div></div></div><div class=\"sk-parallel-item\"><div class=\"sk-item\"><div class=\"sk-label-container\"><div class=\"sk-label sk-toggleable\"><input class=\"sk-toggleable__control sk-hidden--visually\" id=\"f1d8a9d9-8597-494e-8d07-ef93f8ef092d\" type=\"checkbox\" ><label for=\"f1d8a9d9-8597-494e-8d07-ef93f8ef092d\" class=\"sk-toggleable__label sk-toggleable__label-arrow\">remainder</label><div class=\"sk-toggleable__content\"><pre></pre></div></div></div><div class=\"sk-serial\"><div class=\"sk-item\"><div class=\"sk-estimator sk-toggleable\"><input class=\"sk-toggleable__control sk-hidden--visually\" id=\"07b6d1a3-f00a-4a48-be64-9a3061c8774f\" type=\"checkbox\" ><label for=\"07b6d1a3-f00a-4a48-be64-9a3061c8774f\" class=\"sk-toggleable__label sk-toggleable__label-arrow\">passthrough</label><div class=\"sk-toggleable__content\"><pre>passthrough</pre></div></div></div></div></div></div></div></div></div></div>"
      ],
      "text/plain": [
       "ColumnTransformer(remainder='passthrough',\n",
       "                  transformers=[('onehotencoder',\n",
       "                                 OneHotEncoder(handle_unknown='ignore'),\n",
       "                                 <sklearn.compose._column_transformer.make_column_selector object at 0x7faa4f490c10>)],\n",
       "                  verbose_feature_names_out=False)"
      ]
     },
     "execution_count": 54,
     "metadata": {},
     "output_type": "execute_result"
    }
   ],
   "source": [
    "ct4 = make_column_transformer(\n",
    "    (OneHotEncoder(handle_unknown='ignore'), make_column_selector(dtype_include=object)),\n",
    "    remainder='passthrough',\n",
    "    verbose_feature_names_out=False\n",
    ")\n",
    "ct4"
   ]
  },
  {
   "cell_type": "markdown",
   "metadata": {},
   "source": [
    "### Pipeline with Column transformer, Standard Scaler and Lasso Regression"
   ]
  },
  {
   "cell_type": "code",
   "execution_count": 55,
   "metadata": {},
   "outputs": [
    {
     "data": {
      "text/html": [
       "<style>#sk-34e39e1b-2148-45bb-b194-9fb947f6b762 {color: black;background-color: white;}#sk-34e39e1b-2148-45bb-b194-9fb947f6b762 pre{padding: 0;}#sk-34e39e1b-2148-45bb-b194-9fb947f6b762 div.sk-toggleable {background-color: white;}#sk-34e39e1b-2148-45bb-b194-9fb947f6b762 label.sk-toggleable__label {cursor: pointer;display: block;width: 100%;margin-bottom: 0;padding: 0.3em;box-sizing: border-box;text-align: center;}#sk-34e39e1b-2148-45bb-b194-9fb947f6b762 label.sk-toggleable__label-arrow:before {content: \"▸\";float: left;margin-right: 0.25em;color: #696969;}#sk-34e39e1b-2148-45bb-b194-9fb947f6b762 label.sk-toggleable__label-arrow:hover:before {color: black;}#sk-34e39e1b-2148-45bb-b194-9fb947f6b762 div.sk-estimator:hover label.sk-toggleable__label-arrow:before {color: black;}#sk-34e39e1b-2148-45bb-b194-9fb947f6b762 div.sk-toggleable__content {max-height: 0;max-width: 0;overflow: hidden;text-align: left;background-color: #f0f8ff;}#sk-34e39e1b-2148-45bb-b194-9fb947f6b762 div.sk-toggleable__content pre {margin: 0.2em;color: black;border-radius: 0.25em;background-color: #f0f8ff;}#sk-34e39e1b-2148-45bb-b194-9fb947f6b762 input.sk-toggleable__control:checked~div.sk-toggleable__content {max-height: 200px;max-width: 100%;overflow: auto;}#sk-34e39e1b-2148-45bb-b194-9fb947f6b762 input.sk-toggleable__control:checked~label.sk-toggleable__label-arrow:before {content: \"▾\";}#sk-34e39e1b-2148-45bb-b194-9fb947f6b762 div.sk-estimator input.sk-toggleable__control:checked~label.sk-toggleable__label {background-color: #d4ebff;}#sk-34e39e1b-2148-45bb-b194-9fb947f6b762 div.sk-label input.sk-toggleable__control:checked~label.sk-toggleable__label {background-color: #d4ebff;}#sk-34e39e1b-2148-45bb-b194-9fb947f6b762 input.sk-hidden--visually {border: 0;clip: rect(1px 1px 1px 1px);clip: rect(1px, 1px, 1px, 1px);height: 1px;margin: -1px;overflow: hidden;padding: 0;position: absolute;width: 1px;}#sk-34e39e1b-2148-45bb-b194-9fb947f6b762 div.sk-estimator {font-family: monospace;background-color: #f0f8ff;border: 1px dotted black;border-radius: 0.25em;box-sizing: border-box;margin-bottom: 0.5em;}#sk-34e39e1b-2148-45bb-b194-9fb947f6b762 div.sk-estimator:hover {background-color: #d4ebff;}#sk-34e39e1b-2148-45bb-b194-9fb947f6b762 div.sk-parallel-item::after {content: \"\";width: 100%;border-bottom: 1px solid gray;flex-grow: 1;}#sk-34e39e1b-2148-45bb-b194-9fb947f6b762 div.sk-label:hover label.sk-toggleable__label {background-color: #d4ebff;}#sk-34e39e1b-2148-45bb-b194-9fb947f6b762 div.sk-serial::before {content: \"\";position: absolute;border-left: 1px solid gray;box-sizing: border-box;top: 2em;bottom: 0;left: 50%;}#sk-34e39e1b-2148-45bb-b194-9fb947f6b762 div.sk-serial {display: flex;flex-direction: column;align-items: center;background-color: white;padding-right: 0.2em;padding-left: 0.2em;}#sk-34e39e1b-2148-45bb-b194-9fb947f6b762 div.sk-item {z-index: 1;}#sk-34e39e1b-2148-45bb-b194-9fb947f6b762 div.sk-parallel {display: flex;align-items: stretch;justify-content: center;background-color: white;}#sk-34e39e1b-2148-45bb-b194-9fb947f6b762 div.sk-parallel::before {content: \"\";position: absolute;border-left: 1px solid gray;box-sizing: border-box;top: 2em;bottom: 0;left: 50%;}#sk-34e39e1b-2148-45bb-b194-9fb947f6b762 div.sk-parallel-item {display: flex;flex-direction: column;position: relative;background-color: white;}#sk-34e39e1b-2148-45bb-b194-9fb947f6b762 div.sk-parallel-item:first-child::after {align-self: flex-end;width: 50%;}#sk-34e39e1b-2148-45bb-b194-9fb947f6b762 div.sk-parallel-item:last-child::after {align-self: flex-start;width: 50%;}#sk-34e39e1b-2148-45bb-b194-9fb947f6b762 div.sk-parallel-item:only-child::after {width: 0;}#sk-34e39e1b-2148-45bb-b194-9fb947f6b762 div.sk-dashed-wrapped {border: 1px dashed gray;margin: 0 0.4em 0.5em 0.4em;box-sizing: border-box;padding-bottom: 0.4em;background-color: white;position: relative;}#sk-34e39e1b-2148-45bb-b194-9fb947f6b762 div.sk-label label {font-family: monospace;font-weight: bold;background-color: white;display: inline-block;line-height: 1.2em;}#sk-34e39e1b-2148-45bb-b194-9fb947f6b762 div.sk-label-container {position: relative;z-index: 2;text-align: center;}#sk-34e39e1b-2148-45bb-b194-9fb947f6b762 div.sk-container {/* jupyter's `normalize.less` sets `[hidden] { display: none; }` but bootstrap.min.css set `[hidden] { display: none !important; }` so we also need the `!important` here to be able to override the default hidden behavior on the sphinx rendered scikit-learn.org. See: https://github.com/scikit-learn/scikit-learn/issues/21755 */display: inline-block !important;position: relative;}#sk-34e39e1b-2148-45bb-b194-9fb947f6b762 div.sk-text-repr-fallback {display: none;}</style><div id=\"sk-34e39e1b-2148-45bb-b194-9fb947f6b762\" class=\"sk-top-container\"><div class=\"sk-text-repr-fallback\"><pre>Pipeline(steps=[(&#x27;columntransformer&#x27;,\n",
       "                 ColumnTransformer(remainder=&#x27;passthrough&#x27;,\n",
       "                                   transformers=[(&#x27;onehotencoder&#x27;,\n",
       "                                                  OneHotEncoder(handle_unknown=&#x27;ignore&#x27;),\n",
       "                                                  &lt;sklearn.compose._column_transformer.make_column_selector object at 0x7faa4f490c10&gt;)],\n",
       "                                   verbose_feature_names_out=False)),\n",
       "                (&#x27;standardscaler&#x27;, StandardScaler(with_mean=False)),\n",
       "                (&#x27;lasso&#x27;, Lasso())])</pre><b>Please rerun this cell to show the HTML repr or trust the notebook.</b></div><div class=\"sk-container\" hidden><div class=\"sk-item sk-dashed-wrapped\"><div class=\"sk-label-container\"><div class=\"sk-label sk-toggleable\"><input class=\"sk-toggleable__control sk-hidden--visually\" id=\"3c4414a1-dba9-4271-9616-912d29ea973b\" type=\"checkbox\" ><label for=\"3c4414a1-dba9-4271-9616-912d29ea973b\" class=\"sk-toggleable__label sk-toggleable__label-arrow\">Pipeline</label><div class=\"sk-toggleable__content\"><pre>Pipeline(steps=[(&#x27;columntransformer&#x27;,\n",
       "                 ColumnTransformer(remainder=&#x27;passthrough&#x27;,\n",
       "                                   transformers=[(&#x27;onehotencoder&#x27;,\n",
       "                                                  OneHotEncoder(handle_unknown=&#x27;ignore&#x27;),\n",
       "                                                  &lt;sklearn.compose._column_transformer.make_column_selector object at 0x7faa4f490c10&gt;)],\n",
       "                                   verbose_feature_names_out=False)),\n",
       "                (&#x27;standardscaler&#x27;, StandardScaler(with_mean=False)),\n",
       "                (&#x27;lasso&#x27;, Lasso())])</pre></div></div></div><div class=\"sk-serial\"><div class=\"sk-item sk-dashed-wrapped\"><div class=\"sk-label-container\"><div class=\"sk-label sk-toggleable\"><input class=\"sk-toggleable__control sk-hidden--visually\" id=\"12db1bd6-933b-419c-a8ff-c9073ef36dd1\" type=\"checkbox\" ><label for=\"12db1bd6-933b-419c-a8ff-c9073ef36dd1\" class=\"sk-toggleable__label sk-toggleable__label-arrow\">columntransformer: ColumnTransformer</label><div class=\"sk-toggleable__content\"><pre>ColumnTransformer(remainder=&#x27;passthrough&#x27;,\n",
       "                  transformers=[(&#x27;onehotencoder&#x27;,\n",
       "                                 OneHotEncoder(handle_unknown=&#x27;ignore&#x27;),\n",
       "                                 &lt;sklearn.compose._column_transformer.make_column_selector object at 0x7faa4f490c10&gt;)],\n",
       "                  verbose_feature_names_out=False)</pre></div></div></div><div class=\"sk-parallel\"><div class=\"sk-parallel-item\"><div class=\"sk-item\"><div class=\"sk-label-container\"><div class=\"sk-label sk-toggleable\"><input class=\"sk-toggleable__control sk-hidden--visually\" id=\"01be3cfe-bacc-46a4-9dcc-7f9174303d9a\" type=\"checkbox\" ><label for=\"01be3cfe-bacc-46a4-9dcc-7f9174303d9a\" class=\"sk-toggleable__label sk-toggleable__label-arrow\">onehotencoder</label><div class=\"sk-toggleable__content\"><pre>&lt;sklearn.compose._column_transformer.make_column_selector object at 0x7faa4f490c10&gt;</pre></div></div></div><div class=\"sk-serial\"><div class=\"sk-item\"><div class=\"sk-estimator sk-toggleable\"><input class=\"sk-toggleable__control sk-hidden--visually\" id=\"6af4cb85-63c6-457d-8987-3b4034ef1a5a\" type=\"checkbox\" ><label for=\"6af4cb85-63c6-457d-8987-3b4034ef1a5a\" class=\"sk-toggleable__label sk-toggleable__label-arrow\">OneHotEncoder</label><div class=\"sk-toggleable__content\"><pre>OneHotEncoder(handle_unknown=&#x27;ignore&#x27;)</pre></div></div></div></div></div></div><div class=\"sk-parallel-item\"><div class=\"sk-item\"><div class=\"sk-label-container\"><div class=\"sk-label sk-toggleable\"><input class=\"sk-toggleable__control sk-hidden--visually\" id=\"78842266-36ca-4b87-b194-18568667d4f5\" type=\"checkbox\" ><label for=\"78842266-36ca-4b87-b194-18568667d4f5\" class=\"sk-toggleable__label sk-toggleable__label-arrow\">remainder</label><div class=\"sk-toggleable__content\"><pre></pre></div></div></div><div class=\"sk-serial\"><div class=\"sk-item\"><div class=\"sk-estimator sk-toggleable\"><input class=\"sk-toggleable__control sk-hidden--visually\" id=\"b81cdb4d-f2c5-4926-8ed2-4c454194284a\" type=\"checkbox\" ><label for=\"b81cdb4d-f2c5-4926-8ed2-4c454194284a\" class=\"sk-toggleable__label sk-toggleable__label-arrow\">passthrough</label><div class=\"sk-toggleable__content\"><pre>passthrough</pre></div></div></div></div></div></div></div></div><div class=\"sk-item\"><div class=\"sk-estimator sk-toggleable\"><input class=\"sk-toggleable__control sk-hidden--visually\" id=\"157519b5-17fe-4129-b527-e1a91adff058\" type=\"checkbox\" ><label for=\"157519b5-17fe-4129-b527-e1a91adff058\" class=\"sk-toggleable__label sk-toggleable__label-arrow\">StandardScaler</label><div class=\"sk-toggleable__content\"><pre>StandardScaler(with_mean=False)</pre></div></div></div><div class=\"sk-item\"><div class=\"sk-estimator sk-toggleable\"><input class=\"sk-toggleable__control sk-hidden--visually\" id=\"ae9e11c5-6a97-42ea-8d45-f1116189eb1c\" type=\"checkbox\" ><label for=\"ae9e11c5-6a97-42ea-8d45-f1116189eb1c\" class=\"sk-toggleable__label sk-toggleable__label-arrow\">Lasso</label><div class=\"sk-toggleable__content\"><pre>Lasso()</pre></div></div></div></div></div></div></div>"
      ],
      "text/plain": [
       "Pipeline(steps=[('columntransformer',\n",
       "                 ColumnTransformer(remainder='passthrough',\n",
       "                                   transformers=[('onehotencoder',\n",
       "                                                  OneHotEncoder(handle_unknown='ignore'),\n",
       "                                                  <sklearn.compose._column_transformer.make_column_selector object at 0x7faa4f490c10>)],\n",
       "                                   verbose_feature_names_out=False)),\n",
       "                ('standardscaler', StandardScaler(with_mean=False)),\n",
       "                ('lasso', Lasso())])"
      ]
     },
     "execution_count": 55,
     "metadata": {},
     "output_type": "execute_result"
    }
   ],
   "source": [
    "pipe4 = make_pipeline(ct4, StandardScaler(with_mean=False), Lasso())\n",
    "pipe4"
   ]
  },
  {
   "cell_type": "code",
   "execution_count": 56,
   "metadata": {},
   "outputs": [],
   "source": [
    "params = {\n",
    "    'lasso__alpha': [.01, .1, 1, 10, 100],\n",
    "    'lasso__max_iter': [100_000]\n",
    "}"
   ]
  },
  {
   "cell_type": "markdown",
   "metadata": {},
   "source": [
    "### Grid Search"
   ]
  },
  {
   "cell_type": "code",
   "execution_count": 57,
   "metadata": {},
   "outputs": [
    {
     "data": {
      "text/html": [
       "<style>#sk-65adfaec-4ffc-4603-a88b-9eb72ab943ac {color: black;background-color: white;}#sk-65adfaec-4ffc-4603-a88b-9eb72ab943ac pre{padding: 0;}#sk-65adfaec-4ffc-4603-a88b-9eb72ab943ac div.sk-toggleable {background-color: white;}#sk-65adfaec-4ffc-4603-a88b-9eb72ab943ac label.sk-toggleable__label {cursor: pointer;display: block;width: 100%;margin-bottom: 0;padding: 0.3em;box-sizing: border-box;text-align: center;}#sk-65adfaec-4ffc-4603-a88b-9eb72ab943ac label.sk-toggleable__label-arrow:before {content: \"▸\";float: left;margin-right: 0.25em;color: #696969;}#sk-65adfaec-4ffc-4603-a88b-9eb72ab943ac label.sk-toggleable__label-arrow:hover:before {color: black;}#sk-65adfaec-4ffc-4603-a88b-9eb72ab943ac div.sk-estimator:hover label.sk-toggleable__label-arrow:before {color: black;}#sk-65adfaec-4ffc-4603-a88b-9eb72ab943ac div.sk-toggleable__content {max-height: 0;max-width: 0;overflow: hidden;text-align: left;background-color: #f0f8ff;}#sk-65adfaec-4ffc-4603-a88b-9eb72ab943ac div.sk-toggleable__content pre {margin: 0.2em;color: black;border-radius: 0.25em;background-color: #f0f8ff;}#sk-65adfaec-4ffc-4603-a88b-9eb72ab943ac input.sk-toggleable__control:checked~div.sk-toggleable__content {max-height: 200px;max-width: 100%;overflow: auto;}#sk-65adfaec-4ffc-4603-a88b-9eb72ab943ac input.sk-toggleable__control:checked~label.sk-toggleable__label-arrow:before {content: \"▾\";}#sk-65adfaec-4ffc-4603-a88b-9eb72ab943ac div.sk-estimator input.sk-toggleable__control:checked~label.sk-toggleable__label {background-color: #d4ebff;}#sk-65adfaec-4ffc-4603-a88b-9eb72ab943ac div.sk-label input.sk-toggleable__control:checked~label.sk-toggleable__label {background-color: #d4ebff;}#sk-65adfaec-4ffc-4603-a88b-9eb72ab943ac input.sk-hidden--visually {border: 0;clip: rect(1px 1px 1px 1px);clip: rect(1px, 1px, 1px, 1px);height: 1px;margin: -1px;overflow: hidden;padding: 0;position: absolute;width: 1px;}#sk-65adfaec-4ffc-4603-a88b-9eb72ab943ac div.sk-estimator {font-family: monospace;background-color: #f0f8ff;border: 1px dotted black;border-radius: 0.25em;box-sizing: border-box;margin-bottom: 0.5em;}#sk-65adfaec-4ffc-4603-a88b-9eb72ab943ac div.sk-estimator:hover {background-color: #d4ebff;}#sk-65adfaec-4ffc-4603-a88b-9eb72ab943ac div.sk-parallel-item::after {content: \"\";width: 100%;border-bottom: 1px solid gray;flex-grow: 1;}#sk-65adfaec-4ffc-4603-a88b-9eb72ab943ac div.sk-label:hover label.sk-toggleable__label {background-color: #d4ebff;}#sk-65adfaec-4ffc-4603-a88b-9eb72ab943ac div.sk-serial::before {content: \"\";position: absolute;border-left: 1px solid gray;box-sizing: border-box;top: 2em;bottom: 0;left: 50%;}#sk-65adfaec-4ffc-4603-a88b-9eb72ab943ac div.sk-serial {display: flex;flex-direction: column;align-items: center;background-color: white;padding-right: 0.2em;padding-left: 0.2em;}#sk-65adfaec-4ffc-4603-a88b-9eb72ab943ac div.sk-item {z-index: 1;}#sk-65adfaec-4ffc-4603-a88b-9eb72ab943ac div.sk-parallel {display: flex;align-items: stretch;justify-content: center;background-color: white;}#sk-65adfaec-4ffc-4603-a88b-9eb72ab943ac div.sk-parallel::before {content: \"\";position: absolute;border-left: 1px solid gray;box-sizing: border-box;top: 2em;bottom: 0;left: 50%;}#sk-65adfaec-4ffc-4603-a88b-9eb72ab943ac div.sk-parallel-item {display: flex;flex-direction: column;position: relative;background-color: white;}#sk-65adfaec-4ffc-4603-a88b-9eb72ab943ac div.sk-parallel-item:first-child::after {align-self: flex-end;width: 50%;}#sk-65adfaec-4ffc-4603-a88b-9eb72ab943ac div.sk-parallel-item:last-child::after {align-self: flex-start;width: 50%;}#sk-65adfaec-4ffc-4603-a88b-9eb72ab943ac div.sk-parallel-item:only-child::after {width: 0;}#sk-65adfaec-4ffc-4603-a88b-9eb72ab943ac div.sk-dashed-wrapped {border: 1px dashed gray;margin: 0 0.4em 0.5em 0.4em;box-sizing: border-box;padding-bottom: 0.4em;background-color: white;position: relative;}#sk-65adfaec-4ffc-4603-a88b-9eb72ab943ac div.sk-label label {font-family: monospace;font-weight: bold;background-color: white;display: inline-block;line-height: 1.2em;}#sk-65adfaec-4ffc-4603-a88b-9eb72ab943ac div.sk-label-container {position: relative;z-index: 2;text-align: center;}#sk-65adfaec-4ffc-4603-a88b-9eb72ab943ac div.sk-container {/* jupyter's `normalize.less` sets `[hidden] { display: none; }` but bootstrap.min.css set `[hidden] { display: none !important; }` so we also need the `!important` here to be able to override the default hidden behavior on the sphinx rendered scikit-learn.org. See: https://github.com/scikit-learn/scikit-learn/issues/21755 */display: inline-block !important;position: relative;}#sk-65adfaec-4ffc-4603-a88b-9eb72ab943ac div.sk-text-repr-fallback {display: none;}</style><div id=\"sk-65adfaec-4ffc-4603-a88b-9eb72ab943ac\" class=\"sk-top-container\"><div class=\"sk-text-repr-fallback\"><pre>GridSearchCV(estimator=Pipeline(steps=[(&#x27;columntransformer&#x27;,\n",
       "                                        ColumnTransformer(remainder=&#x27;passthrough&#x27;,\n",
       "                                                          transformers=[(&#x27;onehotencoder&#x27;,\n",
       "                                                                         OneHotEncoder(handle_unknown=&#x27;ignore&#x27;),\n",
       "                                                                         &lt;sklearn.compose._column_transformer.make_column_selector object at 0x7faa4f490c10&gt;)],\n",
       "                                                          verbose_feature_names_out=False)),\n",
       "                                       (&#x27;standardscaler&#x27;,\n",
       "                                        StandardScaler(with_mean=False)),\n",
       "                                       (&#x27;lasso&#x27;, Lasso())]),\n",
       "             n_jobs=-1,\n",
       "             param_grid={&#x27;lasso__alpha&#x27;: [0.01, 0.1, 1, 10, 100],\n",
       "                         &#x27;lasso__max_iter&#x27;: [100000]})</pre><b>Please rerun this cell to show the HTML repr or trust the notebook.</b></div><div class=\"sk-container\" hidden><div class=\"sk-item sk-dashed-wrapped\"><div class=\"sk-label-container\"><div class=\"sk-label sk-toggleable\"><input class=\"sk-toggleable__control sk-hidden--visually\" id=\"7513f67b-83d9-4d9a-9bb4-b600eff4fde8\" type=\"checkbox\" ><label for=\"7513f67b-83d9-4d9a-9bb4-b600eff4fde8\" class=\"sk-toggleable__label sk-toggleable__label-arrow\">GridSearchCV</label><div class=\"sk-toggleable__content\"><pre>GridSearchCV(estimator=Pipeline(steps=[(&#x27;columntransformer&#x27;,\n",
       "                                        ColumnTransformer(remainder=&#x27;passthrough&#x27;,\n",
       "                                                          transformers=[(&#x27;onehotencoder&#x27;,\n",
       "                                                                         OneHotEncoder(handle_unknown=&#x27;ignore&#x27;),\n",
       "                                                                         &lt;sklearn.compose._column_transformer.make_column_selector object at 0x7faa4f490c10&gt;)],\n",
       "                                                          verbose_feature_names_out=False)),\n",
       "                                       (&#x27;standardscaler&#x27;,\n",
       "                                        StandardScaler(with_mean=False)),\n",
       "                                       (&#x27;lasso&#x27;, Lasso())]),\n",
       "             n_jobs=-1,\n",
       "             param_grid={&#x27;lasso__alpha&#x27;: [0.01, 0.1, 1, 10, 100],\n",
       "                         &#x27;lasso__max_iter&#x27;: [100000]})</pre></div></div></div><div class=\"sk-parallel\"><div class=\"sk-parallel-item\"><div class=\"sk-item\"><div class=\"sk-serial\"><div class=\"sk-item\"><div class=\"sk-serial\"><div class=\"sk-item sk-dashed-wrapped\"><div class=\"sk-label-container\"><div class=\"sk-label sk-toggleable\"><input class=\"sk-toggleable__control sk-hidden--visually\" id=\"7198d8e4-4a75-41d0-b99f-4b4840218a3a\" type=\"checkbox\" ><label for=\"7198d8e4-4a75-41d0-b99f-4b4840218a3a\" class=\"sk-toggleable__label sk-toggleable__label-arrow\">columntransformer: ColumnTransformer</label><div class=\"sk-toggleable__content\"><pre>ColumnTransformer(remainder=&#x27;passthrough&#x27;,\n",
       "                  transformers=[(&#x27;onehotencoder&#x27;,\n",
       "                                 OneHotEncoder(handle_unknown=&#x27;ignore&#x27;),\n",
       "                                 &lt;sklearn.compose._column_transformer.make_column_selector object at 0x7faa4f490c10&gt;)],\n",
       "                  verbose_feature_names_out=False)</pre></div></div></div><div class=\"sk-parallel\"><div class=\"sk-parallel-item\"><div class=\"sk-item\"><div class=\"sk-label-container\"><div class=\"sk-label sk-toggleable\"><input class=\"sk-toggleable__control sk-hidden--visually\" id=\"46e998a9-0561-4e9d-a92e-17f019f358e6\" type=\"checkbox\" ><label for=\"46e998a9-0561-4e9d-a92e-17f019f358e6\" class=\"sk-toggleable__label sk-toggleable__label-arrow\">onehotencoder</label><div class=\"sk-toggleable__content\"><pre>&lt;sklearn.compose._column_transformer.make_column_selector object at 0x7faa4f490c10&gt;</pre></div></div></div><div class=\"sk-serial\"><div class=\"sk-item\"><div class=\"sk-estimator sk-toggleable\"><input class=\"sk-toggleable__control sk-hidden--visually\" id=\"5b218d1b-ca1c-45c8-a532-287d71d2df78\" type=\"checkbox\" ><label for=\"5b218d1b-ca1c-45c8-a532-287d71d2df78\" class=\"sk-toggleable__label sk-toggleable__label-arrow\">OneHotEncoder</label><div class=\"sk-toggleable__content\"><pre>OneHotEncoder(handle_unknown=&#x27;ignore&#x27;)</pre></div></div></div></div></div></div><div class=\"sk-parallel-item\"><div class=\"sk-item\"><div class=\"sk-label-container\"><div class=\"sk-label sk-toggleable\"><input class=\"sk-toggleable__control sk-hidden--visually\" id=\"1888406b-79af-4f98-bcbb-555cacb9f5ac\" type=\"checkbox\" ><label for=\"1888406b-79af-4f98-bcbb-555cacb9f5ac\" class=\"sk-toggleable__label sk-toggleable__label-arrow\">remainder</label><div class=\"sk-toggleable__content\"><pre></pre></div></div></div><div class=\"sk-serial\"><div class=\"sk-item\"><div class=\"sk-estimator sk-toggleable\"><input class=\"sk-toggleable__control sk-hidden--visually\" id=\"fcde5e59-78dc-40e0-9c5f-b5b3de4a6945\" type=\"checkbox\" ><label for=\"fcde5e59-78dc-40e0-9c5f-b5b3de4a6945\" class=\"sk-toggleable__label sk-toggleable__label-arrow\">passthrough</label><div class=\"sk-toggleable__content\"><pre>passthrough</pre></div></div></div></div></div></div></div></div><div class=\"sk-item\"><div class=\"sk-estimator sk-toggleable\"><input class=\"sk-toggleable__control sk-hidden--visually\" id=\"c3ea1d04-12b0-41e0-8bbc-26f91be49811\" type=\"checkbox\" ><label for=\"c3ea1d04-12b0-41e0-8bbc-26f91be49811\" class=\"sk-toggleable__label sk-toggleable__label-arrow\">StandardScaler</label><div class=\"sk-toggleable__content\"><pre>StandardScaler(with_mean=False)</pre></div></div></div><div class=\"sk-item\"><div class=\"sk-estimator sk-toggleable\"><input class=\"sk-toggleable__control sk-hidden--visually\" id=\"35082bf4-e215-4240-b213-73d64b270dc1\" type=\"checkbox\" ><label for=\"35082bf4-e215-4240-b213-73d64b270dc1\" class=\"sk-toggleable__label sk-toggleable__label-arrow\">Lasso</label><div class=\"sk-toggleable__content\"><pre>Lasso()</pre></div></div></div></div></div></div></div></div></div></div></div></div>"
      ],
      "text/plain": [
       "GridSearchCV(estimator=Pipeline(steps=[('columntransformer',\n",
       "                                        ColumnTransformer(remainder='passthrough',\n",
       "                                                          transformers=[('onehotencoder',\n",
       "                                                                         OneHotEncoder(handle_unknown='ignore'),\n",
       "                                                                         <sklearn.compose._column_transformer.make_column_selector object at 0x7faa4f490c10>)],\n",
       "                                                          verbose_feature_names_out=False)),\n",
       "                                       ('standardscaler',\n",
       "                                        StandardScaler(with_mean=False)),\n",
       "                                       ('lasso', Lasso())]),\n",
       "             n_jobs=-1,\n",
       "             param_grid={'lasso__alpha': [0.01, 0.1, 1, 10, 100],\n",
       "                         'lasso__max_iter': [100000]})"
      ]
     },
     "execution_count": 57,
     "metadata": {},
     "output_type": "execute_result"
    }
   ],
   "source": [
    "gs1 = GridSearchCV(pipe4, params, n_jobs=-1)\n",
    "gs1"
   ]
  },
  {
   "cell_type": "code",
   "execution_count": 58,
   "metadata": {},
   "outputs": [
    {
     "name": "stderr",
     "output_type": "stream",
     "text": [
      "/Users/andresperez/opt/anaconda3/lib/python3.9/site-packages/sklearn/linear_model/_coordinate_descent.py:609: ConvergenceWarning: Objective did not converge. You might want to increase the number of iterations. Duality gap: 33084213288.819946, tolerance: 809217212.7634053\n",
      "  model = cd_fast.sparse_enet_coordinate_descent(\n",
      "/Users/andresperez/opt/anaconda3/lib/python3.9/site-packages/sklearn/linear_model/_coordinate_descent.py:609: ConvergenceWarning: Objective did not converge. You might want to increase the number of iterations. Duality gap: 9768744883.265259, tolerance: 762418493.9368267\n",
      "  model = cd_fast.sparse_enet_coordinate_descent(\n",
      "/Users/andresperez/opt/anaconda3/lib/python3.9/site-packages/sklearn/linear_model/_coordinate_descent.py:609: ConvergenceWarning: Objective did not converge. You might want to increase the number of iterations. Duality gap: 12972445320.61621, tolerance: 786746043.5407102\n",
      "  model = cd_fast.sparse_enet_coordinate_descent(\n",
      "/Users/andresperez/opt/anaconda3/lib/python3.9/site-packages/sklearn/linear_model/_coordinate_descent.py:609: ConvergenceWarning: Objective did not converge. You might want to increase the number of iterations. Duality gap: 23599891945.80127, tolerance: 778519905.4264531\n",
      "  model = cd_fast.sparse_enet_coordinate_descent(\n",
      "/Users/andresperez/opt/anaconda3/lib/python3.9/site-packages/sklearn/linear_model/_coordinate_descent.py:609: ConvergenceWarning: Objective did not converge. You might want to increase the number of iterations. Duality gap: 28265441458.642822, tolerance: 748593619.9540006\n",
      "  model = cd_fast.sparse_enet_coordinate_descent(\n"
     ]
    },
    {
     "data": {
      "text/plain": [
       "0.8694410739351349"
      ]
     },
     "execution_count": 58,
     "metadata": {},
     "output_type": "execute_result"
    }
   ],
   "source": [
    "gs1.fit(X_train, y_train)\n",
    "gs1.score(X_test, y_test)"
   ]
  },
  {
   "cell_type": "code",
   "execution_count": 59,
   "metadata": {},
   "outputs": [
    {
     "data": {
      "text/plain": [
       "28359.526225239984"
      ]
     },
     "execution_count": 59,
     "metadata": {},
     "output_type": "execute_result"
    }
   ],
   "source": [
    "preds = gs1.predict(X_test)\n",
    "mean_squared_error(y_test, preds, squared=False)"
   ]
  },
  {
   "cell_type": "markdown",
   "metadata": {},
   "source": [
    "### Kaggle submission Lasso"
   ]
  },
  {
   "cell_type": "code",
   "execution_count": 60,
   "metadata": {},
   "outputs": [],
   "source": [
    "test['SalePrice'] = gs1.predict(kaggle)"
   ]
  },
  {
   "cell_type": "code",
   "execution_count": 61,
   "metadata": {},
   "outputs": [],
   "source": [
    "test[['Id', 'SalePrice']].to_csv('../data/submission_all_EDA_lasso.csv', index=False)"
   ]
  },
  {
   "cell_type": "markdown",
   "metadata": {},
   "source": [
    "### Ridge Regression pipeline  "
   ]
  },
  {
   "cell_type": "code",
   "execution_count": 62,
   "metadata": {},
   "outputs": [
    {
     "data": {
      "text/html": [
       "<style>#sk-5fb57943-3feb-4a20-8bc4-88710ab5d327 {color: black;background-color: white;}#sk-5fb57943-3feb-4a20-8bc4-88710ab5d327 pre{padding: 0;}#sk-5fb57943-3feb-4a20-8bc4-88710ab5d327 div.sk-toggleable {background-color: white;}#sk-5fb57943-3feb-4a20-8bc4-88710ab5d327 label.sk-toggleable__label {cursor: pointer;display: block;width: 100%;margin-bottom: 0;padding: 0.3em;box-sizing: border-box;text-align: center;}#sk-5fb57943-3feb-4a20-8bc4-88710ab5d327 label.sk-toggleable__label-arrow:before {content: \"▸\";float: left;margin-right: 0.25em;color: #696969;}#sk-5fb57943-3feb-4a20-8bc4-88710ab5d327 label.sk-toggleable__label-arrow:hover:before {color: black;}#sk-5fb57943-3feb-4a20-8bc4-88710ab5d327 div.sk-estimator:hover label.sk-toggleable__label-arrow:before {color: black;}#sk-5fb57943-3feb-4a20-8bc4-88710ab5d327 div.sk-toggleable__content {max-height: 0;max-width: 0;overflow: hidden;text-align: left;background-color: #f0f8ff;}#sk-5fb57943-3feb-4a20-8bc4-88710ab5d327 div.sk-toggleable__content pre {margin: 0.2em;color: black;border-radius: 0.25em;background-color: #f0f8ff;}#sk-5fb57943-3feb-4a20-8bc4-88710ab5d327 input.sk-toggleable__control:checked~div.sk-toggleable__content {max-height: 200px;max-width: 100%;overflow: auto;}#sk-5fb57943-3feb-4a20-8bc4-88710ab5d327 input.sk-toggleable__control:checked~label.sk-toggleable__label-arrow:before {content: \"▾\";}#sk-5fb57943-3feb-4a20-8bc4-88710ab5d327 div.sk-estimator input.sk-toggleable__control:checked~label.sk-toggleable__label {background-color: #d4ebff;}#sk-5fb57943-3feb-4a20-8bc4-88710ab5d327 div.sk-label input.sk-toggleable__control:checked~label.sk-toggleable__label {background-color: #d4ebff;}#sk-5fb57943-3feb-4a20-8bc4-88710ab5d327 input.sk-hidden--visually {border: 0;clip: rect(1px 1px 1px 1px);clip: rect(1px, 1px, 1px, 1px);height: 1px;margin: -1px;overflow: hidden;padding: 0;position: absolute;width: 1px;}#sk-5fb57943-3feb-4a20-8bc4-88710ab5d327 div.sk-estimator {font-family: monospace;background-color: #f0f8ff;border: 1px dotted black;border-radius: 0.25em;box-sizing: border-box;margin-bottom: 0.5em;}#sk-5fb57943-3feb-4a20-8bc4-88710ab5d327 div.sk-estimator:hover {background-color: #d4ebff;}#sk-5fb57943-3feb-4a20-8bc4-88710ab5d327 div.sk-parallel-item::after {content: \"\";width: 100%;border-bottom: 1px solid gray;flex-grow: 1;}#sk-5fb57943-3feb-4a20-8bc4-88710ab5d327 div.sk-label:hover label.sk-toggleable__label {background-color: #d4ebff;}#sk-5fb57943-3feb-4a20-8bc4-88710ab5d327 div.sk-serial::before {content: \"\";position: absolute;border-left: 1px solid gray;box-sizing: border-box;top: 2em;bottom: 0;left: 50%;}#sk-5fb57943-3feb-4a20-8bc4-88710ab5d327 div.sk-serial {display: flex;flex-direction: column;align-items: center;background-color: white;padding-right: 0.2em;padding-left: 0.2em;}#sk-5fb57943-3feb-4a20-8bc4-88710ab5d327 div.sk-item {z-index: 1;}#sk-5fb57943-3feb-4a20-8bc4-88710ab5d327 div.sk-parallel {display: flex;align-items: stretch;justify-content: center;background-color: white;}#sk-5fb57943-3feb-4a20-8bc4-88710ab5d327 div.sk-parallel::before {content: \"\";position: absolute;border-left: 1px solid gray;box-sizing: border-box;top: 2em;bottom: 0;left: 50%;}#sk-5fb57943-3feb-4a20-8bc4-88710ab5d327 div.sk-parallel-item {display: flex;flex-direction: column;position: relative;background-color: white;}#sk-5fb57943-3feb-4a20-8bc4-88710ab5d327 div.sk-parallel-item:first-child::after {align-self: flex-end;width: 50%;}#sk-5fb57943-3feb-4a20-8bc4-88710ab5d327 div.sk-parallel-item:last-child::after {align-self: flex-start;width: 50%;}#sk-5fb57943-3feb-4a20-8bc4-88710ab5d327 div.sk-parallel-item:only-child::after {width: 0;}#sk-5fb57943-3feb-4a20-8bc4-88710ab5d327 div.sk-dashed-wrapped {border: 1px dashed gray;margin: 0 0.4em 0.5em 0.4em;box-sizing: border-box;padding-bottom: 0.4em;background-color: white;position: relative;}#sk-5fb57943-3feb-4a20-8bc4-88710ab5d327 div.sk-label label {font-family: monospace;font-weight: bold;background-color: white;display: inline-block;line-height: 1.2em;}#sk-5fb57943-3feb-4a20-8bc4-88710ab5d327 div.sk-label-container {position: relative;z-index: 2;text-align: center;}#sk-5fb57943-3feb-4a20-8bc4-88710ab5d327 div.sk-container {/* jupyter's `normalize.less` sets `[hidden] { display: none; }` but bootstrap.min.css set `[hidden] { display: none !important; }` so we also need the `!important` here to be able to override the default hidden behavior on the sphinx rendered scikit-learn.org. See: https://github.com/scikit-learn/scikit-learn/issues/21755 */display: inline-block !important;position: relative;}#sk-5fb57943-3feb-4a20-8bc4-88710ab5d327 div.sk-text-repr-fallback {display: none;}</style><div id=\"sk-5fb57943-3feb-4a20-8bc4-88710ab5d327\" class=\"sk-top-container\"><div class=\"sk-text-repr-fallback\"><pre>Pipeline(steps=[(&#x27;columntransformer&#x27;,\n",
       "                 ColumnTransformer(remainder=&#x27;passthrough&#x27;,\n",
       "                                   transformers=[(&#x27;onehotencoder&#x27;,\n",
       "                                                  OneHotEncoder(handle_unknown=&#x27;ignore&#x27;),\n",
       "                                                  &lt;sklearn.compose._column_transformer.make_column_selector object at 0x7faa4f490c10&gt;)],\n",
       "                                   verbose_feature_names_out=False)),\n",
       "                (&#x27;standardscaler&#x27;, StandardScaler(with_mean=False)),\n",
       "                (&#x27;ridge&#x27;, Ridge())])</pre><b>Please rerun this cell to show the HTML repr or trust the notebook.</b></div><div class=\"sk-container\" hidden><div class=\"sk-item sk-dashed-wrapped\"><div class=\"sk-label-container\"><div class=\"sk-label sk-toggleable\"><input class=\"sk-toggleable__control sk-hidden--visually\" id=\"258de416-d2fd-453a-a353-778847bcd995\" type=\"checkbox\" ><label for=\"258de416-d2fd-453a-a353-778847bcd995\" class=\"sk-toggleable__label sk-toggleable__label-arrow\">Pipeline</label><div class=\"sk-toggleable__content\"><pre>Pipeline(steps=[(&#x27;columntransformer&#x27;,\n",
       "                 ColumnTransformer(remainder=&#x27;passthrough&#x27;,\n",
       "                                   transformers=[(&#x27;onehotencoder&#x27;,\n",
       "                                                  OneHotEncoder(handle_unknown=&#x27;ignore&#x27;),\n",
       "                                                  &lt;sklearn.compose._column_transformer.make_column_selector object at 0x7faa4f490c10&gt;)],\n",
       "                                   verbose_feature_names_out=False)),\n",
       "                (&#x27;standardscaler&#x27;, StandardScaler(with_mean=False)),\n",
       "                (&#x27;ridge&#x27;, Ridge())])</pre></div></div></div><div class=\"sk-serial\"><div class=\"sk-item sk-dashed-wrapped\"><div class=\"sk-label-container\"><div class=\"sk-label sk-toggleable\"><input class=\"sk-toggleable__control sk-hidden--visually\" id=\"a9c6b52b-02fc-45c7-b484-8c4994d2bc4f\" type=\"checkbox\" ><label for=\"a9c6b52b-02fc-45c7-b484-8c4994d2bc4f\" class=\"sk-toggleable__label sk-toggleable__label-arrow\">columntransformer: ColumnTransformer</label><div class=\"sk-toggleable__content\"><pre>ColumnTransformer(remainder=&#x27;passthrough&#x27;,\n",
       "                  transformers=[(&#x27;onehotencoder&#x27;,\n",
       "                                 OneHotEncoder(handle_unknown=&#x27;ignore&#x27;),\n",
       "                                 &lt;sklearn.compose._column_transformer.make_column_selector object at 0x7faa4f490c10&gt;)],\n",
       "                  verbose_feature_names_out=False)</pre></div></div></div><div class=\"sk-parallel\"><div class=\"sk-parallel-item\"><div class=\"sk-item\"><div class=\"sk-label-container\"><div class=\"sk-label sk-toggleable\"><input class=\"sk-toggleable__control sk-hidden--visually\" id=\"ee38d54f-6a19-48e6-8e2c-b741862d7fba\" type=\"checkbox\" ><label for=\"ee38d54f-6a19-48e6-8e2c-b741862d7fba\" class=\"sk-toggleable__label sk-toggleable__label-arrow\">onehotencoder</label><div class=\"sk-toggleable__content\"><pre>&lt;sklearn.compose._column_transformer.make_column_selector object at 0x7faa4f490c10&gt;</pre></div></div></div><div class=\"sk-serial\"><div class=\"sk-item\"><div class=\"sk-estimator sk-toggleable\"><input class=\"sk-toggleable__control sk-hidden--visually\" id=\"9457a119-731f-4768-a7a5-b9ad7d3b979c\" type=\"checkbox\" ><label for=\"9457a119-731f-4768-a7a5-b9ad7d3b979c\" class=\"sk-toggleable__label sk-toggleable__label-arrow\">OneHotEncoder</label><div class=\"sk-toggleable__content\"><pre>OneHotEncoder(handle_unknown=&#x27;ignore&#x27;)</pre></div></div></div></div></div></div><div class=\"sk-parallel-item\"><div class=\"sk-item\"><div class=\"sk-label-container\"><div class=\"sk-label sk-toggleable\"><input class=\"sk-toggleable__control sk-hidden--visually\" id=\"947ece5e-938d-4a37-8473-3564829a0e5a\" type=\"checkbox\" ><label for=\"947ece5e-938d-4a37-8473-3564829a0e5a\" class=\"sk-toggleable__label sk-toggleable__label-arrow\">remainder</label><div class=\"sk-toggleable__content\"><pre></pre></div></div></div><div class=\"sk-serial\"><div class=\"sk-item\"><div class=\"sk-estimator sk-toggleable\"><input class=\"sk-toggleable__control sk-hidden--visually\" id=\"adcc72ea-dbdf-4db5-a105-f6191fb002d5\" type=\"checkbox\" ><label for=\"adcc72ea-dbdf-4db5-a105-f6191fb002d5\" class=\"sk-toggleable__label sk-toggleable__label-arrow\">passthrough</label><div class=\"sk-toggleable__content\"><pre>passthrough</pre></div></div></div></div></div></div></div></div><div class=\"sk-item\"><div class=\"sk-estimator sk-toggleable\"><input class=\"sk-toggleable__control sk-hidden--visually\" id=\"d22bbce5-d0f4-4ee8-b607-48771ec48e84\" type=\"checkbox\" ><label for=\"d22bbce5-d0f4-4ee8-b607-48771ec48e84\" class=\"sk-toggleable__label sk-toggleable__label-arrow\">StandardScaler</label><div class=\"sk-toggleable__content\"><pre>StandardScaler(with_mean=False)</pre></div></div></div><div class=\"sk-item\"><div class=\"sk-estimator sk-toggleable\"><input class=\"sk-toggleable__control sk-hidden--visually\" id=\"561901f1-9db0-4a78-a4c8-8b387c9b9256\" type=\"checkbox\" ><label for=\"561901f1-9db0-4a78-a4c8-8b387c9b9256\" class=\"sk-toggleable__label sk-toggleable__label-arrow\">Ridge</label><div class=\"sk-toggleable__content\"><pre>Ridge()</pre></div></div></div></div></div></div></div>"
      ],
      "text/plain": [
       "Pipeline(steps=[('columntransformer',\n",
       "                 ColumnTransformer(remainder='passthrough',\n",
       "                                   transformers=[('onehotencoder',\n",
       "                                                  OneHotEncoder(handle_unknown='ignore'),\n",
       "                                                  <sklearn.compose._column_transformer.make_column_selector object at 0x7faa4f490c10>)],\n",
       "                                   verbose_feature_names_out=False)),\n",
       "                ('standardscaler', StandardScaler(with_mean=False)),\n",
       "                ('ridge', Ridge())])"
      ]
     },
     "execution_count": 62,
     "metadata": {},
     "output_type": "execute_result"
    }
   ],
   "source": [
    "pipe5 = make_pipeline(ct4, StandardScaler(with_mean=False), Ridge())\n",
    "pipe5"
   ]
  },
  {
   "cell_type": "code",
   "execution_count": 63,
   "metadata": {},
   "outputs": [
    {
     "data": {
      "text/plain": [
       "dict_keys(['memory', 'steps', 'verbose', 'columntransformer', 'standardscaler', 'ridge', 'columntransformer__n_jobs', 'columntransformer__remainder', 'columntransformer__sparse_threshold', 'columntransformer__transformer_weights', 'columntransformer__transformers', 'columntransformer__verbose', 'columntransformer__verbose_feature_names_out', 'columntransformer__onehotencoder', 'columntransformer__onehotencoder__categories', 'columntransformer__onehotencoder__drop', 'columntransformer__onehotencoder__dtype', 'columntransformer__onehotencoder__handle_unknown', 'columntransformer__onehotencoder__sparse', 'standardscaler__copy', 'standardscaler__with_mean', 'standardscaler__with_std', 'ridge__alpha', 'ridge__copy_X', 'ridge__fit_intercept', 'ridge__max_iter', 'ridge__normalize', 'ridge__positive', 'ridge__random_state', 'ridge__solver', 'ridge__tol'])"
      ]
     },
     "execution_count": 63,
     "metadata": {},
     "output_type": "execute_result"
    }
   ],
   "source": [
    "pipe5.get_params().keys()"
   ]
  },
  {
   "cell_type": "code",
   "execution_count": 64,
   "metadata": {},
   "outputs": [],
   "source": [
    "params = {\n",
    "    'ridge__alpha': [.01, .1, 1, 10, 100],\n",
    "    'ridge__max_iter': [100_000]\n",
    "}"
   ]
  },
  {
   "cell_type": "code",
   "execution_count": 65,
   "metadata": {},
   "outputs": [
    {
     "data": {
      "text/html": [
       "<style>#sk-8090b247-9ddd-4951-b6fb-d33dbcf86692 {color: black;background-color: white;}#sk-8090b247-9ddd-4951-b6fb-d33dbcf86692 pre{padding: 0;}#sk-8090b247-9ddd-4951-b6fb-d33dbcf86692 div.sk-toggleable {background-color: white;}#sk-8090b247-9ddd-4951-b6fb-d33dbcf86692 label.sk-toggleable__label {cursor: pointer;display: block;width: 100%;margin-bottom: 0;padding: 0.3em;box-sizing: border-box;text-align: center;}#sk-8090b247-9ddd-4951-b6fb-d33dbcf86692 label.sk-toggleable__label-arrow:before {content: \"▸\";float: left;margin-right: 0.25em;color: #696969;}#sk-8090b247-9ddd-4951-b6fb-d33dbcf86692 label.sk-toggleable__label-arrow:hover:before {color: black;}#sk-8090b247-9ddd-4951-b6fb-d33dbcf86692 div.sk-estimator:hover label.sk-toggleable__label-arrow:before {color: black;}#sk-8090b247-9ddd-4951-b6fb-d33dbcf86692 div.sk-toggleable__content {max-height: 0;max-width: 0;overflow: hidden;text-align: left;background-color: #f0f8ff;}#sk-8090b247-9ddd-4951-b6fb-d33dbcf86692 div.sk-toggleable__content pre {margin: 0.2em;color: black;border-radius: 0.25em;background-color: #f0f8ff;}#sk-8090b247-9ddd-4951-b6fb-d33dbcf86692 input.sk-toggleable__control:checked~div.sk-toggleable__content {max-height: 200px;max-width: 100%;overflow: auto;}#sk-8090b247-9ddd-4951-b6fb-d33dbcf86692 input.sk-toggleable__control:checked~label.sk-toggleable__label-arrow:before {content: \"▾\";}#sk-8090b247-9ddd-4951-b6fb-d33dbcf86692 div.sk-estimator input.sk-toggleable__control:checked~label.sk-toggleable__label {background-color: #d4ebff;}#sk-8090b247-9ddd-4951-b6fb-d33dbcf86692 div.sk-label input.sk-toggleable__control:checked~label.sk-toggleable__label {background-color: #d4ebff;}#sk-8090b247-9ddd-4951-b6fb-d33dbcf86692 input.sk-hidden--visually {border: 0;clip: rect(1px 1px 1px 1px);clip: rect(1px, 1px, 1px, 1px);height: 1px;margin: -1px;overflow: hidden;padding: 0;position: absolute;width: 1px;}#sk-8090b247-9ddd-4951-b6fb-d33dbcf86692 div.sk-estimator {font-family: monospace;background-color: #f0f8ff;border: 1px dotted black;border-radius: 0.25em;box-sizing: border-box;margin-bottom: 0.5em;}#sk-8090b247-9ddd-4951-b6fb-d33dbcf86692 div.sk-estimator:hover {background-color: #d4ebff;}#sk-8090b247-9ddd-4951-b6fb-d33dbcf86692 div.sk-parallel-item::after {content: \"\";width: 100%;border-bottom: 1px solid gray;flex-grow: 1;}#sk-8090b247-9ddd-4951-b6fb-d33dbcf86692 div.sk-label:hover label.sk-toggleable__label {background-color: #d4ebff;}#sk-8090b247-9ddd-4951-b6fb-d33dbcf86692 div.sk-serial::before {content: \"\";position: absolute;border-left: 1px solid gray;box-sizing: border-box;top: 2em;bottom: 0;left: 50%;}#sk-8090b247-9ddd-4951-b6fb-d33dbcf86692 div.sk-serial {display: flex;flex-direction: column;align-items: center;background-color: white;padding-right: 0.2em;padding-left: 0.2em;}#sk-8090b247-9ddd-4951-b6fb-d33dbcf86692 div.sk-item {z-index: 1;}#sk-8090b247-9ddd-4951-b6fb-d33dbcf86692 div.sk-parallel {display: flex;align-items: stretch;justify-content: center;background-color: white;}#sk-8090b247-9ddd-4951-b6fb-d33dbcf86692 div.sk-parallel::before {content: \"\";position: absolute;border-left: 1px solid gray;box-sizing: border-box;top: 2em;bottom: 0;left: 50%;}#sk-8090b247-9ddd-4951-b6fb-d33dbcf86692 div.sk-parallel-item {display: flex;flex-direction: column;position: relative;background-color: white;}#sk-8090b247-9ddd-4951-b6fb-d33dbcf86692 div.sk-parallel-item:first-child::after {align-self: flex-end;width: 50%;}#sk-8090b247-9ddd-4951-b6fb-d33dbcf86692 div.sk-parallel-item:last-child::after {align-self: flex-start;width: 50%;}#sk-8090b247-9ddd-4951-b6fb-d33dbcf86692 div.sk-parallel-item:only-child::after {width: 0;}#sk-8090b247-9ddd-4951-b6fb-d33dbcf86692 div.sk-dashed-wrapped {border: 1px dashed gray;margin: 0 0.4em 0.5em 0.4em;box-sizing: border-box;padding-bottom: 0.4em;background-color: white;position: relative;}#sk-8090b247-9ddd-4951-b6fb-d33dbcf86692 div.sk-label label {font-family: monospace;font-weight: bold;background-color: white;display: inline-block;line-height: 1.2em;}#sk-8090b247-9ddd-4951-b6fb-d33dbcf86692 div.sk-label-container {position: relative;z-index: 2;text-align: center;}#sk-8090b247-9ddd-4951-b6fb-d33dbcf86692 div.sk-container {/* jupyter's `normalize.less` sets `[hidden] { display: none; }` but bootstrap.min.css set `[hidden] { display: none !important; }` so we also need the `!important` here to be able to override the default hidden behavior on the sphinx rendered scikit-learn.org. See: https://github.com/scikit-learn/scikit-learn/issues/21755 */display: inline-block !important;position: relative;}#sk-8090b247-9ddd-4951-b6fb-d33dbcf86692 div.sk-text-repr-fallback {display: none;}</style><div id=\"sk-8090b247-9ddd-4951-b6fb-d33dbcf86692\" class=\"sk-top-container\"><div class=\"sk-text-repr-fallback\"><pre>GridSearchCV(estimator=Pipeline(steps=[(&#x27;columntransformer&#x27;,\n",
       "                                        ColumnTransformer(remainder=&#x27;passthrough&#x27;,\n",
       "                                                          transformers=[(&#x27;onehotencoder&#x27;,\n",
       "                                                                         OneHotEncoder(handle_unknown=&#x27;ignore&#x27;),\n",
       "                                                                         &lt;sklearn.compose._column_transformer.make_column_selector object at 0x7faa4f490c10&gt;)],\n",
       "                                                          verbose_feature_names_out=False)),\n",
       "                                       (&#x27;standardscaler&#x27;,\n",
       "                                        StandardScaler(with_mean=False)),\n",
       "                                       (&#x27;ridge&#x27;, Ridge())]),\n",
       "             n_jobs=-1,\n",
       "             param_grid={&#x27;ridge__alpha&#x27;: [0.01, 0.1, 1, 10, 100],\n",
       "                         &#x27;ridge__max_iter&#x27;: [100000]})</pre><b>Please rerun this cell to show the HTML repr or trust the notebook.</b></div><div class=\"sk-container\" hidden><div class=\"sk-item sk-dashed-wrapped\"><div class=\"sk-label-container\"><div class=\"sk-label sk-toggleable\"><input class=\"sk-toggleable__control sk-hidden--visually\" id=\"f414481c-efb3-4161-8869-3a67e585b1fa\" type=\"checkbox\" ><label for=\"f414481c-efb3-4161-8869-3a67e585b1fa\" class=\"sk-toggleable__label sk-toggleable__label-arrow\">GridSearchCV</label><div class=\"sk-toggleable__content\"><pre>GridSearchCV(estimator=Pipeline(steps=[(&#x27;columntransformer&#x27;,\n",
       "                                        ColumnTransformer(remainder=&#x27;passthrough&#x27;,\n",
       "                                                          transformers=[(&#x27;onehotencoder&#x27;,\n",
       "                                                                         OneHotEncoder(handle_unknown=&#x27;ignore&#x27;),\n",
       "                                                                         &lt;sklearn.compose._column_transformer.make_column_selector object at 0x7faa4f490c10&gt;)],\n",
       "                                                          verbose_feature_names_out=False)),\n",
       "                                       (&#x27;standardscaler&#x27;,\n",
       "                                        StandardScaler(with_mean=False)),\n",
       "                                       (&#x27;ridge&#x27;, Ridge())]),\n",
       "             n_jobs=-1,\n",
       "             param_grid={&#x27;ridge__alpha&#x27;: [0.01, 0.1, 1, 10, 100],\n",
       "                         &#x27;ridge__max_iter&#x27;: [100000]})</pre></div></div></div><div class=\"sk-parallel\"><div class=\"sk-parallel-item\"><div class=\"sk-item\"><div class=\"sk-serial\"><div class=\"sk-item\"><div class=\"sk-serial\"><div class=\"sk-item sk-dashed-wrapped\"><div class=\"sk-label-container\"><div class=\"sk-label sk-toggleable\"><input class=\"sk-toggleable__control sk-hidden--visually\" id=\"f9bd0ff4-10bd-40bc-83eb-57784c4287c4\" type=\"checkbox\" ><label for=\"f9bd0ff4-10bd-40bc-83eb-57784c4287c4\" class=\"sk-toggleable__label sk-toggleable__label-arrow\">columntransformer: ColumnTransformer</label><div class=\"sk-toggleable__content\"><pre>ColumnTransformer(remainder=&#x27;passthrough&#x27;,\n",
       "                  transformers=[(&#x27;onehotencoder&#x27;,\n",
       "                                 OneHotEncoder(handle_unknown=&#x27;ignore&#x27;),\n",
       "                                 &lt;sklearn.compose._column_transformer.make_column_selector object at 0x7faa4f490c10&gt;)],\n",
       "                  verbose_feature_names_out=False)</pre></div></div></div><div class=\"sk-parallel\"><div class=\"sk-parallel-item\"><div class=\"sk-item\"><div class=\"sk-label-container\"><div class=\"sk-label sk-toggleable\"><input class=\"sk-toggleable__control sk-hidden--visually\" id=\"7eff1ed8-d71a-4190-9951-df9dc3300bcd\" type=\"checkbox\" ><label for=\"7eff1ed8-d71a-4190-9951-df9dc3300bcd\" class=\"sk-toggleable__label sk-toggleable__label-arrow\">onehotencoder</label><div class=\"sk-toggleable__content\"><pre>&lt;sklearn.compose._column_transformer.make_column_selector object at 0x7faa4f490c10&gt;</pre></div></div></div><div class=\"sk-serial\"><div class=\"sk-item\"><div class=\"sk-estimator sk-toggleable\"><input class=\"sk-toggleable__control sk-hidden--visually\" id=\"242e3ce9-ec8e-402f-9bb2-4082cf339da7\" type=\"checkbox\" ><label for=\"242e3ce9-ec8e-402f-9bb2-4082cf339da7\" class=\"sk-toggleable__label sk-toggleable__label-arrow\">OneHotEncoder</label><div class=\"sk-toggleable__content\"><pre>OneHotEncoder(handle_unknown=&#x27;ignore&#x27;)</pre></div></div></div></div></div></div><div class=\"sk-parallel-item\"><div class=\"sk-item\"><div class=\"sk-label-container\"><div class=\"sk-label sk-toggleable\"><input class=\"sk-toggleable__control sk-hidden--visually\" id=\"285e1982-91c6-4163-b17a-abe5a305c184\" type=\"checkbox\" ><label for=\"285e1982-91c6-4163-b17a-abe5a305c184\" class=\"sk-toggleable__label sk-toggleable__label-arrow\">remainder</label><div class=\"sk-toggleable__content\"><pre></pre></div></div></div><div class=\"sk-serial\"><div class=\"sk-item\"><div class=\"sk-estimator sk-toggleable\"><input class=\"sk-toggleable__control sk-hidden--visually\" id=\"d65219e7-8ff7-4ca5-b766-408706e4216d\" type=\"checkbox\" ><label for=\"d65219e7-8ff7-4ca5-b766-408706e4216d\" class=\"sk-toggleable__label sk-toggleable__label-arrow\">passthrough</label><div class=\"sk-toggleable__content\"><pre>passthrough</pre></div></div></div></div></div></div></div></div><div class=\"sk-item\"><div class=\"sk-estimator sk-toggleable\"><input class=\"sk-toggleable__control sk-hidden--visually\" id=\"2bd604db-8a97-4d73-a44e-c28c1106963f\" type=\"checkbox\" ><label for=\"2bd604db-8a97-4d73-a44e-c28c1106963f\" class=\"sk-toggleable__label sk-toggleable__label-arrow\">StandardScaler</label><div class=\"sk-toggleable__content\"><pre>StandardScaler(with_mean=False)</pre></div></div></div><div class=\"sk-item\"><div class=\"sk-estimator sk-toggleable\"><input class=\"sk-toggleable__control sk-hidden--visually\" id=\"2761d7d6-8901-4646-aaf4-5f060e1afb77\" type=\"checkbox\" ><label for=\"2761d7d6-8901-4646-aaf4-5f060e1afb77\" class=\"sk-toggleable__label sk-toggleable__label-arrow\">Ridge</label><div class=\"sk-toggleable__content\"><pre>Ridge()</pre></div></div></div></div></div></div></div></div></div></div></div></div>"
      ],
      "text/plain": [
       "GridSearchCV(estimator=Pipeline(steps=[('columntransformer',\n",
       "                                        ColumnTransformer(remainder='passthrough',\n",
       "                                                          transformers=[('onehotencoder',\n",
       "                                                                         OneHotEncoder(handle_unknown='ignore'),\n",
       "                                                                         <sklearn.compose._column_transformer.make_column_selector object at 0x7faa4f490c10>)],\n",
       "                                                          verbose_feature_names_out=False)),\n",
       "                                       ('standardscaler',\n",
       "                                        StandardScaler(with_mean=False)),\n",
       "                                       ('ridge', Ridge())]),\n",
       "             n_jobs=-1,\n",
       "             param_grid={'ridge__alpha': [0.01, 0.1, 1, 10, 100],\n",
       "                         'ridge__max_iter': [100000]})"
      ]
     },
     "execution_count": 65,
     "metadata": {},
     "output_type": "execute_result"
    }
   ],
   "source": [
    "gs2 = GridSearchCV(pipe5, params, n_jobs=-1)\n",
    "gs2"
   ]
  },
  {
   "cell_type": "code",
   "execution_count": 66,
   "metadata": {},
   "outputs": [
    {
     "data": {
      "text/plain": [
       "0.8703680799485327"
      ]
     },
     "execution_count": 66,
     "metadata": {},
     "output_type": "execute_result"
    }
   ],
   "source": [
    "gs2.fit(X_train, y_train)\n",
    "gs2.score(X_test, y_test)"
   ]
  },
  {
   "cell_type": "code",
   "execution_count": 67,
   "metadata": {},
   "outputs": [
    {
     "data": {
      "text/plain": [
       "28258.666467040028"
      ]
     },
     "execution_count": 67,
     "metadata": {},
     "output_type": "execute_result"
    }
   ],
   "source": [
    "preds = gs2.predict(X_test)\n",
    "mean_squared_error(y_test, preds, squared=False)"
   ]
  },
  {
   "cell_type": "markdown",
   "metadata": {},
   "source": [
    "### Get most important features and their coeficients"
   ]
  },
  {
   "cell_type": "code",
   "execution_count": 68,
   "metadata": {},
   "outputs": [],
   "source": [
    "coefs = gs2.best_estimator_.named_steps['ridge'].coef_"
   ]
  },
  {
   "cell_type": "code",
   "execution_count": 69,
   "metadata": {},
   "outputs": [],
   "source": [
    "feature_names = gs2.best_estimator_.named_steps.get('columntransformer').get_feature_names_out()"
   ]
  },
  {
   "cell_type": "code",
   "execution_count": 70,
   "metadata": {},
   "outputs": [
    {
     "data": {
      "text/html": [
       "<div>\n",
       "<style scoped>\n",
       "    .dataframe tbody tr th:only-of-type {\n",
       "        vertical-align: middle;\n",
       "    }\n",
       "\n",
       "    .dataframe tbody tr th {\n",
       "        vertical-align: top;\n",
       "    }\n",
       "\n",
       "    .dataframe thead th {\n",
       "        text-align: right;\n",
       "    }\n",
       "</style>\n",
       "<table border=\"1\" class=\"dataframe\">\n",
       "  <thead>\n",
       "    <tr style=\"text-align: right;\">\n",
       "      <th></th>\n",
       "      <th>0</th>\n",
       "      <th>1</th>\n",
       "    </tr>\n",
       "  </thead>\n",
       "  <tbody>\n",
       "    <tr>\n",
       "      <th>100</th>\n",
       "      <td>Gr Liv Area</td>\n",
       "      <td>24879.064311</td>\n",
       "    </tr>\n",
       "    <tr>\n",
       "      <th>98</th>\n",
       "      <td>Overall Qual</td>\n",
       "      <td>15318.891758</td>\n",
       "    </tr>\n",
       "    <tr>\n",
       "      <th>101</th>\n",
       "      <td>Garage Area</td>\n",
       "      <td>10796.906749</td>\n",
       "    </tr>\n",
       "    <tr>\n",
       "      <th>96</th>\n",
       "      <td>Year Built</td>\n",
       "      <td>10781.465885</td>\n",
       "    </tr>\n",
       "    <tr>\n",
       "      <th>71</th>\n",
       "      <td>Kitchen Qual_Ex</td>\n",
       "      <td>9359.936066</td>\n",
       "    </tr>\n",
       "    <tr>\n",
       "      <th>32</th>\n",
       "      <td>Neighborhood_NridgHt</td>\n",
       "      <td>8627.049868</td>\n",
       "    </tr>\n",
       "    <tr>\n",
       "      <th>62</th>\n",
       "      <td>Exter Qual_Ex</td>\n",
       "      <td>7206.545181</td>\n",
       "    </tr>\n",
       "    <tr>\n",
       "      <th>31</th>\n",
       "      <td>Neighborhood_NoRidge</td>\n",
       "      <td>5614.944538</td>\n",
       "    </tr>\n",
       "    <tr>\n",
       "      <th>38</th>\n",
       "      <td>Neighborhood_StoneBr</td>\n",
       "      <td>5072.002438</td>\n",
       "    </tr>\n",
       "    <tr>\n",
       "      <th>57</th>\n",
       "      <td>Bldg Type_1Fam</td>\n",
       "      <td>4689.916928</td>\n",
       "    </tr>\n",
       "  </tbody>\n",
       "</table>\n",
       "</div>"
      ],
      "text/plain": [
       "                        0             1\n",
       "100           Gr Liv Area  24879.064311\n",
       "98           Overall Qual  15318.891758\n",
       "101           Garage Area  10796.906749\n",
       "96             Year Built  10781.465885\n",
       "71        Kitchen Qual_Ex   9359.936066\n",
       "32   Neighborhood_NridgHt   8627.049868\n",
       "62          Exter Qual_Ex   7206.545181\n",
       "31   Neighborhood_NoRidge   5614.944538\n",
       "38   Neighborhood_StoneBr   5072.002438\n",
       "57         Bldg Type_1Fam   4689.916928"
      ]
     },
     "execution_count": 70,
     "metadata": {},
     "output_type": "execute_result"
    }
   ],
   "source": [
    "pd.DataFrame(zip(feature_names, coefs)).sort_values(by=1, ascending=False).head(10)"
   ]
  },
  {
   "cell_type": "markdown",
   "metadata": {},
   "source": [
    "### Kaggle submission"
   ]
  },
  {
   "cell_type": "code",
   "execution_count": 71,
   "metadata": {},
   "outputs": [],
   "source": [
    "test['SalePrice'] = gs2.predict(kaggle)"
   ]
  },
  {
   "cell_type": "code",
   "execution_count": 72,
   "metadata": {},
   "outputs": [],
   "source": [
    "test[['Id', 'SalePrice']].to_csv('../data/submission_all_EDA_ridge.csv', index=False)"
   ]
  },
  {
   "cell_type": "markdown",
   "metadata": {},
   "source": [
    "## Bonus attempt for Kaggle. Polynomial features, Ridge\n"
   ]
  },
  {
   "cell_type": "markdown",
   "metadata": {},
   "source": [
    "### Train-Test Split"
   ]
  },
  {
   "cell_type": "code",
   "execution_count": 73,
   "metadata": {},
   "outputs": [],
   "source": [
    "X = train.drop(columns='SalePrice')\n",
    "y = train['SalePrice']\n",
    "kaggle = test[X.columns]"
   ]
  },
  {
   "cell_type": "code",
   "execution_count": 74,
   "metadata": {},
   "outputs": [],
   "source": [
    "X_train, X_test, y_train, y_test = train_test_split(X, y, random_state=1331)"
   ]
  },
  {
   "cell_type": "code",
   "execution_count": 75,
   "metadata": {},
   "outputs": [
    {
     "data": {
      "text/html": [
       "<style>#sk-1cf567d8-d6e4-480b-83cd-d6f1886a901e {color: black;background-color: white;}#sk-1cf567d8-d6e4-480b-83cd-d6f1886a901e pre{padding: 0;}#sk-1cf567d8-d6e4-480b-83cd-d6f1886a901e div.sk-toggleable {background-color: white;}#sk-1cf567d8-d6e4-480b-83cd-d6f1886a901e label.sk-toggleable__label {cursor: pointer;display: block;width: 100%;margin-bottom: 0;padding: 0.3em;box-sizing: border-box;text-align: center;}#sk-1cf567d8-d6e4-480b-83cd-d6f1886a901e label.sk-toggleable__label-arrow:before {content: \"▸\";float: left;margin-right: 0.25em;color: #696969;}#sk-1cf567d8-d6e4-480b-83cd-d6f1886a901e label.sk-toggleable__label-arrow:hover:before {color: black;}#sk-1cf567d8-d6e4-480b-83cd-d6f1886a901e div.sk-estimator:hover label.sk-toggleable__label-arrow:before {color: black;}#sk-1cf567d8-d6e4-480b-83cd-d6f1886a901e div.sk-toggleable__content {max-height: 0;max-width: 0;overflow: hidden;text-align: left;background-color: #f0f8ff;}#sk-1cf567d8-d6e4-480b-83cd-d6f1886a901e div.sk-toggleable__content pre {margin: 0.2em;color: black;border-radius: 0.25em;background-color: #f0f8ff;}#sk-1cf567d8-d6e4-480b-83cd-d6f1886a901e input.sk-toggleable__control:checked~div.sk-toggleable__content {max-height: 200px;max-width: 100%;overflow: auto;}#sk-1cf567d8-d6e4-480b-83cd-d6f1886a901e input.sk-toggleable__control:checked~label.sk-toggleable__label-arrow:before {content: \"▾\";}#sk-1cf567d8-d6e4-480b-83cd-d6f1886a901e div.sk-estimator input.sk-toggleable__control:checked~label.sk-toggleable__label {background-color: #d4ebff;}#sk-1cf567d8-d6e4-480b-83cd-d6f1886a901e div.sk-label input.sk-toggleable__control:checked~label.sk-toggleable__label {background-color: #d4ebff;}#sk-1cf567d8-d6e4-480b-83cd-d6f1886a901e input.sk-hidden--visually {border: 0;clip: rect(1px 1px 1px 1px);clip: rect(1px, 1px, 1px, 1px);height: 1px;margin: -1px;overflow: hidden;padding: 0;position: absolute;width: 1px;}#sk-1cf567d8-d6e4-480b-83cd-d6f1886a901e div.sk-estimator {font-family: monospace;background-color: #f0f8ff;border: 1px dotted black;border-radius: 0.25em;box-sizing: border-box;margin-bottom: 0.5em;}#sk-1cf567d8-d6e4-480b-83cd-d6f1886a901e div.sk-estimator:hover {background-color: #d4ebff;}#sk-1cf567d8-d6e4-480b-83cd-d6f1886a901e div.sk-parallel-item::after {content: \"\";width: 100%;border-bottom: 1px solid gray;flex-grow: 1;}#sk-1cf567d8-d6e4-480b-83cd-d6f1886a901e div.sk-label:hover label.sk-toggleable__label {background-color: #d4ebff;}#sk-1cf567d8-d6e4-480b-83cd-d6f1886a901e div.sk-serial::before {content: \"\";position: absolute;border-left: 1px solid gray;box-sizing: border-box;top: 2em;bottom: 0;left: 50%;}#sk-1cf567d8-d6e4-480b-83cd-d6f1886a901e div.sk-serial {display: flex;flex-direction: column;align-items: center;background-color: white;padding-right: 0.2em;padding-left: 0.2em;}#sk-1cf567d8-d6e4-480b-83cd-d6f1886a901e div.sk-item {z-index: 1;}#sk-1cf567d8-d6e4-480b-83cd-d6f1886a901e div.sk-parallel {display: flex;align-items: stretch;justify-content: center;background-color: white;}#sk-1cf567d8-d6e4-480b-83cd-d6f1886a901e div.sk-parallel::before {content: \"\";position: absolute;border-left: 1px solid gray;box-sizing: border-box;top: 2em;bottom: 0;left: 50%;}#sk-1cf567d8-d6e4-480b-83cd-d6f1886a901e div.sk-parallel-item {display: flex;flex-direction: column;position: relative;background-color: white;}#sk-1cf567d8-d6e4-480b-83cd-d6f1886a901e div.sk-parallel-item:first-child::after {align-self: flex-end;width: 50%;}#sk-1cf567d8-d6e4-480b-83cd-d6f1886a901e div.sk-parallel-item:last-child::after {align-self: flex-start;width: 50%;}#sk-1cf567d8-d6e4-480b-83cd-d6f1886a901e div.sk-parallel-item:only-child::after {width: 0;}#sk-1cf567d8-d6e4-480b-83cd-d6f1886a901e div.sk-dashed-wrapped {border: 1px dashed gray;margin: 0 0.4em 0.5em 0.4em;box-sizing: border-box;padding-bottom: 0.4em;background-color: white;position: relative;}#sk-1cf567d8-d6e4-480b-83cd-d6f1886a901e div.sk-label label {font-family: monospace;font-weight: bold;background-color: white;display: inline-block;line-height: 1.2em;}#sk-1cf567d8-d6e4-480b-83cd-d6f1886a901e div.sk-label-container {position: relative;z-index: 2;text-align: center;}#sk-1cf567d8-d6e4-480b-83cd-d6f1886a901e div.sk-container {/* jupyter's `normalize.less` sets `[hidden] { display: none; }` but bootstrap.min.css set `[hidden] { display: none !important; }` so we also need the `!important` here to be able to override the default hidden behavior on the sphinx rendered scikit-learn.org. See: https://github.com/scikit-learn/scikit-learn/issues/21755 */display: inline-block !important;position: relative;}#sk-1cf567d8-d6e4-480b-83cd-d6f1886a901e div.sk-text-repr-fallback {display: none;}</style><div id=\"sk-1cf567d8-d6e4-480b-83cd-d6f1886a901e\" class=\"sk-top-container\"><div class=\"sk-text-repr-fallback\"><pre>Pipeline(steps=[(&#x27;columntransformer&#x27;,\n",
       "                 ColumnTransformer(remainder=&#x27;passthrough&#x27;,\n",
       "                                   transformers=[(&#x27;onehotencoder&#x27;,\n",
       "                                                  OneHotEncoder(handle_unknown=&#x27;ignore&#x27;),\n",
       "                                                  &lt;sklearn.compose._column_transformer.make_column_selector object at 0x7faa4f490c10&gt;)],\n",
       "                                   verbose_feature_names_out=False)),\n",
       "                (&#x27;polynomialfeatures&#x27;, PolynomialFeatures()),\n",
       "                (&#x27;standardscaler&#x27;, StandardScaler(with_mean=False)),\n",
       "                (&#x27;ridge&#x27;, Ridge())])</pre><b>Please rerun this cell to show the HTML repr or trust the notebook.</b></div><div class=\"sk-container\" hidden><div class=\"sk-item sk-dashed-wrapped\"><div class=\"sk-label-container\"><div class=\"sk-label sk-toggleable\"><input class=\"sk-toggleable__control sk-hidden--visually\" id=\"096288f3-967d-4f49-952d-4afa5a62ac57\" type=\"checkbox\" ><label for=\"096288f3-967d-4f49-952d-4afa5a62ac57\" class=\"sk-toggleable__label sk-toggleable__label-arrow\">Pipeline</label><div class=\"sk-toggleable__content\"><pre>Pipeline(steps=[(&#x27;columntransformer&#x27;,\n",
       "                 ColumnTransformer(remainder=&#x27;passthrough&#x27;,\n",
       "                                   transformers=[(&#x27;onehotencoder&#x27;,\n",
       "                                                  OneHotEncoder(handle_unknown=&#x27;ignore&#x27;),\n",
       "                                                  &lt;sklearn.compose._column_transformer.make_column_selector object at 0x7faa4f490c10&gt;)],\n",
       "                                   verbose_feature_names_out=False)),\n",
       "                (&#x27;polynomialfeatures&#x27;, PolynomialFeatures()),\n",
       "                (&#x27;standardscaler&#x27;, StandardScaler(with_mean=False)),\n",
       "                (&#x27;ridge&#x27;, Ridge())])</pre></div></div></div><div class=\"sk-serial\"><div class=\"sk-item sk-dashed-wrapped\"><div class=\"sk-label-container\"><div class=\"sk-label sk-toggleable\"><input class=\"sk-toggleable__control sk-hidden--visually\" id=\"fa2b0f1c-4170-44fa-9453-955012a74d1e\" type=\"checkbox\" ><label for=\"fa2b0f1c-4170-44fa-9453-955012a74d1e\" class=\"sk-toggleable__label sk-toggleable__label-arrow\">columntransformer: ColumnTransformer</label><div class=\"sk-toggleable__content\"><pre>ColumnTransformer(remainder=&#x27;passthrough&#x27;,\n",
       "                  transformers=[(&#x27;onehotencoder&#x27;,\n",
       "                                 OneHotEncoder(handle_unknown=&#x27;ignore&#x27;),\n",
       "                                 &lt;sklearn.compose._column_transformer.make_column_selector object at 0x7faa4f490c10&gt;)],\n",
       "                  verbose_feature_names_out=False)</pre></div></div></div><div class=\"sk-parallel\"><div class=\"sk-parallel-item\"><div class=\"sk-item\"><div class=\"sk-label-container\"><div class=\"sk-label sk-toggleable\"><input class=\"sk-toggleable__control sk-hidden--visually\" id=\"e3a24767-460e-4400-945e-1dcfefafb74d\" type=\"checkbox\" ><label for=\"e3a24767-460e-4400-945e-1dcfefafb74d\" class=\"sk-toggleable__label sk-toggleable__label-arrow\">onehotencoder</label><div class=\"sk-toggleable__content\"><pre>&lt;sklearn.compose._column_transformer.make_column_selector object at 0x7faa4f490c10&gt;</pre></div></div></div><div class=\"sk-serial\"><div class=\"sk-item\"><div class=\"sk-estimator sk-toggleable\"><input class=\"sk-toggleable__control sk-hidden--visually\" id=\"7ac290fc-0280-4a23-91ba-0c8b52fa7b10\" type=\"checkbox\" ><label for=\"7ac290fc-0280-4a23-91ba-0c8b52fa7b10\" class=\"sk-toggleable__label sk-toggleable__label-arrow\">OneHotEncoder</label><div class=\"sk-toggleable__content\"><pre>OneHotEncoder(handle_unknown=&#x27;ignore&#x27;)</pre></div></div></div></div></div></div><div class=\"sk-parallel-item\"><div class=\"sk-item\"><div class=\"sk-label-container\"><div class=\"sk-label sk-toggleable\"><input class=\"sk-toggleable__control sk-hidden--visually\" id=\"0200db12-5397-433a-9b8b-262d0783042e\" type=\"checkbox\" ><label for=\"0200db12-5397-433a-9b8b-262d0783042e\" class=\"sk-toggleable__label sk-toggleable__label-arrow\">remainder</label><div class=\"sk-toggleable__content\"><pre></pre></div></div></div><div class=\"sk-serial\"><div class=\"sk-item\"><div class=\"sk-estimator sk-toggleable\"><input class=\"sk-toggleable__control sk-hidden--visually\" id=\"7d20646b-3f77-416d-af51-7df1451b4870\" type=\"checkbox\" ><label for=\"7d20646b-3f77-416d-af51-7df1451b4870\" class=\"sk-toggleable__label sk-toggleable__label-arrow\">passthrough</label><div class=\"sk-toggleable__content\"><pre>passthrough</pre></div></div></div></div></div></div></div></div><div class=\"sk-item\"><div class=\"sk-estimator sk-toggleable\"><input class=\"sk-toggleable__control sk-hidden--visually\" id=\"4e10e4cc-004b-4e85-820d-c68bc0ecebde\" type=\"checkbox\" ><label for=\"4e10e4cc-004b-4e85-820d-c68bc0ecebde\" class=\"sk-toggleable__label sk-toggleable__label-arrow\">PolynomialFeatures</label><div class=\"sk-toggleable__content\"><pre>PolynomialFeatures()</pre></div></div></div><div class=\"sk-item\"><div class=\"sk-estimator sk-toggleable\"><input class=\"sk-toggleable__control sk-hidden--visually\" id=\"60e50be2-8d68-4620-9b6b-361bf7c13846\" type=\"checkbox\" ><label for=\"60e50be2-8d68-4620-9b6b-361bf7c13846\" class=\"sk-toggleable__label sk-toggleable__label-arrow\">StandardScaler</label><div class=\"sk-toggleable__content\"><pre>StandardScaler(with_mean=False)</pre></div></div></div><div class=\"sk-item\"><div class=\"sk-estimator sk-toggleable\"><input class=\"sk-toggleable__control sk-hidden--visually\" id=\"6cbe90d1-db8b-420b-bb84-761b48e00fe2\" type=\"checkbox\" ><label for=\"6cbe90d1-db8b-420b-bb84-761b48e00fe2\" class=\"sk-toggleable__label sk-toggleable__label-arrow\">Ridge</label><div class=\"sk-toggleable__content\"><pre>Ridge()</pre></div></div></div></div></div></div></div>"
      ],
      "text/plain": [
       "Pipeline(steps=[('columntransformer',\n",
       "                 ColumnTransformer(remainder='passthrough',\n",
       "                                   transformers=[('onehotencoder',\n",
       "                                                  OneHotEncoder(handle_unknown='ignore'),\n",
       "                                                  <sklearn.compose._column_transformer.make_column_selector object at 0x7faa4f490c10>)],\n",
       "                                   verbose_feature_names_out=False)),\n",
       "                ('polynomialfeatures', PolynomialFeatures()),\n",
       "                ('standardscaler', StandardScaler(with_mean=False)),\n",
       "                ('ridge', Ridge())])"
      ]
     },
     "execution_count": 75,
     "metadata": {},
     "output_type": "execute_result"
    }
   ],
   "source": [
    "pipe6 = make_pipeline(ct4, PolynomialFeatures(), StandardScaler(with_mean=False), Ridge())\n",
    "pipe6"
   ]
  },
  {
   "cell_type": "code",
   "execution_count": 76,
   "metadata": {},
   "outputs": [
    {
     "data": {
      "text/plain": [
       "dict_keys(['memory', 'steps', 'verbose', 'columntransformer', 'polynomialfeatures', 'standardscaler', 'ridge', 'columntransformer__n_jobs', 'columntransformer__remainder', 'columntransformer__sparse_threshold', 'columntransformer__transformer_weights', 'columntransformer__transformers', 'columntransformer__verbose', 'columntransformer__verbose_feature_names_out', 'columntransformer__onehotencoder', 'columntransformer__onehotencoder__categories', 'columntransformer__onehotencoder__drop', 'columntransformer__onehotencoder__dtype', 'columntransformer__onehotencoder__handle_unknown', 'columntransformer__onehotencoder__sparse', 'polynomialfeatures__degree', 'polynomialfeatures__include_bias', 'polynomialfeatures__interaction_only', 'polynomialfeatures__order', 'standardscaler__copy', 'standardscaler__with_mean', 'standardscaler__with_std', 'ridge__alpha', 'ridge__copy_X', 'ridge__fit_intercept', 'ridge__max_iter', 'ridge__normalize', 'ridge__positive', 'ridge__random_state', 'ridge__solver', 'ridge__tol'])"
      ]
     },
     "execution_count": 76,
     "metadata": {},
     "output_type": "execute_result"
    }
   ],
   "source": [
    "pipe6.get_params().keys()"
   ]
  },
  {
   "cell_type": "code",
   "execution_count": 77,
   "metadata": {},
   "outputs": [],
   "source": [
    "params = {\n",
    "    'ridge__alpha': [.01, .1, 1, 10, 100],\n",
    "    'ridge__max_iter': [100_000]\n",
    "}"
   ]
  },
  {
   "cell_type": "code",
   "execution_count": 78,
   "metadata": {},
   "outputs": [
    {
     "data": {
      "text/html": [
       "<style>#sk-fa133ce8-8bf9-474a-8d94-2c3e7ebe8496 {color: black;background-color: white;}#sk-fa133ce8-8bf9-474a-8d94-2c3e7ebe8496 pre{padding: 0;}#sk-fa133ce8-8bf9-474a-8d94-2c3e7ebe8496 div.sk-toggleable {background-color: white;}#sk-fa133ce8-8bf9-474a-8d94-2c3e7ebe8496 label.sk-toggleable__label {cursor: pointer;display: block;width: 100%;margin-bottom: 0;padding: 0.3em;box-sizing: border-box;text-align: center;}#sk-fa133ce8-8bf9-474a-8d94-2c3e7ebe8496 label.sk-toggleable__label-arrow:before {content: \"▸\";float: left;margin-right: 0.25em;color: #696969;}#sk-fa133ce8-8bf9-474a-8d94-2c3e7ebe8496 label.sk-toggleable__label-arrow:hover:before {color: black;}#sk-fa133ce8-8bf9-474a-8d94-2c3e7ebe8496 div.sk-estimator:hover label.sk-toggleable__label-arrow:before {color: black;}#sk-fa133ce8-8bf9-474a-8d94-2c3e7ebe8496 div.sk-toggleable__content {max-height: 0;max-width: 0;overflow: hidden;text-align: left;background-color: #f0f8ff;}#sk-fa133ce8-8bf9-474a-8d94-2c3e7ebe8496 div.sk-toggleable__content pre {margin: 0.2em;color: black;border-radius: 0.25em;background-color: #f0f8ff;}#sk-fa133ce8-8bf9-474a-8d94-2c3e7ebe8496 input.sk-toggleable__control:checked~div.sk-toggleable__content {max-height: 200px;max-width: 100%;overflow: auto;}#sk-fa133ce8-8bf9-474a-8d94-2c3e7ebe8496 input.sk-toggleable__control:checked~label.sk-toggleable__label-arrow:before {content: \"▾\";}#sk-fa133ce8-8bf9-474a-8d94-2c3e7ebe8496 div.sk-estimator input.sk-toggleable__control:checked~label.sk-toggleable__label {background-color: #d4ebff;}#sk-fa133ce8-8bf9-474a-8d94-2c3e7ebe8496 div.sk-label input.sk-toggleable__control:checked~label.sk-toggleable__label {background-color: #d4ebff;}#sk-fa133ce8-8bf9-474a-8d94-2c3e7ebe8496 input.sk-hidden--visually {border: 0;clip: rect(1px 1px 1px 1px);clip: rect(1px, 1px, 1px, 1px);height: 1px;margin: -1px;overflow: hidden;padding: 0;position: absolute;width: 1px;}#sk-fa133ce8-8bf9-474a-8d94-2c3e7ebe8496 div.sk-estimator {font-family: monospace;background-color: #f0f8ff;border: 1px dotted black;border-radius: 0.25em;box-sizing: border-box;margin-bottom: 0.5em;}#sk-fa133ce8-8bf9-474a-8d94-2c3e7ebe8496 div.sk-estimator:hover {background-color: #d4ebff;}#sk-fa133ce8-8bf9-474a-8d94-2c3e7ebe8496 div.sk-parallel-item::after {content: \"\";width: 100%;border-bottom: 1px solid gray;flex-grow: 1;}#sk-fa133ce8-8bf9-474a-8d94-2c3e7ebe8496 div.sk-label:hover label.sk-toggleable__label {background-color: #d4ebff;}#sk-fa133ce8-8bf9-474a-8d94-2c3e7ebe8496 div.sk-serial::before {content: \"\";position: absolute;border-left: 1px solid gray;box-sizing: border-box;top: 2em;bottom: 0;left: 50%;}#sk-fa133ce8-8bf9-474a-8d94-2c3e7ebe8496 div.sk-serial {display: flex;flex-direction: column;align-items: center;background-color: white;padding-right: 0.2em;padding-left: 0.2em;}#sk-fa133ce8-8bf9-474a-8d94-2c3e7ebe8496 div.sk-item {z-index: 1;}#sk-fa133ce8-8bf9-474a-8d94-2c3e7ebe8496 div.sk-parallel {display: flex;align-items: stretch;justify-content: center;background-color: white;}#sk-fa133ce8-8bf9-474a-8d94-2c3e7ebe8496 div.sk-parallel::before {content: \"\";position: absolute;border-left: 1px solid gray;box-sizing: border-box;top: 2em;bottom: 0;left: 50%;}#sk-fa133ce8-8bf9-474a-8d94-2c3e7ebe8496 div.sk-parallel-item {display: flex;flex-direction: column;position: relative;background-color: white;}#sk-fa133ce8-8bf9-474a-8d94-2c3e7ebe8496 div.sk-parallel-item:first-child::after {align-self: flex-end;width: 50%;}#sk-fa133ce8-8bf9-474a-8d94-2c3e7ebe8496 div.sk-parallel-item:last-child::after {align-self: flex-start;width: 50%;}#sk-fa133ce8-8bf9-474a-8d94-2c3e7ebe8496 div.sk-parallel-item:only-child::after {width: 0;}#sk-fa133ce8-8bf9-474a-8d94-2c3e7ebe8496 div.sk-dashed-wrapped {border: 1px dashed gray;margin: 0 0.4em 0.5em 0.4em;box-sizing: border-box;padding-bottom: 0.4em;background-color: white;position: relative;}#sk-fa133ce8-8bf9-474a-8d94-2c3e7ebe8496 div.sk-label label {font-family: monospace;font-weight: bold;background-color: white;display: inline-block;line-height: 1.2em;}#sk-fa133ce8-8bf9-474a-8d94-2c3e7ebe8496 div.sk-label-container {position: relative;z-index: 2;text-align: center;}#sk-fa133ce8-8bf9-474a-8d94-2c3e7ebe8496 div.sk-container {/* jupyter's `normalize.less` sets `[hidden] { display: none; }` but bootstrap.min.css set `[hidden] { display: none !important; }` so we also need the `!important` here to be able to override the default hidden behavior on the sphinx rendered scikit-learn.org. See: https://github.com/scikit-learn/scikit-learn/issues/21755 */display: inline-block !important;position: relative;}#sk-fa133ce8-8bf9-474a-8d94-2c3e7ebe8496 div.sk-text-repr-fallback {display: none;}</style><div id=\"sk-fa133ce8-8bf9-474a-8d94-2c3e7ebe8496\" class=\"sk-top-container\"><div class=\"sk-text-repr-fallback\"><pre>GridSearchCV(estimator=Pipeline(steps=[(&#x27;columntransformer&#x27;,\n",
       "                                        ColumnTransformer(remainder=&#x27;passthrough&#x27;,\n",
       "                                                          transformers=[(&#x27;onehotencoder&#x27;,\n",
       "                                                                         OneHotEncoder(handle_unknown=&#x27;ignore&#x27;),\n",
       "                                                                         &lt;sklearn.compose._column_transformer.make_column_selector object at 0x7faa4f490c10&gt;)],\n",
       "                                                          verbose_feature_names_out=False)),\n",
       "                                       (&#x27;polynomialfeatures&#x27;,\n",
       "                                        PolynomialFeatures()),\n",
       "                                       (&#x27;standardscaler&#x27;,\n",
       "                                        StandardScaler(with_mean=False)),\n",
       "                                       (&#x27;ridge&#x27;, Ridge())]),\n",
       "             n_jobs=-1,\n",
       "             param_grid={&#x27;ridge__alpha&#x27;: [0.01, 0.1, 1, 10, 100],\n",
       "                         &#x27;ridge__max_iter&#x27;: [100000]})</pre><b>Please rerun this cell to show the HTML repr or trust the notebook.</b></div><div class=\"sk-container\" hidden><div class=\"sk-item sk-dashed-wrapped\"><div class=\"sk-label-container\"><div class=\"sk-label sk-toggleable\"><input class=\"sk-toggleable__control sk-hidden--visually\" id=\"77e3b435-1369-4978-9a09-12853c0db888\" type=\"checkbox\" ><label for=\"77e3b435-1369-4978-9a09-12853c0db888\" class=\"sk-toggleable__label sk-toggleable__label-arrow\">GridSearchCV</label><div class=\"sk-toggleable__content\"><pre>GridSearchCV(estimator=Pipeline(steps=[(&#x27;columntransformer&#x27;,\n",
       "                                        ColumnTransformer(remainder=&#x27;passthrough&#x27;,\n",
       "                                                          transformers=[(&#x27;onehotencoder&#x27;,\n",
       "                                                                         OneHotEncoder(handle_unknown=&#x27;ignore&#x27;),\n",
       "                                                                         &lt;sklearn.compose._column_transformer.make_column_selector object at 0x7faa4f490c10&gt;)],\n",
       "                                                          verbose_feature_names_out=False)),\n",
       "                                       (&#x27;polynomialfeatures&#x27;,\n",
       "                                        PolynomialFeatures()),\n",
       "                                       (&#x27;standardscaler&#x27;,\n",
       "                                        StandardScaler(with_mean=False)),\n",
       "                                       (&#x27;ridge&#x27;, Ridge())]),\n",
       "             n_jobs=-1,\n",
       "             param_grid={&#x27;ridge__alpha&#x27;: [0.01, 0.1, 1, 10, 100],\n",
       "                         &#x27;ridge__max_iter&#x27;: [100000]})</pre></div></div></div><div class=\"sk-parallel\"><div class=\"sk-parallel-item\"><div class=\"sk-item\"><div class=\"sk-serial\"><div class=\"sk-item\"><div class=\"sk-serial\"><div class=\"sk-item sk-dashed-wrapped\"><div class=\"sk-label-container\"><div class=\"sk-label sk-toggleable\"><input class=\"sk-toggleable__control sk-hidden--visually\" id=\"ab221615-bca1-4472-a9a6-a2901aab1b93\" type=\"checkbox\" ><label for=\"ab221615-bca1-4472-a9a6-a2901aab1b93\" class=\"sk-toggleable__label sk-toggleable__label-arrow\">columntransformer: ColumnTransformer</label><div class=\"sk-toggleable__content\"><pre>ColumnTransformer(remainder=&#x27;passthrough&#x27;,\n",
       "                  transformers=[(&#x27;onehotencoder&#x27;,\n",
       "                                 OneHotEncoder(handle_unknown=&#x27;ignore&#x27;),\n",
       "                                 &lt;sklearn.compose._column_transformer.make_column_selector object at 0x7faa4f490c10&gt;)],\n",
       "                  verbose_feature_names_out=False)</pre></div></div></div><div class=\"sk-parallel\"><div class=\"sk-parallel-item\"><div class=\"sk-item\"><div class=\"sk-label-container\"><div class=\"sk-label sk-toggleable\"><input class=\"sk-toggleable__control sk-hidden--visually\" id=\"7ad5fd29-7734-4337-8b2b-b9cea4a34f37\" type=\"checkbox\" ><label for=\"7ad5fd29-7734-4337-8b2b-b9cea4a34f37\" class=\"sk-toggleable__label sk-toggleable__label-arrow\">onehotencoder</label><div class=\"sk-toggleable__content\"><pre>&lt;sklearn.compose._column_transformer.make_column_selector object at 0x7faa4f490c10&gt;</pre></div></div></div><div class=\"sk-serial\"><div class=\"sk-item\"><div class=\"sk-estimator sk-toggleable\"><input class=\"sk-toggleable__control sk-hidden--visually\" id=\"e6465fa0-2542-46d5-b6ff-7674052106f8\" type=\"checkbox\" ><label for=\"e6465fa0-2542-46d5-b6ff-7674052106f8\" class=\"sk-toggleable__label sk-toggleable__label-arrow\">OneHotEncoder</label><div class=\"sk-toggleable__content\"><pre>OneHotEncoder(handle_unknown=&#x27;ignore&#x27;)</pre></div></div></div></div></div></div><div class=\"sk-parallel-item\"><div class=\"sk-item\"><div class=\"sk-label-container\"><div class=\"sk-label sk-toggleable\"><input class=\"sk-toggleable__control sk-hidden--visually\" id=\"ea415d30-c0d0-426f-897e-b1278eac0246\" type=\"checkbox\" ><label for=\"ea415d30-c0d0-426f-897e-b1278eac0246\" class=\"sk-toggleable__label sk-toggleable__label-arrow\">remainder</label><div class=\"sk-toggleable__content\"><pre></pre></div></div></div><div class=\"sk-serial\"><div class=\"sk-item\"><div class=\"sk-estimator sk-toggleable\"><input class=\"sk-toggleable__control sk-hidden--visually\" id=\"dd8f1029-1256-44a0-bfb1-21a459245d8e\" type=\"checkbox\" ><label for=\"dd8f1029-1256-44a0-bfb1-21a459245d8e\" class=\"sk-toggleable__label sk-toggleable__label-arrow\">passthrough</label><div class=\"sk-toggleable__content\"><pre>passthrough</pre></div></div></div></div></div></div></div></div><div class=\"sk-item\"><div class=\"sk-estimator sk-toggleable\"><input class=\"sk-toggleable__control sk-hidden--visually\" id=\"d0707292-0798-43c6-a72b-56892b289043\" type=\"checkbox\" ><label for=\"d0707292-0798-43c6-a72b-56892b289043\" class=\"sk-toggleable__label sk-toggleable__label-arrow\">PolynomialFeatures</label><div class=\"sk-toggleable__content\"><pre>PolynomialFeatures()</pre></div></div></div><div class=\"sk-item\"><div class=\"sk-estimator sk-toggleable\"><input class=\"sk-toggleable__control sk-hidden--visually\" id=\"5ebb8048-b088-40c5-bb25-d84c1e7f8185\" type=\"checkbox\" ><label for=\"5ebb8048-b088-40c5-bb25-d84c1e7f8185\" class=\"sk-toggleable__label sk-toggleable__label-arrow\">StandardScaler</label><div class=\"sk-toggleable__content\"><pre>StandardScaler(with_mean=False)</pre></div></div></div><div class=\"sk-item\"><div class=\"sk-estimator sk-toggleable\"><input class=\"sk-toggleable__control sk-hidden--visually\" id=\"524ca38d-6861-41ff-aa36-478f06363f70\" type=\"checkbox\" ><label for=\"524ca38d-6861-41ff-aa36-478f06363f70\" class=\"sk-toggleable__label sk-toggleable__label-arrow\">Ridge</label><div class=\"sk-toggleable__content\"><pre>Ridge()</pre></div></div></div></div></div></div></div></div></div></div></div></div>"
      ],
      "text/plain": [
       "GridSearchCV(estimator=Pipeline(steps=[('columntransformer',\n",
       "                                        ColumnTransformer(remainder='passthrough',\n",
       "                                                          transformers=[('onehotencoder',\n",
       "                                                                         OneHotEncoder(handle_unknown='ignore'),\n",
       "                                                                         <sklearn.compose._column_transformer.make_column_selector object at 0x7faa4f490c10>)],\n",
       "                                                          verbose_feature_names_out=False)),\n",
       "                                       ('polynomialfeatures',\n",
       "                                        PolynomialFeatures()),\n",
       "                                       ('standardscaler',\n",
       "                                        StandardScaler(with_mean=False)),\n",
       "                                       ('ridge', Ridge())]),\n",
       "             n_jobs=-1,\n",
       "             param_grid={'ridge__alpha': [0.01, 0.1, 1, 10, 100],\n",
       "                         'ridge__max_iter': [100000]})"
      ]
     },
     "execution_count": 78,
     "metadata": {},
     "output_type": "execute_result"
    }
   ],
   "source": [
    "gs3 = GridSearchCV(pipe6, params, n_jobs=-1)\n",
    "gs3"
   ]
  },
  {
   "cell_type": "code",
   "execution_count": 79,
   "metadata": {},
   "outputs": [
    {
     "data": {
      "text/plain": [
       "0.8576599948036657"
      ]
     },
     "execution_count": 79,
     "metadata": {},
     "output_type": "execute_result"
    }
   ],
   "source": [
    "gs3.fit(X_train, y_train)\n",
    "gs3.score(X_test, y_test)"
   ]
  },
  {
   "cell_type": "code",
   "execution_count": 80,
   "metadata": {},
   "outputs": [
    {
     "data": {
      "text/plain": [
       "29611.415986208664"
      ]
     },
     "execution_count": 80,
     "metadata": {},
     "output_type": "execute_result"
    }
   ],
   "source": [
    "preds = gs3.predict(X_test)\n",
    "mean_squared_error(y_test, preds, squared=False)"
   ]
  },
  {
   "cell_type": "markdown",
   "metadata": {},
   "source": [
    "### Kaggle submission"
   ]
  },
  {
   "cell_type": "code",
   "execution_count": 81,
   "metadata": {},
   "outputs": [],
   "source": [
    "test['SalePrice'] = gs3.predict(kaggle)"
   ]
  },
  {
   "cell_type": "code",
   "execution_count": 82,
   "metadata": {},
   "outputs": [],
   "source": [
    "test[['Id', 'SalePrice']].to_csv('../data/submission_all_EDA_poly_ridge.csv', index=False)"
   ]
  },
  {
   "cell_type": "markdown",
   "metadata": {},
   "source": [
    "## Bonus attempt for Kaggle. Ridge on all features\n"
   ]
  },
  {
   "cell_type": "code",
   "execution_count": 100,
   "metadata": {},
   "outputs": [],
   "source": [
    "train = pd.read_csv('../data/train.csv')\n",
    "test = pd.read_csv('../data/test.csv')\n",
    "\n",
    "si = SimpleImputer(strategy='most_frequent')"
   ]
  },
  {
   "cell_type": "markdown",
   "metadata": {},
   "source": [
    "### Train-Test Split"
   ]
  },
  {
   "cell_type": "code",
   "execution_count": 101,
   "metadata": {},
   "outputs": [],
   "source": [
    "X = train.drop(columns='SalePrice')\n",
    "y = train['SalePrice']\n",
    "kaggle = test[X.columns]\n"
   ]
  },
  {
   "cell_type": "code",
   "execution_count": 102,
   "metadata": {},
   "outputs": [],
   "source": [
    "X_train, X_test, y_train, y_test = train_test_split(X, y, random_state=1331)"
   ]
  },
  {
   "cell_type": "code",
   "execution_count": 107,
   "metadata": {},
   "outputs": [
    {
     "data": {
      "text/html": [
       "<style>#sk-e414c68c-68bf-461b-87c2-c7957316c301 {color: black;background-color: white;}#sk-e414c68c-68bf-461b-87c2-c7957316c301 pre{padding: 0;}#sk-e414c68c-68bf-461b-87c2-c7957316c301 div.sk-toggleable {background-color: white;}#sk-e414c68c-68bf-461b-87c2-c7957316c301 label.sk-toggleable__label {cursor: pointer;display: block;width: 100%;margin-bottom: 0;padding: 0.3em;box-sizing: border-box;text-align: center;}#sk-e414c68c-68bf-461b-87c2-c7957316c301 label.sk-toggleable__label-arrow:before {content: \"▸\";float: left;margin-right: 0.25em;color: #696969;}#sk-e414c68c-68bf-461b-87c2-c7957316c301 label.sk-toggleable__label-arrow:hover:before {color: black;}#sk-e414c68c-68bf-461b-87c2-c7957316c301 div.sk-estimator:hover label.sk-toggleable__label-arrow:before {color: black;}#sk-e414c68c-68bf-461b-87c2-c7957316c301 div.sk-toggleable__content {max-height: 0;max-width: 0;overflow: hidden;text-align: left;background-color: #f0f8ff;}#sk-e414c68c-68bf-461b-87c2-c7957316c301 div.sk-toggleable__content pre {margin: 0.2em;color: black;border-radius: 0.25em;background-color: #f0f8ff;}#sk-e414c68c-68bf-461b-87c2-c7957316c301 input.sk-toggleable__control:checked~div.sk-toggleable__content {max-height: 200px;max-width: 100%;overflow: auto;}#sk-e414c68c-68bf-461b-87c2-c7957316c301 input.sk-toggleable__control:checked~label.sk-toggleable__label-arrow:before {content: \"▾\";}#sk-e414c68c-68bf-461b-87c2-c7957316c301 div.sk-estimator input.sk-toggleable__control:checked~label.sk-toggleable__label {background-color: #d4ebff;}#sk-e414c68c-68bf-461b-87c2-c7957316c301 div.sk-label input.sk-toggleable__control:checked~label.sk-toggleable__label {background-color: #d4ebff;}#sk-e414c68c-68bf-461b-87c2-c7957316c301 input.sk-hidden--visually {border: 0;clip: rect(1px 1px 1px 1px);clip: rect(1px, 1px, 1px, 1px);height: 1px;margin: -1px;overflow: hidden;padding: 0;position: absolute;width: 1px;}#sk-e414c68c-68bf-461b-87c2-c7957316c301 div.sk-estimator {font-family: monospace;background-color: #f0f8ff;border: 1px dotted black;border-radius: 0.25em;box-sizing: border-box;margin-bottom: 0.5em;}#sk-e414c68c-68bf-461b-87c2-c7957316c301 div.sk-estimator:hover {background-color: #d4ebff;}#sk-e414c68c-68bf-461b-87c2-c7957316c301 div.sk-parallel-item::after {content: \"\";width: 100%;border-bottom: 1px solid gray;flex-grow: 1;}#sk-e414c68c-68bf-461b-87c2-c7957316c301 div.sk-label:hover label.sk-toggleable__label {background-color: #d4ebff;}#sk-e414c68c-68bf-461b-87c2-c7957316c301 div.sk-serial::before {content: \"\";position: absolute;border-left: 1px solid gray;box-sizing: border-box;top: 2em;bottom: 0;left: 50%;}#sk-e414c68c-68bf-461b-87c2-c7957316c301 div.sk-serial {display: flex;flex-direction: column;align-items: center;background-color: white;padding-right: 0.2em;padding-left: 0.2em;}#sk-e414c68c-68bf-461b-87c2-c7957316c301 div.sk-item {z-index: 1;}#sk-e414c68c-68bf-461b-87c2-c7957316c301 div.sk-parallel {display: flex;align-items: stretch;justify-content: center;background-color: white;}#sk-e414c68c-68bf-461b-87c2-c7957316c301 div.sk-parallel::before {content: \"\";position: absolute;border-left: 1px solid gray;box-sizing: border-box;top: 2em;bottom: 0;left: 50%;}#sk-e414c68c-68bf-461b-87c2-c7957316c301 div.sk-parallel-item {display: flex;flex-direction: column;position: relative;background-color: white;}#sk-e414c68c-68bf-461b-87c2-c7957316c301 div.sk-parallel-item:first-child::after {align-self: flex-end;width: 50%;}#sk-e414c68c-68bf-461b-87c2-c7957316c301 div.sk-parallel-item:last-child::after {align-self: flex-start;width: 50%;}#sk-e414c68c-68bf-461b-87c2-c7957316c301 div.sk-parallel-item:only-child::after {width: 0;}#sk-e414c68c-68bf-461b-87c2-c7957316c301 div.sk-dashed-wrapped {border: 1px dashed gray;margin: 0 0.4em 0.5em 0.4em;box-sizing: border-box;padding-bottom: 0.4em;background-color: white;position: relative;}#sk-e414c68c-68bf-461b-87c2-c7957316c301 div.sk-label label {font-family: monospace;font-weight: bold;background-color: white;display: inline-block;line-height: 1.2em;}#sk-e414c68c-68bf-461b-87c2-c7957316c301 div.sk-label-container {position: relative;z-index: 2;text-align: center;}#sk-e414c68c-68bf-461b-87c2-c7957316c301 div.sk-container {/* jupyter's `normalize.less` sets `[hidden] { display: none; }` but bootstrap.min.css set `[hidden] { display: none !important; }` so we also need the `!important` here to be able to override the default hidden behavior on the sphinx rendered scikit-learn.org. See: https://github.com/scikit-learn/scikit-learn/issues/21755 */display: inline-block !important;position: relative;}#sk-e414c68c-68bf-461b-87c2-c7957316c301 div.sk-text-repr-fallback {display: none;}</style><div id=\"sk-e414c68c-68bf-461b-87c2-c7957316c301\" class=\"sk-top-container\"><div class=\"sk-text-repr-fallback\"><pre>Pipeline(steps=[(&#x27;columntransformer&#x27;,\n",
       "                 ColumnTransformer(remainder=&#x27;passthrough&#x27;,\n",
       "                                   transformers=[(&#x27;onehotencoder&#x27;,\n",
       "                                                  OneHotEncoder(handle_unknown=&#x27;ignore&#x27;),\n",
       "                                                  &lt;sklearn.compose._column_transformer.make_column_selector object at 0x7faa4f490c10&gt;)],\n",
       "                                   verbose_feature_names_out=False)),\n",
       "                (&#x27;simpleimputer&#x27;, SimpleImputer(strategy=&#x27;most_frequent&#x27;)),\n",
       "                (&#x27;standardscaler&#x27;, StandardScaler(with_mean=False)),\n",
       "                (&#x27;ridge&#x27;, Ridge())])</pre><b>Please rerun this cell to show the HTML repr or trust the notebook.</b></div><div class=\"sk-container\" hidden><div class=\"sk-item sk-dashed-wrapped\"><div class=\"sk-label-container\"><div class=\"sk-label sk-toggleable\"><input class=\"sk-toggleable__control sk-hidden--visually\" id=\"0e643ba5-2ac0-4274-9d5c-4c61f80a9c98\" type=\"checkbox\" ><label for=\"0e643ba5-2ac0-4274-9d5c-4c61f80a9c98\" class=\"sk-toggleable__label sk-toggleable__label-arrow\">Pipeline</label><div class=\"sk-toggleable__content\"><pre>Pipeline(steps=[(&#x27;columntransformer&#x27;,\n",
       "                 ColumnTransformer(remainder=&#x27;passthrough&#x27;,\n",
       "                                   transformers=[(&#x27;onehotencoder&#x27;,\n",
       "                                                  OneHotEncoder(handle_unknown=&#x27;ignore&#x27;),\n",
       "                                                  &lt;sklearn.compose._column_transformer.make_column_selector object at 0x7faa4f490c10&gt;)],\n",
       "                                   verbose_feature_names_out=False)),\n",
       "                (&#x27;simpleimputer&#x27;, SimpleImputer(strategy=&#x27;most_frequent&#x27;)),\n",
       "                (&#x27;standardscaler&#x27;, StandardScaler(with_mean=False)),\n",
       "                (&#x27;ridge&#x27;, Ridge())])</pre></div></div></div><div class=\"sk-serial\"><div class=\"sk-item sk-dashed-wrapped\"><div class=\"sk-label-container\"><div class=\"sk-label sk-toggleable\"><input class=\"sk-toggleable__control sk-hidden--visually\" id=\"de559961-0862-4716-999c-dbc7e5846845\" type=\"checkbox\" ><label for=\"de559961-0862-4716-999c-dbc7e5846845\" class=\"sk-toggleable__label sk-toggleable__label-arrow\">columntransformer: ColumnTransformer</label><div class=\"sk-toggleable__content\"><pre>ColumnTransformer(remainder=&#x27;passthrough&#x27;,\n",
       "                  transformers=[(&#x27;onehotencoder&#x27;,\n",
       "                                 OneHotEncoder(handle_unknown=&#x27;ignore&#x27;),\n",
       "                                 &lt;sklearn.compose._column_transformer.make_column_selector object at 0x7faa4f490c10&gt;)],\n",
       "                  verbose_feature_names_out=False)</pre></div></div></div><div class=\"sk-parallel\"><div class=\"sk-parallel-item\"><div class=\"sk-item\"><div class=\"sk-label-container\"><div class=\"sk-label sk-toggleable\"><input class=\"sk-toggleable__control sk-hidden--visually\" id=\"872d6c76-5545-4ac9-91c5-41ad350eee6c\" type=\"checkbox\" ><label for=\"872d6c76-5545-4ac9-91c5-41ad350eee6c\" class=\"sk-toggleable__label sk-toggleable__label-arrow\">onehotencoder</label><div class=\"sk-toggleable__content\"><pre>&lt;sklearn.compose._column_transformer.make_column_selector object at 0x7faa4f490c10&gt;</pre></div></div></div><div class=\"sk-serial\"><div class=\"sk-item\"><div class=\"sk-estimator sk-toggleable\"><input class=\"sk-toggleable__control sk-hidden--visually\" id=\"0ff38d56-1c95-4be0-8a9f-0e5229e1fa93\" type=\"checkbox\" ><label for=\"0ff38d56-1c95-4be0-8a9f-0e5229e1fa93\" class=\"sk-toggleable__label sk-toggleable__label-arrow\">OneHotEncoder</label><div class=\"sk-toggleable__content\"><pre>OneHotEncoder(handle_unknown=&#x27;ignore&#x27;)</pre></div></div></div></div></div></div><div class=\"sk-parallel-item\"><div class=\"sk-item\"><div class=\"sk-label-container\"><div class=\"sk-label sk-toggleable\"><input class=\"sk-toggleable__control sk-hidden--visually\" id=\"b837e143-dacc-4547-b205-ad6b66a20047\" type=\"checkbox\" ><label for=\"b837e143-dacc-4547-b205-ad6b66a20047\" class=\"sk-toggleable__label sk-toggleable__label-arrow\">remainder</label><div class=\"sk-toggleable__content\"><pre></pre></div></div></div><div class=\"sk-serial\"><div class=\"sk-item\"><div class=\"sk-estimator sk-toggleable\"><input class=\"sk-toggleable__control sk-hidden--visually\" id=\"4cfce33d-2beb-4525-a6cf-357bb929d7fa\" type=\"checkbox\" ><label for=\"4cfce33d-2beb-4525-a6cf-357bb929d7fa\" class=\"sk-toggleable__label sk-toggleable__label-arrow\">passthrough</label><div class=\"sk-toggleable__content\"><pre>passthrough</pre></div></div></div></div></div></div></div></div><div class=\"sk-item\"><div class=\"sk-estimator sk-toggleable\"><input class=\"sk-toggleable__control sk-hidden--visually\" id=\"f0fd3505-0fbd-41f2-8e79-1a19aa5330bc\" type=\"checkbox\" ><label for=\"f0fd3505-0fbd-41f2-8e79-1a19aa5330bc\" class=\"sk-toggleable__label sk-toggleable__label-arrow\">SimpleImputer</label><div class=\"sk-toggleable__content\"><pre>SimpleImputer(strategy=&#x27;most_frequent&#x27;)</pre></div></div></div><div class=\"sk-item\"><div class=\"sk-estimator sk-toggleable\"><input class=\"sk-toggleable__control sk-hidden--visually\" id=\"ba71ca23-65ec-4486-a5bd-691e01eb311b\" type=\"checkbox\" ><label for=\"ba71ca23-65ec-4486-a5bd-691e01eb311b\" class=\"sk-toggleable__label sk-toggleable__label-arrow\">StandardScaler</label><div class=\"sk-toggleable__content\"><pre>StandardScaler(with_mean=False)</pre></div></div></div><div class=\"sk-item\"><div class=\"sk-estimator sk-toggleable\"><input class=\"sk-toggleable__control sk-hidden--visually\" id=\"3e10970a-9125-4b84-becc-f8279bb75f53\" type=\"checkbox\" ><label for=\"3e10970a-9125-4b84-becc-f8279bb75f53\" class=\"sk-toggleable__label sk-toggleable__label-arrow\">Ridge</label><div class=\"sk-toggleable__content\"><pre>Ridge()</pre></div></div></div></div></div></div></div>"
      ],
      "text/plain": [
       "Pipeline(steps=[('columntransformer',\n",
       "                 ColumnTransformer(remainder='passthrough',\n",
       "                                   transformers=[('onehotencoder',\n",
       "                                                  OneHotEncoder(handle_unknown='ignore'),\n",
       "                                                  <sklearn.compose._column_transformer.make_column_selector object at 0x7faa4f490c10>)],\n",
       "                                   verbose_feature_names_out=False)),\n",
       "                ('simpleimputer', SimpleImputer(strategy='most_frequent')),\n",
       "                ('standardscaler', StandardScaler(with_mean=False)),\n",
       "                ('ridge', Ridge())])"
      ]
     },
     "execution_count": 107,
     "metadata": {},
     "output_type": "execute_result"
    }
   ],
   "source": [
    "pipe6 = make_pipeline(ct4, SimpleImputer(strategy='most_frequent'), StandardScaler(with_mean=False), Ridge())\n",
    "pipe6"
   ]
  },
  {
   "cell_type": "code",
   "execution_count": 108,
   "metadata": {},
   "outputs": [],
   "source": [
    "params = {\n",
    "    'ridge__alpha': [.01, .1, 1, 10, 100],\n",
    "    'ridge__max_iter': [100_000]\n",
    "}"
   ]
  },
  {
   "cell_type": "code",
   "execution_count": 109,
   "metadata": {},
   "outputs": [
    {
     "data": {
      "text/html": [
       "<style>#sk-2838b6d5-60ec-416c-8c92-761faa6612fb {color: black;background-color: white;}#sk-2838b6d5-60ec-416c-8c92-761faa6612fb pre{padding: 0;}#sk-2838b6d5-60ec-416c-8c92-761faa6612fb div.sk-toggleable {background-color: white;}#sk-2838b6d5-60ec-416c-8c92-761faa6612fb label.sk-toggleable__label {cursor: pointer;display: block;width: 100%;margin-bottom: 0;padding: 0.3em;box-sizing: border-box;text-align: center;}#sk-2838b6d5-60ec-416c-8c92-761faa6612fb label.sk-toggleable__label-arrow:before {content: \"▸\";float: left;margin-right: 0.25em;color: #696969;}#sk-2838b6d5-60ec-416c-8c92-761faa6612fb label.sk-toggleable__label-arrow:hover:before {color: black;}#sk-2838b6d5-60ec-416c-8c92-761faa6612fb div.sk-estimator:hover label.sk-toggleable__label-arrow:before {color: black;}#sk-2838b6d5-60ec-416c-8c92-761faa6612fb div.sk-toggleable__content {max-height: 0;max-width: 0;overflow: hidden;text-align: left;background-color: #f0f8ff;}#sk-2838b6d5-60ec-416c-8c92-761faa6612fb div.sk-toggleable__content pre {margin: 0.2em;color: black;border-radius: 0.25em;background-color: #f0f8ff;}#sk-2838b6d5-60ec-416c-8c92-761faa6612fb input.sk-toggleable__control:checked~div.sk-toggleable__content {max-height: 200px;max-width: 100%;overflow: auto;}#sk-2838b6d5-60ec-416c-8c92-761faa6612fb input.sk-toggleable__control:checked~label.sk-toggleable__label-arrow:before {content: \"▾\";}#sk-2838b6d5-60ec-416c-8c92-761faa6612fb div.sk-estimator input.sk-toggleable__control:checked~label.sk-toggleable__label {background-color: #d4ebff;}#sk-2838b6d5-60ec-416c-8c92-761faa6612fb div.sk-label input.sk-toggleable__control:checked~label.sk-toggleable__label {background-color: #d4ebff;}#sk-2838b6d5-60ec-416c-8c92-761faa6612fb input.sk-hidden--visually {border: 0;clip: rect(1px 1px 1px 1px);clip: rect(1px, 1px, 1px, 1px);height: 1px;margin: -1px;overflow: hidden;padding: 0;position: absolute;width: 1px;}#sk-2838b6d5-60ec-416c-8c92-761faa6612fb div.sk-estimator {font-family: monospace;background-color: #f0f8ff;border: 1px dotted black;border-radius: 0.25em;box-sizing: border-box;margin-bottom: 0.5em;}#sk-2838b6d5-60ec-416c-8c92-761faa6612fb div.sk-estimator:hover {background-color: #d4ebff;}#sk-2838b6d5-60ec-416c-8c92-761faa6612fb div.sk-parallel-item::after {content: \"\";width: 100%;border-bottom: 1px solid gray;flex-grow: 1;}#sk-2838b6d5-60ec-416c-8c92-761faa6612fb div.sk-label:hover label.sk-toggleable__label {background-color: #d4ebff;}#sk-2838b6d5-60ec-416c-8c92-761faa6612fb div.sk-serial::before {content: \"\";position: absolute;border-left: 1px solid gray;box-sizing: border-box;top: 2em;bottom: 0;left: 50%;}#sk-2838b6d5-60ec-416c-8c92-761faa6612fb div.sk-serial {display: flex;flex-direction: column;align-items: center;background-color: white;padding-right: 0.2em;padding-left: 0.2em;}#sk-2838b6d5-60ec-416c-8c92-761faa6612fb div.sk-item {z-index: 1;}#sk-2838b6d5-60ec-416c-8c92-761faa6612fb div.sk-parallel {display: flex;align-items: stretch;justify-content: center;background-color: white;}#sk-2838b6d5-60ec-416c-8c92-761faa6612fb div.sk-parallel::before {content: \"\";position: absolute;border-left: 1px solid gray;box-sizing: border-box;top: 2em;bottom: 0;left: 50%;}#sk-2838b6d5-60ec-416c-8c92-761faa6612fb div.sk-parallel-item {display: flex;flex-direction: column;position: relative;background-color: white;}#sk-2838b6d5-60ec-416c-8c92-761faa6612fb div.sk-parallel-item:first-child::after {align-self: flex-end;width: 50%;}#sk-2838b6d5-60ec-416c-8c92-761faa6612fb div.sk-parallel-item:last-child::after {align-self: flex-start;width: 50%;}#sk-2838b6d5-60ec-416c-8c92-761faa6612fb div.sk-parallel-item:only-child::after {width: 0;}#sk-2838b6d5-60ec-416c-8c92-761faa6612fb div.sk-dashed-wrapped {border: 1px dashed gray;margin: 0 0.4em 0.5em 0.4em;box-sizing: border-box;padding-bottom: 0.4em;background-color: white;position: relative;}#sk-2838b6d5-60ec-416c-8c92-761faa6612fb div.sk-label label {font-family: monospace;font-weight: bold;background-color: white;display: inline-block;line-height: 1.2em;}#sk-2838b6d5-60ec-416c-8c92-761faa6612fb div.sk-label-container {position: relative;z-index: 2;text-align: center;}#sk-2838b6d5-60ec-416c-8c92-761faa6612fb div.sk-container {/* jupyter's `normalize.less` sets `[hidden] { display: none; }` but bootstrap.min.css set `[hidden] { display: none !important; }` so we also need the `!important` here to be able to override the default hidden behavior on the sphinx rendered scikit-learn.org. See: https://github.com/scikit-learn/scikit-learn/issues/21755 */display: inline-block !important;position: relative;}#sk-2838b6d5-60ec-416c-8c92-761faa6612fb div.sk-text-repr-fallback {display: none;}</style><div id=\"sk-2838b6d5-60ec-416c-8c92-761faa6612fb\" class=\"sk-top-container\"><div class=\"sk-text-repr-fallback\"><pre>GridSearchCV(estimator=Pipeline(steps=[(&#x27;columntransformer&#x27;,\n",
       "                                        ColumnTransformer(remainder=&#x27;passthrough&#x27;,\n",
       "                                                          transformers=[(&#x27;onehotencoder&#x27;,\n",
       "                                                                         OneHotEncoder(handle_unknown=&#x27;ignore&#x27;),\n",
       "                                                                         &lt;sklearn.compose._column_transformer.make_column_selector object at 0x7faa4f490c10&gt;)],\n",
       "                                                          verbose_feature_names_out=False)),\n",
       "                                       (&#x27;simpleimputer&#x27;,\n",
       "                                        SimpleImputer(strategy=&#x27;most_frequent&#x27;)),\n",
       "                                       (&#x27;standardscaler&#x27;,\n",
       "                                        StandardScaler(with_mean=False)),\n",
       "                                       (&#x27;ridge&#x27;, Ridge())]),\n",
       "             n_jobs=-1,\n",
       "             param_grid={&#x27;ridge__alpha&#x27;: [0.01, 0.1, 1, 10, 100],\n",
       "                         &#x27;ridge__max_iter&#x27;: [100000]})</pre><b>Please rerun this cell to show the HTML repr or trust the notebook.</b></div><div class=\"sk-container\" hidden><div class=\"sk-item sk-dashed-wrapped\"><div class=\"sk-label-container\"><div class=\"sk-label sk-toggleable\"><input class=\"sk-toggleable__control sk-hidden--visually\" id=\"c05a0460-cdaf-406a-b4e3-f53cba120980\" type=\"checkbox\" ><label for=\"c05a0460-cdaf-406a-b4e3-f53cba120980\" class=\"sk-toggleable__label sk-toggleable__label-arrow\">GridSearchCV</label><div class=\"sk-toggleable__content\"><pre>GridSearchCV(estimator=Pipeline(steps=[(&#x27;columntransformer&#x27;,\n",
       "                                        ColumnTransformer(remainder=&#x27;passthrough&#x27;,\n",
       "                                                          transformers=[(&#x27;onehotencoder&#x27;,\n",
       "                                                                         OneHotEncoder(handle_unknown=&#x27;ignore&#x27;),\n",
       "                                                                         &lt;sklearn.compose._column_transformer.make_column_selector object at 0x7faa4f490c10&gt;)],\n",
       "                                                          verbose_feature_names_out=False)),\n",
       "                                       (&#x27;simpleimputer&#x27;,\n",
       "                                        SimpleImputer(strategy=&#x27;most_frequent&#x27;)),\n",
       "                                       (&#x27;standardscaler&#x27;,\n",
       "                                        StandardScaler(with_mean=False)),\n",
       "                                       (&#x27;ridge&#x27;, Ridge())]),\n",
       "             n_jobs=-1,\n",
       "             param_grid={&#x27;ridge__alpha&#x27;: [0.01, 0.1, 1, 10, 100],\n",
       "                         &#x27;ridge__max_iter&#x27;: [100000]})</pre></div></div></div><div class=\"sk-parallel\"><div class=\"sk-parallel-item\"><div class=\"sk-item\"><div class=\"sk-serial\"><div class=\"sk-item\"><div class=\"sk-serial\"><div class=\"sk-item sk-dashed-wrapped\"><div class=\"sk-label-container\"><div class=\"sk-label sk-toggleable\"><input class=\"sk-toggleable__control sk-hidden--visually\" id=\"5b58c009-b4be-41a0-a684-384a65d02689\" type=\"checkbox\" ><label for=\"5b58c009-b4be-41a0-a684-384a65d02689\" class=\"sk-toggleable__label sk-toggleable__label-arrow\">columntransformer: ColumnTransformer</label><div class=\"sk-toggleable__content\"><pre>ColumnTransformer(remainder=&#x27;passthrough&#x27;,\n",
       "                  transformers=[(&#x27;onehotencoder&#x27;,\n",
       "                                 OneHotEncoder(handle_unknown=&#x27;ignore&#x27;),\n",
       "                                 &lt;sklearn.compose._column_transformer.make_column_selector object at 0x7faa4f490c10&gt;)],\n",
       "                  verbose_feature_names_out=False)</pre></div></div></div><div class=\"sk-parallel\"><div class=\"sk-parallel-item\"><div class=\"sk-item\"><div class=\"sk-label-container\"><div class=\"sk-label sk-toggleable\"><input class=\"sk-toggleable__control sk-hidden--visually\" id=\"7e4f5b47-36e1-4068-a7aa-977e065b3349\" type=\"checkbox\" ><label for=\"7e4f5b47-36e1-4068-a7aa-977e065b3349\" class=\"sk-toggleable__label sk-toggleable__label-arrow\">onehotencoder</label><div class=\"sk-toggleable__content\"><pre>&lt;sklearn.compose._column_transformer.make_column_selector object at 0x7faa4f490c10&gt;</pre></div></div></div><div class=\"sk-serial\"><div class=\"sk-item\"><div class=\"sk-estimator sk-toggleable\"><input class=\"sk-toggleable__control sk-hidden--visually\" id=\"3a1e72e7-7c2f-4515-8bed-cd3ed8b72614\" type=\"checkbox\" ><label for=\"3a1e72e7-7c2f-4515-8bed-cd3ed8b72614\" class=\"sk-toggleable__label sk-toggleable__label-arrow\">OneHotEncoder</label><div class=\"sk-toggleable__content\"><pre>OneHotEncoder(handle_unknown=&#x27;ignore&#x27;)</pre></div></div></div></div></div></div><div class=\"sk-parallel-item\"><div class=\"sk-item\"><div class=\"sk-label-container\"><div class=\"sk-label sk-toggleable\"><input class=\"sk-toggleable__control sk-hidden--visually\" id=\"40a19fbb-b7d2-4a7b-a42a-170c2c8456a1\" type=\"checkbox\" ><label for=\"40a19fbb-b7d2-4a7b-a42a-170c2c8456a1\" class=\"sk-toggleable__label sk-toggleable__label-arrow\">remainder</label><div class=\"sk-toggleable__content\"><pre></pre></div></div></div><div class=\"sk-serial\"><div class=\"sk-item\"><div class=\"sk-estimator sk-toggleable\"><input class=\"sk-toggleable__control sk-hidden--visually\" id=\"372c23b6-fba9-4b01-8b3b-0b738a9d719d\" type=\"checkbox\" ><label for=\"372c23b6-fba9-4b01-8b3b-0b738a9d719d\" class=\"sk-toggleable__label sk-toggleable__label-arrow\">passthrough</label><div class=\"sk-toggleable__content\"><pre>passthrough</pre></div></div></div></div></div></div></div></div><div class=\"sk-item\"><div class=\"sk-estimator sk-toggleable\"><input class=\"sk-toggleable__control sk-hidden--visually\" id=\"89325a34-7b3a-444c-b7f7-fbaab5dacba5\" type=\"checkbox\" ><label for=\"89325a34-7b3a-444c-b7f7-fbaab5dacba5\" class=\"sk-toggleable__label sk-toggleable__label-arrow\">SimpleImputer</label><div class=\"sk-toggleable__content\"><pre>SimpleImputer(strategy=&#x27;most_frequent&#x27;)</pre></div></div></div><div class=\"sk-item\"><div class=\"sk-estimator sk-toggleable\"><input class=\"sk-toggleable__control sk-hidden--visually\" id=\"735a0294-db9d-45ec-9992-95c69517f46c\" type=\"checkbox\" ><label for=\"735a0294-db9d-45ec-9992-95c69517f46c\" class=\"sk-toggleable__label sk-toggleable__label-arrow\">StandardScaler</label><div class=\"sk-toggleable__content\"><pre>StandardScaler(with_mean=False)</pre></div></div></div><div class=\"sk-item\"><div class=\"sk-estimator sk-toggleable\"><input class=\"sk-toggleable__control sk-hidden--visually\" id=\"28c04440-5245-4476-a29f-c315f87b5d41\" type=\"checkbox\" ><label for=\"28c04440-5245-4476-a29f-c315f87b5d41\" class=\"sk-toggleable__label sk-toggleable__label-arrow\">Ridge</label><div class=\"sk-toggleable__content\"><pre>Ridge()</pre></div></div></div></div></div></div></div></div></div></div></div></div>"
      ],
      "text/plain": [
       "GridSearchCV(estimator=Pipeline(steps=[('columntransformer',\n",
       "                                        ColumnTransformer(remainder='passthrough',\n",
       "                                                          transformers=[('onehotencoder',\n",
       "                                                                         OneHotEncoder(handle_unknown='ignore'),\n",
       "                                                                         <sklearn.compose._column_transformer.make_column_selector object at 0x7faa4f490c10>)],\n",
       "                                                          verbose_feature_names_out=False)),\n",
       "                                       ('simpleimputer',\n",
       "                                        SimpleImputer(strategy='most_frequent')),\n",
       "                                       ('standardscaler',\n",
       "                                        StandardScaler(with_mean=False)),\n",
       "                                       ('ridge', Ridge())]),\n",
       "             n_jobs=-1,\n",
       "             param_grid={'ridge__alpha': [0.01, 0.1, 1, 10, 100],\n",
       "                         'ridge__max_iter': [100000]})"
      ]
     },
     "execution_count": 109,
     "metadata": {},
     "output_type": "execute_result"
    }
   ],
   "source": [
    "gs3 = GridSearchCV(pipe6, params, n_jobs=-1)\n",
    "gs3"
   ]
  },
  {
   "cell_type": "code",
   "execution_count": 110,
   "metadata": {},
   "outputs": [
    {
     "data": {
      "text/plain": [
       "0.923511269853292"
      ]
     },
     "execution_count": 110,
     "metadata": {},
     "output_type": "execute_result"
    }
   ],
   "source": [
    "gs3.fit(X_train, y_train)\n",
    "gs3.score(X_test, y_test)"
   ]
  },
  {
   "cell_type": "code",
   "execution_count": 111,
   "metadata": {},
   "outputs": [
    {
     "data": {
      "text/plain": [
       "22788.581379038846"
      ]
     },
     "execution_count": 111,
     "metadata": {},
     "output_type": "execute_result"
    }
   ],
   "source": [
    "preds = gs3.predict(X_test)\n",
    "mean_squared_error(y_test, preds, squared=False)"
   ]
  },
  {
   "cell_type": "markdown",
   "metadata": {},
   "source": [
    "### Kaggle submission"
   ]
  },
  {
   "cell_type": "code",
   "execution_count": 98,
   "metadata": {},
   "outputs": [],
   "source": [
    "test['SalePrice'] = gs3.predict(kaggle)"
   ]
  },
  {
   "cell_type": "code",
   "execution_count": 99,
   "metadata": {},
   "outputs": [],
   "source": [
    "test[['Id', 'SalePrice']].to_csv('../data/submission_all_features_ridge.csv', index=False)"
   ]
  },
  {
   "cell_type": "markdown",
   "metadata": {},
   "source": [
    "### Get most important features and their coeficients"
   ]
  },
  {
   "cell_type": "code",
   "execution_count": 112,
   "metadata": {},
   "outputs": [],
   "source": [
    "coefs = gs3.best_estimator_.named_steps['ridge'].coef_"
   ]
  },
  {
   "cell_type": "code",
   "execution_count": 113,
   "metadata": {},
   "outputs": [],
   "source": [
    "feature_names = gs3.best_estimator_.named_steps.get('columntransformer').get_feature_names_out()"
   ]
  },
  {
   "cell_type": "code",
   "execution_count": 114,
   "metadata": {},
   "outputs": [
    {
     "data": {
      "text/html": [
       "<div>\n",
       "<style scoped>\n",
       "    .dataframe tbody tr th:only-of-type {\n",
       "        vertical-align: middle;\n",
       "    }\n",
       "\n",
       "    .dataframe tbody tr th {\n",
       "        vertical-align: top;\n",
       "    }\n",
       "\n",
       "    .dataframe thead th {\n",
       "        text-align: right;\n",
       "    }\n",
       "</style>\n",
       "<table border=\"1\" class=\"dataframe\">\n",
       "  <thead>\n",
       "    <tr style=\"text-align: right;\">\n",
       "      <th></th>\n",
       "      <th>0</th>\n",
       "      <th>1</th>\n",
       "    </tr>\n",
       "  </thead>\n",
       "  <tbody>\n",
       "    <tr>\n",
       "      <th>282</th>\n",
       "      <td>Gr Liv Area</td>\n",
       "      <td>11652.535379</td>\n",
       "    </tr>\n",
       "    <tr>\n",
       "      <th>278</th>\n",
       "      <td>Total Bsmt SF</td>\n",
       "      <td>8620.313822</td>\n",
       "    </tr>\n",
       "    <tr>\n",
       "      <th>270</th>\n",
       "      <td>Overall Qual</td>\n",
       "      <td>8612.523756</td>\n",
       "    </tr>\n",
       "    <tr>\n",
       "      <th>279</th>\n",
       "      <td>1st Flr SF</td>\n",
       "      <td>7953.134179</td>\n",
       "    </tr>\n",
       "    <tr>\n",
       "      <th>275</th>\n",
       "      <td>BsmtFin SF 1</td>\n",
       "      <td>6851.080390</td>\n",
       "    </tr>\n",
       "    <tr>\n",
       "      <th>280</th>\n",
       "      <td>2nd Flr SF</td>\n",
       "      <td>6475.638365</td>\n",
       "    </tr>\n",
       "    <tr>\n",
       "      <th>49</th>\n",
       "      <td>Neighborhood_NridgHt</td>\n",
       "      <td>5265.637016</td>\n",
       "    </tr>\n",
       "    <tr>\n",
       "      <th>269</th>\n",
       "      <td>Lot Area</td>\n",
       "      <td>5071.178403</td>\n",
       "    </tr>\n",
       "    <tr>\n",
       "      <th>274</th>\n",
       "      <td>Mas Vnr Area</td>\n",
       "      <td>4779.615260</td>\n",
       "    </tr>\n",
       "    <tr>\n",
       "      <th>48</th>\n",
       "      <td>Neighborhood_NoRidge</td>\n",
       "      <td>4654.236618</td>\n",
       "    </tr>\n",
       "  </tbody>\n",
       "</table>\n",
       "</div>"
      ],
      "text/plain": [
       "                        0             1\n",
       "282           Gr Liv Area  11652.535379\n",
       "278         Total Bsmt SF   8620.313822\n",
       "270          Overall Qual   8612.523756\n",
       "279            1st Flr SF   7953.134179\n",
       "275          BsmtFin SF 1   6851.080390\n",
       "280            2nd Flr SF   6475.638365\n",
       "49   Neighborhood_NridgHt   5265.637016\n",
       "269              Lot Area   5071.178403\n",
       "274          Mas Vnr Area   4779.615260\n",
       "48   Neighborhood_NoRidge   4654.236618"
      ]
     },
     "execution_count": 114,
     "metadata": {},
     "output_type": "execute_result"
    }
   ],
   "source": [
    "pd.DataFrame(zip(feature_names, coefs)).sort_values(by=1, ascending=False).head(10)"
   ]
  },
  {
   "cell_type": "code",
   "execution_count": 115,
   "metadata": {},
   "outputs": [
    {
     "data": {
      "text/html": [
       "<div>\n",
       "<style scoped>\n",
       "    .dataframe tbody tr th:only-of-type {\n",
       "        vertical-align: middle;\n",
       "    }\n",
       "\n",
       "    .dataframe tbody tr th {\n",
       "        vertical-align: top;\n",
       "    }\n",
       "\n",
       "    .dataframe thead th {\n",
       "        text-align: right;\n",
       "    }\n",
       "</style>\n",
       "<table border=\"1\" class=\"dataframe\">\n",
       "  <thead>\n",
       "    <tr style=\"text-align: right;\">\n",
       "      <th></th>\n",
       "      <th>0</th>\n",
       "      <th>1</th>\n",
       "    </tr>\n",
       "  </thead>\n",
       "  <tbody>\n",
       "    <tr>\n",
       "      <th>79</th>\n",
       "      <td>Bldg Type_TwnhsE</td>\n",
       "      <td>-2047.775917</td>\n",
       "    </tr>\n",
       "    <tr>\n",
       "      <th>287</th>\n",
       "      <td>Bedroom AbvGr</td>\n",
       "      <td>-2156.102487</td>\n",
       "    </tr>\n",
       "    <tr>\n",
       "      <th>50</th>\n",
       "      <td>Neighborhood_OldTown</td>\n",
       "      <td>-2331.213872</td>\n",
       "    </tr>\n",
       "    <tr>\n",
       "      <th>45</th>\n",
       "      <td>Neighborhood_NAmes</td>\n",
       "      <td>-2469.008807</td>\n",
       "    </tr>\n",
       "    <tr>\n",
       "      <th>300</th>\n",
       "      <td>Misc Val</td>\n",
       "      <td>-2538.656783</td>\n",
       "    </tr>\n",
       "    <tr>\n",
       "      <th>37</th>\n",
       "      <td>Neighborhood_Edwards</td>\n",
       "      <td>-2738.200875</td>\n",
       "    </tr>\n",
       "    <tr>\n",
       "      <th>231</th>\n",
       "      <td>Garage Cond_Ex</td>\n",
       "      <td>-2782.091349</td>\n",
       "    </tr>\n",
       "    <tr>\n",
       "      <th>288</th>\n",
       "      <td>Kitchen AbvGr</td>\n",
       "      <td>-2967.891819</td>\n",
       "    </tr>\n",
       "    <tr>\n",
       "      <th>250</th>\n",
       "      <td>Misc Feature_Elev</td>\n",
       "      <td>-10608.779340</td>\n",
       "    </tr>\n",
       "    <tr>\n",
       "      <th>94</th>\n",
       "      <td>Roof Matl_ClyTile</td>\n",
       "      <td>-12914.562415</td>\n",
       "    </tr>\n",
       "  </tbody>\n",
       "</table>\n",
       "</div>"
      ],
      "text/plain": [
       "                        0             1\n",
       "79       Bldg Type_TwnhsE  -2047.775917\n",
       "287         Bedroom AbvGr  -2156.102487\n",
       "50   Neighborhood_OldTown  -2331.213872\n",
       "45     Neighborhood_NAmes  -2469.008807\n",
       "300              Misc Val  -2538.656783\n",
       "37   Neighborhood_Edwards  -2738.200875\n",
       "231        Garage Cond_Ex  -2782.091349\n",
       "288         Kitchen AbvGr  -2967.891819\n",
       "250     Misc Feature_Elev -10608.779340\n",
       "94      Roof Matl_ClyTile -12914.562415"
      ]
     },
     "execution_count": 115,
     "metadata": {},
     "output_type": "execute_result"
    }
   ],
   "source": [
    "pd.DataFrame(zip(feature_names, coefs)).sort_values(by=1, ascending=False).tail(10)"
   ]
  }
 ],
 "metadata": {
  "interpreter": {
   "hash": "f7a0f9bb49171c226bccce8a0987518af550515ba22b4949d7abe766c3680a51"
  },
  "kernelspec": {
   "display_name": "Python 3.9.7 64-bit ('base': conda)",
   "language": "python",
   "name": "python3"
  },
  "language_info": {
   "codemirror_mode": {
    "name": "ipython",
    "version": 3
   },
   "file_extension": ".py",
   "mimetype": "text/x-python",
   "name": "python",
   "nbconvert_exporter": "python",
   "pygments_lexer": "ipython3",
   "version": "3.9.7"
  },
  "orig_nbformat": 4
 },
 "nbformat": 4,
 "nbformat_minor": 2
}
