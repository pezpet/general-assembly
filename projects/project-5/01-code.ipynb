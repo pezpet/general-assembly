{
 "cells": [
  {
   "cell_type": "markdown",
   "metadata": {},
   "source": [
    "# Project 5"
   ]
  },
  {
   "cell_type": "markdown",
   "metadata": {},
   "source": [
    "## Imports"
   ]
  },
  {
   "cell_type": "code",
   "execution_count": 337,
   "metadata": {},
   "outputs": [],
   "source": [
    "import pandas as pd\n",
    "import seaborn as sns\n",
    "import matplotlib.pyplot as plt\n",
    "\n",
    "import plotly.express as px\n",
    "import plotly.io as pio\n",
    "pio.renderers.default = \"notebook_connected\"\n",
    "\n",
    "from requests import get\n",
    "\n",
    "from sklearn.model_selection import train_test_split\n",
    "from sklearn.linear_model import LogisticRegression\n",
    "from sklearn.tree import DecisionTreeClassifier\n",
    "from sklearn.ensemble import RandomForestClassifier\n",
    "from sklearn.metrics import ConfusionMatrixDisplay"
   ]
  },
  {
   "cell_type": "markdown",
   "metadata": {},
   "source": [
    "## Data Import + Cleaning"
   ]
  },
  {
   "cell_type": "markdown",
   "metadata": {},
   "source": [
    "### 1900 Census Data"
   ]
  },
  {
   "cell_type": "code",
   "execution_count": 338,
   "metadata": {},
   "outputs": [
    {
     "data": {
      "text/html": [
       "<div>\n",
       "<style scoped>\n",
       "    .dataframe tbody tr th:only-of-type {\n",
       "        vertical-align: middle;\n",
       "    }\n",
       "\n",
       "    .dataframe tbody tr th {\n",
       "        vertical-align: top;\n",
       "    }\n",
       "\n",
       "    .dataframe thead th {\n",
       "        text-align: right;\n",
       "    }\n",
       "</style>\n",
       "<table border=\"1\" class=\"dataframe\">\n",
       "  <thead>\n",
       "    <tr style=\"text-align: right;\">\n",
       "      <th></th>\n",
       "      <th>States and territories</th>\n",
       "      <th>Total foreign born</th>\n",
       "      <th>Africa</th>\n",
       "      <th>Asia (except China, Japan, and India)</th>\n",
       "      <th>Atlantic Islands</th>\n",
       "      <th>Australia</th>\n",
       "      <th>Austria</th>\n",
       "      <th>Belgium</th>\n",
       "      <th>Bohemia</th>\n",
       "      <th>Canada (English) (includes Newfoundland)</th>\n",
       "      <th>...</th>\n",
       "      <th>Scotland</th>\n",
       "      <th>South America</th>\n",
       "      <th>Spain</th>\n",
       "      <th>Sweden</th>\n",
       "      <th>Switzerland</th>\n",
       "      <th>Turkey</th>\n",
       "      <th>Wales</th>\n",
       "      <th>West Indies (except Cuba and Puerto Rico)</th>\n",
       "      <th>Other Countries</th>\n",
       "      <th>Born at Sea</th>\n",
       "    </tr>\n",
       "  </thead>\n",
       "  <tbody>\n",
       "    <tr>\n",
       "      <th>2</th>\n",
       "      <td>Alabama</td>\n",
       "      <td>14592</td>\n",
       "      <td>77</td>\n",
       "      <td>52</td>\n",
       "      <td>1</td>\n",
       "      <td>16</td>\n",
       "      <td>341</td>\n",
       "      <td>45</td>\n",
       "      <td>31</td>\n",
       "      <td>617</td>\n",
       "      <td>...</td>\n",
       "      <td>1223</td>\n",
       "      <td>51</td>\n",
       "      <td>59</td>\n",
       "      <td>488</td>\n",
       "      <td>200</td>\n",
       "      <td>66</td>\n",
       "      <td>306</td>\n",
       "      <td>79</td>\n",
       "      <td>7</td>\n",
       "      <td>26</td>\n",
       "    </tr>\n",
       "    <tr>\n",
       "      <th>3</th>\n",
       "      <td>Alaska</td>\n",
       "      <td>12661</td>\n",
       "      <td>3</td>\n",
       "      <td>15</td>\n",
       "      <td>15</td>\n",
       "      <td>60</td>\n",
       "      <td>228</td>\n",
       "      <td>26</td>\n",
       "      <td>8</td>\n",
       "      <td>1501</td>\n",
       "      <td>...</td>\n",
       "      <td>295</td>\n",
       "      <td>20</td>\n",
       "      <td>10</td>\n",
       "      <td>1445</td>\n",
       "      <td>80</td>\n",
       "      <td>12</td>\n",
       "      <td>41</td>\n",
       "      <td>9</td>\n",
       "      <td>19</td>\n",
       "      <td>14</td>\n",
       "    </tr>\n",
       "    <tr>\n",
       "      <th>4</th>\n",
       "      <td>Arizona</td>\n",
       "      <td>24233</td>\n",
       "      <td>14</td>\n",
       "      <td>15</td>\n",
       "      <td>4</td>\n",
       "      <td>58</td>\n",
       "      <td>298</td>\n",
       "      <td>33</td>\n",
       "      <td>16</td>\n",
       "      <td>1116</td>\n",
       "      <td>...</td>\n",
       "      <td>399</td>\n",
       "      <td>24</td>\n",
       "      <td>51</td>\n",
       "      <td>342</td>\n",
       "      <td>199</td>\n",
       "      <td>29</td>\n",
       "      <td>136</td>\n",
       "      <td>13</td>\n",
       "      <td>1</td>\n",
       "      <td>26</td>\n",
       "    </tr>\n",
       "    <tr>\n",
       "      <th>5</th>\n",
       "      <td>Arkansas</td>\n",
       "      <td>14289</td>\n",
       "      <td>14</td>\n",
       "      <td>34</td>\n",
       "      <td>1</td>\n",
       "      <td>16</td>\n",
       "      <td>451</td>\n",
       "      <td>14</td>\n",
       "      <td>281</td>\n",
       "      <td>932</td>\n",
       "      <td>...</td>\n",
       "      <td>342</td>\n",
       "      <td>15</td>\n",
       "      <td>7</td>\n",
       "      <td>355</td>\n",
       "      <td>679</td>\n",
       "      <td>1</td>\n",
       "      <td>113</td>\n",
       "      <td>13</td>\n",
       "      <td>11</td>\n",
       "      <td>34</td>\n",
       "    </tr>\n",
       "    <tr>\n",
       "      <th>6</th>\n",
       "      <td>California</td>\n",
       "      <td>367240</td>\n",
       "      <td>168</td>\n",
       "      <td>235</td>\n",
       "      <td>3515</td>\n",
       "      <td>2269</td>\n",
       "      <td>5356</td>\n",
       "      <td>785</td>\n",
       "      <td>504</td>\n",
       "      <td>27408</td>\n",
       "      <td>...</td>\n",
       "      <td>9467</td>\n",
       "      <td>1137</td>\n",
       "      <td>896</td>\n",
       "      <td>14549</td>\n",
       "      <td>10974</td>\n",
       "      <td>619</td>\n",
       "      <td>1949</td>\n",
       "      <td>372</td>\n",
       "      <td>260</td>\n",
       "      <td>358</td>\n",
       "    </tr>\n",
       "  </tbody>\n",
       "</table>\n",
       "<p>5 rows × 48 columns</p>\n",
       "</div>"
      ],
      "text/plain": [
       "  States and territories  Total foreign born  Africa  \\\n",
       "2                Alabama               14592      77   \n",
       "3                 Alaska               12661       3   \n",
       "4                Arizona               24233      14   \n",
       "5               Arkansas               14289      14   \n",
       "6             California              367240     168   \n",
       "\n",
       "   Asia (except China, Japan, and India)  Atlantic Islands  Australia  \\\n",
       "2                                     52                 1         16   \n",
       "3                                     15                15         60   \n",
       "4                                     15                 4         58   \n",
       "5                                     34                 1         16   \n",
       "6                                    235              3515       2269   \n",
       "\n",
       "   Austria  Belgium  Bohemia  Canada (English) (includes Newfoundland)  ...  \\\n",
       "2      341       45       31                                       617  ...   \n",
       "3      228       26        8                                      1501  ...   \n",
       "4      298       33       16                                      1116  ...   \n",
       "5      451       14      281                                       932  ...   \n",
       "6     5356      785      504                                     27408  ...   \n",
       "\n",
       "   Scotland  South America  Spain  Sweden  Switzerland  Turkey  Wales  \\\n",
       "2      1223             51     59     488          200      66    306   \n",
       "3       295             20     10    1445           80      12     41   \n",
       "4       399             24     51     342          199      29    136   \n",
       "5       342             15      7     355          679       1    113   \n",
       "6      9467           1137    896   14549        10974     619   1949   \n",
       "\n",
       "   West Indies (except Cuba and Puerto Rico)  Other Countries  Born at Sea  \n",
       "2                                         79                7           26  \n",
       "3                                          9               19           14  \n",
       "4                                         13                1           26  \n",
       "5                                         13               11           34  \n",
       "6                                        372              260          358  \n",
       "\n",
       "[5 rows x 48 columns]"
      ]
     },
     "execution_count": 338,
     "metadata": {},
     "output_type": "execute_result"
    }
   ],
   "source": [
    "census = pd.read_csv(\n",
    "    \"https://raw.githubusercontent.com/stacker-media/data/main/1900-census-immigrant-state/1900-census-immigrant-pop-state.csv\",\n",
    "    header=6,\n",
    ").drop([0, 1])\n",
    "census.head()"
   ]
  },
  {
   "cell_type": "code",
   "execution_count": 339,
   "metadata": {},
   "outputs": [
    {
     "name": "stdout",
     "output_type": "stream",
     "text": [
      "<class 'pandas.core.frame.DataFrame'>\n",
      "Int64Index: 52 entries, 2 to 53\n",
      "Data columns (total 48 columns):\n",
      " #   Column                                       Non-Null Count  Dtype \n",
      "---  ------                                       --------------  ----- \n",
      " 0   States and territories                       52 non-null     object\n",
      " 1   Total foreign born                           52 non-null     int64 \n",
      " 2   Africa                                       52 non-null     int64 \n",
      " 3   Asia (except China, Japan, and India)        52 non-null     int64 \n",
      " 4   Atlantic Islands                             52 non-null     int64 \n",
      " 5   Australia                                    52 non-null     int64 \n",
      " 6   Austria                                      52 non-null     int64 \n",
      " 7   Belgium                                      52 non-null     int64 \n",
      " 8   Bohemia                                      52 non-null     int64 \n",
      " 9   Canada (English) (includes Newfoundland)     52 non-null     int64 \n",
      " 10  Canada (French) (includes Newfoundland)      52 non-null     int64 \n",
      " 11  Central America                              52 non-null     int64 \n",
      " 12  China                                        52 non-null     int64 \n",
      " 13  Cuba                                         52 non-null     int64 \n",
      " 14  Denmark                                      52 non-null     int64 \n",
      " 15  England                                      52 non-null     int64 \n",
      " 16  Europe (not otherwise specified)             52 non-null     int64 \n",
      " 17  Finland                                      52 non-null     int64 \n",
      " 18  France                                       52 non-null     int64 \n",
      " 19  Germany                                      52 non-null     int64 \n",
      " 20  Greece                                       52 non-null     int64 \n",
      " 21  Holland                                      52 non-null     int64 \n",
      " 22  Hungary                                      52 non-null     int64 \n",
      " 23  India                                        52 non-null     int64 \n",
      " 24  Ireland                                      52 non-null     int64 \n",
      " 25  Italy                                        52 non-null     int64 \n",
      " 26  Japan                                        52 non-null     int64 \n",
      " 27  Luxemburg                                    52 non-null     int64 \n",
      " 28  Mexico                                       52 non-null     int64 \n",
      " 29  Norway                                       52 non-null     int64 \n",
      " 30  Pacific Islands (except Phillipine Islands)  52 non-null     int64 \n",
      " 31  Poland (Austrian)                            52 non-null     int64 \n",
      " 32  Poland (German)                              52 non-null     int64 \n",
      " 33  Poland (Russian)                             52 non-null     int64 \n",
      " 34  Poland (unknown)                             52 non-null     int64 \n",
      " 35  Portugal                                     52 non-null     int64 \n",
      " 36  Roumania                                     52 non-null     int64 \n",
      " 37  Russia                                       52 non-null     int64 \n",
      " 38  Scotland                                     52 non-null     int64 \n",
      " 39  South America                                52 non-null     int64 \n",
      " 40  Spain                                        52 non-null     int64 \n",
      " 41  Sweden                                       52 non-null     int64 \n",
      " 42  Switzerland                                  52 non-null     int64 \n",
      " 43  Turkey                                       52 non-null     int64 \n",
      " 44  Wales                                        52 non-null     int64 \n",
      " 45  West Indies (except Cuba and Puerto Rico)    52 non-null     int64 \n",
      " 46  Other Countries                              52 non-null     int64 \n",
      " 47  Born at Sea                                  52 non-null     int64 \n",
      "dtypes: int64(47), object(1)\n",
      "memory usage: 19.9+ KB\n"
     ]
    }
   ],
   "source": [
    "census.info()"
   ]
  },
  {
   "cell_type": "code",
   "execution_count": 340,
   "metadata": {},
   "outputs": [
    {
     "data": {
      "text/plain": [
       "0"
      ]
     },
     "execution_count": 340,
     "metadata": {},
     "output_type": "execute_result"
    }
   ],
   "source": [
    "census.isna().sum().sum()"
   ]
  },
  {
   "cell_type": "code",
   "execution_count": 341,
   "metadata": {},
   "outputs": [
    {
     "data": {
      "text/plain": [
       "Index(['States and territories', 'Total foreign born', 'Africa',\n",
       "       'Asia (except China, Japan, and India)', 'Atlantic Islands',\n",
       "       'Australia', 'Austria', 'Belgium', 'Bohemia',\n",
       "       'Canada (English) (includes Newfoundland)',\n",
       "       'Canada (French) (includes Newfoundland)', 'Central America', 'China',\n",
       "       'Cuba', 'Denmark', 'England', 'Europe (not otherwise specified)',\n",
       "       'Finland', 'France', 'Germany', 'Greece', 'Holland', 'Hungary', 'India',\n",
       "       'Ireland', 'Italy', 'Japan', 'Luxemburg', 'Mexico', 'Norway',\n",
       "       'Pacific Islands (except Phillipine Islands)', 'Poland (Austrian)',\n",
       "       'Poland (German)', 'Poland (Russian)', 'Poland (unknown)', 'Portugal',\n",
       "       'Roumania', 'Russia', 'Scotland', 'South America', 'Spain', 'Sweden',\n",
       "       'Switzerland', 'Turkey', 'Wales',\n",
       "       'West Indies (except Cuba and Puerto Rico)', 'Other Countries',\n",
       "       'Born at Sea'],\n",
       "      dtype='object')"
      ]
     },
     "execution_count": 341,
     "metadata": {},
     "output_type": "execute_result"
    }
   ],
   "source": [
    "census.columns"
   ]
  },
  {
   "cell_type": "code",
   "execution_count": 342,
   "metadata": {},
   "outputs": [
    {
     "data": {
      "text/plain": [
       "array(['Alabama', 'Alaska', 'Arizona', 'Arkansas', 'California',\n",
       "       'Colorado', 'Connecticut', 'Delaware', 'District of Colombia',\n",
       "       'Florida', 'Georgia', 'Hawaii', 'Idaho', 'Illinois', 'Indiana',\n",
       "       'Indian Territory', 'Iowa', 'Kansas', 'Kentucky', 'Louisiana',\n",
       "       'Maine', 'Maryland', 'Massachusetts', 'Michigan', 'Minnesota',\n",
       "       'Mississippi', 'Missouri', 'Montana', 'Nebraska', 'Nevada',\n",
       "       'New Hampshire', 'New Jersey', 'New Mexico', 'New York',\n",
       "       'North Carolina', 'North Dakota', 'Ohio', 'Oklahoma', 'Oregon',\n",
       "       'Pennsylvania', 'Rhode Island', 'South Carolina', 'South Dakota',\n",
       "       'Tennessee', 'Texas', 'Utah', 'Vermont', 'Virginia', 'Washington',\n",
       "       'West Virginia', 'Wisconsin', 'Wyoming'], dtype=object)"
      ]
     },
     "execution_count": 342,
     "metadata": {},
     "output_type": "execute_result"
    }
   ],
   "source": [
    "census['States and territories'].unique()"
   ]
  },
  {
   "cell_type": "markdown",
   "metadata": {},
   "source": [
    "### Target Variable - Most common second language ex. Spanish"
   ]
  },
  {
   "cell_type": "code",
   "execution_count": 343,
   "metadata": {},
   "outputs": [],
   "source": [
    "lang_dict = {\n",
    "    \"Alabama\": [\"Chinese\"],\n",
    "    \"Alaska\": [\"Eskimo-Aleutian\"],\n",
    "    \"Arizona\": [\"Navajo\"],\n",
    "    \"Arkansas\": [\"Ilocano\"],\n",
    "    \"California\": [\"Chinese\"],\n",
    "    \"Colorado\": [\"Chinese\"],\n",
    "    \"Connecticut\": [\"Portuguese\"],\n",
    "    \"Delaware\": [\"Chinese\"],\n",
    "    \"District of Colombia\": [\"French\"],\n",
    "    \"Florida\": [\"Haitian\"],\n",
    "    \"Georgia\": [\"Vietnamese\"],\n",
    "    \"Hawaii\": [\"Ilocano\"],\n",
    "    \"Idaho\": [\"Chinese\"],\n",
    "    \"Illinois\": [\"Polish\"],\n",
    "    \"Indiana\": [\"Pennsylvania Dutch\"],\n",
    "    \"Indian Territory\": [\"Other Native Languages\"],\n",
    "    \"Iowa\": [\"German\"],\n",
    "    \"Kansas\": [\"Chinese\"],\n",
    "    \"Kentucky\": [\"German\"],\n",
    "    \"Louisiana\": [\"French\"],\n",
    "    \"Maine\": [\"French\"],\n",
    "    \"Maryland\": [\"Chinese\"],\n",
    "    \"Massachusetts\": [\"Portuguese\"],\n",
    "    \"Michigan\": [\"Arabic\"],\n",
    "    \"Minnesota\": [\"Amharic\"],\n",
    "    \"Mississippi\": [\"Vietnamese\"],\n",
    "    \"Missouri\": [\"Chinese\"],\n",
    "    \"Montana\": [\"Other Native Languages\"],\n",
    "    \"Nebraska\": [\"Vietnamese\"],\n",
    "    \"Nevada\": [\"Tagalog\"],\n",
    "    \"New Hampshire\": [\"French\"],\n",
    "    \"New Jersey\": [\"Chinese\"],\n",
    "    \"New Mexico\": [\"Navajo\"],\n",
    "    \"New York\": [\"Chinese\"],\n",
    "    \"North Carolina\": [\"Chinese\"],\n",
    "    \"North Dakota\": [\"German\"],\n",
    "    \"Ohio\": [\"Pennsylvania Dutch\"],\n",
    "    \"Oklahoma\": [\"Vietnamese\"],\n",
    "    \"Oregon\": [\"Chinese\"],\n",
    "    \"Pennsylvania\": [\"Chinese\"],\n",
    "    \"Rhode Island\": [\"Portuguese\"],\n",
    "    \"South Carolina\": [\"German\"],\n",
    "    \"South Dakota\": [\"Dakota\"],\n",
    "    \"Tennessee\": [\"Arabic\"],\n",
    "    \"Texas\": [\"Vietnamese\"],\n",
    "    \"Utah\": [\"Chinese\"],\n",
    "    \"Vermont\": [\"French\"],\n",
    "    \"Virginia\": [\"Chinese\"],\n",
    "    \"Washington\": [\"Chinese\"],\n",
    "    \"West Virginia\": [\"Chinese\"],\n",
    "    \"Wisconsin\": [\"Hmong\"],\n",
    "    \"Wyoming\": [\"Other Native Languages\"],\n",
    "}\n"
   ]
  },
  {
   "cell_type": "code",
   "execution_count": 344,
   "metadata": {},
   "outputs": [
    {
     "data": {
      "text/html": [
       "<div>\n",
       "<style scoped>\n",
       "    .dataframe tbody tr th:only-of-type {\n",
       "        vertical-align: middle;\n",
       "    }\n",
       "\n",
       "    .dataframe tbody tr th {\n",
       "        vertical-align: top;\n",
       "    }\n",
       "\n",
       "    .dataframe thead th {\n",
       "        text-align: right;\n",
       "    }\n",
       "</style>\n",
       "<table border=\"1\" class=\"dataframe\">\n",
       "  <thead>\n",
       "    <tr style=\"text-align: right;\">\n",
       "      <th></th>\n",
       "      <th>States and territories</th>\n",
       "      <th>language</th>\n",
       "    </tr>\n",
       "  </thead>\n",
       "  <tbody>\n",
       "    <tr>\n",
       "      <th>0</th>\n",
       "      <td>Alabama</td>\n",
       "      <td>Chinese</td>\n",
       "    </tr>\n",
       "    <tr>\n",
       "      <th>1</th>\n",
       "      <td>Alaska</td>\n",
       "      <td>Eskimo-Aleutian</td>\n",
       "    </tr>\n",
       "    <tr>\n",
       "      <th>2</th>\n",
       "      <td>Arizona</td>\n",
       "      <td>Navajo</td>\n",
       "    </tr>\n",
       "    <tr>\n",
       "      <th>3</th>\n",
       "      <td>Arkansas</td>\n",
       "      <td>Ilocano</td>\n",
       "    </tr>\n",
       "    <tr>\n",
       "      <th>4</th>\n",
       "      <td>California</td>\n",
       "      <td>Chinese</td>\n",
       "    </tr>\n",
       "  </tbody>\n",
       "</table>\n",
       "</div>"
      ],
      "text/plain": [
       "  States and territories         language\n",
       "0                Alabama          Chinese\n",
       "1                 Alaska  Eskimo-Aleutian\n",
       "2                Arizona           Navajo\n",
       "3               Arkansas          Ilocano\n",
       "4             California          Chinese"
      ]
     },
     "execution_count": 344,
     "metadata": {},
     "output_type": "execute_result"
    }
   ],
   "source": [
    "languages = (\n",
    "    pd.DataFrame(lang_dict)\n",
    "    .T.reset_index()\n",
    "    .rename(columns={\"index\": \"States and territories\", 0: \"language\"})\n",
    ")\n",
    "languages.head()\n"
   ]
  },
  {
   "cell_type": "markdown",
   "metadata": {},
   "source": [
    "### Target Cleaning\n",
    "\n",
    "ValueError: The least populated class in y has only 1 member, which is too few. The minimum number of groups for any class cannot be less than 2."
   ]
  },
  {
   "cell_type": "code",
   "execution_count": 345,
   "metadata": {},
   "outputs": [
    {
     "data": {
      "text/plain": [
       "Chinese                   17\n",
       "French                     5\n",
       "Vietnamese                 5\n",
       "German                     4\n",
       "Portuguese                 3\n",
       "Other Native Languages     3\n",
       "Navajo                     2\n",
       "Ilocano                    2\n",
       "Pennsylvania Dutch         2\n",
       "Arabic                     2\n",
       "Amharic                    1\n",
       "Dakota                     1\n",
       "Tagalog                    1\n",
       "Polish                     1\n",
       "Eskimo-Aleutian            1\n",
       "Haitian                    1\n",
       "Hmong                      1\n",
       "Name: language, dtype: int64"
      ]
     },
     "execution_count": 345,
     "metadata": {},
     "output_type": "execute_result"
    }
   ],
   "source": [
    "languages['language'].value_counts()"
   ]
  },
  {
   "cell_type": "code",
   "execution_count": 346,
   "metadata": {},
   "outputs": [],
   "source": [
    "others = [\n",
    "    \"Amharic\",\n",
    "    \"Dakota\",\n",
    "    \"Tagalog\",\n",
    "    \"Polish\",\n",
    "    \"Eskimo-Aleutian\",\n",
    "    \"Haitian\",\n",
    "    \"Hmong\",\n",
    "]\n"
   ]
  },
  {
   "cell_type": "code",
   "execution_count": 347,
   "metadata": {},
   "outputs": [],
   "source": [
    "languages['language'].replace(to_replace=others, value='Other', inplace=True)"
   ]
  },
  {
   "cell_type": "markdown",
   "metadata": {},
   "source": [
    "### Merge Data"
   ]
  },
  {
   "cell_type": "code",
   "execution_count": 348,
   "metadata": {},
   "outputs": [
    {
     "data": {
      "text/html": [
       "<div>\n",
       "<style scoped>\n",
       "    .dataframe tbody tr th:only-of-type {\n",
       "        vertical-align: middle;\n",
       "    }\n",
       "\n",
       "    .dataframe tbody tr th {\n",
       "        vertical-align: top;\n",
       "    }\n",
       "\n",
       "    .dataframe thead th {\n",
       "        text-align: right;\n",
       "    }\n",
       "</style>\n",
       "<table border=\"1\" class=\"dataframe\">\n",
       "  <thead>\n",
       "    <tr style=\"text-align: right;\">\n",
       "      <th></th>\n",
       "      <th>States and territories</th>\n",
       "      <th>Total foreign born</th>\n",
       "      <th>Africa</th>\n",
       "      <th>Asia (except China, Japan, and India)</th>\n",
       "      <th>Atlantic Islands</th>\n",
       "      <th>Australia</th>\n",
       "      <th>Austria</th>\n",
       "      <th>Belgium</th>\n",
       "      <th>Bohemia</th>\n",
       "      <th>Canada (English) (includes Newfoundland)</th>\n",
       "      <th>...</th>\n",
       "      <th>South America</th>\n",
       "      <th>Spain</th>\n",
       "      <th>Sweden</th>\n",
       "      <th>Switzerland</th>\n",
       "      <th>Turkey</th>\n",
       "      <th>Wales</th>\n",
       "      <th>West Indies (except Cuba and Puerto Rico)</th>\n",
       "      <th>Other Countries</th>\n",
       "      <th>Born at Sea</th>\n",
       "      <th>language</th>\n",
       "    </tr>\n",
       "  </thead>\n",
       "  <tbody>\n",
       "    <tr>\n",
       "      <th>0</th>\n",
       "      <td>Alabama</td>\n",
       "      <td>14592</td>\n",
       "      <td>77</td>\n",
       "      <td>52</td>\n",
       "      <td>1</td>\n",
       "      <td>16</td>\n",
       "      <td>341</td>\n",
       "      <td>45</td>\n",
       "      <td>31</td>\n",
       "      <td>617</td>\n",
       "      <td>...</td>\n",
       "      <td>51</td>\n",
       "      <td>59</td>\n",
       "      <td>488</td>\n",
       "      <td>200</td>\n",
       "      <td>66</td>\n",
       "      <td>306</td>\n",
       "      <td>79</td>\n",
       "      <td>7</td>\n",
       "      <td>26</td>\n",
       "      <td>Chinese</td>\n",
       "    </tr>\n",
       "    <tr>\n",
       "      <th>1</th>\n",
       "      <td>Alaska</td>\n",
       "      <td>12661</td>\n",
       "      <td>3</td>\n",
       "      <td>15</td>\n",
       "      <td>15</td>\n",
       "      <td>60</td>\n",
       "      <td>228</td>\n",
       "      <td>26</td>\n",
       "      <td>8</td>\n",
       "      <td>1501</td>\n",
       "      <td>...</td>\n",
       "      <td>20</td>\n",
       "      <td>10</td>\n",
       "      <td>1445</td>\n",
       "      <td>80</td>\n",
       "      <td>12</td>\n",
       "      <td>41</td>\n",
       "      <td>9</td>\n",
       "      <td>19</td>\n",
       "      <td>14</td>\n",
       "      <td>Other</td>\n",
       "    </tr>\n",
       "    <tr>\n",
       "      <th>2</th>\n",
       "      <td>Arizona</td>\n",
       "      <td>24233</td>\n",
       "      <td>14</td>\n",
       "      <td>15</td>\n",
       "      <td>4</td>\n",
       "      <td>58</td>\n",
       "      <td>298</td>\n",
       "      <td>33</td>\n",
       "      <td>16</td>\n",
       "      <td>1116</td>\n",
       "      <td>...</td>\n",
       "      <td>24</td>\n",
       "      <td>51</td>\n",
       "      <td>342</td>\n",
       "      <td>199</td>\n",
       "      <td>29</td>\n",
       "      <td>136</td>\n",
       "      <td>13</td>\n",
       "      <td>1</td>\n",
       "      <td>26</td>\n",
       "      <td>Navajo</td>\n",
       "    </tr>\n",
       "    <tr>\n",
       "      <th>3</th>\n",
       "      <td>Arkansas</td>\n",
       "      <td>14289</td>\n",
       "      <td>14</td>\n",
       "      <td>34</td>\n",
       "      <td>1</td>\n",
       "      <td>16</td>\n",
       "      <td>451</td>\n",
       "      <td>14</td>\n",
       "      <td>281</td>\n",
       "      <td>932</td>\n",
       "      <td>...</td>\n",
       "      <td>15</td>\n",
       "      <td>7</td>\n",
       "      <td>355</td>\n",
       "      <td>679</td>\n",
       "      <td>1</td>\n",
       "      <td>113</td>\n",
       "      <td>13</td>\n",
       "      <td>11</td>\n",
       "      <td>34</td>\n",
       "      <td>Ilocano</td>\n",
       "    </tr>\n",
       "    <tr>\n",
       "      <th>4</th>\n",
       "      <td>California</td>\n",
       "      <td>367240</td>\n",
       "      <td>168</td>\n",
       "      <td>235</td>\n",
       "      <td>3515</td>\n",
       "      <td>2269</td>\n",
       "      <td>5356</td>\n",
       "      <td>785</td>\n",
       "      <td>504</td>\n",
       "      <td>27408</td>\n",
       "      <td>...</td>\n",
       "      <td>1137</td>\n",
       "      <td>896</td>\n",
       "      <td>14549</td>\n",
       "      <td>10974</td>\n",
       "      <td>619</td>\n",
       "      <td>1949</td>\n",
       "      <td>372</td>\n",
       "      <td>260</td>\n",
       "      <td>358</td>\n",
       "      <td>Chinese</td>\n",
       "    </tr>\n",
       "  </tbody>\n",
       "</table>\n",
       "<p>5 rows × 49 columns</p>\n",
       "</div>"
      ],
      "text/plain": [
       "  States and territories  Total foreign born  Africa  \\\n",
       "0                Alabama               14592      77   \n",
       "1                 Alaska               12661       3   \n",
       "2                Arizona               24233      14   \n",
       "3               Arkansas               14289      14   \n",
       "4             California              367240     168   \n",
       "\n",
       "   Asia (except China, Japan, and India)  Atlantic Islands  Australia  \\\n",
       "0                                     52                 1         16   \n",
       "1                                     15                15         60   \n",
       "2                                     15                 4         58   \n",
       "3                                     34                 1         16   \n",
       "4                                    235              3515       2269   \n",
       "\n",
       "   Austria  Belgium  Bohemia  Canada (English) (includes Newfoundland)  ...  \\\n",
       "0      341       45       31                                       617  ...   \n",
       "1      228       26        8                                      1501  ...   \n",
       "2      298       33       16                                      1116  ...   \n",
       "3      451       14      281                                       932  ...   \n",
       "4     5356      785      504                                     27408  ...   \n",
       "\n",
       "   South America  Spain  Sweden  Switzerland  Turkey  Wales  \\\n",
       "0             51     59     488          200      66    306   \n",
       "1             20     10    1445           80      12     41   \n",
       "2             24     51     342          199      29    136   \n",
       "3             15      7     355          679       1    113   \n",
       "4           1137    896   14549        10974     619   1949   \n",
       "\n",
       "   West Indies (except Cuba and Puerto Rico)  Other Countries  Born at Sea  \\\n",
       "0                                         79                7           26   \n",
       "1                                          9               19           14   \n",
       "2                                         13                1           26   \n",
       "3                                         13               11           34   \n",
       "4                                        372              260          358   \n",
       "\n",
       "   language  \n",
       "0   Chinese  \n",
       "1     Other  \n",
       "2    Navajo  \n",
       "3   Ilocano  \n",
       "4   Chinese  \n",
       "\n",
       "[5 rows x 49 columns]"
      ]
     },
     "execution_count": 348,
     "metadata": {},
     "output_type": "execute_result"
    }
   ],
   "source": [
    "merged = census.merge(languages)\n",
    "merged.head()"
   ]
  },
  {
   "cell_type": "markdown",
   "metadata": {},
   "source": [
    "### Change to percentage foreign born from each country/region"
   ]
  },
  {
   "cell_type": "code",
   "execution_count": 349,
   "metadata": {},
   "outputs": [
    {
     "data": {
      "text/html": [
       "<div>\n",
       "<style scoped>\n",
       "    .dataframe tbody tr th:only-of-type {\n",
       "        vertical-align: middle;\n",
       "    }\n",
       "\n",
       "    .dataframe tbody tr th {\n",
       "        vertical-align: top;\n",
       "    }\n",
       "\n",
       "    .dataframe thead th {\n",
       "        text-align: right;\n",
       "    }\n",
       "</style>\n",
       "<table border=\"1\" class=\"dataframe\">\n",
       "  <thead>\n",
       "    <tr style=\"text-align: right;\">\n",
       "      <th></th>\n",
       "      <th>Africa</th>\n",
       "      <th>Asia (except China, Japan, and India)</th>\n",
       "      <th>Atlantic Islands</th>\n",
       "      <th>Australia</th>\n",
       "      <th>Austria</th>\n",
       "      <th>Belgium</th>\n",
       "      <th>Bohemia</th>\n",
       "      <th>Canada (English) (includes Newfoundland)</th>\n",
       "      <th>Canada (French) (includes Newfoundland)</th>\n",
       "      <th>Central America</th>\n",
       "      <th>...</th>\n",
       "      <th>Scotland</th>\n",
       "      <th>South America</th>\n",
       "      <th>Spain</th>\n",
       "      <th>Sweden</th>\n",
       "      <th>Switzerland</th>\n",
       "      <th>Turkey</th>\n",
       "      <th>Wales</th>\n",
       "      <th>West Indies (except Cuba and Puerto Rico)</th>\n",
       "      <th>Other Countries</th>\n",
       "      <th>Born at Sea</th>\n",
       "    </tr>\n",
       "  </thead>\n",
       "  <tbody>\n",
       "    <tr>\n",
       "      <th>0</th>\n",
       "      <td>0.005277</td>\n",
       "      <td>0.003564</td>\n",
       "      <td>0.000069</td>\n",
       "      <td>0.001096</td>\n",
       "      <td>0.023369</td>\n",
       "      <td>0.003084</td>\n",
       "      <td>0.002124</td>\n",
       "      <td>0.042283</td>\n",
       "      <td>0.005482</td>\n",
       "      <td>0.001576</td>\n",
       "      <td>...</td>\n",
       "      <td>0.083813</td>\n",
       "      <td>0.003495</td>\n",
       "      <td>0.004043</td>\n",
       "      <td>0.033443</td>\n",
       "      <td>0.013706</td>\n",
       "      <td>0.004523</td>\n",
       "      <td>0.020970</td>\n",
       "      <td>0.005414</td>\n",
       "      <td>0.000480</td>\n",
       "      <td>0.001782</td>\n",
       "    </tr>\n",
       "    <tr>\n",
       "      <th>1</th>\n",
       "      <td>0.000237</td>\n",
       "      <td>0.001185</td>\n",
       "      <td>0.001185</td>\n",
       "      <td>0.004739</td>\n",
       "      <td>0.018008</td>\n",
       "      <td>0.002054</td>\n",
       "      <td>0.000632</td>\n",
       "      <td>0.118553</td>\n",
       "      <td>0.009320</td>\n",
       "      <td>0.000632</td>\n",
       "      <td>...</td>\n",
       "      <td>0.023300</td>\n",
       "      <td>0.001580</td>\n",
       "      <td>0.000790</td>\n",
       "      <td>0.114130</td>\n",
       "      <td>0.006319</td>\n",
       "      <td>0.000948</td>\n",
       "      <td>0.003238</td>\n",
       "      <td>0.000711</td>\n",
       "      <td>0.001501</td>\n",
       "      <td>0.001106</td>\n",
       "    </tr>\n",
       "    <tr>\n",
       "      <th>2</th>\n",
       "      <td>0.000578</td>\n",
       "      <td>0.000619</td>\n",
       "      <td>0.000165</td>\n",
       "      <td>0.002393</td>\n",
       "      <td>0.012297</td>\n",
       "      <td>0.001362</td>\n",
       "      <td>0.000660</td>\n",
       "      <td>0.046053</td>\n",
       "      <td>0.006314</td>\n",
       "      <td>0.001032</td>\n",
       "      <td>...</td>\n",
       "      <td>0.016465</td>\n",
       "      <td>0.000990</td>\n",
       "      <td>0.002105</td>\n",
       "      <td>0.014113</td>\n",
       "      <td>0.008212</td>\n",
       "      <td>0.001197</td>\n",
       "      <td>0.005612</td>\n",
       "      <td>0.000536</td>\n",
       "      <td>0.000041</td>\n",
       "      <td>0.001073</td>\n",
       "    </tr>\n",
       "    <tr>\n",
       "      <th>3</th>\n",
       "      <td>0.000980</td>\n",
       "      <td>0.002379</td>\n",
       "      <td>0.000070</td>\n",
       "      <td>0.001120</td>\n",
       "      <td>0.031563</td>\n",
       "      <td>0.000980</td>\n",
       "      <td>0.019665</td>\n",
       "      <td>0.065225</td>\n",
       "      <td>0.007068</td>\n",
       "      <td>0.000980</td>\n",
       "      <td>...</td>\n",
       "      <td>0.023934</td>\n",
       "      <td>0.001050</td>\n",
       "      <td>0.000490</td>\n",
       "      <td>0.024844</td>\n",
       "      <td>0.047519</td>\n",
       "      <td>0.000070</td>\n",
       "      <td>0.007908</td>\n",
       "      <td>0.000910</td>\n",
       "      <td>0.000770</td>\n",
       "      <td>0.002379</td>\n",
       "    </tr>\n",
       "    <tr>\n",
       "      <th>4</th>\n",
       "      <td>0.000457</td>\n",
       "      <td>0.000640</td>\n",
       "      <td>0.009571</td>\n",
       "      <td>0.006179</td>\n",
       "      <td>0.014584</td>\n",
       "      <td>0.002138</td>\n",
       "      <td>0.001372</td>\n",
       "      <td>0.074632</td>\n",
       "      <td>0.006562</td>\n",
       "      <td>0.001310</td>\n",
       "      <td>...</td>\n",
       "      <td>0.025779</td>\n",
       "      <td>0.003096</td>\n",
       "      <td>0.002440</td>\n",
       "      <td>0.039617</td>\n",
       "      <td>0.029882</td>\n",
       "      <td>0.001686</td>\n",
       "      <td>0.005307</td>\n",
       "      <td>0.001013</td>\n",
       "      <td>0.000708</td>\n",
       "      <td>0.000975</td>\n",
       "    </tr>\n",
       "  </tbody>\n",
       "</table>\n",
       "<p>5 rows × 46 columns</p>\n",
       "</div>"
      ],
      "text/plain": [
       "     Africa  Asia (except China, Japan, and India)  Atlantic Islands  \\\n",
       "0  0.005277                               0.003564          0.000069   \n",
       "1  0.000237                               0.001185          0.001185   \n",
       "2  0.000578                               0.000619          0.000165   \n",
       "3  0.000980                               0.002379          0.000070   \n",
       "4  0.000457                               0.000640          0.009571   \n",
       "\n",
       "   Australia   Austria   Belgium   Bohemia  \\\n",
       "0   0.001096  0.023369  0.003084  0.002124   \n",
       "1   0.004739  0.018008  0.002054  0.000632   \n",
       "2   0.002393  0.012297  0.001362  0.000660   \n",
       "3   0.001120  0.031563  0.000980  0.019665   \n",
       "4   0.006179  0.014584  0.002138  0.001372   \n",
       "\n",
       "   Canada (English) (includes Newfoundland)  \\\n",
       "0                                  0.042283   \n",
       "1                                  0.118553   \n",
       "2                                  0.046053   \n",
       "3                                  0.065225   \n",
       "4                                  0.074632   \n",
       "\n",
       "   Canada (French) (includes Newfoundland)  Central America  ...  Scotland  \\\n",
       "0                                 0.005482         0.001576  ...  0.083813   \n",
       "1                                 0.009320         0.000632  ...  0.023300   \n",
       "2                                 0.006314         0.001032  ...  0.016465   \n",
       "3                                 0.007068         0.000980  ...  0.023934   \n",
       "4                                 0.006562         0.001310  ...  0.025779   \n",
       "\n",
       "   South America     Spain    Sweden  Switzerland    Turkey     Wales  \\\n",
       "0       0.003495  0.004043  0.033443     0.013706  0.004523  0.020970   \n",
       "1       0.001580  0.000790  0.114130     0.006319  0.000948  0.003238   \n",
       "2       0.000990  0.002105  0.014113     0.008212  0.001197  0.005612   \n",
       "3       0.001050  0.000490  0.024844     0.047519  0.000070  0.007908   \n",
       "4       0.003096  0.002440  0.039617     0.029882  0.001686  0.005307   \n",
       "\n",
       "   West Indies (except Cuba and Puerto Rico)  Other Countries  Born at Sea  \n",
       "0                                   0.005414         0.000480     0.001782  \n",
       "1                                   0.000711         0.001501     0.001106  \n",
       "2                                   0.000536         0.000041     0.001073  \n",
       "3                                   0.000910         0.000770     0.002379  \n",
       "4                                   0.001013         0.000708     0.000975  \n",
       "\n",
       "[5 rows x 46 columns]"
      ]
     },
     "execution_count": 349,
     "metadata": {},
     "output_type": "execute_result"
    }
   ],
   "source": [
    "# https://stackoverflow.com/questions/34540567/divide-multiple-columns-by-another-column-in-pandas\n",
    "X = merged.drop(columns=['States and territories', 'Total foreign born', 'language']).div(merged['Total foreign born'], axis=0)\n",
    "X.head()"
   ]
  },
  {
   "cell_type": "code",
   "execution_count": 350,
   "metadata": {},
   "outputs": [
    {
     "data": {
      "text/plain": [
       "0    Chinese\n",
       "1      Other\n",
       "2     Navajo\n",
       "3    Ilocano\n",
       "4    Chinese\n",
       "Name: language, dtype: object"
      ]
     },
     "execution_count": 350,
     "metadata": {},
     "output_type": "execute_result"
    }
   ],
   "source": [
    "y = merged['language']\n",
    "y.head()"
   ]
  },
  {
   "cell_type": "markdown",
   "metadata": {},
   "source": [
    "## EDA"
   ]
  },
  {
   "cell_type": "markdown",
   "metadata": {},
   "source": [
    "### Most common origin by State"
   ]
  },
  {
   "cell_type": "code",
   "execution_count": 351,
   "metadata": {},
   "outputs": [
    {
     "name": "stderr",
     "output_type": "stream",
     "text": [
      "/var/folders/p1/89v2vyg94jd0blrmm4w41wr00000gn/T/ipykernel_12057/692561947.py:3: SettingWithCopyWarning:\n",
      "\n",
      "\n",
      "A value is trying to be set on a copy of a slice from a DataFrame.\n",
      "Try using .loc[row_indexer,col_indexer] = value instead\n",
      "\n",
      "See the caveats in the documentation: https://pandas.pydata.org/pandas-docs/stable/user_guide/indexing.html#returning-a-view-versus-a-copy\n",
      "\n"
     ]
    },
    {
     "data": {
      "text/html": [
       "<div>\n",
       "<style scoped>\n",
       "    .dataframe tbody tr th:only-of-type {\n",
       "        vertical-align: middle;\n",
       "    }\n",
       "\n",
       "    .dataframe tbody tr th {\n",
       "        vertical-align: top;\n",
       "    }\n",
       "\n",
       "    .dataframe thead th {\n",
       "        text-align: right;\n",
       "    }\n",
       "</style>\n",
       "<table border=\"1\" class=\"dataframe\">\n",
       "  <thead>\n",
       "    <tr style=\"text-align: right;\">\n",
       "      <th></th>\n",
       "      <th>States and territories</th>\n",
       "      <th>Most Common Origin</th>\n",
       "    </tr>\n",
       "  </thead>\n",
       "  <tbody>\n",
       "    <tr>\n",
       "      <th>0</th>\n",
       "      <td>alabama</td>\n",
       "      <td>Germany</td>\n",
       "    </tr>\n",
       "    <tr>\n",
       "      <th>1</th>\n",
       "      <td>alaska</td>\n",
       "      <td>China</td>\n",
       "    </tr>\n",
       "    <tr>\n",
       "      <th>2</th>\n",
       "      <td>arizona</td>\n",
       "      <td>Mexico</td>\n",
       "    </tr>\n",
       "    <tr>\n",
       "      <th>3</th>\n",
       "      <td>arkansas</td>\n",
       "      <td>Germany</td>\n",
       "    </tr>\n",
       "    <tr>\n",
       "      <th>4</th>\n",
       "      <td>california</td>\n",
       "      <td>Germany</td>\n",
       "    </tr>\n",
       "  </tbody>\n",
       "</table>\n",
       "</div>"
      ],
      "text/plain": [
       "  States and territories Most Common Origin\n",
       "0                alabama            Germany\n",
       "1                 alaska              China\n",
       "2                arizona             Mexico\n",
       "3               arkansas            Germany\n",
       "4             california            Germany"
      ]
     },
     "execution_count": 351,
     "metadata": {},
     "output_type": "execute_result"
    }
   ],
   "source": [
    "merged['Most Common Origin'] = merged.drop(columns=['States and territories', 'Total foreign born', 'language']).idxmax(axis=1)\n",
    "most_common_origin = merged[['States and territories', 'Most Common Origin']]\n",
    "most_common_origin['States and territories'] = most_common_origin['States and territories'].str.lower()\n",
    "most_common_origin.head()"
   ]
  },
  {
   "cell_type": "code",
   "execution_count": 352,
   "metadata": {},
   "outputs": [
    {
     "data": {
      "text/html": [
       "<div>\n",
       "<style scoped>\n",
       "    .dataframe tbody tr th:only-of-type {\n",
       "        vertical-align: middle;\n",
       "    }\n",
       "\n",
       "    .dataframe tbody tr th {\n",
       "        vertical-align: top;\n",
       "    }\n",
       "\n",
       "    .dataframe thead th {\n",
       "        text-align: right;\n",
       "    }\n",
       "</style>\n",
       "<table border=\"1\" class=\"dataframe\">\n",
       "  <thead>\n",
       "    <tr style=\"text-align: right;\">\n",
       "      <th></th>\n",
       "      <th>fips</th>\n",
       "      <th>name</th>\n",
       "      <th>state</th>\n",
       "    </tr>\n",
       "  </thead>\n",
       "  <tbody>\n",
       "    <tr>\n",
       "      <th>0</th>\n",
       "      <td>00</td>\n",
       "      <td>united states</td>\n",
       "      <td>NaN</td>\n",
       "    </tr>\n",
       "    <tr>\n",
       "      <th>1</th>\n",
       "      <td>01000</td>\n",
       "      <td>alabama</td>\n",
       "      <td>NaN</td>\n",
       "    </tr>\n",
       "    <tr>\n",
       "      <th>69</th>\n",
       "      <td>02000</td>\n",
       "      <td>alaska</td>\n",
       "      <td>NaN</td>\n",
       "    </tr>\n",
       "    <tr>\n",
       "      <th>99</th>\n",
       "      <td>04000</td>\n",
       "      <td>arizona</td>\n",
       "      <td>NaN</td>\n",
       "    </tr>\n",
       "    <tr>\n",
       "      <th>115</th>\n",
       "      <td>05000</td>\n",
       "      <td>arkansas</td>\n",
       "      <td>NaN</td>\n",
       "    </tr>\n",
       "  </tbody>\n",
       "</table>\n",
       "</div>"
      ],
      "text/plain": [
       "      fips           name state\n",
       "0       00  united states   NaN\n",
       "1    01000        alabama   NaN\n",
       "69   02000         alaska   NaN\n",
       "99   04000        arizona   NaN\n",
       "115  05000       arkansas   NaN"
      ]
     },
     "execution_count": 352,
     "metadata": {},
     "output_type": "execute_result"
    }
   ],
   "source": [
    "fips = pd.read_csv('https://raw.githubusercontent.com/kjhealy/fips-codes/master/state_and_county_fips_master.csv', dtype={'fips': str})\n",
    "fips = fips[fips['state'].isna()]\n",
    "fips['fips'] = '0' + fips['fips']\n",
    "fips['name'] = fips['name'].str.lower()\n",
    "fips.head()"
   ]
  },
  {
   "cell_type": "code",
   "execution_count": 353,
   "metadata": {},
   "outputs": [],
   "source": [
    "most_common_fips = most_common_origin.merge(\n",
    "    fips, left_on=\"States and territories\", right_on=\"name\"\n",
    ").drop(columns=[\"name\", \"state\"])\n"
   ]
  },
  {
   "cell_type": "markdown",
   "metadata": {},
   "source": [
    "### Plotly Map"
   ]
  },
  {
   "cell_type": "code",
   "execution_count": 354,
   "metadata": {},
   "outputs": [],
   "source": [
    "states = [ 'AK', 'AL', 'AR', 'AZ', 'CA', 'CO', 'CT', 'DE', 'FL', 'GA',\n",
    "           'HI', 'IA', 'ID', 'IL', 'IN', 'KS', 'KY', 'LA', 'MA', 'MD', 'ME',\n",
    "           'MI', 'MN', 'MO', 'MS', 'MT', 'NC', 'ND', 'NE', 'NH', 'NJ', 'NM',\n",
    "           'NV', 'NY', 'OH', 'OK', 'OR', 'PA', 'RI', 'SC', 'SD', 'TN', 'TX',\n",
    "           'UT', 'VA', 'VT', 'WA', 'WI', 'WV', 'WY']"
   ]
  },
  {
   "cell_type": "code",
   "execution_count": 365,
   "metadata": {},
   "outputs": [
    {
     "data": {
      "text/html": [
       "<div>                            <div id=\"6b9ca2f2-bb70-46dc-b664-0a9e7ba91310\" class=\"plotly-graph-div\" style=\"height:525px; width:100%;\"></div>            <script type=\"text/javascript\">                require([\"plotly\"], function(Plotly) {                    window.PLOTLYENV=window.PLOTLYENV || {};                                    if (document.getElementById(\"6b9ca2f2-bb70-46dc-b664-0a9e7ba91310\")) {                    Plotly.newPlot(                        \"6b9ca2f2-bb70-46dc-b664-0a9e7ba91310\",                        [{\"colorscale\": [[0.0, \"#AA0DFE\"], [1.0, \"#AA0DFE\"]], \"geo\": \"geo\", \"hovertemplate\": \"Most Common Origin=Germany<br>locations=%{location}<extra></extra>\", \"locationmode\": \"USA-states\", \"locations\": [\"AK\", \"AZ\", \"CA\", \"CO\", \"GA\", \"ID\", \"IL\", \"IN\", \"KS\", \"KY\", \"MD\", \"MN\", \"MO\", \"MS\", \"NC\", \"NH\", \"NM\", \"NV\", \"OH\", \"OK\", \"OR\", \"PA\", \"SC\", \"TN\", \"VT\", \"WI\", \"WV\"], \"name\": \"Germany\", \"showlegend\": true, \"showscale\": false, \"type\": \"choropleth\", \"z\": [1, 1, 1, 1, 1, 1, 1, 1, 1, 1, 1, 1, 1, 1, 1, 1, 1, 1, 1, 1, 1, 1, 1, 1, 1, 1, 1]}, {\"colorscale\": [[0.0, \"#3283FE\"], [1.0, \"#3283FE\"]], \"geo\": \"geo\", \"hovertemplate\": \"Most Common Origin=China<br>locations=%{location}<extra></extra>\", \"locationmode\": \"USA-states\", \"locations\": [\"AL\"], \"name\": \"China\", \"showlegend\": true, \"showscale\": false, \"type\": \"choropleth\", \"z\": [1]}, {\"colorscale\": [[0.0, \"#85660D\"], [1.0, \"#85660D\"]], \"geo\": \"geo\", \"hovertemplate\": \"Most Common Origin=Mexico<br>locations=%{location}<extra></extra>\", \"locationmode\": \"USA-states\", \"locations\": [\"AR\", \"NJ\", \"TX\"], \"name\": \"Mexico\", \"showlegend\": true, \"showscale\": false, \"type\": \"choropleth\", \"z\": [1, 1, 1]}, {\"colorscale\": [[0.0, \"#782AB6\"], [1.0, \"#782AB6\"]], \"geo\": \"geo\", \"hovertemplate\": \"Most Common Origin=Ireland<br>locations=%{location}<extra></extra>\", \"locationmode\": \"USA-states\", \"locations\": [\"CT\", \"DE\", \"ME\", \"ND\", \"RI\"], \"name\": \"Ireland\", \"showlegend\": true, \"showscale\": false, \"type\": \"choropleth\", \"z\": [1, 1, 1, 1, 1]}, {\"colorscale\": [[0.0, \"#565656\"], [1.0, \"#565656\"]], \"geo\": \"geo\", \"hovertemplate\": \"Most Common Origin=Cuba<br>locations=%{location}<extra></extra>\", \"locationmode\": \"USA-states\", \"locations\": [\"FL\"], \"name\": \"Cuba\", \"showlegend\": true, \"showscale\": false, \"type\": \"choropleth\", \"z\": [1]}, {\"colorscale\": [[0.0, \"#1C8356\"], [1.0, \"#1C8356\"]], \"geo\": \"geo\", \"hovertemplate\": \"Most Common Origin=Japan<br>locations=%{location}<extra></extra>\", \"locationmode\": \"USA-states\", \"locations\": [\"HI\"], \"name\": \"Japan\", \"showlegend\": true, \"showscale\": false, \"type\": \"choropleth\", \"z\": [1]}, {\"colorscale\": [[0.0, \"#16FF32\"], [1.0, \"#16FF32\"]], \"geo\": \"geo\", \"hovertemplate\": \"Most Common Origin=England<br>locations=%{location}<extra></extra>\", \"locationmode\": \"USA-states\", \"locations\": [\"IA\", \"UT\", \"WY\"], \"name\": \"England\", \"showlegend\": true, \"showscale\": false, \"type\": \"choropleth\", \"z\": [1, 1, 1]}, {\"colorscale\": [[0.0, \"#F7E1A0\"], [1.0, \"#F7E1A0\"]], \"geo\": \"geo\", \"hovertemplate\": \"Most Common Origin=Italy<br>locations=%{location}<extra></extra>\", \"locationmode\": \"USA-states\", \"locations\": [\"LA\"], \"name\": \"Italy\", \"showlegend\": true, \"showscale\": false, \"type\": \"choropleth\", \"z\": [1]}, {\"colorscale\": [[0.0, \"#E2E2E2\"], [1.0, \"#E2E2E2\"]], \"geo\": \"geo\", \"hovertemplate\": \"Most Common Origin=Canada (English) (includes Newfoundland)<br>locations=%{location}<extra></extra>\", \"locationmode\": \"USA-states\", \"locations\": [\"MA\", \"MI\", \"MT\", \"WA\"], \"name\": \"Canada (English) (includes Newfoundland)\", \"showlegend\": true, \"showscale\": false, \"type\": \"choropleth\", \"z\": [1, 1, 1, 1]}, {\"colorscale\": [[0.0, \"#1CBE4F\"], [1.0, \"#1CBE4F\"]], \"geo\": \"geo\", \"hovertemplate\": \"Most Common Origin=Canada (French) (includes Newfoundland)<br>locations=%{location}<extra></extra>\", \"locationmode\": \"USA-states\", \"locations\": [\"NE\", \"VA\"], \"name\": \"Canada (French) (includes Newfoundland)\", \"showlegend\": true, \"showscale\": false, \"type\": \"choropleth\", \"z\": [1, 1]}, {\"colorscale\": [[0.0, \"#C4451C\"], [1.0, \"#C4451C\"]], \"geo\": \"geo\", \"hovertemplate\": \"Most Common Origin=Norway<br>locations=%{location}<extra></extra>\", \"locationmode\": \"USA-states\", \"locations\": [\"NY\", \"SD\"], \"name\": \"Norway\", \"showlegend\": true, \"showscale\": false, \"type\": \"choropleth\", \"z\": [1, 1]}],                        {\"geo\": {\"center\": {}, \"domain\": {\"x\": [0.0, 1.0], \"y\": [0.0, 1.0]}, \"fitbounds\": \"locations\"}, \"legend\": {\"title\": {\"text\": \"Most Common Origin\"}, \"tracegroupgap\": 0}, \"template\": {\"data\": {\"bar\": [{\"error_x\": {\"color\": \"#2a3f5f\"}, \"error_y\": {\"color\": \"#2a3f5f\"}, \"marker\": {\"line\": {\"color\": \"#E5ECF6\", \"width\": 0.5}}, \"type\": \"bar\"}], \"barpolar\": [{\"marker\": {\"line\": {\"color\": \"#E5ECF6\", \"width\": 0.5}}, \"type\": \"barpolar\"}], \"carpet\": [{\"aaxis\": {\"endlinecolor\": \"#2a3f5f\", \"gridcolor\": \"white\", \"linecolor\": \"white\", \"minorgridcolor\": \"white\", \"startlinecolor\": \"#2a3f5f\"}, \"baxis\": {\"endlinecolor\": \"#2a3f5f\", \"gridcolor\": \"white\", \"linecolor\": \"white\", \"minorgridcolor\": \"white\", \"startlinecolor\": \"#2a3f5f\"}, \"type\": \"carpet\"}], \"choropleth\": [{\"colorbar\": {\"outlinewidth\": 0, \"ticks\": \"\"}, \"type\": \"choropleth\"}], \"contour\": [{\"colorbar\": {\"outlinewidth\": 0, \"ticks\": \"\"}, \"colorscale\": [[0.0, \"#0d0887\"], [0.1111111111111111, \"#46039f\"], [0.2222222222222222, \"#7201a8\"], [0.3333333333333333, \"#9c179e\"], [0.4444444444444444, \"#bd3786\"], [0.5555555555555556, \"#d8576b\"], [0.6666666666666666, \"#ed7953\"], [0.7777777777777778, \"#fb9f3a\"], [0.8888888888888888, \"#fdca26\"], [1.0, \"#f0f921\"]], \"type\": \"contour\"}], \"contourcarpet\": [{\"colorbar\": {\"outlinewidth\": 0, \"ticks\": \"\"}, \"type\": \"contourcarpet\"}], \"heatmap\": [{\"colorbar\": {\"outlinewidth\": 0, \"ticks\": \"\"}, \"colorscale\": [[0.0, \"#0d0887\"], [0.1111111111111111, \"#46039f\"], [0.2222222222222222, \"#7201a8\"], [0.3333333333333333, \"#9c179e\"], [0.4444444444444444, \"#bd3786\"], [0.5555555555555556, \"#d8576b\"], [0.6666666666666666, \"#ed7953\"], [0.7777777777777778, \"#fb9f3a\"], [0.8888888888888888, \"#fdca26\"], [1.0, \"#f0f921\"]], \"type\": \"heatmap\"}], \"heatmapgl\": [{\"colorbar\": {\"outlinewidth\": 0, \"ticks\": \"\"}, \"colorscale\": [[0.0, \"#0d0887\"], [0.1111111111111111, \"#46039f\"], [0.2222222222222222, \"#7201a8\"], [0.3333333333333333, \"#9c179e\"], [0.4444444444444444, \"#bd3786\"], [0.5555555555555556, \"#d8576b\"], [0.6666666666666666, \"#ed7953\"], [0.7777777777777778, \"#fb9f3a\"], [0.8888888888888888, \"#fdca26\"], [1.0, \"#f0f921\"]], \"type\": \"heatmapgl\"}], \"histogram\": [{\"marker\": {\"colorbar\": {\"outlinewidth\": 0, \"ticks\": \"\"}}, \"type\": \"histogram\"}], \"histogram2d\": [{\"colorbar\": {\"outlinewidth\": 0, \"ticks\": \"\"}, \"colorscale\": [[0.0, \"#0d0887\"], [0.1111111111111111, \"#46039f\"], [0.2222222222222222, \"#7201a8\"], [0.3333333333333333, \"#9c179e\"], [0.4444444444444444, \"#bd3786\"], [0.5555555555555556, \"#d8576b\"], [0.6666666666666666, \"#ed7953\"], [0.7777777777777778, \"#fb9f3a\"], [0.8888888888888888, \"#fdca26\"], [1.0, \"#f0f921\"]], \"type\": \"histogram2d\"}], \"histogram2dcontour\": [{\"colorbar\": {\"outlinewidth\": 0, \"ticks\": \"\"}, \"colorscale\": [[0.0, \"#0d0887\"], [0.1111111111111111, \"#46039f\"], [0.2222222222222222, \"#7201a8\"], [0.3333333333333333, \"#9c179e\"], [0.4444444444444444, \"#bd3786\"], [0.5555555555555556, \"#d8576b\"], [0.6666666666666666, \"#ed7953\"], [0.7777777777777778, \"#fb9f3a\"], [0.8888888888888888, \"#fdca26\"], [1.0, \"#f0f921\"]], \"type\": \"histogram2dcontour\"}], \"mesh3d\": [{\"colorbar\": {\"outlinewidth\": 0, \"ticks\": \"\"}, \"type\": \"mesh3d\"}], \"parcoords\": [{\"line\": {\"colorbar\": {\"outlinewidth\": 0, \"ticks\": \"\"}}, \"type\": \"parcoords\"}], \"pie\": [{\"automargin\": true, \"type\": \"pie\"}], \"scatter\": [{\"marker\": {\"colorbar\": {\"outlinewidth\": 0, \"ticks\": \"\"}}, \"type\": \"scatter\"}], \"scatter3d\": [{\"line\": {\"colorbar\": {\"outlinewidth\": 0, \"ticks\": \"\"}}, \"marker\": {\"colorbar\": {\"outlinewidth\": 0, \"ticks\": \"\"}}, \"type\": \"scatter3d\"}], \"scattercarpet\": [{\"marker\": {\"colorbar\": {\"outlinewidth\": 0, \"ticks\": \"\"}}, \"type\": \"scattercarpet\"}], \"scattergeo\": [{\"marker\": {\"colorbar\": {\"outlinewidth\": 0, \"ticks\": \"\"}}, \"type\": \"scattergeo\"}], \"scattergl\": [{\"marker\": {\"colorbar\": {\"outlinewidth\": 0, \"ticks\": \"\"}}, \"type\": \"scattergl\"}], \"scattermapbox\": [{\"marker\": {\"colorbar\": {\"outlinewidth\": 0, \"ticks\": \"\"}}, \"type\": \"scattermapbox\"}], \"scatterpolar\": [{\"marker\": {\"colorbar\": {\"outlinewidth\": 0, \"ticks\": \"\"}}, \"type\": \"scatterpolar\"}], \"scatterpolargl\": [{\"marker\": {\"colorbar\": {\"outlinewidth\": 0, \"ticks\": \"\"}}, \"type\": \"scatterpolargl\"}], \"scatterternary\": [{\"marker\": {\"colorbar\": {\"outlinewidth\": 0, \"ticks\": \"\"}}, \"type\": \"scatterternary\"}], \"surface\": [{\"colorbar\": {\"outlinewidth\": 0, \"ticks\": \"\"}, \"colorscale\": [[0.0, \"#0d0887\"], [0.1111111111111111, \"#46039f\"], [0.2222222222222222, \"#7201a8\"], [0.3333333333333333, \"#9c179e\"], [0.4444444444444444, \"#bd3786\"], [0.5555555555555556, \"#d8576b\"], [0.6666666666666666, \"#ed7953\"], [0.7777777777777778, \"#fb9f3a\"], [0.8888888888888888, \"#fdca26\"], [1.0, \"#f0f921\"]], \"type\": \"surface\"}], \"table\": [{\"cells\": {\"fill\": {\"color\": \"#EBF0F8\"}, \"line\": {\"color\": \"white\"}}, \"header\": {\"fill\": {\"color\": \"#C8D4E3\"}, \"line\": {\"color\": \"white\"}}, \"type\": \"table\"}]}, \"layout\": {\"annotationdefaults\": {\"arrowcolor\": \"#2a3f5f\", \"arrowhead\": 0, \"arrowwidth\": 1}, \"autotypenumbers\": \"strict\", \"coloraxis\": {\"colorbar\": {\"outlinewidth\": 0, \"ticks\": \"\"}}, \"colorscale\": {\"diverging\": [[0, \"#8e0152\"], [0.1, \"#c51b7d\"], [0.2, \"#de77ae\"], [0.3, \"#f1b6da\"], [0.4, \"#fde0ef\"], [0.5, \"#f7f7f7\"], [0.6, \"#e6f5d0\"], [0.7, \"#b8e186\"], [0.8, \"#7fbc41\"], [0.9, \"#4d9221\"], [1, \"#276419\"]], \"sequential\": [[0.0, \"#0d0887\"], [0.1111111111111111, \"#46039f\"], [0.2222222222222222, \"#7201a8\"], [0.3333333333333333, \"#9c179e\"], [0.4444444444444444, \"#bd3786\"], [0.5555555555555556, \"#d8576b\"], [0.6666666666666666, \"#ed7953\"], [0.7777777777777778, \"#fb9f3a\"], [0.8888888888888888, \"#fdca26\"], [1.0, \"#f0f921\"]], \"sequentialminus\": [[0.0, \"#0d0887\"], [0.1111111111111111, \"#46039f\"], [0.2222222222222222, \"#7201a8\"], [0.3333333333333333, \"#9c179e\"], [0.4444444444444444, \"#bd3786\"], [0.5555555555555556, \"#d8576b\"], [0.6666666666666666, \"#ed7953\"], [0.7777777777777778, \"#fb9f3a\"], [0.8888888888888888, \"#fdca26\"], [1.0, \"#f0f921\"]]}, \"colorway\": [\"#636efa\", \"#EF553B\", \"#00cc96\", \"#ab63fa\", \"#FFA15A\", \"#19d3f3\", \"#FF6692\", \"#B6E880\", \"#FF97FF\", \"#FECB52\"], \"font\": {\"color\": \"#2a3f5f\"}, \"geo\": {\"bgcolor\": \"white\", \"lakecolor\": \"white\", \"landcolor\": \"#E5ECF6\", \"showlakes\": true, \"showland\": true, \"subunitcolor\": \"white\"}, \"hoverlabel\": {\"align\": \"left\"}, \"hovermode\": \"closest\", \"mapbox\": {\"style\": \"light\"}, \"paper_bgcolor\": \"white\", \"plot_bgcolor\": \"#E5ECF6\", \"polar\": {\"angularaxis\": {\"gridcolor\": \"white\", \"linecolor\": \"white\", \"ticks\": \"\"}, \"bgcolor\": \"#E5ECF6\", \"radialaxis\": {\"gridcolor\": \"white\", \"linecolor\": \"white\", \"ticks\": \"\"}}, \"scene\": {\"xaxis\": {\"backgroundcolor\": \"#E5ECF6\", \"gridcolor\": \"white\", \"gridwidth\": 2, \"linecolor\": \"white\", \"showbackground\": true, \"ticks\": \"\", \"zerolinecolor\": \"white\"}, \"yaxis\": {\"backgroundcolor\": \"#E5ECF6\", \"gridcolor\": \"white\", \"gridwidth\": 2, \"linecolor\": \"white\", \"showbackground\": true, \"ticks\": \"\", \"zerolinecolor\": \"white\"}, \"zaxis\": {\"backgroundcolor\": \"#E5ECF6\", \"gridcolor\": \"white\", \"gridwidth\": 2, \"linecolor\": \"white\", \"showbackground\": true, \"ticks\": \"\", \"zerolinecolor\": \"white\"}}, \"shapedefaults\": {\"line\": {\"color\": \"#2a3f5f\"}}, \"ternary\": {\"aaxis\": {\"gridcolor\": \"white\", \"linecolor\": \"white\", \"ticks\": \"\"}, \"baxis\": {\"gridcolor\": \"white\", \"linecolor\": \"white\", \"ticks\": \"\"}, \"bgcolor\": \"#E5ECF6\", \"caxis\": {\"gridcolor\": \"white\", \"linecolor\": \"white\", \"ticks\": \"\"}}, \"title\": {\"x\": 0.05}, \"xaxis\": {\"automargin\": true, \"gridcolor\": \"white\", \"linecolor\": \"white\", \"ticks\": \"\", \"title\": {\"standoff\": 15}, \"zerolinecolor\": \"white\", \"zerolinewidth\": 2}, \"yaxis\": {\"automargin\": true, \"gridcolor\": \"white\", \"linecolor\": \"white\", \"ticks\": \"\", \"title\": {\"standoff\": 15}, \"zerolinecolor\": \"white\", \"zerolinewidth\": 2}}}, \"title\": {\"text\": \"Most Common Origin of Foreign Born Persons by State, 1900 Census\"}},                        {\"responsive\": true}                    ).then(function(){\n",
       "                            \n",
       "var gd = document.getElementById('6b9ca2f2-bb70-46dc-b664-0a9e7ba91310');\n",
       "var x = new MutationObserver(function (mutations, observer) {{\n",
       "        var display = window.getComputedStyle(gd).display;\n",
       "        if (!display || display === 'none') {{\n",
       "            console.log([gd, 'removed!']);\n",
       "            Plotly.purge(gd);\n",
       "            observer.disconnect();\n",
       "        }}\n",
       "}});\n",
       "\n",
       "// Listen for the removal of the full notebook cells\n",
       "var notebookContainer = gd.closest('#notebook-container');\n",
       "if (notebookContainer) {{\n",
       "    x.observe(notebookContainer, {childList: true});\n",
       "}}\n",
       "\n",
       "// Listen for the clearing of the current output cell\n",
       "var outputEl = gd.closest('.output');\n",
       "if (outputEl) {{\n",
       "    x.observe(outputEl, {childList: true});\n",
       "}}\n",
       "\n",
       "                        })                };                });            </script>        </div>"
      ]
     },
     "metadata": {},
     "output_type": "display_data"
    }
   ],
   "source": [
    "# With help from project 4\n",
    "\n",
    "fig = px.choropleth(\n",
    "    most_common_fips,\n",
    "    locations=states,\n",
    "    locationmode='USA-states',\n",
    "    color='Most Common Origin',\n",
    "    color_discrete_sequence=px.colors.qualitative.Alphabet,\n",
    "    fitbounds=\"locations\",\n",
    "    title='Most Common Origin of Foreign Born Persons by State, 1900 Census',\n",
    ")\n",
    "fig.show()\n",
    "fig.write_image(\"./images/most-common-origins.png\")"
   ]
  },
  {
   "cell_type": "markdown",
   "metadata": {},
   "source": [
    "## Models"
   ]
  },
  {
   "cell_type": "markdown",
   "metadata": {},
   "source": [
    "### Baseline"
   ]
  },
  {
   "cell_type": "code",
   "execution_count": 356,
   "metadata": {},
   "outputs": [
    {
     "data": {
      "text/plain": [
       "Chinese                   0.326923\n",
       "Other                     0.134615\n",
       "French                    0.096154\n",
       "Vietnamese                0.096154\n",
       "German                    0.076923\n",
       "Portuguese                0.057692\n",
       "Other Native Languages    0.057692\n",
       "Navajo                    0.038462\n",
       "Ilocano                   0.038462\n",
       "Pennsylvania Dutch        0.038462\n",
       "Arabic                    0.038462\n",
       "Name: language, dtype: float64"
      ]
     },
     "execution_count": 356,
     "metadata": {},
     "output_type": "execute_result"
    }
   ],
   "source": [
    "y.value_counts(normalize=True)"
   ]
  },
  {
   "cell_type": "markdown",
   "metadata": {},
   "source": [
    "### Test-Train Split"
   ]
  },
  {
   "cell_type": "code",
   "execution_count": 357,
   "metadata": {},
   "outputs": [],
   "source": [
    "X_train, X_test, y_train, y_test = train_test_split(X, y, stratify=y, random_state=13)"
   ]
  },
  {
   "cell_type": "markdown",
   "metadata": {},
   "source": [
    "### Model fitting and scoring function"
   ]
  },
  {
   "cell_type": "code",
   "execution_count": 358,
   "metadata": {},
   "outputs": [],
   "source": [
    "def model_fit_score(classifier, X=X, X_train=X_train, X_test=X_test, y_train=y_train, y_test=y_test):\n",
    "    model = classifier\n",
    "    model.fit(X_train, y_train)\n",
    "    train_score = model.score(X_train, y_train)\n",
    "    test_score = model.score(X_test, y_test)\n",
    "\n",
    "    print(f'Training Accuracy: {round(train_score*100, 2)}%')\n",
    "    print(f'Testing Accuracy: {round(test_score*100, 2)}%')\n",
    "    \n",
    "    matrix = ConfusionMatrixDisplay.from_estimator(model, X_test, y_test, cmap='Greens')\n",
    "    plt.xticks(rotation=90)\n",
    "\n",
    "    return matrix"
   ]
  },
  {
   "cell_type": "markdown",
   "metadata": {},
   "source": [
    "### Logistic Regression"
   ]
  },
  {
   "cell_type": "code",
   "execution_count": 359,
   "metadata": {},
   "outputs": [
    {
     "name": "stdout",
     "output_type": "stream",
     "text": [
      "Training Accuracy: 33.33%\n",
      "Testing Accuracy: 30.77%\n"
     ]
    },
    {
     "data": {
      "image/png": "[encoded data removed]",
      "text/plain": [
       "<Figure size 432x288 with 2 Axes>"
      ]
     },
     "metadata": {
      "needs_background": "light"
     },
     "output_type": "display_data"
    }
   ],
   "source": [
    "model_fit_score(LogisticRegression());"
   ]
  },
  {
   "cell_type": "markdown",
   "metadata": {},
   "source": [
    "### Decision Tree"
   ]
  },
  {
   "cell_type": "code",
   "execution_count": 360,
   "metadata": {},
   "outputs": [
    {
     "name": "stdout",
     "output_type": "stream",
     "text": [
      "Training Accuracy: 100.0%\n",
      "Testing Accuracy: 7.69%\n"
     ]
    },
    {
     "data": {
      "image/png": "[encoded data removed]",
      "text/plain": [
       "<Figure size 432x288 with 2 Axes>"
      ]
     },
     "metadata": {
      "needs_background": "light"
     },
     "output_type": "display_data"
    }
   ],
   "source": [
    "model_fit_score(DecisionTreeClassifier());"
   ]
  },
  {
   "cell_type": "markdown",
   "metadata": {},
   "source": [
    "### Random Forest"
   ]
  },
  {
   "cell_type": "code",
   "execution_count": 361,
   "metadata": {},
   "outputs": [
    {
     "name": "stdout",
     "output_type": "stream",
     "text": [
      "Training Accuracy: 100.0%\n",
      "Testing Accuracy: 46.15%\n"
     ]
    },
    {
     "data": {
      "image/png": "[encoded data removed]",
      "text/plain": [
       "<Figure size 432x288 with 2 Axes>"
      ]
     },
     "metadata": {
      "needs_background": "light"
     },
     "output_type": "display_data"
    }
   ],
   "source": [
    "model_fit_score(RandomForestClassifier());"
   ]
  },
  {
   "cell_type": "code",
   "execution_count": 362,
   "metadata": {},
   "outputs": [
    {
     "data": {
      "text/html": [
       "<div>\n",
       "<style scoped>\n",
       "    .dataframe tbody tr th:only-of-type {\n",
       "        vertical-align: middle;\n",
       "    }\n",
       "\n",
       "    .dataframe tbody tr th {\n",
       "        vertical-align: top;\n",
       "    }\n",
       "\n",
       "    .dataframe thead th {\n",
       "        text-align: right;\n",
       "    }\n",
       "</style>\n",
       "<table border=\"1\" class=\"dataframe\">\n",
       "  <thead>\n",
       "    <tr style=\"text-align: right;\">\n",
       "      <th></th>\n",
       "      <th>0</th>\n",
       "    </tr>\n",
       "  </thead>\n",
       "  <tbody>\n",
       "    <tr>\n",
       "      <th>Ireland</th>\n",
       "      <td>0.046241</td>\n",
       "    </tr>\n",
       "    <tr>\n",
       "      <th>Scotland</th>\n",
       "      <td>0.043992</td>\n",
       "    </tr>\n",
       "    <tr>\n",
       "      <th>Luxemburg</th>\n",
       "      <td>0.034949</td>\n",
       "    </tr>\n",
       "    <tr>\n",
       "      <th>Bohemia</th>\n",
       "      <td>0.034094</td>\n",
       "    </tr>\n",
       "    <tr>\n",
       "      <th>Switzerland</th>\n",
       "      <td>0.031934</td>\n",
       "    </tr>\n",
       "    <tr>\n",
       "      <th>Norway</th>\n",
       "      <td>0.031764</td>\n",
       "    </tr>\n",
       "    <tr>\n",
       "      <th>Poland (German)</th>\n",
       "      <td>0.029807</td>\n",
       "    </tr>\n",
       "    <tr>\n",
       "      <th>Canada (French) (includes Newfoundland)</th>\n",
       "      <td>0.027853</td>\n",
       "    </tr>\n",
       "    <tr>\n",
       "      <th>Australia</th>\n",
       "      <td>0.026198</td>\n",
       "    </tr>\n",
       "    <tr>\n",
       "      <th>Germany</th>\n",
       "      <td>0.025602</td>\n",
       "    </tr>\n",
       "  </tbody>\n",
       "</table>\n",
       "</div>"
      ],
      "text/plain": [
       "                                                0\n",
       "Ireland                                  0.046241\n",
       "Scotland                                 0.043992\n",
       "Luxemburg                                0.034949\n",
       "Bohemia                                  0.034094\n",
       "Switzerland                              0.031934\n",
       "Norway                                   0.031764\n",
       "Poland (German)                          0.029807\n",
       "Canada (French) (includes Newfoundland)  0.027853\n",
       "Australia                                0.026198\n",
       "Germany                                  0.025602"
      ]
     },
     "execution_count": 362,
     "metadata": {},
     "output_type": "execute_result"
    }
   ],
   "source": [
    "model = RandomForestClassifier()\n",
    "model.fit(X_train, y_train)\n",
    "pd.DataFrame(model.feature_importances_, X.columns).sort_values(by=0, ascending=False).head(10)"
   ]
  },
  {
   "cell_type": "code",
   "execution_count": null,
   "metadata": {},
   "outputs": [],
   "source": []
  }
 ],
 "metadata": {
  "interpreter": {
   "hash": "f7a0f9bb49171c226bccce8a0987518af550515ba22b4949d7abe766c3680a51"
  },
  "kernelspec": {
   "display_name": "Python 3.9.7 ('base')",
   "language": "python",
   "name": "python3"
  },
  "language_info": {
   "codemirror_mode": {
    "name": "ipython",
    "version": 3
   },
   "file_extension": ".py",
   "mimetype": "text/x-python",
   "name": "python",
   "nbconvert_exporter": "python",
   "pygments_lexer": "ipython3",
   "version": "3.9.7"
  },
  "orig_nbformat": 4
 },
 "nbformat": 4,
 "nbformat_minor": 2
}
